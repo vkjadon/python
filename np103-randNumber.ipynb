{
  "cells": [
    {
      "cell_type": "code",
      "execution_count": 1,
      "metadata": {
        "id": "iiFcsFYFFnvc"
      },
      "outputs": [],
      "source": [
        "import random\n",
        "import numpy as np"
      ]
    },
    {
      "cell_type": "code",
      "source": [
        "#Generate a random float from 0 to 1:\n",
        "x = random.random()\n",
        "print(x)"
      ],
      "metadata": {
        "colab": {
          "base_uri": "https://localhost:8080/"
        },
        "id": "lJOpj0KKW5V-",
        "outputId": "f5174435-3902-49f9-9b34-30e44f853981"
      },
      "execution_count": 15,
      "outputs": [
        {
          "output_type": "stream",
          "name": "stdout",
          "text": [
            "0.7706312880948466\n"
          ]
        }
      ]
    },
    {
      "cell_type": "code",
      "source": [
        "for i in range(10):\n",
        "    X=random.random()\n",
        "    print(X)"
      ],
      "metadata": {
        "id": "FauGh-VZGjXA",
        "colab": {
          "base_uri": "https://localhost:8080/"
        },
        "outputId": "72267918-2789-4e06-cde5-78bc6740e711"
      },
      "execution_count": 31,
      "outputs": [
        {
          "output_type": "stream",
          "name": "stdout",
          "text": [
            "0.8092569275415108\n",
            "0.37154026100813153\n",
            "0.5244040799293647\n",
            "0.4016457777091029\n",
            "0.5754547543143582\n",
            "0.3018287711291432\n",
            "0.49096114866332596\n",
            "0.8614064139322847\n",
            "0.14037286747443567\n",
            "0.8863863836722874\n"
          ]
        }
      ]
    },
    {
      "cell_type": "markdown",
      "source": [
        "Numpy 'random' can use only one parameter with `randint()`, whereas, Python 'randint()' requires two parameters."
      ],
      "metadata": {
        "id": "KMdj5sQ9U1sm"
      }
    },
    {
      "cell_type": "code",
      "execution_count": null,
      "metadata": {
        "id": "XpEySsSJFnve"
      },
      "outputs": [],
      "source": [
        "for i in range(10):\n",
        "    X=random.randint(1,6)\n",
        "    print(X)"
      ]
    },
    {
      "cell_type": "code",
      "execution_count": null,
      "metadata": {
        "id": "mgFsZeeDFnvf"
      },
      "outputs": [],
      "source": [
        "outcomes=['Head','Tail']\n",
        "for i in range(10):\n",
        "    X=random.choice(outcomes)\n",
        "    print(X)"
      ]
    },
    {
      "cell_type": "code",
      "source": [
        "#Generate a random float from 0 to 1:\n",
        "x = np.random.rand()\n",
        "print(x)"
      ],
      "metadata": {
        "colab": {
          "base_uri": "https://localhost:8080/"
        },
        "id": "WdEgDxSCW1a3",
        "outputId": "ab8edf2d-59a9-4d60-e217-d8ac07d8ac7e"
      },
      "execution_count": 16,
      "outputs": [
        {
          "output_type": "stream",
          "name": "stdout",
          "text": [
            "0.40468199482391265\n"
          ]
        }
      ]
    },
    {
      "cell_type": "markdown",
      "metadata": {
        "id": "IKKN0f-bFnvg"
      },
      "source": [
        "Generate a random number between 3 and 7 using random() function.\n",
        "The output of the random() function is the multiplied by range of the number i.e. 7-3=4.\n",
        "This will scale the numbers by 4. Add the first number (3) to shift the numbers between 3 and 7."
      ]
    },
    {
      "cell_type": "code",
      "execution_count": null,
      "metadata": {
        "id": "7cHM6bfBFnvh"
      },
      "outputs": [],
      "source": [
        "# Generate random number between 3 and 7\n",
        "def randomGenerator():\n",
        "    return 4*random.random()+3\n",
        "for i in range(10):\n",
        "    X=randomGenerator()\n",
        "    print(X)"
      ]
    },
    {
      "cell_type": "markdown",
      "metadata": {
        "id": "O_V7TCLAFnvh"
      },
      "source": [
        "We can also use the uniform() function to generate uniform random numbers."
      ]
    },
    {
      "cell_type": "code",
      "execution_count": null,
      "metadata": {
        "id": "ftHawmXTFnvi"
      },
      "outputs": [],
      "source": [
        "for i in range(10):\n",
        "    X=random.uniform(3,7)\n",
        "    print(X)"
      ]
    },
    {
      "cell_type": "markdown",
      "metadata": {
        "id": "1bfM7aMBFnvi"
      },
      "source": [
        "Use Normal Distribution to generate the random numbers which satisfy the Gaussian distribution. Any Gaussian distribution is described by its mean and variance.  \n",
        "\n",
        "Numpy module has no attribute 'normalvariate'"
      ]
    },
    {
      "cell_type": "code",
      "execution_count": null,
      "metadata": {
        "id": "4LzSC1ZWFnvi"
      },
      "outputs": [],
      "source": [
        "for i in range(10):\n",
        "    X=random.normalvariate(0, 0.2)\n",
        "    print(X)"
      ]
    },
    {
      "cell_type": "markdown",
      "source": [
        "Consider random arrays of shape a(4,3) and b(3,2). np.dot(a, b) has shape equal to number of rows of a, number of columns of b\n",
        "\n",
        "In numpy the * operator indicates element-wise multiplication and is different from np.dot.\n",
        "\n",
        "Dot Product is also known as inner product"
      ],
      "metadata": {
        "id": "vsoOBKbbGZQG"
      }
    },
    {
      "cell_type": "code",
      "source": [
        "a=np.random.randn(4,3)\n",
        "#a=np.random.randn(3,2)\n",
        "b=np.random.randn(3,2)\n",
        "c=a*b\n",
        "print(c)"
      ],
      "metadata": {
        "id": "lm8OoujysISW"
      },
      "execution_count": null,
      "outputs": []
    },
    {
      "cell_type": "code",
      "source": [
        "#Generate a random integer from 0 to 100:\n",
        "x = np.random.randint(100)\n",
        "print(x)"
      ],
      "metadata": {
        "id": "FWZ883utG-Z7",
        "outputId": "041d5cc5-3322-43ac-9bd0-f6680e6375d7",
        "colab": {
          "base_uri": "https://localhost:8080/"
        }
      },
      "execution_count": 9,
      "outputs": [
        {
          "output_type": "stream",
          "name": "stdout",
          "text": [
            "2\n"
          ]
        }
      ]
    },
    {
      "cell_type": "code",
      "source": [
        "#Generate a random integer from 0 to 100:\n",
        "x = random.randint(50,100)\n",
        "print(x)"
      ],
      "metadata": {
        "id": "ah5YFPfgGcxL",
        "outputId": "9cde690f-64ea-4451-94e4-f630cd6a7882",
        "colab": {
          "base_uri": "https://localhost:8080/"
        }
      },
      "execution_count": 11,
      "outputs": [
        {
          "output_type": "stream",
          "name": "stdout",
          "text": [
            "67\n"
          ]
        }
      ]
    },
    {
      "cell_type": "code",
      "source": [
        "x=np.random.randint(10, size=(5,4))\n",
        "print(x)"
      ],
      "metadata": {
        "id": "FkjckLoQHDMr"
      },
      "execution_count": null,
      "outputs": []
    },
    {
      "cell_type": "code",
      "source": [
        "x = np.random.rand(3, 5)\n",
        "print(x)"
      ],
      "metadata": {
        "id": "VV5tPw-zHGPV"
      },
      "execution_count": null,
      "outputs": []
    },
    {
      "cell_type": "code",
      "source": [
        "x = np.random.normal(size=(2, 3))\n",
        "print(x)"
      ],
      "metadata": {
        "id": "EoYn7YLcHJHM",
        "outputId": "900a7a10-ede0-4bbc-8d83-896a4a9ec777",
        "colab": {
          "base_uri": "https://localhost:8080/"
        }
      },
      "execution_count": 34,
      "outputs": [
        {
          "output_type": "stream",
          "name": "stdout",
          "text": [
            "[[ 0.8613111   1.91697347  0.61204313]\n",
            " [-1.5072161  -0.78361102 -1.79141662]]\n"
          ]
        }
      ]
    },
    {
      "cell_type": "code",
      "source": [
        "x = np.random.normal(loc=1, scale=2, size=(2, 3))\n",
        "\n",
        "print(x)"
      ],
      "metadata": {
        "id": "aU0JFVrwHMyb"
      },
      "execution_count": null,
      "outputs": []
    },
    {
      "cell_type": "code",
      "source": [
        "import matplotlib.pyplot as plt\n",
        "import seaborn as sns\n",
        "\n",
        "sns.distplot(np.random.normal(size=1000), hist=False)\n",
        "\n",
        "plt.show()"
      ],
      "metadata": {
        "id": "_GaGOmBJHQoi"
      },
      "execution_count": null,
      "outputs": []
    },
    {
      "cell_type": "code",
      "source": [
        "sns.distplot(np.random.normal(loc=50, scale=5, size=1000), hist=False, label='normal')\n",
        "sns.distplot(np.random.binomial(n=100, p=0.5, size=1000), hist=False, label='binomial')\n",
        "\n",
        "plt.show()"
      ],
      "metadata": {
        "id": "hPBR73zCHUNN"
      },
      "execution_count": null,
      "outputs": []
    }
  ],
  "metadata": {
    "kernelspec": {
      "display_name": "Python 3",
      "language": "python",
      "name": "python3"
    },
    "language_info": {
      "codemirror_mode": {
        "name": "ipython",
        "version": 3
      },
      "file_extension": ".py",
      "mimetype": "text/x-python",
      "name": "python",
      "nbconvert_exporter": "python",
      "pygments_lexer": "ipython3",
      "version": "3.7.9"
    },
    "colab": {
      "provenance": []
    }
  },
  "nbformat": 4,
  "nbformat_minor": 0
}
{
  "cells": [
    {
      "cell_type": "markdown",
      "metadata": {
        "id": "view-in-github",
        "colab_type": "text"
      },
      "source": [
        "<a href=\"https://colab.research.google.com/github/vkjadon/python/blob/main/linear_regression.ipynb\" target=\"_parent\"><img src=\"https://colab.research.google.com/assets/colab-badge.svg\" alt=\"Open In Colab\"/></a>"
      ]
    },
    {
      "cell_type": "markdown",
      "source": [
        "##Test Methods"
      ],
      "metadata": {
        "id": "9-d12qVEaUE2"
      }
    },
    {
      "cell_type": "code",
      "execution_count": 73,
      "metadata": {
        "id": "pEKbPxqbR9yi"
      },
      "outputs": [],
      "source": [
        "def test_datatype(input,expected):\n",
        "    try:\n",
        "        assert isinstance(input, expected)\n",
        "        print(\"Datatype Test Case Passed\")\n",
        "    except:\n",
        "        print(\"X should be a Numpy Array\")\n",
        "\n",
        "def test_shape(input, expected):\n",
        "    try:\n",
        "        assert input.shape == expected\n",
        "        print(\"Shape Test Case Passed\")\n",
        "    except:\n",
        "        print(f\"Check the Shape!!\")\n",
        "        print(f\"The shape should be ({expected[0]},{expected[1]})\")\n",
        "\n",
        "def test_linear(target):\n",
        "    X = np.array([[1.0],[1.5]])\n",
        "    w = np.array([[2.0], [1.0]])\n",
        "    b = -0.5\n",
        "\n",
        "    pred = target(X, w, b)\n",
        "\n",
        "    assert type(pred) == np.ndarray, f\"Wrong type for pred. {type(pred)} != np.ndarray\"\n",
        "    assert pred.shape == (1, X.shape[1]), f\"Wrong shape for pred. {pred.shape} != {(1, X.shape[1])}\"\n",
        "    assert np.allclose(pred, [[3.0]]), f\"Wrong values for pred. {pred} != [[3.0]]\"\n",
        "\n",
        "    print('\\033[92mAll tests passed!')"
      ]
    },
    {
      "cell_type": "markdown",
      "source": [
        "## Import Section"
      ],
      "metadata": {
        "id": "IrDgem_kafJr"
      }
    },
    {
      "cell_type": "code",
      "execution_count": 74,
      "metadata": {
        "id": "ucGWGlN9vhSs"
      },
      "outputs": [],
      "source": [
        "# Import the NumPy library\n",
        "import numpy as np\n",
        "import matplotlib.pyplot as plt"
      ]
    },
    {
      "cell_type": "markdown",
      "metadata": {
        "id": "fsUsTZWvR9yg"
      },
      "source": [
        "## Input Data\n",
        "\n"
      ]
    },
    {
      "cell_type": "markdown",
      "source": [
        "| Size      | Bedrooms | Price (L) |\n",
        "| :---:     | :----:   |   :---:   |\n",
        "| 100       | 1        | 20        |\n",
        "| 150       | 2        | 28        |\n",
        "| 200       | 3        | 39        |\n",
        "| 250       | 4        | 51        |\n",
        "| 500       | 4        | 80        |"
      ],
      "metadata": {
        "id": "0oLrVdmQI97T"
      }
    },
    {
      "cell_type": "markdown",
      "metadata": {
        "id": "Bd6CHOqOR9yh"
      },
      "source": [
        "### Features and Training Examples"
      ]
    },
    {
      "cell_type": "markdown",
      "source": [
        "$m=5; nx=2$"
      ],
      "metadata": {
        "id": "PFUYqtutgCPX"
      }
    },
    {
      "cell_type": "code",
      "execution_count": 75,
      "metadata": {
        "id": "J-3vwUCFR9yh"
      },
      "outputs": [],
      "source": [
        "nx=2; m=5"
      ]
    },
    {
      "cell_type": "markdown",
      "source": [
        "### Features for $3^{rd}$ training example:"
      ],
      "metadata": {
        "id": "Mfq-kuDYZQ18"
      }
    },
    {
      "cell_type": "markdown",
      "source": [
        "$x^{(3)}_1=200; x^{(3)}_2=3$"
      ],
      "metadata": {
        "id": "1skUXVUuZnqq"
      }
    },
    {
      "cell_type": "markdown",
      "metadata": {
        "id": "kajlsZhMR9yh"
      },
      "source": [
        "### Features vector for $2^{nd}$ training example:\n"
      ]
    },
    {
      "cell_type": "markdown",
      "source": [
        "$\\mathbf{x}^{(2)} =\\begin{pmatrix}\n",
        "  150 \\\\ 2\n",
        " \\end{pmatrix} $"
      ],
      "metadata": {
        "id": "SiwuQV8dZrAr"
      }
    },
    {
      "cell_type": "markdown",
      "source": [
        "### Feature vector of the problem dataset:"
      ],
      "metadata": {
        "id": "zREA2F4YZVkI"
      }
    },
    {
      "cell_type": "markdown",
      "source": [
        "$ \\mathbf{X} = \\begin{pmatrix}\n",
        "\\mathbf{x}^{(1)} & \\mathbf{x}^{(2)} & \\cdots & \\mathbf{x}^{(5)}\n",
        "\\end{pmatrix}$"
      ],
      "metadata": {
        "id": "kW6L7piLZvX1"
      }
    },
    {
      "cell_type": "markdown",
      "source": [
        "$ \\mathbf{X} = \\begin{pmatrix}\n",
        "100 & 150 & 200 & 250 & 500 \\\\ 1 & 2 & 3 & 4 & 4\n",
        "\\end{pmatrix}$"
      ],
      "metadata": {
        "id": "yfLZ9zsAZbjd"
      }
    },
    {
      "cell_type": "markdown",
      "metadata": {
        "id": "D_BPwguER9yj"
      },
      "source": [
        "### Output vector of the problem dataset:"
      ]
    },
    {
      "cell_type": "markdown",
      "source": [
        "$ \\mathbf{y} = \\begin{pmatrix}\n",
        "\\mathbf{y}^{(1)} & \\mathbf{y}^{(2)} & \\cdots & \\mathbf{y}^{(5)}\n",
        "\\end{pmatrix}$"
      ],
      "metadata": {
        "id": "1JL_igS2f2-0"
      }
    },
    {
      "cell_type": "markdown",
      "source": [
        "##Implimentation"
      ],
      "metadata": {
        "id": "gXkM_GWkZ3rF"
      }
    },
    {
      "cell_type": "code",
      "execution_count": 76,
      "metadata": {
        "id": "ihK-4TTiR9yh"
      },
      "outputs": [],
      "source": [
        "x1=[100,1]\n",
        "x2=[150,2]\n",
        "x3=[200,3]\n",
        "x4=[250,4]\n",
        "x5=[500,4]"
      ]
    },
    {
      "cell_type": "code",
      "execution_count": 77,
      "metadata": {
        "id": "4AkGJevpR9yi"
      },
      "outputs": [],
      "source": [
        "# Create Feature Matrix\n",
        "# X=(x1, x2, ....)\n",
        "X=np.array([x1, x2, x3, x4, x5]).T\n",
        "# print(X, X.shape, type(X), \"\\n\", X[1][4])"
      ]
    },
    {
      "cell_type": "code",
      "execution_count": 78,
      "metadata": {
        "id": "YvwX3a-5R9yi",
        "outputId": "45805285-e004-4413-c5fa-9e56b055bb17",
        "colab": {
          "base_uri": "https://localhost:8080/"
        }
      },
      "outputs": [
        {
          "output_type": "stream",
          "name": "stdout",
          "text": [
            "Datatype Test Case Passed\n",
            "Shape Test Case Passed\n"
          ]
        }
      ],
      "source": [
        "expected=np.ndarray\n",
        "test_datatype(X,expected)\n",
        "# expected=np.arange(10).reshape(nx,m).shape\n",
        "expected=(2,5)\n",
        "test_shape(X,expected)"
      ]
    },
    {
      "cell_type": "code",
      "execution_count": 79,
      "metadata": {
        "id": "KIE75JmeR9yj"
      },
      "outputs": [],
      "source": [
        "y1=[20]\n",
        "y2=[28]\n",
        "y3=[39]\n",
        "y4=[51]\n",
        "y5=[80]"
      ]
    },
    {
      "cell_type": "code",
      "execution_count": 80,
      "metadata": {
        "id": "rdHsCAoZR9yj"
      },
      "outputs": [],
      "source": [
        "# Create Feature Matrix\n",
        "#y=(y1, y2, ...)\n",
        "y=np.array([y1, y2, y3, y4, y5]).T"
      ]
    },
    {
      "cell_type": "code",
      "execution_count": 81,
      "metadata": {
        "id": "mDDNlUC7R9yj",
        "outputId": "83c2f490-1110-4fac-bd20-c199a1bf90b9",
        "colab": {
          "base_uri": "https://localhost:8080/"
        }
      },
      "outputs": [
        {
          "output_type": "stream",
          "name": "stdout",
          "text": [
            "Shape Test Case Passed\n"
          ]
        }
      ],
      "source": [
        "expected=(1,5)\n",
        "test_shape(y,expected)"
      ]
    },
    {
      "cell_type": "code",
      "execution_count": 82,
      "metadata": {
        "id": "U00dCXmsR9yk"
      },
      "outputs": [],
      "source": [
        "#Initialize Weights and Biases\n",
        "# Initialize with any random number between 0-1\n",
        "#The desired shape - w(nx,1); b(1,1)\n",
        "w=np.random.rand(nx).reshape(nx,1)\n",
        "b=np.random.rand(1).reshape(1,1)"
      ]
    },
    {
      "cell_type": "code",
      "source": [
        "expected=(nx,1)\n",
        "test_shape(w,expected)"
      ],
      "metadata": {
        "id": "YMnrloKLSlXO",
        "outputId": "c6498687-a4ca-4d86-acfa-60041c75502e",
        "colab": {
          "base_uri": "https://localhost:8080/"
        }
      },
      "execution_count": 83,
      "outputs": [
        {
          "output_type": "stream",
          "name": "stdout",
          "text": [
            "Shape Test Case Passed\n"
          ]
        }
      ]
    },
    {
      "cell_type": "code",
      "source": [
        "expected=(1,1)\n",
        "test_shape(b,expected)"
      ],
      "metadata": {
        "id": "arSxQUlGTL67",
        "outputId": "d59798aa-d24d-49b7-f575-baae9832a113",
        "colab": {
          "base_uri": "https://localhost:8080/"
        }
      },
      "execution_count": 84,
      "outputs": [
        {
          "output_type": "stream",
          "name": "stdout",
          "text": [
            "Shape Test Case Passed\n"
          ]
        }
      ]
    },
    {
      "cell_type": "markdown",
      "source": [
        "### Normalization"
      ],
      "metadata": {
        "id": "SYrRkVrfbLQs"
      }
    },
    {
      "cell_type": "markdown",
      "source": [
        "$$ \\bar{\\bf{X}}= \\frac{\\bf{X}}{x_{max}}$$"
      ],
      "metadata": {
        "id": "vTfi7-gdgVke"
      }
    },
    {
      "cell_type": "code",
      "source": [
        "print(X)\n",
        "#np.max(X, axis=1)\n",
        "np.max(X, axis=1, keepdims=True)"
      ],
      "metadata": {
        "id": "b_hCcxfZbOpU",
        "outputId": "8465f320-ec86-4e3f-99ba-61132ecc2ac7",
        "colab": {
          "base_uri": "https://localhost:8080/"
        }
      },
      "execution_count": 85,
      "outputs": [
        {
          "output_type": "stream",
          "name": "stdout",
          "text": [
            "[[100 150 200 250 500]\n",
            " [  1   2   3   4   4]]\n"
          ]
        },
        {
          "output_type": "execute_result",
          "data": {
            "text/plain": [
              "array([[500],\n",
              "       [  4]])"
            ]
          },
          "metadata": {},
          "execution_count": 85
        }
      ]
    },
    {
      "cell_type": "code",
      "source": [
        "#X_norm=X/max(X)\n",
        "X_norm=X/np.max(X, axis=1, keepdims=True)\n",
        "print(X_norm)"
      ],
      "metadata": {
        "colab": {
          "base_uri": "https://localhost:8080/"
        },
        "id": "RURlPnF88nHV",
        "outputId": "62ef66d3-d601-4cf7-8755-350ab0bdb0b6"
      },
      "execution_count": 86,
      "outputs": [
        {
          "output_type": "stream",
          "name": "stdout",
          "text": [
            "[[0.2  0.3  0.4  0.5  1.  ]\n",
            " [0.25 0.5  0.75 1.   1.  ]]\n"
          ]
        }
      ]
    },
    {
      "cell_type": "markdown",
      "source": [
        "## Functions"
      ],
      "metadata": {
        "id": "0ZKlgF5MY6II"
      }
    },
    {
      "cell_type": "markdown",
      "source": [
        "### Linear Function"
      ],
      "metadata": {
        "id": "giUorCrecrFG"
      }
    },
    {
      "cell_type": "markdown",
      "source": [
        "The linear model in vectorize form is\n",
        "\n",
        "$\\hat{\\mathbf{y}} = \\mathbf{w^T X+b}$"
      ],
      "metadata": {
        "id": "_O0zmsO8cjvI"
      }
    },
    {
      "cell_type": "code",
      "source": [
        "def linear(X,w,b):\n",
        "  return np.dot(w.T,X)+b"
      ],
      "metadata": {
        "id": "ImGhvhmbT4vt"
      },
      "execution_count": 87,
      "outputs": []
    },
    {
      "cell_type": "code",
      "source": [
        "# y=linear(np.array([[1.0], [1.5]]), np.array([[2.0], [1.0]]), -0.5)\n",
        "# y=linear(np.array([[1., 1.5], [2, 1]]), np.array([[0.3], [0.5]]), -0.5)\n",
        "# print(y)\n",
        "\n",
        "test_linear(linear)"
      ],
      "metadata": {
        "colab": {
          "base_uri": "https://localhost:8080/"
        },
        "id": "8H7jAH2nAk4e",
        "outputId": "248afca7-3bab-407b-ad6b-ba661679039d"
      },
      "execution_count": 70,
      "outputs": [
        {
          "output_type": "stream",
          "name": "stdout",
          "text": [
            "\u001b[92mAll tests passed!\n"
          ]
        }
      ]
    },
    {
      "cell_type": "code",
      "source": [
        "yhat=linear(X_norm,w,b)\n",
        "print(yhat)"
      ],
      "metadata": {
        "id": "x_FYehevTmsO",
        "outputId": "5c08d497-70de-4d3b-e6ca-280312e8782a",
        "colab": {
          "base_uri": "https://localhost:8080/"
        }
      },
      "execution_count": 88,
      "outputs": [
        {
          "output_type": "stream",
          "name": "stdout",
          "text": [
            "[[0.92033786 0.97120569 1.02207352 1.07294134 1.1698365 ]]\n"
          ]
        }
      ]
    },
    {
      "cell_type": "markdown",
      "source": [
        "### Calculate Cost"
      ],
      "metadata": {
        "id": "xgnRX_qreTqy"
      }
    },
    {
      "cell_type": "markdown",
      "source": [
        "the objective function for this minimization problem can be formulated as below\n",
        "\n",
        " $J(w,b)=\\frac{1}{2m}\\sum \\limits _{i=1} ^{m} (\\hat{y}-y)^{2} $"
      ],
      "metadata": {
        "id": "26N7FvPidT0q"
      }
    },
    {
      "cell_type": "code",
      "source": [
        "error=np.subtract(yhat,y)\n",
        "error_squared=np.power(error,2)\n",
        "J=np.sum(error_squared, axis=1)"
      ],
      "metadata": {
        "id": "FT_MnOQmTtOr"
      },
      "execution_count": 90,
      "outputs": []
    },
    {
      "cell_type": "markdown",
      "source": [
        "### Cost Derivative - dw"
      ],
      "metadata": {
        "id": "UiVCLROyek6V"
      }
    },
    {
      "cell_type": "markdown",
      "source": [
        "$ \\frac{\\partial J}{\\partial w} = \\frac{1}{m} \\mathbf{X}(\\mathbf{\\hat {y}-y})^T$"
      ],
      "metadata": {
        "id": "LKkKP_sier4C"
      }
    },
    {
      "cell_type": "markdown",
      "source": [
        "### Cost Derivatives - db"
      ],
      "metadata": {
        "id": "jye2X3HRe1Ys"
      }
    },
    {
      "cell_type": "markdown",
      "source": [
        "$ \\frac{\\partial J}{\\partial b} = \\frac{1}{m} Sum(\\mathbf{\\hat {y}-y})^T$\n",
        "\n",
        "\n",
        "\n"
      ],
      "metadata": {
        "id": "N0G0oM67d4oI"
      }
    },
    {
      "cell_type": "markdown",
      "source": [
        "### Update the weight and bias"
      ],
      "metadata": {
        "id": "WbzRgX8YeDcr"
      }
    },
    {
      "cell_type": "markdown",
      "source": [
        "$\\mathbf{w} := \\mathbf{w} - \\alpha \\frac {\\partial{\\mathbf{J}}}{\\partial {\\mathbf{w}}}$\n",
        "\n",
        "$ {\\mathbf{b}} := {\\mathbf{b}} - \\alpha \\frac {\\partial {\\mathbf{J}}}{\\partial {\\mathbf{b}}}$"
      ],
      "metadata": {
        "id": "LzOJleGQd9Ov"
      }
    },
    {
      "cell_type": "markdown",
      "source": [
        "The output weight can be converted using the following analysis.\n",
        "$$ \\bar{w}=\\frac {dy}{d\\bar{X}} = \\frac {dy}{\\frac{dX}{X_{max}}}$$\n",
        "$$  w' = \\frac {dy{X_{max}}}{dX} = w X_{max}$$\n",
        "$$  w = \\frac {w'}{X_{max}}$$"
      ],
      "metadata": {
        "id": "zDUwjOAgg9wG"
      }
    },
    {
      "cell_type": "code",
      "source": [
        "learning_rate=0.01\n",
        "max_iteration=5000\n",
        "cost=np.zeros((max_iteration))\n",
        "#print(X_norm)\n",
        "w=np.zeros(nx).reshape(nx,1)\n",
        "b=np.zeros(1).reshape(1,1)\n",
        "for i in range(max_iteration):\n",
        "  yhat=linear(X_norm,w,b)\n",
        "  #print(\"y_hat = \", yhat.shape)\n",
        "  error=np.subtract(yhat,y)\n",
        "  #print(error, error.shape)\n",
        "  error_squared=np.power(error,2)\n",
        "  #J=np.sum(error_squared, axis=1)\n",
        "  #J=np.sum(np.multiply((yhat-y), (yhat-y)), axis=1)\n",
        "  J=np.dot((yhat-y), (yhat-y).T)\n",
        "  cost[i]=J/(2*m) # All three implementation will work\n",
        "  #print(cost[i])\n",
        "  #dw_sum=np.sum(X_norm*(yhat-y),axis=1)\n",
        "  #print(\"dw_sum \", dw_sum)\n",
        "  #dw=dw_sum/m\n",
        "  dw=(1/m)*np.dot(X_norm,(yhat-y).T)\n",
        "  db=(1/m)*np.sum((yhat-y), axis=1)\n",
        "  w=w-learning_rate*dw\n",
        "  b=b-learning_rate*db\n",
        "  #print(b.shape)\n",
        "print(w, b)"
      ],
      "metadata": {
        "id": "y088AGPODs8a",
        "outputId": "ce568d8e-5207-48da-9907-a7ee8752765c",
        "colab": {
          "base_uri": "https://localhost:8080/",
          "height": 216
        }
      },
      "execution_count": 72,
      "outputs": [
        {
          "output_type": "error",
          "ename": "ValueError",
          "evalue": "operands could not be broadcast together with shapes (1,5) (1,2) ",
          "traceback": [
            "\u001b[0;31m---------------------------------------------------------------------------\u001b[0m",
            "\u001b[0;31mValueError\u001b[0m                                Traceback (most recent call last)",
            "\u001b[0;32m<ipython-input-72-67a64ee3eb46>\u001b[0m in \u001b[0;36m<cell line: 7>\u001b[0;34m()\u001b[0m\n\u001b[1;32m      8\u001b[0m   \u001b[0myhat\u001b[0m\u001b[0;34m=\u001b[0m\u001b[0mlinear\u001b[0m\u001b[0;34m(\u001b[0m\u001b[0mX_norm\u001b[0m\u001b[0;34m,\u001b[0m\u001b[0mw\u001b[0m\u001b[0;34m,\u001b[0m\u001b[0mb\u001b[0m\u001b[0;34m)\u001b[0m\u001b[0;34m\u001b[0m\u001b[0;34m\u001b[0m\u001b[0m\n\u001b[1;32m      9\u001b[0m   \u001b[0;31m#print(\"y_hat = \", yhat.shape)\u001b[0m\u001b[0;34m\u001b[0m\u001b[0;34m\u001b[0m\u001b[0m\n\u001b[0;32m---> 10\u001b[0;31m   \u001b[0merror\u001b[0m\u001b[0;34m=\u001b[0m\u001b[0mnp\u001b[0m\u001b[0;34m.\u001b[0m\u001b[0msubtract\u001b[0m\u001b[0;34m(\u001b[0m\u001b[0myhat\u001b[0m\u001b[0;34m,\u001b[0m\u001b[0my\u001b[0m\u001b[0;34m)\u001b[0m\u001b[0;34m\u001b[0m\u001b[0;34m\u001b[0m\u001b[0m\n\u001b[0m\u001b[1;32m     11\u001b[0m   \u001b[0;31m#print(error, error.shape)\u001b[0m\u001b[0;34m\u001b[0m\u001b[0;34m\u001b[0m\u001b[0m\n\u001b[1;32m     12\u001b[0m   \u001b[0merror_squared\u001b[0m\u001b[0;34m=\u001b[0m\u001b[0mnp\u001b[0m\u001b[0;34m.\u001b[0m\u001b[0mpower\u001b[0m\u001b[0;34m(\u001b[0m\u001b[0merror\u001b[0m\u001b[0;34m,\u001b[0m\u001b[0;36m2\u001b[0m\u001b[0;34m)\u001b[0m\u001b[0;34m\u001b[0m\u001b[0;34m\u001b[0m\u001b[0m\n",
            "\u001b[0;31mValueError\u001b[0m: operands could not be broadcast together with shapes (1,5) (1,2) "
          ]
        }
      ]
    },
    {
      "cell_type": "code",
      "source": [
        "xPlot=np.linspace(1,max_iteration, num=max_iteration)\n",
        "print(xPlot.shape, cost.shape)\n",
        "plt.plot(xPlot, cost)"
      ],
      "metadata": {
        "id": "6kBCvEtCD1j9",
        "outputId": "4a21c564-f0f9-41f2-ffe4-fdc335c0dd51",
        "colab": {
          "base_uri": "https://localhost:8080/",
          "height": 466
        }
      },
      "execution_count": null,
      "outputs": [
        {
          "output_type": "stream",
          "name": "stdout",
          "text": [
            "(5000,) (5000,)\n"
          ]
        },
        {
          "output_type": "execute_result",
          "data": {
            "text/plain": [
              "[<matplotlib.lines.Line2D at 0x785e543df670>]"
            ]
          },
          "metadata": {},
          "execution_count": 38
        },
        {
          "output_type": "display_data",
          "data": {
            "text/plain": [
              "<Figure size 640x480 with 1 Axes>"
            ],
            "image/png": "[encoded data removed]"
          },
          "metadata": {}
        }
      ]
    }
  ],
  "metadata": {
    "colab": {
      "provenance": [],
      "toc_visible": true,
      "include_colab_link": true
    },
    "kernelspec": {
      "display_name": "Python 3",
      "name": "python3"
    },
    "language_info": {
      "codemirror_mode": {
        "name": "ipython",
        "version": 3
      },
      "file_extension": ".py",
      "mimetype": "text/x-python",
      "name": "python",
      "nbconvert_exporter": "python",
      "pygments_lexer": "ipython3",
      "version": "3.10.12"
    }
  },
  "nbformat": 4,
  "nbformat_minor": 0
}
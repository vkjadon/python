{
  "cells": [
    {
      "cell_type": "markdown",
      "metadata": {
        "id": "view-in-github",
        "colab_type": "text"
      },
      "source": [
        "<a href=\"https://colab.research.google.com/github/vkjadon/python/blob/main/linear_regression.ipynb\" target=\"_parent\"><img src=\"https://colab.research.google.com/assets/colab-badge.svg\" alt=\"Open In Colab\"/></a>"
      ]
    },
    {
      "cell_type": "markdown",
      "source": [
        "##Test Methods"
      ],
      "metadata": {
        "id": "9-d12qVEaUE2"
      }
    },
    {
      "cell_type": "code",
      "execution_count": 33,
      "metadata": {
        "id": "pEKbPxqbR9yi"
      },
      "outputs": [],
      "source": [
        "def test_datatype(input,expected):\n",
        "    try:\n",
        "        assert isinstance(input, expected)\n",
        "        print(\"Datatype Test Case Passed\")\n",
        "    except:\n",
        "        print(\"X should be a Numpy Array\")\n",
        "\n",
        "def test_shape(input, expected):\n",
        "    try:\n",
        "        assert input.shape == expected\n",
        "        print(\"Shape Test Case Passed\")\n",
        "    except:\n",
        "        print(f\"Check the Shape!!\")\n",
        "        print(f\"The shape should be ({expected[0]},{expected[1]})\")\n",
        "\n",
        "def test_linear(target):\n",
        "    w = np.array([[0.3], [0.5], [-0.2]])\n",
        "    b = -0.33333\n",
        "    X = np.array([[1., -0.3, 1.5],[2, 0, 1], [0, -1.5, 2]])\n",
        "\n",
        "    pred = target(X, w, b)\n",
        "\n",
        "    assert type(pred) == np.ndarray, f\"Wrong type for pred. {type(pred)} != np.ndarray\"\n",
        "    assert pred.shape == (1, X.shape[1]), f\"Wrong shape for pred. {pred.shape} != {(1, X.shape[1])}\"\n",
        "    assert np.bitwise_not(np.allclose(pred, [[1., 1., 1]])), f\"Perhaps you forget to add b in the calculation of A\"\n",
        "    assert np.allclose(pred, [[1., 0., 1]]), f\"Wrong values for pred. {pred} != {[[1., 0., 1.]]}\"\n",
        "\n",
        "    print('\\033[92mAll tests passed!')"
      ]
    },
    {
      "cell_type": "markdown",
      "source": [
        "## Import Section"
      ],
      "metadata": {
        "id": "IrDgem_kafJr"
      }
    },
    {
      "cell_type": "code",
      "execution_count": 5,
      "metadata": {
        "id": "ucGWGlN9vhSs"
      },
      "outputs": [],
      "source": [
        "# Import the NumPy library\n",
        "import numpy as np"
      ]
    },
    {
      "cell_type": "markdown",
      "metadata": {
        "id": "fsUsTZWvR9yg"
      },
      "source": [
        "## Input Data\n",
        "\n",
        "| Size      | Bedrooms | Price (L) |\n",
        "| :---:     | :----:   |   :---:   |\n",
        "| 100       | 1        | 20        |\n",
        "| 150       | 2        | 28        |\n",
        "| 200       | 3        | 39        |\n",
        "| 250       | 4        | 51        |\n",
        "| 500       | 4        | 80        |"
      ]
    },
    {
      "cell_type": "markdown",
      "metadata": {
        "id": "Bd6CHOqOR9yh"
      },
      "source": [
        "### Features and Training Examples"
      ]
    },
    {
      "cell_type": "markdown",
      "source": [
        "$m=5; nx=2$"
      ],
      "metadata": {
        "id": "PFUYqtutgCPX"
      }
    },
    {
      "cell_type": "code",
      "execution_count": 14,
      "metadata": {
        "id": "J-3vwUCFR9yh"
      },
      "outputs": [],
      "source": [
        "nx=2; m=5"
      ]
    },
    {
      "cell_type": "markdown",
      "source": [
        "### Features for $3^{rd}$ training example:"
      ],
      "metadata": {
        "id": "Mfq-kuDYZQ18"
      }
    },
    {
      "cell_type": "markdown",
      "source": [
        "$x^{(3)}_1=200; x^{(3)}_2=3$"
      ],
      "metadata": {
        "id": "1skUXVUuZnqq"
      }
    },
    {
      "cell_type": "markdown",
      "metadata": {
        "id": "kajlsZhMR9yh"
      },
      "source": [
        "### Features vector for $2^{nd}$ training example:\n"
      ]
    },
    {
      "cell_type": "markdown",
      "source": [
        "$\\mathbf{x}^{(2)} =\\begin{pmatrix}\n",
        "  150 \\\\ 2\n",
        " \\end{pmatrix} $"
      ],
      "metadata": {
        "id": "SiwuQV8dZrAr"
      }
    },
    {
      "cell_type": "markdown",
      "source": [
        "### Feature vector of the problem dataset:"
      ],
      "metadata": {
        "id": "zREA2F4YZVkI"
      }
    },
    {
      "cell_type": "markdown",
      "source": [
        "$ \\mathbf{X} = \\begin{pmatrix}\n",
        "\\mathbf{x}^{(1)} & \\mathbf{x}^{(2)} & \\cdots & \\mathbf{x}^{(5)}\n",
        "\\end{pmatrix}$"
      ],
      "metadata": {
        "id": "kW6L7piLZvX1"
      }
    },
    {
      "cell_type": "markdown",
      "source": [
        "$ \\mathbf{X} = \\begin{pmatrix}\n",
        "100 & 150 & 200 & 250 & 500 \\\\ 1 & 2 & 3 & 4 & 4\n",
        "\\end{pmatrix}$"
      ],
      "metadata": {
        "id": "yfLZ9zsAZbjd"
      }
    },
    {
      "cell_type": "markdown",
      "metadata": {
        "id": "D_BPwguER9yj"
      },
      "source": [
        "### Output vector of the problem dataset:"
      ]
    },
    {
      "cell_type": "markdown",
      "source": [
        "$ \\mathbf{y} = \\begin{pmatrix}\n",
        "\\mathbf{y}^{(1)} & \\mathbf{y}^{(2)} & \\cdots & \\mathbf{y}^{(5)}\n",
        "\\end{pmatrix}$"
      ],
      "metadata": {
        "id": "1JL_igS2f2-0"
      }
    },
    {
      "cell_type": "markdown",
      "source": [
        "##Implimentation"
      ],
      "metadata": {
        "id": "gXkM_GWkZ3rF"
      }
    },
    {
      "cell_type": "code",
      "execution_count": 6,
      "metadata": {
        "id": "ihK-4TTiR9yh"
      },
      "outputs": [],
      "source": [
        "x1=[100,1]\n",
        "x2=[150,2]\n",
        "x3=[200,3]\n",
        "x4=[250,4]\n",
        "x5=[500,4]"
      ]
    },
    {
      "cell_type": "code",
      "execution_count": 18,
      "metadata": {
        "id": "4AkGJevpR9yi"
      },
      "outputs": [],
      "source": [
        "# Create Feature Matrix\n",
        "# X=(x1, x2, ....)\n",
        "X=np.array([x1, x2, x3, x4, x5]).T\n",
        "# print(X, X.shape, type(X), \"\\n\", X[1][4])"
      ]
    },
    {
      "cell_type": "code",
      "execution_count": 8,
      "metadata": {
        "id": "YvwX3a-5R9yi",
        "outputId": "25a47f05-2cca-4f91-c629-3b18f041ad95",
        "colab": {
          "base_uri": "https://localhost:8080/"
        }
      },
      "outputs": [
        {
          "output_type": "stream",
          "name": "stdout",
          "text": [
            "Datatype Test Case Passed\n",
            "Shape Test Case Passed\n"
          ]
        }
      ],
      "source": [
        "expected=np.ndarray\n",
        "test_datatype(X,expected)\n",
        "# expected=np.arange(10).reshape(nx,m).shape\n",
        "expected=(2,5)\n",
        "test_shape(X,expected)"
      ]
    },
    {
      "cell_type": "code",
      "execution_count": 9,
      "metadata": {
        "id": "KIE75JmeR9yj"
      },
      "outputs": [],
      "source": [
        "y1=[20]\n",
        "y2=[28]\n",
        "y3=[39]\n",
        "y4=[51]\n",
        "y5=[80]"
      ]
    },
    {
      "cell_type": "code",
      "execution_count": 10,
      "metadata": {
        "id": "rdHsCAoZR9yj"
      },
      "outputs": [],
      "source": [
        "# Create Feature Matrix\n",
        "#y=(y1, y2, ...)\n",
        "y=np.array([y1, y2, y3, y4, y5]).T"
      ]
    },
    {
      "cell_type": "code",
      "execution_count": 11,
      "metadata": {
        "id": "mDDNlUC7R9yj",
        "outputId": "0fb467f2-8d69-4357-e7d7-dab3e422d4b5",
        "colab": {
          "base_uri": "https://localhost:8080/"
        }
      },
      "outputs": [
        {
          "output_type": "stream",
          "name": "stdout",
          "text": [
            "Shape Test Case Passed\n"
          ]
        }
      ],
      "source": [
        "expected=(1,5)\n",
        "test_shape(y,expected)"
      ]
    },
    {
      "cell_type": "code",
      "execution_count": 19,
      "metadata": {
        "id": "U00dCXmsR9yk"
      },
      "outputs": [],
      "source": [
        "#Initialize Weights and Biases\n",
        "# Initialize with any random number between 0-1\n",
        "#The desired shape - w(nx,1); b(1,1)\n",
        "w=np.random.rand(nx).reshape(nx,1)\n",
        "b=np.random.rand(1).reshape(1,1)"
      ]
    },
    {
      "cell_type": "code",
      "source": [
        "expected=(nx,1)\n",
        "test_shape(w,expected)"
      ],
      "metadata": {
        "id": "YMnrloKLSlXO",
        "outputId": "a53d273e-f9b7-4d91-9994-a18ac3debf68",
        "colab": {
          "base_uri": "https://localhost:8080/"
        }
      },
      "execution_count": 20,
      "outputs": [
        {
          "output_type": "stream",
          "name": "stdout",
          "text": [
            "Shape Test Case Passed\n"
          ]
        }
      ]
    },
    {
      "cell_type": "code",
      "source": [
        "expected=(1,1)\n",
        "test_shape(b,expected)"
      ],
      "metadata": {
        "id": "arSxQUlGTL67",
        "outputId": "c141cbe6-3520-41dc-f342-e1186a162801",
        "colab": {
          "base_uri": "https://localhost:8080/"
        }
      },
      "execution_count": 21,
      "outputs": [
        {
          "output_type": "stream",
          "name": "stdout",
          "text": [
            "Shape Test Case Passed\n"
          ]
        }
      ]
    },
    {
      "cell_type": "markdown",
      "source": [
        "### Normalization"
      ],
      "metadata": {
        "id": "SYrRkVrfbLQs"
      }
    },
    {
      "cell_type": "markdown",
      "source": [
        "$$ \\bar{\\bf{X}}= \\frac{\\bf{X}}{x_{max}}$$"
      ],
      "metadata": {
        "id": "vTfi7-gdgVke"
      }
    },
    {
      "cell_type": "code",
      "source": [
        "print(X)\n",
        "#np.max(X, axis=1)\n",
        "np.max(X, axis=1, keepdims=True)"
      ],
      "metadata": {
        "id": "b_hCcxfZbOpU",
        "outputId": "72d54622-a082-43c1-e48b-ff41ff50570a",
        "colab": {
          "base_uri": "https://localhost:8080/"
        }
      },
      "execution_count": 22,
      "outputs": [
        {
          "output_type": "stream",
          "name": "stdout",
          "text": [
            "[[100 150 200 250 500]\n",
            " [  1   2   3   4   4]]\n"
          ]
        },
        {
          "output_type": "execute_result",
          "data": {
            "text/plain": [
              "array([[500],\n",
              "       [  4]])"
            ]
          },
          "metadata": {},
          "execution_count": 22
        }
      ]
    },
    {
      "cell_type": "code",
      "source": [
        "#X_norm=X/max(X)\n",
        "X_norm=X/np.max(X, axis=1, keepdims=True)\n",
        "print(X_norm)"
      ],
      "metadata": {
        "id": "RURlPnF88nHV",
        "outputId": "352dff28-32a6-496e-ab63-6fc87493c71f",
        "colab": {
          "base_uri": "https://localhost:8080/"
        }
      },
      "execution_count": 24,
      "outputs": [
        {
          "output_type": "stream",
          "name": "stdout",
          "text": [
            "[[0.2  0.3  0.4  0.5  1.  ]\n",
            " [0.25 0.5  0.75 1.   1.  ]]\n"
          ]
        }
      ]
    },
    {
      "cell_type": "markdown",
      "source": [
        "## Functions"
      ],
      "metadata": {
        "id": "0ZKlgF5MY6II"
      }
    },
    {
      "cell_type": "markdown",
      "source": [
        "### Linear Function"
      ],
      "metadata": {
        "id": "giUorCrecrFG"
      }
    },
    {
      "cell_type": "markdown",
      "source": [
        "The linear model in vectorize form is\n",
        "\n",
        "$\\hat{\\mathbf{y}} = \\mathbf{w^T X+b}$"
      ],
      "metadata": {
        "id": "_O0zmsO8cjvI"
      }
    },
    {
      "cell_type": "code",
      "source": [
        "def linear(X,w,b):\n",
        "  return np.dot(w.T,X)+b"
      ],
      "metadata": {
        "id": "ImGhvhmbT4vt"
      },
      "execution_count": 34,
      "outputs": []
    },
    {
      "cell_type": "code",
      "source": [
        "test_linear(linear)"
      ],
      "metadata": {
        "id": "8H7jAH2nAk4e",
        "outputId": "99eade16-e545-4271-e424-45be9ac66248",
        "colab": {
          "base_uri": "https://localhost:8080/",
          "height": 287
        }
      },
      "execution_count": 35,
      "outputs": [
        {
          "output_type": "error",
          "ename": "AssertionError",
          "evalue": "Wrong values for pred. [[ 0.96667 -0.12333  0.21667]] != [[1.0, 0.0, 1.0]]",
          "traceback": [
            "\u001b[0;31m---------------------------------------------------------------------------\u001b[0m",
            "\u001b[0;31mAssertionError\u001b[0m                            Traceback (most recent call last)",
            "\u001b[0;32m<ipython-input-35-36777c0071f4>\u001b[0m in \u001b[0;36m<cell line: 1>\u001b[0;34m()\u001b[0m\n\u001b[0;32m----> 1\u001b[0;31m \u001b[0mtest_linear\u001b[0m\u001b[0;34m(\u001b[0m\u001b[0mlinear\u001b[0m\u001b[0;34m)\u001b[0m\u001b[0;34m\u001b[0m\u001b[0;34m\u001b[0m\u001b[0m\n\u001b[0m",
            "\u001b[0;32m<ipython-input-33-13d7275fe655>\u001b[0m in \u001b[0;36mtest_linear\u001b[0;34m(target)\u001b[0m\n\u001b[1;32m     24\u001b[0m     \u001b[0;32massert\u001b[0m \u001b[0mpred\u001b[0m\u001b[0;34m.\u001b[0m\u001b[0mshape\u001b[0m \u001b[0;34m==\u001b[0m \u001b[0;34m(\u001b[0m\u001b[0;36m1\u001b[0m\u001b[0;34m,\u001b[0m \u001b[0mX\u001b[0m\u001b[0;34m.\u001b[0m\u001b[0mshape\u001b[0m\u001b[0;34m[\u001b[0m\u001b[0;36m1\u001b[0m\u001b[0;34m]\u001b[0m\u001b[0;34m)\u001b[0m\u001b[0;34m,\u001b[0m \u001b[0;34mf\"Wrong shape for pred. {pred.shape} != {(1, X.shape[1])}\"\u001b[0m\u001b[0;34m\u001b[0m\u001b[0;34m\u001b[0m\u001b[0m\n\u001b[1;32m     25\u001b[0m     \u001b[0;32massert\u001b[0m \u001b[0mnp\u001b[0m\u001b[0;34m.\u001b[0m\u001b[0mbitwise_not\u001b[0m\u001b[0;34m(\u001b[0m\u001b[0mnp\u001b[0m\u001b[0;34m.\u001b[0m\u001b[0mallclose\u001b[0m\u001b[0;34m(\u001b[0m\u001b[0mpred\u001b[0m\u001b[0;34m,\u001b[0m \u001b[0;34m[\u001b[0m\u001b[0;34m[\u001b[0m\u001b[0;36m1.\u001b[0m\u001b[0;34m,\u001b[0m \u001b[0;36m1.\u001b[0m\u001b[0;34m,\u001b[0m \u001b[0;36m1\u001b[0m\u001b[0;34m]\u001b[0m\u001b[0;34m]\u001b[0m\u001b[0;34m)\u001b[0m\u001b[0;34m)\u001b[0m\u001b[0;34m,\u001b[0m \u001b[0;34mf\"Perhaps you forget to add b in the calculation of A\"\u001b[0m\u001b[0;34m\u001b[0m\u001b[0;34m\u001b[0m\u001b[0m\n\u001b[0;32m---> 26\u001b[0;31m     \u001b[0;32massert\u001b[0m \u001b[0mnp\u001b[0m\u001b[0;34m.\u001b[0m\u001b[0mallclose\u001b[0m\u001b[0;34m(\u001b[0m\u001b[0mpred\u001b[0m\u001b[0;34m,\u001b[0m \u001b[0;34m[\u001b[0m\u001b[0;34m[\u001b[0m\u001b[0;36m1.\u001b[0m\u001b[0;34m,\u001b[0m \u001b[0;36m0.\u001b[0m\u001b[0;34m,\u001b[0m \u001b[0;36m1\u001b[0m\u001b[0;34m]\u001b[0m\u001b[0;34m]\u001b[0m\u001b[0;34m)\u001b[0m\u001b[0;34m,\u001b[0m \u001b[0;34mf\"Wrong values for pred. {pred} != {[[1., 0., 1.]]}\"\u001b[0m\u001b[0;34m\u001b[0m\u001b[0;34m\u001b[0m\u001b[0m\n\u001b[0m\u001b[1;32m     27\u001b[0m \u001b[0;34m\u001b[0m\u001b[0m\n\u001b[1;32m     28\u001b[0m     \u001b[0mprint\u001b[0m\u001b[0;34m(\u001b[0m\u001b[0;34m'\\033[92mAll tests passed!'\u001b[0m\u001b[0;34m)\u001b[0m\u001b[0;34m\u001b[0m\u001b[0;34m\u001b[0m\u001b[0m\n",
            "\u001b[0;31mAssertionError\u001b[0m: Wrong values for pred. [[ 0.96667 -0.12333  0.21667]] != [[1.0, 0.0, 1.0]]"
          ]
        }
      ]
    },
    {
      "cell_type": "markdown",
      "source": [
        "### Calculate Cost"
      ],
      "metadata": {
        "id": "xgnRX_qreTqy"
      }
    },
    {
      "cell_type": "markdown",
      "source": [
        "the objective function for this minimization problem can be formulated as below\n",
        "\n",
        " $J(w,b)=\\frac{1}{2m}\\sum \\limits _{i=1} ^{m} (\\hat{y}-y)^{2} $"
      ],
      "metadata": {
        "id": "26N7FvPidT0q"
      }
    },
    {
      "cell_type": "markdown",
      "source": [
        "### Cost Derivative - dw"
      ],
      "metadata": {
        "id": "UiVCLROyek6V"
      }
    },
    {
      "cell_type": "markdown",
      "source": [
        "$ \\frac{\\partial J}{\\partial w} = \\frac{1}{m} \\mathbf{X}(\\mathbf{\\hat {y}-y})^T$"
      ],
      "metadata": {
        "id": "LKkKP_sier4C"
      }
    },
    {
      "cell_type": "markdown",
      "source": [
        "### Cost Derivatives - db"
      ],
      "metadata": {
        "id": "jye2X3HRe1Ys"
      }
    },
    {
      "cell_type": "markdown",
      "source": [
        "$ \\frac{\\partial J}{\\partial b} = \\frac{1}{m} Sum(\\mathbf{\\hat {y}-y})^T$\n",
        "\n",
        "\n",
        "\n"
      ],
      "metadata": {
        "id": "N0G0oM67d4oI"
      }
    },
    {
      "cell_type": "code",
      "execution_count": null,
      "metadata": {
        "id": "yIFSrHHxR9yl",
        "outputId": "37ef5688-7be1-4e16-d83b-76f1db9e54f1"
      },
      "outputs": [
        {
          "name": "stdout",
          "output_type": "stream",
          "text": [
            "sigmoid(t_x) = [0.73105858 0.88079708 0.95257413]\n"
          ]
        },
        {
          "ename": "NameError",
          "evalue": "name 'sig_test' is not defined",
          "output_type": "error",
          "traceback": [
            "\u001b[0;31m---------------------------------------------------------------------------\u001b[0m",
            "\u001b[0;31mNameError\u001b[0m                                 Traceback (most recent call last)",
            "Cell \u001b[0;32mIn[63], line 4\u001b[0m\n\u001b[1;32m      1\u001b[0m t_x \u001b[38;5;241m=\u001b[39m np\u001b[38;5;241m.\u001b[39marray([\u001b[38;5;241m1\u001b[39m, \u001b[38;5;241m2\u001b[39m, \u001b[38;5;241m3\u001b[39m])\n\u001b[1;32m      2\u001b[0m \u001b[38;5;28mprint\u001b[39m(\u001b[38;5;124m\"\u001b[39m\u001b[38;5;124msigmoid(t_x) = \u001b[39m\u001b[38;5;124m\"\u001b[39m \u001b[38;5;241m+\u001b[39m \u001b[38;5;28mstr\u001b[39m(sigmoid(t_x)))\n\u001b[0;32m----> 4\u001b[0m \u001b[43msig_test\u001b[49m(sigmoid)\n",
            "\u001b[0;31mNameError\u001b[0m: name 'sig_test' is not defined"
          ]
        }
      ],
      "source": [
        "t_x = np.array([1, 2, 3])\n",
        "print(\"sigmoid(t_x) = \" + str(sigmoid(t_x)))\n",
        "\n",
        "sig_test(sigmoid)"
      ]
    },
    {
      "cell_type": "markdown",
      "source": [
        "### Update the weight and bias"
      ],
      "metadata": {
        "id": "WbzRgX8YeDcr"
      }
    },
    {
      "cell_type": "markdown",
      "source": [
        "$\\mathbf{w} := \\mathbf{w} - \\alpha \\frac {\\partial{\\mathbf{J}}}{\\partial {\\mathbf{w}}}$\n",
        "\n",
        "$ {\\mathbf{b}} := {\\mathbf{b}} - \\alpha \\frac {\\partial {\\mathbf{J}}}{\\partial {\\mathbf{b}}}$"
      ],
      "metadata": {
        "id": "LzOJleGQd9Ov"
      }
    },
    {
      "cell_type": "markdown",
      "source": [
        "The output weight can be converted using the following analysis.\n",
        "$$ \\bar{w}=\\frac {dy}{d\\bar{X}} = \\frac {dy}{\\frac{dX}{X_{max}}}$$\n",
        "$$  w' = \\frac {dy{X_{max}}}{dX} = w X_{max}$$\n",
        "$$  w = \\frac {w'}{X_{max}}$$"
      ],
      "metadata": {
        "id": "zDUwjOAgg9wG"
      }
    }
  ],
  "metadata": {
    "colab": {
      "provenance": [],
      "toc_visible": true,
      "include_colab_link": true
    },
    "kernelspec": {
      "display_name": "Python 3",
      "name": "python3"
    },
    "language_info": {
      "codemirror_mode": {
        "name": "ipython",
        "version": 3
      },
      "file_extension": ".py",
      "mimetype": "text/x-python",
      "name": "python",
      "nbconvert_exporter": "python",
      "pygments_lexer": "ipython3",
      "version": "3.10.12"
    }
  },
  "nbformat": 4,
  "nbformat_minor": 0
}
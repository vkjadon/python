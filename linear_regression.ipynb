{
  "cells": [
    {
      "cell_type": "markdown",
      "metadata": {
        "colab_type": "text",
        "id": "view-in-github"
      },
      "source": [
        "<a href=\"https://colab.research.google.com/github/vkjadon/python/blob/main/logistic_regression.ipynb\" target=\"_parent\"><img src=\"https://colab.research.google.com/assets/colab-badge.svg\" alt=\"Open In Colab\"/></a>"
      ]
    },
    {
      "cell_type": "code",
      "execution_count": 42,
      "metadata": {
        "id": "ucGWGlN9vhSs"
      },
      "outputs": [],
      "source": [
        "# Import the NumPy library\n",
        "import numpy as np\n",
        "from lr_tests import *"
      ]
    },
    {
      "cell_type": "markdown",
      "metadata": {},
      "source": [
        "## Example Data\n",
        "\n",
        "| Size      | Bedrooms | Price (L) |\n",
        "| :---:     | :----:   |   :---:   |\n",
        "| 100       | 1        | 20        |\n",
        "| 150       | 2        | 28        |\n",
        "| 200       | 3        | 39        |\n",
        "| 250       | 4        | 51        |\n",
        "| 500       | 4        | 80        |"
      ]
    },
    {
      "cell_type": "markdown",
      "metadata": {},
      "source": [
        "### Features\n",
        "\n",
        "$m=5; nx=2$\n",
        "\n",
        "### Features for $3^{rd}$ training example:\n",
        "$$x^{(3)}_1=200; x^{(3)}_2=3$$\n",
        "\n",
        "### Features vector for $2^{nd}$ training example:\n",
        "$\\mathbf{x}^{(2)} =\\begin{pmatrix}\n",
        "  150 \\\\ 2\n",
        " \\end{pmatrix} $\n",
        "\n",
        "### Feature vector of the problem dataset:\n",
        "\n",
        "$ \\mathbf{X} = \\begin{pmatrix}\n",
        "\\mathbf{x}^{(1)} & \\mathbf{x}^{(2)} & \\cdots & \\mathbf{x}^{(5)}\n",
        "\\end{pmatrix}$\n",
        "\n",
        "$ \\mathbf{X} = \\begin{pmatrix}\n",
        "100 & 150 & 200 & 250 & 500 \\\\ 1 & 2 & 3 & 4 & 4\n",
        "\\end{pmatrix}$"
      ]
    },
    {
      "cell_type": "code",
      "execution_count": 45,
      "metadata": {},
      "outputs": [],
      "source": [
        "x1=[100,1]\n",
        "x2=[150,2]\n",
        "x3=[200,3]\n",
        "x4=[250,4]\n",
        "x5=[500,4]"
      ]
    },
    {
      "cell_type": "code",
      "execution_count": 50,
      "metadata": {},
      "outputs": [
        {
          "name": "stdout",
          "output_type": "stream",
          "text": [
            "[[100 150 200 250 500]\n",
            " [  1   2   3   4   4]] (2, 5) <class 'numpy.ndarray'> \n",
            " 4\n"
          ]
        }
      ],
      "source": [
        "# Create Feature Matrix\n",
        "X=np.array([x1, x2, x3, x4, x5]).T\n",
        "print(X, X.shape, type(X), \"\\n\", X[1][4])"
      ]
    },
    {
      "cell_type": "code",
      "execution_count": 59,
      "metadata": {},
      "outputs": [
        {
          "ename": "NameError",
          "evalue": "name 'feature_matrix_test' is not defined",
          "output_type": "error",
          "traceback": [
            "\u001b[0;31m---------------------------------------------------------------------------\u001b[0m",
            "\u001b[0;31mNameError\u001b[0m                                 Traceback (most recent call last)",
            "Cell \u001b[0;32mIn[59], line 1\u001b[0m\n\u001b[0;32m----> 1\u001b[0m \u001b[43mfeature_matrix_test\u001b[49m(X)\n",
            "\u001b[0;31mNameError\u001b[0m: name 'feature_matrix_test' is not defined"
          ]
        }
      ],
      "source": [
        "feature_matrix_test(X)"
      ]
    },
    {
      "cell_type": "markdown",
      "metadata": {},
      "source": [
        "$$ sigmoid(z) = sigmoid\\begin{pmatrix}\n",
        "    z_1  \\\\\n",
        "    z_2  \\\\\n",
        "    ...  \\\\\n",
        "    z_n  \\\\\n",
        "\\end{pmatrix} = \\begin{pmatrix}\n",
        "    \\frac{1}{1+e^{-z_1}}  \\\\\n",
        "    \\frac{1}{1+e^{-z_2}}  \\\\\n",
        "    ...  \\\\\n",
        "    \\frac{1}{1+e^{-z_n}}  \\\\\n",
        "\\end{pmatrix} $$"
      ]
    },
    {
      "cell_type": "code",
      "execution_count": 53,
      "metadata": {
        "id": "bj3bVZEuv-2W"
      },
      "outputs": [],
      "source": [
        "def sigmoid(z: np.ndarray) -> np.ndarray:\n",
        "    # Compute the sigmoid of z\n",
        "    # (≈ 1 line of code)\n",
        "    s=(1.0/(1+np.exp(-z)))\n",
        "    # s=10\n",
        "    return s"
      ]
    },
    {
      "cell_type": "code",
      "execution_count": 63,
      "metadata": {},
      "outputs": [
        {
          "name": "stdout",
          "output_type": "stream",
          "text": [
            "sigmoid(t_x) = [0.73105858 0.88079708 0.95257413]\n"
          ]
        },
        {
          "ename": "NameError",
          "evalue": "name 'sig_test' is not defined",
          "output_type": "error",
          "traceback": [
            "\u001b[0;31m---------------------------------------------------------------------------\u001b[0m",
            "\u001b[0;31mNameError\u001b[0m                                 Traceback (most recent call last)",
            "Cell \u001b[0;32mIn[63], line 4\u001b[0m\n\u001b[1;32m      1\u001b[0m t_x \u001b[38;5;241m=\u001b[39m np\u001b[38;5;241m.\u001b[39marray([\u001b[38;5;241m1\u001b[39m, \u001b[38;5;241m2\u001b[39m, \u001b[38;5;241m3\u001b[39m])\n\u001b[1;32m      2\u001b[0m \u001b[38;5;28mprint\u001b[39m(\u001b[38;5;124m\"\u001b[39m\u001b[38;5;124msigmoid(t_x) = \u001b[39m\u001b[38;5;124m\"\u001b[39m \u001b[38;5;241m+\u001b[39m \u001b[38;5;28mstr\u001b[39m(sigmoid(t_x)))\n\u001b[0;32m----> 4\u001b[0m \u001b[43msig_test\u001b[49m(sigmoid)\n",
            "\u001b[0;31mNameError\u001b[0m: name 'sig_test' is not defined"
          ]
        }
      ],
      "source": [
        "t_x = np.array([1, 2, 3])\n",
        "print(\"sigmoid(t_x) = \" + str(sigmoid(t_x)))\n",
        "\n",
        "sig_test(sigmoid)"
      ]
    }
  ],
  "metadata": {
    "colab": {
      "authorship_tag": "ABX9TyOoGqzRZQ8WcA8WcmD5fdbo",
      "include_colab_link": true,
      "provenance": []
    },
    "kernelspec": {
      "display_name": "Python 3",
      "name": "python3"
    },
    "language_info": {
      "codemirror_mode": {
        "name": "ipython",
        "version": 3
      },
      "file_extension": ".py",
      "mimetype": "text/x-python",
      "name": "python",
      "nbconvert_exporter": "python",
      "pygments_lexer": "ipython3",
      "version": "3.10.12"
    }
  },
  "nbformat": 4,
  "nbformat_minor": 0
}

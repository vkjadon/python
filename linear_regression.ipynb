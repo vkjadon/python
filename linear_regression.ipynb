{
  "cells": [
    {
      "cell_type": "markdown",
      "metadata": {
        "id": "view-in-github",
        "colab_type": "text"
      },
      "source": [
        "<a href=\"https://colab.research.google.com/github/vkjadon/python/blob/main/linear_regression.ipynb\" target=\"_parent\"><img src=\"https://colab.research.google.com/assets/colab-badge.svg\" alt=\"Open In Colab\"/></a>"
      ]
    },
    {
      "cell_type": "markdown",
      "source": [
        "##Test Methods"
      ],
      "metadata": {
        "id": "9-d12qVEaUE2"
      }
    },
    {
      "cell_type": "code",
      "execution_count": 30,
      "metadata": {
        "id": "pEKbPxqbR9yi"
      },
      "outputs": [],
      "source": [
        "def test_datatype(input,expected):\n",
        "    try:\n",
        "        assert isinstance(input, expected)\n",
        "        print(\"Datatype Test Case Passed\")\n",
        "    except:\n",
        "        print(\"X should be a Numpy Array\")\n",
        "\n",
        "def test_shape(input, expected):\n",
        "    try:\n",
        "        assert input.shape == expected\n",
        "        print(\"Shape Test Case Passed\")\n",
        "    except:\n",
        "        print(f\"Check the Shape!!\")\n",
        "        print(f\"The shape should be ({expected[0]},{expected[1]})\")"
      ]
    },
    {
      "cell_type": "markdown",
      "source": [
        "## Import Section"
      ],
      "metadata": {
        "id": "IrDgem_kafJr"
      }
    },
    {
      "cell_type": "code",
      "execution_count": 31,
      "metadata": {
        "id": "ucGWGlN9vhSs"
      },
      "outputs": [],
      "source": [
        "# Import the NumPy library\n",
        "import numpy as np"
      ]
    },
    {
      "cell_type": "markdown",
      "metadata": {
        "id": "fsUsTZWvR9yg"
      },
      "source": [
        "## Input Data\n",
        "\n",
        "| Size      | Bedrooms | Price (L) |\n",
        "| :---:     | :----:   |   :---:   |\n",
        "| 100       | 1        | 20        |\n",
        "| 150       | 2        | 28        |\n",
        "| 200       | 3        | 39        |\n",
        "| 250       | 4        | 51        |\n",
        "| 500       | 4        | 80        |"
      ]
    },
    {
      "cell_type": "markdown",
      "metadata": {
        "id": "Bd6CHOqOR9yh"
      },
      "source": [
        "### Features\n",
        "\n",
        "$m=5; nx=2$"
      ]
    },
    {
      "cell_type": "code",
      "execution_count": 25,
      "metadata": {
        "id": "J-3vwUCFR9yh"
      },
      "outputs": [],
      "source": [
        "nx=2; m=5"
      ]
    },
    {
      "cell_type": "markdown",
      "source": [
        "### Features for $3^{rd}$ training example:"
      ],
      "metadata": {
        "id": "Mfq-kuDYZQ18"
      }
    },
    {
      "cell_type": "markdown",
      "source": [
        "$x^{(3)}_1=200; x^{(3)}_2=3$"
      ],
      "metadata": {
        "id": "1skUXVUuZnqq"
      }
    },
    {
      "cell_type": "markdown",
      "metadata": {
        "id": "kajlsZhMR9yh"
      },
      "source": [
        "### Features vector for $2^{nd}$ training example:\n"
      ]
    },
    {
      "cell_type": "markdown",
      "source": [
        "$\\mathbf{x}^{(2)} =\\begin{pmatrix}\n",
        "  150 \\\\ 2\n",
        " \\end{pmatrix} $"
      ],
      "metadata": {
        "id": "SiwuQV8dZrAr"
      }
    },
    {
      "cell_type": "markdown",
      "source": [
        "### Feature vector of the problem dataset:"
      ],
      "metadata": {
        "id": "zREA2F4YZVkI"
      }
    },
    {
      "cell_type": "markdown",
      "source": [
        "$ \\mathbf{X} = \\begin{pmatrix}\n",
        "\\mathbf{x}^{(1)} & \\mathbf{x}^{(2)} & \\cdots & \\mathbf{x}^{(5)}\n",
        "\\end{pmatrix}$"
      ],
      "metadata": {
        "id": "kW6L7piLZvX1"
      }
    },
    {
      "cell_type": "markdown",
      "source": [
        "$ \\mathbf{X} = \\begin{pmatrix}\n",
        "100 & 150 & 200 & 250 & 500 \\\\ 1 & 2 & 3 & 4 & 4\n",
        "\\end{pmatrix}$"
      ],
      "metadata": {
        "id": "yfLZ9zsAZbjd"
      }
    },
    {
      "cell_type": "markdown",
      "source": [
        "##Implimentation"
      ],
      "metadata": {
        "id": "gXkM_GWkZ3rF"
      }
    },
    {
      "cell_type": "code",
      "execution_count": 26,
      "metadata": {
        "id": "ihK-4TTiR9yh"
      },
      "outputs": [],
      "source": [
        "x1=[100,1]\n",
        "x2=[150,2]\n",
        "x3=[200,3]\n",
        "x4=[250,4]\n",
        "x5=[500,4]"
      ]
    },
    {
      "cell_type": "code",
      "execution_count": 27,
      "metadata": {
        "id": "4AkGJevpR9yi"
      },
      "outputs": [],
      "source": [
        "# Create Feature Matrix\n",
        "X=np.array([x1, x2, x3, x4, x5]).T\n",
        "# print(X, X.shape, type(X), \"\\n\", X[1][4])"
      ]
    },
    {
      "cell_type": "code",
      "execution_count": 28,
      "metadata": {
        "id": "YvwX3a-5R9yi",
        "outputId": "0a8ec8c8-7bba-4d0c-c8ca-dfbe7c2ccda0",
        "colab": {
          "base_uri": "https://localhost:8080/"
        }
      },
      "outputs": [
        {
          "output_type": "stream",
          "name": "stdout",
          "text": [
            "Datatype Test Case Passed\n",
            "Shape Test Case Passed\n"
          ]
        }
      ],
      "source": [
        "expected=np.ndarray\n",
        "test_datatype(X,expected)\n",
        "# expected=np.arange(10).reshape(nx,m).shape\n",
        "expected=(2,5)\n",
        "test_shape(X,expected)"
      ]
    },
    {
      "cell_type": "markdown",
      "metadata": {
        "id": "D_BPwguER9yj"
      },
      "source": [
        "### Output vector of the problem dataset:\n",
        "\n",
        "$ \\mathbf{y} = \\begin{pmatrix}\n",
        "\\mathbf{y}^{(1)} & \\mathbf{y}^{(2)} & \\cdots & \\mathbf{y}^{(5)}\n",
        "\\end{pmatrix}$"
      ]
    },
    {
      "cell_type": "code",
      "execution_count": null,
      "metadata": {
        "id": "KIE75JmeR9yj"
      },
      "outputs": [],
      "source": [
        "y1=[20]\n",
        "y2=[28]\n",
        "y3=[39]\n",
        "y4=[51]\n",
        "y5=[80]"
      ]
    },
    {
      "cell_type": "code",
      "execution_count": null,
      "metadata": {
        "id": "rdHsCAoZR9yj"
      },
      "outputs": [],
      "source": [
        "# Create Feature Matrix\n",
        "y=np.array([y1, y2, y3, y4, y5]).T"
      ]
    },
    {
      "cell_type": "code",
      "execution_count": null,
      "metadata": {
        "id": "mDDNlUC7R9yj",
        "outputId": "e0aa28b6-1ffc-44c0-97ef-456a5a9fba2c",
        "colab": {
          "base_uri": "https://localhost:8080/"
        }
      },
      "outputs": [
        {
          "output_type": "stream",
          "name": "stdout",
          "text": [
            "Shape Test Case Passed\n"
          ]
        }
      ],
      "source": [
        "expected=(1,5)\n",
        "test_shape(y,expected)"
      ]
    },
    {
      "cell_type": "code",
      "execution_count": null,
      "metadata": {
        "id": "U00dCXmsR9yk"
      },
      "outputs": [],
      "source": [
        "#Initialize Weights and Biases\n",
        "#The desired shape - w(nx,1); b(1,1)\n",
        "w=np.random.rand(nx).reshape(nx,1)\n",
        "b=np.random.rand(1).reshape(1,1)"
      ]
    },
    {
      "cell_type": "code",
      "source": [
        "expected=(nx,1)\n",
        "test_shape(w,expected)"
      ],
      "metadata": {
        "id": "YMnrloKLSlXO",
        "outputId": "de94d8b8-24cb-4d61-dfb4-2f97024117c2",
        "colab": {
          "base_uri": "https://localhost:8080/"
        }
      },
      "execution_count": null,
      "outputs": [
        {
          "output_type": "stream",
          "name": "stdout",
          "text": [
            "Shape Test Case Passed\n"
          ]
        }
      ]
    },
    {
      "cell_type": "code",
      "source": [
        "expected=(1,1)\n",
        "test_shape(b,expected)"
      ],
      "metadata": {
        "id": "arSxQUlGTL67",
        "outputId": "c3c68da6-8d2a-4744-b20e-4b9141497b6b",
        "colab": {
          "base_uri": "https://localhost:8080/"
        }
      },
      "execution_count": null,
      "outputs": [
        {
          "output_type": "stream",
          "name": "stdout",
          "text": [
            "Shape Test Case Passed\n"
          ]
        }
      ]
    },
    {
      "cell_type": "markdown",
      "source": [
        "## Functions"
      ],
      "metadata": {
        "id": "0ZKlgF5MY6II"
      }
    },
    {
      "cell_type": "code",
      "source": [
        "def linear(X,w,b):\n",
        "  return np.dot(w.T,X)+b"
      ],
      "metadata": {
        "id": "ImGhvhmbT4vt"
      },
      "execution_count": null,
      "outputs": []
    },
    {
      "cell_type": "markdown",
      "metadata": {
        "id": "4NXw9qv8R9yk"
      },
      "source": [
        "$$ sigmoid(z) = sigmoid\\begin{pmatrix}\n",
        "    z_1  \\\\\n",
        "    z_2  \\\\\n",
        "    ...  \\\\\n",
        "    z_n  \\\\\n",
        "\\end{pmatrix} = \\begin{pmatrix}\n",
        "    \\frac{1}{1+e^{-z_1}}  \\\\\n",
        "    \\frac{1}{1+e^{-z_2}}  \\\\\n",
        "    ...  \\\\\n",
        "    \\frac{1}{1+e^{-z_n}}  \\\\\n",
        "\\end{pmatrix} $$"
      ]
    },
    {
      "cell_type": "code",
      "execution_count": null,
      "metadata": {
        "id": "bj3bVZEuv-2W"
      },
      "outputs": [],
      "source": [
        "def sigmoid(z: np.ndarray) -> np.ndarray:\n",
        "    # Compute the sigmoid of z\n",
        "    # (≈ 1 line of code)\n",
        "    s=(1.0/(1+np.exp(-z)))\n",
        "    # s=10\n",
        "    return s"
      ]
    },
    {
      "cell_type": "code",
      "execution_count": null,
      "metadata": {
        "id": "yIFSrHHxR9yl",
        "outputId": "37ef5688-7be1-4e16-d83b-76f1db9e54f1"
      },
      "outputs": [
        {
          "name": "stdout",
          "output_type": "stream",
          "text": [
            "sigmoid(t_x) = [0.73105858 0.88079708 0.95257413]\n"
          ]
        },
        {
          "ename": "NameError",
          "evalue": "name 'sig_test' is not defined",
          "output_type": "error",
          "traceback": [
            "\u001b[0;31m---------------------------------------------------------------------------\u001b[0m",
            "\u001b[0;31mNameError\u001b[0m                                 Traceback (most recent call last)",
            "Cell \u001b[0;32mIn[63], line 4\u001b[0m\n\u001b[1;32m      1\u001b[0m t_x \u001b[38;5;241m=\u001b[39m np\u001b[38;5;241m.\u001b[39marray([\u001b[38;5;241m1\u001b[39m, \u001b[38;5;241m2\u001b[39m, \u001b[38;5;241m3\u001b[39m])\n\u001b[1;32m      2\u001b[0m \u001b[38;5;28mprint\u001b[39m(\u001b[38;5;124m\"\u001b[39m\u001b[38;5;124msigmoid(t_x) = \u001b[39m\u001b[38;5;124m\"\u001b[39m \u001b[38;5;241m+\u001b[39m \u001b[38;5;28mstr\u001b[39m(sigmoid(t_x)))\n\u001b[0;32m----> 4\u001b[0m \u001b[43msig_test\u001b[49m(sigmoid)\n",
            "\u001b[0;31mNameError\u001b[0m: name 'sig_test' is not defined"
          ]
        }
      ],
      "source": [
        "t_x = np.array([1, 2, 3])\n",
        "print(\"sigmoid(t_x) = \" + str(sigmoid(t_x)))\n",
        "\n",
        "sig_test(sigmoid)"
      ]
    }
  ],
  "metadata": {
    "colab": {
      "provenance": [],
      "toc_visible": true,
      "include_colab_link": true
    },
    "kernelspec": {
      "display_name": "Python 3",
      "name": "python3"
    },
    "language_info": {
      "codemirror_mode": {
        "name": "ipython",
        "version": 3
      },
      "file_extension": ".py",
      "mimetype": "text/x-python",
      "name": "python",
      "nbconvert_exporter": "python",
      "pygments_lexer": "ipython3",
      "version": "3.10.12"
    }
  },
  "nbformat": 4,
  "nbformat_minor": 0
}
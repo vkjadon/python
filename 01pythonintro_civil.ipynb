{
  "nbformat": 4,
  "nbformat_minor": 0,
  "metadata": {
    "colab": {
      "provenance": [],
      "toc_visible": true,
      "name": "01pythonintro_civil.ipynb",
      "authorship_tag": "ABX9TyOz+xp5736HIf8iypCLY5Gh",
      "include_colab_link": true
    },
    "kernelspec": {
      "name": "python3",
      "display_name": "Python 3"
    },
    "language_info": {
      "name": "python"
    }
  },
  "cells": [
    {
      "cell_type": "markdown",
      "metadata": {
        "id": "view-in-github",
        "colab_type": "text"
      },
      "source": [
        "<a href=\"https://colab.research.google.com/github/vkjadon/python/blob/main/01pythonintro_civil.ipynb\" target=\"_parent\"><img src=\"https://colab.research.google.com/assets/colab-badge.svg\" alt=\"Open In Colab\"/></a>"
      ]
    },
    {
      "cell_type": "markdown",
      "source": [
        "##Introduction to Programmimg"
      ],
      "metadata": {
        "id": "OQtFPz4ijAT4"
      }
    },
    {
      "cell_type": "markdown",
      "source": [
        "A 2 m portion $AB$ of a long bar with uniform cross-section is subjected to a system of load such that ends $A$ and $B$ are deformed uniformly by 1 mm and 3 mm respectively. Find the axial deformation of the bar at a distance of 500 mm from the end $A$.\n",
        "\n",
        "\n"
      ],
      "metadata": {
        "id": "xi5Rm5sWlLWR"
      }
    },
    {
      "cell_type": "code",
      "source": [
        "2 + 2"
      ],
      "metadata": {
        "id": "-0o9PrzU6wKF"
      },
      "execution_count": null,
      "outputs": []
    },
    {
      "cell_type": "markdown",
      "source": [
        "Let x represnts the lenght of the bar and y the corresponding deformation."
      ],
      "metadata": {
        "id": "zijZ3v-gzPeq"
      }
    },
    {
      "cell_type": "code",
      "source": [
        "# Mathematical Model of the system is based on the straight line equation\n",
        "y = 0.001x + 1"
      ],
      "metadata": {
        "id": "uD2BHCAO3D6j"
      },
      "execution_count": null,
      "outputs": []
    },
    {
      "cell_type": "markdown",
      "source": [
        "The execution throw some error related to 'decimal literal' as it does not understand that '4' and 'x' are to be multiplied. We have to use '*' to represent the multiplication of two quantities.\n",
        "Modify the code"
      ],
      "metadata": {
        "id": "a4BJ70VwLcMF"
      }
    },
    {
      "cell_type": "code",
      "source": [
        "y = 0.001 * x + 1"
      ],
      "metadata": {
        "id": "Op8PlIDGMPgQ"
      },
      "execution_count": null,
      "outputs": []
    },
    {
      "cell_type": "markdown",
      "source": [
        "To solve this equation, we must know the value of 'x' above this line. So, let us write x=500.\n",
        " In programming language is called the assignment of a value to a variable."
      ],
      "metadata": {
        "id": "AZSSddr-MWE1"
      }
    },
    {
      "cell_type": "code",
      "source": [
        "x = 500\n",
        "y = 0.001 * x + 1"
      ],
      "metadata": {
        "id": "W9Nm7jpEMSdL"
      },
      "execution_count": null,
      "outputs": []
    },
    {
      "cell_type": "markdown",
      "source": [
        "The code is executing but it is not producing and output. Its similar that I ask a question and you process the answer but you do not tell. In this case the answer is stored in variable 'y'. We have to tell computer to display the answer. This is achieved by 'print' command."
      ],
      "metadata": {
        "id": "wJAohvXuNVpN"
      }
    },
    {
      "cell_type": "code",
      "source": [
        "print(y)"
      ],
      "metadata": {
        "id": "UoAiPZTqM4tp"
      },
      "execution_count": null,
      "outputs": []
    },
    {
      "cell_type": "markdown",
      "source": [
        "This is the plain answer. We will discuss later how to make it more readable and formatted. Now let us change the value of 'x' to 1000 and check the answer."
      ],
      "metadata": {
        "id": "7zXd-NdTONbS"
      }
    },
    {
      "cell_type": "code",
      "source": [
        "x = 1000\n",
        "y = 0.001 * x + 1\n",
        "print(x, y)"
      ],
      "metadata": {
        "id": "0lxYV09lOHP4"
      },
      "execution_count": null,
      "outputs": []
    },
    {
      "cell_type": "markdown",
      "source": [
        "See the difference between two, In the first case its '1000'; an integer and in second case the answer is '2.0' and is a real number. The real numbers in coding languages are called 'float' number and integer as 'integer'. They are collectively called 'data-type'. So, in first case, the data-type of 'y' is 'integer' in second case, the data-type is 'float'. The python automatically assign the data-type to a variable according to its assigned value."
      ],
      "metadata": {
        "id": "ZOUxCUBEOukR"
      }
    },
    {
      "cell_type": "code",
      "source": [
        "print(type(x))\n",
        "print(type(y))"
      ],
      "metadata": {
        "id": "WoXQGAXZP9c_"
      },
      "execution_count": null,
      "outputs": []
    },
    {
      "cell_type": "markdown",
      "source": [
        "We see the 'y' belongs to a 'float' class. In Python, everything is an instance of some class and therefore objects whether they are basic data types like integers, strings."
      ],
      "metadata": {
        "id": "voIZe8JlWPS1"
      }
    },
    {
      "cell_type": "markdown",
      "source": [
        "To make the code more readable, we use the f-strings in Python. It is used by prefixing the string with ‘f’ or ‘F’ and place any variables or expressions inside curly braces {}."
      ],
      "metadata": {
        "id": "WGH-5bfT3EQd"
      }
    },
    {
      "cell_type": "code",
      "source": [
        "# Using an f-string to include variable values in the print statement\n",
        "print(f\"The value of x is {x} and the value of y is {y}\")"
      ],
      "metadata": {
        "id": "9SLECOTY0HrA"
      },
      "execution_count": null,
      "outputs": []
    },
    {
      "cell_type": "markdown",
      "source": [
        "##Class\n",
        "\n"
      ],
      "metadata": {
        "id": "i5NCdNZbCYYq"
      }
    },
    {
      "cell_type": "markdown",
      "source": [
        "A user-defined prototype for an object that defines a set of attributes that characterize any object is called the class. The attributes are data members (class variables and instance variables) and methods are functions to do a specific task and associated with a class.\n",
        "\n",
        "The attributes and methods for an object of the class are accessed via dot notation.\n",
        "\n",
        "Classes allow us to group our data called attributes and methods in a way that is easy to reuse and also easy to build upon when needed.\n",
        "\n",
        "Let us create a class 'Employee' for a company as each individual employee is going to have specific attributes and methods."
      ],
      "metadata": {
        "id": "xsaQwfLw5ryy"
      }
    },
    {
      "cell_type": "code",
      "source": [
        "class Employee:\n",
        "  pass"
      ],
      "metadata": {
        "id": "9qPsRQivW8yP"
      },
      "execution_count": null,
      "outputs": []
    },
    {
      "cell_type": "markdown",
      "source": [
        "We can also understand a class as a blueprint for creating instances (objects). We can create employees using the class and these employees will be called as instance (object) of that class. Let us create two objects 'emp_1' and 'emp_2' of the Employee class by instantiating the class as below."
      ],
      "metadata": {
        "id": "9iEt6sZSXc9v"
      }
    },
    {
      "cell_type": "code",
      "source": [
        "emp_1=Employee()\n",
        "emp_2=Employee()"
      ],
      "metadata": {
        "id": "TGXq3lgeXeFK"
      },
      "execution_count": null,
      "outputs": []
    },
    {
      "cell_type": "code",
      "source": [
        "type(emp_1)"
      ],
      "metadata": {
        "id": "9Ds9CiUZXhgK"
      },
      "execution_count": null,
      "outputs": []
    },
    {
      "cell_type": "code",
      "source": [
        "class Employee:\n",
        "    def __init__(self, name, age):\n",
        "        self.name = name\n",
        "        self.age = age\n",
        "\n",
        "    def display_info(self):\n",
        "        print(f\"Name: {self.name}, Age: {self.age}\")\n",
        "\n",
        "# Creating an Employee instance with attributes\n",
        "emp_1 = Employee(\"VKJ\", 50)\n",
        "emp_1.display_info()  # Output: Name: Alice, Age: 30"
      ],
      "metadata": {
        "id": "i-JDg7zpYTmc"
      },
      "execution_count": null,
      "outputs": []
    },
    {
      "cell_type": "code",
      "source": [
        "print(type(emp_1))"
      ],
      "metadata": {
        "id": "usoUZXq9Yjea"
      },
      "execution_count": null,
      "outputs": []
    },
    {
      "cell_type": "code",
      "source": [
        "print(dir(emp_1))"
      ],
      "metadata": {
        "id": "AF2M6VRGZP-n"
      },
      "execution_count": null,
      "outputs": []
    },
    {
      "cell_type": "markdown",
      "source": [
        "We can check the methods available in the 'float' class."
      ],
      "metadata": {
        "id": "SLnCodKH5s_q"
      }
    },
    {
      "cell_type": "code",
      "source": [
        "print(dir(float) )"
      ],
      "metadata": {
        "id": "XsGpc1OH54Ch"
      },
      "execution_count": null,
      "outputs": []
    },
    {
      "cell_type": "markdown",
      "source": [
        "Most of these are special methods (starting with double underscore '__'). We see that 'name', 'age' and 'display_info' are the methods and attributes of the 'emp_1' instance of Employee class.\n",
        "We shall discuss the other concepts of the classes when we discuss the oject oriented programming."
      ],
      "metadata": {
        "id": "q2cdsK-J5_j2"
      }
    },
    {
      "cell_type": "markdown",
      "source": [
        "##Try Yourself"
      ],
      "metadata": {
        "id": "rxqaf9rd8Oid"
      }
    },
    {
      "cell_type": "markdown",
      "source": [
        "Consider a bar of 10m long having uniform cross-section. The temperature of one end of the bar is kept at 10 $^0$C and is varying linearly to 50 $^0$C at other end. Find the temperature of the bar at a distance of 3.75 m from the colder end."
      ],
      "metadata": {
        "id": "o3phh6IJ5fW8"
      }
    },
    {
      "cell_type": "markdown",
      "source": [
        "###Solution"
      ],
      "metadata": {
        "id": "W3oYs6LM9R1l"
      }
    },
    {
      "cell_type": "code",
      "source": [
        "x = 3.75\n",
        "y = 4 * x + 10\n",
        "print(f\"The temperature at {x} m is {y} \\u00B0C\")"
      ],
      "metadata": {
        "id": "TUVHbDjo8KNP"
      },
      "execution_count": null,
      "outputs": []
    },
    {
      "cell_type": "markdown",
      "source": [
        "##Hot or Cold : Adding Logics"
      ],
      "metadata": {
        "id": "V45EKgxDPq9j"
      }
    },
    {
      "cell_type": "markdown",
      "source": [
        "It is said that the rod is said to be cold if the temperature is less than 35 $^0$C and otherwise hot.\n",
        "Try to find the state of the rod at a distance of 6.5 m."
      ],
      "metadata": {
        "id": "1fVpvNIQQOqk"
      }
    },
    {
      "cell_type": "code",
      "source": [
        "x = 6.5\n",
        "y = 4 * x + 10\n",
        "if y < 35:\n",
        "  print('Cold')\n",
        "else:\n",
        "  print('Hot')"
      ],
      "metadata": {
        "id": "v1_ensX4QzRx"
      },
      "execution_count": null,
      "outputs": []
    },
    {
      "cell_type": "markdown",
      "source": [
        "We can add another category of warm in case the temperature is between 30 $^0$C and 40 $^0$C."
      ],
      "metadata": {
        "id": "dJoD9OQcRUlG"
      }
    },
    {
      "cell_type": "code",
      "source": [
        "x = 6.5\n",
        "y = 4 * x + 10\n",
        "if y < 35:\n",
        "  print('Cold')\n",
        "elif y < 40:\n",
        "  print('Warm')\n",
        "else:\n",
        "  print('Hot')"
      ],
      "metadata": {
        "id": "jRrrRW1ARQG2"
      },
      "execution_count": null,
      "outputs": []
    },
    {
      "cell_type": "markdown",
      "source": [
        "##Temperature Distribution : Looping"
      ],
      "metadata": {
        "id": "twxsWrze2UqE"
      }
    },
    {
      "cell_type": "markdown",
      "source": [
        "Now, let us find the temperature distribution of the bar at an interval of 0.5 m. In this case we have to first populate the data points of the distance as:\n",
        "\n",
        "0, 0.5, 1.0, 1.5 ............ 9.0, 9.5, 10.0\n",
        "\n",
        "These need to be stored in a variable. Let us assume the variable name as lenght_coordinates. Pyhton has another data type of list which we can use to store all the coordinates in the valiable lenght_coordinates.\n",
        "\n",
        "This we will be doing in two steps. In first step, we shall learn how to generate these nubmers and then we shall store in the variable.\n",
        "\n",
        "We have a range function with minimum one arguement"
      ],
      "metadata": {
        "id": "KT9_QHMlSRwM"
      }
    },
    {
      "cell_type": "code",
      "source": [
        "x = range(11)\n",
        "for n in x:\n",
        "  print(n)"
      ],
      "metadata": {
        "id": "QBY2ME0fSNhv"
      },
      "execution_count": null,
      "outputs": []
    },
    {
      "cell_type": "markdown",
      "source": [
        "When two arguements are passed, the first is taken as start number and the second is taken as end number."
      ],
      "metadata": {
        "id": "Ni0kOk9dbkKJ"
      }
    },
    {
      "cell_type": "code",
      "source": [
        "print(type(x))"
      ],
      "metadata": {
        "id": "okqA-x0hAJn_"
      },
      "execution_count": null,
      "outputs": []
    },
    {
      "cell_type": "code",
      "source": [
        "x = range(11, 13)\n",
        "for n in x:\n",
        "  print(n)"
      ],
      "metadata": {
        "id": "_xhj7XZMb4WC"
      },
      "execution_count": null,
      "outputs": []
    },
    {
      "cell_type": "code",
      "source": [
        "x = range(11, -1)\n",
        "for n in x:\n",
        "  print(n)"
      ],
      "metadata": {
        "id": "bgOThkenBZBI"
      },
      "execution_count": null,
      "outputs": []
    },
    {
      "cell_type": "code",
      "source": [
        "x = range(11, -5, -1)\n",
        "for n in x:\n",
        "  print(n)"
      ],
      "metadata": {
        "id": "6911FxDMb0WA"
      },
      "execution_count": null,
      "outputs": []
    },
    {
      "cell_type": "code",
      "source": [
        "x = range(0, 21)\n",
        "for n in x:\n",
        "  print(n)"
      ],
      "metadata": {
        "id": "NSnZNqHHcCpM"
      },
      "execution_count": null,
      "outputs": []
    },
    {
      "cell_type": "code",
      "source": [
        "x = range(0, 21)\n",
        "for n in x:\n",
        "  print(0.5 * n)"
      ],
      "metadata": {
        "id": "o3-1XyNfcHD6"
      },
      "execution_count": null,
      "outputs": []
    },
    {
      "cell_type": "markdown",
      "source": [
        "This logic gives us the number on the screen but is not storing in the variable. For that"
      ],
      "metadata": {
        "id": "vp3kYtj6caSf"
      }
    },
    {
      "cell_type": "markdown",
      "source": [
        "##List"
      ],
      "metadata": {
        "id": "U8YfBXTS2f-o"
      }
    },
    {
      "cell_type": "markdown",
      "source": [
        "Lists are one of the most flexible and commonly used data structures in Python. Each item in a list can be of any data type (e.g., integers, strings, other lists), and lists can contain items of different data types within the same list. A list is an ordered, mutable (modifiable) collection of items."
      ],
      "metadata": {
        "id": "3kPaKJtP2-u6"
      }
    },
    {
      "cell_type": "code",
      "source": [
        "lenght_coordinates = [2, 4, 5.7, 'thermistor']\n",
        "print(type(lenght_coordinates))"
      ],
      "metadata": {
        "id": "JKQsghkN41i-"
      },
      "execution_count": null,
      "outputs": []
    },
    {
      "cell_type": "markdown",
      "source": [
        "We can check the attributes and methods available in the 'list' class."
      ],
      "metadata": {
        "id": "TxUmtQ6S5UpA"
      }
    },
    {
      "cell_type": "code",
      "source": [
        "print(dir(lenght_coordinates))"
      ],
      "metadata": {
        "id": "Pg9uByys5oBY"
      },
      "execution_count": null,
      "outputs": []
    },
    {
      "cell_type": "markdown",
      "source": [
        "We find that 'append', 'clear', 'copy', 'count', 'extend', 'index', 'insert', 'pop', 'remove', 'reverse', 'sort' are the various methods available for the 'lenght_coordinate' object of the 'list' class. You can use append method on the 'length_coordinates' to populate the desired coordinates."
      ],
      "metadata": {
        "id": "Qcvk7fbt65gM"
      }
    },
    {
      "cell_type": "code",
      "source": [
        "lenght_coordinates = []\n",
        "for x in range(21):\n",
        "    lenght_coordinates.append(x * 0.5)\n",
        "print(lenght_coordinates)"
      ],
      "metadata": {
        "id": "zX38lcnAc4Mk"
      },
      "execution_count": null,
      "outputs": []
    },
    {
      "cell_type": "markdown",
      "source": [
        "We can use list comprehension as below to get the desired result in one line"
      ],
      "metadata": {
        "id": "Zl3c9PIAcM1z"
      }
    },
    {
      "cell_type": "code",
      "source": [
        "lenght_coordinates = [x * 0.5 for x in range(21)]\n",
        "print(lenght_coordinates)"
      ],
      "metadata": {
        "id": "1LxH1eJ3a9HG"
      },
      "execution_count": null,
      "outputs": []
    },
    {
      "cell_type": "code",
      "source": [
        "temperature = []\n",
        "for x in lenght_coordinates:\n",
        "    y = 4 * x + 10\n",
        "    temperature.append(y)\n"
      ],
      "metadata": {
        "id": "XoQGeoE-_qoQ"
      },
      "execution_count": null,
      "outputs": []
    },
    {
      "cell_type": "code",
      "source": [
        "print(\"X values:\", lenght_coordinates)\n",
        "print(\"Y values:\", temperature)"
      ],
      "metadata": {
        "id": "JR7Sy-9GAtjF"
      },
      "execution_count": null,
      "outputs": []
    },
    {
      "cell_type": "markdown",
      "source": [
        "We can also do this using list comprehension as below"
      ],
      "metadata": {
        "id": "_r01mVctA6sF"
      }
    },
    {
      "cell_type": "code",
      "source": [
        "temperature = [4 * x + 10 for x in lenght_coordinates]"
      ],
      "metadata": {
        "id": "moZR6shyA6HK"
      },
      "execution_count": null,
      "outputs": []
    },
    {
      "cell_type": "markdown",
      "source": [
        "##matplotlib"
      ],
      "metadata": {
        "id": "XJ7mQcjTilG4"
      }
    },
    {
      "cell_type": "code",
      "source": [
        "import matplotlib.pyplot as plt\n",
        "\n",
        "plt.plot(lenght_coordinates, temperature, label=\"Temperature\")\n",
        "\n",
        "plt.show()"
      ],
      "metadata": {
        "id": "bMRg6ApYdkp7"
      },
      "execution_count": null,
      "outputs": []
    },
    {
      "cell_type": "code",
      "source": [
        "import matplotlib.pyplot as plt\n",
        "\n",
        "plt.plot(lenght_coordinates, temperature, label=\"Temperature\")\n",
        "plt.xlabel(\"Length\")\n",
        "plt.ylabel(\"Temperature\")\n",
        "plt.title(\"Temperature Distribution\")\n",
        "plt.legend()\n",
        "plt.grid(True)\n",
        "plt.show()"
      ],
      "metadata": {
        "id": "1Y-XujKoDTWK"
      },
      "execution_count": null,
      "outputs": []
    },
    {
      "cell_type": "code",
      "source": [
        "import numpy as np\n",
        "import matplotlib.pyplot as plt\n",
        "\n",
        "# Given values\n",
        "L = 10  # Length of the bar in meters\n",
        "T1 = 10  # Temperature at the colder end in °C\n",
        "T2 = 50  # Temperature at the hotter end in °C\n",
        "\n",
        "# Create a meshgrid for the bar's surface\n",
        "x = [i * 0.1 for i in range(101)]  # 100 points along the length of the bar\n",
        "y = [i * 0.5 for i in range(21)]  # 20 points along the height of the bar\n",
        "X, Y = np.meshgrid(x, y)\n",
        "\n",
        "# Calculate the temperature at each x position, ignoring y since it’s uniform across the height\n",
        "temperature = T1 + (T2 - T1) * X / L\n",
        "\n",
        "# Plotting the heat map\n",
        "plt.figure(figsize=(12, 3))\n",
        "plt.pcolormesh(X, Y, temperature, shading='auto', cmap='coolwarm')\n",
        "plt.colorbar(label=\"Temperature (°C)\")\n",
        "plt.xlabel(\"Distance along the bar (m)\")\n",
        "plt.ylabel(\"Height of the bar cross-section (m)\")\n",
        "plt.title(\"Temperature Distribution Heat Map along the Surface of the Bar\")\n",
        "plt.show()\n"
      ],
      "metadata": {
        "id": "ngIBIUNnhPjA"
      },
      "execution_count": null,
      "outputs": []
    }
  ]
}
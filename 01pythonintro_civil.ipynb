{
  "nbformat": 4,
  "nbformat_minor": 0,
  "metadata": {
    "colab": {
      "provenance": [],
      "toc_visible": true,
      "name": "01pythonintro_civil.ipynb",
      "authorship_tag": "ABX9TyM8C4u9miZbUv5VW2Iy6gUV",
      "include_colab_link": true
    },
    "kernelspec": {
      "name": "python3",
      "display_name": "Python 3"
    },
    "language_info": {
      "name": "python"
    }
  },
  "cells": [
    {
      "cell_type": "markdown",
      "metadata": {
        "id": "view-in-github",
        "colab_type": "text"
      },
      "source": [
        "<a href=\"https://colab.research.google.com/github/vkjadon/python/blob/main/01pythonintro_civil.ipynb\" target=\"_parent\"><img src=\"https://colab.research.google.com/assets/colab-badge.svg\" alt=\"Open In Colab\"/></a>"
      ]
    },
    {
      "cell_type": "markdown",
      "source": [
        "##Introduction to Programmimg"
      ],
      "metadata": {
        "id": "OQtFPz4ijAT4"
      }
    },
    {
      "cell_type": "markdown",
      "source": [
        "A 2 m long bar $AB$ having uniform cross-section is subjected to a system of load such that one end is deformed by 1 mm and the deformation is varying uniformly to 3 mm at the other end. Find the axial deformation of the bar at a distance of 500 mm from the fixed end.\n",
        "\n",
        "\n"
      ],
      "metadata": {
        "id": "xi5Rm5sWlLWR"
      }
    },
    {
      "cell_type": "markdown",
      "source": [
        "Let x represnts the lenght of the bar and y the corresponding deformation."
      ],
      "metadata": {
        "id": "zijZ3v-gzPeq"
      }
    },
    {
      "cell_type": "code",
      "source": [
        "# Mathematical Model of the system is based on the straight line equation\n",
        "y = 0.001x + 1"
      ],
      "metadata": {
        "colab": {
          "base_uri": "https://localhost:8080/",
          "height": 108
        },
        "id": "uD2BHCAO3D6j",
        "outputId": "77ed4511-3628-4204-b605-b2ade3b8813e"
      },
      "execution_count": 19,
      "outputs": [
        {
          "output_type": "error",
          "ename": "SyntaxError",
          "evalue": "invalid decimal literal (ipython-input-19-1003007296.py, line 2)",
          "traceback": [
            "\u001b[0;36m  File \u001b[0;32m\"/tmp/ipython-input-19-1003007296.py\"\u001b[0;36m, line \u001b[0;32m2\u001b[0m\n\u001b[0;31m    y = 0.001x + 1\u001b[0m\n\u001b[0m            ^\u001b[0m\n\u001b[0;31mSyntaxError\u001b[0m\u001b[0;31m:\u001b[0m invalid decimal literal\n"
          ]
        }
      ]
    },
    {
      "cell_type": "markdown",
      "source": [
        "The execution throw some error related to 'decimal literal' as it does not understand that '4' and 'x' are to be multiplied. We have to use '*' to represent the multiplication of two quantities.\n",
        "Modify the code"
      ],
      "metadata": {
        "id": "a4BJ70VwLcMF"
      }
    },
    {
      "cell_type": "code",
      "source": [
        "y = 0.001 * x + 1"
      ],
      "metadata": {
        "colab": {
          "base_uri": "https://localhost:8080/",
          "height": 144
        },
        "id": "Op8PlIDGMPgQ",
        "outputId": "34cbf123-dbd7-4557-ef80-f2b67fadd907"
      },
      "execution_count": 50,
      "outputs": [
        {
          "output_type": "error",
          "ename": "TypeError",
          "evalue": "unsupported operand type(s) for *: 'float' and 'range'",
          "traceback": [
            "\u001b[0;31m---------------------------------------------------------------------------\u001b[0m",
            "\u001b[0;31mTypeError\u001b[0m                                 Traceback (most recent call last)",
            "\u001b[0;32m/tmp/ipython-input-50-2785584398.py\u001b[0m in \u001b[0;36m<cell line: 0>\u001b[0;34m()\u001b[0m\n\u001b[0;32m----> 1\u001b[0;31m \u001b[0my\u001b[0m \u001b[0;34m=\u001b[0m \u001b[0;36m0.001\u001b[0m \u001b[0;34m*\u001b[0m \u001b[0mx\u001b[0m \u001b[0;34m+\u001b[0m \u001b[0;36m1\u001b[0m\u001b[0;34m\u001b[0m\u001b[0;34m\u001b[0m\u001b[0m\n\u001b[0m",
            "\u001b[0;31mTypeError\u001b[0m: unsupported operand type(s) for *: 'float' and 'range'"
          ]
        }
      ]
    },
    {
      "cell_type": "markdown",
      "source": [
        "To solve this equation, we must know the value of 'x' above this line. So, let us write x=500.\n",
        " In programming language is called the assignment of a value to a variable."
      ],
      "metadata": {
        "id": "AZSSddr-MWE1"
      }
    },
    {
      "cell_type": "code",
      "source": [
        "x = 500\n",
        "y = 0.001 * x + 1"
      ],
      "metadata": {
        "id": "W9Nm7jpEMSdL"
      },
      "execution_count": 51,
      "outputs": []
    },
    {
      "cell_type": "markdown",
      "source": [
        "The code is executing but it is not producing and output. Its similar that I ask a question and you process the answer but you do not tell. In this case the answer is stored in variable 'y'. We have to tell computer to display the answer. This is achieved by 'print' command."
      ],
      "metadata": {
        "id": "wJAohvXuNVpN"
      }
    },
    {
      "cell_type": "code",
      "source": [
        "print(y)"
      ],
      "metadata": {
        "colab": {
          "base_uri": "https://localhost:8080/"
        },
        "id": "UoAiPZTqM4tp",
        "outputId": "01fc6273-20e3-4d9b-8b68-6df810b6fdb9"
      },
      "execution_count": null,
      "outputs": [
        {
          "output_type": "stream",
          "name": "stdout",
          "text": [
            "25.0\n"
          ]
        }
      ]
    },
    {
      "cell_type": "markdown",
      "source": [
        "This is the plain answer. We will discuss later how to make it more readable and formatted. Now let us change the value of 'x' to 4 and check the answer."
      ],
      "metadata": {
        "id": "7zXd-NdTONbS"
      }
    },
    {
      "cell_type": "code",
      "source": [
        "x = 1000\n",
        "y = 0.001 * x + 1\n",
        "print(x)\n",
        "print(y)"
      ],
      "metadata": {
        "colab": {
          "base_uri": "https://localhost:8080/"
        },
        "id": "0lxYV09lOHP4",
        "outputId": "3ab94ce0-fcf3-4246-d227-418d9b6f9b17"
      },
      "execution_count": 52,
      "outputs": [
        {
          "output_type": "stream",
          "name": "stdout",
          "text": [
            "1000\n",
            "2.0\n"
          ]
        }
      ]
    },
    {
      "cell_type": "markdown",
      "source": [
        "See the difference between two, In the first case its '1000'; an integer and in second case the answer is '2.0' and is a real number. The real numbers in coding languages are called 'float' number and integer as 'integer'. They are collectively called 'data-type'. So, in first case, the data-type of 'y' is 'integer' in second case, the data-type is 'float'. The python automatically assign the data-type to a variable according to its assigned value."
      ],
      "metadata": {
        "id": "ZOUxCUBEOukR"
      }
    },
    {
      "cell_type": "code",
      "source": [
        "print(type(y))"
      ],
      "metadata": {
        "id": "WoXQGAXZP9c_",
        "outputId": "b6177df7-0eb9-4586-df4b-78dcc9a571cc",
        "colab": {
          "base_uri": "https://localhost:8080/"
        }
      },
      "execution_count": 11,
      "outputs": [
        {
          "output_type": "stream",
          "name": "stdout",
          "text": [
            "<class 'float'>\n"
          ]
        }
      ]
    },
    {
      "cell_type": "markdown",
      "source": [
        "We see the 'y' belongs to a 'float' class. In Python, everything is an instance of some class and therefore objects whether they are basic data types like integers, strings."
      ],
      "metadata": {
        "id": "voIZe8JlWPS1"
      }
    },
    {
      "cell_type": "markdown",
      "source": [
        "##Class\n",
        "\n"
      ],
      "metadata": {
        "id": "i5NCdNZbCYYq"
      }
    },
    {
      "cell_type": "markdown",
      "source": [
        "A user-defined prototype for an object that defines a set of attributes that characterize any object is called the class. The attributes are data members (class variables and instance variables) and methods are functions to do a specific task and associated with a class.\n",
        "\n",
        "The attributes and methods for an object of the class are accessed via dot notation.\n",
        "\n",
        "Classes allow us to group our data called attributes and methods in a way that is easy to reuse and also easy to build upon when needed.\n",
        "\n",
        "Let us create a class 'Employee' for a company as each individual employee is going to have specific attributes and methods."
      ],
      "metadata": {
        "id": "xsaQwfLw5ryy"
      }
    },
    {
      "cell_type": "code",
      "source": [
        "class Employee:\n",
        "  pass"
      ],
      "metadata": {
        "id": "9qPsRQivW8yP"
      },
      "execution_count": null,
      "outputs": []
    },
    {
      "cell_type": "markdown",
      "source": [
        "We can also understand a class as a blueprint for creating instances (objects). We can create employees using the class and these employees will be called as instance (object) of that class. Let us create two objects 'emp_1' and 'emp_2' of the Employee class by instantiating the class as below."
      ],
      "metadata": {
        "id": "9iEt6sZSXc9v"
      }
    },
    {
      "cell_type": "code",
      "source": [
        "emp_1=Employee()\n",
        "emp_2=Employee()"
      ],
      "metadata": {
        "id": "TGXq3lgeXeFK"
      },
      "execution_count": null,
      "outputs": []
    },
    {
      "cell_type": "code",
      "source": [
        "type(emp_1)"
      ],
      "metadata": {
        "id": "9Ds9CiUZXhgK",
        "outputId": "9580b6cd-fac5-4dc4-aab3-133f7118436f",
        "colab": {
          "base_uri": "https://localhost:8080/"
        }
      },
      "execution_count": null,
      "outputs": [
        {
          "output_type": "execute_result",
          "data": {
            "text/plain": [
              "__main__.Employee"
            ]
          },
          "metadata": {},
          "execution_count": 3
        }
      ]
    },
    {
      "cell_type": "code",
      "source": [
        "class Employee:\n",
        "    def __init__(self, name, age):\n",
        "        self.name = name\n",
        "        self.age = age\n",
        "\n",
        "    def display_info(self):\n",
        "        print(f\"Name: {self.name}, Age: {self.age}\")\n",
        "\n",
        "# Creating an Employee instance with attributes\n",
        "emp_1 = Employee(\"VKJ\", 50)\n",
        "emp_1.display_info()  # Output: Name: Alice, Age: 30"
      ],
      "metadata": {
        "id": "i-JDg7zpYTmc",
        "outputId": "83802c8a-e5b3-4fa4-f25d-aeb820171c72",
        "colab": {
          "base_uri": "https://localhost:8080/"
        }
      },
      "execution_count": null,
      "outputs": [
        {
          "output_type": "stream",
          "name": "stdout",
          "text": [
            "Name: VKJ, Age: 50\n"
          ]
        }
      ]
    },
    {
      "cell_type": "code",
      "source": [
        "print(type(emp_1))"
      ],
      "metadata": {
        "id": "usoUZXq9Yjea",
        "outputId": "bb88f9e5-749f-4215-b13c-f4daaa51985a",
        "colab": {
          "base_uri": "https://localhost:8080/"
        }
      },
      "execution_count": null,
      "outputs": [
        {
          "output_type": "stream",
          "name": "stdout",
          "text": [
            "<class '__main__.Employee'>\n"
          ]
        }
      ]
    },
    {
      "cell_type": "code",
      "source": [
        "print(dir(emp_1))"
      ],
      "metadata": {
        "id": "AF2M6VRGZP-n",
        "outputId": "58fa14d2-cbeb-4bf8-a50a-e80df95c38da",
        "colab": {
          "base_uri": "https://localhost:8080/"
        }
      },
      "execution_count": null,
      "outputs": [
        {
          "output_type": "stream",
          "name": "stdout",
          "text": [
            "['__class__', '__delattr__', '__dict__', '__dir__', '__doc__', '__eq__', '__format__', '__ge__', '__getattribute__', '__gt__', '__hash__', '__init__', '__init_subclass__', '__le__', '__lt__', '__module__', '__ne__', '__new__', '__reduce__', '__reduce_ex__', '__repr__', '__setattr__', '__sizeof__', '__str__', '__subclasshook__', '__weakref__', 'age', 'display_info', 'name']\n"
          ]
        }
      ]
    },
    {
      "cell_type": "markdown",
      "source": [
        "We can check the methods available in the 'float' class."
      ],
      "metadata": {
        "id": "SLnCodKH5s_q"
      }
    },
    {
      "cell_type": "code",
      "source": [
        "print(dir(float) )"
      ],
      "metadata": {
        "colab": {
          "base_uri": "https://localhost:8080/"
        },
        "id": "XsGpc1OH54Ch",
        "outputId": "85286a1d-6c6f-48df-dea1-931a074db9fa"
      },
      "execution_count": null,
      "outputs": [
        {
          "output_type": "stream",
          "name": "stdout",
          "text": [
            "['__abs__', '__add__', '__bool__', '__ceil__', '__class__', '__delattr__', '__dir__', '__divmod__', '__doc__', '__eq__', '__float__', '__floor__', '__floordiv__', '__format__', '__ge__', '__getattribute__', '__getformat__', '__getnewargs__', '__gt__', '__hash__', '__init__', '__init_subclass__', '__int__', '__le__', '__lt__', '__mod__', '__mul__', '__ne__', '__neg__', '__new__', '__pos__', '__pow__', '__radd__', '__rdivmod__', '__reduce__', '__reduce_ex__', '__repr__', '__rfloordiv__', '__rmod__', '__rmul__', '__round__', '__rpow__', '__rsub__', '__rtruediv__', '__setattr__', '__setformat__', '__sizeof__', '__str__', '__sub__', '__subclasshook__', '__truediv__', '__trunc__', 'as_integer_ratio', 'conjugate', 'fromhex', 'hex', 'imag', 'is_integer', 'real']\n"
          ]
        }
      ]
    },
    {
      "cell_type": "markdown",
      "source": [
        "Most of these are special methods (starting with double underscore '__'). We see that 'name', 'age' and 'display_info' are the methods and attributes of the 'emp_1' instance of Employee class.\n",
        "We shall discuss the other concepts of the classes when we discuss the oject oriented programming."
      ],
      "metadata": {
        "id": "q2cdsK-J5_j2"
      }
    },
    {
      "cell_type": "markdown",
      "source": [
        "##Try Yourself"
      ],
      "metadata": {
        "id": "rxqaf9rd8Oid"
      }
    },
    {
      "cell_type": "markdown",
      "source": [
        "Consider a bar of 10m long having uniform cross-section. The temperature of one end of the bar is kept at 10 $^0$C and is varying linearly to 50 $^0$C at other end. Find the temperature of the bar at a distance of 3.75 m from the colder end."
      ],
      "metadata": {
        "id": "o3phh6IJ5fW8"
      }
    },
    {
      "cell_type": "markdown",
      "source": [
        "##Hot or Cold : Adding Logics"
      ],
      "metadata": {
        "id": "V45EKgxDPq9j"
      }
    },
    {
      "cell_type": "markdown",
      "source": [
        "It is said that the rod is said to be cold if the temperature is less than 35 $^0$C and otherwise hot.\n",
        "Try to find the state of the rod at a distance of 6.5 m."
      ],
      "metadata": {
        "id": "1fVpvNIQQOqk"
      }
    },
    {
      "cell_type": "code",
      "source": [
        "x = 6.5\n",
        "y = 4 * x + 10\n",
        "if y < 35:\n",
        "  print('Cold')\n",
        "else:\n",
        "  print('Hot')\n"
      ],
      "metadata": {
        "colab": {
          "base_uri": "https://localhost:8080/"
        },
        "id": "v1_ensX4QzRx",
        "outputId": "f2cc4c6f-52ea-4916-d019-bc5e924bc68b"
      },
      "execution_count": 54,
      "outputs": [
        {
          "output_type": "stream",
          "name": "stdout",
          "text": [
            "Hot\n"
          ]
        }
      ]
    },
    {
      "cell_type": "markdown",
      "source": [
        "We can add another category of warm in case the temperature is between 30 $^0$C and 40 $^0$C."
      ],
      "metadata": {
        "id": "dJoD9OQcRUlG"
      }
    },
    {
      "cell_type": "code",
      "source": [
        "x = 6.5\n",
        "y = 4 * x + 10\n",
        "if y < 35:\n",
        "  print('Cold')\n",
        "elif y < 40:\n",
        "  print('Warm')\n",
        "else:\n",
        "  print('Hot')"
      ],
      "metadata": {
        "colab": {
          "base_uri": "https://localhost:8080/"
        },
        "id": "jRrrRW1ARQG2",
        "outputId": "6ff0e1aa-bc22-477f-880c-4347b15d5088"
      },
      "execution_count": 53,
      "outputs": [
        {
          "output_type": "stream",
          "name": "stdout",
          "text": [
            "Warm\n"
          ]
        }
      ]
    },
    {
      "cell_type": "markdown",
      "source": [
        "##Temperature Distribution : Looping"
      ],
      "metadata": {
        "id": "twxsWrze2UqE"
      }
    },
    {
      "cell_type": "markdown",
      "source": [
        "Now, let us find the temperature distribution of the bar at an interval of 0.5 m. In this case we have to first populate the data points of the distance as:\n",
        "\n",
        "0, 0.5, 1.0, 1.5 ............ 9.0, 9.5, 10.0\n",
        "\n",
        "These need to be stored in a variable. Let us assume the variable name as lenght_coordinates. Pyhton has another data type of list which we can use to store all the coordinates in the valiable lenght_coordinates.\n",
        "\n",
        "This we will be doing in two steps. In first step, we shall learn how to generate these nubmers and then we shall store in the variable.\n",
        "\n",
        "We have a range function with minimum one arguement"
      ],
      "metadata": {
        "id": "KT9_QHMlSRwM"
      }
    },
    {
      "cell_type": "code",
      "source": [
        "x = range(11)\n",
        "for n in x:\n",
        "  print(n)"
      ],
      "metadata": {
        "id": "QBY2ME0fSNhv"
      },
      "execution_count": null,
      "outputs": []
    },
    {
      "cell_type": "markdown",
      "source": [
        "When two arguements are passed, the first is taken as start number and the second is taken as end number."
      ],
      "metadata": {
        "id": "Ni0kOk9dbkKJ"
      }
    },
    {
      "cell_type": "code",
      "source": [
        "print(type(x))"
      ],
      "metadata": {
        "colab": {
          "base_uri": "https://localhost:8080/"
        },
        "id": "okqA-x0hAJn_",
        "outputId": "ebc1a887-ad21-4169-eada-97cce1d1ffcc"
      },
      "execution_count": 38,
      "outputs": [
        {
          "output_type": "stream",
          "name": "stdout",
          "text": [
            "<class 'range'>\n"
          ]
        }
      ]
    },
    {
      "cell_type": "code",
      "source": [
        "x = range(11, 13)\n",
        "for n in x:\n",
        "  print(n)"
      ],
      "metadata": {
        "colab": {
          "base_uri": "https://localhost:8080/"
        },
        "id": "_xhj7XZMb4WC",
        "outputId": "235a04db-b998-4667-cbcc-eb2735bec10e"
      },
      "execution_count": 37,
      "outputs": [
        {
          "output_type": "stream",
          "name": "stdout",
          "text": [
            "11\n",
            "12\n"
          ]
        }
      ]
    },
    {
      "cell_type": "code",
      "source": [
        "x = range(11, -1)\n",
        "for n in x:\n",
        "  print(n)"
      ],
      "metadata": {
        "id": "bgOThkenBZBI"
      },
      "execution_count": 47,
      "outputs": []
    },
    {
      "cell_type": "code",
      "source": [
        "x = range(11, -5, -1)\n",
        "for n in x:\n",
        "  print(n)"
      ],
      "metadata": {
        "id": "6911FxDMb0WA"
      },
      "execution_count": null,
      "outputs": []
    },
    {
      "cell_type": "code",
      "source": [
        "x = range(0, 21)\n",
        "for n in x:\n",
        "  print(n)"
      ],
      "metadata": {
        "id": "NSnZNqHHcCpM"
      },
      "execution_count": null,
      "outputs": []
    },
    {
      "cell_type": "code",
      "source": [
        "x = range(0, 21)\n",
        "for n in x:\n",
        "  print(0.5 * n)"
      ],
      "metadata": {
        "id": "o3-1XyNfcHD6"
      },
      "execution_count": null,
      "outputs": []
    },
    {
      "cell_type": "markdown",
      "source": [
        "This logic gives us the number on the screen but is not storing in the variable. For that"
      ],
      "metadata": {
        "id": "vp3kYtj6caSf"
      }
    },
    {
      "cell_type": "markdown",
      "source": [
        "##List"
      ],
      "metadata": {
        "id": "U8YfBXTS2f-o"
      }
    },
    {
      "cell_type": "markdown",
      "source": [
        "Lists are one of the most flexible and commonly used data structures in Python. Each item in a list can be of any data type (e.g., integers, strings, other lists), and lists can contain items of different data types within the same list. A list is an ordered, mutable (modifiable) collection of items."
      ],
      "metadata": {
        "id": "3kPaKJtP2-u6"
      }
    },
    {
      "cell_type": "code",
      "source": [
        "lenght_coordinates = [2, 4, 5.7, 'thermistor']\n",
        "print(type(lenght_coordinates))"
      ],
      "metadata": {
        "colab": {
          "base_uri": "https://localhost:8080/"
        },
        "id": "JKQsghkN41i-",
        "outputId": "ce6e733f-54d8-46e3-90fa-9f05b53ff73f"
      },
      "execution_count": null,
      "outputs": [
        {
          "output_type": "stream",
          "name": "stdout",
          "text": [
            "<class 'list'>\n"
          ]
        }
      ]
    },
    {
      "cell_type": "markdown",
      "source": [
        "We can check the attributes and methods available in the 'list' class."
      ],
      "metadata": {
        "id": "TxUmtQ6S5UpA"
      }
    },
    {
      "cell_type": "code",
      "source": [
        "print(dir(lenght_coordinates))"
      ],
      "metadata": {
        "id": "Pg9uByys5oBY"
      },
      "execution_count": null,
      "outputs": []
    },
    {
      "cell_type": "markdown",
      "source": [
        "We find that 'append', 'clear', 'copy', 'count', 'extend', 'index', 'insert', 'pop', 'remove', 'reverse', 'sort' are the various methods available for the 'lenght_coordinate' object of the 'list' class. You can use append method on the 'length_coordinates' to populate the desired coordinates."
      ],
      "metadata": {
        "id": "Qcvk7fbt65gM"
      }
    },
    {
      "cell_type": "code",
      "source": [
        "lenght_coordinates = []\n",
        "for x in range(21):\n",
        "    lenght_coordinates.append(x * 0.5)\n",
        "print(lenght_coordinates)"
      ],
      "metadata": {
        "colab": {
          "base_uri": "https://localhost:8080/"
        },
        "id": "zX38lcnAc4Mk",
        "outputId": "8a281921-cf2d-454b-f5f6-850fe216bbcd"
      },
      "execution_count": 55,
      "outputs": [
        {
          "output_type": "stream",
          "name": "stdout",
          "text": [
            "[0.0, 0.5, 1.0, 1.5, 2.0, 2.5, 3.0, 3.5, 4.0, 4.5, 5.0, 5.5, 6.0, 6.5, 7.0, 7.5, 8.0, 8.5, 9.0, 9.5, 10.0]\n"
          ]
        }
      ]
    },
    {
      "cell_type": "markdown",
      "source": [
        "We can use list comprehension as below to get the desired result in one line"
      ],
      "metadata": {
        "id": "Zl3c9PIAcM1z"
      }
    },
    {
      "cell_type": "code",
      "source": [
        "lenght_coordinates = [x * 0.5 for x in range(21)]\n",
        "print(lenght_coordinates)"
      ],
      "metadata": {
        "colab": {
          "base_uri": "https://localhost:8080/"
        },
        "id": "1LxH1eJ3a9HG",
        "outputId": "4ef10211-85ed-4d73-e744-60cabcdefdc1"
      },
      "execution_count": 58,
      "outputs": [
        {
          "output_type": "stream",
          "name": "stdout",
          "text": [
            "[0.0, 0.5, 1.0, 1.5, 2.0, 2.5, 3.0, 3.5, 4.0, 4.5, 5.0, 5.5, 6.0, 6.5, 7.0, 7.5, 8.0, 8.5, 9.0, 9.5, 10.0]\n"
          ]
        }
      ]
    },
    {
      "cell_type": "code",
      "source": [
        "temperature = []\n",
        "for x in lenght_coordinates:\n",
        "    y = 4 * x + 10\n",
        "    temperature.append(y)\n"
      ],
      "metadata": {
        "id": "XoQGeoE-_qoQ"
      },
      "execution_count": 59,
      "outputs": []
    },
    {
      "cell_type": "code",
      "source": [
        "print(\"X values:\", lenght_coordinates)\n",
        "print(\"Y values:\", temperature)"
      ],
      "metadata": {
        "colab": {
          "base_uri": "https://localhost:8080/"
        },
        "id": "JR7Sy-9GAtjF",
        "outputId": "5f7a4e09-022d-4085-865d-0f1d6b19b35a"
      },
      "execution_count": 60,
      "outputs": [
        {
          "output_type": "stream",
          "name": "stdout",
          "text": [
            "X values: [0.0, 0.5, 1.0, 1.5, 2.0, 2.5, 3.0, 3.5, 4.0, 4.5, 5.0, 5.5, 6.0, 6.5, 7.0, 7.5, 8.0, 8.5, 9.0, 9.5, 10.0]\n",
            "Y values: [10.0, 12.0, 14.0, 16.0, 18.0, 20.0, 22.0, 24.0, 26.0, 28.0, 30.0, 32.0, 34.0, 36.0, 38.0, 40.0, 42.0, 44.0, 46.0, 48.0, 50.0]\n"
          ]
        }
      ]
    },
    {
      "cell_type": "markdown",
      "source": [
        "We can also do this using list comprehension as below"
      ],
      "metadata": {
        "id": "_r01mVctA6sF"
      }
    },
    {
      "cell_type": "code",
      "source": [
        "temperature = [4 * x + 10 for x in lenght_coordinates]"
      ],
      "metadata": {
        "id": "moZR6shyA6HK"
      },
      "execution_count": 61,
      "outputs": []
    },
    {
      "cell_type": "markdown",
      "source": [
        "##matplotlib"
      ],
      "metadata": {
        "id": "XJ7mQcjTilG4"
      }
    },
    {
      "cell_type": "code",
      "source": [
        "import matplotlib.pyplot as plt\n",
        "\n",
        "plt.plot(lenght_coordinates, temperature, label=\"Temperature\")\n",
        "\n",
        "plt.show()"
      ],
      "metadata": {
        "id": "bMRg6ApYdkp7",
        "colab": {
          "base_uri": "https://localhost:8080/",
          "height": 430
        },
        "outputId": "b987d221-1b37-4e04-9308-e175ab82b790"
      },
      "execution_count": 62,
      "outputs": [
        {
          "output_type": "display_data",
          "data": {
            "text/plain": [
              "<Figure size 640x480 with 1 Axes>"
            ],
            "image/png": "[encoded data removed]"
          },
          "metadata": {}
        }
      ]
    },
    {
      "cell_type": "code",
      "source": [
        "import matplotlib.pyplot as plt\n",
        "\n",
        "plt.plot(lenght_coordinates, temperature, label=\"Temperature\")\n",
        "plt.xlabel(\"Length\")\n",
        "plt.ylabel(\"Temperature\")\n",
        "plt.title(\"Temperature Distribution\")\n",
        "plt.legend()\n",
        "plt.grid(True)\n",
        "plt.show()"
      ],
      "metadata": {
        "colab": {
          "base_uri": "https://localhost:8080/",
          "height": 472
        },
        "id": "1Y-XujKoDTWK",
        "outputId": "4e031c4c-6587-40d2-b9f5-08b18593ecd9"
      },
      "execution_count": 63,
      "outputs": [
        {
          "output_type": "display_data",
          "data": {
            "text/plain": [
              "<Figure size 640x480 with 1 Axes>"
            ],
            "image/png": "[encoded data removed]"
          },
          "metadata": {}
        }
      ]
    },
    {
      "cell_type": "code",
      "source": [
        "import numpy as np\n",
        "import matplotlib.pyplot as plt\n",
        "\n",
        "# Given values\n",
        "L = 10  # Length of the bar in meters\n",
        "T1 = 10  # Temperature at the colder end in °C\n",
        "T2 = 50  # Temperature at the hotter end in °C\n",
        "\n",
        "# Create a meshgrid for the bar's surface\n",
        "x = [i * 0.1 for i in range(101)]  # 100 points along the length of the bar\n",
        "y = [i * 0.5 for i in range(21)]  # 20 points along the height of the bar\n",
        "X, Y = np.meshgrid(x, y)\n",
        "\n",
        "# Calculate the temperature at each x position, ignoring y since it’s uniform across the height\n",
        "temperature = T1 + (T2 - T1) * X / L\n",
        "\n",
        "# Plotting the heat map\n",
        "plt.figure(figsize=(12, 3))\n",
        "plt.pcolormesh(X, Y, temperature, shading='auto', cmap='coolwarm')\n",
        "plt.colorbar(label=\"Temperature (°C)\")\n",
        "plt.xlabel(\"Distance along the bar (m)\")\n",
        "plt.ylabel(\"Height of the bar cross-section (m)\")\n",
        "plt.title(\"Temperature Distribution Heat Map along the Surface of the Bar\")\n",
        "plt.show()\n"
      ],
      "metadata": {
        "id": "ngIBIUNnhPjA",
        "outputId": "60984572-ab7e-4335-b0d0-38524968a99c",
        "colab": {
          "base_uri": "https://localhost:8080/",
          "height": 333
        }
      },
      "execution_count": 68,
      "outputs": [
        {
          "output_type": "display_data",
          "data": {
            "text/plain": [
              "<Figure size 1200x300 with 2 Axes>"
            ],
            "image/png": "[encoded data removed]"
          },
          "metadata": {}
        }
      ]
    }
  ]
}
{
 "cells": [
  {
   "cell_type": "code",
   "execution_count": 2,
   "metadata": {},
   "outputs": [
    {
     "name": "stdout",
     "output_type": "stream",
     "text": [
      "0.5156630962612533\n",
      "0.907618425687757\n",
      "0.7993789029233171\n",
      "0.34637039762748345\n",
      "0.018526808690145447\n",
      "0.16660500660613575\n",
      "0.9756029151447608\n",
      "0.9402010679607544\n",
      "0.2251767968065257\n",
      "0.15306692609567352\n"
     ]
    }
   ],
   "source": [
    "import random\n",
    "for i in range(10):\n",
    "    X=random.random()\n",
    "    print(X)"
   ]
  },
  {
   "cell_type": "code",
   "execution_count": 3,
   "metadata": {},
   "outputs": [
    {
     "name": "stdout",
     "output_type": "stream",
     "text": [
      "1\n",
      "6\n",
      "5\n",
      "6\n",
      "5\n",
      "6\n",
      "3\n",
      "1\n",
      "2\n",
      "2\n"
     ]
    }
   ],
   "source": [
    "for i in range(10):\n",
    "    X=random.randint(1,6)\n",
    "    print(X)"
   ]
  },
  {
   "cell_type": "code",
   "execution_count": 5,
   "metadata": {},
   "outputs": [
    {
     "name": "stdout",
     "output_type": "stream",
     "text": [
      "Tail\n",
      "Head\n",
      "Tail\n",
      "Tail\n",
      "Tail\n",
      "Tail\n",
      "Head\n",
      "Head\n",
      "Tail\n",
      "Tail\n"
     ]
    }
   ],
   "source": [
    "outcomes=['Head','Tail']\n",
    "for i in range(10):\n",
    "    X=random.choice(outcomes)\n",
    "    print(X)"
   ]
  },
  {
   "cell_type": "markdown",
   "metadata": {},
   "source": [
    "Generate a random number between 3 and 7 using random() function.\n",
    "The output of the random() function is the multiplied by range of the number i.e. 7-3=4.\n",
    "This will scale the numbers by 4. Add the first number to shift the numbers between 3 and 7."
   ]
  },
  {
   "cell_type": "code",
   "execution_count": 6,
   "metadata": {},
   "outputs": [
    {
     "name": "stdout",
     "output_type": "stream",
     "text": [
      "5.245640321239785\n",
      "3.488936467644298\n",
      "4.17996763586112\n",
      "3.580668501557012\n",
      "6.581498512083259\n",
      "3.6103186990335523\n",
      "4.088257230808493\n",
      "5.545552567054745\n",
      "3.1316198083999276\n",
      "5.3947416742782694\n"
     ]
    }
   ],
   "source": [
    "# Generate random number between 3 and 7\n",
    "def randomGenerator():\n",
    "    return 4*random.random()+3\n",
    "for i in range(10):\n",
    "    X=randomGenerator()\n",
    "    print(X)"
   ]
  },
  {
   "cell_type": "markdown",
   "metadata": {},
   "source": [
    "We can also use the uniform() function to generate uniform random numbers."
   ]
  },
  {
   "cell_type": "code",
   "execution_count": 7,
   "metadata": {},
   "outputs": [
    {
     "name": "stdout",
     "output_type": "stream",
     "text": [
      "4.703510971040871\n",
      "6.640191575077593\n",
      "4.964363189436794\n",
      "5.719797457788643\n",
      "3.5141765210470908\n",
      "6.65013495701037\n",
      "5.017381659346512\n",
      "6.295866498300095\n",
      "5.412953369171319\n",
      "3.994169592362562\n"
     ]
    }
   ],
   "source": [
    "for i in range(10):\n",
    "    X=random.uniform(3,7)\n",
    "    print(X)"
   ]
  },
  {
   "cell_type": "markdown",
   "metadata": {},
   "source": [
    "Use Normal Distribution to generate the random numbers which satisfy the Gaussian distribution. Any Gaussian distribution is described by its mean and variance. "
   ]
  },
  {
   "cell_type": "code",
   "execution_count": 9,
   "metadata": {},
   "outputs": [
    {
     "name": "stdout",
     "output_type": "stream",
     "text": [
      "-0.1568019645836382\n",
      "0.028900627052223734\n",
      "0.14709875886044682\n",
      "0.06453495651558602\n",
      "0.1253938386222156\n",
      "0.08675203756141173\n",
      "0.01240422974553478\n",
      "0.1854302849789594\n",
      "-0.09554871536564967\n",
      "0.0881605412816469\n"
     ]
    }
   ],
   "source": [
    "for i in range(10):\n",
    "    X=random.normalvariate(0, 0.2)\n",
    "    print(X)"
   ]
  },
  {
   "cell_type": "code",
   "execution_count": null,
   "metadata": {},
   "outputs": [],
   "source": []
  }
 ],
 "metadata": {
  "kernelspec": {
   "display_name": "Python 3",
   "language": "python",
   "name": "python3"
  },
  "language_info": {
   "codemirror_mode": {
    "name": "ipython",
    "version": 3
   },
   "file_extension": ".py",
   "mimetype": "text/x-python",
   "name": "python",
   "nbconvert_exporter": "python",
   "pygments_lexer": "ipython3",
   "version": "3.7.9"
  }
 },
 "nbformat": 4,
 "nbformat_minor": 4
}

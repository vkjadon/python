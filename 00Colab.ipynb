{
  "cells": [
    {
      "cell_type": "markdown",
      "metadata": {
        "id": "view-in-github",
        "colab_type": "text"
      },
      "source": [
        "<a href=\"https://colab.research.google.com/github/vkjadon/python/blob/main/00Colab.ipynb\" target=\"_parent\"><img src=\"https://colab.research.google.com/assets/colab-badge.svg\" alt=\"Open In Colab\"/></a>"
      ]
    },
    {
      "cell_type": "markdown",
      "metadata": {
        "id": "38baNIjuCVzu"
      },
      "source": [
        "## Accessing Google Drive"
      ]
    },
    {
      "cell_type": "markdown",
      "metadata": {
        "id": "hDV5bb4mCk_E"
      },
      "source": [
        "\n",
        "\n",
        "\n",
        "1. Click on the Drive button in the Files top menu(the last of three icons).\n",
        "2. This will add two lines of code to mount the drive.  \n",
        "3. Execute the code to mount.\n",
        "4. Copy and Paste the code below if you are unable to locate the button.  \n",
        "`from google.colab import drive`   \n",
        "`drive.mount('/content/drive')`\n",
        "5. A new directory(folder) with the name `drive` will appear.\n"
      ]
    },
    {
      "cell_type": "code",
      "execution_count": null,
      "metadata": {
        "id": "QbfjKmjTC_r9"
      },
      "outputs": [],
      "source": [
        "from google.colab import drive\n",
        "drive.mount('/content/drive')"
      ]
    },
    {
      "cell_type": "markdown",
      "metadata": {
        "id": "ITUKYBxRFdRv"
      },
      "source": [
        "Use `!pwd` to verify the present working directory."
      ]
    },
    {
      "cell_type": "code",
      "execution_count": null,
      "metadata": {
        "id": "5Y8aC0I8FlBK"
      },
      "outputs": [],
      "source": [
        "!pwd"
      ]
    },
    {
      "cell_type": "markdown",
      "metadata": {
        "id": "RfXZWJhQFHbM"
      },
      "source": [
        "Use `!ls` to show the content of the present working directory.*italicised text*"
      ]
    },
    {
      "cell_type": "code",
      "execution_count": null,
      "metadata": {
        "id": "iyEoYzNIFUFa"
      },
      "outputs": [],
      "source": [
        "!ls"
      ]
    },
    {
      "cell_type": "markdown",
      "source": [
        "## Navigating Folders"
      ],
      "metadata": {
        "id": "5L8BWE98mfNO"
      }
    },
    {
      "cell_type": "markdown",
      "metadata": {
        "id": "78Mu7l35pswB"
      },
      "source": [
        "To navigate to your home directory, simply type `cd.`. Another way to return directly to your home directory is to use the tilde (~) character."
      ]
    },
    {
      "cell_type": "code",
      "execution_count": null,
      "metadata": {
        "id": "YTcl0788pyOu"
      },
      "outputs": [],
      "source": [
        "% cd~"
      ]
    },
    {
      "cell_type": "code",
      "execution_count": null,
      "metadata": {
        "id": "gP3od_e4p2hO"
      },
      "outputs": [],
      "source": [
        "!pwd"
      ]
    },
    {
      "cell_type": "markdown",
      "metadata": {
        "id": "zQM1kHKHGmQR"
      },
      "source": [
        "1. Use `%cd drive/path` to change the current working directory.\n",
        "2. You can click on the `drive` folder to see the content of your google drive."
      ]
    },
    {
      "cell_type": "code",
      "execution_count": null,
      "metadata": {
        "id": "f5ye7h4AFVms"
      },
      "outputs": [],
      "source": [
        "% cd drive/MyDrive/Colab Notebooks/"
      ]
    },
    {
      "cell_type": "code",
      "execution_count": null,
      "metadata": {
        "id": "FyOy1c3fHJqO"
      },
      "outputs": [],
      "source": [
        "!pwd"
      ]
    },
    {
      "cell_type": "code",
      "execution_count": null,
      "metadata": {
        "id": "odK1KilAHL05"
      },
      "outputs": [],
      "source": [
        "!ls"
      ]
    },
    {
      "cell_type": "code",
      "execution_count": null,
      "metadata": {
        "id": "4T9TjVDLHNoj"
      },
      "outputs": [],
      "source": [
        "%cd AI-ipynb"
      ]
    },
    {
      "cell_type": "markdown",
      "metadata": {
        "id": "o2diXuScPwpN"
      },
      "source": [
        "Download datset from kaggle using API of the dataset."
      ]
    },
    {
      "cell_type": "code",
      "execution_count": null,
      "metadata": {
        "id": "rtOwjVNwPzhT"
      },
      "outputs": [],
      "source": [
        "!kaggle datasets download -d ruchi798/housing-prices-in-metropolitan-areas-of-india"
      ]
    },
    {
      "cell_type": "code",
      "execution_count": null,
      "metadata": {
        "id": "XuRMW1CcQiBV"
      },
      "outputs": [],
      "source": [
        "!pwd"
      ]
    },
    {
      "cell_type": "markdown",
      "source": [
        "## Cloning GitHub Repo"
      ],
      "metadata": {
        "id": "Y_PXwzdjb65H"
      }
    },
    {
      "cell_type": "code",
      "source": [
        "!git clone https://github.com/vkjadon/ros2.git\n",
        "\n",
        "%cd ros2"
      ],
      "metadata": {
        "id": "nLRfcoYucAEN"
      },
      "execution_count": null,
      "outputs": []
    },
    {
      "cell_type": "code",
      "source": [
        "# Step 3: Import the .py file\n",
        "from module_first import *"
      ],
      "metadata": {
        "id": "MevARtHbcBaN"
      },
      "execution_count": null,
      "outputs": []
    },
    {
      "cell_type": "markdown",
      "source": [
        "\n",
        "## Writting and Importing .py module\n",
        "\n"
      ],
      "metadata": {
        "id": "f9lidULacCNY"
      }
    },
    {
      "cell_type": "code",
      "source": [
        "%%writefile my_module.py\n",
        "\n",
        "def my_function():\n",
        "    if __name__ == \"__main__\":\n",
        "        return \"Running directly as a script.\"\n",
        "    else:\n",
        "        return \"Imported as a module.\"\n",
        "\n",
        "if __name__ == \"__main__\":\n",
        "    print(\"my_module.py is being run directly.\")\n",
        "else:\n",
        "    print(\"my_module.py has been imported.\")"
      ],
      "metadata": {
        "id": "HbdCSH0FcfX_"
      },
      "execution_count": null,
      "outputs": []
    },
    {
      "cell_type": "code",
      "source": [
        "from my_module import my_function\n",
        "\n",
        "# Step 3: Use the module\n",
        "print(my_function())  # Output: Imported as a module."
      ],
      "metadata": {
        "id": "RjHndcU5cmQv"
      },
      "execution_count": null,
      "outputs": []
    },
    {
      "cell_type": "code",
      "source": [
        "!python my_module.py"
      ],
      "metadata": {
        "id": "kaMJsw1IcqX6"
      },
      "execution_count": null,
      "outputs": []
    },
    {
      "cell_type": "markdown",
      "source": [
        "## File Permissions"
      ],
      "metadata": {
        "id": "D9RIp7_8l99E"
      }
    },
    {
      "cell_type": "markdown",
      "metadata": {
        "id": "xdK6-H8lLtNN"
      },
      "source": [
        "The first `-` represents File Type. It can either be a regular file (–), a directory (d) or a link (i).\n",
        "The next 09 letters are divided in three groups with each group having three letters. Each letter can be `r`, `w`, `x` or `-`.\n",
        "\n",
        "r : read\n",
        "w : write\n",
        "x : execute\n",
        "- : No permission\n",
        "\n",
        "- The first group of three letters belongs to owner.\n",
        "- The second group belongs to a group of users\n",
        "- The third group of three letters belongs to any user.\n",
        "\n",
        "The output of the previous cell shows that `kaggle.json` is a regular file with read and write permission assigned to the owner, but gives read-only access to the group and others.\n",
        "We(owner) can change these permission by using `chmod` command.\n",
        "\n",
        "`chmod permission file_name`"
      ]
    },
    {
      "cell_type": "markdown",
      "metadata": {
        "id": "KCn72nEQOrSS"
      },
      "source": [
        "There are two ways to define permission:\n",
        "\n",
        "- using symbols (alphanumerical characters)\n",
        "\n",
        "  `chmod u=rwx,g=rwx,o=rwx file_name`\n",
        "\n",
        "- using the octal notation method\n",
        "\n",
        "In this format privileges are represented with numbers:\n",
        "\n",
        "- r(ead) has the value of 4\n",
        "- w(rite) has the value of 2\n",
        "- (e)x(ecute) has the value of 1\n",
        "- no permission has the value of 0\n",
        "\n",
        "The privileges are summed up and depicted by one number. Therefore, the possibilities are:\n",
        "\n",
        "- 7 for read, write, and execute permission\n",
        "- 6 for read and write privileges\n",
        "- 5 for read and execute privileges\n",
        "- 4 for read privileges\n",
        "\n",
        "Now the `chmod` command will include three numbers where each representing the summation of privileges."
      ]
    },
    {
      "cell_type": "markdown",
      "metadata": {
        "id": "pDmZn-SOQ0hk"
      },
      "source": [
        "Now we can set the permission of `kaggle.json` to read and write to owner and no permission to group and user. So we will use `chmod 600` as below to the copied json file."
      ]
    },
    {
      "cell_type": "code",
      "execution_count": null,
      "metadata": {
        "id": "es3UsD_CUeGq"
      },
      "outputs": [],
      "source": [
        "!chmod 600 ~/.kaggle/kaggle.json"
      ]
    },
    {
      "cell_type": "code",
      "execution_count": null,
      "metadata": {
        "id": "xiwBJlF051sE"
      },
      "outputs": [],
      "source": [
        "!kaggle datasets list"
      ]
    }
  ],
  "metadata": {
    "colab": {
      "name": "00kaggleDatasetColab.ipynb",
      "provenance": [],
      "toc_visible": true,
      "include_colab_link": true
    },
    "kernelspec": {
      "display_name": "Python 3",
      "name": "python3"
    },
    "language_info": {
      "name": "python"
    }
  },
  "nbformat": 4,
  "nbformat_minor": 0
}
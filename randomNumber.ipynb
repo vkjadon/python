{
  "nbformat": 4,
  "nbformat_minor": 0,
  "metadata": {
    "colab": {
      "provenance": [],
      "authorship_tag": "ABX9TyO5LrseHvkXjPNAp/FzC6dO",
      "include_colab_link": true
    },
    "kernelspec": {
      "name": "python3",
      "display_name": "Python 3"
    },
    "language_info": {
      "name": "python"
    }
  },
  "cells": [
    {
      "cell_type": "markdown",
      "metadata": {
        "id": "view-in-github",
        "colab_type": "text"
      },
      "source": [
        "<a href=\"https://colab.research.google.com/github/vkjadon/python/blob/main/randomNumber.ipynb\" target=\"_parent\"><img src=\"https://colab.research.google.com/assets/colab-badge.svg\" alt=\"Open In Colab\"/></a>"
      ]
    },
    {
      "cell_type": "markdown",
      "source": [
        "Consider random arrays of shape a(4,3) and b(3,2). np.dot(a, b) has shape equal to number of rows of a, number of columns of b\n",
        "\n",
        "In numpy the * operator indicates element-wise multiplication and is different from np.dot.\n",
        "\n",
        "Dot Product is also known as inner product"
      ],
      "metadata": {
        "id": "uxAHOqYmsGsW"
      }
    },
    {
      "cell_type": "code",
      "source": [
        "import numpy as np"
      ],
      "metadata": {
        "id": "d8_e9FfmsMHu"
      },
      "execution_count": 1,
      "outputs": []
    },
    {
      "cell_type": "code",
      "source": [
        "a=np.random.randn(4,3)\n",
        "#a=np.random.randn(3,2)\n",
        "b=np.random.randn(3,2)\n",
        "c=a*b\n",
        "print(c)"
      ],
      "metadata": {
        "id": "lm8OoujysISW"
      },
      "execution_count": null,
      "outputs": []
    }
  ]
}
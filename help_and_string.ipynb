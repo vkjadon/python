{
  "nbformat": 4,
  "nbformat_minor": 0,
  "metadata": {
    "colab": {
      "provenance": [],
      "authorship_tag": "ABX9TyNtZnnaWZaPS+2hzV+bARbS",
      "include_colab_link": true
    },
    "kernelspec": {
      "name": "python3",
      "display_name": "Python 3"
    },
    "language_info": {
      "name": "python"
    }
  },
  "cells": [
    {
      "cell_type": "markdown",
      "metadata": {
        "id": "view-in-github",
        "colab_type": "text"
      },
      "source": [
        "<a href=\"https://colab.research.google.com/github/vkjadon/python/blob/main/help_and_string.ipynb\" target=\"_parent\"><img src=\"https://colab.research.google.com/assets/colab-badge.svg\" alt=\"Open In Colab\"/></a>"
      ]
    },
    {
      "cell_type": "markdown",
      "source": [
        "#How to use Python Help"
      ],
      "metadata": {
        "id": "S2RD6J1UGIT3"
      }
    },
    {
      "cell_type": "markdown",
      "source": [
        "The dir() function in Python is used to list the attributes and methods of an object, including special (or \"magic\") methods like __init__ and __str__. When you pass an object to dir(), it returns a list of all the attributes and methods associated with that object.\n",
        "\n",
        "In a simple assignment statement x=10, x is also object of a class. So, we can use dir() function of this as well as below:"
      ],
      "metadata": {
        "id": "0vwaHNfWXBCQ"
      }
    },
    {
      "cell_type": "code",
      "execution_count": null,
      "metadata": {
        "colab": {
          "base_uri": "https://localhost:8080/"
        },
        "id": "v59OGqTEU3Xt",
        "outputId": "1161d1bc-03c2-4f66-ce6f-671472c6d5cc"
      },
      "outputs": [
        {
          "output_type": "stream",
          "name": "stdout",
          "text": [
            "['__abs__', '__add__', '__bool__', '__ceil__', '__class__', '__delattr__', '__dir__', '__divmod__', '__doc__', '__eq__', '__float__', '__floor__', '__floordiv__', '__format__', '__ge__', '__getattribute__', '__getformat__', '__getnewargs__', '__gt__', '__hash__', '__init__', '__init_subclass__', '__int__', '__le__', '__lt__', '__mod__', '__mul__', '__ne__', '__neg__', '__new__', '__pos__', '__pow__', '__radd__', '__rdivmod__', '__reduce__', '__reduce_ex__', '__repr__', '__rfloordiv__', '__rmod__', '__rmul__', '__round__', '__rpow__', '__rsub__', '__rtruediv__', '__setattr__', '__setformat__', '__sizeof__', '__str__', '__sub__', '__subclasshook__', '__truediv__', '__trunc__', 'as_integer_ratio', 'conjugate', 'fromhex', 'hex', 'imag', 'is_integer', 'real']\n"
          ]
        }
      ],
      "source": [
        "x=40.8\n",
        "print(dir(x))"
      ]
    },
    {
      "cell_type": "markdown",
      "source": [
        "It gives a long list of special methods starting with double underscore, attributes and the methods. For beginners, the methods and attribbutes are of initial interest. You can use lint comprehension to write logic which ignores the special methods."
      ],
      "metadata": {
        "id": "CFfuXGCTXtXE"
      }
    },
    {
      "cell_type": "code",
      "source": [
        "attributes_and_methods = [attr for attr in dir(x) if not attr.startswith('__')]\n",
        "print(attributes_and_methods)"
      ],
      "metadata": {
        "colab": {
          "base_uri": "https://localhost:8080/"
        },
        "id": "Y0hb52nTWvPN",
        "outputId": "0fddb15e-dfc1-4545-9fcc-70277e587ab4"
      },
      "execution_count": null,
      "outputs": [
        {
          "output_type": "stream",
          "name": "stdout",
          "text": [
            "['as_integer_ratio', 'conjugate', 'fromhex', 'hex', 'imag', 'is_integer', 'real']\n"
          ]
        }
      ]
    },
    {
      "cell_type": "code",
      "source": [
        "print(help(x.is_integer))"
      ],
      "metadata": {
        "colab": {
          "base_uri": "https://localhost:8080/"
        },
        "id": "fx5P6iQQYYrp",
        "outputId": "8c1d47c9-9b35-4678-9559-f76a6d2c8147"
      },
      "execution_count": null,
      "outputs": [
        {
          "output_type": "stream",
          "name": "stdout",
          "text": [
            "Help on built-in function is_integer:\n",
            "\n",
            "is_integer() method of builtins.float instance\n",
            "    Return True if the float is an integer.\n",
            "\n",
            "None\n"
          ]
        }
      ]
    },
    {
      "cell_type": "markdown",
      "source": [
        "To find the class of a variable like x in Python, you can use the type() function. This function returns the type of the object, which effectively tells you the class.\n",
        "\n"
      ],
      "metadata": {
        "id": "BcQ7zyogWKB0"
      }
    },
    {
      "cell_type": "code",
      "source": [
        "x=10\n",
        "print(type(x))"
      ],
      "metadata": {
        "colab": {
          "base_uri": "https://localhost:8080/"
        },
        "id": "GvCQcGL0VHB4",
        "outputId": "dc0e946e-2f35-46c8-c8a6-7ed4b2322477"
      },
      "execution_count": null,
      "outputs": [
        {
          "output_type": "stream",
          "name": "stdout",
          "text": [
            "<class 'int'>\n"
          ]
        }
      ]
    },
    {
      "cell_type": "markdown",
      "source": [
        "#Working with Strings"
      ],
      "metadata": {
        "id": "NaxEVHe7Wq4D"
      }
    },
    {
      "cell_type": "code",
      "source": [
        "sensor_model = 'HC-SR04'\n",
        "sensor_name = 'ultrasonic Sensor'\n",
        "print(sensor_model + ' is a ' + sensor_name)\n",
        "print(f\"{sensor_model} is a {sensor_name}\")\n",
        "print(\"{} is a {}\".format(sensor_model, sensor_name))"
      ],
      "metadata": {
        "id": "oCAWD9-sWLOd",
        "colab": {
          "base_uri": "https://localhost:8080/"
        },
        "outputId": "c491b9c4-c923-4a75-a4cf-0daf8b67d219"
      },
      "execution_count": 24,
      "outputs": [
        {
          "output_type": "stream",
          "name": "stdout",
          "text": [
            "HC-SR04 is a ultrasonic Sensor\n",
            "HC-SR04 is a ultrasonic Sensor\n",
            "HC-SR04 is a ultrasonic Sensor\n"
          ]
        }
      ]
    },
    {
      "cell_type": "markdown",
      "source": [
        "##Class, and associated methods"
      ],
      "metadata": {
        "id": "WOKUmQrhHIeo"
      }
    },
    {
      "cell_type": "code",
      "source": [
        "print(type(sensor_model))\n",
        "attributes_and_methods = [attr for attr in dir(sensor_model) if not attr.startswith('__')]\n",
        "print(attributes_and_methods)"
      ],
      "metadata": {
        "colab": {
          "base_uri": "https://localhost:8080/"
        },
        "id": "yGTtGs08GETr",
        "outputId": "4f1d9ce9-8823-4f56-8284-6692bb5d77a4"
      },
      "execution_count": 11,
      "outputs": [
        {
          "output_type": "stream",
          "name": "stdout",
          "text": [
            "<class 'str'>\n",
            "['capitalize', 'casefold', 'center', 'count', 'encode', 'endswith', 'expandtabs', 'find', 'format', 'format_map', 'index', 'isalnum', 'isalpha', 'isascii', 'isdecimal', 'isdigit', 'isidentifier', 'islower', 'isnumeric', 'isprintable', 'isspace', 'istitle', 'isupper', 'join', 'ljust', 'lower', 'lstrip', 'maketrans', 'partition', 'removeprefix', 'removesuffix', 'replace', 'rfind', 'rindex', 'rjust', 'rpartition', 'rsplit', 'rstrip', 'split', 'splitlines', 'startswith', 'strip', 'swapcase', 'title', 'translate', 'upper', 'zfill']\n"
          ]
        }
      ]
    },
    {
      "cell_type": "markdown",
      "source": [
        "There many methods and attributes in the string class 'str'. You can try some of them"
      ],
      "metadata": {
        "id": "HUovsdZjHhnJ"
      }
    },
    {
      "cell_type": "code",
      "source": [
        "if(sensor_name.islower()):\n",
        "  print(f\"{sensor_name} is in lower case\")\n",
        "else:\n",
        "  print(sensor_name.upper())\n",
        "  print(sensor_name)"
      ],
      "metadata": {
        "colab": {
          "base_uri": "https://localhost:8080/"
        },
        "id": "v7WGYbWsHVQG",
        "outputId": "98e9f15c-3c52-4c34-fc98-4a28f49076ea"
      },
      "execution_count": 21,
      "outputs": [
        {
          "output_type": "stream",
          "name": "stdout",
          "text": [
            "ULTRASONIC SENSOR\n",
            "Ultrasonic Sensor\n"
          ]
        }
      ]
    },
    {
      "cell_type": "code",
      "source": [
        "print(sensor_name.capitalize())\n",
        "print(sensor_name.casefold())\n",
        "\n",
        "print(sensor_name)"
      ],
      "metadata": {
        "colab": {
          "base_uri": "https://localhost:8080/"
        },
        "id": "cOg42LsDH_Fq",
        "outputId": "aff4210a-bfee-4fb0-d801-ddb6958d9844"
      },
      "execution_count": 26,
      "outputs": [
        {
          "output_type": "stream",
          "name": "stdout",
          "text": [
            "Ultrasonic sensor\n",
            "ultrasonic sensor\n",
            "ultrasonic Sensor\n"
          ]
        }
      ]
    },
    {
      "cell_type": "code",
      "source": [
        "print(help(sensor_name.casefold))"
      ],
      "metadata": {
        "colab": {
          "base_uri": "https://localhost:8080/"
        },
        "id": "2jEbaSv6IRat",
        "outputId": "18ec232b-11ec-4df6-9367-226c54b5c9f6"
      },
      "execution_count": 28,
      "outputs": [
        {
          "output_type": "stream",
          "name": "stdout",
          "text": [
            "Help on built-in function casefold:\n",
            "\n",
            "casefold() method of builtins.str instance\n",
            "    Return a version of the string suitable for caseless comparisons.\n",
            "\n",
            "None\n"
          ]
        }
      ]
    },
    {
      "cell_type": "code",
      "source": [],
      "metadata": {
        "id": "fuoMm3U1JUAF"
      },
      "execution_count": null,
      "outputs": []
    }
  ]
}
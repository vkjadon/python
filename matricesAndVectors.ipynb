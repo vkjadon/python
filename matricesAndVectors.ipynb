{
  "cells": [
    {
      "cell_type": "markdown",
      "metadata": {
        "id": "view-in-github",
        "colab_type": "text"
      },
      "source": [
        "<a href=\"https://colab.research.google.com/github/vkjadon/python/blob/main/matricesAndVectors.ipynb\" target=\"_parent\"><img src=\"https://colab.research.google.com/assets/colab-badge.svg\" alt=\"Open In Colab\"/></a>"
      ]
    },
    {
      "cell_type": "markdown",
      "metadata": {
        "id": "-gIZNBHfshgy"
      },
      "source": [
        "# NumPy Library\n",
        "\n",
        "<font color=\"blue\">NumPy stand for “Numerical Python”.</font>  \n",
        "\n",
        "It is a tool suited for array oriented computing efficiently.\n",
        "\n",
        "The “numpy array” uses less memory than python list and also the execution time is faster.   \n",
        "\n",
        "The internal type of numpy array is “ndarray”. \n",
        "\n",
        "$A_{m,n} =\\begin{pmatrix}\n",
        "  a_{1,1} & a_{1,2} & \\cdots & a_{1,n} \\\\\n",
        "  a_{2,1} & a_{2,2} & \\cdots & a_{2,n} \\\\\n",
        "  \\vdots  & \\vdots  & \\ddots & \\vdots  \\\\\n",
        "  a_{m,1} & a_{m,2} & \\cdots & a_{m,n}\n",
        " \\end{pmatrix}$"
      ]
    },
    {
      "cell_type": "code",
      "execution_count": null,
      "metadata": {
        "id": "tCowI1GdlSnK"
      },
      "outputs": [],
      "source": [
        "import numpy as np"
      ]
    },
    {
      "cell_type": "code",
      "execution_count": null,
      "metadata": {
        "colab": {
          "base_uri": "https://localhost:8080/"
        },
        "id": "qS113GNmlSnL",
        "outputId": "659277a9-7394-4385-db1e-4e13729d5647"
      },
      "outputs": [
        {
          "output_type": "stream",
          "name": "stdout",
          "text": [
            "[[1 2 3]\n",
            " [4 5 6]\n",
            " [7 2 3]\n",
            " [4 5 6]]\n",
            "Shape of Matrix (4, 3)\n",
            "Dimension of Matrix 2\n"
          ]
        }
      ],
      "source": [
        "# Matrix of 4 Rows and 3 Columns :\n",
        "#In NumPy, this 2D matrix has Two axes\n",
        "#First axis length is 4 and Second axis length is 3 (4L,3L) \n",
        "\n",
        "matrixA = np.array([(1,2,3),(4,5,6),(7,2,3),(4,5,6)])\n",
        "print(matrixA)\n",
        "print('Shape of Matrix', matrixA.shape)\n",
        "print('Dimension of Matrix', matrixA.ndim)"
      ]
    },
    {
      "cell_type": "code",
      "execution_count": null,
      "metadata": {
        "colab": {
          "base_uri": "https://localhost:8080/"
        },
        "id": "E4wakpL_lSnM",
        "outputId": "bd60dcb8-f21d-4a15-d27c-33b0583a7f53"
      },
      "outputs": [
        {
          "output_type": "stream",
          "name": "stdout",
          "text": [
            "matrixA =  [[1 2 3]\n",
            " [4 5 6]\n",
            " [7 2 3]\n",
            " [4 5 6]]\n",
            "Type of aVector  <class 'numpy.ndarray'>\n"
          ]
        }
      ],
      "source": [
        "matrixA=np.array(matrixA, np.int8)\n",
        "print(\"matrixA = \", matrixA)\n",
        "print(\"Type of aVector \", type(matrixA))"
      ]
    },
    {
      "cell_type": "markdown",
      "metadata": {
        "id": "vqp29_-5tPgd"
      },
      "source": [
        "\n",
        "$v_{m}=\\begin{pmatrix}\n",
        "  v_{1}\\\\\n",
        "  v_{2} \\\\\n",
        "  \\vdots \\\\\n",
        "  v_{m}\n",
        " \\end{pmatrix}$"
      ]
    },
    {
      "cell_type": "code",
      "execution_count": null,
      "metadata": {
        "id": "TuXUCncgimMh",
        "colab": {
          "base_uri": "https://localhost:8080/"
        },
        "outputId": "ee7a13d3-48b5-46d9-b24b-28132da378af"
      },
      "outputs": [
        {
          "output_type": "execute_result",
          "data": {
            "text/plain": [
              "array([[1],\n",
              "       [2],\n",
              "       [3]])"
            ]
          },
          "metadata": {},
          "execution_count": 16
        }
      ],
      "source": [
        "v = np.array([1,2,3])\n",
        "#v\n",
        "#v.shape\n",
        "#v.T\n",
        "#v\n",
        "v.reshape(3,1)\n",
        "#v.shape \n",
        "#v"
      ]
    },
    {
      "cell_type": "code",
      "execution_count": null,
      "metadata": {
        "colab": {
          "base_uri": "https://localhost:8080/"
        },
        "id": "1ZGMZDq8uF8E",
        "outputId": "f77b1d49-db62-4f55-996f-d4e5e634baf7"
      },
      "outputs": [
        {
          "output_type": "stream",
          "name": "stdout",
          "text": [
            "[[10  4  9]\n",
            " [ 2  4  8]\n",
            " [20  4 18]\n",
            " [23  7  5]]\n"
          ]
        }
      ],
      "source": [
        "B=np.array([[10, 4, 9], [2,4,8],[20,4,18],[23, 7, 5]])\n",
        "B.shape\n",
        "print(B)"
      ]
    },
    {
      "cell_type": "markdown",
      "metadata": {
        "id": "goSTJ0nllSnP"
      },
      "source": [
        "### Creating a NumPy array – arange\n",
        "`arange([start,] stop[, step], [, dtype=None])`  \n",
        "\n",
        "**arange** returns evenly spaced values within a given interval starting from first optional parameter and within the `stop` value.  \n",
        "If only one parameter is given, it is assumed as `stop` and the `start` is automatically set to 0.  \n",
        "If the `step` is not given, it is set to `1` but if `step` is given, the `start` parameter cannot be optional, i.e. it has to be given as well.  \n",
        "The `step` sets the spacing between two adjacent values of the output array."
      ]
    },
    {
      "cell_type": "code",
      "execution_count": null,
      "metadata": {
        "colab": {
          "base_uri": "https://localhost:8080/"
        },
        "id": "-OPHbB-6lSnP",
        "outputId": "fc7fe020-6c15-42ad-a10a-8edfd6e0d9bc"
      },
      "outputs": [
        {
          "output_type": "stream",
          "name": "stdout",
          "text": [
            "[0 1 2 3 4 5]\n"
          ]
        }
      ],
      "source": [
        "dayTemperature=np.arange(6)\n",
        "#Gives 6 values starting from 0 and default interval of 1\n",
        "print(dayTemperature)"
      ]
    },
    {
      "cell_type": "code",
      "execution_count": null,
      "metadata": {
        "colab": {
          "base_uri": "https://localhost:8080/"
        },
        "id": "auSICw5TlSnQ",
        "outputId": "b6443a74-8f0d-4d2f-888b-1b5d25e3c471"
      },
      "outputs": [
        {
          "output_type": "stream",
          "name": "stdout",
          "text": [
            "[ 6  7  8  9 10 11]\n"
          ]
        }
      ],
      "source": [
        "dayTemperature=np.arange(6,12, 1)\n",
        "#First Value is 22 and it stops at 30, So 30 is not included\n",
        "print(dayTemperature)"
      ]
    },
    {
      "cell_type": "code",
      "execution_count": null,
      "metadata": {
        "colab": {
          "base_uri": "https://localhost:8080/"
        },
        "id": "22wPUqIulSnR",
        "outputId": "70772ab1-0fcb-4d51-b914-8a654c83f2fd"
      },
      "outputs": [
        {
          "output_type": "stream",
          "name": "stdout",
          "text": [
            "[0. 1. 2. 3. 4. 5.]\n"
          ]
        }
      ],
      "source": [
        "dayTemperature=np.arange(5.3)\n",
        "#First Value is 0 and it gives output 25 with default interval of 1\n",
        "print(dayTemperature)"
      ]
    },
    {
      "cell_type": "code",
      "execution_count": null,
      "metadata": {
        "colab": {
          "base_uri": "https://localhost:8080/"
        },
        "id": "XoVll35AlSnR",
        "outputId": "5b75e1d1-549b-4350-b977-68f3a6f3cdb0"
      },
      "outputs": [
        {
          "output_type": "stream",
          "name": "stdout",
          "text": [
            "[2.02 2.27 2.52 2.77 3.02 3.27 3.52 3.77 4.02 4.27 4.52 4.77 5.02 5.27]\n",
            "[2.02 2.27 2.52 2.77 3.02 3.27 3.52 3.77 4.02 4.27 4.52 4.77 5.02]\n"
          ]
        }
      ],
      "source": [
        "dayTemperature=np.arange(2.02, 5.3, 0.25)\n",
        "#First Value is 2.02 and it gives output 5.27 with default interval of 0.25\n",
        "print(dayTemperature)\n",
        "dayTemperature=np.arange(2.02, 5.27, 0.25)\n",
        "#First Value is 2.02 and it gives output 5.02 with default interval of 0.25\n",
        "print(dayTemperature)"
      ]
    },
    {
      "cell_type": "markdown",
      "metadata": {
        "id": "y1OIFEIRlSnR"
      },
      "source": [
        "### Creating a NumPy array – linspace\n",
        "`linspace(start, stop, num=50, endpoint=True, retstep=False)`  \n",
        "\n",
        "<font color='blue'>create NumPy array using linspacebar</font>\n",
        "\n",
        "Array of linearly spaced values defined by `num` including `start` and `stop`  \n",
        "\n",
        "<font color='blue'>default value of num is 50</font>\n"
      ]
    },
    {
      "cell_type": "code",
      "execution_count": null,
      "metadata": {
        "colab": {
          "base_uri": "https://localhost:8080/"
        },
        "id": "VOEd8S5RlSnS",
        "outputId": "a5350083-6f88-4f61-b90d-6d99e553dff4"
      },
      "outputs": [
        {
          "output_type": "stream",
          "name": "stdout",
          "text": [
            "[20. 21. 22. 23. 24. 25. 26. 27. 28. 29. 30.]\n"
          ]
        }
      ],
      "source": [
        "dayTemperature=np.linspace(20,30,11)\n",
        "print(dayTemperature)"
      ]
    },
    {
      "cell_type": "code",
      "execution_count": null,
      "metadata": {
        "colab": {
          "base_uri": "https://localhost:8080/"
        },
        "id": "RUTAWusVlSnS",
        "outputId": "d9f999ab-f0de-4ba5-e32b-12346a203fbd"
      },
      "outputs": [
        {
          "output_type": "stream",
          "name": "stdout",
          "text": [
            "[20. 21. 22. 23. 24. 25. 26. 27. 28. 29. 30.] 1.0\n"
          ]
        }
      ],
      "source": [
        "dayTemperature, spacing=np.linspace(20,30,11,  endpoint=True, retstep=True)\n",
        "print(dayTemperature, spacing)"
      ]
    },
    {
      "cell_type": "code",
      "execution_count": null,
      "metadata": {
        "colab": {
          "base_uri": "https://localhost:8080/"
        },
        "id": "xGmCyXLauayl",
        "outputId": "b9e86d0b-0533-47cb-86ef-99a5094fb0e8"
      },
      "outputs": [
        {
          "output_type": "execute_result",
          "data": {
            "text/plain": [
              "array([[ 0,  1,  2],\n",
              "       [ 3,  4,  5],\n",
              "       [ 6,  7,  8],\n",
              "       [ 9, 10, 11]])"
            ]
          },
          "metadata": {},
          "execution_count": 13
        }
      ],
      "source": [
        "A=np.arange(12).reshape(4,3)\n",
        "A"
      ]
    },
    {
      "cell_type": "markdown",
      "metadata": {
        "id": "lHKY9mTPviYV"
      },
      "source": [
        "Use `np.random.rand` to create an array of the given shape and populate it with random samples from a uniform distribution over [0, 1)."
      ]
    },
    {
      "cell_type": "code",
      "execution_count": null,
      "metadata": {
        "colab": {
          "base_uri": "https://localhost:8080/"
        },
        "id": "2X1_y0JCutN6",
        "outputId": "deeb61dc-97ea-4750-ca50-70bdda53e803"
      },
      "outputs": [
        {
          "output_type": "execute_result",
          "data": {
            "text/plain": [
              "array([[28.73913564, 10.79251812, 95.84845053],\n",
              "       [57.68341975, 24.96032741, 26.4724083 ],\n",
              "       [42.84917282, 40.15964807, 83.21360424],\n",
              "       [92.38915728, 23.99391638, 88.53040628]])"
            ]
          },
          "metadata": {},
          "execution_count": 14
        }
      ],
      "source": [
        "A=np.random.rand(4,3)*100\n",
        "A"
      ]
    },
    {
      "cell_type": "markdown",
      "metadata": {
        "id": "LLO9MUV2wOpp"
      },
      "source": [
        "Use `np.random.randn` to generates an array of given shape, filled with random floats sampled from a univariate “normal” (Gaussian) distribution of mean 0 and variance 1."
      ]
    },
    {
      "cell_type": "code",
      "execution_count": null,
      "metadata": {
        "colab": {
          "base_uri": "https://localhost:8080/"
        },
        "id": "HPud6a1MvG4y",
        "outputId": "546f6859-3430-419c-b538-b104e09bbd73"
      },
      "outputs": [
        {
          "output_type": "execute_result",
          "data": {
            "text/plain": [
              "array([[-0.72271374, -2.37924405, -1.18324811],\n",
              "       [-0.69089623, -0.72898502, -2.04961372],\n",
              "       [-0.35523584,  2.3117886 , -0.86471049],\n",
              "       [-1.12822088,  1.00433669,  0.79449435]])"
            ]
          },
          "metadata": {},
          "execution_count": 15
        }
      ],
      "source": [
        "A=np.random.randn(12).reshape(4,3)\n",
        "A"
      ]
    },
    {
      "cell_type": "code",
      "source": [
        "A=np.arange(12).reshape(2,3,2)"
      ],
      "metadata": {
        "id": "OwF7X0o6mEZu"
      },
      "execution_count": null,
      "outputs": []
    },
    {
      "cell_type": "code",
      "source": [
        "A"
      ],
      "metadata": {
        "colab": {
          "base_uri": "https://localhost:8080/"
        },
        "id": "6ucMMfR3mI6Y",
        "outputId": "d5478a3d-8293-45c3-802f-4496c1fbc89d"
      },
      "execution_count": null,
      "outputs": [
        {
          "output_type": "execute_result",
          "data": {
            "text/plain": [
              "array([[[ 0,  1],\n",
              "        [ 2,  3],\n",
              "        [ 4,  5]],\n",
              "\n",
              "       [[ 6,  7],\n",
              "        [ 8,  9],\n",
              "        [10, 11]]])"
            ]
          },
          "metadata": {},
          "execution_count": 19
        }
      ]
    },
    {
      "cell_type": "code",
      "source": [],
      "metadata": {
        "id": "ZGf9jW4wmUVn"
      },
      "execution_count": null,
      "outputs": []
    }
  ],
  "metadata": {
    "colab": {
      "name": "matricesAndVectors.ipynb",
      "provenance": [],
      "include_colab_link": true
    },
    "kernelspec": {
      "display_name": "Python 3",
      "name": "python3"
    },
    "language_info": {
      "codemirror_mode": {
        "name": "ipython",
        "version": 3
      },
      "file_extension": ".py",
      "mimetype": "text/x-python",
      "name": "python",
      "nbconvert_exporter": "python",
      "pygments_lexer": "ipython3",
      "version": "3.7.9"
    }
  },
  "nbformat": 4,
  "nbformat_minor": 0
}
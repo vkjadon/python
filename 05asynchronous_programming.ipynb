{
  "nbformat": 4,
  "nbformat_minor": 0,
  "metadata": {
    "colab": {
      "provenance": [],
      "toc_visible": true,
      "authorship_tag": "ABX9TyP74yTmH/db+ZBGI4riSdz3",
      "include_colab_link": true
    },
    "kernelspec": {
      "name": "python3",
      "display_name": "Python 3"
    },
    "language_info": {
      "name": "python"
    }
  },
  "cells": [
    {
      "cell_type": "markdown",
      "metadata": {
        "id": "view-in-github",
        "colab_type": "text"
      },
      "source": [
        "<a href=\"https://colab.research.google.com/github/vkjadon/python/blob/main/05asynchronous_programming.ipynb\" target=\"_parent\"><img src=\"https://colab.research.google.com/assets/colab-badge.svg\" alt=\"Open In Colab\"/></a>"
      ]
    },
    {
      "cell_type": "markdown",
      "source": [
        "##Computation Tasks\n"
      ],
      "metadata": {
        "id": "xOhy7o4XwG7X"
      }
    },
    {
      "cell_type": "markdown",
      "source": [
        "Computing tasks can be classified based on time consumed in computation, data transfer, waiting for external resources, or other factors. The most common classifications are CPU-bound, I/O-bound, and Memory-bound tasks.\n",
        "\n",
        "<b>CPU Bound</b> tasks are intensively use the CPU. Numerical computations (e.g., matrix operations, machine learning model training), image and video processing, cryptographic algorithms, simulations (e.g., physics or climate models) are few examples for the <b>CPU bound</b> tasks.\n",
        "\n",
        "<b>I/O bound</b> tasks wait for input/output operations with very little use of CPU during this time, such as file reads/writes or network communication. Reading or writing large files, database queries, etwork requests (e.g., API calls, downloading files) are the few examples of <b>I/O bound tasks</b>.\n",
        "\n",
        "<b>Memomery bound</b> tasks uses extensive memory speed or capacity and may lead to RAM overflow. Large-scale data analysis, database operations, real-time analytics with large datasets are some of the examples of <b>Memomery bound</b> tasks.\n",
        "\n",
        "<b>GPU bound</b> tasks require GPU for processing for massive parallel computation. Deep learning (e.g., training neural networks), 3D rendering, scientific computations (e.g., molecular dynamics), high end gaming and simulations are few examples of GPU bound</b> tasks.\n",
        "\n",
        "It is important to note that the speed of the operation depends on processor power and efficiency in case of CPU bound, performance of external devices or systems in case of I/O bound operration, how quickly data can be accessed from memory in case of Memory bound tasks and the speed of operation depends on GPU architecture and capabilities in case of GPU bound tasks.\n",
        "\n",
        "\n"
      ],
      "metadata": {
        "id": "quNrTCKJ3kIq"
      }
    },
    {
      "cell_type": "markdown",
      "source": [
        "##Synchronous and Asynchronous Processing"
      ],
      "metadata": {
        "id": "O58m1jDZDwTn"
      }
    },
    {
      "cell_type": "markdown",
      "source": [
        "In synchronous processing, tasks are executed one after the other, blocking the execution of subsequent tasks until the current one completes. Most traditional programming models are synchronous. We can involve threading, multiprocessing, or other forms of multitasking explicitly managed by the programmer to achieve concurrency.\n",
        "\n",
        "In asynchronous processing, tasks are executed in a non-blocking manner, allowing a program to do other work while waiting for an operation to complete. This way, we get the concurrency in the processes. This can be achieved by involving callbacks, futures, or event loops. We can run the process on a single thread (event loop) or be combined with threading or multiprocessing for greater concurrency or parallelism."
      ],
      "metadata": {
        "id": "_3Mzsyx7H5lT"
      }
    },
    {
      "cell_type": "markdown",
      "source": [
        "##Concurrency and Parallel Processing"
      ],
      "metadata": {
        "id": "HL8KX3ZYDaaM"
      }
    },
    {
      "cell_type": "markdown",
      "source": [
        "To optimize the performance of the computational devices, we can use concurrency and the parallel processing.\n",
        "\n",
        "The concurrency is the ability of a system to deal with multiple tasks at the same time (e.g., overlapping tasks). In this, the tasks may start, run, and complete in overlapping time periods, but they don't necessarily run simultaneously.\n",
        "\n",
        "The parallel processing is the simultaneous execution of multiple tasks or processes at the same time across multiple processors or cores.\n",
        "In this, the tasks run truly simultaneously.\n",
        "\n",
        "The conncurrency can occur on single-core processors whereas, we require multiple processors or cores to achieve true parallelism. We use concurrency in I/O-bound operations and parallel processing in CPU incentive tasks. We can go for GPU when very large processes are to be executed in parallel. GPU can have thousands of cores and each core can have multiple threads. For example Each core can manage multiple threads. For example, NVIDIA RTX 3090 model has 10,496 CUDA cores. Mostly, NVIDIA GPUs allow 32 threads per core.\n",
        "\n",
        "GPUs can execute tens of thousands or even millions of threads simultaneously, making them ideal for tasks that can be broken down into many independent operations\n"
      ],
      "metadata": {
        "id": "47f_vcakDfNo"
      }
    },
    {
      "cell_type": "markdown",
      "source": [
        "##Process and Thread\n",
        "A process is an instance of a program in execution. It includes the program's code, its own memory space, and system resources (e.g., file descriptors, environment variables). Every process has at least one thread for execution and called as main thread, and this is essential for running any code. Processes can use multiple threads when concurrency or parallelism is required, but the existence of at least one thread is a fundamental requirement for a process to function."
      ],
      "metadata": {
        "id": "8HDKeDozus6a"
      }
    },
    {
      "cell_type": "markdown",
      "source": [
        "##Callback\n",
        "A callback function in Python is a function that is passed as an argument to another function and is invoked after a specific event or condition within the receiving function is met. Callbacks are commonly used for handling asynchronous operations, events, and tasks that are completed at a later time.\n",
        "\n",
        "Callbacks are essential for handling asynchronous operations, such as I/O operations, network requests, and timers. In event-driven programming, callbacks handle events like button clicks, sensor readings, or incoming data Callbacks also help decouple code by separating the logic that initiates an operation from the logic that handles the result."
      ],
      "metadata": {
        "id": "NBEa4cltwRCS"
      }
    },
    {
      "cell_type": "markdown",
      "source": [
        "In this section, we will try to explore some of these aspects"
      ],
      "metadata": {
        "id": "-qjJerZiMvti"
      }
    },
    {
      "cell_type": "code",
      "execution_count": 9,
      "metadata": {
        "id": "UE8-WfDhLB-8"
      },
      "outputs": [],
      "source": [
        "import time"
      ]
    },
    {
      "cell_type": "code",
      "source": [
        "# Synchronously read data and then process it using the callback\n",
        "def process(id, duration, callback):\n",
        "    print(\"Starting data read...\")\n",
        "    # Simulate data reading\n",
        "    time.sleep(duration)\n",
        "    print(f\"Data read completed in approximate {duration} seconds.\")\n",
        "    print(f\"------------ Task - {id} Completed -----------\")\n",
        "    # Call the callback function with the read data\n",
        "    callback()"
      ],
      "metadata": {
        "id": "LhzSIQanNc2H"
      },
      "execution_count": null,
      "outputs": []
    },
    {
      "cell_type": "code",
      "source": [
        "def callback_process_data():\n",
        "    print(\"Processing data...\")\n",
        "    print(\"Data received.\")\n",
        "    print(\"Data processing completed.\")"
      ],
      "metadata": {
        "id": "ZqxwoFvBNg5C"
      },
      "execution_count": null,
      "outputs": []
    },
    {
      "cell_type": "code",
      "source": [
        "def main():\n",
        "  print(\"Main function started.\")\n",
        "\n",
        "  start_time=time.time()\n",
        "\n",
        "  expected_process_time=2\n",
        "\n",
        "  # Function to read some data and process it using callback function\n",
        "  task1=process(1, expected_process_time, callback_process_data)\n",
        "\n",
        "  print(\"Main function completed.\")\n",
        "\n",
        "  end_time=time.time()\n",
        "  print(f\"Process completed in {end_time-start_time} s\")"
      ],
      "metadata": {
        "id": "U5faP4waNnzY"
      },
      "execution_count": null,
      "outputs": []
    },
    {
      "cell_type": "code",
      "source": [
        "if __name__ == \"__main__\":\n",
        "  try :\n",
        "    main()\n",
        "  except Exception as e:\n",
        "    print(e)\n",
        "  finally:\n",
        "    print(\"Program terminated.\")"
      ],
      "metadata": {
        "colab": {
          "base_uri": "https://localhost:8080/"
        },
        "id": "rW65rwk6NVvq",
        "outputId": "e90c4d63-9f39-4313-ebd5-40ec697f16a5"
      },
      "execution_count": null,
      "outputs": [
        {
          "output_type": "stream",
          "name": "stdout",
          "text": [
            "Main function started.\n",
            "Starting data read...\n",
            "Data read completed in approximate 2 seconds.\n",
            "------------ Task - 1 Completed -----------\n",
            "Processing data...\n",
            "Data received.\n",
            "Data processing completed.\n",
            "Main function completed.\n",
            "Process completed in 2.0048747062683105 s\n",
            "Program terminated.\n"
          ]
        }
      ]
    },
    {
      "cell_type": "code",
      "source": [
        "def main():\n",
        "    start_time=time.time()\n",
        "    print(\"Main function started.\")\n",
        "\n",
        "    expected_process_time=2\n",
        "    # Function to read some data and process it using callback function\n",
        "    task1=process(1, expected_process_time, callback_process_data)\n",
        "    task2=process(2, expected_process_time, callback_process_data)\n",
        "    task3=process(3, expected_process_time, callback_process_data)\n",
        "\n",
        "    print(\"Main function completed.\")\n",
        "    print(f\"Process completed in {time.time()-start_time} s\")"
      ],
      "metadata": {
        "id": "_ZVny8yEPMCB"
      },
      "execution_count": null,
      "outputs": []
    },
    {
      "cell_type": "code",
      "source": [
        "if __name__ == \"__main__\":\n",
        "  try :\n",
        "    main()\n",
        "  except Exception as e:\n",
        "    print(e)\n",
        "  finally:\n",
        "    print(\"Program terminated.\")"
      ],
      "metadata": {
        "colab": {
          "base_uri": "https://localhost:8080/"
        },
        "id": "XJ4_8tRJPk8W",
        "outputId": "fb4d4388-ff2e-40f6-df9d-ee42e0fecbfe"
      },
      "execution_count": null,
      "outputs": [
        {
          "output_type": "stream",
          "name": "stdout",
          "text": [
            "Main function started.\n",
            "Starting data read...\n",
            "Data read completed in approximate 2 seconds.\n",
            "------------ Task - 1 Completed -----------\n",
            "Processing data...\n",
            "Data received.\n",
            "Data processing completed.\n",
            "Starting data read...\n",
            "Data read completed in approximate 2 seconds.\n",
            "------------ Task - 2 Completed -----------\n",
            "Processing data...\n",
            "Data received.\n",
            "Data processing completed.\n",
            "Starting data read...\n",
            "Data read completed in approximate 2 seconds.\n",
            "------------ Task - 3 Completed -----------\n",
            "Processing data...\n",
            "Data received.\n",
            "Data processing completed.\n",
            "Main function completed.\n",
            "Process completed in 6.009599685668945 s\n",
            "Program terminated.\n"
          ]
        }
      ]
    },
    {
      "cell_type": "markdown",
      "source": [
        "The error RuntimeError: asyncio.run() cannot be called from a running event loop occurs because Google Colab runs its own event loop in the background. In environments like Colab or Jupyter notebooks, you can't use asyncio.run() directly, as it attempts to start a new event loop while one is already running."
      ],
      "metadata": {
        "id": "D6ujHG3f2xqi"
      }
    },
    {
      "cell_type": "code",
      "source": [
        "import nest_asyncio\n",
        "nest_asyncio.apply()"
      ],
      "metadata": {
        "id": "WnlXbfIFRnLI"
      },
      "execution_count": 13,
      "outputs": []
    },
    {
      "cell_type": "markdown",
      "source": [
        "Let add"
      ],
      "metadata": {
        "id": "wzN0gZ8eN7jo"
      }
    },
    {
      "cell_type": "code",
      "source": [
        "import time\n",
        "import asyncio\n",
        "\n",
        "async def any_function(id, process_time, callback):\n",
        "    print(\"Starting data read...\")\n",
        "    # Simulate data reading with a delay\n",
        "    await asyncio.sleep(process_time)  # Simulates the time taken to read data\n",
        "    var1 = \"Sample Data\"\n",
        "    print(f\"Data for {id} completed.\")\n",
        "\n",
        "    # Call the callback function with the read data\n",
        "    await callback(var1)\n",
        "\n",
        "async def process_data(data):\n",
        "    print(\"Processing data...\")\n",
        "    print(f\"Data received: {data}\")\n",
        "    print(\"Data processing completed.\")\n",
        "\n",
        "async def main():\n",
        "    start_time=time.time()\n",
        "\n",
        "    print(\"Main function started.\")\n",
        "\n",
        "    await any_function(1, 2, process_data)\n",
        "    await any_function(2, 4, process_data)\n",
        "\n",
        "    print(\"Main function completed.\")\n",
        "\n",
        "    end_time=time.time()\n",
        "    print(f\"Process completed in {end_time-start_time} s\")\n",
        "\n",
        "if __name__ == \"__main__\":\n",
        "    asyncio.run(main())"
      ],
      "metadata": {
        "colab": {
          "base_uri": "https://localhost:8080/"
        },
        "id": "ZSJQZGIYPLfz",
        "outputId": "97d81e86-8877-4bff-d314-e208a847f0c0"
      },
      "execution_count": 14,
      "outputs": [
        {
          "output_type": "stream",
          "name": "stderr",
          "text": [
            "/usr/lib/python3.10/codeop.py:118: RuntimeWarning: coroutine 'main' was never awaited\n",
            "  codeob = compile(source, filename, symbol, self.flags, True)\n",
            "RuntimeWarning: Enable tracemalloc to get the object allocation traceback\n"
          ]
        },
        {
          "output_type": "stream",
          "name": "stdout",
          "text": [
            "Main function started.\n",
            "Starting data read...\n",
            "Data for 1 completed.\n",
            "Processing data...\n",
            "Data received: Sample Data\n",
            "Data processing completed.\n",
            "Starting data read...\n",
            "Data for 2 completed.\n",
            "Processing data...\n",
            "Data received: Sample Data\n",
            "Data processing completed.\n",
            "Main function completed.\n",
            "Process completed in 6.005456209182739 s\n"
          ]
        }
      ]
    },
    {
      "cell_type": "code",
      "source": [
        "import asyncio\n",
        "\n",
        "async def complete_future(future, delay, name):\n",
        "    print(f\"{name} will complete the future after {delay} seconds...\")\n",
        "    await asyncio.sleep(delay)  # Simulate some delay (e.g., an async operation)\n",
        "    future.set_result(f\"{name} completed the future!\")\n",
        "\n",
        "async def wait_for_future(future, name):\n",
        "    print(f\"{name} is waiting for the future...\")\n",
        "    result = await future  # This pauses the coroutine until the Future is completed\n",
        "    print(f\"{name} got the result: {result}\")\n",
        "\n",
        "async def main():\n",
        "    loop = asyncio.get_running_loop()\n",
        "\n",
        "    # Create two Futures\n",
        "    future1 = loop.create_future()\n",
        "    future2 = loop.create_future()\n",
        "\n",
        "    # Schedule tasks to complete the Futures\n",
        "    asyncio.create_task(complete_future(future1, 3, \"Task 1\"))  # Completes after 3 seconds\n",
        "    asyncio.create_task(complete_future(future2, 5, \"Task 2\"))  # Completes after 5 seconds\n",
        "\n",
        "    # Schedule tasks to wait for the Futures\n",
        "    asyncio.create_task(wait_for_future(future1, \"Waiter 1\"))\n",
        "    asyncio.create_task(wait_for_future(future2, \"Waiter 2\"))\n",
        "\n",
        "    # Simulate other operations happening concurrently\n",
        "    for i in range(5):\n",
        "        print(f\"Main task working... ({i + 1})\")\n",
        "        await asyncio.sleep(1)\n",
        "\n",
        "asyncio.run(main())\n"
      ],
      "metadata": {
        "id": "gVnfYCaF1w0g",
        "outputId": "f1755dd7-555d-4b12-efdb-e9992049471e",
        "colab": {
          "base_uri": "https://localhost:8080/"
        }
      },
      "execution_count": 16,
      "outputs": [
        {
          "output_type": "stream",
          "name": "stdout",
          "text": [
            "Main task working... (1)\n",
            "Task 1 will complete the future after 3 seconds...\n",
            "Task 2 will complete the future after 5 seconds...\n",
            "Waiter 1 is waiting for the future...\n",
            "Waiter 2 is waiting for the future...\n",
            "Main task working... (2)\n",
            "Main task working... (3)\n",
            "Waiter 1 got the result: Task 1 completed the future!\n",
            "Main task working... (4)\n",
            "Main task working... (5)\n",
            "Waiter 2 got the result: Task 2 completed the future!\n"
          ]
        }
      ]
    }
  ]
}
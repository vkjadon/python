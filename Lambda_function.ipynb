{
  "cells": [
    {
      "cell_type": "markdown",
      "metadata": {
        "id": "view-in-github",
        "colab_type": "text"
      },
      "source": [
        "<a href=\"https://colab.research.google.com/github/vkjadon/python/blob/main/Lambda_function.ipynb\" target=\"_parent\"><img src=\"https://colab.research.google.com/assets/colab-badge.svg\" alt=\"Open In Colab\"/></a>"
      ]
    },
    {
      "cell_type": "markdown",
      "source": [
        "##Lambda Function\n"
      ],
      "metadata": {
        "id": "9iHHJ0PWw5jr"
      }
    },
    {
      "cell_type": "markdown",
      "source": [
        "A lambda function, also known as an anonymous function, is a small and concise function in Python that doesn't require a defined name. It is defined using the lambda keyword, followed by the function arguements, a colon (:), and the expression to be evaluated.\n",
        "\n",
        "Here are a few examples to illustrate the usage of lambda functions:"
      ],
      "metadata": {
        "id": "6LxHchaUx87y"
      }
    },
    {
      "cell_type": "code",
      "source": [
        "def sum(a,b):\n",
        "  return a+b"
      ],
      "metadata": {
        "id": "7D2b6b9Pw8H-"
      },
      "execution_count": null,
      "outputs": []
    },
    {
      "cell_type": "code",
      "source": [
        "print(sum(10,17))"
      ],
      "metadata": {
        "id": "UtCt1SxoxD2A",
        "outputId": "ab5d1ee1-8b7e-48ca-d98c-cb43b8cff128",
        "colab": {
          "base_uri": "https://localhost:8080/"
        }
      },
      "execution_count": null,
      "outputs": [
        {
          "output_type": "stream",
          "name": "stdout",
          "text": [
            "27\n"
          ]
        }
      ]
    },
    {
      "cell_type": "code",
      "source": [
        "(sum)(1,2)"
      ],
      "metadata": {
        "id": "U-8ASFOvboHe",
        "outputId": "c25fcc21-c2c8-4226-c264-1e6c7e3b6176",
        "colab": {
          "base_uri": "https://localhost:8080/"
        }
      },
      "execution_count": null,
      "outputs": [
        {
          "output_type": "execute_result",
          "data": {
            "text/plain": [
              "3"
            ]
          },
          "metadata": {},
          "execution_count": 4
        }
      ]
    },
    {
      "cell_type": "code",
      "source": [
        "add = lambda a, b: a + b"
      ],
      "metadata": {
        "id": "vzlWoztckFRV"
      },
      "execution_count": null,
      "outputs": []
    },
    {
      "cell_type": "markdown",
      "source": [
        "This will create a function with name as 'add' with two parameters 'a' and 'b' and capable of performing the 'a+b' operation."
      ],
      "metadata": {
        "id": "lkAcmkaOkF9j"
      }
    },
    {
      "cell_type": "code",
      "source": [
        "result = add(3, 4)\n",
        "print(result)  # Output: 7"
      ],
      "metadata": {
        "id": "F-gZ4Hg2xG9n",
        "outputId": "4e5b1f1d-c322-4b1f-f36a-88335d9269ce",
        "colab": {
          "base_uri": "https://localhost:8080/"
        }
      },
      "execution_count": null,
      "outputs": [
        {
          "output_type": "stream",
          "name": "stdout",
          "text": [
            "7\n"
          ]
        }
      ]
    },
    {
      "cell_type": "code",
      "source": [
        "square = lambda x: x ** 2\n",
        "result = square(5)\n",
        "print(result)  # Output: 25"
      ],
      "metadata": {
        "id": "bQ2qRp4gz_qq",
        "outputId": "2641ebd6-3fa2-46bb-f3d1-9e3e2aeea059",
        "colab": {
          "base_uri": "https://localhost:8080/"
        }
      },
      "execution_count": null,
      "outputs": [
        {
          "output_type": "stream",
          "name": "stdout",
          "text": [
            "25\n"
          ]
        }
      ]
    },
    {
      "cell_type": "markdown",
      "source": [
        "It is not necessary to write the name of the function to pass the arguement. Rather, we can use right hand side with lambda keyword enclosed within parenthesis to act as function name and pass the arguements as below."
      ],
      "metadata": {
        "id": "hjAkpSnjkbVN"
      }
    },
    {
      "cell_type": "code",
      "source": [
        "(lambda a, b: a + b)(1,2)"
      ],
      "metadata": {
        "id": "4B1C9LXLy-dJ",
        "outputId": "b1b6fc9a-fe98-4e5a-8f4b-179db772aebb",
        "colab": {
          "base_uri": "https://localhost:8080/"
        }
      },
      "execution_count": null,
      "outputs": [
        {
          "output_type": "execute_result",
          "data": {
            "text/plain": [
              "3"
            ]
          },
          "metadata": {},
          "execution_count": 8
        }
      ]
    },
    {
      "cell_type": "markdown",
      "source": [
        "The expression (lambda a, b: a + b)(1, 2) represents an Immediately Invoked Function Expression (IIFE) in Python. It creates an anonymous function that takes two arguments a and b and returns their sum. The function is then immediately invoked with the arguments 1 and 2."
      ],
      "metadata": {
        "id": "ZqGVmvOszYf7"
      }
    },
    {
      "cell_type": "code",
      "source": [
        "#Keyword arguement\n",
        "expression = lambda a, b, c : a * (b + c)\n",
        "#arguement can be in any order\n",
        "result = expression(3, c=10, b=5)\n",
        "print(result)"
      ],
      "metadata": {
        "id": "3Qe0dpcEzHQv",
        "outputId": "dc951c48-7261-4b3c-83bd-c0c173c6133d",
        "colab": {
          "base_uri": "https://localhost:8080/"
        }
      },
      "execution_count": null,
      "outputs": [
        {
          "output_type": "stream",
          "name": "stdout",
          "text": [
            "45\n"
          ]
        }
      ]
    },
    {
      "cell_type": "code",
      "source": [
        "#Default arguement\n",
        "expression = lambda a, b, c=8 : a * (b + c)\n",
        "#expression = lambda a, b=20, c : a * (b + c) #Will throw an error\n",
        "#non-default argument follows default argument\n",
        "result = expression(3, 10)\n",
        "print(result)"
      ],
      "metadata": {
        "id": "el5J2DnJ2Cjl",
        "outputId": "9e16f9bb-2b27-4cc5-a2dd-dd70b9cfb1f5",
        "colab": {
          "base_uri": "https://localhost:8080/"
        }
      },
      "execution_count": null,
      "outputs": [
        {
          "output_type": "stream",
          "name": "stdout",
          "text": [
            "54\n"
          ]
        }
      ]
    },
    {
      "cell_type": "markdown",
      "source": [
        "In this example, we have a list of tuples called data. We want to sort the list based on the second element of each tuple (i.e., the fruit name). We use a lambda function as the key parameter in the sorted() function, specifying that we want to sort based on x[1], which represents the second element of each tuple. The resulting sorted list is printed."
      ],
      "metadata": {
        "id": "awIzZhXP3Ou8"
      }
    },
    {
      "cell_type": "code",
      "source": [
        "data = [(2, 'Apple', 200), (3, 'Orange', 80), (1, 'Banana', 70)]\n",
        "sorted_data = sorted(data, key=lambda x: x[2])\n",
        "print(sorted_data)  # Output: [(2, 'Apple'), (1, 'Banana'), (3, 'Orange')]"
      ],
      "metadata": {
        "id": "10vFGZDE3B-I",
        "outputId": "f86275bb-0ffd-40ea-ad84-e91a4104f676",
        "colab": {
          "base_uri": "https://localhost:8080/"
        }
      },
      "execution_count": null,
      "outputs": [
        {
          "output_type": "stream",
          "name": "stdout",
          "text": [
            "[(1, 'Banana', 70), (3, 'Orange', 80), (2, 'Apple', 200)]\n"
          ]
        }
      ]
    },
    {
      "cell_type": "markdown",
      "source": [
        "##Higher Order Functions"
      ],
      "metadata": {
        "id": "J1m1t4Ki8xnx"
      }
    },
    {
      "cell_type": "markdown",
      "source": [
        "A higher-order function is a function that can take one or more functions as arguments and/or return a function as its result. In other words, it treats functions as first-class citizens, allowing them to be passed around and manipulated just like any other data type.\n",
        "\n",
        "Some common examples of higher-order functions in Python include map(), filter(), and reduce(). These functions can take other functions as arguments to perform operations on iterable objects.\n",
        "\n",
        "Here's an example to illustrate the concept of a higher-order function:"
      ],
      "metadata": {
        "id": "fwnfcnLw813F"
      }
    },
    {
      "cell_type": "code",
      "source": [
        "def double(x):\n",
        "    return x * 2\n",
        "\n",
        "def apply_operation(func, num):\n",
        "    return func(num)\n",
        "\n",
        "result = apply_operation(double, 5)\n",
        "print(result)  # Output: 10\n"
      ],
      "metadata": {
        "id": "Kd3rmSXQ9SSF",
        "outputId": "f56e8d98-1abf-419a-ae4b-c4d55a2ee432",
        "colab": {
          "base_uri": "https://localhost:8080/"
        }
      },
      "execution_count": null,
      "outputs": [
        {
          "output_type": "stream",
          "name": "stdout",
          "text": [
            "10\n"
          ]
        }
      ]
    },
    {
      "cell_type": "markdown",
      "source": [
        "In this example, `double` is a function that takes a number and returns its double. The `apply_operation` function is a higher-order function that takes a function *func* and a number *num*. It calls the provided function func with the given number num and returns the result.\n",
        "\n",
        "We can pass the `double` function as an argument to `apply_operation` and provide a number (5 in this case). The `apply_operation` function will then call the double function with the provided number, resulting in 10, which is printed as the output.\n",
        "\n",
        "**Higher-order functions** are powerful because they allow for code reuse, modularity, and the ability to abstract and manipulate behavior. They enable functional programming paradigms and can lead to more concise and expressive code."
      ],
      "metadata": {
        "id": "gXBY77qC9fhj"
      }
    },
    {
      "cell_type": "code",
      "source": [
        "func_ho = lambda func, x : x + func(x)\n",
        "func_ho(lambda x : x**2, 6)"
      ],
      "metadata": {
        "id": "CfCeffGv_LWO",
        "outputId": "fadf85bb-6ad0-46d5-be4b-4a845c1f203b",
        "colab": {
          "base_uri": "https://localhost:8080/"
        }
      },
      "execution_count": null,
      "outputs": [
        {
          "output_type": "execute_result",
          "data": {
            "text/plain": [
              "42"
            ]
          },
          "metadata": {},
          "execution_count": 12
        }
      ]
    },
    {
      "cell_type": "code",
      "source": [
        "func_ho(double, 9)"
      ],
      "metadata": {
        "id": "OmUrMwin_0pG",
        "outputId": "a339e38a-e94e-4bba-9f8f-007d52ce30ce",
        "colab": {
          "base_uri": "https://localhost:8080/"
        }
      },
      "execution_count": null,
      "outputs": [
        {
          "output_type": "execute_result",
          "data": {
            "text/plain": [
              "27"
            ]
          },
          "metadata": {},
          "execution_count": 15
        }
      ]
    },
    {
      "cell_type": "markdown",
      "source": [
        "The `double` function doubles the number passed as arguement and `func_fo` add the number to the doubles number. So, output is three times the number."
      ],
      "metadata": {
        "id": "f9lvego7nMm-"
      }
    },
    {
      "cell_type": "markdown",
      "source": [
        "\n",
        "**map()** - Applies a function to each element of an iterable and returns a new iterable with the transformed values."
      ],
      "metadata": {
        "id": "cSCmibrf97YW"
      }
    },
    {
      "cell_type": "code",
      "source": [
        "numbers = [1, 2, 3, 4, 5]\n",
        "squared_numbers = map(lambda x: x**2, numbers)\n",
        "print(list(squared_numbers))  # Output: [1, 4, 9, 16, 25]"
      ],
      "metadata": {
        "id": "QsA1oY0L-Jlj",
        "outputId": "960fe34f-f918-498d-8c99-1ad946346cf4",
        "colab": {
          "base_uri": "https://localhost:8080/"
        }
      },
      "execution_count": null,
      "outputs": [
        {
          "output_type": "stream",
          "name": "stdout",
          "text": [
            "[1, 4, 9, 16, 25]\n"
          ]
        }
      ]
    },
    {
      "cell_type": "markdown",
      "source": [
        "**filter()** - Filters elements from an iterable based on a condition defined by a lambda function and returns a new iterable with the filtered values."
      ],
      "metadata": {
        "id": "tk_FO0ex-N3u"
      }
    },
    {
      "cell_type": "code",
      "source": [
        "numbers = [1, 2, 3, 4, 5]\n",
        "even_numbers = filter(lambda x: x % 2 == 0, numbers)\n",
        "print(list(even_numbers))  # Output: [2, 4]"
      ],
      "metadata": {
        "id": "kmAq-_Eo-Vaj",
        "outputId": "5318c97a-95e5-4bb3-c1ee-fcea0487dc5a",
        "colab": {
          "base_uri": "https://localhost:8080/"
        }
      },
      "execution_count": null,
      "outputs": [
        {
          "output_type": "stream",
          "name": "stdout",
          "text": [
            "[2, 4]\n"
          ]
        }
      ]
    },
    {
      "cell_type": "markdown",
      "source": [
        "**reduce()** - Applies a function to the elements of an iterable in a cumulative way and returns a single value."
      ],
      "metadata": {
        "id": "STlMzuxu-a_Y"
      }
    },
    {
      "cell_type": "code",
      "source": [
        "from functools import reduce\n",
        "numbers = [1, 2, 3, 4, 5]\n",
        "product = reduce(lambda x, y: x * y, numbers)\n",
        "print(product)  # Output: 120"
      ],
      "metadata": {
        "id": "5HHxQ4_l-gzH",
        "outputId": "1fe53c53-674d-4372-9dc4-d9c802ae709e",
        "colab": {
          "base_uri": "https://localhost:8080/"
        }
      },
      "execution_count": null,
      "outputs": [
        {
          "output_type": "stream",
          "name": "stdout",
          "text": [
            "120\n"
          ]
        }
      ]
    },
    {
      "cell_type": "markdown",
      "source": [
        "**sorted()** - Sorts the elements of an iterable based on a comparison defined by a lambda function and returns a new list."
      ],
      "metadata": {
        "id": "QzAmc50v-ntJ"
      }
    },
    {
      "cell_type": "code",
      "source": [
        "fruits = ['apple', 'banana', 'cherry', 'durian']\n",
        "sorted_fruits = sorted(fruits, key=lambda x: x[0])\n",
        "\n",
        "print(sorted_fruits)  # Output: ['apple', 'banana', 'cherry', 'durian']\n"
      ],
      "metadata": {
        "id": "s81utu46-qJi",
        "outputId": "244de253-a625-4b32-c002-165716872823",
        "colab": {
          "base_uri": "https://localhost:8080/"
        }
      },
      "execution_count": null,
      "outputs": [
        {
          "output_type": "stream",
          "name": "stdout",
          "text": [
            "['apple', 'banana', 'cherry', 'durian']\n"
          ]
        }
      ]
    },
    {
      "cell_type": "markdown",
      "source": [
        "##Unpacking Operator *"
      ],
      "metadata": {
        "id": "S-xEYPrE6-u9"
      }
    },
    {
      "cell_type": "markdown",
      "source": [
        "The * operator can unpack a list or tuple of arguments directly into a function call."
      ],
      "metadata": {
        "id": "dYMIQFps7KyV"
      }
    },
    {
      "cell_type": "code",
      "source": [
        "def add_three_numbers(a, b, c):\n",
        "    return a + b + c\n",
        "\n",
        "numbers = [1, 2, 3]\n",
        "result = add_three_numbers(*numbers)  # Equivalent to add_three_numbers(1, 2, 3)\n",
        "print(result)  # Output: 6"
      ],
      "metadata": {
        "id": "ulllmfOE7MAB",
        "outputId": "2d09747c-3a4a-4539-c9eb-8bf856bcac2c",
        "colab": {
          "base_uri": "https://localhost:8080/"
        }
      },
      "execution_count": 1,
      "outputs": [
        {
          "output_type": "stream",
          "name": "stdout",
          "text": [
            "6\n"
          ]
        }
      ]
    },
    {
      "cell_type": "markdown",
      "source": [
        "The * operator can be used to unpack lists or tuples when combining them."
      ],
      "metadata": {
        "id": "CL9sq3Pj7tt3"
      }
    },
    {
      "cell_type": "code",
      "source": [
        "list1 = [1, 2, 3]\n",
        "list2 = [4, 5, 6]\n",
        "combined_list = [list1, *list2]\n",
        "print(combined_list)  # Output: [1, 2, 3, 4, 5, 6]\n",
        "print(combined_list[0])  # Output: [1, 2, 3, 4, 5, 6]"
      ],
      "metadata": {
        "id": "2c1nXXc67u9t",
        "outputId": "41155f50-a2b0-41a4-c857-b90e04eb488b",
        "colab": {
          "base_uri": "https://localhost:8080/"
        }
      },
      "execution_count": 8,
      "outputs": [
        {
          "output_type": "stream",
          "name": "stdout",
          "text": [
            "[[1, 2, 3], 4, 5, 6]\n",
            "[1, 2, 3]\n"
          ]
        }
      ]
    },
    {
      "cell_type": "markdown",
      "source": [
        "When you need to assign multiple variables from a list or tuple, * can capture remaining elements."
      ],
      "metadata": {
        "id": "o3k3eOWd8j0C"
      }
    },
    {
      "cell_type": "code",
      "source": [
        "values = [1, 2, 3, 4, 5]\n",
        "first, *middle, last = values\n",
        "print(first)   # Output: 1\n",
        "print(middle)  # Output: [2, 3, 4]\n",
        "print(last)    # Output: 5"
      ],
      "metadata": {
        "id": "w7MdVHzu8lAR",
        "outputId": "2040b834-616f-4382-e383-f2f41003e43c",
        "colab": {
          "base_uri": "https://localhost:8080/"
        }
      },
      "execution_count": 9,
      "outputs": [
        {
          "output_type": "stream",
          "name": "stdout",
          "text": [
            "1\n",
            "[2, 3, 4]\n",
            "5\n"
          ]
        }
      ]
    },
    {
      "cell_type": "markdown",
      "source": [
        "You can use * to pass multiple items in a list or tuple as individual arguments to print()"
      ],
      "metadata": {
        "id": "ag4b5_y-8sWB"
      }
    },
    {
      "cell_type": "code",
      "source": [
        "data = [\"apple\", \"banana\", \"cherry\"]\n",
        "print(*data)\n",
        "# Output: apple banana cherry\n"
      ],
      "metadata": {
        "id": "fKCxqrIN8tnq",
        "outputId": "a9bf6b88-dc13-4412-b7bd-57e83c6ab5ca",
        "colab": {
          "base_uri": "https://localhost:8080/"
        }
      },
      "execution_count": 10,
      "outputs": [
        {
          "output_type": "stream",
          "name": "stdout",
          "text": [
            "apple banana cherry\n"
          ]
        }
      ]
    },
    {
      "cell_type": "markdown",
      "source": [
        "The double ** operator can unpack a dictionary into keyword arguments."
      ],
      "metadata": {
        "id": "JkhFpxMK7WJ3"
      }
    },
    {
      "cell_type": "code",
      "source": [
        "def introduce(name, age, city):\n",
        "    print(f\"My name is {name}, I am {age} years old and I live in {city}.\")\n",
        "\n",
        "info = {\"name\": \"Alice\", \"age\": 30, \"city\": \"New York\"}\n",
        "introduce(**info)\n",
        "# Output: My name is Alice, I am 30 years old and I live in New York."
      ],
      "metadata": {
        "id": "D_puzlgg7atj",
        "outputId": "12bb5914-b9d8-409f-b214-90571ab478ff",
        "colab": {
          "base_uri": "https://localhost:8080/"
        }
      },
      "execution_count": 2,
      "outputs": [
        {
          "output_type": "stream",
          "name": "stdout",
          "text": [
            "My name is Alice, I am 30 years old and I live in New York.\n"
          ]
        }
      ]
    },
    {
      "cell_type": "markdown",
      "source": [],
      "metadata": {
        "id": "8dzDIgFV7pZo"
      }
    },
    {
      "cell_type": "markdown",
      "source": [
        "##List Comprehension"
      ],
      "metadata": {
        "id": "vzlVR6Gh8dDV"
      }
    },
    {
      "cell_type": "code",
      "source": [
        "numbers = [1, 2, 3, 4, 5, 6]\n",
        "results = [\"odd\" if x % 2 != 0 else \"even\" for x in numbers]\n",
        "print(results)\n"
      ],
      "metadata": {
        "id": "6ehQtYGN5wSZ",
        "outputId": "c6513261-8f52-41db-9bf7-1ef9447be83d",
        "colab": {
          "base_uri": "https://localhost:8080/"
        }
      },
      "execution_count": null,
      "outputs": [
        {
          "output_type": "stream",
          "name": "stdout",
          "text": [
            "['odd', 'even', 'odd', 'even', 'odd', 'even']\n"
          ]
        }
      ]
    },
    {
      "cell_type": "markdown",
      "source": [
        "##OOP in Python for Deep Learning"
      ],
      "metadata": {
        "id": "e6H2vb6OBweQ"
      }
    },
    {
      "cell_type": "code",
      "source": [
        "class Layer:\n",
        "  def __inti__(self):\n",
        "    self.input=None\n",
        "\n",
        "  def forward(self, input):\n",
        "    self.input = input\n",
        "    print(\"This is the Forward Method of base class for Layer\")\n",
        "    return None\n"
      ],
      "metadata": {
        "id": "XwShb0AFB1_2"
      },
      "execution_count": null,
      "outputs": []
    },
    {
      "cell_type": "code",
      "source": [
        "import numpy as np"
      ],
      "metadata": {
        "id": "J1UMLQSaNcNz"
      },
      "execution_count": null,
      "outputs": []
    },
    {
      "cell_type": "code",
      "source": [
        "class Dense(Layer):\n",
        "  def __init__(self, input_size, output_size):\n",
        "    self.weights = np.random.randn(output_size, input_size)\n",
        "    self.bias = np.random.randn(output_size, 1)\n",
        "\n",
        "  def forward(self, input):\n",
        "    self.input = input\n",
        "    print(\"This is the Forward Method of Dense Layer\")\n",
        "    return np.dot(self.weights, self.input) + self.bias"
      ],
      "metadata": {
        "id": "ECgTbaGOK9ag"
      },
      "execution_count": null,
      "outputs": []
    },
    {
      "cell_type": "code",
      "source": [
        "L1=Layer()\n",
        "L1.forward(3)\n",
        "L2=Dense(3,2)\n",
        "L2.weights\n",
        "L2.forward(3)"
      ],
      "metadata": {
        "id": "Z9u4mrVXPUsA",
        "outputId": "f6de3911-f5bb-464e-e111-9faac0642351",
        "colab": {
          "base_uri": "https://localhost:8080/"
        }
      },
      "execution_count": null,
      "outputs": [
        {
          "output_type": "stream",
          "name": "stdout",
          "text": [
            "This is the Forward Method of base class for Layer\n",
            "This is the Forward Method of Dense Layer\n"
          ]
        },
        {
          "output_type": "execute_result",
          "data": {
            "text/plain": [
              "array([[ 1.70912621, -4.66404511,  0.44218798],\n",
              "       [-6.77092943,  3.75453537, -1.95353889]])"
            ]
          },
          "metadata": {},
          "execution_count": 61
        }
      ]
    },
    {
      "cell_type": "code",
      "source": [],
      "metadata": {
        "id": "zUEhALlbPYkO"
      },
      "execution_count": null,
      "outputs": []
    }
  ],
  "metadata": {
    "interpreter": {
      "hash": "aee8b7b246df8f9039afb4144a1f6fd8d2ca17a180786b69acc140d282b71a49"
    },
    "kernelspec": {
      "display_name": "Python 3.7.9 64-bit",
      "language": "python",
      "name": "python3"
    },
    "language_info": {
      "codemirror_mode": {
        "name": "ipython",
        "version": 3
      },
      "file_extension": ".py",
      "mimetype": "text/x-python",
      "name": "python",
      "nbconvert_exporter": "python",
      "pygments_lexer": "ipython3",
      "version": "3.7.9"
    },
    "orig_nbformat": 4,
    "colab": {
      "name": "03numpyFunctions.ipynb",
      "provenance": [],
      "toc_visible": true,
      "include_colab_link": true
    }
  },
  "nbformat": 4,
  "nbformat_minor": 0
}
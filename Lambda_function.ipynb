{
  "cells": [
    {
      "cell_type": "markdown",
      "metadata": {
        "id": "view-in-github",
        "colab_type": "text"
      },
      "source": [
        "<a href=\"https://colab.research.google.com/github/vkjadon/python/blob/main/Lambda_function.ipynb\" target=\"_parent\"><img src=\"https://colab.research.google.com/assets/colab-badge.svg\" alt=\"Open In Colab\"/></a>"
      ]
    },
    {
      "cell_type": "markdown",
      "source": [
        "##Lambda Function\n"
      ],
      "metadata": {
        "id": "9iHHJ0PWw5jr"
      }
    },
    {
      "cell_type": "markdown",
      "source": [
        "A lambda function, also known as an anonymous function, is a small and concise function in Python that doesn't require a defined name. It is defined using the lambda keyword, followed by the function arguements, a colon (:), and the expression to be evaluated.\n",
        "\n",
        "Here are a few examples to illustrate the usage of lambda functions:"
      ],
      "metadata": {
        "id": "6LxHchaUx87y"
      }
    },
    {
      "cell_type": "code",
      "source": [
        "def add(a,b):\n",
        "  return a+b"
      ],
      "metadata": {
        "id": "7D2b6b9Pw8H-"
      },
      "execution_count": 15,
      "outputs": []
    },
    {
      "cell_type": "code",
      "source": [
        "sum=add(10,17)\n",
        "print(sum)"
      ],
      "metadata": {
        "id": "UtCt1SxoxD2A",
        "outputId": "4e9d6734-9fc3-4413-a33d-f1cfb7ea5a6f",
        "colab": {
          "base_uri": "https://localhost:8080/"
        }
      },
      "execution_count": 16,
      "outputs": [
        {
          "output_type": "stream",
          "name": "stdout",
          "text": [
            "27\n"
          ]
        }
      ]
    },
    {
      "cell_type": "code",
      "source": [
        "add = lambda a, b: a + b"
      ],
      "metadata": {
        "id": "vzlWoztckFRV"
      },
      "execution_count": 21,
      "outputs": []
    },
    {
      "cell_type": "markdown",
      "source": [
        "This will create a function with name as 'add' with two parameters 'a' and 'b' and capable of performing the 'a+b' operation."
      ],
      "metadata": {
        "id": "lkAcmkaOkF9j"
      }
    },
    {
      "cell_type": "code",
      "source": [
        "result = add(3, 4)\n",
        "print(result)  # Output: 7"
      ],
      "metadata": {
        "id": "F-gZ4Hg2xG9n",
        "outputId": "1d3e36c9-0aa9-4e0b-bf06-c359b1f8a9e9",
        "colab": {
          "base_uri": "https://localhost:8080/"
        }
      },
      "execution_count": 23,
      "outputs": [
        {
          "output_type": "stream",
          "name": "stdout",
          "text": [
            "7\n"
          ]
        }
      ]
    },
    {
      "cell_type": "code",
      "source": [
        "square = lambda x: x ** 2\n",
        "result = square(5)\n",
        "print(result)  # Output: 25"
      ],
      "metadata": {
        "id": "bQ2qRp4gz_qq",
        "outputId": "811a4b8e-3659-4955-83ed-2910d0b5f3f6",
        "colab": {
          "base_uri": "https://localhost:8080/"
        }
      },
      "execution_count": 24,
      "outputs": [
        {
          "output_type": "stream",
          "name": "stdout",
          "text": [
            "25\n"
          ]
        }
      ]
    },
    {
      "cell_type": "markdown",
      "source": [
        "It is not necessary to write the name of the function to pass the arguement. Rather, we can use right hand side with lambda keyword enclosed within parenthesis to act as function name and pass the arguements as below."
      ],
      "metadata": {
        "id": "hjAkpSnjkbVN"
      }
    },
    {
      "cell_type": "code",
      "source": [
        "(lambda a, b: a + b)(1,2)"
      ],
      "metadata": {
        "id": "4B1C9LXLy-dJ",
        "outputId": "7567261e-750b-485f-8025-c3bb2f81d62c",
        "colab": {
          "base_uri": "https://localhost:8080/"
        }
      },
      "execution_count": 7,
      "outputs": [
        {
          "output_type": "execute_result",
          "data": {
            "text/plain": [
              "3"
            ]
          },
          "metadata": {},
          "execution_count": 7
        }
      ]
    },
    {
      "cell_type": "markdown",
      "source": [
        "The expression (lambda a, b: a + b)(1, 2) represents an Immediately Invoked Function Expression (IIFE) in Python. It creates an anonymous function that takes two arguments a and b and returns their sum. The function is then immediately invoked with the arguments 1 and 2."
      ],
      "metadata": {
        "id": "ZqGVmvOszYf7"
      }
    },
    {
      "cell_type": "code",
      "source": [
        "#Keyword arguement\n",
        "expression = lambda a, b, c : a * (b + c)\n",
        "#arguement can be in any order\n",
        "result = expression(3, c=10, b=5)\n",
        "print(result)"
      ],
      "metadata": {
        "id": "3Qe0dpcEzHQv",
        "outputId": "fb67aa4f-d7c3-4e5d-87f1-601d8ef85fc5",
        "colab": {
          "base_uri": "https://localhost:8080/"
        }
      },
      "execution_count": 25,
      "outputs": [
        {
          "output_type": "stream",
          "name": "stdout",
          "text": [
            "45\n"
          ]
        }
      ]
    },
    {
      "cell_type": "code",
      "source": [
        "#Default arguement\n",
        "expression = lambda a, b, c=8 : a * (b + c)\n",
        "#expression = lambda a, b=20, c : a * (b + c) #Will throw an error\n",
        "#non-default argument follows default argument\n",
        "result = expression(3, 10)\n",
        "print(result)"
      ],
      "metadata": {
        "id": "el5J2DnJ2Cjl",
        "outputId": "aec5af92-3ad5-4ddd-a998-3976c18e0616",
        "colab": {
          "base_uri": "https://localhost:8080/"
        }
      },
      "execution_count": 11,
      "outputs": [
        {
          "output_type": "stream",
          "name": "stdout",
          "text": [
            "54\n"
          ]
        }
      ]
    },
    {
      "cell_type": "markdown",
      "source": [
        "In this example, we have a list of tuples called data. We want to sort the list based on the second element of each tuple (i.e., the fruit name). We use a lambda function as the key parameter in the sorted() function, specifying that we want to sort based on x[1], which represents the second element of each tuple. The resulting sorted list is printed."
      ],
      "metadata": {
        "id": "awIzZhXP3Ou8"
      }
    },
    {
      "cell_type": "code",
      "source": [
        "data = [(2, 'Apple', 200), (3, 'Orange', 80), (1, 'Banana', 70)]\n",
        "sorted_data = sorted(data, key=lambda x: x[2])\n",
        "print(sorted_data)  # Output: [(2, 'Apple'), (1, 'Banana'), (3, 'Orange')]\n",
        "help(sorted)"
      ],
      "metadata": {
        "id": "10vFGZDE3B-I",
        "outputId": "2d945007-4181-48af-b248-86f75a2f2a6f",
        "colab": {
          "base_uri": "https://localhost:8080/"
        }
      },
      "execution_count": 27,
      "outputs": [
        {
          "output_type": "stream",
          "name": "stdout",
          "text": [
            "[(1, 'Banana', 70), (3, 'Orange', 80), (2, 'Apple', 200)]\n",
            "Help on built-in function sorted in module builtins:\n",
            "\n",
            "sorted(iterable, /, *, key=None, reverse=False)\n",
            "    Return a new list containing all items from the iterable in ascending order.\n",
            "    \n",
            "    A custom key function can be supplied to customize the sort order, and the\n",
            "    reverse flag can be set to request the result in descending order.\n",
            "\n"
          ]
        }
      ]
    },
    {
      "cell_type": "markdown",
      "source": [
        "##Higher Order Functions"
      ],
      "metadata": {
        "id": "J1m1t4Ki8xnx"
      }
    },
    {
      "cell_type": "markdown",
      "source": [
        "A higher-order function is a function that can take one or more functions as arguments and/or return a function as its result. In other words, it treats functions as first-class citizens, allowing them to be passed around and manipulated just like any other data type.\n",
        "\n",
        "Some common examples of higher-order functions in Python include map(), filter(), and reduce(). These functions can take other functions as arguments to perform operations on iterable objects.\n",
        "\n",
        "Here's an example to illustrate the concept of a higher-order function:"
      ],
      "metadata": {
        "id": "fwnfcnLw813F"
      }
    },
    {
      "cell_type": "code",
      "source": [
        "def double(x):\n",
        "    return x * 2\n",
        "\n",
        "def apply_operation(func, num):\n",
        "    return func(num)\n",
        "\n",
        "result = apply_operation(double, 5)\n",
        "print(result)  # Output: 10"
      ],
      "metadata": {
        "id": "Kd3rmSXQ9SSF",
        "outputId": "8bee51c6-9321-4901-ef65-dcd27439f72e",
        "colab": {
          "base_uri": "https://localhost:8080/"
        }
      },
      "execution_count": 14,
      "outputs": [
        {
          "output_type": "stream",
          "name": "stdout",
          "text": [
            "10\n"
          ]
        }
      ]
    },
    {
      "cell_type": "markdown",
      "source": [
        "In this example, `double` is a function that takes a number and returns its double. The `apply_operation` function is a higher-order function that takes a function *func* and a number *num*. It calls the provided function func with the given number num and returns the result.\n",
        "\n",
        "We can pass the `double` function as an argument to `apply_operation` and provide a number (5 in this case). The `apply_operation` function will then call the double function with the provided number, resulting in 10, which is printed as the output.\n",
        "\n",
        "**Higher-order functions** are powerful because they allow for code reuse, modularity, and the ability to abstract and manipulate behavior. They enable functional programming paradigms and can lead to more concise and expressive code."
      ],
      "metadata": {
        "id": "gXBY77qC9fhj"
      }
    },
    {
      "cell_type": "code",
      "source": [
        "func_ho = lambda func, x : x + func(x)\n",
        "func_ho(lambda x : x**2, 6)"
      ],
      "metadata": {
        "id": "CfCeffGv_LWO",
        "outputId": "ed81aa44-34d1-42fb-fbaf-ef48c068b21b",
        "colab": {
          "base_uri": "https://localhost:8080/"
        }
      },
      "execution_count": 15,
      "outputs": [
        {
          "output_type": "execute_result",
          "data": {
            "text/plain": [
              "42"
            ]
          },
          "metadata": {},
          "execution_count": 15
        }
      ]
    },
    {
      "cell_type": "code",
      "source": [
        "func_ho(double, 9)"
      ],
      "metadata": {
        "id": "OmUrMwin_0pG",
        "outputId": "166ad657-de61-4dee-d470-4443f7e97266",
        "colab": {
          "base_uri": "https://localhost:8080/"
        }
      },
      "execution_count": 16,
      "outputs": [
        {
          "output_type": "execute_result",
          "data": {
            "text/plain": [
              "27"
            ]
          },
          "metadata": {},
          "execution_count": 16
        }
      ]
    },
    {
      "cell_type": "markdown",
      "source": [
        "The `double` function doubles the number passed as arguement and `func_fo` add the number to the doubles number. So, output is three times the number."
      ],
      "metadata": {
        "id": "f9lvego7nMm-"
      }
    },
    {
      "cell_type": "markdown",
      "source": [
        "\n",
        "**map()** - Applies a function to each element of an iterable and returns a new iterable with the transformed values."
      ],
      "metadata": {
        "id": "cSCmibrf97YW"
      }
    },
    {
      "cell_type": "code",
      "source": [
        "numbers = [1, 2, 3, 4, 5]\n",
        "squared_numbers = map(lambda x: x**2, numbers)\n",
        "print(list(squared_numbers))  # Output: [1, 4, 9, 16, 25]"
      ],
      "metadata": {
        "id": "QsA1oY0L-Jlj",
        "outputId": "e8688814-bdec-4ab7-d94a-466c9162c754",
        "colab": {
          "base_uri": "https://localhost:8080/"
        }
      },
      "execution_count": 17,
      "outputs": [
        {
          "output_type": "stream",
          "name": "stdout",
          "text": [
            "[1, 4, 9, 16, 25]\n"
          ]
        }
      ]
    },
    {
      "cell_type": "markdown",
      "source": [
        "**filter()** - Filters elements from an iterable based on a condition defined by a lambda function and returns a new iterable with the filtered values."
      ],
      "metadata": {
        "id": "tk_FO0ex-N3u"
      }
    },
    {
      "cell_type": "code",
      "source": [
        "numbers = [1, 2, 3, 4, 5]\n",
        "even_numbers = filter(lambda x: x % 2 == 0, numbers)\n",
        "print(list(even_numbers))  # Output: [2, 4]"
      ],
      "metadata": {
        "id": "kmAq-_Eo-Vaj",
        "outputId": "842ca39f-3fd5-43b1-e4c6-26f8ea3351fa",
        "colab": {
          "base_uri": "https://localhost:8080/"
        }
      },
      "execution_count": 18,
      "outputs": [
        {
          "output_type": "stream",
          "name": "stdout",
          "text": [
            "[2, 4]\n"
          ]
        }
      ]
    },
    {
      "cell_type": "markdown",
      "source": [
        "**reduce()** - Applies a function to the elements of an iterable in a cumulative way and returns a single value."
      ],
      "metadata": {
        "id": "STlMzuxu-a_Y"
      }
    },
    {
      "cell_type": "code",
      "source": [
        "from functools import reduce\n",
        "numbers = [1, 2, 3, 4, 5]\n",
        "product = reduce(lambda x, y: x * y, numbers)\n",
        "print(product)  # Output: 120"
      ],
      "metadata": {
        "id": "5HHxQ4_l-gzH",
        "outputId": "1fe53c53-674d-4372-9dc4-d9c802ae709e",
        "colab": {
          "base_uri": "https://localhost:8080/"
        }
      },
      "execution_count": null,
      "outputs": [
        {
          "output_type": "stream",
          "name": "stdout",
          "text": [
            "120\n"
          ]
        }
      ]
    },
    {
      "cell_type": "markdown",
      "source": [
        "**sorted()** - Sorts the elements of an iterable based on a comparison defined by a lambda function and returns a new list."
      ],
      "metadata": {
        "id": "QzAmc50v-ntJ"
      }
    },
    {
      "cell_type": "code",
      "source": [
        "fruits = ['apple', 'banana', 'cherry', 'durian']\n",
        "sorted_fruits = sorted(fruits, key=lambda x: x[0])\n",
        "\n",
        "print(sorted_fruits)  # Output: ['apple', 'banana', 'cherry', 'durian']\n"
      ],
      "metadata": {
        "id": "s81utu46-qJi",
        "outputId": "244de253-a625-4b32-c002-165716872823",
        "colab": {
          "base_uri": "https://localhost:8080/"
        }
      },
      "execution_count": null,
      "outputs": [
        {
          "output_type": "stream",
          "name": "stdout",
          "text": [
            "['apple', 'banana', 'cherry', 'durian']\n"
          ]
        }
      ]
    },
    {
      "cell_type": "markdown",
      "source": [
        "##Unpacking Operator *"
      ],
      "metadata": {
        "id": "S-xEYPrE6-u9"
      }
    },
    {
      "cell_type": "markdown",
      "source": [
        "The * operator can unpack a list or tuple of arguments directly into a function call."
      ],
      "metadata": {
        "id": "dYMIQFps7KyV"
      }
    },
    {
      "cell_type": "code",
      "source": [
        "def add_three_numbers(a, b, c):\n",
        "    return a + b + c\n",
        "\n",
        "numbers = [1, 2, 3]\n",
        "result = add_three_numbers(*numbers)  # Equivalent to add_three_numbers(1, 2, 3)\n",
        "print(result)  # Output: 6"
      ],
      "metadata": {
        "colab": {
          "base_uri": "https://localhost:8080/"
        },
        "id": "ulllmfOE7MAB",
        "outputId": "b1575753-19c2-40b4-d2f3-43e157c3b734"
      },
      "execution_count": 10,
      "outputs": [
        {
          "output_type": "stream",
          "name": "stdout",
          "text": [
            "6\n"
          ]
        },
        {
          "output_type": "execute_result",
          "data": {
            "text/plain": [
              "list"
            ]
          },
          "metadata": {},
          "execution_count": 10
        }
      ]
    },
    {
      "cell_type": "markdown",
      "source": [
        "The * operator can be used to unpack lists or tuples when combining them."
      ],
      "metadata": {
        "id": "CL9sq3Pj7tt3"
      }
    },
    {
      "cell_type": "code",
      "source": [
        "list1 = [1, 2, 3]\n",
        "list2 = [4, 5, 6]\n",
        "combined_list = [list1, *list2]\n",
        "print(combined_list)  # Output: [1, 2, 3, 4, 5, 6]\n",
        "print(combined_list[0])  # Output: [1, 2, 3, 4, 5, 6]"
      ],
      "metadata": {
        "colab": {
          "base_uri": "https://localhost:8080/"
        },
        "id": "2c1nXXc67u9t",
        "outputId": "41155f50-a2b0-41a4-c857-b90e04eb488b"
      },
      "execution_count": null,
      "outputs": [
        {
          "output_type": "stream",
          "name": "stdout",
          "text": [
            "[[1, 2, 3], 4, 5, 6]\n",
            "[1, 2, 3]\n"
          ]
        }
      ]
    },
    {
      "cell_type": "markdown",
      "source": [
        "When you need to assign multiple variables from a list or tuple, * can capture remaining elements."
      ],
      "metadata": {
        "id": "o3k3eOWd8j0C"
      }
    },
    {
      "cell_type": "code",
      "source": [
        "values = [1, 2, 3, 4, 5]\n",
        "first, *middle, last = values\n",
        "print(first)   # Output: 1\n",
        "print(middle)  # Output: [2, 3, 4]\n",
        "print(last)    # Output: 5"
      ],
      "metadata": {
        "colab": {
          "base_uri": "https://localhost:8080/"
        },
        "id": "w7MdVHzu8lAR",
        "outputId": "2040b834-616f-4382-e383-f2f41003e43c"
      },
      "execution_count": null,
      "outputs": [
        {
          "output_type": "stream",
          "name": "stdout",
          "text": [
            "1\n",
            "[2, 3, 4]\n",
            "5\n"
          ]
        }
      ]
    },
    {
      "cell_type": "markdown",
      "source": [
        "You can use * to pass multiple items in a list or tuple as individual arguments to print()"
      ],
      "metadata": {
        "id": "ag4b5_y-8sWB"
      }
    },
    {
      "cell_type": "code",
      "source": [
        "data = [\"apple\", \"banana\", \"cherry\"]\n",
        "print(*data)\n",
        "# Output: apple banana cherry\n"
      ],
      "metadata": {
        "colab": {
          "base_uri": "https://localhost:8080/"
        },
        "id": "fKCxqrIN8tnq",
        "outputId": "a9bf6b88-dc13-4412-b7bd-57e83c6ab5ca"
      },
      "execution_count": null,
      "outputs": [
        {
          "output_type": "stream",
          "name": "stdout",
          "text": [
            "apple banana cherry\n"
          ]
        }
      ]
    },
    {
      "cell_type": "markdown",
      "source": [
        "When creating a list or other data structure, * allows the elements from range() or other iterables to unpack into a single collection."
      ],
      "metadata": {
        "id": "WHreP84I_9G5"
      }
    },
    {
      "cell_type": "code",
      "source": [
        "numbers = [*range(5)]\n",
        "print(numbers)  # Output: [0, 1, 2, 3, 4]\n"
      ],
      "metadata": {
        "id": "M2e7D5eM__I9",
        "outputId": "048c93eb-6ea3-455f-9510-d62c22ffe8bf",
        "colab": {
          "base_uri": "https://localhost:8080/"
        }
      },
      "execution_count": null,
      "outputs": [
        {
          "output_type": "stream",
          "name": "stdout",
          "text": [
            "[0, 1, 2, 3, 4]\n"
          ]
        }
      ]
    },
    {
      "cell_type": "markdown",
      "source": [
        "##*args"
      ],
      "metadata": {
        "id": "mVVA_OvTBr7H"
      }
    },
    {
      "cell_type": "markdown",
      "source": [
        "When defining a function, *args allows it to accept an arbitrary number of positional arguments. These arguments are collected into a tuple."
      ],
      "metadata": {
        "id": "T1J3uWymAUny"
      }
    },
    {
      "cell_type": "code",
      "source": [
        "def greet(*args):\n",
        "    for name in args:\n",
        "        print(\"Hello,\", name)\n",
        "\n",
        "greet(\"Alice\", \"Bob\", \"Charlie\")\n",
        "# Output:\n",
        "# Hello, Alice\n",
        "# Hello, Bob\n",
        "# Hello, Charlie"
      ],
      "metadata": {
        "colab": {
          "base_uri": "https://localhost:8080/"
        },
        "id": "qUnquvqzAV18",
        "outputId": "0fa6e2d9-a72e-4a37-b1fa-c0fe9bb57fee"
      },
      "execution_count": 2,
      "outputs": [
        {
          "output_type": "stream",
          "name": "stdout",
          "text": [
            "Hello, Alice\n",
            "Hello, Bob\n",
            "Hello, Charlie\n"
          ]
        }
      ]
    },
    {
      "cell_type": "markdown",
      "source": [
        "You can combine *args with regular parameters, allowing a function to accept required arguments and additional optional ones."
      ],
      "metadata": {
        "id": "hXPxbyEdAd1F"
      }
    },
    {
      "cell_type": "code",
      "source": [
        "def introduce(greeting, *args):\n",
        "    print(greeting)\n",
        "    for name in args:\n",
        "        print(name)\n",
        "\n",
        "introduce(\"Welcome everyone!\", \"Alice\", \"Bob\", \"Charlie\")\n",
        "# Output:\n",
        "# Welcome everyone!\n",
        "# Alice\n",
        "# Bob\n",
        "# Charlie\n"
      ],
      "metadata": {
        "id": "pGreqn1-AfAG",
        "outputId": "41ec722d-efdf-4bf5-83a6-767fb758bf3d",
        "colab": {
          "base_uri": "https://localhost:8080/"
        }
      },
      "execution_count": null,
      "outputs": [
        {
          "output_type": "stream",
          "name": "stdout",
          "text": [
            "Welcome everyone!\n",
            "Alice\n",
            "Bob\n",
            "Charlie\n"
          ]
        }
      ]
    },
    {
      "cell_type": "markdown",
      "source": [
        "*args can be combined with both regular and keyword arguments. However, *args must come after all positional arguments and before **kwargs if used together."
      ],
      "metadata": {
        "id": "KvbWEzGsAqiN"
      }
    },
    {
      "cell_type": "code",
      "source": [
        "def display_data(title, *args, **kwargs):\n",
        "    print(\"Title:\", title)\n",
        "    print(\"Items:\", args)\n",
        "    print(\"Details:\", kwargs)\n",
        "\n",
        "display_data(\"Summary\", \"Item1\", \"Item2\", key1=\"value1\", key2=\"value2\")\n",
        "# Output:\n",
        "# Title: Summary\n",
        "# Items: ('Item1', 'Item2')\n",
        "# Details: {'key1': 'value1', 'key2': 'value2'}\n"
      ],
      "metadata": {
        "id": "wCP_WgVnAsS4",
        "outputId": "a2269350-0e39-46a1-b832-235e75838c40",
        "colab": {
          "base_uri": "https://localhost:8080/"
        }
      },
      "execution_count": null,
      "outputs": [
        {
          "output_type": "stream",
          "name": "stdout",
          "text": [
            "Title: Summary\n",
            "Items: ('Item1', 'Item2')\n",
            "Details: {'key1': 'value1', 'key2': 'value2'}\n"
          ]
        }
      ]
    },
    {
      "cell_type": "markdown",
      "source": [
        "*args can unpack a tuple of arguments to pass them to another function, which is helpful in function delegation or chaining."
      ],
      "metadata": {
        "id": "YCjs6OMtA47d"
      }
    },
    {
      "cell_type": "code",
      "source": [
        "def calculate_sum(a, b, c):\n",
        "    return a + b + c\n",
        "\n",
        "values = (1, 2, 3)\n",
        "result = calculate_sum(*values)\n",
        "print(result)  # Output: 6\n"
      ],
      "metadata": {
        "id": "DE88eiafA6oU",
        "outputId": "35e619c7-8d98-4a22-c367-bdae16156cea",
        "colab": {
          "base_uri": "https://localhost:8080/"
        }
      },
      "execution_count": null,
      "outputs": [
        {
          "output_type": "stream",
          "name": "stdout",
          "text": [
            "6\n"
          ]
        }
      ]
    },
    {
      "cell_type": "markdown",
      "source": [
        "Starting in Python 3.8, you can use / and * in function definitions to specify that arguments before *args are positional-only. This means they cannot be passed as keywords."
      ],
      "metadata": {
        "id": "i3_YUq74Bexx"
      }
    },
    {
      "cell_type": "code",
      "source": [
        "def example(a, b, /, *args):\n",
        "    print(a, b, args)\n",
        "\n",
        "example(1, 2, 3, 4, 5)\n",
        "# Output: 1 2 (3, 4, 5)\n",
        "\n",
        "example(a=1, b=2, 3, 4, 5)  # This will raise an error"
      ],
      "metadata": {
        "id": "zAgiXt8mBgGu",
        "outputId": "f04679f4-2661-4e2a-8a5e-de4ad82699ae",
        "colab": {
          "base_uri": "https://localhost:8080/",
          "height": 106
        }
      },
      "execution_count": 1,
      "outputs": [
        {
          "output_type": "error",
          "ename": "SyntaxError",
          "evalue": "positional argument follows keyword argument (<ipython-input-1-80d834114efe>, line 7)",
          "traceback": [
            "\u001b[0;36m  File \u001b[0;32m\"<ipython-input-1-80d834114efe>\"\u001b[0;36m, line \u001b[0;32m7\u001b[0m\n\u001b[0;31m    example(a=1, b=2, 3, 4, 5)  # This will raise an error\u001b[0m\n\u001b[0m                             ^\u001b[0m\n\u001b[0;31mSyntaxError\u001b[0m\u001b[0;31m:\u001b[0m positional argument follows keyword argument\n"
          ]
        }
      ]
    },
    {
      "cell_type": "markdown",
      "source": [
        "##**kwargs"
      ],
      "metadata": {
        "id": "SnGkiwbtn7Bl"
      }
    },
    {
      "cell_type": "markdown",
      "source": [
        "In Python, **kwargs (short for \"keyword arguments\") allows a function to accept an arbitrary number of keyword arguments. Here are its main uses:"
      ],
      "metadata": {
        "id": "U5d0ZCG9n4Xr"
      }
    },
    {
      "cell_type": "markdown",
      "source": [
        "The double ** operator can unpack a dictionary into keyword arguments."
      ],
      "metadata": {
        "id": "JkhFpxMK7WJ3"
      }
    },
    {
      "cell_type": "code",
      "source": [
        "def introduce(name, age, city):\n",
        "    print(f\"My name is {name}, I am {age} years old and I live in {city}.\")\n",
        "\n",
        "info = {\"name\": \"Alice\", \"age\": 30, \"city\": \"New York\"}\n",
        "introduce(**info)\n",
        "# Output: My name is Alice, I am 30 years old and I live in New York."
      ],
      "metadata": {
        "colab": {
          "base_uri": "https://localhost:8080/"
        },
        "id": "D_puzlgg7atj",
        "outputId": "12bb5914-b9d8-409f-b214-90571ab478ff"
      },
      "execution_count": null,
      "outputs": [
        {
          "output_type": "stream",
          "name": "stdout",
          "text": [
            "My name is Alice, I am 30 years old and I live in New York.\n"
          ]
        }
      ]
    },
    {
      "cell_type": "markdown",
      "source": [
        "## ZIP"
      ],
      "metadata": {
        "id": "8dzDIgFV7pZo"
      }
    },
    {
      "cell_type": "code",
      "source": [
        "list1 = [1, 2, 3]\n",
        "list2 = [\"a\", \"b\", \"c\"]\n",
        "combined = zip(list1, list2)\n",
        "for item in combined:\n",
        "    print(item)\n",
        "# Output:\n",
        "# (1, 'a')\n",
        "# (2, 'b')\n",
        "# (3, 'c')"
      ],
      "metadata": {
        "colab": {
          "base_uri": "https://localhost:8080/"
        },
        "id": "vD2H0S1eU1-9",
        "outputId": "272dd4e8-1af5-4b42-9c52-ba49067c86cf"
      },
      "execution_count": null,
      "outputs": [
        {
          "output_type": "stream",
          "name": "stdout",
          "text": [
            "(1, 'a')\n",
            "(2, 'b')\n",
            "(3, 'c')\n"
          ]
        }
      ]
    },
    {
      "cell_type": "markdown",
      "source": [
        "##Iterable"
      ],
      "metadata": {
        "id": "8ahHF9muqoId"
      }
    },
    {
      "cell_type": "markdown",
      "source": [
        "An iterable in Python is simply any object that can be \"looped over\" or \"iterated through.\" In other words, it’s something you can use in a for loop to get each item one by one.\n",
        "\n",
        "Think of an iterable like a list of instructions you follow step by step. It can be any collection of items, like a list, string, or even a range of numbers, where you go through each item in sequence."
      ],
      "metadata": {
        "id": "gP-_7Fc7qmmJ"
      }
    },
    {
      "cell_type": "code",
      "source": [
        "my_list = [1, 2, 3, 4] #my_list is iterable\n",
        "\n",
        "for item in my_list:\n",
        "    print(item)"
      ],
      "metadata": {
        "id": "8RgSfax6qrFx",
        "outputId": "373ed90d-60d6-4a53-cd1f-7f514c119276",
        "colab": {
          "base_uri": "https://localhost:8080/"
        }
      },
      "execution_count": 31,
      "outputs": [
        {
          "output_type": "stream",
          "name": "stdout",
          "text": [
            "1\n",
            "2\n",
            "3\n",
            "4\n"
          ]
        }
      ]
    },
    {
      "cell_type": "code",
      "source": [
        "my_string = \"hello\" #my_string is iterable\n",
        "\n",
        "for char in my_string:\n",
        "    print(char)"
      ],
      "metadata": {
        "id": "zCZsPykyq0Ow",
        "outputId": "950e6c2d-a26d-4d2d-e4a8-b20454e89549",
        "colab": {
          "base_uri": "https://localhost:8080/"
        }
      },
      "execution_count": 30,
      "outputs": [
        {
          "output_type": "stream",
          "name": "stdout",
          "text": [
            "h\n",
            "e\n",
            "l\n",
            "l\n",
            "o\n"
          ]
        }
      ]
    },
    {
      "cell_type": "code",
      "source": [
        "for number in range(3):\n",
        "    print(number)"
      ],
      "metadata": {
        "id": "VyomBsocrFa9",
        "outputId": "6e60ad32-071b-46af-cff2-7a3c1ff2b6d4",
        "colab": {
          "base_uri": "https://localhost:8080/"
        }
      },
      "execution_count": 32,
      "outputs": [
        {
          "output_type": "stream",
          "name": "stdout",
          "text": [
            "0\n",
            "1\n",
            "2\n"
          ]
        }
      ]
    },
    {
      "cell_type": "code",
      "source": [
        "my_dict = {\"a\": 1, \"b\": 2}\n",
        "for key in my_dict:\n",
        "    print(key)"
      ],
      "metadata": {
        "id": "rOu_HE3vrKHe",
        "outputId": "09061c59-352d-4d92-c127-2d78d057abde",
        "colab": {
          "base_uri": "https://localhost:8080/"
        }
      },
      "execution_count": 34,
      "outputs": [
        {
          "output_type": "stream",
          "name": "stdout",
          "text": [
            "a\n",
            "b\n"
          ]
        }
      ]
    },
    {
      "cell_type": "markdown",
      "source": [
        "For an object to be considered iterable in Python, it must have one essential characteristic: it must implement the _ _ iter _ _ () method or the _ _ getitem _ _ () method. Here’s what this means in simple terms and with some advanced examples:"
      ],
      "metadata": {
        "id": "-A6FJ47XrAMv"
      }
    },
    {
      "cell_type": "code",
      "source": [
        "class Countdown:\n",
        "    def __init__(self, start):\n",
        "        self.current = start\n",
        "\n",
        "    def __iter__(self):\n",
        "        return self  # Returns itself as an iterator\n",
        "\n",
        "    def __next__(self):\n",
        "        if self.current <= 0:\n",
        "            raise StopIteration  # Stops iteration when we reach 0\n",
        "        self.current -= 1\n",
        "        return self.current + 1\n",
        "\n",
        "# Using the custom iterable\n",
        "countdown = Countdown(5)\n",
        "\n",
        "for number in countdown:\n",
        "    print(number)"
      ],
      "metadata": {
        "id": "YsTPQATgtfGU",
        "outputId": "998d448f-494a-44b3-99f0-e112167c019d",
        "colab": {
          "base_uri": "https://localhost:8080/"
        }
      },
      "execution_count": 35,
      "outputs": [
        {
          "output_type": "stream",
          "name": "stdout",
          "text": [
            "5\n",
            "4\n",
            "3\n",
            "2\n",
            "1\n"
          ]
        }
      ]
    },
    {
      "cell_type": "code",
      "source": [
        "numbers = [1, 2, 3, 4, 5]\n",
        "\n",
        "# Using map to create an iterable of doubled numbers\n",
        "doubled = map(lambda x: x * 2, numbers)\n",
        "\n",
        "# Using filter to create an iterable of even numbers\n",
        "evens = filter(lambda x: x % 2 == 0, numbers)\n",
        "\n",
        "print(list(doubled))  # Output: [2, 4, 6, 8, 10]\n",
        "print(list(evens))    # Output: [2, 4]\n",
        "\n",
        "doubled = list(map(lambda x: x * 2, numbers))\n",
        "print(doubled)  # Output: [2, 4, 6, 8, 10]"
      ],
      "metadata": {
        "id": "1TIqoyfSux0f",
        "outputId": "de08266f-42ac-4d43-cb74-5cd5c37792ae",
        "colab": {
          "base_uri": "https://localhost:8080/"
        }
      },
      "execution_count": 36,
      "outputs": [
        {
          "output_type": "stream",
          "name": "stdout",
          "text": [
            "[2, 4, 6, 8, 10]\n",
            "[2, 4]\n",
            "[2, 4, 6, 8, 10]\n"
          ]
        }
      ]
    },
    {
      "cell_type": "markdown",
      "source": [
        "Same we can get without map function"
      ],
      "metadata": {
        "id": "lJ3nmMnXu2IF"
      }
    },
    {
      "cell_type": "code",
      "source": [
        "numbers = [1, 2, 3, 4, 5]\n",
        "\n",
        "# Creating a list by using a lambda function for each element\n",
        "doubled = [lambda x: x * 2 for x in numbers]\n"
      ],
      "metadata": {
        "id": "VgQgtvudu-kk"
      },
      "execution_count": null,
      "outputs": []
    },
    {
      "cell_type": "code",
      "source": [
        "numbers = [1, 2, 3, 4, 5]\n",
        "doubled = [(lambda x: x * 2)(x) for x in numbers]\n",
        "print(doubled)  # Output: [2, 4, 6, 8, 10]\n"
      ],
      "metadata": {
        "id": "boBZlaS3vFRr"
      },
      "execution_count": null,
      "outputs": []
    },
    {
      "cell_type": "code",
      "source": [
        "\n"
      ],
      "metadata": {
        "id": "swlJjk4EvJgF"
      },
      "execution_count": null,
      "outputs": []
    },
    {
      "cell_type": "markdown",
      "source": [
        "## map and list(map)"
      ],
      "metadata": {
        "id": "6tb2DiH5vs4w"
      }
    },
    {
      "cell_type": "code",
      "source": [
        "numbers = [1, 2, 3, 4, 5]\n",
        "\n",
        "# Using map (lazy evaluation)\n",
        "doubled_map = map(lambda x: x * 2, numbers)\n",
        "print(doubled_map)         # Output: <map object at 0x...>\n",
        "print(list(doubled_map))   # Output: [2, 4, 6, 8, 10]\n",
        "\n",
        "# Once you consume the iterator, it’s exhausted:\n",
        "print(list(doubled_map))   # Output: [] (iterator is exhausted)\n",
        "\n",
        "# Using list(map(...)) (eager evaluation)\n",
        "doubled_list = list(map(lambda x: x * 2, numbers))\n",
        "print(doubled_list)        # Output: [2, 4, 6, 8, 10]\n",
        "print(doubled_list)        # Output: [2, 4, 6, 8, 10] (list is reusable)\n"
      ],
      "metadata": {
        "id": "jTj3n5ISvxI0",
        "outputId": "c39660c5-2335-4a9f-b3c8-68656c193c82",
        "colab": {
          "base_uri": "https://localhost:8080/"
        }
      },
      "execution_count": 37,
      "outputs": [
        {
          "output_type": "stream",
          "name": "stdout",
          "text": [
            "<map object at 0x7d3c99f0e320>\n",
            "[2, 4, 6, 8, 10]\n",
            "[]\n",
            "[2, 4, 6, 8, 10]\n",
            "[2, 4, 6, 8, 10]\n"
          ]
        }
      ]
    },
    {
      "cell_type": "code",
      "source": [
        "import math\n",
        "\n",
        "numbers = [4, 9, 16, 25]\n",
        "square_roots = map(math.sqrt, numbers)\n",
        "print(\"Sum of square roots:\", square_roots)"
      ],
      "metadata": {
        "id": "TAtlMR-IwKoR",
        "outputId": "ca10057e-24ec-4eb6-9487-ee56d97c9567",
        "colab": {
          "base_uri": "https://localhost:8080/"
        }
      },
      "execution_count": 55,
      "outputs": [
        {
          "output_type": "stream",
          "name": "stdout",
          "text": [
            "Sum of square roots: <map object at 0x7d3c99f0f490>\n"
          ]
        }
      ]
    },
    {
      "cell_type": "markdown",
      "source": [
        "Returns an objects"
      ],
      "metadata": {
        "id": "Sxq0-KfqyGXR"
      }
    },
    {
      "cell_type": "code",
      "source": [
        "#Run this twice\n",
        "for root in square_roots:\n",
        "    print(root)\n"
      ],
      "metadata": {
        "id": "RLZ9kOGxyLBr",
        "outputId": "2bb063b9-c738-4ce8-fb59-62543542f4b7",
        "colab": {
          "base_uri": "https://localhost:8080/"
        }
      },
      "execution_count": 56,
      "outputs": [
        {
          "output_type": "stream",
          "name": "stdout",
          "text": [
            "2.0\n",
            "3.0\n",
            "4.0\n",
            "5.0\n"
          ]
        }
      ]
    },
    {
      "cell_type": "code",
      "source": [
        "string_numbers = [\"1\", \"2\", \"3\", \"4\"]\n",
        "integers = map(int, string_numbers)\n",
        "\n",
        "# Use converted integers to calculate their product\n",
        "from functools import reduce\n",
        "product = reduce(lambda x, y: x * y, integers)\n",
        "print(\"Product of all integers:\", product)\n"
      ],
      "metadata": {
        "id": "mF5DcVS0wbes",
        "outputId": "4a96f95b-79e4-49bf-8e0b-fcf8c3540ff3",
        "colab": {
          "base_uri": "https://localhost:8080/"
        }
      },
      "execution_count": 41,
      "outputs": [
        {
          "output_type": "stream",
          "name": "stdout",
          "text": [
            "Product of all integers: 24\n"
          ]
        }
      ]
    },
    {
      "cell_type": "code",
      "source": [
        "prices = {'apple': 0.5, 'banana': 0.25, 'cherry': 0.75}\n",
        "updated_prices = dict(map(lambda item: (item[0], item[1] * 1.1), prices.items()))\n",
        "\n",
        "# Use updated_prices for further calculations\n",
        "print(\"Updated prices with 10% increase:\", updated_prices)\n"
      ],
      "metadata": {
        "id": "NGHodKOvwlar",
        "outputId": "927e8ed8-bdc5-43c7-8c84-395dab211351",
        "colab": {
          "base_uri": "https://localhost:8080/"
        }
      },
      "execution_count": 42,
      "outputs": [
        {
          "output_type": "stream",
          "name": "stdout",
          "text": [
            "Updated prices with 10% increase: {'apple': 0.55, 'banana': 0.275, 'cherry': 0.8250000000000001}\n"
          ]
        }
      ]
    },
    {
      "cell_type": "code",
      "source": [
        "list1 = [1, 2, 3]\n",
        "list2 = [4, 5, 6]\n",
        "products = map(lambda x, y: x * y, list1, list2)\n",
        "\n",
        "# Convert to list or directly iterate for further processing\n",
        "for result in products:\n",
        "    print(\"Product:\", result)\n"
      ],
      "metadata": {
        "id": "1L4yQkvhxm8F",
        "outputId": "86994276-700d-4520-d757-22621d8de439",
        "colab": {
          "base_uri": "https://localhost:8080/"
        }
      },
      "execution_count": 43,
      "outputs": [
        {
          "output_type": "stream",
          "name": "stdout",
          "text": [
            "Product: 4\n",
            "Product: 10\n",
            "Product: 18\n"
          ]
        }
      ]
    },
    {
      "cell_type": "markdown",
      "source": [
        "##List Comprehension"
      ],
      "metadata": {
        "id": "vzlVR6Gh8dDV"
      }
    },
    {
      "cell_type": "code",
      "source": [
        "numbers = [1, 2, 3, 4, 5, 6]\n",
        "results = [\"odd\" if x % 2 != 0 else \"even\" for x in numbers]\n",
        "print(results)\n"
      ],
      "metadata": {
        "id": "6ehQtYGN5wSZ",
        "outputId": "db0213af-4240-49c6-b284-97ac6c7bd8d9",
        "colab": {
          "base_uri": "https://localhost:8080/"
        }
      },
      "execution_count": null,
      "outputs": [
        {
          "output_type": "stream",
          "name": "stdout",
          "text": [
            "['odd', 'even', 'odd', 'even', 'odd', 'even']\n"
          ]
        }
      ]
    },
    {
      "cell_type": "markdown",
      "source": [
        "##OOP in Python for Deep Learning"
      ],
      "metadata": {
        "id": "e6H2vb6OBweQ"
      }
    },
    {
      "cell_type": "code",
      "source": [
        "class Layer:\n",
        "  def __inti__(self):\n",
        "    self.input=None\n",
        "\n",
        "  def forward(self, input):\n",
        "    self.input = input\n",
        "    print(\"This is the Forward Method of base class for Layer\")\n",
        "    return None"
      ],
      "metadata": {
        "id": "XwShb0AFB1_2"
      },
      "execution_count": null,
      "outputs": []
    },
    {
      "cell_type": "code",
      "source": [
        "import numpy as np"
      ],
      "metadata": {
        "id": "J1UMLQSaNcNz"
      },
      "execution_count": null,
      "outputs": []
    },
    {
      "cell_type": "code",
      "source": [
        "class Dense(Layer):\n",
        "  def __init__(self, input_size, output_size):\n",
        "    self.weights = np.random.randn(output_size, input_size)\n",
        "    self.bias = np.random.randn(output_size, 1)\n",
        "\n",
        "  def forward(self, input):\n",
        "    self.input = input\n",
        "    print(\"This is the Forward Method of Dense Layer\")\n",
        "    return np.dot(self.weights, self.input) + self.bias"
      ],
      "metadata": {
        "id": "ECgTbaGOK9ag"
      },
      "execution_count": null,
      "outputs": []
    },
    {
      "cell_type": "code",
      "source": [
        "L1=Layer()\n",
        "L1.forward(3)\n",
        "L2=Dense(3,2)\n",
        "L2.weights\n",
        "L2.forward(3)"
      ],
      "metadata": {
        "id": "Z9u4mrVXPUsA",
        "outputId": "f6de3911-f5bb-464e-e111-9faac0642351",
        "colab": {
          "base_uri": "https://localhost:8080/"
        }
      },
      "execution_count": null,
      "outputs": [
        {
          "output_type": "stream",
          "name": "stdout",
          "text": [
            "This is the Forward Method of base class for Layer\n",
            "This is the Forward Method of Dense Layer\n"
          ]
        },
        {
          "output_type": "execute_result",
          "data": {
            "text/plain": [
              "array([[ 1.70912621, -4.66404511,  0.44218798],\n",
              "       [-6.77092943,  3.75453537, -1.95353889]])"
            ]
          },
          "metadata": {},
          "execution_count": 61
        }
      ]
    },
    {
      "cell_type": "code",
      "source": [],
      "metadata": {
        "id": "zUEhALlbPYkO"
      },
      "execution_count": null,
      "outputs": []
    }
  ],
  "metadata": {
    "interpreter": {
      "hash": "aee8b7b246df8f9039afb4144a1f6fd8d2ca17a180786b69acc140d282b71a49"
    },
    "kernelspec": {
      "display_name": "Python 3.7.9 64-bit",
      "language": "python",
      "name": "python3"
    },
    "language_info": {
      "codemirror_mode": {
        "name": "ipython",
        "version": 3
      },
      "file_extension": ".py",
      "mimetype": "text/x-python",
      "name": "python",
      "nbconvert_exporter": "python",
      "pygments_lexer": "ipython3",
      "version": "3.7.9"
    },
    "orig_nbformat": 4,
    "colab": {
      "name": "03numpyFunctions.ipynb",
      "provenance": [],
      "toc_visible": true,
      "include_colab_link": true
    }
  },
  "nbformat": 4,
  "nbformat_minor": 0
}
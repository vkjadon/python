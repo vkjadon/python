{
  "cells": [
    {
      "cell_type": "markdown",
      "metadata": {
        "id": "view-in-github",
        "colab_type": "text"
      },
      "source": [
        "<a href=\"https://colab.research.google.com/github/vkjadon/python/blob/main/02python_special_functions.ipynb\" target=\"_parent\"><img src=\"https://colab.research.google.com/assets/colab-badge.svg\" alt=\"Open In Colab\"/></a>"
      ]
    },
    {
      "cell_type": "markdown",
      "source": [
        "#Python Helping Function\n"
      ],
      "metadata": {
        "id": "NwFUthnMmgvn"
      }
    },
    {
      "cell_type": "markdown",
      "source": [
        "##type() function"
      ],
      "metadata": {
        "id": "7TaTMs4792A1"
      }
    },
    {
      "cell_type": "code",
      "source": [
        "integer_num=10\n",
        "float_num = 40.5\n",
        "string_model = 'HC-SR04'"
      ],
      "metadata": {
        "id": "2RqNme9QnGXq"
      },
      "execution_count": null,
      "outputs": []
    },
    {
      "cell_type": "code",
      "source": [
        "print(f'The type of `integer_num` is {type(integer_num)}')\n",
        "print(f'The type of `float_num` is {type(float_num)}')\n",
        "print(f'The type of `sensor_model` is {type(string_model)}')"
      ],
      "metadata": {
        "id": "xErPsmMc8PnU"
      },
      "execution_count": null,
      "outputs": []
    },
    {
      "cell_type": "markdown",
      "source": [
        "Click [Formatted String](https://docs.python.org/3/tutorial/inputoutput.html) to go to documentation to explore more."
      ],
      "metadata": {
        "id": "nPofXZ4Mjuvd"
      }
    },
    {
      "cell_type": "code",
      "source": [
        "dict = {\"key-1\" : \"value-1\", \"key-2\" : \"value-2\"}\n",
        "print(type(dict))\n",
        "dir(dict)"
      ],
      "metadata": {
        "id": "b67Cowc18UPp"
      },
      "execution_count": null,
      "outputs": []
    },
    {
      "cell_type": "code",
      "source": [
        "string_name = 'ultrasonic Sensor'\n",
        "print(string_model + ' is a ' + string_name)\n",
        "print(f\"{string_model} is a {string_name}\")"
      ],
      "metadata": {
        "id": "uh8492qKnP1Z"
      },
      "execution_count": null,
      "outputs": []
    },
    {
      "cell_type": "code",
      "source": [
        "if(str.islower(string_name)):\n",
        "  print(f\"{string_name} is in lower case\")\n",
        "else:\n",
        "  print(string_name.upper())\n",
        "  print(string_name)"
      ],
      "metadata": {
        "id": "iScs2lYwnpyU"
      },
      "execution_count": null,
      "outputs": []
    },
    {
      "cell_type": "code",
      "source": [
        "print(string_name.capitalize())\n",
        "print(string_name.casefold())\n",
        "print(string_name.center(20))"
      ],
      "metadata": {
        "id": "J142VkCfnuS4"
      },
      "execution_count": null,
      "outputs": []
    },
    {
      "cell_type": "markdown",
      "source": [
        "Click [String Class : str](https://docs.python.org/3/library/stdtypes.html#str) to go to documentation to explore more."
      ],
      "metadata": {
        "id": "eMMlndSMkLXm"
      }
    },
    {
      "cell_type": "markdown",
      "source": [
        "##dir() and help() functions"
      ],
      "metadata": {
        "id": "LPcROZNX99R-"
      }
    },
    {
      "cell_type": "code",
      "source": [
        "x=40.8\n",
        "print(dir(x))"
      ],
      "metadata": {
        "id": "NdYqkTGtmsA-"
      },
      "execution_count": null,
      "outputs": []
    },
    {
      "cell_type": "code",
      "source": [
        "help(dir)"
      ],
      "metadata": {
        "id": "oQU3keQxVCia"
      },
      "execution_count": null,
      "outputs": []
    },
    {
      "cell_type": "code",
      "source": [
        "attributes_and_methods = [attr for attr in dir(x) if not attr.startswith('__')]\n",
        "print(attributes_and_methods)"
      ],
      "metadata": {
        "id": "3M7FpsFZmz8L"
      },
      "execution_count": null,
      "outputs": []
    },
    {
      "cell_type": "code",
      "source": [
        "string = 'abcd'\n",
        "# attributes_and_methods = [strg for strg in dir(string) if not strg.startswith('__')]\n",
        "print(help(str))"
      ],
      "metadata": {
        "id": "jOwKGev8iEK5"
      },
      "execution_count": null,
      "outputs": []
    },
    {
      "cell_type": "code",
      "source": [
        "obj = 10\n",
        "\n",
        "methods = [n for n in dir(obj) if not n.startswith('__') and callable(getattr(obj, n))]\n",
        "attributes = [n for n in dir(obj) if not n.startswith('__') and not callable(getattr(obj, n))]\n",
        "\n",
        "print(f\"Attributes :  {attributes}\")\n",
        "print(f\"Methods : {methods}\")"
      ],
      "metadata": {
        "id": "3juqgKcikeo7"
      },
      "execution_count": null,
      "outputs": []
    },
    {
      "cell_type": "code",
      "source": [
        "print(obj.real)\n",
        "print(obj.imag)\n",
        "print(obj.numerator)\n",
        "print(obj.denominator)"
      ],
      "metadata": {
        "id": "nCDSC2_6WkmT"
      },
      "execution_count": null,
      "outputs": []
    },
    {
      "cell_type": "code",
      "source": [
        "print(f\"bit_length : {obj.bit_length()}\")\n",
        "print(f\"bit_count : {obj.bit_count()}\")\n",
        "print(f\"as_integer_ratio : {obj.as_integer_ratio()}\")\n",
        "print(f\"conjugate :  {obj.conjugate()}\")"
      ],
      "metadata": {
        "id": "jgXoj0moluML"
      },
      "execution_count": null,
      "outputs": []
    },
    {
      "cell_type": "markdown",
      "source": [
        "Click [Integer/Float Class : int](https://docs.python.org/3/library/stdtypes.html#numeric-types-int-float-complex) to go to documentation to explore more."
      ],
      "metadata": {
        "id": "dXM3-gs8mlmP"
      }
    },
    {
      "cell_type": "code",
      "source": [
        "x=10.5\n",
        "help(x.is_integer)"
      ],
      "metadata": {
        "id": "5LUiDzCQm7FT"
      },
      "execution_count": null,
      "outputs": []
    },
    {
      "cell_type": "code",
      "source": [
        "help(callable)"
      ],
      "metadata": {
        "id": "KI0eeV11gOLW"
      },
      "execution_count": null,
      "outputs": []
    },
    {
      "cell_type": "code",
      "source": [
        "callable(x.is_integer)"
      ],
      "metadata": {
        "id": "zIz0pySigYAQ"
      },
      "execution_count": null,
      "outputs": []
    },
    {
      "cell_type": "code",
      "source": [
        "help(getattr)\n",
        "getattr(x, 'is_integer')\n",
        "# getattr(x, 'is_integer')()"
      ],
      "metadata": {
        "id": "_91zHFFOf6vX"
      },
      "execution_count": null,
      "outputs": []
    },
    {
      "cell_type": "markdown",
      "source": [
        "#Lambda Function\n"
      ],
      "metadata": {
        "id": "9iHHJ0PWw5jr"
      }
    },
    {
      "cell_type": "code",
      "source": [
        "def add(a,b):\n",
        "  return a+b"
      ],
      "metadata": {
        "id": "7D2b6b9Pw8H-"
      },
      "execution_count": null,
      "outputs": []
    },
    {
      "cell_type": "code",
      "source": [
        "sum=add(10,17)\n",
        "print(sum)"
      ],
      "metadata": {
        "id": "UtCt1SxoxD2A"
      },
      "execution_count": null,
      "outputs": []
    },
    {
      "cell_type": "code",
      "source": [
        "add = lambda a, b: a + b"
      ],
      "metadata": {
        "id": "vzlWoztckFRV"
      },
      "execution_count": null,
      "outputs": []
    },
    {
      "cell_type": "code",
      "source": [
        "result = add(3, 4)\n",
        "print(result)"
      ],
      "metadata": {
        "id": "F-gZ4Hg2xG9n"
      },
      "execution_count": null,
      "outputs": []
    },
    {
      "cell_type": "code",
      "source": [
        "square = lambda x: x ** 2\n",
        "result = square(5)\n",
        "print(result)"
      ],
      "metadata": {
        "id": "bQ2qRp4gz_qq"
      },
      "execution_count": null,
      "outputs": []
    },
    {
      "cell_type": "code",
      "source": [
        "(lambda a, b: a + b)(1,2)"
      ],
      "metadata": {
        "id": "4B1C9LXLy-dJ"
      },
      "execution_count": null,
      "outputs": []
    },
    {
      "cell_type": "markdown",
      "source": [
        "##Keyword Arguements"
      ],
      "metadata": {
        "id": "ZrhH1P3RVodj"
      }
    },
    {
      "cell_type": "code",
      "source": [
        "#Keyword arguement\n",
        "expression = lambda a, b, c : a * (b + c)\n",
        "#arguement can be in any order\n",
        "result = expression(3, c=10, b=5)\n",
        "# result = expression(c=10, 3, b=5) #Will throw an error\n",
        "print(result)"
      ],
      "metadata": {
        "id": "3Qe0dpcEzHQv"
      },
      "execution_count": null,
      "outputs": []
    },
    {
      "cell_type": "markdown",
      "source": [
        "##Default arguement\n"
      ],
      "metadata": {
        "id": "QB_xVHvtVvZ8"
      }
    },
    {
      "cell_type": "code",
      "source": [
        "#Default arguement\n",
        "expression = lambda a, b, c=8 : a * (b + c)\n",
        "# expression = lambda a, b=20, c : a * (b + c) #Will throw an error\n",
        "result = expression(3, 10)\n",
        "print(result)"
      ],
      "metadata": {
        "id": "el5J2DnJ2Cjl"
      },
      "execution_count": null,
      "outputs": []
    },
    {
      "cell_type": "markdown",
      "source": [
        "#Comprehensions in Python"
      ],
      "metadata": {
        "id": "5WmlbXrSSZJg"
      }
    },
    {
      "cell_type": "markdown",
      "source": [
        "##List Comprehension"
      ],
      "metadata": {
        "id": "vzlVR6Gh8dDV"
      }
    },
    {
      "cell_type": "code",
      "source": [
        "numbers = [1, 2, 3, 4, 5, 6]"
      ],
      "metadata": {
        "id": "7nVe2W3NVwFt"
      },
      "execution_count": null,
      "outputs": []
    },
    {
      "cell_type": "code",
      "source": [
        "print([x+2 for x in numbers])"
      ],
      "metadata": {
        "id": "1BiT5ZQ_VyJ4"
      },
      "execution_count": null,
      "outputs": []
    },
    {
      "cell_type": "code",
      "source": [
        "print([x+2 for x in numbers if x % 2 == 0])"
      ],
      "metadata": {
        "id": "TnqklnevWG3Z"
      },
      "execution_count": null,
      "outputs": []
    },
    {
      "cell_type": "code",
      "source": [
        "print([\"odd\" if x % 2 != 0 else \"even\" for x in numbers])"
      ],
      "metadata": {
        "id": "6ehQtYGN5wSZ"
      },
      "execution_count": null,
      "outputs": []
    },
    {
      "cell_type": "code",
      "source": [
        "print([\"even\" for x in numbers if x % 2 == 0])"
      ],
      "metadata": {
        "id": "aIRPOe2cWEHt"
      },
      "execution_count": null,
      "outputs": []
    },
    {
      "cell_type": "code",
      "source": [
        "import numpy as np\n",
        "\n",
        "image = np.random.randn(5, 28, 28, 3)\n",
        "\n",
        "# Flatten images into 1D vectors\n",
        "flattened = np.array([img.flatten() for img in image])\n",
        "print(\"Flattened shape:\", flattened.shape)\n",
        "print(\"Flattened shape of first image:\", flattened[0].shape)"
      ],
      "metadata": {
        "id": "HDFW3Ic3Ae7o"
      },
      "execution_count": null,
      "outputs": []
    },
    {
      "cell_type": "code",
      "source": [
        "help(image.flatten())"
      ],
      "metadata": {
        "id": "pPw7p3x7BRyS"
      },
      "execution_count": null,
      "outputs": []
    },
    {
      "cell_type": "markdown",
      "source": [
        "## Dict comprehension"
      ],
      "metadata": {
        "id": "srIhZWnY9Ugk"
      }
    },
    {
      "cell_type": "code",
      "source": [
        "print({x: x**2 for x in numbers})"
      ],
      "metadata": {
        "id": "7Jv6FsQTW51a"
      },
      "execution_count": null,
      "outputs": []
    },
    {
      "cell_type": "code",
      "source": [
        "print({x: \"even\" for x in numbers if x % 2 == 0})"
      ],
      "metadata": {
        "id": "3GnRc57OXHv7"
      },
      "execution_count": null,
      "outputs": []
    },
    {
      "cell_type": "code",
      "source": [
        "print({x: \"even\" if x % 2 == 0 else \"odd\" for x in numbers})"
      ],
      "metadata": {
        "id": "AgizlzEDXYW6"
      },
      "execution_count": null,
      "outputs": []
    },
    {
      "cell_type": "code",
      "source": [
        "metrics = [\"accuracy\", \"precision\", \"recall\", \"f1\"]\n",
        "values  = [0.91, 0.88, 0.84, 0.86]\n",
        "\n",
        "results = {m: v for m, v in zip(metrics, values)}\n",
        "print(\"Results Dict:\", results)"
      ],
      "metadata": {
        "id": "invIr2syE0u_"
      },
      "execution_count": null,
      "outputs": []
    },
    {
      "cell_type": "markdown",
      "source": [
        "## Set Comprehension"
      ],
      "metadata": {
        "id": "yKfXLfH7-LYA"
      }
    },
    {
      "cell_type": "code",
      "source": [
        "labels = [\"cat\", \"fish\", \"dog\", \"fish\", \"dog\", \"cat\"]\n",
        "unique_labels = set(labels)\n",
        "\n",
        "for cls in unique_labels:\n",
        "  print(f\"Training classifier for class: {cls}\")"
      ],
      "metadata": {
        "id": "LLjeuUAOxhFE"
      },
      "execution_count": null,
      "outputs": []
    },
    {
      "cell_type": "code",
      "source": [
        "for idx, cls in enumerate(unique_labels):\n",
        "# for idx, cls in enumerate(unique_labels, 2):\n",
        "  print(f\"Class {idx}: {cls}\")"
      ],
      "metadata": {
        "id": "t-PeAd4ky9i0"
      },
      "execution_count": null,
      "outputs": []
    },
    {
      "cell_type": "code",
      "source": [
        "help(enumerate)"
      ],
      "metadata": {
        "id": "xrB8uOpT9r5d"
      },
      "execution_count": null,
      "outputs": []
    },
    {
      "cell_type": "markdown",
      "source": [
        "## Generator expression"
      ],
      "metadata": {
        "id": "Iv9gsCBm_Cv5"
      }
    },
    {
      "cell_type": "code",
      "source": [
        "gen = (x*x for x in range(5))\n",
        "# gen = [x*x for x in range(5)]"
      ],
      "metadata": {
        "id": "gIDU2HSL_IYR"
      },
      "execution_count": null,
      "outputs": []
    },
    {
      "cell_type": "code",
      "source": [
        "print(gen)\n",
        "print(next(gen))"
      ],
      "metadata": {
        "id": "vCBjFhA2_JZ6"
      },
      "execution_count": null,
      "outputs": []
    },
    {
      "cell_type": "code",
      "source": [
        "for val in gen:\n",
        "  print(val)"
      ],
      "metadata": {
        "id": "2Ut-ahb7_0U2"
      },
      "execution_count": null,
      "outputs": []
    },
    {
      "cell_type": "code",
      "source": [
        "print(gen)"
      ],
      "metadata": {
        "id": "4DHpuH9QDymO"
      },
      "execution_count": null,
      "outputs": []
    },
    {
      "cell_type": "markdown",
      "source": [
        "#Higher Order Functions"
      ],
      "metadata": {
        "id": "J1m1t4Ki8xnx"
      }
    },
    {
      "cell_type": "code",
      "source": [
        "def double(x):\n",
        "  return x * 2\n",
        "\n",
        "def apply_operation(func, num):\n",
        "  return func(num)\n",
        "\n",
        "result = apply_operation(double, 5)\n",
        "print(result)"
      ],
      "metadata": {
        "id": "Kd3rmSXQ9SSF"
      },
      "execution_count": null,
      "outputs": []
    },
    {
      "cell_type": "code",
      "source": [
        "result = apply_operation(double, [6,9])\n",
        "print(result)"
      ],
      "metadata": {
        "id": "9zSyVAcZs2L8"
      },
      "execution_count": null,
      "outputs": []
    },
    {
      "cell_type": "code",
      "source": [
        "def double(x):\n",
        "  return [i * 2 for i in x]\n",
        "\n",
        "result = apply_operation(double, [6, 9])\n",
        "print(result)"
      ],
      "metadata": {
        "id": "s5m63dDOss-H"
      },
      "execution_count": null,
      "outputs": []
    },
    {
      "cell_type": "code",
      "source": [
        "ho_func = lambda func, x : x + func(x)\n",
        "ho_func(lambda x : x**2, 6)"
      ],
      "metadata": {
        "id": "CfCeffGv_LWO"
      },
      "execution_count": null,
      "outputs": []
    },
    {
      "cell_type": "code",
      "source": [
        "ho_func(double, 6)"
      ],
      "metadata": {
        "id": "OmUrMwin_0pG"
      },
      "execution_count": null,
      "outputs": []
    },
    {
      "cell_type": "markdown",
      "source": [
        "##`map()` Function"
      ],
      "metadata": {
        "id": "6Lycc0YqPfya"
      }
    },
    {
      "cell_type": "code",
      "source": [
        "numbers = [1, 2, 3, 4, 5]\n",
        "\n",
        "# Using map (lazy evaluation)\n",
        "doubled_map = map(lambda x: x * 2, numbers)\n",
        "print(doubled_map)\n",
        "print(next(doubled_map))\n",
        "print(list(doubled_map))\n",
        "print(list(doubled_map))"
      ],
      "metadata": {
        "id": "jTj3n5ISvxI0",
        "colab": {
          "base_uri": "https://localhost:8080/"
        },
        "outputId": "ca8d7423-aeeb-49db-8ba1-2203fe982993"
      },
      "execution_count": null,
      "outputs": [
        {
          "output_type": "stream",
          "name": "stdout",
          "text": [
            "<map object at 0x797757727130>\n",
            "2\n",
            "[4, 6, 8, 10]\n",
            "[]\n"
          ]
        }
      ]
    },
    {
      "cell_type": "markdown",
      "source": [
        "##`filter()` Function"
      ],
      "metadata": {
        "id": "snDtV3ygPpI-"
      }
    },
    {
      "cell_type": "code",
      "source": [
        "numbers = [1, 2, 3, 4, 5]\n",
        "even_numbers = filter(lambda x: x % 2 == 0, numbers)\n",
        "# even_numbers = map(lambda x: x % 2 == 0, numbers)\n",
        "print(list(even_numbers))"
      ],
      "metadata": {
        "id": "kmAq-_Eo-Vaj",
        "colab": {
          "base_uri": "https://localhost:8080/"
        },
        "outputId": "ba101f1a-3d81-4b90-b598-fbefc8bf3fcc"
      },
      "execution_count": null,
      "outputs": [
        {
          "output_type": "stream",
          "name": "stdout",
          "text": [
            "[2, 4]\n"
          ]
        }
      ]
    },
    {
      "cell_type": "code",
      "source": [
        "def filter_number(x):\n",
        "  # if x%2==0:\n",
        "  if x > 3:\n",
        "    return x"
      ],
      "metadata": {
        "id": "-i_AgSqVpKT8"
      },
      "execution_count": null,
      "outputs": []
    },
    {
      "cell_type": "code",
      "source": [
        "filtered_numbers = filter(filter_number, numbers)\n",
        "# filtered_numbers = map(filter_number, numbers)\n",
        "print(list(filtered_numbers))"
      ],
      "metadata": {
        "id": "0iv1-KZxpVcq",
        "colab": {
          "base_uri": "https://localhost:8080/"
        },
        "outputId": "42d43c7a-7f5d-4140-fc3c-0b0fe8bff814"
      },
      "execution_count": null,
      "outputs": [
        {
          "output_type": "stream",
          "name": "stdout",
          "text": [
            "[4, 5]\n"
          ]
        }
      ]
    },
    {
      "cell_type": "markdown",
      "source": [
        "##`reduce()` Function"
      ],
      "metadata": {
        "id": "5vxiaKuIPwuh"
      }
    },
    {
      "cell_type": "code",
      "source": [
        "from functools import reduce\n",
        "numbers = [1, 2, 3, 4]\n",
        "product = reduce(lambda x, y: x * y + 2, numbers)\n",
        "print(product)\n",
        "print(help(reduce))"
      ],
      "metadata": {
        "id": "5HHxQ4_l-gzH"
      },
      "execution_count": null,
      "outputs": []
    },
    {
      "cell_type": "markdown",
      "source": [
        "##`sorted()` Function"
      ],
      "metadata": {
        "id": "A9W56o8AZM0m"
      }
    },
    {
      "cell_type": "code",
      "source": [
        "fruits = ['apple', 'banana', 'cherry', 'durian']\n",
        "sorted_fruits = sorted(fruits, key=lambda x: x[0])\n",
        "\n",
        "print(sorted_fruits)"
      ],
      "metadata": {
        "id": "s81utu46-qJi"
      },
      "execution_count": null,
      "outputs": []
    },
    {
      "cell_type": "code",
      "source": [
        "data = [(2, 'Apple', 200), (3, 'Orange', 80), (1, 'Banana', 70)]\n",
        "sorted_data = sorted(data, key=lambda x: x[0])\n",
        "print(sorted_data)\n",
        "help(sorted)"
      ],
      "metadata": {
        "id": "10vFGZDE3B-I"
      },
      "execution_count": null,
      "outputs": []
    },
    {
      "cell_type": "markdown",
      "source": [
        "##Mixed Ues of HO Functions\n"
      ],
      "metadata": {
        "id": "b2W7S1a-d5n4"
      }
    },
    {
      "cell_type": "code",
      "source": [
        "numbers = [1, 2, 3, 4, 5]\n",
        "\n",
        "# Using map to create an iterable of doubled numbers\n",
        "doubled = map(lambda x: x * 2, numbers)\n",
        "\n",
        "# Using filter to create an iterable of even numbers\n",
        "evens = filter(lambda x: x % 2 == 0, numbers)\n",
        "\n",
        "print(list(doubled))\n",
        "print(list(evens))"
      ],
      "metadata": {
        "id": "1TIqoyfSux0f",
        "colab": {
          "base_uri": "https://localhost:8080/"
        },
        "outputId": "4bb086a3-4d0b-452d-83cb-8895f164ace1"
      },
      "execution_count": null,
      "outputs": [
        {
          "output_type": "stream",
          "name": "stdout",
          "text": [
            "[2, 4, 6, 8, 10]\n",
            "[2, 4]\n"
          ]
        }
      ]
    },
    {
      "cell_type": "code",
      "source": [
        "import math\n",
        "\n",
        "numbers = [4, 9, 16, 25]\n",
        "square_roots = map(math.sqrt, numbers)\n",
        "print(\"Sum of square roots:\", square_roots)"
      ],
      "metadata": {
        "id": "TAtlMR-IwKoR",
        "colab": {
          "base_uri": "https://localhost:8080/"
        },
        "outputId": "9828b778-2237-411b-b5a9-a11e9c030db6"
      },
      "execution_count": null,
      "outputs": [
        {
          "output_type": "stream",
          "name": "stdout",
          "text": [
            "Sum of square roots: <map object at 0x7977562fd3c0>\n"
          ]
        }
      ]
    },
    {
      "cell_type": "code",
      "source": [
        "#Run this twice\n",
        "for root in square_roots:\n",
        "    print(root)"
      ],
      "metadata": {
        "id": "RLZ9kOGxyLBr"
      },
      "execution_count": null,
      "outputs": []
    },
    {
      "cell_type": "code",
      "source": [
        "string_numbers = [\"1\", \"2\", \"3\", \"4\"]\n",
        "integers = map(int, string_numbers)\n",
        "\n",
        "# Use converted integers to calculate their product\n",
        "from functools import reduce\n",
        "product = reduce(lambda x, y: x * y, integers)\n",
        "print(\"Product of all integers:\", product)\n"
      ],
      "metadata": {
        "id": "mF5DcVS0wbes",
        "colab": {
          "base_uri": "https://localhost:8080/"
        },
        "outputId": "f52dc63a-9db0-4df4-b9aa-68a406690519"
      },
      "execution_count": null,
      "outputs": [
        {
          "output_type": "stream",
          "name": "stdout",
          "text": [
            "Product of all integers: 24\n"
          ]
        }
      ]
    },
    {
      "cell_type": "code",
      "source": [
        "prices = {'apple': 0.5, 'banana': 0.25, 'cherry': 0.75}\n",
        "updated_prices = dict(map(lambda item: (item[0], item[1] * 1.1), prices.items()))\n",
        "\n",
        "# Use updated_prices for further calculations\n",
        "print(\"Updated prices with 10% increase:\", updated_prices)"
      ],
      "metadata": {
        "id": "NGHodKOvwlar",
        "colab": {
          "base_uri": "https://localhost:8080/"
        },
        "outputId": "a0d6d875-8b3a-4bdb-d0d2-a0f5e6525e34"
      },
      "execution_count": null,
      "outputs": [
        {
          "output_type": "stream",
          "name": "stdout",
          "text": [
            "Updated prices with 10% increase: {'apple': 0.55, 'banana': 0.275, 'cherry': 0.8250000000000001}\n"
          ]
        }
      ]
    },
    {
      "cell_type": "code",
      "source": [
        "list1 = [9, 2, 3, 6, 3]\n",
        "list2 = [4, 5, 6, 8]\n",
        "products = map(lambda x, y: x * y, list1, list2)\n",
        "\n",
        "# Convert to list or directly iterate for further processing\n",
        "for result in products:\n",
        "    print(\"Product:\", result)\n"
      ],
      "metadata": {
        "id": "1L4yQkvhxm8F",
        "colab": {
          "base_uri": "https://localhost:8080/"
        },
        "outputId": "d721cea8-e432-41bc-8488-11ce59d7ec5e"
      },
      "execution_count": null,
      "outputs": [
        {
          "output_type": "stream",
          "name": "stdout",
          "text": [
            "Product: 36\n",
            "Product: 10\n",
            "Product: 18\n",
            "Product: 48\n"
          ]
        }
      ]
    },
    {
      "cell_type": "markdown",
      "source": [
        "# `*` Operator"
      ],
      "metadata": {
        "id": "onyEMiJFY0QP"
      }
    },
    {
      "cell_type": "markdown",
      "source": [
        "##Unpacking Operator *"
      ],
      "metadata": {
        "id": "S-xEYPrE6-u9"
      }
    },
    {
      "cell_type": "code",
      "source": [
        "def add_three_numbers(a, b, c):\n",
        "  return a + b + c\n",
        "\n",
        "numbers = [1, 2, 3]\n",
        "result = add_three_numbers(*numbers)\n",
        "print(result)"
      ],
      "metadata": {
        "id": "ulllmfOE7MAB"
      },
      "execution_count": null,
      "outputs": []
    },
    {
      "cell_type": "code",
      "source": [
        "list1 = [1, 2, 3]\n",
        "list2 = [4, 5, 6]\n",
        "combined_list = [list1, *list2]\n",
        "print(combined_list)\n",
        "print(combined_list[2])\n",
        "print(combined_list[0])"
      ],
      "metadata": {
        "id": "2c1nXXc67u9t"
      },
      "execution_count": null,
      "outputs": []
    },
    {
      "cell_type": "code",
      "source": [
        "values = [1, 2, 3, 4, 5, 6]\n",
        "first, *middle, last = values\n",
        "print(first)\n",
        "print(middle)\n",
        "print(last)"
      ],
      "metadata": {
        "id": "w7MdVHzu8lAR"
      },
      "execution_count": null,
      "outputs": []
    },
    {
      "cell_type": "code",
      "source": [
        "numbers = [range(5)]\n",
        "print(numbers)\n",
        "for i in numbers:\n",
        "  print(i)"
      ],
      "metadata": {
        "id": "M2e7D5eM__I9",
        "colab": {
          "base_uri": "https://localhost:8080/"
        },
        "outputId": "3ba0aacb-1874-48c4-8f4b-496d9e704d14"
      },
      "execution_count": null,
      "outputs": [
        {
          "output_type": "stream",
          "name": "stdout",
          "text": [
            "[range(0, 5)]\n",
            "range(0, 5)\n"
          ]
        }
      ]
    },
    {
      "cell_type": "code",
      "source": [
        "for i in numbers:\n",
        "    for j in i:\n",
        "        print(j)"
      ],
      "metadata": {
        "id": "tjAUdVFCUz8X",
        "outputId": "d532af6f-3a25-49b2-8ae1-daa91a66d35a",
        "colab": {
          "base_uri": "https://localhost:8080/"
        }
      },
      "execution_count": null,
      "outputs": [
        {
          "output_type": "stream",
          "name": "stdout",
          "text": [
            "0\n",
            "1\n",
            "2\n",
            "3\n",
            "4\n"
          ]
        }
      ]
    },
    {
      "cell_type": "markdown",
      "source": [
        "##*args"
      ],
      "metadata": {
        "id": "mVVA_OvTBr7H"
      }
    },
    {
      "cell_type": "code",
      "source": [
        "def greet(*args):\n",
        "  for name in args:\n",
        "    print(\"Hello,\", name)\n",
        "\n",
        "greet(\"Satish\", \"Ramesh\", \"Kuldeep\")"
      ],
      "metadata": {
        "id": "qUnquvqzAV18"
      },
      "execution_count": null,
      "outputs": []
    },
    {
      "cell_type": "code",
      "source": [
        "def introduce(greeting, *args):\n",
        "  print(greeting)\n",
        "  for name in args:\n",
        "    print(name)\n",
        "\n",
        "introduce(\"Welcome everyone!\", \"Satish\", \"Ramesh\", \"Kuldeep\")"
      ],
      "metadata": {
        "id": "pGreqn1-AfAG"
      },
      "execution_count": null,
      "outputs": []
    },
    {
      "cell_type": "markdown",
      "source": [
        "##**kwargs"
      ],
      "metadata": {
        "id": "SnGkiwbtn7Bl"
      }
    },
    {
      "cell_type": "code",
      "source": [
        "def display_data(title, *args, **kwargs):\n",
        "    print(\"Title:\", title)\n",
        "    print(\"Items:\", args)\n",
        "    print(\"Details:\", kwargs)\n",
        "\n",
        "display_data(\"Summary\", \"Item1\", \"Item2\", key1=\"value1\", key2=\"value2\")"
      ],
      "metadata": {
        "id": "wCP_WgVnAsS4"
      },
      "execution_count": null,
      "outputs": []
    },
    {
      "cell_type": "code",
      "source": [
        "def introduce(name, age, city):\n",
        "    print(f\"My name is {name}, I am {age} years old and I live in {city}.\")\n",
        "\n",
        "info = {\"name\": \"Kuldeep\", \"age\": 30, \"city\": \"New Delhi\"}\n",
        "introduce(**info)"
      ],
      "metadata": {
        "id": "D_puzlgg7atj",
        "colab": {
          "base_uri": "https://localhost:8080/"
        },
        "outputId": "4874e9f2-b33e-4c10-9b3f-236c53b94706"
      },
      "execution_count": null,
      "outputs": [
        {
          "output_type": "stream",
          "name": "stdout",
          "text": [
            "My name is Kuldeep, I am 30 years old and I live in New Delhi.\n"
          ]
        }
      ]
    },
    {
      "cell_type": "markdown",
      "source": [
        "#Iterable Helper"
      ],
      "metadata": {
        "id": "8ahHF9muqoId"
      }
    },
    {
      "cell_type": "code",
      "source": [
        "my_list = [1, 2, 3, 4]\n",
        "\n",
        "for item in my_list:\n",
        "  print(item)"
      ],
      "metadata": {
        "id": "8RgSfax6qrFx"
      },
      "execution_count": null,
      "outputs": []
    },
    {
      "cell_type": "code",
      "source": [
        "my_string = \"hello\"\n",
        "\n",
        "for char in my_string:\n",
        "  print(char)"
      ],
      "metadata": {
        "id": "zCZsPykyq0Ow"
      },
      "execution_count": null,
      "outputs": []
    },
    {
      "cell_type": "code",
      "source": [
        "for number in range(3):\n",
        "  print(number)"
      ],
      "metadata": {
        "id": "VyomBsocrFa9"
      },
      "execution_count": null,
      "outputs": []
    },
    {
      "cell_type": "code",
      "source": [
        "my_dict = {\"a\": 1, \"b\": 2}\n",
        "for key in my_dict:\n",
        "  print(key)"
      ],
      "metadata": {
        "id": "rOu_HE3vrKHe"
      },
      "execution_count": null,
      "outputs": []
    },
    {
      "cell_type": "markdown",
      "source": [
        "## ZIP: `zip` Function"
      ],
      "metadata": {
        "id": "8dzDIgFV7pZo"
      }
    },
    {
      "cell_type": "code",
      "source": [
        "list1 = [1, 2, 3, 5, 9, 78]\n",
        "list2 = [\"a\", \"b\", \"c\", \"d\"]\n",
        "combined = zip(list1, list2)\n",
        "print(combined)"
      ],
      "metadata": {
        "id": "vD2H0S1eU1-9",
        "colab": {
          "base_uri": "https://localhost:8080/"
        },
        "outputId": "a6b6aaff-fd0b-40dd-ad67-02b07cc94d5b"
      },
      "execution_count": null,
      "outputs": [
        {
          "output_type": "stream",
          "name": "stdout",
          "text": [
            "<zip object at 0x797756158880>\n"
          ]
        }
      ]
    },
    {
      "cell_type": "code",
      "source": [
        "for item in combined:\n",
        "  print(item)"
      ],
      "metadata": {
        "id": "LGeRxLH1gg7l"
      },
      "execution_count": null,
      "outputs": []
    },
    {
      "cell_type": "markdown",
      "source": [
        "##Enumerate : `enumerate` Function"
      ],
      "metadata": {
        "id": "7yJCc3gCYFCq"
      }
    },
    {
      "cell_type": "code",
      "source": [
        "losses = [0.9, 0.87,0.81, 0.76, 0.63, 0.69, 0.62, 0.58, 0.51, 0.45, 0.41, 0.38, 0.35]\n",
        "\n",
        "for step, loss in enumerate(losses, start=1):\n",
        "  if step % 4 == 0:\n",
        "    print(f\"Step {step}, Loss={loss}\")"
      ],
      "metadata": {
        "id": "4t21BRb6psi5"
      },
      "execution_count": null,
      "outputs": []
    },
    {
      "cell_type": "code",
      "source": [
        "predictions = [0, 1, 0, 1, 1]\n",
        "labels      = [0, 1, 1, 1, 0]\n",
        "\n",
        "for inedx, (pred, label) in enumerate(zip(predictions, labels)):\n",
        "  print(f\"Sample {inedx}: Pred={pred}, True={label}\")"
      ],
      "metadata": {
        "colab": {
          "base_uri": "https://localhost:8080/"
        },
        "id": "DU7i6G1lqLix",
        "outputId": "1fa66f09-e3ff-4640-e276-9a9da8a445a3"
      },
      "execution_count": null,
      "outputs": [
        {
          "output_type": "stream",
          "name": "stdout",
          "text": [
            "Sample 0: Pred=0, True=0\n",
            "Sample 1: Pred=1, True=1\n",
            "Sample 2: Pred=0, True=1\n",
            "Sample 3: Pred=1, True=1\n",
            "Sample 4: Pred=1, True=0\n"
          ]
        }
      ]
    },
    {
      "cell_type": "code",
      "source": [
        "for inedx, (pred, label) in enumerate(zip(predictions, labels)):\n",
        "  if pred != label: print(f\"Sample {inedx}: Pred={pred}, True={label}\")"
      ],
      "metadata": {
        "colab": {
          "base_uri": "https://localhost:8080/"
        },
        "id": "mpkTdQpXrGXo",
        "outputId": "cd50b42e-08a3-44cb-878d-fc6e38041a7b"
      },
      "execution_count": null,
      "outputs": [
        {
          "output_type": "stream",
          "name": "stdout",
          "text": [
            "Sample 2: Pred=0, True=1\n",
            "Sample 4: Pred=1, True=0\n"
          ]
        }
      ]
    },
    {
      "cell_type": "code",
      "source": [
        "[\"Sample \"+ str(i)+ \" Pred \" + str(p) + \" True \" + str(l) for i, (p, l) in enumerate(zip(predictions, labels)) if p != l]"
      ],
      "metadata": {
        "id": "Qmwsya-2ro0V"
      },
      "execution_count": null,
      "outputs": []
    },
    {
      "cell_type": "markdown",
      "source": [
        "##Range : `range` Function"
      ],
      "metadata": {
        "id": "efHbHHyYYKGb"
      }
    },
    {
      "cell_type": "code",
      "source": [
        "x = range(11, -5, -1)\n",
        "# x = range(11, -5, -2)\n",
        "for index in x:\n",
        "  print(f\"Index {index}, Value {x[index]}\")"
      ],
      "metadata": {
        "id": "5aCDP1_fz-LP",
        "colab": {
          "base_uri": "https://localhost:8080/"
        },
        "outputId": "c31eaeb9-7995-4d73-e976-14915e31a5a0"
      },
      "execution_count": null,
      "outputs": [
        {
          "output_type": "stream",
          "name": "stdout",
          "text": [
            "Index 11, Value 0\n",
            "Index 10, Value 1\n",
            "Index 9, Value 2\n",
            "Index 8, Value 3\n",
            "Index 7, Value 4\n",
            "Index 6, Value 5\n",
            "Index 5, Value 6\n",
            "Index 4, Value 7\n",
            "Index 3, Value 8\n",
            "Index 2, Value 9\n",
            "Index 1, Value 10\n",
            "Index 0, Value 11\n",
            "Index -1, Value -4\n",
            "Index -2, Value -3\n",
            "Index -3, Value -2\n",
            "Index -4, Value -1\n"
          ]
        }
      ]
    },
    {
      "cell_type": "code",
      "source": [
        "x = range(200, -100, -10)\n",
        "for index in range(len(x)):  # looping over indices\n",
        "  print(f\"Index {index}, Value {x[index]}\")"
      ],
      "metadata": {
        "id": "UYvSqwz2z3Jz"
      },
      "execution_count": null,
      "outputs": []
    },
    {
      "cell_type": "code",
      "source": [
        "epochs = 4\n",
        "for epoch in range(epochs):\n",
        "  print(f\"Training epoch {epoch+1}\")"
      ],
      "metadata": {
        "id": "QltKz3v1uSeY"
      },
      "execution_count": null,
      "outputs": []
    },
    {
      "cell_type": "code",
      "source": [
        "x=range(40, -10, -10)\n",
        "# z=list(x)\n",
        "print(type(x))\n",
        "y=iter(x)\n",
        "print(y)"
      ],
      "metadata": {
        "colab": {
          "base_uri": "https://localhost:8080/"
        },
        "id": "xl0vnuE4ucPY",
        "outputId": "7af5ebb7-b495-4129-d932-d0ac08084ae4"
      },
      "execution_count": null,
      "outputs": [
        {
          "output_type": "stream",
          "name": "stdout",
          "text": [
            "<class 'range'>\n",
            "<range_iterator object at 0x79775690e9d0>\n"
          ]
        }
      ]
    },
    {
      "cell_type": "code",
      "source": [
        "next(y)"
      ],
      "metadata": {
        "colab": {
          "base_uri": "https://localhost:8080/"
        },
        "id": "nPIbp7qGvh1P",
        "outputId": "cb134c9c-a0f8-43d4-f5cc-7b42439a5365"
      },
      "execution_count": null,
      "outputs": [
        {
          "output_type": "execute_result",
          "data": {
            "text/plain": [
              "20"
            ]
          },
          "metadata": {},
          "execution_count": 55
        }
      ]
    },
    {
      "cell_type": "markdown",
      "source": [
        "### `any()`, `all()`, `min() and max()` Functions"
      ],
      "metadata": {
        "id": "qPT0FNBleCZl"
      }
    },
    {
      "cell_type": "code",
      "source": [
        "nums = [0, 7, 5, 1]\n",
        "\n",
        "print(any(nums))\n",
        "print(all(nums))\n",
        "\n",
        "conditions = [x > 0 for x in nums]\n",
        "\n",
        "print(conditions)\n",
        "print(any(conditions))\n",
        "print(all(conditions))"
      ],
      "metadata": {
        "id": "Oag57EnseOAF",
        "outputId": "a9eaf115-f067-4450-a9a8-8a6add613165",
        "colab": {
          "base_uri": "https://localhost:8080/"
        }
      },
      "execution_count": null,
      "outputs": [
        {
          "output_type": "stream",
          "name": "stdout",
          "text": [
            "True\n",
            "False\n",
            "[False, True, True, True]\n",
            "True\n",
            "False\n"
          ]
        }
      ]
    },
    {
      "cell_type": "code",
      "source": [
        "words = [\"python\", \"java\", \"c\", \"javascript\"]\n",
        "\n",
        "print(min(words, key=len))\n",
        "print(max(words, key=len))"
      ],
      "metadata": {
        "id": "0pSRDHSAel7O",
        "outputId": "1dd94231-63bf-4e2b-c4ef-fb4fe53c5220",
        "colab": {
          "base_uri": "https://localhost:8080/"
        }
      },
      "execution_count": null,
      "outputs": [
        {
          "output_type": "stream",
          "name": "stdout",
          "text": [
            "c\n",
            "javascript\n"
          ]
        }
      ]
    },
    {
      "cell_type": "code",
      "source": [
        "students = [\n",
        "    {\"name\": \"S1\", \"score\": 82},\n",
        "    {\"name\": \"S2\", \"score\": 91},\n",
        "    {\"name\": \"S3\", \"score\": 78}\n",
        "]\n",
        "\n",
        "topper = max(students, key=lambda s: s[\"score\"])\n",
        "print(topper)\n"
      ],
      "metadata": {
        "id": "EOJGdMa5enoS",
        "outputId": "ec03ff02-385f-45cd-c836-d8640e1af901",
        "colab": {
          "base_uri": "https://localhost:8080/"
        }
      },
      "execution_count": null,
      "outputs": [
        {
          "output_type": "stream",
          "name": "stdout",
          "text": [
            "{'name': 'S2', 'score': 91}\n"
          ]
        }
      ]
    },
    {
      "cell_type": "markdown",
      "source": [
        "#OOP in Python for Deep Learning"
      ],
      "metadata": {
        "id": "e6H2vb6OBweQ"
      }
    },
    {
      "cell_type": "code",
      "source": [
        "class Layer:\n",
        "  def __inti__(self):\n",
        "    self.input=None\n",
        "\n",
        "  def forward(self, input):\n",
        "    self.input = input\n",
        "    print(\"This is the Forward Method of base class for Layer\")\n",
        "    return None"
      ],
      "metadata": {
        "id": "XwShb0AFB1_2"
      },
      "execution_count": null,
      "outputs": []
    },
    {
      "cell_type": "code",
      "source": [
        "import numpy as np"
      ],
      "metadata": {
        "id": "J1UMLQSaNcNz"
      },
      "execution_count": null,
      "outputs": []
    },
    {
      "cell_type": "code",
      "source": [
        "class Dense(Layer):\n",
        "  def __init__(self, input_size, output_size):\n",
        "    self.weights = np.random.randn(output_size, input_size)\n",
        "    self.bias = np.random.randn(output_size, 1)\n",
        "\n",
        "  def forward(self, input):\n",
        "    self.input = input\n",
        "    print(\"This is the Forward Method of Dense Layer\")\n",
        "    return np.dot(self.weights, self.input) + self.bias"
      ],
      "metadata": {
        "id": "ECgTbaGOK9ag"
      },
      "execution_count": null,
      "outputs": []
    },
    {
      "cell_type": "code",
      "source": [
        "L1=Layer()\n",
        "L1.forward(3)\n",
        "L2=Dense(3,2)\n",
        "L2.weights\n",
        "L2.forward(3)"
      ],
      "metadata": {
        "id": "Z9u4mrVXPUsA"
      },
      "execution_count": null,
      "outputs": []
    },
    {
      "cell_type": "code",
      "source": [],
      "metadata": {
        "id": "zUEhALlbPYkO"
      },
      "execution_count": null,
      "outputs": []
    }
  ],
  "metadata": {
    "interpreter": {
      "hash": "aee8b7b246df8f9039afb4144a1f6fd8d2ca17a180786b69acc140d282b71a49"
    },
    "kernelspec": {
      "display_name": "Python 3.7.9 64-bit",
      "language": "python",
      "name": "python3"
    },
    "language_info": {
      "codemirror_mode": {
        "name": "ipython",
        "version": 3
      },
      "file_extension": ".py",
      "mimetype": "text/x-python",
      "name": "python",
      "nbconvert_exporter": "python",
      "pygments_lexer": "ipython3",
      "version": "3.7.9"
    },
    "orig_nbformat": 4,
    "colab": {
      "name": "03numpyFunctions.ipynb",
      "provenance": [],
      "toc_visible": true,
      "include_colab_link": true
    }
  },
  "nbformat": 4,
  "nbformat_minor": 0
}

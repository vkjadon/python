{
  "cells": [
    {
      "cell_type": "markdown",
      "metadata": {
        "id": "view-in-github",
        "colab_type": "text"
      },
      "source": [
        "<a href=\"https://colab.research.google.com/github/vkjadon/python/blob/main/02python_special_functions.ipynb\" target=\"_parent\"><img src=\"https://colab.research.google.com/assets/colab-badge.svg\" alt=\"Open In Colab\"/></a>"
      ]
    },
    {
      "cell_type": "markdown",
      "source": [
        "##How to use Python Help"
      ],
      "metadata": {
        "id": "NwFUthnMmgvn"
      }
    },
    {
      "cell_type": "markdown",
      "source": [
        "The dir() function in Python is used to list the attributes and methods of an object, including special (or \"magic\") methods like __init__ and __str__. When you pass an object to dir(), it returns a list of all the attributes and methods associated with that object.\n",
        "\n",
        "In a simple assignment statement x=10, x is also object of a class. So, we can use dir() function of this as well as below:"
      ],
      "metadata": {
        "id": "bP7GAHeDmrJR"
      }
    },
    {
      "cell_type": "code",
      "source": [
        "x=40.8\n",
        "print(dir(x))"
      ],
      "metadata": {
        "id": "NdYqkTGtmsA-",
        "outputId": "1e3c424a-767e-4340-d5e7-a41df10dcd57",
        "colab": {
          "base_uri": "https://localhost:8080/"
        }
      },
      "execution_count": null,
      "outputs": [
        {
          "output_type": "stream",
          "name": "stdout",
          "text": [
            "['__abs__', '__add__', '__bool__', '__ceil__', '__class__', '__delattr__', '__dir__', '__divmod__', '__doc__', '__eq__', '__float__', '__floor__', '__floordiv__', '__format__', '__ge__', '__getattribute__', '__getformat__', '__getnewargs__', '__gt__', '__hash__', '__init__', '__init_subclass__', '__int__', '__le__', '__lt__', '__mod__', '__mul__', '__ne__', '__neg__', '__new__', '__pos__', '__pow__', '__radd__', '__rdivmod__', '__reduce__', '__reduce_ex__', '__repr__', '__rfloordiv__', '__rmod__', '__rmul__', '__round__', '__rpow__', '__rsub__', '__rtruediv__', '__setattr__', '__setformat__', '__sizeof__', '__str__', '__sub__', '__subclasshook__', '__truediv__', '__trunc__', 'as_integer_ratio', 'conjugate', 'fromhex', 'hex', 'imag', 'is_integer', 'real']\n"
          ]
        }
      ]
    },
    {
      "cell_type": "markdown",
      "source": [
        "It gives a long list of special methods starting with double underscore, attributes and the methods. For beginners, the methods and attribbutes are of initial interest. You can use lint comprehension to write logic which ignores the special methods."
      ],
      "metadata": {
        "id": "bW5WR-9amyFG"
      }
    },
    {
      "cell_type": "code",
      "source": [
        "attributes_and_methods = [attr for attr in dir(x) if not attr.startswith('__')]\n",
        "print(attributes_and_methods)"
      ],
      "metadata": {
        "id": "3M7FpsFZmz8L",
        "outputId": "a7cc7138-59ae-49cf-861f-cb7329777f4f",
        "colab": {
          "base_uri": "https://localhost:8080/"
        }
      },
      "execution_count": null,
      "outputs": [
        {
          "output_type": "stream",
          "name": "stdout",
          "text": [
            "['as_integer_ratio', 'conjugate', 'fromhex', 'hex', 'imag', 'is_integer', 'real']\n"
          ]
        }
      ]
    },
    {
      "cell_type": "code",
      "source": [
        "print(help(x.is_integer))"
      ],
      "metadata": {
        "id": "5LUiDzCQm7FT",
        "outputId": "6a7275b6-0c03-4855-ee06-0bcf22389141",
        "colab": {
          "base_uri": "https://localhost:8080/"
        }
      },
      "execution_count": null,
      "outputs": [
        {
          "output_type": "stream",
          "name": "stdout",
          "text": [
            "Help on built-in function is_integer:\n",
            "\n",
            "is_integer() method of builtins.float instance\n",
            "    Return True if the float is an integer.\n",
            "\n",
            "None\n"
          ]
        }
      ]
    },
    {
      "cell_type": "markdown",
      "source": [
        "To find the class of a variable like x in Python, you can use the type() function. This function returns the type of the object, which effectively tells you the class."
      ],
      "metadata": {
        "id": "H2Bl3S3mm_iM"
      }
    },
    {
      "cell_type": "code",
      "source": [
        "x=10\n",
        "print(type(x))"
      ],
      "metadata": {
        "id": "2RqNme9QnGXq",
        "outputId": "a1a8d05c-9389-42c1-f8ea-335ae833eebf",
        "colab": {
          "base_uri": "https://localhost:8080/"
        }
      },
      "execution_count": null,
      "outputs": [
        {
          "output_type": "stream",
          "name": "stdout",
          "text": [
            "<class 'int'>\n"
          ]
        }
      ]
    },
    {
      "cell_type": "markdown",
      "source": [
        "##Working with Strings"
      ],
      "metadata": {
        "id": "JbqXWxStnKLg"
      }
    },
    {
      "cell_type": "code",
      "source": [
        "sensor_model = 'HC-SR04'\n",
        "sensor_name = 'ultrasonic Sensor'\n",
        "print(sensor_model + ' is a ' + sensor_name)\n",
        "print(f\"{sensor_model} is a {sensor_name}\")"
      ],
      "metadata": {
        "id": "uh8492qKnP1Z",
        "outputId": "1dd5d173-19d6-43fc-a232-df39b8e3721f",
        "colab": {
          "base_uri": "https://localhost:8080/"
        }
      },
      "execution_count": null,
      "outputs": [
        {
          "output_type": "stream",
          "name": "stdout",
          "text": [
            "HC-SR04 is a ultrasonic Sensor\n",
            "HC-SR04 is a ultrasonic Sensor\n"
          ]
        }
      ]
    },
    {
      "cell_type": "markdown",
      "source": [
        "##Class, and associated methods"
      ],
      "metadata": {
        "id": "9mHK9T15nWbi"
      }
    },
    {
      "cell_type": "code",
      "source": [
        "print(type(sensor_model))\n",
        "attributes_and_methods = [attr for attr in dir(sensor_model) if not attr.startswith('__')]\n",
        "print(attributes_and_methods)"
      ],
      "metadata": {
        "id": "pvfzbDpBnVUP",
        "colab": {
          "base_uri": "https://localhost:8080/"
        },
        "outputId": "113f1763-30c9-4f25-84f1-f8fc6d11931e"
      },
      "execution_count": null,
      "outputs": [
        {
          "output_type": "stream",
          "name": "stdout",
          "text": [
            "<class 'str'>\n",
            "['capitalize', 'casefold', 'center', 'count', 'encode', 'endswith', 'expandtabs', 'find', 'format', 'format_map', 'index', 'isalnum', 'isalpha', 'isascii', 'isdecimal', 'isdigit', 'isidentifier', 'islower', 'isnumeric', 'isprintable', 'isspace', 'istitle', 'isupper', 'join', 'ljust', 'lower', 'lstrip', 'maketrans', 'partition', 'removeprefix', 'removesuffix', 'replace', 'rfind', 'rindex', 'rjust', 'rpartition', 'rsplit', 'rstrip', 'split', 'splitlines', 'startswith', 'strip', 'swapcase', 'title', 'translate', 'upper', 'zfill']\n"
          ]
        }
      ]
    },
    {
      "cell_type": "markdown",
      "source": [
        "There many methods and attributes in the string class 'str'. You can try some of them"
      ],
      "metadata": {
        "id": "eKelEmPXnoai"
      }
    },
    {
      "cell_type": "code",
      "source": [
        "if(sensor_name.islower()):\n",
        "  print(f\"{sensor_name} is in lower case\")\n",
        "else:\n",
        "  print(sensor_name.upper())\n",
        "  print(sensor_name)"
      ],
      "metadata": {
        "id": "iScs2lYwnpyU",
        "colab": {
          "base_uri": "https://localhost:8080/"
        },
        "outputId": "20b03853-c2cf-4721-c0cd-118a57700254"
      },
      "execution_count": null,
      "outputs": [
        {
          "output_type": "stream",
          "name": "stdout",
          "text": [
            "ULTRASONIC SENSOR\n",
            "ultrasonic Sensor\n"
          ]
        }
      ]
    },
    {
      "cell_type": "code",
      "source": [
        "print(sensor_name.capitalize())\n",
        "print(sensor_name.casefold())\n",
        "print(sensor_name.center())"
      ],
      "metadata": {
        "id": "J142VkCfnuS4",
        "colab": {
          "base_uri": "https://localhost:8080/"
        },
        "outputId": "240d9e19-0fab-4ea6-e54d-3865ddae0be6"
      },
      "execution_count": null,
      "outputs": [
        {
          "output_type": "stream",
          "name": "stdout",
          "text": [
            "Ultrasonic sensor\n",
            "ultrasonic sensor\n",
            " ultrasonic Sensor  \n"
          ]
        }
      ]
    },
    {
      "cell_type": "code",
      "source": [
        "print(help(sensor_name.center))"
      ],
      "metadata": {
        "id": "4apKiFMtnyL2",
        "outputId": "8b6b574e-ae26-4644-aa41-f460d5737987",
        "colab": {
          "base_uri": "https://localhost:8080/"
        }
      },
      "execution_count": null,
      "outputs": [
        {
          "output_type": "stream",
          "name": "stdout",
          "text": [
            "Help on built-in function center:\n",
            "\n",
            "center(width, fillchar=' ', /) method of builtins.str instance\n",
            "    Return a centered string of length width.\n",
            "    \n",
            "    Padding is done using the specified fill character (default is a space).\n",
            "\n",
            "None\n"
          ]
        }
      ]
    },
    {
      "cell_type": "markdown",
      "source": [
        "##Lambda Function\n"
      ],
      "metadata": {
        "id": "9iHHJ0PWw5jr"
      }
    },
    {
      "cell_type": "markdown",
      "source": [
        "A lambda function, also known as an anonymous function, is a small and concise function in Python that doesn't require a defined name. It is defined using the lambda keyword, followed by the function arguements, a colon (:), and the expression to be evaluated.\n",
        "\n",
        "Here are a few examples to illustrate the usage of lambda functions:"
      ],
      "metadata": {
        "id": "6LxHchaUx87y"
      }
    },
    {
      "cell_type": "code",
      "source": [
        "def add(a,b):\n",
        "  return a+b"
      ],
      "metadata": {
        "id": "7D2b6b9Pw8H-"
      },
      "execution_count": null,
      "outputs": []
    },
    {
      "cell_type": "code",
      "source": [
        "sum=add(10,17)\n",
        "print(sum)"
      ],
      "metadata": {
        "id": "UtCt1SxoxD2A",
        "outputId": "4e9d6734-9fc3-4413-a33d-f1cfb7ea5a6f",
        "colab": {
          "base_uri": "https://localhost:8080/"
        }
      },
      "execution_count": null,
      "outputs": [
        {
          "output_type": "stream",
          "name": "stdout",
          "text": [
            "27\n"
          ]
        }
      ]
    },
    {
      "cell_type": "code",
      "source": [
        "add = lambda a, b: a + b"
      ],
      "metadata": {
        "id": "vzlWoztckFRV"
      },
      "execution_count": null,
      "outputs": []
    },
    {
      "cell_type": "markdown",
      "source": [
        "This will create a function with name as 'add' with two parameters 'a' and 'b' and capable of performing the 'a+b' operation."
      ],
      "metadata": {
        "id": "lkAcmkaOkF9j"
      }
    },
    {
      "cell_type": "code",
      "source": [
        "result = add(3, 4)\n",
        "print(result)  # Output: 7"
      ],
      "metadata": {
        "id": "F-gZ4Hg2xG9n",
        "outputId": "64fcc96a-cc5c-43aa-bb9f-d18c0d71b5fc",
        "colab": {
          "base_uri": "https://localhost:8080/"
        }
      },
      "execution_count": null,
      "outputs": [
        {
          "output_type": "stream",
          "name": "stdout",
          "text": [
            "7\n"
          ]
        }
      ]
    },
    {
      "cell_type": "code",
      "source": [
        "square = lambda x: x ** 2\n",
        "result = square(5)\n",
        "print(result)  # Output: 25"
      ],
      "metadata": {
        "id": "bQ2qRp4gz_qq",
        "outputId": "dfde9abc-8b04-4c5f-b468-d083710ca0d8",
        "colab": {
          "base_uri": "https://localhost:8080/"
        }
      },
      "execution_count": null,
      "outputs": [
        {
          "output_type": "stream",
          "name": "stdout",
          "text": [
            "25\n"
          ]
        }
      ]
    },
    {
      "cell_type": "markdown",
      "source": [
        "It is not necessary to write the name of the function to pass the arguement. Rather, we can use right hand side with lambda keyword enclosed within parenthesis to act as function name and pass the arguements as below."
      ],
      "metadata": {
        "id": "hjAkpSnjkbVN"
      }
    },
    {
      "cell_type": "code",
      "source": [
        "(lambda a, b: a + b)(1,2)"
      ],
      "metadata": {
        "id": "4B1C9LXLy-dJ",
        "outputId": "7567261e-750b-485f-8025-c3bb2f81d62c",
        "colab": {
          "base_uri": "https://localhost:8080/"
        }
      },
      "execution_count": null,
      "outputs": [
        {
          "output_type": "execute_result",
          "data": {
            "text/plain": [
              "3"
            ]
          },
          "metadata": {},
          "execution_count": 7
        }
      ]
    },
    {
      "cell_type": "markdown",
      "source": [
        "The expression (lambda a, b: a + b)(1, 2) represents an Immediately Invoked Function Expression (IIFE) in Python. It creates an anonymous function that takes two arguments a and b and returns their sum. The function is then immediately invoked with the arguments 1 and 2."
      ],
      "metadata": {
        "id": "ZqGVmvOszYf7"
      }
    },
    {
      "cell_type": "code",
      "source": [
        "#Keyword arguement\n",
        "expression = lambda a, b, c : a * (b + c)\n",
        "#arguement can be in any order\n",
        "result = expression(3, c=10, b=5)\n",
        "print(result)"
      ],
      "metadata": {
        "id": "3Qe0dpcEzHQv",
        "outputId": "fb67aa4f-d7c3-4e5d-87f1-601d8ef85fc5",
        "colab": {
          "base_uri": "https://localhost:8080/"
        }
      },
      "execution_count": null,
      "outputs": [
        {
          "output_type": "stream",
          "name": "stdout",
          "text": [
            "45\n"
          ]
        }
      ]
    },
    {
      "cell_type": "code",
      "source": [
        "#Default arguement\n",
        "expression = lambda a, b, c=8 : a * (b + c)\n",
        "# expression = lambda a, b=20, c : a * (b + c) #Will throw an error\n",
        "result = expression(3, 10)\n",
        "print(result)"
      ],
      "metadata": {
        "id": "el5J2DnJ2Cjl",
        "outputId": "89ec5d5a-04ae-4774-8bb6-90d10abd1717",
        "colab": {
          "base_uri": "https://localhost:8080/"
        }
      },
      "execution_count": null,
      "outputs": [
        {
          "output_type": "stream",
          "name": "stdout",
          "text": [
            "54\n"
          ]
        }
      ]
    },
    {
      "cell_type": "markdown",
      "source": [
        "In this example, we have a list of tuples called data. We want to sort the list based on the second element of each tuple (i.e., the fruit name). We use a lambda function as the key parameter in the sorted() function, specifying that we want to sort based on x[1], which represents the second element of each tuple. The resulting sorted list is printed."
      ],
      "metadata": {
        "id": "awIzZhXP3Ou8"
      }
    },
    {
      "cell_type": "code",
      "source": [
        "data = [(2, 'Apple', 200), (3, 'Orange', 80), (1, 'Banana', 70)]\n",
        "sorted_data = sorted(data, key=lambda x: x[2])\n",
        "print(sorted_data)\n",
        "help(sorted)"
      ],
      "metadata": {
        "id": "10vFGZDE3B-I",
        "outputId": "fa0bba09-399a-4046-9917-5502fdc500ec",
        "colab": {
          "base_uri": "https://localhost:8080/"
        }
      },
      "execution_count": null,
      "outputs": [
        {
          "output_type": "stream",
          "name": "stdout",
          "text": [
            "[(1, 'Banana', 70), (3, 'Orange', 80), (2, 'Apple', 200)]\n",
            "Help on built-in function sorted in module builtins:\n",
            "\n",
            "sorted(iterable, /, *, key=None, reverse=False)\n",
            "    Return a new list containing all items from the iterable in ascending order.\n",
            "    \n",
            "    A custom key function can be supplied to customize the sort order, and the\n",
            "    reverse flag can be set to request the result in descending order.\n",
            "\n"
          ]
        }
      ]
    },
    {
      "cell_type": "markdown",
      "source": [
        "##Higher Order Functions"
      ],
      "metadata": {
        "id": "J1m1t4Ki8xnx"
      }
    },
    {
      "cell_type": "markdown",
      "source": [
        "A higher-order function is a function that can take one or more functions as arguments and/or return a function as its result. In other words, it treats functions as first-class citizens, allowing them to be passed around and manipulated just like any other data type.\n",
        "\n",
        "Some common examples of higher-order functions in Python include map(), filter(), and reduce(). These functions can take other functions as arguments to perform operations on iterable objects.\n",
        "\n",
        "Here's an example to illustrate the concept of a higher-order function:"
      ],
      "metadata": {
        "id": "fwnfcnLw813F"
      }
    },
    {
      "cell_type": "code",
      "source": [
        "def double(x):\n",
        "    return x * 2\n",
        "\n",
        "def apply_operation(func, num):\n",
        "    return func(num)\n",
        "\n",
        "result = apply_operation(double, 5)\n",
        "print(result)"
      ],
      "metadata": {
        "id": "Kd3rmSXQ9SSF",
        "outputId": "9a968e42-0445-4efb-9349-363f6096f80d",
        "colab": {
          "base_uri": "https://localhost:8080/"
        }
      },
      "execution_count": null,
      "outputs": [
        {
          "output_type": "stream",
          "name": "stdout",
          "text": [
            "10\n"
          ]
        }
      ]
    },
    {
      "cell_type": "markdown",
      "source": [
        "In this example, `double` is a function that takes a number and returns its double. The `apply_operation` function is a higher-order function that takes a function *func* and a number *num*. It calls the provided function func with the given number num and returns the result.\n",
        "\n",
        "We can pass the `double` function as an argument to `apply_operation` and provide a number (5 in this case). The `apply_operation` function will then call the double function with the provided number, resulting in 10, which is printed as the output.\n",
        "\n",
        "**Higher-order functions** are powerful because they allow for code reuse, modularity, and the ability to abstract and manipulate behavior. They enable functional programming paradigms and can lead to more concise and expressive code."
      ],
      "metadata": {
        "id": "gXBY77qC9fhj"
      }
    },
    {
      "cell_type": "code",
      "source": [
        "func_ho = lambda func, x : x + func(x)\n",
        "func_ho(lambda x : x**2, 6)"
      ],
      "metadata": {
        "id": "CfCeffGv_LWO",
        "outputId": "8a4cd5e5-fe98-4093-94a0-5097ab7904ce",
        "colab": {
          "base_uri": "https://localhost:8080/"
        }
      },
      "execution_count": null,
      "outputs": [
        {
          "output_type": "execute_result",
          "data": {
            "text/plain": [
              "42"
            ]
          },
          "metadata": {},
          "execution_count": 25
        }
      ]
    },
    {
      "cell_type": "markdown",
      "source": [
        "First line of creates a function with name `func_ho` which require two arguements; one function, `func` and another `x`. The second line call this function and pass one function defined by `lambda` function and one arguement."
      ],
      "metadata": {
        "id": "0qzQE0CtVWUe"
      }
    },
    {
      "cell_type": "code",
      "source": [
        "func_ho(double, 6)"
      ],
      "metadata": {
        "id": "OmUrMwin_0pG",
        "outputId": "feba9389-95dd-4b6e-a5e4-5631ed009a7b",
        "colab": {
          "base_uri": "https://localhost:8080/"
        }
      },
      "execution_count": null,
      "outputs": [
        {
          "output_type": "execute_result",
          "data": {
            "text/plain": [
              "18"
            ]
          },
          "metadata": {},
          "execution_count": 26
        }
      ]
    },
    {
      "cell_type": "markdown",
      "source": [
        "The `double` function doubles the number passed as arguement and `func_fo` add the number to the doubles number. So, output is three times the number."
      ],
      "metadata": {
        "id": "f9lvego7nMm-"
      }
    },
    {
      "cell_type": "markdown",
      "source": [
        "\n",
        "**map()** - Applies a function to each element of an iterable and returns a new iterable with the transformed values."
      ],
      "metadata": {
        "id": "cSCmibrf97YW"
      }
    },
    {
      "cell_type": "code",
      "source": [
        "numbers = [1, 2, 3, 4, 5]\n",
        "# squared_numbers = map(lambda x: x**2, numbers)\n",
        "squared_numbers = map(double, numbers)\n",
        "print(list(squared_numbers))"
      ],
      "metadata": {
        "id": "QsA1oY0L-Jlj",
        "outputId": "b127adad-5cf8-433d-ea54-d47279fe53ef",
        "colab": {
          "base_uri": "https://localhost:8080/"
        }
      },
      "execution_count": null,
      "outputs": [
        {
          "output_type": "stream",
          "name": "stdout",
          "text": [
            "[2, 4, 6, 8, 10]\n"
          ]
        }
      ]
    },
    {
      "cell_type": "markdown",
      "source": [
        "**filter()** - Filters elements from an iterable based on a condition defined by a function and returns a new iterable with the filtered values."
      ],
      "metadata": {
        "id": "tk_FO0ex-N3u"
      }
    },
    {
      "cell_type": "code",
      "source": [
        "numbers = [1, 2, 3, 4, 5]\n",
        "even_numbers = filter(lambda x: x % 2 == 0, numbers)\n",
        "print(list(even_numbers))"
      ],
      "metadata": {
        "id": "kmAq-_Eo-Vaj",
        "outputId": "88db13c1-b038-4e0b-c151-cb569c6d9f66",
        "colab": {
          "base_uri": "https://localhost:8080/"
        }
      },
      "execution_count": null,
      "outputs": [
        {
          "output_type": "stream",
          "name": "stdout",
          "text": [
            "[2, 4]\n"
          ]
        }
      ]
    },
    {
      "cell_type": "code",
      "source": [
        "def filter_number(x):\n",
        "  # if x%2==0:\n",
        "  if x > 3:\n",
        "    return x"
      ],
      "metadata": {
        "id": "-i_AgSqVpKT8"
      },
      "execution_count": null,
      "outputs": []
    },
    {
      "cell_type": "code",
      "source": [
        "filtered_numbers = filter(filter_number, numbers)\n",
        "# filtered_numbers = map(filter_number, numbers)\n",
        "print(list(filtered_numbers))"
      ],
      "metadata": {
        "id": "0iv1-KZxpVcq",
        "outputId": "16c14899-54c4-446a-b8f9-146aea779544",
        "colab": {
          "base_uri": "https://localhost:8080/"
        }
      },
      "execution_count": null,
      "outputs": [
        {
          "output_type": "stream",
          "name": "stdout",
          "text": [
            "[4, 5]\n"
          ]
        }
      ]
    },
    {
      "cell_type": "markdown",
      "source": [
        "**reduce()** - Applies a function to the elements of an iterable in a cumulative way and returns a single value."
      ],
      "metadata": {
        "id": "STlMzuxu-a_Y"
      }
    },
    {
      "cell_type": "code",
      "source": [
        "from functools import reduce\n",
        "numbers = [1, 2, 3, 4]\n",
        "product = reduce(lambda x, y: x*y + 2, numbers)\n",
        "print(product)\n",
        "print(help(reduce))"
      ],
      "metadata": {
        "id": "5HHxQ4_l-gzH",
        "outputId": "b4f2bf75-c746-46b3-92fa-8950c0446ebb",
        "colab": {
          "base_uri": "https://localhost:8080/"
        }
      },
      "execution_count": null,
      "outputs": [
        {
          "output_type": "stream",
          "name": "stdout",
          "text": [
            "58\n",
            "Help on built-in function reduce in module _functools:\n",
            "\n",
            "reduce(...)\n",
            "    reduce(function, iterable[, initial]) -> value\n",
            "    \n",
            "    Apply a function of two arguments cumulatively to the items of a sequence\n",
            "    or iterable, from left to right, so as to reduce the iterable to a single\n",
            "    value.  For example, reduce(lambda x, y: x+y, [1, 2, 3, 4, 5]) calculates\n",
            "    ((((1+2)+3)+4)+5).  If initial is present, it is placed before the items\n",
            "    of the iterable in the calculation, and serves as a default when the\n",
            "    iterable is empty.\n",
            "\n",
            "None\n"
          ]
        }
      ]
    },
    {
      "cell_type": "markdown",
      "source": [
        "**sorted()** - Sorts the elements of an iterable based on a comparison defined by a function and returns a new list."
      ],
      "metadata": {
        "id": "QzAmc50v-ntJ"
      }
    },
    {
      "cell_type": "code",
      "source": [
        "fruits = ['apple', 'banana', 'cherry', 'durian']\n",
        "sorted_fruits = sorted(fruits, key=lambda x: x[0])\n",
        "\n",
        "print(sorted_fruits)\n"
      ],
      "metadata": {
        "id": "s81utu46-qJi",
        "outputId": "b987d97f-3ed4-4c63-d2c7-4b9b91288ba5",
        "colab": {
          "base_uri": "https://localhost:8080/"
        }
      },
      "execution_count": null,
      "outputs": [
        {
          "output_type": "stream",
          "name": "stdout",
          "text": [
            "['apple', 'banana', 'cherry', 'durian']\n"
          ]
        }
      ]
    },
    {
      "cell_type": "markdown",
      "source": [
        "##Unpacking Operator *"
      ],
      "metadata": {
        "id": "S-xEYPrE6-u9"
      }
    },
    {
      "cell_type": "markdown",
      "source": [
        "The * operator can unpack a list or tuple of arguments directly into a function call."
      ],
      "metadata": {
        "id": "dYMIQFps7KyV"
      }
    },
    {
      "cell_type": "code",
      "source": [
        "def add_three_numbers(a, b, c):\n",
        "    return a + b + c\n",
        "\n",
        "numbers = [1, 2, 3]\n",
        "result = add_three_numbers(*numbers)\n",
        "print(result)"
      ],
      "metadata": {
        "colab": {
          "base_uri": "https://localhost:8080/"
        },
        "id": "ulllmfOE7MAB",
        "outputId": "d1ace707-bfda-44d0-c9a1-a70a6de3e2d3"
      },
      "execution_count": null,
      "outputs": [
        {
          "output_type": "stream",
          "name": "stdout",
          "text": [
            "6\n"
          ]
        }
      ]
    },
    {
      "cell_type": "markdown",
      "source": [
        "`add_three_numbers(*numbers)`  is Equivalent to add_three_numbers(1, 2, 3)"
      ],
      "metadata": {
        "id": "4OlSaqh0ojeu"
      }
    },
    {
      "cell_type": "markdown",
      "source": [
        "The * operator can be used to unpack lists or tuples when combining them."
      ],
      "metadata": {
        "id": "CL9sq3Pj7tt3"
      }
    },
    {
      "cell_type": "code",
      "source": [
        "list1 = [1, 2, 3]\n",
        "list2 = [4, 5, 6]\n",
        "combined_list = [list1, *list2]\n",
        "print(combined_list)\n",
        "print(combined_list[0])"
      ],
      "metadata": {
        "colab": {
          "base_uri": "https://localhost:8080/"
        },
        "id": "2c1nXXc67u9t",
        "outputId": "5199a0d6-b3c2-42d7-9da2-c037f6e5e3ff"
      },
      "execution_count": 42,
      "outputs": [
        {
          "output_type": "stream",
          "name": "stdout",
          "text": [
            "[[1, 2, 3], 4, 5, 6]\n",
            "[1, 2, 3]\n"
          ]
        }
      ]
    },
    {
      "cell_type": "markdown",
      "source": [
        "When you need to assign multiple variables from a list or tuple, * can capture remaining elements."
      ],
      "metadata": {
        "id": "o3k3eOWd8j0C"
      }
    },
    {
      "cell_type": "code",
      "source": [
        "values = [1, 2, 3, 4, 5, 6]\n",
        "first, *middle, last = values\n",
        "print(first)\n",
        "print(middle)\n",
        "print(last)"
      ],
      "metadata": {
        "colab": {
          "base_uri": "https://localhost:8080/"
        },
        "id": "w7MdVHzu8lAR",
        "outputId": "0188c2f1-f608-4879-df65-a7261b21f12b"
      },
      "execution_count": 46,
      "outputs": [
        {
          "output_type": "stream",
          "name": "stdout",
          "text": [
            "1\n",
            "[2, 3, 4, 5]\n",
            "6\n"
          ]
        }
      ]
    },
    {
      "cell_type": "markdown",
      "source": [
        "You can use * to pass multiple items in a list or tuple as individual arguments to print()"
      ],
      "metadata": {
        "id": "ag4b5_y-8sWB"
      }
    },
    {
      "cell_type": "code",
      "source": [
        "data = [\"apple\", \"banana\", \"cherry\"]\n",
        "print(*data)"
      ],
      "metadata": {
        "colab": {
          "base_uri": "https://localhost:8080/"
        },
        "id": "fKCxqrIN8tnq",
        "outputId": "7ed66c0d-e3c6-4ca2-e2ee-c6bab063a6f3"
      },
      "execution_count": 47,
      "outputs": [
        {
          "output_type": "stream",
          "name": "stdout",
          "text": [
            "apple banana cherry\n"
          ]
        }
      ]
    },
    {
      "cell_type": "markdown",
      "source": [
        "When creating a list or other data structure, * allows the elements from range() or other iterables to unpack into a single collection."
      ],
      "metadata": {
        "id": "WHreP84I_9G5"
      }
    },
    {
      "cell_type": "code",
      "source": [
        "numbers = [*range(5)]\n",
        "print(numbers)"
      ],
      "metadata": {
        "id": "M2e7D5eM__I9",
        "outputId": "048c93eb-6ea3-455f-9510-d62c22ffe8bf",
        "colab": {
          "base_uri": "https://localhost:8080/"
        }
      },
      "execution_count": null,
      "outputs": [
        {
          "output_type": "stream",
          "name": "stdout",
          "text": [
            "[0, 1, 2, 3, 4]\n"
          ]
        }
      ]
    },
    {
      "cell_type": "markdown",
      "source": [
        "##*args"
      ],
      "metadata": {
        "id": "mVVA_OvTBr7H"
      }
    },
    {
      "cell_type": "markdown",
      "source": [
        "When defining a function, *args allows it to accept an arbitrary number of positional arguments. These arguments are collected into a tuple."
      ],
      "metadata": {
        "id": "T1J3uWymAUny"
      }
    },
    {
      "cell_type": "code",
      "source": [
        "def greet(*args):\n",
        "  for name in args:\n",
        "    print(\"Hello,\", name)\n",
        "\n",
        "greet(\"Satish\", \"Ramesh\", \"Kuldeep\")"
      ],
      "metadata": {
        "colab": {
          "base_uri": "https://localhost:8080/"
        },
        "id": "qUnquvqzAV18",
        "outputId": "9d2f25dc-7324-4ee4-9ade-aa05a79652a3"
      },
      "execution_count": 52,
      "outputs": [
        {
          "output_type": "stream",
          "name": "stdout",
          "text": [
            "Hello, Satish\n",
            "Hello, Ramesh\n",
            "Hello, Kuldeep\n"
          ]
        }
      ]
    },
    {
      "cell_type": "markdown",
      "source": [
        "You can combine *args with regular parameters, allowing a function to accept required arguments and additional optional ones."
      ],
      "metadata": {
        "id": "hXPxbyEdAd1F"
      }
    },
    {
      "cell_type": "code",
      "source": [
        "def introduce(greeting, *args):\n",
        "  print(greeting)\n",
        "  for name in args:\n",
        "    print(name)\n",
        "\n",
        "introduce(\"Welcome everyone!\", \"Satish\", \"Ramesh\", \"Kuldeep\")"
      ],
      "metadata": {
        "id": "pGreqn1-AfAG",
        "outputId": "7b5a4509-4047-40bf-f356-6db2462fc1b0",
        "colab": {
          "base_uri": "https://localhost:8080/"
        }
      },
      "execution_count": 51,
      "outputs": [
        {
          "output_type": "stream",
          "name": "stdout",
          "text": [
            "Welcome everyone!\n",
            "Satish\n",
            "Ramesh\n",
            "Kuldeep\n"
          ]
        }
      ]
    },
    {
      "cell_type": "markdown",
      "source": [
        "##**kwargs"
      ],
      "metadata": {
        "id": "SnGkiwbtn7Bl"
      }
    },
    {
      "cell_type": "markdown",
      "source": [
        "In Python, **kwargs (short for \"keyword arguments\") allows a function to accept an arbitrary number of keyword arguments. Here are its main uses:"
      ],
      "metadata": {
        "id": "U5d0ZCG9n4Xr"
      }
    },
    {
      "cell_type": "markdown",
      "source": [
        "The ' * args' can be combined with both regular and keyword arguments. However, ' * args' must come after all positional arguments and before ' ** kwargs' if used together."
      ],
      "metadata": {
        "id": "KvbWEzGsAqiN"
      }
    },
    {
      "cell_type": "code",
      "source": [
        "def display_data(title, *args, **kwargs):\n",
        "    print(\"Title:\", title)\n",
        "    print(\"Items:\", args)\n",
        "    print(\"Details:\", kwargs)\n",
        "\n",
        "display_data(\"Summary\", \"Item1\", \"Item2\", key1=\"value1\", key2=\"value2\")\n"
      ],
      "metadata": {
        "id": "wCP_WgVnAsS4",
        "outputId": "b2ff4ffc-ac18-4dfd-96ee-685b43a8e2e5",
        "colab": {
          "base_uri": "https://localhost:8080/"
        }
      },
      "execution_count": 54,
      "outputs": [
        {
          "output_type": "stream",
          "name": "stdout",
          "text": [
            "Title: Summary\n",
            "Items: ('Item1', 'Item2')\n",
            "Details: {'key1': 'value1', 'key2': 'value2'}\n"
          ]
        }
      ]
    },
    {
      "cell_type": "markdown",
      "source": [
        "The double ** when used as operator can unpack a dictionary into keyword arguments."
      ],
      "metadata": {
        "id": "JkhFpxMK7WJ3"
      }
    },
    {
      "cell_type": "code",
      "source": [
        "def introduce(name, age, city):\n",
        "    print(f\"My name is {name}, I am {age} years old and I live in {city}.\")\n",
        "\n",
        "info = {\"name\": \"Kuldeep\", \"age\": 30, \"city\": \"New Delhi\"}\n",
        "introduce(**info)"
      ],
      "metadata": {
        "colab": {
          "base_uri": "https://localhost:8080/"
        },
        "id": "D_puzlgg7atj",
        "outputId": "30cfa9ec-2690-43c2-a225-91489b558977"
      },
      "execution_count": 56,
      "outputs": [
        {
          "output_type": "stream",
          "name": "stdout",
          "text": [
            "My name is Kuldeep, I am 30 years old and I live in New Delhi.\n"
          ]
        }
      ]
    },
    {
      "cell_type": "markdown",
      "source": [
        "## ZIP"
      ],
      "metadata": {
        "id": "8dzDIgFV7pZo"
      }
    },
    {
      "cell_type": "code",
      "source": [
        "list1 = [1, 2, 3]\n",
        "list2 = [\"a\", \"b\", \"c\"]\n",
        "combined = zip(list1, list2)\n",
        "for item in combined:\n",
        "    print(item)"
      ],
      "metadata": {
        "colab": {
          "base_uri": "https://localhost:8080/"
        },
        "id": "vD2H0S1eU1-9",
        "outputId": "88786ec1-b8a3-41a3-fea4-4e6273f9634e"
      },
      "execution_count": 62,
      "outputs": [
        {
          "output_type": "stream",
          "name": "stdout",
          "text": [
            "(1, 'a')\n",
            "(2, 'b')\n",
            "(3, 'c')\n"
          ]
        }
      ]
    },
    {
      "cell_type": "markdown",
      "source": [
        "##Iterable"
      ],
      "metadata": {
        "id": "8ahHF9muqoId"
      }
    },
    {
      "cell_type": "markdown",
      "source": [
        "An iterable in Python is simply any object that can be \"looped over\" or \"iterated through.\" In other words, it’s something you can use in a for loop to get each item one by one.\n",
        "\n",
        "Think of an iterable like a list of instructions you follow step by step. It can be any collection of items, like a list, string, or even a range of numbers, where you go through each item in sequence."
      ],
      "metadata": {
        "id": "gP-_7Fc7qmmJ"
      }
    },
    {
      "cell_type": "code",
      "source": [
        "my_list = [1, 2, 3, 4]\n",
        "\n",
        "for item in my_list:\n",
        "    print(item)"
      ],
      "metadata": {
        "colab": {
          "base_uri": "https://localhost:8080/"
        },
        "id": "8RgSfax6qrFx",
        "outputId": "373ed90d-60d6-4a53-cd1f-7f514c119276"
      },
      "execution_count": null,
      "outputs": [
        {
          "output_type": "stream",
          "name": "stdout",
          "text": [
            "1\n",
            "2\n",
            "3\n",
            "4\n"
          ]
        }
      ]
    },
    {
      "cell_type": "code",
      "source": [
        "my_string = \"hello\"\n",
        "\n",
        "for char in my_string:\n",
        "    print(char)"
      ],
      "metadata": {
        "colab": {
          "base_uri": "https://localhost:8080/"
        },
        "id": "zCZsPykyq0Ow",
        "outputId": "950e6c2d-a26d-4d2d-e4a8-b20454e89549"
      },
      "execution_count": null,
      "outputs": [
        {
          "output_type": "stream",
          "name": "stdout",
          "text": [
            "h\n",
            "e\n",
            "l\n",
            "l\n",
            "o\n"
          ]
        }
      ]
    },
    {
      "cell_type": "code",
      "source": [
        "for number in range(3):\n",
        "    print(number)"
      ],
      "metadata": {
        "colab": {
          "base_uri": "https://localhost:8080/"
        },
        "id": "VyomBsocrFa9",
        "outputId": "b4e48074-c1ac-400b-c1ca-9f382ee29e67"
      },
      "execution_count": 63,
      "outputs": [
        {
          "output_type": "stream",
          "name": "stdout",
          "text": [
            "0\n",
            "1\n",
            "2\n"
          ]
        }
      ]
    },
    {
      "cell_type": "code",
      "source": [
        "my_dict = {\"a\": 1, \"b\": 2}\n",
        "for key in my_dict:\n",
        "    print(key)"
      ],
      "metadata": {
        "colab": {
          "base_uri": "https://localhost:8080/"
        },
        "id": "rOu_HE3vrKHe",
        "outputId": "fd2133c4-1877-4a89-cfa3-b834d126c6ee"
      },
      "execution_count": 64,
      "outputs": [
        {
          "output_type": "stream",
          "name": "stdout",
          "text": [
            "a\n",
            "b\n"
          ]
        }
      ]
    },
    {
      "cell_type": "markdown",
      "source": [
        "For an object to be considered iterable in Python, it must have one essential characteristic: it must implement the _ _ iter _ _ () method or the _ _ getitem _ _ () method. Here’s what this means in simple terms and with some advanced examples:"
      ],
      "metadata": {
        "id": "-A6FJ47XrAMv"
      }
    },
    {
      "cell_type": "code",
      "source": [
        "class Countdown:\n",
        "    def __init__(self, start):\n",
        "        self.current = start\n",
        "\n",
        "    def __iter__(self):\n",
        "        return self  # Returns itself as an iterator\n",
        "\n",
        "    def __next__(self):\n",
        "        if self.current <= 0:\n",
        "            raise StopIteration  # Stops iteration when we reach 0\n",
        "        self.current -= 1\n",
        "        return self.current + 1\n",
        "\n",
        "# Using the custom iterable\n",
        "countdown = Countdown(5)\n",
        "\n",
        "for number in countdown:\n",
        "    print(number)"
      ],
      "metadata": {
        "colab": {
          "base_uri": "https://localhost:8080/"
        },
        "id": "YsTPQATgtfGU",
        "outputId": "998d448f-494a-44b3-99f0-e112167c019d"
      },
      "execution_count": null,
      "outputs": [
        {
          "output_type": "stream",
          "name": "stdout",
          "text": [
            "5\n",
            "4\n",
            "3\n",
            "2\n",
            "1\n"
          ]
        }
      ]
    },
    {
      "cell_type": "markdown",
      "source": [
        "We can use map and filter methods to create iterables as discussed above as well"
      ],
      "metadata": {
        "id": "NVy_OYCe5Sdd"
      }
    },
    {
      "cell_type": "code",
      "source": [
        "numbers = [1, 2, 3, 4, 5]\n",
        "\n",
        "# Using map to create an iterable of doubled numbers\n",
        "doubled = map(lambda x: x * 2, numbers)\n",
        "\n",
        "# Using filter to create an iterable of even numbers\n",
        "evens = filter(lambda x: x % 2 == 0, numbers)\n",
        "\n",
        "print(list(doubled))\n",
        "print(list(evens))\n",
        "\n",
        "# doubled = list(map(lambda x: x * 2, numbers))\n",
        "# print(doubled)  # Output: [2, 4, 6, 8, 10]"
      ],
      "metadata": {
        "colab": {
          "base_uri": "https://localhost:8080/"
        },
        "id": "1TIqoyfSux0f",
        "outputId": "7d7cf52b-953c-48b8-97ca-339cb8ecdd93"
      },
      "execution_count": 67,
      "outputs": [
        {
          "output_type": "stream",
          "name": "stdout",
          "text": [
            "[2, 4, 6, 8, 10]\n",
            "[2, 4]\n"
          ]
        }
      ]
    },
    {
      "cell_type": "markdown",
      "source": [
        "Same we can get without map function"
      ],
      "metadata": {
        "id": "lJ3nmMnXu2IF"
      }
    },
    {
      "cell_type": "code",
      "source": [
        "numbers = [1, 2, 3, 4, 5]\n",
        "\n",
        "# Creating a list by using a lambda function for each element\n",
        "doubled = [lambda x: x * 2 for x in numbers]\n"
      ],
      "metadata": {
        "id": "VgQgtvudu-kk"
      },
      "execution_count": null,
      "outputs": []
    },
    {
      "cell_type": "code",
      "source": [
        "numbers = [1, 2, 3, 4, 5]\n",
        "doubled = [(lambda x: x * 2)(x) for x in numbers]\n",
        "print(doubled)  # Output: [2, 4, 6, 8, 10]\n"
      ],
      "metadata": {
        "id": "boBZlaS3vFRr"
      },
      "execution_count": null,
      "outputs": []
    },
    {
      "cell_type": "markdown",
      "source": [
        "## map and list(map)"
      ],
      "metadata": {
        "id": "6tb2DiH5vs4w"
      }
    },
    {
      "cell_type": "markdown",
      "source": [
        "map produces a map object, which is an iterator and thus doesn't require generating a new list in memory. This is especially useful with large datasets as it avoids storing all intermediate results in memory at once."
      ],
      "metadata": {
        "id": "_4dcaUInlJIz"
      }
    },
    {
      "cell_type": "code",
      "source": [
        "numbers = [1, 2, 3, 4, 5]\n",
        "\n",
        "# Using map (lazy evaluation)\n",
        "doubled_map = map(lambda x: x * 2, numbers)\n",
        "print(doubled_map)         # Output: <map object at 0x...>\n",
        "print(list(doubled_map))   # Output: [2, 4, 6, 8, 10]\n",
        "\n",
        "# Once you consume the iterator, it’s exhausted:\n",
        "print(list(doubled_map))   # Output: [] (iterator is exhausted)\n",
        "\n",
        "# Using list(map(...)) (eager evaluation)\n",
        "doubled_list = list(map(lambda x: x * 2, numbers))\n",
        "print(doubled_list)        # Output: [2, 4, 6, 8, 10]\n",
        "print(doubled_list)        # Output: [2, 4, 6, 8, 10] (list is reusable)\n"
      ],
      "metadata": {
        "colab": {
          "base_uri": "https://localhost:8080/"
        },
        "id": "jTj3n5ISvxI0",
        "outputId": "c39660c5-2335-4a9f-b3c8-68656c193c82"
      },
      "execution_count": null,
      "outputs": [
        {
          "output_type": "stream",
          "name": "stdout",
          "text": [
            "<map object at 0x7d3c99f0e320>\n",
            "[2, 4, 6, 8, 10]\n",
            "[]\n",
            "[2, 4, 6, 8, 10]\n",
            "[2, 4, 6, 8, 10]\n"
          ]
        }
      ]
    },
    {
      "cell_type": "code",
      "source": [
        "import math\n",
        "\n",
        "numbers = [4, 9, 16, 25]\n",
        "square_roots = map(math.sqrt, numbers)\n",
        "print(\"Sum of square roots:\", square_roots)"
      ],
      "metadata": {
        "colab": {
          "base_uri": "https://localhost:8080/"
        },
        "id": "TAtlMR-IwKoR",
        "outputId": "ca10057e-24ec-4eb6-9487-ee56d97c9567"
      },
      "execution_count": null,
      "outputs": [
        {
          "output_type": "stream",
          "name": "stdout",
          "text": [
            "Sum of square roots: <map object at 0x7d3c99f0f490>\n"
          ]
        }
      ]
    },
    {
      "cell_type": "markdown",
      "source": [
        "Returns an objects"
      ],
      "metadata": {
        "id": "Sxq0-KfqyGXR"
      }
    },
    {
      "cell_type": "code",
      "source": [
        "#Run this twice\n",
        "for root in square_roots:\n",
        "    print(root)\n"
      ],
      "metadata": {
        "colab": {
          "base_uri": "https://localhost:8080/"
        },
        "id": "RLZ9kOGxyLBr",
        "outputId": "2bb063b9-c738-4ce8-fb59-62543542f4b7"
      },
      "execution_count": null,
      "outputs": [
        {
          "output_type": "stream",
          "name": "stdout",
          "text": [
            "2.0\n",
            "3.0\n",
            "4.0\n",
            "5.0\n"
          ]
        }
      ]
    },
    {
      "cell_type": "code",
      "source": [
        "string_numbers = [\"1\", \"2\", \"3\", \"4\"]\n",
        "integers = map(int, string_numbers)\n",
        "\n",
        "# Use converted integers to calculate their product\n",
        "from functools import reduce\n",
        "product = reduce(lambda x, y: x * y, integers)\n",
        "print(\"Product of all integers:\", product)\n"
      ],
      "metadata": {
        "colab": {
          "base_uri": "https://localhost:8080/"
        },
        "id": "mF5DcVS0wbes",
        "outputId": "4a96f95b-79e4-49bf-8e0b-fcf8c3540ff3"
      },
      "execution_count": null,
      "outputs": [
        {
          "output_type": "stream",
          "name": "stdout",
          "text": [
            "Product of all integers: 24\n"
          ]
        }
      ]
    },
    {
      "cell_type": "code",
      "source": [
        "prices = {'apple': 0.5, 'banana': 0.25, 'cherry': 0.75}\n",
        "updated_prices = dict(map(lambda item: (item[0], item[1] * 1.1), prices.items()))\n",
        "\n",
        "# Use updated_prices for further calculations\n",
        "print(\"Updated prices with 10% increase:\", updated_prices)\n"
      ],
      "metadata": {
        "colab": {
          "base_uri": "https://localhost:8080/"
        },
        "id": "NGHodKOvwlar",
        "outputId": "927e8ed8-bdc5-43c7-8c84-395dab211351"
      },
      "execution_count": null,
      "outputs": [
        {
          "output_type": "stream",
          "name": "stdout",
          "text": [
            "Updated prices with 10% increase: {'apple': 0.55, 'banana': 0.275, 'cherry': 0.8250000000000001}\n"
          ]
        }
      ]
    },
    {
      "cell_type": "markdown",
      "source": [
        "map can apply a function across multiple iterables in parallel, which is something traditional for loops don’t handle as concisely.\n",
        "For example, combining elements from two lists element-wise:"
      ],
      "metadata": {
        "id": "_11TfSWIltGA"
      }
    },
    {
      "cell_type": "code",
      "source": [
        "list1 = [1, 2, 3]\n",
        "list2 = [4, 5, 6]\n",
        "products = map(lambda x, y: x * y, list1, list2)\n",
        "\n",
        "# Convert to list or directly iterate for further processing\n",
        "for result in products:\n",
        "    print(\"Product:\", result)\n"
      ],
      "metadata": {
        "colab": {
          "base_uri": "https://localhost:8080/"
        },
        "id": "1L4yQkvhxm8F",
        "outputId": "86994276-700d-4520-d757-22621d8de439"
      },
      "execution_count": null,
      "outputs": [
        {
          "output_type": "stream",
          "name": "stdout",
          "text": [
            "Product: 4\n",
            "Product: 10\n",
            "Product: 18\n"
          ]
        }
      ]
    },
    {
      "cell_type": "markdown",
      "source": [
        "##List Comprehension"
      ],
      "metadata": {
        "id": "vzlVR6Gh8dDV"
      }
    },
    {
      "cell_type": "code",
      "source": [
        "numbers = [1, 2, 3, 4, 5, 6]\n",
        "results = [\"odd\" if x % 2 != 0 else \"even\" for x in numbers]\n",
        "print(results)\n"
      ],
      "metadata": {
        "id": "6ehQtYGN5wSZ",
        "outputId": "db0213af-4240-49c6-b284-97ac6c7bd8d9",
        "colab": {
          "base_uri": "https://localhost:8080/"
        }
      },
      "execution_count": null,
      "outputs": [
        {
          "output_type": "stream",
          "name": "stdout",
          "text": [
            "['odd', 'even', 'odd', 'even', 'odd', 'even']\n"
          ]
        }
      ]
    },
    {
      "cell_type": "markdown",
      "source": [
        "##OOP in Python for Deep Learning"
      ],
      "metadata": {
        "id": "e6H2vb6OBweQ"
      }
    },
    {
      "cell_type": "code",
      "source": [
        "class Layer:\n",
        "  def __inti__(self):\n",
        "    self.input=None\n",
        "\n",
        "  def forward(self, input):\n",
        "    self.input = input\n",
        "    print(\"This is the Forward Method of base class for Layer\")\n",
        "    return None"
      ],
      "metadata": {
        "id": "XwShb0AFB1_2"
      },
      "execution_count": null,
      "outputs": []
    },
    {
      "cell_type": "code",
      "source": [
        "import numpy as np"
      ],
      "metadata": {
        "id": "J1UMLQSaNcNz"
      },
      "execution_count": null,
      "outputs": []
    },
    {
      "cell_type": "code",
      "source": [
        "class Dense(Layer):\n",
        "  def __init__(self, input_size, output_size):\n",
        "    self.weights = np.random.randn(output_size, input_size)\n",
        "    self.bias = np.random.randn(output_size, 1)\n",
        "\n",
        "  def forward(self, input):\n",
        "    self.input = input\n",
        "    print(\"This is the Forward Method of Dense Layer\")\n",
        "    return np.dot(self.weights, self.input) + self.bias"
      ],
      "metadata": {
        "id": "ECgTbaGOK9ag"
      },
      "execution_count": null,
      "outputs": []
    },
    {
      "cell_type": "code",
      "source": [
        "L1=Layer()\n",
        "L1.forward(3)\n",
        "L2=Dense(3,2)\n",
        "L2.weights\n",
        "L2.forward(3)"
      ],
      "metadata": {
        "id": "Z9u4mrVXPUsA",
        "outputId": "f6de3911-f5bb-464e-e111-9faac0642351",
        "colab": {
          "base_uri": "https://localhost:8080/"
        }
      },
      "execution_count": null,
      "outputs": [
        {
          "output_type": "stream",
          "name": "stdout",
          "text": [
            "This is the Forward Method of base class for Layer\n",
            "This is the Forward Method of Dense Layer\n"
          ]
        },
        {
          "output_type": "execute_result",
          "data": {
            "text/plain": [
              "array([[ 1.70912621, -4.66404511,  0.44218798],\n",
              "       [-6.77092943,  3.75453537, -1.95353889]])"
            ]
          },
          "metadata": {},
          "execution_count": 61
        }
      ]
    },
    {
      "cell_type": "code",
      "source": [],
      "metadata": {
        "id": "zUEhALlbPYkO"
      },
      "execution_count": null,
      "outputs": []
    }
  ],
  "metadata": {
    "interpreter": {
      "hash": "aee8b7b246df8f9039afb4144a1f6fd8d2ca17a180786b69acc140d282b71a49"
    },
    "kernelspec": {
      "display_name": "Python 3.7.9 64-bit",
      "language": "python",
      "name": "python3"
    },
    "language_info": {
      "codemirror_mode": {
        "name": "ipython",
        "version": 3
      },
      "file_extension": ".py",
      "mimetype": "text/x-python",
      "name": "python",
      "nbconvert_exporter": "python",
      "pygments_lexer": "ipython3",
      "version": "3.7.9"
    },
    "orig_nbformat": 4,
    "colab": {
      "name": "03numpyFunctions.ipynb",
      "provenance": [],
      "toc_visible": true,
      "include_colab_link": true
    }
  },
  "nbformat": 4,
  "nbformat_minor": 0
}
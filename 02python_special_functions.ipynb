{
  "cells": [
    {
      "cell_type": "markdown",
      "metadata": {
        "id": "view-in-github",
        "colab_type": "text"
      },
      "source": [
        "<a href=\"https://colab.research.google.com/github/vkjadon/python/blob/main/02python_special_functions.ipynb\" target=\"_parent\"><img src=\"https://colab.research.google.com/assets/colab-badge.svg\" alt=\"Open In Colab\"/></a>"
      ]
    },
    {
      "cell_type": "markdown",
      "source": [
        "#Python Helping Function\n"
      ],
      "metadata": {
        "id": "NwFUthnMmgvn"
      }
    },
    {
      "cell_type": "markdown",
      "source": [
        "There are many built-in functions in the python which helps us in better understanding the different methods available in python. I consider, `type()`, `dir()` and `help()` as some of the very important functions that must be used whenever you need some more clarification in understanding the use of any other methods."
      ],
      "metadata": {
        "id": "VF5KDYqUF7EU"
      }
    },
    {
      "cell_type": "markdown",
      "source": [
        "##type() function"
      ],
      "metadata": {
        "id": "7TaTMs4792A1"
      }
    },
    {
      "cell_type": "markdown",
      "source": [
        "To find the class of a variable like in Python, you can use the type() function. This function returns the type of the object of a class."
      ],
      "metadata": {
        "id": "H2Bl3S3mm_iM"
      }
    },
    {
      "cell_type": "code",
      "source": [
        "integer_num=10\n",
        "float_num = 40.5\n",
        "string_model = 'HC-SR04'"
      ],
      "metadata": {
        "id": "2RqNme9QnGXq"
      },
      "execution_count": null,
      "outputs": []
    },
    {
      "cell_type": "code",
      "source": [
        "print(f'The type of `integer_num` is {type(integer_num)}')\n",
        "print(f'The type of `float_num` is {type(float_num)}')\n",
        "print(f'The type of `sensor_model` is {type(string_model)}')"
      ],
      "metadata": {
        "colab": {
          "base_uri": "https://localhost:8080/"
        },
        "id": "xErPsmMc8PnU",
        "outputId": "62e17200-3a5a-4562-e309-b8724e6cbd3f"
      },
      "execution_count": null,
      "outputs": [
        {
          "output_type": "stream",
          "name": "stdout",
          "text": [
            "The type of `integer_num` is <class 'int'>\n",
            "The type of `float_num` is <class 'float'>\n",
            "The type of `sensor_model` is <class 'str'>\n"
          ]
        }
      ]
    },
    {
      "cell_type": "markdown",
      "source": [
        "Click [Formatted String](https://docs.python.org/3/tutorial/inputoutput.html) to go to documentation to explore more."
      ],
      "metadata": {
        "id": "nPofXZ4Mjuvd"
      }
    },
    {
      "cell_type": "code",
      "source": [
        "dict = {\"key-1\" : \"value-1\", \"key-2\" : \"value-2\"}\n",
        "print(type(dict))\n",
        "dir(dict)"
      ],
      "metadata": {
        "id": "b67Cowc18UPp"
      },
      "execution_count": null,
      "outputs": []
    },
    {
      "cell_type": "markdown",
      "source": [
        "We see that `integer_num`, `float_num` and `string_model` belongs to `int`, `float` and the `str` classes respecyively. There many methods and attributes defined in a class. Let us use some of the methods of the `str` class."
      ],
      "metadata": {
        "id": "XoLzf3n64hkJ"
      }
    },
    {
      "cell_type": "code",
      "source": [
        "string_name = 'ultrasonic Sensor'\n",
        "print(string_model + ' is a ' + string_name)\n",
        "print(f\"{string_model} is a {string_name}\")"
      ],
      "metadata": {
        "id": "uh8492qKnP1Z",
        "colab": {
          "base_uri": "https://localhost:8080/"
        },
        "outputId": "9b0b053b-b671-4cbc-c7cb-e490a89b5cd7"
      },
      "execution_count": null,
      "outputs": [
        {
          "output_type": "stream",
          "name": "stdout",
          "text": [
            "HC-SR04 is a ultrasonic Sensor\n",
            "HC-SR04 is a ultrasonic Sensor\n"
          ]
        }
      ]
    },
    {
      "cell_type": "code",
      "source": [
        "if(str.islower(string_name)):\n",
        "  print(f\"{string_name} is in lower case\")\n",
        "else:\n",
        "  print(string_name.upper())\n",
        "  print(string_name)"
      ],
      "metadata": {
        "id": "iScs2lYwnpyU",
        "colab": {
          "base_uri": "https://localhost:8080/"
        },
        "outputId": "5aab884e-fa59-4b7c-ccc9-0011fd79e682"
      },
      "execution_count": null,
      "outputs": [
        {
          "output_type": "stream",
          "name": "stdout",
          "text": [
            "ULTRASONIC SENSOR\n",
            "ultrasonic Sensor\n"
          ]
        }
      ]
    },
    {
      "cell_type": "markdown",
      "source": [
        "We have used two different ways of using a method of a class. One way is to pass object through arguement of the class `str.islower(string_name)` method and other is using . (dot) operator on the object `string_name.upper()`."
      ],
      "metadata": {
        "id": "azsxPLnb7bG6"
      }
    },
    {
      "cell_type": "code",
      "source": [
        "print(string_name.capitalize())\n",
        "print(string_name.casefold())\n",
        "print(string_name.center(20))"
      ],
      "metadata": {
        "id": "J142VkCfnuS4"
      },
      "execution_count": null,
      "outputs": []
    },
    {
      "cell_type": "markdown",
      "source": [
        "Click [String Class : str](https://docs.python.org/3/library/stdtypes.html#str) to go to documentation to explore more."
      ],
      "metadata": {
        "id": "eMMlndSMkLXm"
      }
    },
    {
      "cell_type": "markdown",
      "source": [
        "You may also be wondering how to identify the methods associated with the `str`. There exists a built-in function `dir()` in module `builtins` for this task."
      ],
      "metadata": {
        "id": "_Nuc9Lxq_5zj"
      }
    },
    {
      "cell_type": "markdown",
      "source": [
        "##dir() and help() functions"
      ],
      "metadata": {
        "id": "LPcROZNX99R-"
      }
    },
    {
      "cell_type": "markdown",
      "source": [
        "The `dir()` function in Python is used to list the attributes and methods of an object, including special (or \"magic\") methods like `__init__` and `__str__`. When you pass an object to `dir()`, it returns a list of all the attributes and methods associated with that object.\n"
      ],
      "metadata": {
        "id": "bP7GAHeDmrJR"
      }
    },
    {
      "cell_type": "code",
      "source": [
        "x=40.8\n",
        "print(dir(x))"
      ],
      "metadata": {
        "id": "NdYqkTGtmsA-",
        "colab": {
          "base_uri": "https://localhost:8080/"
        },
        "outputId": "076db837-0102-4b8a-dde5-635a77640055"
      },
      "execution_count": null,
      "outputs": [
        {
          "output_type": "stream",
          "name": "stdout",
          "text": [
            "['__abs__', '__add__', '__bool__', '__ceil__', '__class__', '__delattr__', '__dir__', '__divmod__', '__doc__', '__eq__', '__float__', '__floor__', '__floordiv__', '__format__', '__ge__', '__getattribute__', '__getformat__', '__getnewargs__', '__getstate__', '__gt__', '__hash__', '__init__', '__init_subclass__', '__int__', '__le__', '__lt__', '__mod__', '__mul__', '__ne__', '__neg__', '__new__', '__pos__', '__pow__', '__radd__', '__rdivmod__', '__reduce__', '__reduce_ex__', '__repr__', '__rfloordiv__', '__rmod__', '__rmul__', '__round__', '__rpow__', '__rsub__', '__rtruediv__', '__setattr__', '__sizeof__', '__str__', '__sub__', '__subclasshook__', '__truediv__', '__trunc__', 'as_integer_ratio', 'conjugate', 'fromhex', 'hex', 'imag', 'is_integer', 'real']\n"
          ]
        }
      ]
    },
    {
      "cell_type": "markdown",
      "source": [
        "It gives a long list of special methods starting with double underscore, attributes and the methods. Let us find out some information about the `dir` using `help` function."
      ],
      "metadata": {
        "id": "bW5WR-9amyFG"
      }
    },
    {
      "cell_type": "code",
      "source": [
        "help(dir)"
      ],
      "metadata": {
        "id": "oQU3keQxVCia",
        "outputId": "28808438-da90-4735-9d41-12b7ef371c79",
        "colab": {
          "base_uri": "https://localhost:8080/"
        }
      },
      "execution_count": 1,
      "outputs": [
        {
          "output_type": "stream",
          "name": "stdout",
          "text": [
            "Help on built-in function dir in module builtins:\n",
            "\n",
            "dir(...)\n",
            "    dir([object]) -> list of strings\n",
            "\n",
            "    If called without an argument, return the names in the current scope.\n",
            "    Else, return an alphabetized list of names comprising (some of) the attributes\n",
            "    of the given object, and of attributes reachable from it.\n",
            "    If the object supplies a method named __dir__, it will be used; otherwise\n",
            "    the default dir() logic is used and returns:\n",
            "      for a module object: the module's attributes.\n",
            "      for a class object:  its attributes, and recursively the attributes\n",
            "        of its bases.\n",
            "      for any other object: its attributes, its class's attributes, and\n",
            "        recursively the attributes of its class's base classes.\n",
            "\n"
          ]
        }
      ]
    },
    {
      "cell_type": "markdown",
      "source": [
        "Here, it is also important to note that the `dir` function returns a list of strings."
      ],
      "metadata": {
        "id": "bMqc8Ppzu3p4"
      }
    },
    {
      "cell_type": "markdown",
      "source": [
        "Coming back to the list returned by the `dir(x)`, for beginners, the methods and attribbutes are of initial interest not the special methods. You can use list comprehension to write logic which ignores the special methods."
      ],
      "metadata": {
        "id": "7XjA6d7CV1Pr"
      }
    },
    {
      "cell_type": "code",
      "source": [
        "attributes_and_methods = [attr for attr in dir(x) if not attr.startswith('__')]\n",
        "print(attributes_and_methods)"
      ],
      "metadata": {
        "id": "3M7FpsFZmz8L"
      },
      "execution_count": null,
      "outputs": []
    },
    {
      "cell_type": "code",
      "source": [
        "string = 'abcd'\n",
        "# attributes_and_methods = [strg for strg in dir(string) if not strg.startswith('__')]\n",
        "print(help(str))"
      ],
      "metadata": {
        "id": "jOwKGev8iEK5"
      },
      "execution_count": null,
      "outputs": []
    },
    {
      "cell_type": "markdown",
      "source": [
        "We will discuss list comprehension in later part of this session with some more examples. For now, the one line of the code is generating a new list of strings from the list of strings returned by the `dir()` built-in function of python.\n",
        "\n",
        "You should also notice that the code is looping through each of the string inside the list and checking if it does not start with `__`."
      ],
      "metadata": {
        "id": "Bzpd1snF8FPe"
      }
    },
    {
      "cell_type": "markdown",
      "source": [
        "Use `getattr(x, n)` when the attribute name is stored in a string (like when looping over `dir(x)`).\n",
        "\n",
        "Use dot notation (`x.is_integer`) when you already know the attribute name in code.\n",
        "\n"
      ],
      "metadata": {
        "id": "M46zm4G35peB"
      }
    },
    {
      "cell_type": "code",
      "source": [
        "obj = 10\n",
        "\n",
        "methods = [n for n in dir(obj) if not n.startswith('__') and callable(getattr(obj, n))]\n",
        "attributes = [n for n in dir(obj) if not n.startswith('__') and not callable(getattr(obj, n))]\n",
        "\n",
        "print(f\"Attributes :  {attributes}\")\n",
        "print(f\"Methods : {methods}\")"
      ],
      "metadata": {
        "colab": {
          "base_uri": "https://localhost:8080/"
        },
        "id": "3juqgKcikeo7",
        "outputId": "8d9eab62-af01-4244-d3fc-8eca9624dbdb"
      },
      "execution_count": 3,
      "outputs": [
        {
          "output_type": "stream",
          "name": "stdout",
          "text": [
            "Attributes :  ['denominator', 'imag', 'numerator', 'real']\n",
            "Methods : ['as_integer_ratio', 'bit_count', 'bit_length', 'conjugate', 'from_bytes', 'is_integer', 'to_bytes']\n"
          ]
        }
      ]
    },
    {
      "cell_type": "code",
      "source": [
        "print(obj.real)\n",
        "print(obj.imag)\n",
        "print(obj.numerator)\n",
        "print(obj.denominator)"
      ],
      "metadata": {
        "id": "nCDSC2_6WkmT"
      },
      "execution_count": null,
      "outputs": []
    },
    {
      "cell_type": "markdown",
      "source": [
        "For any integer obj in Python obj.imag is always 0 because integers are treated as a subset of complex numbers (n + 0j) and obj.denominator is always 1 because integers are treated as fractions (n/1)."
      ],
      "metadata": {
        "id": "EZs9jYzVXjLu"
      }
    },
    {
      "cell_type": "code",
      "source": [
        "print(f\"bit_length : {obj.bit_length()}\")\n",
        "print(f\"bit_count : {obj.bit_count()}\")\n",
        "print(f\"as_integer_ratio : {obj.as_integer_ratio()}\")\n",
        "print(f\"conjugate :  {obj.conjugate()}\")\n",
        "print(f\"to_bytes : {obj.to_bytes(2, 'big')}\")\n",
        "print(f\"to_bytes : {obj.to_bytes(2, '')}\")"
      ],
      "metadata": {
        "id": "jgXoj0moluML",
        "outputId": "65140c82-235e-40bc-8ef3-59679dddae6b",
        "colab": {
          "base_uri": "https://localhost:8080/"
        }
      },
      "execution_count": null,
      "outputs": [
        {
          "output_type": "stream",
          "name": "stdout",
          "text": [
            "bit_length: 4\n",
            "bit_count: 2\n",
            "as_integer_ratio: (10, 1)\n",
            "conjugate: 10\n",
            "to_bytes: b'\\x00\\n'\n"
          ]
        }
      ]
    },
    {
      "cell_type": "markdown",
      "source": [
        "Click [Integer/Float Class : int](https://docs.python.org/3/library/stdtypes.html#numeric-types-int-float-complex) to go to documentation to explore more."
      ],
      "metadata": {
        "id": "dXM3-gs8mlmP"
      }
    },
    {
      "cell_type": "code",
      "source": [
        "x=10.5\n",
        "help(x.is_integer)"
      ],
      "metadata": {
        "id": "5LUiDzCQm7FT",
        "outputId": "81d81f93-9266-44d8-95f3-bbea33912d21",
        "colab": {
          "base_uri": "https://localhost:8080/"
        }
      },
      "execution_count": null,
      "outputs": [
        {
          "output_type": "stream",
          "name": "stdout",
          "text": [
            "Help on built-in function is_integer:\n",
            "\n",
            "is_integer() method of builtins.float instance\n",
            "    Return True if the float is an integer.\n",
            "\n"
          ]
        }
      ]
    },
    {
      "cell_type": "code",
      "source": [
        "help(callable)"
      ],
      "metadata": {
        "id": "KI0eeV11gOLW",
        "colab": {
          "base_uri": "https://localhost:8080/"
        },
        "outputId": "24222b04-2f4e-4cd5-dda1-4e0e1e72e7b4"
      },
      "execution_count": null,
      "outputs": [
        {
          "output_type": "stream",
          "name": "stdout",
          "text": [
            "Help on built-in function callable in module builtins:\n",
            "\n",
            "callable(obj, /)\n",
            "    Return whether the object is callable (i.e., some kind of function).\n",
            "\n",
            "    Note that classes are callable, as are instances of classes with a\n",
            "    __call__() method.\n",
            "\n"
          ]
        }
      ]
    },
    {
      "cell_type": "code",
      "source": [
        "callable(x.is_integer)"
      ],
      "metadata": {
        "id": "zIz0pySigYAQ",
        "colab": {
          "base_uri": "https://localhost:8080/"
        },
        "outputId": "1744fa70-867d-4454-b69e-1fd48b4593a3"
      },
      "execution_count": null,
      "outputs": [
        {
          "output_type": "execute_result",
          "data": {
            "text/plain": [
              "True"
            ]
          },
          "metadata": {},
          "execution_count": 8
        }
      ]
    },
    {
      "cell_type": "code",
      "source": [
        "help(getattr)\n",
        "getattr(x, 'is_integer')\n",
        "# getattr(x, 'is_integer')()"
      ],
      "metadata": {
        "id": "_91zHFFOf6vX",
        "colab": {
          "base_uri": "https://localhost:8080/"
        },
        "outputId": "b1012e7e-50ee-4b91-c654-8152df0f7c1b"
      },
      "execution_count": null,
      "outputs": [
        {
          "output_type": "stream",
          "name": "stdout",
          "text": [
            "Help on built-in function getattr in module builtins:\n",
            "\n",
            "getattr(...)\n",
            "    getattr(object, name[, default]) -> value\n",
            "\n",
            "    Get a named attribute from an object; getattr(x, 'y') is equivalent to x.y.\n",
            "    When a default argument is given, it is returned when the attribute doesn't\n",
            "    exist; without it, an exception is raised in that case.\n",
            "\n"
          ]
        },
        {
          "output_type": "execute_result",
          "data": {
            "text/plain": [
              "<function float.is_integer()>"
            ]
          },
          "metadata": {},
          "execution_count": 16
        }
      ]
    },
    {
      "cell_type": "markdown",
      "source": [
        "It returns the value of the attribute of the object."
      ],
      "metadata": {
        "id": "lplbimKJmzaZ"
      }
    },
    {
      "cell_type": "markdown",
      "source": [
        "#Lambda Function\n"
      ],
      "metadata": {
        "id": "9iHHJ0PWw5jr"
      }
    },
    {
      "cell_type": "markdown",
      "source": [
        "A lambda function, also known as an anonymous function, is a small and concise function in Python that doesn't require a defined name. It is defined using the lambda keyword, followed by the function arguements, a colon (:), and the expression to be evaluated.\n",
        "\n",
        "Here are a few examples to illustrate the usage of lambda functions:"
      ],
      "metadata": {
        "id": "6LxHchaUx87y"
      }
    },
    {
      "cell_type": "code",
      "source": [
        "def add(a,b):\n",
        "  return a+b"
      ],
      "metadata": {
        "id": "7D2b6b9Pw8H-"
      },
      "execution_count": null,
      "outputs": []
    },
    {
      "cell_type": "code",
      "source": [
        "sum=add(10,17)\n",
        "print(sum)"
      ],
      "metadata": {
        "id": "UtCt1SxoxD2A"
      },
      "execution_count": null,
      "outputs": []
    },
    {
      "cell_type": "code",
      "source": [
        "add = lambda a, b: a + b"
      ],
      "metadata": {
        "id": "vzlWoztckFRV"
      },
      "execution_count": null,
      "outputs": []
    },
    {
      "cell_type": "markdown",
      "source": [
        "This will create a function with name as 'add' with two parameters 'a' and 'b' and capable of performing the 'a+b' operation."
      ],
      "metadata": {
        "id": "lkAcmkaOkF9j"
      }
    },
    {
      "cell_type": "code",
      "source": [
        "result = add(3, 4)\n",
        "print(result)  # Output: 7"
      ],
      "metadata": {
        "id": "F-gZ4Hg2xG9n"
      },
      "execution_count": null,
      "outputs": []
    },
    {
      "cell_type": "code",
      "source": [
        "square = lambda x: x ** 2\n",
        "result = square(5)\n",
        "print(result)  # Output: 25"
      ],
      "metadata": {
        "id": "bQ2qRp4gz_qq"
      },
      "execution_count": null,
      "outputs": []
    },
    {
      "cell_type": "markdown",
      "source": [
        "It is not necessary to write the name of the function to pass the arguement. Rather, we can use right hand side with lambda keyword enclosed within parenthesis to act as function name and pass the arguements as below."
      ],
      "metadata": {
        "id": "hjAkpSnjkbVN"
      }
    },
    {
      "cell_type": "code",
      "source": [
        "(lambda a, b: a + b)(1,2)"
      ],
      "metadata": {
        "id": "4B1C9LXLy-dJ"
      },
      "execution_count": null,
      "outputs": []
    },
    {
      "cell_type": "markdown",
      "source": [
        "The expression (lambda a, b: a + b)(1, 2) represents an Immediately Invoked Function Expression (IIFE) in Python. It creates an anonymous function that takes two arguments a and b and returns their sum. The function is then immediately invoked with the arguments 1 and 2."
      ],
      "metadata": {
        "id": "ZqGVmvOszYf7"
      }
    },
    {
      "cell_type": "markdown",
      "source": [
        "##Keyword Arguements"
      ],
      "metadata": {
        "id": "ZrhH1P3RVodj"
      }
    },
    {
      "cell_type": "code",
      "source": [
        "#Keyword arguement\n",
        "expression = lambda a, b, c : a * (b + c)\n",
        "#arguement can be in any order\n",
        "result = expression(3, c=10, b=5)\n",
        "# result = expression(c=10, 3, b=5) #Will throw an error\n",
        "print(result)"
      ],
      "metadata": {
        "id": "3Qe0dpcEzHQv",
        "colab": {
          "base_uri": "https://localhost:8080/"
        },
        "outputId": "4fb80ea9-b695-4660-a551-9a04e98e7558"
      },
      "execution_count": null,
      "outputs": [
        {
          "output_type": "stream",
          "name": "stdout",
          "text": [
            "45\n"
          ]
        }
      ]
    },
    {
      "cell_type": "markdown",
      "source": [
        "##Default arguement\n"
      ],
      "metadata": {
        "id": "QB_xVHvtVvZ8"
      }
    },
    {
      "cell_type": "code",
      "source": [
        "#Default arguement\n",
        "expression = lambda a, b, c=8 : a * (b + c)\n",
        "# expression = lambda a, b=20, c : a * (b + c) #Will throw an error\n",
        "result = expression(3, 10)\n",
        "print(result)"
      ],
      "metadata": {
        "id": "el5J2DnJ2Cjl",
        "colab": {
          "base_uri": "https://localhost:8080/"
        },
        "outputId": "e23f0a8d-3c4f-4fad-e820-0578ee01590c"
      },
      "execution_count": null,
      "outputs": [
        {
          "output_type": "stream",
          "name": "stdout",
          "text": [
            "54\n"
          ]
        }
      ]
    },
    {
      "cell_type": "markdown",
      "source": [
        "#Comprehensions in Python"
      ],
      "metadata": {
        "id": "5WmlbXrSSZJg"
      }
    },
    {
      "cell_type": "markdown",
      "source": [
        "Comprehensions are a concise way to construct collections (list, set, dict, generator) from existing iterables."
      ],
      "metadata": {
        "id": "toqIeuHbUjbB"
      }
    },
    {
      "cell_type": "markdown",
      "source": [
        "##List Comprehension"
      ],
      "metadata": {
        "id": "vzlVR6Gh8dDV"
      }
    },
    {
      "cell_type": "markdown",
      "source": [
        "```\n",
        "[expression `for` item `in` iterable `if` condition]\n",
        "```\n",
        "\n",
        "Expression is used to produce the value of each item in the new list. The expression may contain if..else block. *for item in iterable* is used to loop over each item in an iterable (like a list, tuple, or range). *if condition* is optional which may be used to filter the items as per the condition when it is **True**."
      ],
      "metadata": {
        "id": "4HT_EN9ERXuO"
      }
    },
    {
      "cell_type": "code",
      "source": [
        "numbers = [1, 2, 3, 4, 5, 6]"
      ],
      "metadata": {
        "id": "7nVe2W3NVwFt"
      },
      "execution_count": null,
      "outputs": []
    },
    {
      "cell_type": "code",
      "source": [
        "print([x+2 for x in numbers])"
      ],
      "metadata": {
        "id": "1BiT5ZQ_VyJ4"
      },
      "execution_count": null,
      "outputs": []
    },
    {
      "cell_type": "code",
      "source": [
        "print([x+2 for x in numbers if x % 2 == 0])"
      ],
      "metadata": {
        "id": "TnqklnevWG3Z"
      },
      "execution_count": null,
      "outputs": []
    },
    {
      "cell_type": "code",
      "source": [
        "print([\"odd\" if x % 2 != 0 else \"even\" for x in numbers])"
      ],
      "metadata": {
        "id": "6ehQtYGN5wSZ"
      },
      "execution_count": null,
      "outputs": []
    },
    {
      "cell_type": "code",
      "source": [
        "print([\"even\" for x in numbers if x % 2 == 0])"
      ],
      "metadata": {
        "id": "aIRPOe2cWEHt"
      },
      "execution_count": null,
      "outputs": []
    },
    {
      "cell_type": "markdown",
      "source": [
        "## Dict comprehension"
      ],
      "metadata": {
        "id": "srIhZWnY9Ugk"
      }
    },
    {
      "cell_type": "markdown",
      "source": [
        "```\n",
        "{key_expression: value_expression for item in iterable if condition}\n",
        "```\n",
        "key_expression and value_expression are used to produce the key and the value of each item in the new list. The expression may contain if..else block. *for item in iterable* is used to loop over each item in an iterable (like a list, tuple, or range). *if condition* is optional which may be used to filter the items as per the condition when it is **True**.\n"
      ],
      "metadata": {
        "id": "jWeuLrs9WrE7"
      }
    },
    {
      "cell_type": "code",
      "source": [
        "print({x: x**2 for x in numbers})"
      ],
      "metadata": {
        "id": "7Jv6FsQTW51a"
      },
      "execution_count": null,
      "outputs": []
    },
    {
      "cell_type": "code",
      "source": [
        "print({x: \"even\" for x in numbers if x % 2 == 0})"
      ],
      "metadata": {
        "id": "3GnRc57OXHv7"
      },
      "execution_count": null,
      "outputs": []
    },
    {
      "cell_type": "code",
      "source": [
        "print({x: \"even\" if x % 2 == 0 else \"odd\" for x in numbers})"
      ],
      "metadata": {
        "id": "AgizlzEDXYW6"
      },
      "execution_count": null,
      "outputs": []
    },
    {
      "cell_type": "code",
      "source": [
        "list= {x: \"even\" if x % 2 == 0 else \"odd\" for x in numbers}"
      ],
      "metadata": {
        "id": "0VWuzle68zAV"
      },
      "execution_count": null,
      "outputs": []
    },
    {
      "cell_type": "markdown",
      "source": [
        "## Set Comprehension"
      ],
      "metadata": {
        "id": "yKfXLfH7-LYA"
      }
    },
    {
      "cell_type": "markdown",
      "source": [
        "A set in Python is an unordered collection of unique elements.It is defined using { } or the set() constructor.No duplicates are allowed and the elements must be immutable (e.g., numbers, strings, tuples)."
      ],
      "metadata": {
        "id": "BHby8cTrxe9o"
      }
    },
    {
      "cell_type": "code",
      "source": [
        "labels = [\"cat\", \"fish\", \"dog\", \"fish\", \"dog\", \"cat\"]\n",
        "unique_labels = set(labels)\n",
        "\n",
        "for cls in unique_labels:\n",
        "  print(f\"Training classifier for class: {cls}\")"
      ],
      "metadata": {
        "colab": {
          "base_uri": "https://localhost:8080/"
        },
        "id": "LLjeuUAOxhFE",
        "outputId": "a6371f0d-59d9-421b-9f02-3edbcb3cdbba"
      },
      "execution_count": null,
      "outputs": [
        {
          "output_type": "stream",
          "name": "stdout",
          "text": [
            "Training classifier for class: cat\n",
            "Training classifier for class: dog\n",
            "Training classifier for class: fish\n"
          ]
        }
      ]
    },
    {
      "cell_type": "code",
      "source": [
        "for idx, cls in enumerate(unique_labels):\n",
        "  print(f\"Class {idx}: {cls}\")"
      ],
      "metadata": {
        "colab": {
          "base_uri": "https://localhost:8080/"
        },
        "id": "t-PeAd4ky9i0",
        "outputId": "93c6e0cc-50a9-444f-fbc9-019e96104908"
      },
      "execution_count": null,
      "outputs": [
        {
          "output_type": "stream",
          "name": "stdout",
          "text": [
            "Class 0: cat\n",
            "Class 1: dog\n",
            "Class 2: fish\n"
          ]
        }
      ]
    },
    {
      "cell_type": "markdown",
      "source": [
        "## Generator expression"
      ],
      "metadata": {
        "id": "Iv9gsCBm_Cv5"
      }
    },
    {
      "cell_type": "code",
      "source": [
        "gen = (x*x for x in range(5))"
      ],
      "metadata": {
        "id": "gIDU2HSL_IYR"
      },
      "execution_count": null,
      "outputs": []
    },
    {
      "cell_type": "code",
      "source": [
        "print(gen)\n",
        "print(next(gen))"
      ],
      "metadata": {
        "id": "vCBjFhA2_JZ6"
      },
      "execution_count": null,
      "outputs": []
    },
    {
      "cell_type": "code",
      "source": [
        "for val in gen:\n",
        "  print(val)"
      ],
      "metadata": {
        "id": "2Ut-ahb7_0U2"
      },
      "execution_count": null,
      "outputs": []
    },
    {
      "cell_type": "markdown",
      "source": [
        "After all values of the function are exhausted, its empty and can not be restarted."
      ],
      "metadata": {
        "id": "z6felxpFDcpj"
      }
    },
    {
      "cell_type": "code",
      "source": [
        "print(gen)"
      ],
      "metadata": {
        "id": "4DHpuH9QDymO"
      },
      "execution_count": null,
      "outputs": []
    },
    {
      "cell_type": "markdown",
      "source": [
        "Saves memory (doesn't create the whole list in RAM). It is useful for streaming, large files, infinite sequences."
      ],
      "metadata": {
        "id": "NXh3CsQwEVE_"
      }
    },
    {
      "cell_type": "markdown",
      "source": [
        "#Higher Order Functions"
      ],
      "metadata": {
        "id": "J1m1t4Ki8xnx"
      }
    },
    {
      "cell_type": "markdown",
      "source": [
        "A higher-order function is a function that can take one or more functions as arguments and/or return a function as its result.\n",
        "\n",
        "Some common examples of higher-order functions in Python include map(), filter(), and reduce(). These functions can take other functions as arguments to perform operations on iterable objects.\n",
        "\n",
        "Here's an example to illustrate the concept of a higher-order function:"
      ],
      "metadata": {
        "id": "fwnfcnLw813F"
      }
    },
    {
      "cell_type": "code",
      "source": [
        "def double(x):\n",
        "  return x * 2\n",
        "\n",
        "def apply_operation(func, num):\n",
        "  return func(num)\n",
        "\n",
        "result = apply_operation(double, 5)\n",
        "print(result)"
      ],
      "metadata": {
        "id": "Kd3rmSXQ9SSF",
        "outputId": "25dd03e7-bbe9-4af9-d998-7ffac8c77518",
        "colab": {
          "base_uri": "https://localhost:8080/"
        }
      },
      "execution_count": null,
      "outputs": [
        {
          "output_type": "stream",
          "name": "stdout",
          "text": [
            "10\n"
          ]
        }
      ]
    },
    {
      "cell_type": "markdown",
      "source": [
        "In this example, `double` is a function that takes a number and returns its double. The `apply_operation` function is a higher-order function that takes a function *func* and a number *num*. It calls the provided function func with the given number num and returns the result.\n",
        "\n",
        "We can pass the `double` function as an argument to `apply_operation` and provide a number (5 in this case). The `apply_operation` function will then call the double function with the provided number, resulting in 10, which is printed as the output.\n",
        "\n",
        "**Higher-order functions** are powerful because they allow for code reuse, modularity, and the ability to abstract and manipulate behavior. They enable functional programming paradigms and can lead to more concise and expressive code."
      ],
      "metadata": {
        "id": "gXBY77qC9fhj"
      }
    },
    {
      "cell_type": "code",
      "source": [
        "def double(x):\n",
        "    return x * 2\n",
        "\n",
        "def apply_operation(func, num):\n",
        "    return func(num)\n",
        "\n",
        "result = apply_operation(double, [6,9])\n",
        "print(result)"
      ],
      "metadata": {
        "id": "9zSyVAcZs2L8",
        "outputId": "7d84a2d9-0f81-4b29-9cc4-5e287bafdf07",
        "colab": {
          "base_uri": "https://localhost:8080/"
        }
      },
      "execution_count": null,
      "outputs": [
        {
          "output_type": "stream",
          "name": "stdout",
          "text": [
            "[6, 9, 6, 9]\n"
          ]
        }
      ]
    },
    {
      "cell_type": "markdown",
      "source": [
        "[list] * 2 repeats the list.\n",
        "\n",
        "To numerically double each element, you need a loop, comprehension, or map()."
      ],
      "metadata": {
        "id": "-foScFDRs6Ml"
      }
    },
    {
      "cell_type": "code",
      "source": [
        "def double(x):\n",
        "  return [i * 2 for i in x]\n",
        "\n",
        "result = apply_operation(double, [6, 9])\n",
        "print(result)"
      ],
      "metadata": {
        "id": "s5m63dDOss-H",
        "outputId": "57efee50-385b-40d9-9be2-727ccc563ba0",
        "colab": {
          "base_uri": "https://localhost:8080/"
        }
      },
      "execution_count": null,
      "outputs": [
        {
          "output_type": "stream",
          "name": "stdout",
          "text": [
            "[12, 18]\n"
          ]
        }
      ]
    },
    {
      "cell_type": "code",
      "source": [
        "func_ho = lambda func, x : x + func(x)\n",
        "func_ho(lambda x : x**2, 6)"
      ],
      "metadata": {
        "id": "CfCeffGv_LWO",
        "outputId": "caa5074d-98b8-4262-d825-5484269835a7",
        "colab": {
          "base_uri": "https://localhost:8080/"
        }
      },
      "execution_count": null,
      "outputs": [
        {
          "output_type": "execute_result",
          "data": {
            "text/plain": [
              "42"
            ]
          },
          "metadata": {},
          "execution_count": 19
        }
      ]
    },
    {
      "cell_type": "markdown",
      "source": [
        "First line of creates a function with name `func_ho` which require two arguements; one function, `func` and another `x`. The second line call this function and pass one function defined by `lambda` function and one arguement."
      ],
      "metadata": {
        "id": "0qzQE0CtVWUe"
      }
    },
    {
      "cell_type": "code",
      "source": [
        "func_ho(double, 6)"
      ],
      "metadata": {
        "id": "OmUrMwin_0pG",
        "outputId": "27deab91-0cce-41dd-e171-16443c5d96df",
        "colab": {
          "base_uri": "https://localhost:8080/"
        }
      },
      "execution_count": null,
      "outputs": [
        {
          "output_type": "execute_result",
          "data": {
            "text/plain": [
              "18"
            ]
          },
          "metadata": {},
          "execution_count": 27
        }
      ]
    },
    {
      "cell_type": "markdown",
      "source": [
        "The `double` function doubles the number passed as arguement and `func_fo` add the number to the doubles number. So, output is three times the number."
      ],
      "metadata": {
        "id": "f9lvego7nMm-"
      }
    },
    {
      "cell_type": "markdown",
      "source": [
        "##`map()` Function"
      ],
      "metadata": {
        "id": "6Lycc0YqPfya"
      }
    },
    {
      "cell_type": "markdown",
      "source": [
        "**map()** - Applies a function to each element of an iterable and returns a new iterable with the transformed values. map produces a map object, which is an iterator and thus doesn't require generating a new list in memory. This is especially useful with large datasets as it avoids storing all intermediate results in memory at once."
      ],
      "metadata": {
        "id": "_4dcaUInlJIz"
      }
    },
    {
      "cell_type": "code",
      "source": [
        "numbers = [1, 2, 3, 4, 5]\n",
        "# squared_numbers = map(lambda x: x**2, numbers)\n",
        "squared_numbers = map(double, numbers)\n",
        "print(list(squared_numbers))"
      ],
      "metadata": {
        "id": "QsA1oY0L-Jlj"
      },
      "execution_count": null,
      "outputs": []
    },
    {
      "cell_type": "code",
      "source": [
        "numbers = [1, 2, 3, 4, 5]\n",
        "\n",
        "# Using map (lazy evaluation)\n",
        "doubled_map = map(lambda x: x * 2, numbers)\n",
        "print(doubled_map)         # Output: <map object at 0x...>\n",
        "print(list(doubled_map))   # Output: [2, 4, 6, 8, 10]\n",
        "\n",
        "# Once you consume the iterator, it’s exhausted:\n",
        "print(list(doubled_map))   # Output: [] (iterator is exhausted)\n",
        "\n",
        "# Using list(map(...)) (eager evaluation)\n",
        "doubled_list = list(map(lambda x: x * 2, numbers))\n",
        "print(doubled_list)        # Output: [2, 4, 6, 8, 10]\n",
        "print(doubled_list)        # Output: [2, 4, 6, 8, 10] (list is reusable)\n"
      ],
      "metadata": {
        "id": "jTj3n5ISvxI0"
      },
      "execution_count": null,
      "outputs": []
    },
    {
      "cell_type": "markdown",
      "source": [
        "##`filter()` Function"
      ],
      "metadata": {
        "id": "snDtV3ygPpI-"
      }
    },
    {
      "cell_type": "markdown",
      "source": [
        "**filter()** - Filters elements from an iterable based on a condition defined by a function and returns a new iterable with the filtered values."
      ],
      "metadata": {
        "id": "tk_FO0ex-N3u"
      }
    },
    {
      "cell_type": "code",
      "source": [
        "numbers = [1, 2, 3, 4, 5]\n",
        "even_numbers = filter(lambda x: x % 2 == 0, numbers)\n",
        "print(list(even_numbers))"
      ],
      "metadata": {
        "id": "kmAq-_Eo-Vaj"
      },
      "execution_count": null,
      "outputs": []
    },
    {
      "cell_type": "code",
      "source": [
        "def filter_number(x):\n",
        "  # if x%2==0:\n",
        "  if x > 3:\n",
        "    return x"
      ],
      "metadata": {
        "id": "-i_AgSqVpKT8"
      },
      "execution_count": null,
      "outputs": []
    },
    {
      "cell_type": "code",
      "source": [
        "filtered_numbers = filter(filter_number, numbers)\n",
        "# filtered_numbers = map(filter_number, numbers)\n",
        "print(list(filtered_numbers))"
      ],
      "metadata": {
        "id": "0iv1-KZxpVcq"
      },
      "execution_count": null,
      "outputs": []
    },
    {
      "cell_type": "markdown",
      "source": [
        "##`reduce()` Function"
      ],
      "metadata": {
        "id": "5vxiaKuIPwuh"
      }
    },
    {
      "cell_type": "markdown",
      "source": [
        "**reduce()** - Applies a function to the elements of an iterable in a cumulative way and returns a single value."
      ],
      "metadata": {
        "id": "STlMzuxu-a_Y"
      }
    },
    {
      "cell_type": "code",
      "source": [
        "from functools import reduce\n",
        "numbers = [1, 2, 3, 4]\n",
        "product = reduce(lambda x, y: x * y + 2, numbers)\n",
        "print(product)\n",
        "print(help(reduce))"
      ],
      "metadata": {
        "id": "5HHxQ4_l-gzH"
      },
      "execution_count": null,
      "outputs": []
    },
    {
      "cell_type": "markdown",
      "source": [
        "##`sorted()` Function"
      ],
      "metadata": {
        "id": "A9W56o8AZM0m"
      }
    },
    {
      "cell_type": "markdown",
      "source": [
        "**sorted()** - Sorts the elements of an iterable based on a comparison defined by a function and returns a new list."
      ],
      "metadata": {
        "id": "QzAmc50v-ntJ"
      }
    },
    {
      "cell_type": "code",
      "source": [
        "fruits = ['apple', 'banana', 'cherry', 'durian']\n",
        "sorted_fruits = sorted(fruits, key=lambda x: x[0])\n",
        "\n",
        "print(sorted_fruits)"
      ],
      "metadata": {
        "id": "s81utu46-qJi",
        "outputId": "6e1457cf-b3e1-4c17-d50b-ac7c4a3ecff1",
        "colab": {
          "base_uri": "https://localhost:8080/"
        }
      },
      "execution_count": null,
      "outputs": [
        {
          "output_type": "stream",
          "name": "stdout",
          "text": [
            "['apple', 'banana', 'cherry', 'durian']\n"
          ]
        }
      ]
    },
    {
      "cell_type": "markdown",
      "source": [
        "In this example, we have a list of tuples called data. We want to sort the list based on the second element of each tuple (i.e., the fruit name). We use a lambda function as the key parameter in the sorted() function, specifying that we want to sort based on x[1], which represents the second element of each tuple. The resulting sorted list is printed."
      ],
      "metadata": {
        "id": "awIzZhXP3Ou8"
      }
    },
    {
      "cell_type": "code",
      "source": [
        "data = [(2, 'Apple', 200), (3, 'Orange', 80), (1, 'Banana', 70)]\n",
        "sorted_data = sorted(data, key=lambda x: x[0])\n",
        "print(sorted_data)\n",
        "help(sorted)"
      ],
      "metadata": {
        "id": "10vFGZDE3B-I"
      },
      "execution_count": null,
      "outputs": []
    },
    {
      "cell_type": "markdown",
      "source": [
        "##Mixed Ues of HO Functions\n"
      ],
      "metadata": {
        "id": "b2W7S1a-d5n4"
      }
    },
    {
      "cell_type": "markdown",
      "source": [
        "We can use map and filter methods to create iterables as discussed above as well"
      ],
      "metadata": {
        "id": "NVy_OYCe5Sdd"
      }
    },
    {
      "cell_type": "code",
      "source": [
        "numbers = [1, 2, 3, 4, 5]\n",
        "\n",
        "# Using map to create an iterable of doubled numbers\n",
        "doubled = map(lambda x: x * 2, numbers)\n",
        "\n",
        "# Using filter to create an iterable of even numbers\n",
        "evens = filter(lambda x: x % 2 == 0, numbers)\n",
        "\n",
        "print(list(doubled))\n",
        "print(list(evens))\n",
        "\n",
        "# doubled = list(map(lambda x: x * 2, numbers))\n",
        "# print(doubled)  # Output: [2, 4, 6, 8, 10]"
      ],
      "metadata": {
        "id": "1TIqoyfSux0f"
      },
      "execution_count": null,
      "outputs": []
    },
    {
      "cell_type": "markdown",
      "source": [
        "Same we can get without map function"
      ],
      "metadata": {
        "id": "lJ3nmMnXu2IF"
      }
    },
    {
      "cell_type": "code",
      "source": [
        "numbers = [1, 2, 3, 4, 5]\n",
        "\n",
        "# Creating a list by using a lambda function for each element\n",
        "doubled = [lambda x: x * 2 for x in numbers]\n"
      ],
      "metadata": {
        "id": "VgQgtvudu-kk"
      },
      "execution_count": null,
      "outputs": []
    },
    {
      "cell_type": "code",
      "source": [
        "numbers = [1, 2, 3, 4, 5]\n",
        "doubled = [(lambda x: x * 2)(x) for x in numbers]\n",
        "print(doubled)  # Output: [2, 4, 6, 8, 10]\n"
      ],
      "metadata": {
        "id": "boBZlaS3vFRr"
      },
      "execution_count": null,
      "outputs": []
    },
    {
      "cell_type": "code",
      "source": [
        "import math\n",
        "\n",
        "numbers = [4, 9, 16, 25]\n",
        "square_roots = map(math.sqrt, numbers)\n",
        "print(\"Sum of square roots:\", square_roots)"
      ],
      "metadata": {
        "id": "TAtlMR-IwKoR",
        "colab": {
          "base_uri": "https://localhost:8080/"
        },
        "outputId": "6f18a42d-6e90-4eab-a686-652cbd53eb28"
      },
      "execution_count": null,
      "outputs": [
        {
          "output_type": "stream",
          "name": "stdout",
          "text": [
            "Sum of square roots: <map object at 0x7fc76c123af0>\n"
          ]
        }
      ]
    },
    {
      "cell_type": "code",
      "source": [
        "#Run this twice\n",
        "for root in square_roots:\n",
        "    print(root)"
      ],
      "metadata": {
        "id": "RLZ9kOGxyLBr"
      },
      "execution_count": null,
      "outputs": []
    },
    {
      "cell_type": "code",
      "source": [
        "string_numbers = [\"1\", \"2\", \"3\", \"4\"]\n",
        "integers = map(int, string_numbers)\n",
        "\n",
        "# Use converted integers to calculate their product\n",
        "from functools import reduce\n",
        "product = reduce(lambda x, y: x * y, integers)\n",
        "print(\"Product of all integers:\", product)\n"
      ],
      "metadata": {
        "id": "mF5DcVS0wbes"
      },
      "execution_count": null,
      "outputs": []
    },
    {
      "cell_type": "code",
      "source": [
        "prices = {'apple': 0.5, 'banana': 0.25, 'cherry': 0.75}\n",
        "updated_prices = dict(map(lambda item: (item[0], item[1] * 1.1), prices.items()))\n",
        "\n",
        "# Use updated_prices for further calculations\n",
        "print(\"Updated prices with 10% increase:\", updated_prices)\n"
      ],
      "metadata": {
        "id": "NGHodKOvwlar"
      },
      "execution_count": null,
      "outputs": []
    },
    {
      "cell_type": "markdown",
      "source": [
        "map can apply a function across multiple iterables in parallel, which is something traditional for loops don’t handle as concisely.\n",
        "For example, combining elements from two lists element-wise:"
      ],
      "metadata": {
        "id": "_11TfSWIltGA"
      }
    },
    {
      "cell_type": "code",
      "source": [
        "list1 = [1, 2, 3]\n",
        "list2 = [4, 5, 6]\n",
        "products = map(lambda x, y: x * y, list1, list2)\n",
        "\n",
        "# Convert to list or directly iterate for further processing\n",
        "for result in products:\n",
        "    print(\"Product:\", result)\n"
      ],
      "metadata": {
        "id": "1L4yQkvhxm8F"
      },
      "execution_count": null,
      "outputs": []
    },
    {
      "cell_type": "markdown",
      "source": [
        "# `*` Operator"
      ],
      "metadata": {
        "id": "onyEMiJFY0QP"
      }
    },
    {
      "cell_type": "markdown",
      "source": [
        "##Unpacking Operator *"
      ],
      "metadata": {
        "id": "S-xEYPrE6-u9"
      }
    },
    {
      "cell_type": "markdown",
      "source": [
        "The * operator can unpack a list or tuple of arguments directly into a function call."
      ],
      "metadata": {
        "id": "dYMIQFps7KyV"
      }
    },
    {
      "cell_type": "code",
      "source": [
        "def add_three_numbers(a, b, c):\n",
        "  return a + b + c\n",
        "\n",
        "numbers = [1, 2, 3]\n",
        "result = add_three_numbers(*numbers)\n",
        "print(result)"
      ],
      "metadata": {
        "id": "ulllmfOE7MAB"
      },
      "execution_count": null,
      "outputs": []
    },
    {
      "cell_type": "markdown",
      "source": [
        "`add_three_numbers(*numbers)`  is Equivalent to add_three_numbers(1, 2, 3)"
      ],
      "metadata": {
        "id": "4OlSaqh0ojeu"
      }
    },
    {
      "cell_type": "markdown",
      "source": [
        "The * operator can be used to unpack lists or tuples when combining them."
      ],
      "metadata": {
        "id": "CL9sq3Pj7tt3"
      }
    },
    {
      "cell_type": "code",
      "source": [
        "list1 = [1, 2, 3]\n",
        "list2 = [4, 5, 6]\n",
        "combined_list = [list1, *list2]\n",
        "print(combined_list)\n",
        "print(combined_list[2])\n",
        "print(combined_list[0])"
      ],
      "metadata": {
        "id": "2c1nXXc67u9t"
      },
      "execution_count": null,
      "outputs": []
    },
    {
      "cell_type": "markdown",
      "source": [
        "When you need to assign multiple variables from a list or tuple, * can capture remaining elements."
      ],
      "metadata": {
        "id": "o3k3eOWd8j0C"
      }
    },
    {
      "cell_type": "code",
      "source": [
        "values = [1, 2, 3, 4, 5, 6]\n",
        "first, *middle, last = values\n",
        "print(first)\n",
        "print(middle)\n",
        "print(last)"
      ],
      "metadata": {
        "id": "w7MdVHzu8lAR"
      },
      "execution_count": null,
      "outputs": []
    },
    {
      "cell_type": "markdown",
      "source": [
        "You can use * to pass multiple items in a list or tuple as individual arguments to print()"
      ],
      "metadata": {
        "id": "ag4b5_y-8sWB"
      }
    },
    {
      "cell_type": "code",
      "source": [
        "data = [\"apple\", \"banana\", \"cherry\"]\n",
        "print(*data)"
      ],
      "metadata": {
        "id": "fKCxqrIN8tnq"
      },
      "execution_count": null,
      "outputs": []
    },
    {
      "cell_type": "markdown",
      "source": [
        "When creating a list or other data structure, * allows the elements from range() or other iterables to unpack into a single collection."
      ],
      "metadata": {
        "id": "WHreP84I_9G5"
      }
    },
    {
      "cell_type": "code",
      "source": [
        "numbers = [*range(5)]\n",
        "print(numbers)"
      ],
      "metadata": {
        "id": "M2e7D5eM__I9"
      },
      "execution_count": null,
      "outputs": []
    },
    {
      "cell_type": "markdown",
      "source": [
        "##*args"
      ],
      "metadata": {
        "id": "mVVA_OvTBr7H"
      }
    },
    {
      "cell_type": "markdown",
      "source": [
        "When defining a function, *args allows it to accept an arbitrary number of positional arguments. These arguments are collected into a tuple."
      ],
      "metadata": {
        "id": "T1J3uWymAUny"
      }
    },
    {
      "cell_type": "code",
      "source": [
        "def greet(*args):\n",
        "  for name in args:\n",
        "    print(\"Hello,\", name)\n",
        "\n",
        "greet(\"Satish\", \"Ramesh\", \"Kuldeep\")"
      ],
      "metadata": {
        "id": "qUnquvqzAV18"
      },
      "execution_count": null,
      "outputs": []
    },
    {
      "cell_type": "markdown",
      "source": [
        "You can combine *args with regular parameters, allowing a function to accept required arguments and additional optional ones."
      ],
      "metadata": {
        "id": "hXPxbyEdAd1F"
      }
    },
    {
      "cell_type": "code",
      "source": [
        "def introduce(greeting, *args):\n",
        "  print(greeting)\n",
        "  for name in args:\n",
        "    print(name)\n",
        "\n",
        "introduce(\"Welcome everyone!\", \"Satish\", \"Ramesh\", \"Kuldeep\")"
      ],
      "metadata": {
        "id": "pGreqn1-AfAG"
      },
      "execution_count": null,
      "outputs": []
    },
    {
      "cell_type": "markdown",
      "source": [
        "##**kwargs"
      ],
      "metadata": {
        "id": "SnGkiwbtn7Bl"
      }
    },
    {
      "cell_type": "markdown",
      "source": [
        "In Python, **kwargs (short for \"keyword arguments\") allows a function to accept an arbitrary number of keyword arguments. Here are its main uses:"
      ],
      "metadata": {
        "id": "U5d0ZCG9n4Xr"
      }
    },
    {
      "cell_type": "markdown",
      "source": [
        "The ' * args' can be combined with both regular and keyword arguments. However, ' * args' must come after all positional arguments and before ' ** kwargs' if used together."
      ],
      "metadata": {
        "id": "KvbWEzGsAqiN"
      }
    },
    {
      "cell_type": "code",
      "source": [
        "def display_data(title, *args, **kwargs):\n",
        "    print(\"Title:\", title)\n",
        "    print(\"Items:\", args)\n",
        "    print(\"Details:\", kwargs)\n",
        "\n",
        "display_data(\"Summary\", \"Item1\", \"Item2\", key1=\"value1\", key2=\"value2\")"
      ],
      "metadata": {
        "id": "wCP_WgVnAsS4",
        "colab": {
          "base_uri": "https://localhost:8080/"
        },
        "outputId": "b4e74a1b-fb2d-4e4c-db37-0128ae094e3b"
      },
      "execution_count": null,
      "outputs": [
        {
          "output_type": "stream",
          "name": "stdout",
          "text": [
            "Title: Summary\n",
            "Items: ('Item1', 'Item2')\n",
            "Details: {'key1': 'value1', 'key2': 'value2'}\n"
          ]
        }
      ]
    },
    {
      "cell_type": "markdown",
      "source": [
        "The double ** when used as operator can unpack a dictionary into keyword arguments."
      ],
      "metadata": {
        "id": "JkhFpxMK7WJ3"
      }
    },
    {
      "cell_type": "code",
      "source": [
        "def introduce(name, age, city):\n",
        "    print(f\"My name is {name}, I am {age} years old and I live in {city}.\")\n",
        "\n",
        "info = {\"name\": \"Kuldeep\", \"age\": 30, \"city\": \"New Delhi\"}\n",
        "introduce(**info)"
      ],
      "metadata": {
        "id": "D_puzlgg7atj"
      },
      "execution_count": null,
      "outputs": []
    },
    {
      "cell_type": "markdown",
      "source": [
        "#Iterable Helper"
      ],
      "metadata": {
        "id": "8ahHF9muqoId"
      }
    },
    {
      "cell_type": "markdown",
      "source": [
        "An iterable in Python is simply any object that can be \"looped over\" or \"iterated through.\" In other words, it’s something you can use in a for loop to get each item one by one.\n",
        "\n",
        "Think of an iterable like a list of instructions you follow step by step. It can be any collection of items, like a list, string, or even a range of numbers, where you go through each item in sequence."
      ],
      "metadata": {
        "id": "gP-_7Fc7qmmJ"
      }
    },
    {
      "cell_type": "code",
      "source": [
        "my_list = [1, 2, 3, 4]\n",
        "\n",
        "for item in my_list:\n",
        "  print(item)"
      ],
      "metadata": {
        "id": "8RgSfax6qrFx"
      },
      "execution_count": null,
      "outputs": []
    },
    {
      "cell_type": "code",
      "source": [
        "my_string = \"hello\"\n",
        "\n",
        "for char in my_string:\n",
        "  print(char)"
      ],
      "metadata": {
        "id": "zCZsPykyq0Ow"
      },
      "execution_count": null,
      "outputs": []
    },
    {
      "cell_type": "code",
      "source": [
        "for number in range(3):\n",
        "  print(number)"
      ],
      "metadata": {
        "id": "VyomBsocrFa9"
      },
      "execution_count": null,
      "outputs": []
    },
    {
      "cell_type": "code",
      "source": [
        "my_dict = {\"a\": 1, \"b\": 2}\n",
        "for key in my_dict:\n",
        "  print(key)"
      ],
      "metadata": {
        "id": "rOu_HE3vrKHe"
      },
      "execution_count": null,
      "outputs": []
    },
    {
      "cell_type": "markdown",
      "source": [
        "## ZIP: `zip` Function"
      ],
      "metadata": {
        "id": "8dzDIgFV7pZo"
      }
    },
    {
      "cell_type": "code",
      "source": [
        "list1 = [1, 2, 3, 5, 9, 78]\n",
        "list2 = [\"a\", \"b\", \"c\", \"d\"]\n",
        "combined = zip(list1, list2)\n",
        "print(combined)\n",
        "for item in combined:\n",
        "  print(item)"
      ],
      "metadata": {
        "id": "vD2H0S1eU1-9"
      },
      "execution_count": null,
      "outputs": []
    },
    {
      "cell_type": "markdown",
      "source": [
        "For an object to be considered iterable in Python, it must have one essential characteristic: it must implement the _ _ iter _ _ () method or the _ _ getitem _ _ () method. Here’s what this means in simple terms and with some advanced examples:"
      ],
      "metadata": {
        "id": "-A6FJ47XrAMv"
      }
    },
    {
      "cell_type": "markdown",
      "source": [
        "##Enumerate : `enumerate` Function"
      ],
      "metadata": {
        "id": "7yJCc3gCYFCq"
      }
    },
    {
      "cell_type": "markdown",
      "source": [
        "The enumerate() function in Python is very handy when you need both the index and the value while iterating over a sequence (like a list, tuple, or string)."
      ],
      "metadata": {
        "id": "wgxTCZrFoNfr"
      }
    },
    {
      "cell_type": "code",
      "source": [
        "losses = [0.9, 0.87,0.81, 0.76, 0.63, 0.69, 0.62, 0.58, 0.51, 0.45, 0.41, 0.38, 0.35]\n",
        "\n",
        "for step, loss in enumerate(losses, start=1):\n",
        "  if step % 4 == 0:\n",
        "    print(f\"Step {step}, Loss={loss}\")"
      ],
      "metadata": {
        "colab": {
          "base_uri": "https://localhost:8080/"
        },
        "id": "4t21BRb6psi5",
        "outputId": "a19d3b25-140d-41a8-c495-adff8cb3d1e1"
      },
      "execution_count": null,
      "outputs": [
        {
          "output_type": "stream",
          "name": "stdout",
          "text": [
            "Step 4, Loss=0.76\n",
            "Step 8, Loss=0.58\n",
            "Step 12, Loss=0.38\n"
          ]
        }
      ]
    },
    {
      "cell_type": "code",
      "source": [
        "predictions = [0, 1, 0, 1, 1]\n",
        "labels      = [0, 1, 1, 1, 0]\n",
        "\n",
        "for inedx, (pred, label) in enumerate(zip(predictions, labels)):\n",
        "  print(f\"Sample {inedx}: Pred={pred}, True={label}\")"
      ],
      "metadata": {
        "colab": {
          "base_uri": "https://localhost:8080/"
        },
        "id": "DU7i6G1lqLix",
        "outputId": "96358da5-2fb4-48e7-bd5f-d86d7f5026fa"
      },
      "execution_count": null,
      "outputs": [
        {
          "output_type": "stream",
          "name": "stdout",
          "text": [
            "Sample 0: Pred=0, True=0\n",
            "Sample 1: Pred=1, True=1\n",
            "Sample 2: Pred=0, True=1\n",
            "Sample 3: Pred=1, True=1\n",
            "Sample 4: Pred=1, True=0\n"
          ]
        }
      ]
    },
    {
      "cell_type": "code",
      "source": [
        "for inedx, (pred, label) in enumerate(zip(predictions, labels)):\n",
        "  if pred != label: print(f\"Sample {inedx}: Pred={pred}, True={label}\")"
      ],
      "metadata": {
        "colab": {
          "base_uri": "https://localhost:8080/"
        },
        "id": "mpkTdQpXrGXo",
        "outputId": "65b73f4a-7a65-4cd3-df42-edf15eef8d02"
      },
      "execution_count": null,
      "outputs": [
        {
          "output_type": "stream",
          "name": "stdout",
          "text": [
            "Sample 2: Pred=0, True=1\n",
            "Sample 4: Pred=1, True=0\n"
          ]
        }
      ]
    },
    {
      "cell_type": "code",
      "source": [
        "[\"Sample \"+ str(i)+ \" Pred \" + str(p) + \" True \" + str(l) for i, (p, l) in enumerate(zip(predictions, labels)) if p != l]"
      ],
      "metadata": {
        "colab": {
          "base_uri": "https://localhost:8080/"
        },
        "id": "Qmwsya-2ro0V",
        "outputId": "8294d19b-5950-4f46-b9ce-4f6a08f2f003"
      },
      "execution_count": null,
      "outputs": [
        {
          "output_type": "execute_result",
          "data": {
            "text/plain": [
              "['Sample 2 Pred 0 True 1', 'Sample 4 Pred 1 True 0']"
            ]
          },
          "metadata": {},
          "execution_count": 33
        }
      ]
    },
    {
      "cell_type": "markdown",
      "source": [
        "##Range : `range` Function"
      ],
      "metadata": {
        "id": "efHbHHyYYKGb"
      }
    },
    {
      "cell_type": "markdown",
      "source": [
        "In Python, `range` is a built-in function that generates a sequence of numbers. It is often used in loops (like for loops) when you want to repeat something a specific number of times or iterate over a sequence of integers."
      ],
      "metadata": {
        "id": "GsG8W1qJuDku"
      }
    },
    {
      "cell_type": "code",
      "source": [
        "x = range(11, -5, -1)\n",
        "# x = range(11, -5, -2)\n",
        "for index in x:\n",
        "  print(f\"Index {index}, Value {x[index]}\")"
      ],
      "metadata": {
        "id": "5aCDP1_fz-LP"
      },
      "execution_count": null,
      "outputs": []
    },
    {
      "cell_type": "code",
      "source": [
        "x = range(200, -100, -10)\n",
        "for index in range(len(x)):  # looping over indices\n",
        "  print(f\"Index {index}, Value {x[index]}\")"
      ],
      "metadata": {
        "id": "UYvSqwz2z3Jz"
      },
      "execution_count": null,
      "outputs": []
    },
    {
      "cell_type": "code",
      "source": [
        "epochs = 4\n",
        "for epoch in range(epochs):\n",
        "  print(f\"Training epoch {epoch+1}\")"
      ],
      "metadata": {
        "colab": {
          "base_uri": "https://localhost:8080/"
        },
        "id": "QltKz3v1uSeY",
        "outputId": "236ae4de-3321-48cd-b3f4-ed120314b3fc"
      },
      "execution_count": null,
      "outputs": [
        {
          "output_type": "stream",
          "name": "stdout",
          "text": [
            "Training epoch 1\n",
            "Training epoch 2\n",
            "Training epoch 3\n",
            "Training epoch 4\n"
          ]
        }
      ]
    },
    {
      "cell_type": "code",
      "source": [
        "x=range(40, -10, -10)\n",
        "# z=list(x)\n",
        "print(type(x))\n",
        "y=iter(x)\n",
        "print(y)"
      ],
      "metadata": {
        "colab": {
          "base_uri": "https://localhost:8080/"
        },
        "id": "xl0vnuE4ucPY",
        "outputId": "31794d1f-e4eb-4445-b455-d65e158be17e"
      },
      "execution_count": null,
      "outputs": [
        {
          "output_type": "stream",
          "name": "stdout",
          "text": [
            "<class 'range'>\n",
            "<range_iterator object at 0x7c57d95281e0>\n"
          ]
        }
      ]
    },
    {
      "cell_type": "code",
      "source": [
        "next(y)"
      ],
      "metadata": {
        "colab": {
          "base_uri": "https://localhost:8080/"
        },
        "id": "nPIbp7qGvh1P",
        "outputId": "72aeb49c-4dca-42f1-e026-26a9277e33d0"
      },
      "execution_count": null,
      "outputs": [
        {
          "output_type": "execute_result",
          "data": {
            "text/plain": [
              "40"
            ]
          },
          "metadata": {},
          "execution_count": 105
        }
      ]
    },
    {
      "cell_type": "markdown",
      "source": [
        "##`any()` Function"
      ],
      "metadata": {
        "id": "qPT0FNBleCZl"
      }
    },
    {
      "cell_type": "code",
      "source": [
        "nums = [0, 0, 5, 0]\n",
        "print(any(nums))   # True (because 5 is truthy)\n",
        "\n",
        "conditions = [x > 10 for x in [3, 15, 7]]\n",
        "print(conditions)  # [False, True, False]\n",
        "print(any(conditions))  # True (at least one condition satisfied)\n"
      ],
      "metadata": {
        "id": "Oag57EnseOAF",
        "outputId": "1f3f5243-44a8-4817-cf49-7badb1048b4e",
        "colab": {
          "base_uri": "https://localhost:8080/"
        }
      },
      "execution_count": null,
      "outputs": [
        {
          "output_type": "stream",
          "name": "stdout",
          "text": [
            "True\n",
            "[False, True, False]\n",
            "True\n"
          ]
        }
      ]
    },
    {
      "cell_type": "markdown",
      "source": [
        "##`all()` Function"
      ],
      "metadata": {
        "id": "qZhIaoVveTOg"
      }
    },
    {
      "cell_type": "code",
      "source": [
        "nums = [1, 2, 3, 4]\n",
        "print(all(nums))   # True (all nonzero)\n",
        "\n",
        "conditions = [x > 0 for x in [3, 15, -7]]\n",
        "print(conditions)  # [True, True, False]\n",
        "print(all(conditions))  # False (not all > 0)"
      ],
      "metadata": {
        "id": "cykxGBUbeZVc",
        "outputId": "7f3b1132-5208-4359-d602-41e451dad0a3",
        "colab": {
          "base_uri": "https://localhost:8080/"
        }
      },
      "execution_count": null,
      "outputs": [
        {
          "output_type": "stream",
          "name": "stdout",
          "text": [
            "True\n",
            "[True, True, False]\n",
            "False\n"
          ]
        }
      ]
    },
    {
      "cell_type": "markdown",
      "source": [
        "## `min(), max()` Functions"
      ],
      "metadata": {
        "id": "mjpk3N-7eZCf"
      }
    },
    {
      "cell_type": "code",
      "source": [
        "words = [\"python\", \"java\", \"c\", \"javascript\"]\n",
        "\n",
        "print(min(words, key=len))  # 'c' (shortest by length)\n",
        "print(max(words, key=len))  # 'javascript' (longest by length)"
      ],
      "metadata": {
        "id": "0pSRDHSAel7O",
        "outputId": "1c6c33f9-2688-46aa-95d6-885c9b540973",
        "colab": {
          "base_uri": "https://localhost:8080/"
        }
      },
      "execution_count": null,
      "outputs": [
        {
          "output_type": "stream",
          "name": "stdout",
          "text": [
            "c\n",
            "javascript\n"
          ]
        }
      ]
    },
    {
      "cell_type": "code",
      "source": [
        "students = [\n",
        "    {\"name\": \"Alice\", \"score\": 82},\n",
        "    {\"name\": \"Bob\", \"score\": 91},\n",
        "    {\"name\": \"Charlie\", \"score\": 78}\n",
        "]\n",
        "\n",
        "topper = max(students, key=lambda s: s[\"score\"])\n",
        "print(topper)  # {'name': 'Bob', 'score': 91}\n"
      ],
      "metadata": {
        "id": "EOJGdMa5enoS",
        "outputId": "557a7323-0525-4ec0-aefe-4d02cb8c11ac",
        "colab": {
          "base_uri": "https://localhost:8080/"
        }
      },
      "execution_count": null,
      "outputs": [
        {
          "output_type": "stream",
          "name": "stdout",
          "text": [
            "{'name': 'Bob', 'score': 91}\n"
          ]
        }
      ]
    },
    {
      "cell_type": "markdown",
      "source": [
        "#OOP in Python for Deep Learning"
      ],
      "metadata": {
        "id": "e6H2vb6OBweQ"
      }
    },
    {
      "cell_type": "code",
      "source": [
        "class Layer:\n",
        "  def __inti__(self):\n",
        "    self.input=None\n",
        "\n",
        "  def forward(self, input):\n",
        "    self.input = input\n",
        "    print(\"This is the Forward Method of base class for Layer\")\n",
        "    return None"
      ],
      "metadata": {
        "id": "XwShb0AFB1_2"
      },
      "execution_count": null,
      "outputs": []
    },
    {
      "cell_type": "code",
      "source": [
        "import numpy as np"
      ],
      "metadata": {
        "id": "J1UMLQSaNcNz"
      },
      "execution_count": null,
      "outputs": []
    },
    {
      "cell_type": "code",
      "source": [
        "class Dense(Layer):\n",
        "  def __init__(self, input_size, output_size):\n",
        "    self.weights = np.random.randn(output_size, input_size)\n",
        "    self.bias = np.random.randn(output_size, 1)\n",
        "\n",
        "  def forward(self, input):\n",
        "    self.input = input\n",
        "    print(\"This is the Forward Method of Dense Layer\")\n",
        "    return np.dot(self.weights, self.input) + self.bias"
      ],
      "metadata": {
        "id": "ECgTbaGOK9ag"
      },
      "execution_count": null,
      "outputs": []
    },
    {
      "cell_type": "code",
      "source": [
        "L1=Layer()\n",
        "L1.forward(3)\n",
        "L2=Dense(3,2)\n",
        "L2.weights\n",
        "L2.forward(3)"
      ],
      "metadata": {
        "id": "Z9u4mrVXPUsA"
      },
      "execution_count": null,
      "outputs": []
    },
    {
      "cell_type": "code",
      "source": [],
      "metadata": {
        "id": "zUEhALlbPYkO"
      },
      "execution_count": null,
      "outputs": []
    }
  ],
  "metadata": {
    "interpreter": {
      "hash": "aee8b7b246df8f9039afb4144a1f6fd8d2ca17a180786b69acc140d282b71a49"
    },
    "kernelspec": {
      "display_name": "Python 3.7.9 64-bit",
      "language": "python",
      "name": "python3"
    },
    "language_info": {
      "codemirror_mode": {
        "name": "ipython",
        "version": 3
      },
      "file_extension": ".py",
      "mimetype": "text/x-python",
      "name": "python",
      "nbconvert_exporter": "python",
      "pygments_lexer": "ipython3",
      "version": "3.7.9"
    },
    "orig_nbformat": 4,
    "colab": {
      "name": "03numpyFunctions.ipynb",
      "provenance": [],
      "toc_visible": true,
      "include_colab_link": true
    }
  },
  "nbformat": 4,
  "nbformat_minor": 0
}
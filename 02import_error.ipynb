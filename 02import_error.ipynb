{
  "nbformat": 4,
  "nbformat_minor": 0,
  "metadata": {
    "colab": {
      "provenance": [],
      "authorship_tag": "ABX9TyN4NyVWGPaapKearqZDwNCe",
      "include_colab_link": true
    },
    "kernelspec": {
      "name": "python3",
      "display_name": "Python 3"
    },
    "language_info": {
      "name": "python"
    }
  },
  "cells": [
    {
      "cell_type": "markdown",
      "metadata": {
        "id": "view-in-github",
        "colab_type": "text"
      },
      "source": [
        "<a href=\"https://colab.research.google.com/github/vkjadon/python/blob/main/02import_error.ipynb\" target=\"_parent\"><img src=\"https://colab.research.google.com/assets/colab-badge.svg\" alt=\"Open In Colab\"/></a>"
      ]
    },
    {
      "cell_type": "markdown",
      "source": [
        "## Google Colab\n",
        "\n",
        "Google Colaboratory, also known as Colab! is a powerful cloud-based Python environment. It provides a free Python environment for running and developing Python code. It offers an interactive Jupyter notebook interface and allows you to access powerful hardware resources such as GPUs and TPUs.\n",
        "\n",
        "Colab comes with many popular Python libraries pre-installed, such as NumPy, Pandas, and Matplotlib. You can start using them right away without worrying about installations.\n",
        "\n",
        "Your Colab notebooks are automatically saved to your Google Drive.\n",
        "\n",
        "### Using Kaggle\n",
        "\n",
        "1. Open kaggle.com\n",
        "2. Click on the kaggle icon (upper right corner) adjacent to search input.\n",
        "3. Click on the `Account`.\n",
        "4. Scroll down to locale `API`.\n",
        "5. Click on the \"Create New API Tocken\" button.\n",
        "6. A file with name \"kaggle.json\" is downloaded\n",
        "\n",
        "### Colab Side for Kaggle\n",
        "\n",
        "1. Open Colab\n",
        "2. pip install the kaggle `!pip install -q kaggle`\n",
        "3. Click on the \"Folder\" icon (last item in the first left column of the icons).\n",
        "4. Upload the Downloaded File using the upload icon. The first of the three icons appearing at top of the content tree.\n",
        "5. Create directory `!mkdir ~/.kaggle`\n",
        "6. Copy the uploaded file into the folder created in the previous step using `!cp kaggle.json ~/.kaggle/`.\n"
      ],
      "metadata": {
        "id": "uivhhUQxFZig"
      }
    },
    {
      "cell_type": "code",
      "source": [
        "!pip install -q kaggle"
      ],
      "metadata": {
        "id": "QE6qVgbAFssR"
      },
      "execution_count": 2,
      "outputs": []
    },
    {
      "cell_type": "code",
      "source": [
        "!mkdir ~/.kaggle"
      ],
      "metadata": {
        "id": "IwuNPtNyF2Df"
      },
      "execution_count": 3,
      "outputs": []
    },
    {
      "cell_type": "code",
      "source": [
        "!cp kaggle.json ~/.kaggle/\n",
        "!chmod 600 ~/.kaggle/kaggle.json"
      ],
      "metadata": {
        "id": "puVDY90BGVOT"
      },
      "execution_count": null,
      "outputs": []
    },
    {
      "cell_type": "code",
      "source": [
        "!kaggle datasets download -d ruchi798/housing-prices-in-metropolitan-areas-of-india"
      ],
      "metadata": {
        "id": "Usn-lrqfGf6Z",
        "outputId": "5f439eca-3923-4c1a-e116-d19456efebb5",
        "colab": {
          "base_uri": "https://localhost:8080/"
        }
      },
      "execution_count": 4,
      "outputs": [
        {
          "output_type": "stream",
          "name": "stdout",
          "text": [
            "Traceback (most recent call last):\n",
            "  File \"/usr/local/bin/kaggle\", line 10, in <module>\n",
            "    sys.exit(main())\n",
            "             ^^^^^^\n",
            "  File \"/usr/local/lib/python3.12/dist-packages/kaggle/cli.py\", line 68, in main\n",
            "    out = args.func(**command_args)\n",
            "          ^^^^^^^^^^^^^^^^^^^^^^^^^\n",
            "  File \"/usr/local/lib/python3.12/dist-packages/kaggle/api/kaggle_api_extended.py\", line 1741, in dataset_download_cli\n",
            "    with self.build_kaggle_client() as kaggle:\n",
            "         ^^^^^^^^^^^^^^^^^^^^^^^^^^\n",
            "  File \"/usr/local/lib/python3.12/dist-packages/kaggle/api/kaggle_api_extended.py\", line 688, in build_kaggle_client\n",
            "    username=self.config_values['username'],\n",
            "             ~~~~~~~~~~~~~~~~~~^^^^^^^^^^^^\n",
            "KeyError: 'username'\n"
          ]
        }
      ]
    },
    {
      "cell_type": "markdown",
      "source": [
        "## GIT"
      ],
      "metadata": {
        "id": "k6kDslDRGDlG"
      }
    },
    {
      "cell_type": "code",
      "source": [
        "!pwd\n",
        "%cd /content"
      ],
      "metadata": {
        "id": "dgCD3OduEEvs",
        "outputId": "0f091052-f840-4b96-c317-2415b24a2127",
        "colab": {
          "base_uri": "https://localhost:8080/"
        }
      },
      "execution_count": 1,
      "outputs": [
        {
          "output_type": "stream",
          "name": "stdout",
          "text": [
            "/content\n",
            "/content\n"
          ]
        }
      ]
    },
    {
      "cell_type": "code",
      "source": [
        "!git clone https://github.com/vkjadon/utils.git"
      ],
      "metadata": {
        "id": "4e6nCZkgEOBb",
        "outputId": "c93d57e7-c393-4e21-b112-527b640e7cdd",
        "colab": {
          "base_uri": "https://localhost:8080/"
        }
      },
      "execution_count": null,
      "outputs": [
        {
          "output_type": "stream",
          "name": "stdout",
          "text": [
            "Cloning into 'utils'...\n",
            "remote: Enumerating objects: 12, done.\u001b[K\n",
            "remote: Counting objects: 100% (12/12), done.\u001b[K\n",
            "remote: Compressing objects: 100% (11/11), done.\u001b[K\n",
            "remote: Total 12 (delta 2), reused 0 (delta 0), pack-reused 0 (from 0)\u001b[K\n",
            "Receiving objects: 100% (12/12), 5.29 KiB | 5.29 MiB/s, done.\n",
            "Resolving deltas: 100% (2/2), done.\n"
          ]
        }
      ]
    },
    {
      "cell_type": "code",
      "source": [
        "%cd utils"
      ],
      "metadata": {
        "id": "vKbBGTjgESGo",
        "outputId": "9337dbfb-990a-4188-b921-453fd4e3b3e9",
        "colab": {
          "base_uri": "https://localhost:8080/"
        }
      },
      "execution_count": null,
      "outputs": [
        {
          "output_type": "stream",
          "name": "stdout",
          "text": [
            "/content/utils\n"
          ]
        }
      ]
    },
    {
      "cell_type": "code",
      "source": [
        "!ls"
      ],
      "metadata": {
        "id": "SwHbl-D2EVuq"
      },
      "execution_count": null,
      "outputs": []
    },
    {
      "cell_type": "code",
      "source": [
        "import utils.lr_test_utils as utils"
      ],
      "metadata": {
        "id": "4DI2XZ_1EYaj"
      },
      "execution_count": null,
      "outputs": []
    },
    {
      "cell_type": "code",
      "source": [],
      "metadata": {
        "id": "Yocvgnx3FqUd"
      },
      "execution_count": null,
      "outputs": []
    },
    {
      "cell_type": "markdown",
      "source": [
        "# Import Syntax"
      ],
      "metadata": {
        "id": "9cSpEcCpdXov"
      }
    },
    {
      "cell_type": "markdown",
      "source": [
        "In Python there are three method used to import a module.  \n",
        "* **import**\n",
        "* **from ... import ...**\n",
        "* **from ... import** *\n",
        "\n",
        "The import statements add the functionality to use functions and classes of the imported modules."
      ],
      "metadata": {
        "id": "KQHejEz0cYk_"
      }
    },
    {
      "cell_type": "markdown",
      "source": [
        "## Using import module_name"
      ],
      "metadata": {
        "id": "qN1my7HRde1O"
      }
    },
    {
      "cell_type": "markdown",
      "source": [
        "This statement imports the entire module, and you must reference the module name each time you use it."
      ],
      "metadata": {
        "id": "DmAODyG9b0IZ"
      }
    },
    {
      "cell_type": "code",
      "source": [
        "import math\n",
        "\n",
        "number = 16\n",
        "\n",
        "print(\"Math sqrt:\", math.sqrt(number))"
      ],
      "metadata": {
        "colab": {
          "base_uri": "https://localhost:8080/"
        },
        "id": "00qzI6Z_hm87",
        "outputId": "fdb42865-2960-4f2e-b2f3-86c4c52a872d"
      },
      "execution_count": null,
      "outputs": [
        {
          "output_type": "stream",
          "name": "stdout",
          "text": [
            "Math sqrt: 4.0\n"
          ]
        }
      ]
    },
    {
      "cell_type": "code",
      "execution_count": null,
      "metadata": {
        "colab": {
          "base_uri": "https://localhost:8080/"
        },
        "id": "HDrARVRtQz5W",
        "outputId": "83805325-4042-4171-c526-d7506bcff989"
      },
      "outputs": [
        {
          "output_type": "stream",
          "name": "stdout",
          "text": [
            "NumPy sqrt: [1. 2. 3. 4.]\n"
          ]
        }
      ],
      "source": [
        "import numpy as np\n",
        "\n",
        "array = np.array([1, 4, 9, 16])\n",
        "\n",
        "print(\"NumPy sqrt:\", np.sqrt(array))"
      ]
    },
    {
      "cell_type": "markdown",
      "source": [
        "## Using from ... import ..."
      ],
      "metadata": {
        "id": "OR1tqv7rdpMJ"
      }
    },
    {
      "cell_type": "markdown",
      "source": [
        "This statement imports specific attributes from the module, allowing you to use them directly without referencing the module name."
      ],
      "metadata": {
        "id": "9fhFF6EucF6H"
      }
    },
    {
      "cell_type": "code",
      "source": [
        "from numpy import sqrt\n",
        "\n",
        "print(\"NumPy sqrt:\", sqrt(array))"
      ],
      "metadata": {
        "colab": {
          "base_uri": "https://localhost:8080/"
        },
        "id": "lHRhScEPQ6-5",
        "outputId": "75597a16-25c6-4b2d-f98c-72d6cca17675"
      },
      "execution_count": null,
      "outputs": [
        {
          "output_type": "stream",
          "name": "stdout",
          "text": [
            "NumPy sqrt: [1. 2. 3. 4.]\n"
          ]
        }
      ]
    },
    {
      "cell_type": "code",
      "source": [
        "from math import sqrt\n",
        "\n",
        "print(\"Math sqrt:\", sqrt(number))"
      ],
      "metadata": {
        "colab": {
          "base_uri": "https://localhost:8080/"
        },
        "id": "TelIZm4Zh901",
        "outputId": "710e49a0-22f8-40f3-b8ac-6df2780c3f3e"
      },
      "execution_count": null,
      "outputs": [
        {
          "output_type": "stream",
          "name": "stdout",
          "text": [
            "Math sqrt: 4.0\n"
          ]
        }
      ]
    },
    {
      "cell_type": "code",
      "source": [
        "from numpy import sqrt as np_sqrt\n",
        "\n",
        "print(\"NumPy sqrt:\", np_sqrt(array))"
      ],
      "metadata": {
        "colab": {
          "base_uri": "https://localhost:8080/"
        },
        "id": "m1z2ix5xibFB",
        "outputId": "0820848f-3979-4529-9d81-53ccd4e12760"
      },
      "execution_count": null,
      "outputs": [
        {
          "output_type": "stream",
          "name": "stdout",
          "text": [
            "NumPy sqrt: [1. 2. 3. 4.]\n"
          ]
        }
      ]
    },
    {
      "cell_type": "code",
      "source": [
        "from math import sqrt as math_sqrt\n",
        "\n",
        "print(\"Math sqrt:\", sqrt(number))"
      ],
      "metadata": {
        "colab": {
          "base_uri": "https://localhost:8080/"
        },
        "id": "aGXXCHCxh2lW",
        "outputId": "6787a4aa-14f5-45c7-a8aa-ab200f63ad53"
      },
      "execution_count": null,
      "outputs": [
        {
          "output_type": "stream",
          "name": "stdout",
          "text": [
            "Math sqrt: 4.0\n"
          ]
        }
      ]
    },
    {
      "cell_type": "markdown",
      "source": [
        "## Using from ... import *"
      ],
      "metadata": {
        "id": "ahV6FLSbdybc"
      }
    },
    {
      "cell_type": "markdown",
      "source": [
        "This imports all attributes from the module into the current namespace."
      ],
      "metadata": {
        "id": "CF7ZFR9ocIwV"
      }
    },
    {
      "cell_type": "code",
      "source": [
        "from math import *\n",
        "from numpy import *\n",
        "\n",
        "array = np.array([1, 4, 9, 16])\n",
        "number = 16\n",
        "\n",
        "print(\"Math sqrt:\", sqrt(number))\n",
        "print(\"Sqrt:\", sqrt(array))"
      ],
      "metadata": {
        "colab": {
          "base_uri": "https://localhost:8080/"
        },
        "id": "Kql6K3WAio0K",
        "outputId": "7d9b87cb-bc48-4978-ceef-b4fb762ba1d4"
      },
      "execution_count": null,
      "outputs": [
        {
          "output_type": "stream",
          "name": "stdout",
          "text": [
            "Math sqrt: 4.0\n",
            "Sqrt: [1. 2. 3. 4.]\n"
          ]
        }
      ]
    },
    {
      "cell_type": "markdown",
      "source": [
        "Change the order of the import statements and see the results"
      ],
      "metadata": {
        "id": "9M5jDHzjeC7Y"
      }
    },
    {
      "cell_type": "markdown",
      "source": [
        "##Handling Error"
      ],
      "metadata": {
        "id": "OpCRgJOEuNSl"
      }
    },
    {
      "cell_type": "markdown",
      "source": [
        "Provides a robust way to handle exceptions and ensures your code can gracefully deal unexpected conditions without crashing.\n",
        "\n",
        "Issues that occur at the compilation stage are errors.  \n",
        "Examples:  \n",
        "* SyntaxError : Incorrect Python syntax.\n",
        "* IndentationError : Incorrect indentation.\n",
        "\n",
        "An exception is an event that disrupts the program's execution but can be handled programmatically.   \n",
        "Examples:  \n",
        "* ZeroDivisionError : Incorrect Python syntax.\n",
        "* FileNotFoundError : Incorrect indentation."
      ],
      "metadata": {
        "id": "4IxCUsUo3cR1"
      }
    },
    {
      "cell_type": "code",
      "source": [
        "x=y"
      ],
      "metadata": {
        "colab": {
          "base_uri": "https://localhost:8080/",
          "height": 144
        },
        "id": "pwJRuPe33but",
        "outputId": "66678f5f-b9c4-4a0d-d532-43c887d6321c"
      },
      "execution_count": null,
      "outputs": [
        {
          "output_type": "error",
          "ename": "NameError",
          "evalue": "name 'y' is not defined",
          "traceback": [
            "\u001b[0;31m---------------------------------------------------------------------------\u001b[0m",
            "\u001b[0;31mNameError\u001b[0m                                 Traceback (most recent call last)",
            "\u001b[0;32m/tmp/ipython-input-4161764737.py\u001b[0m in \u001b[0;36m<cell line: 0>\u001b[0;34m()\u001b[0m\n\u001b[0;32m----> 1\u001b[0;31m \u001b[0mx\u001b[0m\u001b[0;34m=\u001b[0m\u001b[0my\u001b[0m\u001b[0;34m\u001b[0m\u001b[0;34m\u001b[0m\u001b[0m\n\u001b[0m",
            "\u001b[0;31mNameError\u001b[0m: name 'y' is not defined"
          ]
        }
      ]
    },
    {
      "cell_type": "markdown",
      "source": [
        "We can provide custom error messages that are more informative and user-friendly than the default traceback."
      ],
      "metadata": {
        "id": "hmb0GNNc3tl8"
      }
    },
    {
      "cell_type": "code",
      "source": [
        "try:\n",
        "  x=y\n",
        "except Exception:\n",
        "  print(\"An exception occurred\")"
      ],
      "metadata": {
        "colab": {
          "base_uri": "https://localhost:8080/"
        },
        "id": "KkCRG_gk3hqP",
        "outputId": "4e4a6bba-2b85-4730-f680-3b6ab630b620"
      },
      "execution_count": null,
      "outputs": [
        {
          "output_type": "stream",
          "name": "stdout",
          "text": [
            "An exception occurred\n"
          ]
        }
      ]
    },
    {
      "cell_type": "markdown",
      "source": [
        "Keeping the main logic (try) and exceptions handling (except) separate makes the code cleaner and easier to understand"
      ],
      "metadata": {
        "id": "TemahumK3zep"
      }
    },
    {
      "cell_type": "code",
      "source": [
        "try:\n",
        "  x=y\n",
        "except NameError:\n",
        "  print(\"NameError exception occurred\")"
      ],
      "metadata": {
        "colab": {
          "base_uri": "https://localhost:8080/"
        },
        "id": "enFJpMy83nBx",
        "outputId": "12740fba-f0c6-483f-df80-461d9d21f675"
      },
      "execution_count": null,
      "outputs": [
        {
          "output_type": "stream",
          "name": "stdout",
          "text": [
            "NameError exception occurred\n"
          ]
        }
      ]
    },
    {
      "cell_type": "markdown",
      "source": [
        "Another method to handle the exception is the use of default clean error message"
      ],
      "metadata": {
        "id": "KU39wrbW38Cw"
      }
    },
    {
      "cell_type": "code",
      "source": [
        "try:\n",
        "  x=y\n",
        "except Exception as error:\n",
        "  print(error)"
      ],
      "metadata": {
        "colab": {
          "base_uri": "https://localhost:8080/"
        },
        "id": "Yxo0tmrc33n6",
        "outputId": "af863d70-32d9-4b13-cf77-57010ee0dcde"
      },
      "execution_count": null,
      "outputs": [
        {
          "output_type": "stream",
          "name": "stdout",
          "text": [
            "name 'y' is not defined\n"
          ]
        }
      ]
    },
    {
      "cell_type": "code",
      "source": [
        "try:\n",
        "  x=y\n",
        "except Exception as error:\n",
        "  print(\"NameError exception occurred\")\n",
        "  print(error)"
      ],
      "metadata": {
        "colab": {
          "base_uri": "https://localhost:8080/"
        },
        "id": "uKnV7lnt3-27",
        "outputId": "9ec54b43-561d-4f1c-c7e1-9aef7cd32c51"
      },
      "execution_count": null,
      "outputs": [
        {
          "output_type": "stream",
          "name": "stdout",
          "text": [
            "NameError exception occurred\n",
            "name 'y' is not defined\n"
          ]
        }
      ]
    },
    {
      "cell_type": "code",
      "source": [
        "test_file=open(\"test.txt\")\n",
        "x=9"
      ],
      "metadata": {
        "colab": {
          "base_uri": "https://localhost:8080/",
          "height": 162
        },
        "id": "v_wJRnyB4Fma",
        "outputId": "9dce8a55-f997-4685-dccb-18c0667ef95e"
      },
      "execution_count": null,
      "outputs": [
        {
          "output_type": "error",
          "ename": "FileNotFoundError",
          "evalue": "[Errno 2] No such file or directory: 'test.txt'",
          "traceback": [
            "\u001b[0;31m---------------------------------------------------------------------------\u001b[0m",
            "\u001b[0;31mFileNotFoundError\u001b[0m                         Traceback (most recent call last)",
            "\u001b[0;32m/tmp/ipython-input-157767763.py\u001b[0m in \u001b[0;36m<cell line: 0>\u001b[0;34m()\u001b[0m\n\u001b[0;32m----> 1\u001b[0;31m \u001b[0mtest_file\u001b[0m\u001b[0;34m=\u001b[0m\u001b[0mopen\u001b[0m\u001b[0;34m(\u001b[0m\u001b[0;34m\"test.txt\"\u001b[0m\u001b[0;34m)\u001b[0m\u001b[0;34m\u001b[0m\u001b[0;34m\u001b[0m\u001b[0m\n\u001b[0m\u001b[1;32m      2\u001b[0m \u001b[0mx\u001b[0m\u001b[0;34m=\u001b[0m\u001b[0;36m9\u001b[0m\u001b[0;34m\u001b[0m\u001b[0;34m\u001b[0m\u001b[0m\n",
            "\u001b[0;31mFileNotFoundError\u001b[0m: [Errno 2] No such file or directory: 'test.txt'"
          ]
        }
      ]
    },
    {
      "cell_type": "code",
      "source": [
        "try:\n",
        "  test_file=open(\"test.txt\")\n",
        "  x=y\n",
        "except FileNotFoundError as error :\n",
        "  print(error)\n",
        "except Exception as error :\n",
        "  print(error)"
      ],
      "metadata": {
        "colab": {
          "base_uri": "https://localhost:8080/"
        },
        "id": "KVlOEKkL4GhF",
        "outputId": "7bff634e-e535-4364-97bc-1049ddda4422"
      },
      "execution_count": null,
      "outputs": [
        {
          "output_type": "stream",
          "name": "stdout",
          "text": [
            "[Errno 2] No such file or directory: 'test.txt'\n"
          ]
        }
      ]
    },
    {
      "cell_type": "markdown",
      "source": [
        "The finally block is used to ensure that resources are cleaned up properly, such as closing files or network connections, regardless of whether an exception was raised."
      ],
      "metadata": {
        "id": "bNcs-y2a4Nhd"
      }
    },
    {
      "cell_type": "code",
      "source": [
        "try:\n",
        "  test_file=open(\"test.txt\")\n",
        "  x=9\n",
        "except FileNotFoundError as error :\n",
        "  print(\"B\", error)\n",
        "except Exception as error :\n",
        "  print(\"A\", error)\n",
        "else :\n",
        "  print(test_file.read())\n",
        "  test_file.close()\n",
        "finally:\n",
        "  print(\"Running Anyway ! Close all running tasks in this block\")"
      ],
      "metadata": {
        "colab": {
          "base_uri": "https://localhost:8080/"
        },
        "id": "xWpPxyqo4MrQ",
        "outputId": "01341fa0-38e3-4328-9c3e-bda76f5ce0cf"
      },
      "execution_count": null,
      "outputs": [
        {
          "output_type": "stream",
          "name": "stdout",
          "text": [
            "B [Errno 2] No such file or directory: 'test.txt'\n",
            "Running Anyway ! Close all running tasks in this block\n"
          ]
        }
      ]
    },
    {
      "cell_type": "markdown",
      "source": [
        "https://python.readthedocs.io/en/v2.7.2/library/exceptions.html"
      ],
      "metadata": {
        "id": "2172g_Ul4TqC"
      }
    },
    {
      "cell_type": "markdown",
      "source": [
        "https://docs.python.org/3/library/exceptions.html"
      ],
      "metadata": {
        "id": "74B9J_rn4W2p"
      }
    },
    {
      "cell_type": "code",
      "source": [
        "!pwd"
      ],
      "metadata": {
        "colab": {
          "base_uri": "https://localhost:8080/"
        },
        "id": "NOUE2HUwCtwO",
        "outputId": "77fbd1d4-59f2-44ae-c1a6-1060c863b273"
      },
      "execution_count": null,
      "outputs": [
        {
          "output_type": "stream",
          "name": "stdout",
          "text": [
            "/root\n"
          ]
        }
      ]
    },
    {
      "cell_type": "code",
      "source": [
        "%cd /content"
      ],
      "metadata": {
        "colab": {
          "base_uri": "https://localhost:8080/"
        },
        "id": "NygOiZ-fCzR6",
        "outputId": "029a21e2-fb0a-4047-d776-f27c3b855994"
      },
      "execution_count": null,
      "outputs": [
        {
          "output_type": "stream",
          "name": "stdout",
          "text": [
            "/content\n"
          ]
        }
      ]
    },
    {
      "cell_type": "code",
      "source": [
        "!git clone https://github.com/vkjadon/utils.git"
      ],
      "metadata": {
        "colab": {
          "base_uri": "https://localhost:8080/"
        },
        "id": "qD-lO3g74UGI",
        "outputId": "0cfcea53-cfcc-4d44-e1bb-3f09f6cf9a07"
      },
      "execution_count": null,
      "outputs": [
        {
          "output_type": "stream",
          "name": "stdout",
          "text": [
            "Cloning into 'utils'...\n",
            "remote: Enumerating objects: 12, done.\u001b[K\n",
            "remote: Counting objects: 100% (12/12), done.\u001b[K\n",
            "remote: Compressing objects: 100% (11/11), done.\u001b[K\n",
            "Receiving objects: 100% (12/12), 5.29 KiB | 5.29 MiB/s, done.\n",
            "Resolving deltas: 100% (2/2), done.\n",
            "remote: Total 12 (delta 2), reused 0 (delta 0), pack-reused 0 (from 0)\u001b[K\n"
          ]
        }
      ]
    },
    {
      "cell_type": "code",
      "metadata": {
        "id": "584de84b",
        "colab": {
          "base_uri": "https://localhost:8080/"
        },
        "outputId": "407cde14-dbba-4058-838b-d4ffa2e3dd2f"
      },
      "source": [
        "%cd /content\n",
        "!pwd"
      ],
      "execution_count": null,
      "outputs": [
        {
          "output_type": "stream",
          "name": "stdout",
          "text": [
            "/content\n",
            "/content\n"
          ]
        }
      ]
    },
    {
      "cell_type": "code",
      "source": [
        "!ls"
      ],
      "metadata": {
        "id": "2IzCOFT0LRv7",
        "outputId": "7f9b0915-8aa9-4e7b-fec5-f4e89d8ea93b",
        "colab": {
          "base_uri": "https://localhost:8080/"
        }
      },
      "execution_count": null,
      "outputs": [
        {
          "output_type": "stream",
          "name": "stdout",
          "text": [
            "__pycache__  python  sample_data  utils\n"
          ]
        }
      ]
    },
    {
      "cell_type": "code",
      "source": [
        "%%writefile module_first.py\n",
        "\n",
        "def main():\n",
        "    print(f\"This is the main() function of First Module and the name of the First Module is {__name__} \")\n",
        "\n",
        "if __name__=='__main__':\n",
        "  main()\n",
        "\n",
        "else:\n",
        "    print(\"This is outside the main() function of First Module\")"
      ],
      "metadata": {
        "colab": {
          "base_uri": "https://localhost:8080/"
        },
        "id": "HVBU0RJdKWsi",
        "outputId": "43642330-2449-4aab-cd9b-4f849e641a54"
      },
      "execution_count": null,
      "outputs": [
        {
          "output_type": "stream",
          "name": "stdout",
          "text": [
            "Overwriting module_first.py\n"
          ]
        }
      ]
    },
    {
      "cell_type": "code",
      "source": [
        "!python module_first.py"
      ],
      "metadata": {
        "colab": {
          "base_uri": "https://localhost:8080/"
        },
        "id": "YpjX0k58Ks_L",
        "outputId": "eae63489-39d3-4e51-8978-5f2a8fc86ffe"
      },
      "execution_count": null,
      "outputs": [
        {
          "output_type": "stream",
          "name": "stdout",
          "text": [
            "This is the main() function of First Module and the name of the First Module is __main__ \n"
          ]
        }
      ]
    },
    {
      "cell_type": "code",
      "source": [
        "%%writefile module_second.py\n",
        "\n",
        "import module_first\n",
        "\n",
        "print(\"Imported 'module_first' So, above is the output from import command\")\n",
        "\n",
        "#Running main of imported 'module_first'\n",
        "#print(\"Below is the output of invoking main() method of First Module\")\n",
        "#module_first.main()\n",
        "\n",
        "def main():\n",
        "    print(f\"The name of the Second Module is {__name__} \")\n",
        "\n",
        "if __name__=='__main__':\n",
        "    main()"
      ],
      "metadata": {
        "colab": {
          "base_uri": "https://localhost:8080/"
        },
        "id": "kebBRp9PKwT7",
        "outputId": "e5134266-58d1-447f-e178-d9706f90d902"
      },
      "execution_count": null,
      "outputs": [
        {
          "output_type": "stream",
          "name": "stdout",
          "text": [
            "Overwriting module_second.py\n"
          ]
        }
      ]
    },
    {
      "cell_type": "code",
      "source": [
        "!python module_second.py"
      ],
      "metadata": {
        "colab": {
          "base_uri": "https://localhost:8080/"
        },
        "id": "5beLtoIKK5eQ",
        "outputId": "ab936772-020e-404f-adb7-6a0b95b04e7e"
      },
      "execution_count": null,
      "outputs": [
        {
          "output_type": "stream",
          "name": "stdout",
          "text": [
            "This is outside the main() function of First Module\n",
            "Imported 'module_first' So, above is the output from import command\n",
            "The name of the Second Module is __main__ \n"
          ]
        }
      ]
    }
  ]
}
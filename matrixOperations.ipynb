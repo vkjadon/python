{
  "cells": [
    {
      "cell_type": "code",
      "execution_count": null,
      "metadata": {
        "id": "x48IyVznIWhs"
      },
      "outputs": [],
      "source": [
        "import numpy as np"
      ]
    },
    {
      "cell_type": "code",
      "execution_count": null,
      "metadata": {
        "id": "k4W9sXkGIWhw",
        "outputId": "c0c24116-b441-4eee-9e4b-53c5e1d21a65",
        "colab": {
          "base_uri": "https://localhost:8080/"
        }
      },
      "outputs": [
        {
          "output_type": "stream",
          "name": "stdout",
          "text": [
            "Eigen Values =  [ 1. -1.]\n",
            "Eigen Vector =  [[ 0.71 -0.71]\n",
            " [ 0.71  0.71]]\n"
          ]
        }
      ],
      "source": [
        "a = np.array([[0, 1], [1, 0]])\n",
        "eigenValues, eigenVector=np.linalg.eig(a)\n",
        "print('Eigen Values = ',eigenValues)\n",
        "print('Eigen Vector = ',np.round(eigenVector,2))"
      ]
    },
    {
      "cell_type": "code",
      "execution_count": null,
      "metadata": {
        "id": "CACmhafMIWhx",
        "outputId": "033d8346-46e2-4ffd-a27d-640f9aa521a1",
        "colab": {
          "base_uri": "https://localhost:8080/"
        }
      },
      "outputs": [
        {
          "output_type": "stream",
          "name": "stdout",
          "text": [
            "Rank of Matrix =  3\n"
          ]
        }
      ],
      "source": [
        "A = np.matrix([[1,2,7],[2,8,3],[7,8,1]])\n",
        "rank=np.linalg.matrix_rank(A)\n",
        "print('Rank of Matrix = ',rank)"
      ]
    },
    {
      "cell_type": "code",
      "execution_count": null,
      "metadata": {
        "id": "6m_fikeqIWhx",
        "outputId": "fe8715a7-4ce6-4c9d-b9a0-228ca5e97ad5",
        "colab": {
          "base_uri": "https://localhost:8080/"
        }
      },
      "outputs": [
        {
          "output_type": "stream",
          "name": "stdout",
          "text": [
            "Horizontal Append: [1 2 3 4 5 6]\n",
            "Vertical Append: [[1 2 3]\n",
            " [4 5 6]]\n",
            "Vertical Stack [[1 1 2]\n",
            " [2 2 3]\n",
            " [4 3 3]\n",
            " [5 1 2]\n",
            " [6 2 3]\n",
            " [7 3 4]]\n",
            "7\n"
          ]
        }
      ],
      "source": [
        "f = np.array([1,2,3])\n",
        "g = np.array([4,5,6])\n",
        "\n",
        "print('Horizontal Append:', np.hstack((f, g)))\n",
        "\n",
        "print('Vertical Append:', np.vstack((f, g)))\n",
        "\n",
        "a = np.array([[1,1,2], [2,2,3], [4,3,3]])\n",
        "b = np.array([[5,1,2], [6,2,3], [7,3,4]])\n",
        "stack=np.vstack((a,b))\n",
        "print('Vertical Stack', stack)\n",
        "print(stack[5][0])"
      ]
    },
    {
      "cell_type": "markdown",
      "metadata": {
        "id": "jx1V71t7IWhy"
      },
      "source": [
        "Consider random arrays of shape `a(4,3)` and `b(3,2)`. \n",
        "`np.dot(a, b)` has shape equal to number of rows of `a`, number of columns of `b` \n",
        "\n",
        "- In numpy the `*` operator indicates element-wise multiplication and is different from `np.dot`. \n",
        "\n",
        "- Dot Product is also known as inner product"
      ]
    },
    {
      "cell_type": "code",
      "execution_count": null,
      "metadata": {
        "id": "YuXebW8JIWhz",
        "outputId": "f18163f8-8cd3-475d-8670-fe874e2f0378",
        "colab": {
          "base_uri": "https://localhost:8080/",
          "height": 218
        }
      },
      "outputs": [
        {
          "output_type": "error",
          "ename": "ValueError",
          "evalue": "ignored",
          "traceback": [
            "\u001b[0;31m---------------------------------------------------------------------------\u001b[0m",
            "\u001b[0;31mValueError\u001b[0m                                Traceback (most recent call last)",
            "\u001b[0;32m<ipython-input-9-e11d0d42acd0>\u001b[0m in \u001b[0;36m<module>\u001b[0;34m()\u001b[0m\n\u001b[1;32m      2\u001b[0m \u001b[0;31m#a=np.random.randn(3,2)\u001b[0m\u001b[0;34m\u001b[0m\u001b[0;34m\u001b[0m\u001b[0;34m\u001b[0m\u001b[0m\n\u001b[1;32m      3\u001b[0m \u001b[0mb\u001b[0m\u001b[0;34m=\u001b[0m\u001b[0mnp\u001b[0m\u001b[0;34m.\u001b[0m\u001b[0mrandom\u001b[0m\u001b[0;34m.\u001b[0m\u001b[0mrandn\u001b[0m\u001b[0;34m(\u001b[0m\u001b[0;36m3\u001b[0m\u001b[0;34m,\u001b[0m\u001b[0;36m2\u001b[0m\u001b[0;34m)\u001b[0m\u001b[0;34m\u001b[0m\u001b[0;34m\u001b[0m\u001b[0m\n\u001b[0;32m----> 4\u001b[0;31m \u001b[0mc\u001b[0m\u001b[0;34m=\u001b[0m\u001b[0ma\u001b[0m\u001b[0;34m*\u001b[0m\u001b[0mb\u001b[0m\u001b[0;34m\u001b[0m\u001b[0;34m\u001b[0m\u001b[0m\n\u001b[0m\u001b[1;32m      5\u001b[0m \u001b[0mprint\u001b[0m\u001b[0;34m(\u001b[0m\u001b[0mc\u001b[0m\u001b[0;34m)\u001b[0m\u001b[0;34m\u001b[0m\u001b[0;34m\u001b[0m\u001b[0m\n",
            "\u001b[0;31mValueError\u001b[0m: operands could not be broadcast together with shapes (4,3) (3,2) "
          ]
        }
      ],
      "source": [
        "a=np.random.randn(4,3)\n",
        "#a=np.random.randn(3,2)\n",
        "b=np.random.randn(3,2)\n",
        "c=a*b\n",
        "print(c)"
      ]
    },
    {
      "cell_type": "markdown",
      "metadata": {
        "id": "YKdctWIZIWh0"
      },
      "source": [
        "<span style=\"color:blue;\">To perform element-wise multiplication, the dimension of both the arrays must be the same.</span>\n",
        "\n",
        "<span style=\"color:brown\">The other method is broadcating.</span>\n"
      ]
    },
    {
      "cell_type": "code",
      "execution_count": null,
      "metadata": {
        "id": "4iEvHrzEIWh1",
        "outputId": "b6ca0d7d-d6bb-4aef-aa0f-09e6f22a081a",
        "colab": {
          "base_uri": "https://localhost:8080/"
        }
      },
      "outputs": [
        {
          "output_type": "stream",
          "name": "stdout",
          "text": [
            "[[  0  11  24]\n",
            " [ 39  56  75]\n",
            " [ 96 119 144]\n",
            " [171 200 231]]\n"
          ]
        }
      ],
      "source": [
        "a=np.arange(12).reshape(4,3)\n",
        "b=np.arange(10,22).reshape(4,3)\n",
        "c=a*b\n",
        "print(c)"
      ]
    },
    {
      "cell_type": "code",
      "execution_count": null,
      "metadata": {
        "id": "edbh2OGMIWh2",
        "outputId": "eec74ded-d92c-4305-c059-15ccf3812374",
        "colab": {
          "base_uri": "https://localhost:8080/"
        }
      },
      "outputs": [
        {
          "output_type": "stream",
          "name": "stdout",
          "text": [
            "The columns and rows condition not satisfied\n"
          ]
        }
      ],
      "source": [
        "a=np.random.randn(256,15)\n",
        "b=np.random.randn(15,5)\n",
        "c=np.dot(a,b)\n",
        "c.shape"
      ]
    },
    {
      "cell_type": "markdown",
      "metadata": {
        "id": "KXg_1l34IWh3"
      },
      "source": [
        "To perform `dot product` on two muti-dimension arrays, the last dimension of the first array should be equal to last but one dimension of second array. So check `a.shape[-1]==b.shape[-2]`"
      ]
    },
    {
      "cell_type": "code",
      "execution_count": null,
      "metadata": {
        "id": "xU2RL33-IWh3",
        "outputId": "16ef0936-c863-4573-f484-303e704b88ff",
        "colab": {
          "base_uri": "https://localhost:8080/"
        }
      },
      "outputs": [
        {
          "output_type": "stream",
          "name": "stdout",
          "text": [
            "15 15\n"
          ]
        },
        {
          "output_type": "execute_result",
          "data": {
            "text/plain": [
              "True"
            ]
          },
          "metadata": {},
          "execution_count": 14
        }
      ],
      "source": [
        "print(a.shape[-1], b.shape[-2])\n",
        "a.shape[-1] == b.shape[-2]"
      ]
    },
    {
      "cell_type": "code",
      "source": [
        "a=np.random.randn(256,16)\n",
        "b=np.random.randn(15,5)\n",
        "if(a.shape[1] == b.shape[0]):\n",
        "  c=np.dot(a,b)\n",
        "  c.shape\n",
        "  print(c)\n",
        "else:\n",
        "  print(\"The columns and rows condition not satisfied\")"
      ],
      "metadata": {
        "id": "lNWyYHPyIuM6"
      },
      "execution_count": null,
      "outputs": []
    },
    {
      "cell_type": "code",
      "execution_count": null,
      "metadata": {
        "id": "SVkasqN-IWh3",
        "outputId": "696b6db7-a4ea-4bc4-9906-76bc0f872f22",
        "colab": {
          "base_uri": "https://localhost:8080/"
        }
      },
      "outputs": [
        {
          "output_type": "stream",
          "name": "stdout",
          "text": [
            "Shape of a+b.T  (3, 4)\n",
            "Shape of a.T+b  (4, 3)\n"
          ]
        }
      ],
      "source": [
        "a=np.random.randn(3,4)\n",
        "b=np.random.randn(4,1)\n",
        "c=a+b.T\n",
        "print(\"Shape of a+b.T \",c.shape)\n",
        "c=a.T+b\n",
        "print(\"Shape of a.T+b \",c.shape)"
      ]
    },
    {
      "cell_type": "code",
      "execution_count": null,
      "metadata": {
        "id": "u10oFOICIWh4",
        "outputId": "6477ed09-3d1f-4923-a348-e69450d37c35",
        "colab": {
          "base_uri": "https://localhost:8080/"
        }
      },
      "outputs": [
        {
          "output_type": "stream",
          "name": "stdout",
          "text": [
            "[[-1.5580882   1.05733325 -0.33846978]\n",
            " [-1.49086263  1.33664475 -1.25737294]\n",
            " [ 0.44572928 -0.26445954  0.48027482]]\n"
          ]
        }
      ],
      "source": [
        "a=np.random.randn(3,3)\n",
        "b=np.random.randn(3,1)\n",
        "c=a*b\n",
        "print(c)"
      ]
    },
    {
      "cell_type": "markdown",
      "metadata": {
        "id": "5_S1GvgEIWh4"
      },
      "source": [
        "if x is a vector, then a Python operation such as $s = x + 3$ or $s = \\frac{1}{x}$ will output s as a vector of the same size as x."
      ]
    },
    {
      "cell_type": "code",
      "execution_count": null,
      "metadata": {
        "id": "7WpeyOW7IWh4",
        "outputId": "dd8d31ec-e35e-4ae6-ea09-74f8de601f78",
        "colab": {
          "base_uri": "https://localhost:8080/"
        }
      },
      "outputs": [
        {
          "output_type": "stream",
          "name": "stdout",
          "text": [
            "[[-1.039132    0.70516471 -0.22573484]\n",
            " [ 1.67919837 -1.50549865  1.41621269]\n",
            " [ 1.12516319 -0.66758042  1.21236717]]\n",
            "[[1.960868   3.70516471 2.77426516]\n",
            " [4.67919837 1.49450135 4.41621269]\n",
            " [4.12516319 2.33241958 4.21236717]]\n",
            "[[13.726076   25.93615297 19.41985615]\n",
            " [32.75438857 10.46150946 30.91348886]\n",
            " [28.87614235 16.32693708 29.48657021]]\n"
          ]
        }
      ],
      "source": [
        "print(a)\n",
        "b=a+3\n",
        "print(b)\n",
        "b=b*7\n",
        "print(b)"
      ]
    },
    {
      "cell_type": "markdown",
      "metadata": {
        "id": "gc993K66IWh5"
      },
      "source": [
        "Create an array corresponding to `(px_x*px_y*3)` and reshape to `(px_x, px_y,3)` and use `image.shape[0]`, `image.shape[1]` and `image.shape[2]`  \n",
        "\n",
        "We can also use `image.reshape(-1,1)` for arranging all elements in a column vector. `-1` represnt unknown rows.  \n",
        "\n",
        "We can also use `(1,-1)` for unknown columns and one row if required. "
      ]
    },
    {
      "cell_type": "code",
      "execution_count": null,
      "metadata": {
        "id": "YXbyKSPIIWh5"
      },
      "outputs": [],
      "source": [
        "a=np.random.randn(4*4*3)\n",
        "image=a.reshape(4,4,3)\n",
        "image.shape[0]\n",
        "image.reshape(-1,1)"
      ]
    },
    {
      "cell_type": "code",
      "execution_count": null,
      "metadata": {
        "id": "hBZm0b_EIWh5"
      },
      "outputs": [],
      "source": [
        "image.reshape(1,-1)"
      ]
    },
    {
      "cell_type": "code",
      "execution_count": null,
      "metadata": {
        "id": "5R0gaI3hIWh5"
      },
      "outputs": [],
      "source": [
        "a=np.array([[1,4, 5],[3,5,8]])  \n",
        "b=np.sum(a,axis=1)  # 0 is column and 1 is row\n",
        "b  "
      ]
    },
    {
      "cell_type": "code",
      "execution_count": null,
      "metadata": {
        "id": "dHEjfCdTIWh6",
        "outputId": "3c5096e9-959b-42f8-9be5-397136dc7ee7",
        "colab": {
          "base_uri": "https://localhost:8080/"
        }
      },
      "outputs": [
        {
          "output_type": "stream",
          "name": "stdout",
          "text": [
            "dot using for loop Computation time = 10.708328999996297ms\n",
            "dot without loop Computation time = 0.13821499999266962ms\n",
            "333283335000\n"
          ]
        }
      ],
      "source": [
        "import time\n",
        "\n",
        "x1 = np.arange(10000)\n",
        "x2 = np.arange(10000)\n",
        "\n",
        "### CLASSIC DOT PRODUCT OF VECTORS IMPLEMENTATION ###\n",
        "tic = time.process_time()\n",
        "dot = 0\n",
        "\n",
        "for i in range(len(x1)):\n",
        "    dot += x1[i] * x2[i]\n",
        "toc = time.process_time()\n",
        "print (\"dot using for loop Computation time = \" + str(1000 * (toc - tic)) + \"ms\")\n",
        "\n",
        "### VECTORIZED DOT PRODUCT OF VECTORS ###\n",
        "tic = time.process_time()\n",
        "dot = np.dot(x1,x2)\n",
        "toc = time.process_time()\n",
        "print (\"dot without loop Computation time = \" + str(1000 * (toc - tic)) + \"ms\")\n",
        "print(dot)\n"
      ]
    },
    {
      "cell_type": "code",
      "execution_count": null,
      "metadata": {
        "id": "zQ8LtwKVIWh6"
      },
      "outputs": [],
      "source": [
        "### CLASSIC OUTER PRODUCT IMPLEMENTATION ###\n",
        "tic = time.process_time()\n",
        "outer = np.zeros((len(x1), len(x2))) # we create a len(x1)*len(x2) matrix with only zeros\n",
        "\n",
        "for i in range(len(x1)):\n",
        "    for j in range(len(x2)):\n",
        "        outer[i,j] = x1[i] * x2[j]\n",
        "toc = time.process_time()\n",
        "print (\"outer = ----- Computation time = \" + str(1000 * (toc - tic)) + \"ms\")\n",
        "### VECTORIZED OUTER PRODUCT ###\n",
        "tic = time.process_time()\n",
        "outer = np.outer(x1,x2)\n",
        "toc = time.process_time()\n",
        "print (\"outer =  ----- Computation time = \" + str(1000 * (toc - tic)) + \"ms\")\n",
        "#print(outer)"
      ]
    },
    {
      "cell_type": "code",
      "execution_count": null,
      "metadata": {
        "id": "semLAbUeIWh6",
        "outputId": "822eb72b-cd16-49a8-8b94-1aded27e1886",
        "colab": {
          "base_uri": "https://localhost:8080/"
        }
      },
      "outputs": [
        {
          "output_type": "stream",
          "name": "stdout",
          "text": [
            "elementwise multiplication  ----- Computation time = 7.84616699999674ms\n",
            "elementwise multiplication ----- Computation time = 0.914234000020997ms\n"
          ]
        }
      ],
      "source": [
        "### CLASSIC ELEMENTWISE IMPLEMENTATION ###\n",
        "tic = time.process_time()\n",
        "mul = np.zeros(len(x1))\n",
        "for i in range(len(x1)):\n",
        "    mul[i] = x1[i] * x2[i]\n",
        "toc = time.process_time()\n",
        "print (\"elementwise multiplication  ----- Computation time = \" + str(1000 * (toc - tic)) + \"ms\")\n",
        "\n",
        "### VECTORIZED ELEMENTWISE MULTIPLICATION ###\n",
        "tic = time.process_time()\n",
        "mul = np.multiply(x1,x2)\n",
        "toc = time.process_time()\n",
        "print (\"elementwise multiplication ----- Computation time = \" + str(1000*(toc - tic)) + \"ms\")\n"
      ]
    },
    {
      "cell_type": "code",
      "execution_count": null,
      "metadata": {
        "id": "eXrWnNIPIWh7",
        "outputId": "d7b52211-f445-407b-8896-344f9dd8950e",
        "colab": {
          "base_uri": "https://localhost:8080/"
        }
      },
      "outputs": [
        {
          "output_type": "stream",
          "name": "stdout",
          "text": [
            "gdot ----- Computation time = 27.605869000012717ms\n",
            "dot ----- Computation time = 1.2613229999942632ms\n"
          ]
        }
      ],
      "source": [
        "### CLASSIC DOT PRODUCT IMPLEMENTATION ###\n",
        "W = np.random.rand(3,len(x1)) # Random 3*len(x1) numpy array\n",
        "#print(W)\n",
        "tic = time.process_time()\n",
        "gdot = np.zeros(W.shape[0])\n",
        "\n",
        "for i in range(W.shape[0]):\n",
        "    for j in range(len(x1)):\n",
        "        gdot[i] += W[i,j] * x1[j]\n",
        "toc = time.process_time()\n",
        "print (\"gdot ----- Computation time = \" + str(1000 * (toc - tic)) + \"ms\")\n",
        "### VECTORIZED DOT PRODUCT ###\n",
        "tic = time.process_time()\n",
        "dot = np.dot(W,x1)\n",
        "toc = time.process_time()\n",
        "print (\"dot ----- Computation time = \" + str(1000 * (toc - tic)) + \"ms\")"
      ]
    }
  ],
  "metadata": {
    "interpreter": {
      "hash": "aee8b7b246df8f9039afb4144a1f6fd8d2ca17a180786b69acc140d282b71a49"
    },
    "kernelspec": {
      "display_name": "Python 3.7.9 64-bit",
      "language": "python",
      "name": "python3"
    },
    "language_info": {
      "codemirror_mode": {
        "name": "ipython",
        "version": 3
      },
      "file_extension": ".py",
      "mimetype": "text/x-python",
      "name": "python",
      "nbconvert_exporter": "python",
      "pygments_lexer": "ipython3",
      "version": "3.7.9"
    },
    "orig_nbformat": 4,
    "colab": {
      "name": "02matrixOperations.ipynb",
      "provenance": []
    }
  },
  "nbformat": 4,
  "nbformat_minor": 0
}
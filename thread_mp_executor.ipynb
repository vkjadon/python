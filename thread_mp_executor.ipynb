{
  "nbformat": 4,
  "nbformat_minor": 0,
  "metadata": {
    "colab": {
      "provenance": [],
      "authorship_tag": "ABX9TyNaX+aN1KgFw3iN9z+cNjzS",
      "include_colab_link": true
    },
    "kernelspec": {
      "name": "python3",
      "display_name": "Python 3"
    },
    "language_info": {
      "name": "python"
    }
  },
  "cells": [
    {
      "cell_type": "markdown",
      "metadata": {
        "id": "view-in-github",
        "colab_type": "text"
      },
      "source": [
        "<a href=\"https://colab.research.google.com/github/vkjadon/python/blob/main/thread_mp_executor.ipynb\" target=\"_parent\"><img src=\"https://colab.research.google.com/assets/colab-badge.svg\" alt=\"Open In Colab\"/></a>"
      ]
    },
    {
      "cell_type": "markdown",
      "source": [
        "##Asynchronous Programming"
      ],
      "metadata": {
        "id": "tsvG5oELHHlr"
      }
    },
    {
      "cell_type": "markdown",
      "source": [
        "Involves tasks that can run independently without blocking the execution of other tasks. Uses an event loop to schedule and execute tasks.\n",
        "  Commonly implemented using async/await in Python (asyncio module).\n",
        "    Execution Model: Single-threaded and cooperative; tasks yield control (using await) when waiting for external resources or delays.\n",
        "    Key Features:\n",
        "        Non-blocking I/O operations (e.g., file reads, HTTP requests).\n",
        "        Suitable for tasks requiring high concurrency with minimal CPU-bound work.\n",
        "    Use Case:\n",
        "        Networking applications (e.g., web servers, chat applications).\n",
        "        High-performance I/O-bound tasks."
      ],
      "metadata": {
        "id": "QsPob5xPFdkl"
      }
    },
    {
      "cell_type": "code",
      "source": [],
      "metadata": {
        "id": "ZAn9d3FHGnoa"
      },
      "execution_count": null,
      "outputs": []
    },
    {
      "cell_type": "markdown",
      "source": [
        "##Multithreading\n"
      ],
      "metadata": {
        "id": "s2D5NjZZHQXv"
      }
    },
    {
      "cell_type": "markdown",
      "source": [
        "Runs multiple threads within a single process. Threads share the same memory space.\n",
        "\n",
        "Threads can run concurrently, but due to the Global Interpreter Lock (GIL) in CPython, only one thread executes Python bytecode at a time.\n",
        "\n",
        "Execution Model: Preemptive multitasking (OS manages thread scheduling).\n",
        "\n",
        "Key Features:\n",
        "Better for tasks involving I/O-bound operations (e.g., file reading/writing, network I/O).\n",
        "Thread context switching can cause overhead.\n",
        "Use Case:\n",
        "I/O-bound applications that may benefit from concurrency."
      ],
      "metadata": {
        "id": "_8om9xYTGs1q"
      }
    },
    {
      "cell_type": "code",
      "source": [],
      "metadata": {
        "id": "KmJSYR_pHAV1"
      },
      "execution_count": null,
      "outputs": []
    }
  ]
}
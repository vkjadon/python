{
  "nbformat": 4,
  "nbformat_minor": 0,
  "metadata": {
    "colab": {
      "provenance": [],
      "authorship_tag": "ABX9TyM0EFk5ue0zj/JegRmNoY54",
      "include_colab_link": true
    },
    "kernelspec": {
      "name": "python3",
      "display_name": "Python 3"
    },
    "language_info": {
      "name": "python"
    }
  },
  "cells": [
    {
      "cell_type": "markdown",
      "metadata": {
        "id": "view-in-github",
        "colab_type": "text"
      },
      "source": [
        "<a href=\"https://colab.research.google.com/github/vkjadon/python/blob/main/phthon_Ex1.ipynb\" target=\"_parent\"><img src=\"https://colab.research.google.com/assets/colab-badge.svg\" alt=\"Open In Colab\"/></a>"
      ]
    },
    {
      "cell_type": "code",
      "execution_count": null,
      "metadata": {
        "id": "YqkD9ftIthyb"
      },
      "outputs": [],
      "source": []
    },
    {
      "cell_type": "markdown",
      "source": [
        "Lesson – 1\n",
        "In this first lesson of python programming, we will learn the installation and basic structure of the code.\n",
        "\n",
        "About Program\n",
        "Let’s understand the meaning of program and programming through real life example. Ask yourself an answer to question “Have you ever tried making pizza on your own?” Provided to you is the recipe as shown in fig 1. This will help you to solve the problem of “How to make pizza?”"
      ],
      "metadata": {
        "id": "zKA9uxtEtic0"
      }
    },
    {
      "cell_type": "markdown",
      "source": [
        "So from recipe what would you get? It is depicting a set of instructions on what to do, how to do, when to do it for making a pizza. From the scenario, we can say that set of instructions requires ingredients (inputs) to make a pizza (output). Therefore, appending required ingredients to recipe is input. Baking the ingredients is processing, & the resulted product that you get after processing is output, which in our case is pizza.\n",
        "\n",
        "Likewise, a computer also works in same manner in order to get the work done i.e. input, processing the input & result attained after processing (output). In order to get the desired work done from computer, we need to give the instruction & that instruction writing should require programming language. So from the discussion, we can easily conclude that the program is a list of instructions, where each statement tells the computer to do the desired task.\n",
        "\n",
        "Now we will learn the basis of python 3 programming language, which is considered one of the powerful high-level programming languages."
      ],
      "metadata": {
        "id": "LPyaSxtUt_rb"
      }
    },
    {
      "cell_type": "markdown",
      "source": [
        "\n",
        "Introduction to Python\n",
        "Python was innovated by Guido Van Rossum while he was working at CWI (Centrum Wiskunde and Informatica). The first release of language was come in 1991. It is a high-level programming language which is required to write the computer program.\n",
        "\n",
        "Features\n",
        "\n",
        "Free to use even for commercial products.\n",
        "Simple syntax.\n",
        "Case-sensitive language.\n",
        "Platform independent programming language.\n",
        "Applications/Uses of Python Programming\n",
        "\n",
        "Scientific computation.\n",
        "Website building.\n",
        "Game development.\n",
        "Application development.\n",
        "Installing Python (Windows OS)\n",
        "Step 1: Download the Python 3 Installer\n",
        "\n",
        "Open a browser window and navigate to the Download page for Windows at python.org.\n",
        "Underneath the heading at the top that says Python Releases for Windows, click on the link for the Latest Python 3 Release – Python 3.x.x. (As of this writing, the latest is Python 3.8.1.)\n",
        "Scroll to the bottom and select either Windows x86-64 executable installer for 64-bit or Windows x86 executable installer for 32-bit.\n",
        "Step 2: Run the Installer\n",
        "\n",
        "Once you have chosen and downloaded an installer, simply run it by double-clicking on the downloaded file. A dialog box should appear and make sure to check the box that says Add Python 3.x to PATH as shown to ensure that the interpreter will be placed in your execution path.\n",
        "\n",
        "Step 3: Install the Required Modules\n",
        "\n",
        "Open the path where your python got installed from step 2, once you reach there then open the folder named Scripts. In this folder, without selecting any file press shift + Right mouse button (RMB) and then select Open PowerShell window here or in some systems its Open Command prompt here.\n",
        "\n",
        "For installing write this command in opened shell window individually after (>):\n",
        "\n",
        "Numpy: pip install numpy\n",
        "\n",
        "OpenCV: pip install opencv-python\n",
        "\n",
        "Note: These statements are case-sensitive and while installing please ensure the working of internet connection because this installation requires internet connectivity.\n",
        "\n",
        "Working on Python\n",
        "After installation, now there are two ways to work on Python IDLE:\n",
        "\n",
        "In interactive mode.\n",
        "In script mode.\n",
        "Interactive Mode\n",
        "\n",
        "The single instruction is executed in this mode and gives the output of same simultaneously. You just need to open the IDLE (Python 3.x) and start typing your instruction next to the command prompt (>>>).\n",
        "\n",
        "\n",
        "This particular mode is best suitable for testing of the logics/instruction and returns the result/error immediately.\n",
        "\n",
        "Script Mode\n",
        "\n",
        "Script is another name given to the program. By working in this mode, one can enable to write and modify the python program.\n",
        "\n",
        "How to work in Script Mode\n",
        "\n",
        "Open the IDLE (Python 3.x).\n",
        "Click on File in the menu bar > and then select New File.\n",
        "After 2nd step, you got an empty new python window on which you can able to write the script/program.\n",
        "After writing some of the desired instructions just press (Ctrl + s) to save the script file at desired location.\n"
      ],
      "metadata": {
        "id": "CEN4rsJUuLQx"
      }
    }
  ]
}
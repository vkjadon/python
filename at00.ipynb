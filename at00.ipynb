{
  "nbformat": 4,
  "nbformat_minor": 0,
  "metadata": {
    "colab": {
      "provenance": [],
      "toc_visible": true,
      "authorship_tag": "ABX9TyMhv/YNTyRkfITXqd+s6Q6f",
      "include_colab_link": true
    },
    "kernelspec": {
      "name": "python3",
      "display_name": "Python 3"
    },
    "language_info": {
      "name": "python"
    }
  },
  "cells": [
    {
      "cell_type": "markdown",
      "metadata": {
        "id": "view-in-github",
        "colab_type": "text"
      },
      "source": [
        "<a href=\"https://colab.research.google.com/github/vkjadon/python/blob/main/at00.ipynb\" target=\"_parent\"><img src=\"https://colab.research.google.com/assets/colab-badge.svg\" alt=\"Open In Colab\"/></a>"
      ]
    },
    {
      "cell_type": "code",
      "source": [
        "!git clone https://github.com/vkjadon/utils.git"
      ],
      "metadata": {
        "id": "MVxeSNBZJ5Ij"
      },
      "execution_count": null,
      "outputs": []
    },
    {
      "cell_type": "code",
      "source": [
        "# In Colab or Jupyter\n",
        "from utils.test_runner import *\n",
        "tests = load_tests(\"utils/lambda_tests.py\")"
      ],
      "metadata": {
        "id": "DnwYNDSBKQkU"
      },
      "execution_count": 3,
      "outputs": []
    },
    {
      "cell_type": "markdown",
      "source": [
        "Write a lambda that returns square of a number (code = 1)"
      ],
      "metadata": {
        "id": "Ch9uqthrLoXB"
      }
    },
    {
      "cell_type": "code",
      "source": [
        "code = 1\n",
        "q = lambda x: x**2\n",
        "report_solution(check_solution(q, code, tests))"
      ],
      "metadata": {
        "colab": {
          "base_uri": "https://localhost:8080/"
        },
        "id": "r5gsVty8J2QK",
        "outputId": "9875ec49-8d9d-40ee-cba4-28846ad955f7"
      },
      "execution_count": 32,
      "outputs": [
        {
          "output_type": "stream",
          "name": "stdout",
          "text": [
            "\u001b[92m: ✅ All Test Cases Passed\u001b[0m\n"
          ]
        }
      ]
    },
    {
      "cell_type": "markdown",
      "source": [
        "Write a lambda that checks if a number is even (code = 2)"
      ],
      "metadata": {
        "id": "W0VTpILQL3uG"
      }
    },
    {
      "cell_type": "code",
      "source": [
        "code = 2\n",
        "q = lambda x: x % 2 == 0\n",
        "report_solution(check_solution(q, code, tests))"
      ],
      "metadata": {
        "id": "hrYOneAsLlIv",
        "colab": {
          "base_uri": "https://localhost:8080/"
        },
        "outputId": "6e15e5cd-9f54-43d4-a94d-316094893794"
      },
      "execution_count": 33,
      "outputs": [
        {
          "output_type": "stream",
          "name": "stdout",
          "text": [
            "\u001b[92m: ✅ All Test Cases Passed\u001b[0m\n"
          ]
        }
      ]
    },
    {
      "cell_type": "markdown",
      "source": [
        "Write a lambda that returns max of two numbers (code = 3)"
      ],
      "metadata": {
        "id": "421_89XqMeyG"
      }
    },
    {
      "cell_type": "code",
      "source": [
        "code = 3\n",
        "q = lambda a, b: a if a > b else b\n",
        "report_solution(check_solution(q, code, tests))"
      ],
      "metadata": {
        "id": "gFn7u-bMLOOi",
        "colab": {
          "base_uri": "https://localhost:8080/"
        },
        "outputId": "a039616f-3c62-4ca1-d71c-c90463c30e54"
      },
      "execution_count": 34,
      "outputs": [
        {
          "output_type": "stream",
          "name": "stdout",
          "text": [
            "\u001b[92m: ✅ All Test Cases Passed\u001b[0m\n"
          ]
        }
      ]
    },
    {
      "cell_type": "markdown",
      "source": [
        "Lambda to reverse a string (code = 4)"
      ],
      "metadata": {
        "id": "TFAEYwOBMlbX"
      }
    },
    {
      "cell_type": "code",
      "source": [
        "code = 4\n",
        "q = lambda s: s[::-1]\n",
        "report_solution(check_solution(q, code, tests))"
      ],
      "metadata": {
        "id": "Ayf2R8zKMGIh",
        "colab": {
          "base_uri": "https://localhost:8080/"
        },
        "outputId": "c7475e88-43cd-4213-ec8a-8287f006be9a"
      },
      "execution_count": 35,
      "outputs": [
        {
          "output_type": "stream",
          "name": "stdout",
          "text": [
            "\u001b[92m: ✅ All Test Cases Passed\u001b[0m\n"
          ]
        }
      ]
    },
    {
      "cell_type": "markdown",
      "source": [
        "Lambda to return sum of digits of a number (code = 5)\n"
      ],
      "metadata": {
        "id": "RKO-yXCrMpMP"
      }
    },
    {
      "cell_type": "code",
      "source": [
        "code = 5\n",
        "q = lambda n: sum(int(d) for d in str(n))\n",
        "report_solution(check_solution(q, code, tests))"
      ],
      "metadata": {
        "id": "K9WzccjaMJFm",
        "colab": {
          "base_uri": "https://localhost:8080/"
        },
        "outputId": "41280047-aaae-434a-ac56-decf7edc2881"
      },
      "execution_count": 36,
      "outputs": [
        {
          "output_type": "stream",
          "name": "stdout",
          "text": [
            "\u001b[92m: ✅ All Test Cases Passed\u001b[0m\n"
          ]
        }
      ]
    },
    {
      "cell_type": "markdown",
      "source": [
        "Lambda to return factorial (code = 6)\n"
      ],
      "metadata": {
        "id": "iC-MWgQEMs3I"
      }
    },
    {
      "cell_type": "code",
      "source": [
        "import functools\n",
        "code = 6\n",
        "q = lambda n: 1 if n==0 else n*functools.reduce(lambda a,b:a*b, range(1,n+1))\n",
        "print(q(3))\n",
        "report_solution(check_solution(q, code, tests))"
      ],
      "metadata": {
        "id": "GjCfiTwMML-_",
        "colab": {
          "base_uri": "https://localhost:8080/"
        },
        "outputId": "2507ad05-dc5f-4403-a8ba-657462d765b7"
      },
      "execution_count": 58,
      "outputs": [
        {
          "output_type": "stream",
          "name": "stdout",
          "text": [
            "18\n",
            "\u001b[91m: ❌ Some Test Cases Failed\u001b[0m\n"
          ]
        }
      ]
    },
    {
      "cell_type": "markdown",
      "source": [
        "Lambda to check if string is palindrome (code = 7)\n"
      ],
      "metadata": {
        "id": "keRunGDlMwvU"
      }
    },
    {
      "cell_type": "code",
      "source": [
        "code = 7\n",
        "q = lambda s: s == s[::-1]\n",
        "report_solution(check_solution(q, code, tests))"
      ],
      "metadata": {
        "id": "RliTiDXrMTJy",
        "colab": {
          "base_uri": "https://localhost:8080/"
        },
        "outputId": "ec46d0bb-29d1-42d4-a855-567446f6b016"
      },
      "execution_count": 38,
      "outputs": [
        {
          "output_type": "stream",
          "name": "stdout",
          "text": [
            "\u001b[92m: ✅ All Test Cases Passed\u001b[0m\n"
          ]
        }
      ]
    },
    {
      "cell_type": "markdown",
      "source": [
        "Lambda to return min of three numbers (code = 8)\n"
      ],
      "metadata": {
        "id": "xmWRrxDCM1SM"
      }
    },
    {
      "cell_type": "code",
      "source": [
        "code = 8\n",
        "q = lambda a,b,c: min(a,b,c)\n",
        "report_solution(check_solution(q, code, tests))"
      ],
      "metadata": {
        "id": "5z4eD-SfMWrl",
        "colab": {
          "base_uri": "https://localhost:8080/"
        },
        "outputId": "2d8afb78-3390-44bb-90d5-48fcc7dbc219"
      },
      "execution_count": 39,
      "outputs": [
        {
          "output_type": "stream",
          "name": "stdout",
          "text": [
            "\u001b[92m: ✅ All Test Cases Passed\u001b[0m\n"
          ]
        }
      ]
    },
    {
      "cell_type": "markdown",
      "source": [
        "Lambda to count vowels in a string"
      ],
      "metadata": {
        "id": "PTjkfUjjM41h"
      }
    },
    {
      "cell_type": "code",
      "source": [
        "code = 9\n",
        "q = lambda s: sum(1 for ch in s.lower() if ch in 'aeiou')\n",
        "report_solution(check_solution(q, code, tests))"
      ],
      "metadata": {
        "id": "TfMoKckEMZFx",
        "colab": {
          "base_uri": "https://localhost:8080/"
        },
        "outputId": "4f628119-81d6-415f-f6de-0b4170a916cb"
      },
      "execution_count": 40,
      "outputs": [
        {
          "output_type": "stream",
          "name": "stdout",
          "text": [
            "\u001b[92m: ✅ All Test Cases Passed\u001b[0m\n"
          ]
        }
      ]
    },
    {
      "cell_type": "markdown",
      "source": [
        "Q : Lambda to sort a list of tuples by second element"
      ],
      "metadata": {
        "id": "UTaClGWiNA4H"
      }
    },
    {
      "cell_type": "code",
      "source": [
        "code = 10\n",
        "q = lambda lst: sorted(lst, key=lambda x: x[1])\n",
        "report_solution(check_solution(q, code, tests))"
      ],
      "metadata": {
        "id": "A0Jc4j2IMbX4",
        "colab": {
          "base_uri": "https://localhost:8080/"
        },
        "outputId": "ce7cb6f2-704d-4a5f-ef6a-2b076ffe4cec"
      },
      "execution_count": 41,
      "outputs": [
        {
          "output_type": "stream",
          "name": "stdout",
          "text": [
            "\u001b[92m: ✅ All Test Cases Passed\u001b[0m\n"
          ]
        }
      ]
    },
    {
      "cell_type": "markdown",
      "source": [
        "A store gives a flat 10% discount if the bill amount is more than ₹1000, otherwise no discount.\n",
        "Write a lambda that takes the bill amount and returns the final amount. (code = 11)"
      ],
      "metadata": {
        "id": "bjo6zeveNbKZ"
      }
    },
    {
      "cell_type": "code",
      "source": [
        "code=11\n",
        "q = lambda bill: bill*0.9 if bill > 1000 else bill\n",
        "report_solution(check_solution(q, code, tests))"
      ],
      "metadata": {
        "id": "3sCcCgFSgXzn",
        "outputId": "ae2ece0f-c4cd-4602-c4c8-d7bf1c7a6a1b",
        "colab": {
          "base_uri": "https://localhost:8080/"
        }
      },
      "execution_count": 42,
      "outputs": [
        {
          "output_type": "stream",
          "name": "stdout",
          "text": [
            "\u001b[92m: ✅ All Test Cases Passed\u001b[0m\n"
          ]
        }
      ]
    },
    {
      "cell_type": "markdown",
      "source": [
        "Given an age, write a lambda that returns True if the person is a teenager (13 - 19 inclusive), otherwise False. (code = 12)"
      ],
      "metadata": {
        "id": "jHHSPhmBR8BF"
      }
    },
    {
      "cell_type": "code",
      "source": [
        "code = 12\n",
        "q = lambda age: 13 <= age <= 19\n",
        "report_solution(check_solution(q, code, tests))"
      ],
      "metadata": {
        "id": "WFtDpz2mkc2n",
        "outputId": "6fa2007f-3031-4cbb-942d-c0f2d395bf88",
        "colab": {
          "base_uri": "https://localhost:8080/"
        }
      },
      "execution_count": 43,
      "outputs": [
        {
          "output_type": "stream",
          "name": "stdout",
          "text": [
            "\u001b[92m: ✅ All Test Cases Passed\u001b[0m\n"
          ]
        }
      ]
    },
    {
      "cell_type": "markdown",
      "source": [
        "A farmer has rectangular plots. Each plot is given as a tuple (length, width).\n",
        "Write a lambda to find the plot with the largest area from a list of plots. (code = 13)"
      ],
      "metadata": {
        "id": "AdGv9mipSjVf"
      }
    },
    {
      "cell_type": "code",
      "source": [
        "code=13\n",
        "q = lambda plots: max(plots, key=lambda p: p[0]*p[1])\n",
        "report_solution(check_solution(q, code, tests))"
      ],
      "metadata": {
        "id": "_3678ZnOpw1j",
        "outputId": "feaa4b2f-1fd9-4ca6-83f7-ba46a4cd4753",
        "colab": {
          "base_uri": "https://localhost:8080/"
        }
      },
      "execution_count": 44,
      "outputs": [
        {
          "output_type": "stream",
          "name": "stdout",
          "text": [
            "\u001b[92m: ✅ All Test Cases Passed\u001b[0m\n"
          ]
        }
      ]
    },
    {
      "cell_type": "markdown",
      "source": [
        "A student passes an exam if their score is >= 40, otherwise they fail.\n",
        "Write a lambda that returns \"Pass\" or \"Fail\" given a score. (code = 14)"
      ],
      "metadata": {
        "id": "ojL4XemESpHj"
      }
    },
    {
      "cell_type": "code",
      "source": [
        "code = 14\n",
        "q = lambda score: \"Pass\" if score >= 40 else \"Fail\"\n",
        "report_solution(check_solution(q, code, tests))"
      ],
      "metadata": {
        "id": "ENyxicdUrZiZ",
        "outputId": "eb123ea0-0bfb-4068-f235-d92041a64543",
        "colab": {
          "base_uri": "https://localhost:8080/"
        }
      },
      "execution_count": 45,
      "outputs": [
        {
          "output_type": "stream",
          "name": "stdout",
          "text": [
            "\u001b[92m: ✅ All Test Cases Passed\u001b[0m\n"
          ]
        }
      ]
    },
    {
      "cell_type": "markdown",
      "source": [
        "Shipping cost is ₹50 if weight ≤ 5kg, otherwise ₹100.\n",
        "Write a lambda that takes weight and returns the shipping cost. (code = 15)"
      ],
      "metadata": {
        "id": "4mDRbG7dSsVB"
      }
    },
    {
      "cell_type": "code",
      "source": [
        "code = 15\n",
        "q = lambda wt: 50 if wt <= 5 else 100\n",
        "report_solution(check_solution(q, code, tests))"
      ],
      "metadata": {
        "id": "2eHanOOfrqBD",
        "outputId": "e0cb0e7c-310c-4ea5-bc1e-f010111d31f7",
        "colab": {
          "base_uri": "https://localhost:8080/"
        }
      },
      "execution_count": 46,
      "outputs": [
        {
          "output_type": "stream",
          "name": "stdout",
          "text": [
            "\u001b[92m: ✅ All Test Cases Passed\u001b[0m\n"
          ]
        }
      ]
    },
    {
      "cell_type": "markdown",
      "source": [
        "Given a temperature in Celsius, write a lambda to convert it to Fahrenheit.\n",
        "Formula: F = (C x 9/5) + 32. (code = 16)"
      ],
      "metadata": {
        "id": "yyUePZrvS2jr"
      }
    },
    {
      "cell_type": "code",
      "source": [
        "code = 16\n",
        "q = lambda c: (c*9/5)+32\n",
        "report_solution(check_solution(q, code, tests))"
      ],
      "metadata": {
        "id": "tL2Ky6CfsSHx",
        "outputId": "554d74da-3390-45e2-e156-2b833fe0feb8",
        "colab": {
          "base_uri": "https://localhost:8080/"
        }
      },
      "execution_count": 47,
      "outputs": [
        {
          "output_type": "stream",
          "name": "stdout",
          "text": [
            "\u001b[92m: ✅ All Test Cases Passed\u001b[0m\n"
          ]
        }
      ]
    },
    {
      "cell_type": "markdown",
      "source": [
        "Write a lambda that returns a grade given a score: [90+ :  \"A\"; 75-89 : \"B\"; 50-74 : \"C\"; below 50 : \"F\"]\n",
        "\n",
        "(code = 17)"
      ],
      "metadata": {
        "id": "co5lMtRBTaft"
      }
    },
    {
      "cell_type": "code",
      "source": [
        "code = 17\n",
        "q = lambda score: \"A\" if score>=90 else (\"B\" if score>=75 else (\"C\" if score>=50 else \"F\"))\n",
        "print(q(90))\n",
        "report_solution(check_solution(q, code, tests))"
      ],
      "metadata": {
        "id": "pBnEOIsDtkBJ",
        "outputId": "16481d45-26cb-42c5-dce1-6cc27998b3df",
        "colab": {
          "base_uri": "https://localhost:8080/"
        }
      },
      "execution_count": 65,
      "outputs": [
        {
          "output_type": "stream",
          "name": "stdout",
          "text": [
            "A\n",
            "\u001b[91m: ❌ Some Test Cases Failed\u001b[0m\n"
          ]
        }
      ]
    },
    {
      "cell_type": "markdown",
      "source": [
        "An office allows entry only between 9 AM and 6 PM (inclusive).\n",
        "Write a lambda that takes an integer hour (0-23) and returns True if allowed, else False. (code = 18)"
      ],
      "metadata": {
        "id": "5MlcHYMNT554"
      }
    },
    {
      "cell_type": "code",
      "source": [
        "code = 18\n",
        "q = lambda hr: 9 <= hr <= 18\n",
        "report_solution(check_solution(q, code, tests))"
      ],
      "metadata": {
        "id": "w_Ob-fiHvDU3",
        "outputId": "3330b541-cd7e-4923-beec-b4bd2b7c6092",
        "colab": {
          "base_uri": "https://localhost:8080/"
        }
      },
      "execution_count": 51,
      "outputs": [
        {
          "output_type": "stream",
          "name": "stdout",
          "text": [
            "\u001b[92m: ✅ All Test Cases Passed\u001b[0m\n"
          ]
        }
      ]
    },
    {
      "cell_type": "markdown",
      "source": [
        "Given a list of words, write a lambda with filter to return only those words which are palindromes. (code = 9)"
      ],
      "metadata": {
        "id": "6iOuMSfEUD1S"
      }
    },
    {
      "cell_type": "code",
      "source": [
        "code = 19\n",
        "q = lambda words: list(filter(lambda w: w == w[::-1], words))\n",
        "report_solution(check_solution(q, code, tests))"
      ],
      "metadata": {
        "id": "_oStzauNvoO2",
        "outputId": "4585e2b8-5a4d-4007-df5b-f01ae7667d8a",
        "colab": {
          "base_uri": "https://localhost:8080/"
        }
      },
      "execution_count": 52,
      "outputs": [
        {
          "output_type": "stream",
          "name": "stdout",
          "text": [
            "\u001b[92m: ✅ All Test Cases Passed\u001b[0m\n"
          ]
        }
      ]
    },
    {
      "cell_type": "markdown",
      "source": [
        "Employees are represented as tuples (name, salary).\n",
        "Write a lambda to sort a list of employees by salary in descending order. (code = 10)"
      ],
      "metadata": {
        "id": "ZrvpBxHaUI11"
      }
    },
    {
      "cell_type": "code",
      "source": [
        "code = 20\n",
        "q = lambda emps: sorted(emps, key=lambda e: e[1], reverse=True)\n",
        "report_solution(check_solution(q, code, tests))"
      ],
      "metadata": {
        "colab": {
          "base_uri": "https://localhost:8080/"
        },
        "id": "WI-OPENVNa83",
        "outputId": "25b88179-76f8-4341-8b3d-1c8428a1f061"
      },
      "execution_count": 53,
      "outputs": [
        {
          "output_type": "stream",
          "name": "stdout",
          "text": [
            "\u001b[92m: ✅ All Test Cases Passed\u001b[0m\n"
          ]
        }
      ]
    }
  ]
}
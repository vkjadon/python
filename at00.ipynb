{
  "nbformat": 4,
  "nbformat_minor": 0,
  "metadata": {
    "colab": {
      "provenance": [],
      "authorship_tag": "ABX9TyPPqGgmVvxRiL5E4MfxifxT",
      "include_colab_link": true
    },
    "kernelspec": {
      "name": "python3",
      "display_name": "Python 3"
    },
    "language_info": {
      "name": "python"
    }
  },
  "cells": [
    {
      "cell_type": "markdown",
      "metadata": {
        "id": "view-in-github",
        "colab_type": "text"
      },
      "source": [
        "<a href=\"https://colab.research.google.com/github/vkjadon/python/blob/main/at00.ipynb\" target=\"_parent\"><img src=\"https://colab.research.google.com/assets/colab-badge.svg\" alt=\"Open In Colab\"/></a>"
      ]
    },
    {
      "cell_type": "code",
      "source": [
        "!git clone https://github.com/vkjadon/utils.git"
      ],
      "metadata": {
        "colab": {
          "base_uri": "https://localhost:8080/"
        },
        "id": "MVxeSNBZJ5Ij",
        "outputId": "aedb9a4f-b00b-4901-89fa-a915b07206ce"
      },
      "execution_count": 1,
      "outputs": [
        {
          "output_type": "stream",
          "name": "stdout",
          "text": [
            "Cloning into 'utils'...\n",
            "remote: Enumerating objects: 18, done.\u001b[K\n",
            "remote: Counting objects: 100% (18/18), done.\u001b[K\n",
            "remote: Compressing objects: 100% (17/17), done.\u001b[K\n",
            "remote: Total 18 (delta 4), reused 0 (delta 0), pack-reused 0 (from 0)\u001b[K\n",
            "Receiving objects: 100% (18/18), 7.64 KiB | 7.64 MiB/s, done.\n",
            "Resolving deltas: 100% (4/4), done.\n"
          ]
        }
      ]
    },
    {
      "cell_type": "code",
      "source": [
        "# In Colab or Jupyter\n",
        "from utils.test_runner import load_tests, check_solution\n",
        "tests = load_tests(\"utils/test_lambda.py\")"
      ],
      "metadata": {
        "id": "DnwYNDSBKQkU"
      },
      "execution_count": 6,
      "outputs": []
    },
    {
      "cell_type": "markdown",
      "source": [
        "Q1 : Write a lambda that returns square of a number"
      ],
      "metadata": {
        "id": "Ch9uqthrLoXB"
      }
    },
    {
      "cell_type": "code",
      "source": [
        "q1 = lambda x: x**2\n",
        "print(\"Q1:\", check_solution(q1, 1, tests))"
      ],
      "metadata": {
        "colab": {
          "base_uri": "https://localhost:8080/"
        },
        "id": "r5gsVty8J2QK",
        "outputId": "07841ff0-8999-4e96-9ef4-6d3eeb5cd093"
      },
      "execution_count": 7,
      "outputs": [
        {
          "output_type": "stream",
          "name": "stdout",
          "text": [
            "Q1: True\n"
          ]
        }
      ]
    },
    {
      "cell_type": "markdown",
      "source": [
        "Q2 : Write a lambda that checks if a number is even"
      ],
      "metadata": {
        "id": "W0VTpILQL3uG"
      }
    },
    {
      "cell_type": "code",
      "source": [
        "q2 = lambda x: x % 2 == 0\n",
        "print(\"Q2:\", check_solution(q2, 2, tests))"
      ],
      "metadata": {
        "id": "hrYOneAsLlIv"
      },
      "execution_count": null,
      "outputs": []
    },
    {
      "cell_type": "markdown",
      "source": [
        "Q3 : Write a lambda that returns max of two numbers"
      ],
      "metadata": {
        "id": "421_89XqMeyG"
      }
    },
    {
      "cell_type": "code",
      "source": [
        "q3 = lambda a, b: a if a > b else b\n",
        "print(\"Q3:\", check_solution(q3, 3))"
      ],
      "metadata": {
        "id": "gFn7u-bMLOOi"
      },
      "execution_count": null,
      "outputs": []
    },
    {
      "cell_type": "markdown",
      "source": [
        "Q4 : Lambda to reverse a string"
      ],
      "metadata": {
        "id": "TFAEYwOBMlbX"
      }
    },
    {
      "cell_type": "code",
      "source": [
        "q4 = lambda s: s[::-1]\n",
        "print(\"Q4:\", check_solution(q4, 4))"
      ],
      "metadata": {
        "id": "Ayf2R8zKMGIh"
      },
      "execution_count": null,
      "outputs": []
    },
    {
      "cell_type": "markdown",
      "source": [
        "Q4 : Lambda to return sum of digits of a number\n"
      ],
      "metadata": {
        "id": "RKO-yXCrMpMP"
      }
    },
    {
      "cell_type": "code",
      "source": [
        "q5 = lambda n: sum(int(d) for d in str(n))\n",
        "print(\"Q5:\", check_solution(q5, 5))"
      ],
      "metadata": {
        "id": "K9WzccjaMJFm"
      },
      "execution_count": null,
      "outputs": []
    },
    {
      "cell_type": "markdown",
      "source": [
        "Q6 : Lambda to return factorial (use recursion trick)\n"
      ],
      "metadata": {
        "id": "iC-MWgQEMs3I"
      }
    },
    {
      "cell_type": "code",
      "source": [
        "import functools\n",
        "q6 = lambda n: 1 if n==0 else n*functools.reduce(lambda a,b:a*b, range(1,n+1))\n",
        "print(\"Q6:\", check_solution(q6, 6))"
      ],
      "metadata": {
        "id": "GjCfiTwMML-_"
      },
      "execution_count": null,
      "outputs": []
    },
    {
      "cell_type": "markdown",
      "source": [
        "Q7 : Lambda to check if string is palindrome\n"
      ],
      "metadata": {
        "id": "keRunGDlMwvU"
      }
    },
    {
      "cell_type": "code",
      "source": [
        "q7 = lambda s: s == s[::-1]\n",
        "print(\"Q7:\", check_solution(q7, 7))"
      ],
      "metadata": {
        "id": "RliTiDXrMTJy"
      },
      "execution_count": null,
      "outputs": []
    },
    {
      "cell_type": "markdown",
      "source": [
        "Q8 : Lambda to return min of three numbers\n"
      ],
      "metadata": {
        "id": "xmWRrxDCM1SM"
      }
    },
    {
      "cell_type": "code",
      "source": [
        "q8 = lambda a,b,c: min(a,b,c)\n",
        "print(\"Q8:\", check_solution(q8, 8))"
      ],
      "metadata": {
        "id": "5z4eD-SfMWrl"
      },
      "execution_count": null,
      "outputs": []
    },
    {
      "cell_type": "markdown",
      "source": [
        "Q9 : Lambda to count vowels in a string"
      ],
      "metadata": {
        "id": "PTjkfUjjM41h"
      }
    },
    {
      "cell_type": "code",
      "source": [
        "q9 = lambda s: sum(1 for ch in s.lower() if ch in 'aeiou')\n",
        "print(\"Q9:\", check_solution(q9, 9))"
      ],
      "metadata": {
        "id": "TfMoKckEMZFx"
      },
      "execution_count": null,
      "outputs": []
    },
    {
      "cell_type": "markdown",
      "source": [
        "Q10 : Lambda to sort a list of tuples by second element"
      ],
      "metadata": {
        "id": "UTaClGWiNA4H"
      }
    },
    {
      "cell_type": "code",
      "source": [
        "q10 = lambda lst: sorted(lst, key=lambda x: x[1])\n",
        "print(\"Q10:\", check_solution(q10, 10))"
      ],
      "metadata": {
        "id": "A0Jc4j2IMbX4"
      },
      "execution_count": null,
      "outputs": []
    }
  ]
}
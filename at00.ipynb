{
  "nbformat": 4,
  "nbformat_minor": 0,
  "metadata": {
    "colab": {
      "provenance": [],
      "authorship_tag": "ABX9TyNHykO6FOq8Wc1u918Qh/3H",
      "include_colab_link": true
    },
    "kernelspec": {
      "name": "python3",
      "display_name": "Python 3"
    },
    "language_info": {
      "name": "python"
    }
  },
  "cells": [
    {
      "cell_type": "markdown",
      "metadata": {
        "id": "view-in-github",
        "colab_type": "text"
      },
      "source": [
        "<a href=\"https://colab.research.google.com/github/vkjadon/python/blob/main/at00.ipynb\" target=\"_parent\"><img src=\"https://colab.research.google.com/assets/colab-badge.svg\" alt=\"Open In Colab\"/></a>"
      ]
    },
    {
      "cell_type": "code",
      "source": [
        "!git clone https://github.com/vkjadon/utils.git"
      ],
      "metadata": {
        "colab": {
          "base_uri": "https://localhost:8080/"
        },
        "id": "MVxeSNBZJ5Ij",
        "outputId": "4293b1b1-16d8-469d-cb95-6ccf6b1b0c99"
      },
      "execution_count": 30,
      "outputs": [
        {
          "output_type": "stream",
          "name": "stdout",
          "text": [
            "fatal: destination path 'utils' already exists and is not an empty directory.\n"
          ]
        }
      ]
    },
    {
      "cell_type": "code",
      "source": [
        "# In Colab or Jupyter\n",
        "from utils.test_runner import load_tests, check_solution\n",
        "tests = load_tests(\"utils/test_lambda.py\")"
      ],
      "metadata": {
        "id": "DnwYNDSBKQkU"
      },
      "execution_count": 2,
      "outputs": []
    },
    {
      "cell_type": "markdown",
      "source": [
        "Write a lambda that returns square of a number (code = 1)"
      ],
      "metadata": {
        "id": "Ch9uqthrLoXB"
      }
    },
    {
      "cell_type": "code",
      "source": [
        "code = 1\n",
        "q = lambda x: x**2"
      ],
      "metadata": {
        "id": "r5gsVty8J2QK"
      },
      "execution_count": 17,
      "outputs": []
    },
    {
      "cell_type": "code",
      "source": [
        "print(\"Status : \", check_solution(q, code, tests))"
      ],
      "metadata": {
        "colab": {
          "base_uri": "https://localhost:8080/"
        },
        "id": "J-sCHFKkPl8I",
        "outputId": "c2d3ac4e-07d3-4970-9906-33120b6cc8e3"
      },
      "execution_count": 18,
      "outputs": [
        {
          "output_type": "stream",
          "name": "stdout",
          "text": [
            "Status :  True\n"
          ]
        }
      ]
    },
    {
      "cell_type": "markdown",
      "source": [
        "Write a lambda that checks if a number is even (code = 2)"
      ],
      "metadata": {
        "id": "W0VTpILQL3uG"
      }
    },
    {
      "cell_type": "code",
      "source": [
        "code = 2\n",
        "q = lambda x: x % 2 == 0"
      ],
      "metadata": {
        "id": "hrYOneAsLlIv"
      },
      "execution_count": 13,
      "outputs": []
    },
    {
      "cell_type": "code",
      "source": [
        "print(\"Status : \", check_solution(q, code, tests))"
      ],
      "metadata": {
        "colab": {
          "base_uri": "https://localhost:8080/"
        },
        "id": "ITazXo36PJ_p",
        "outputId": "fc877363-928e-4c82-e1ae-2f7c645ed4a3"
      },
      "execution_count": 14,
      "outputs": [
        {
          "output_type": "stream",
          "name": "stdout",
          "text": [
            "Status :  True\n"
          ]
        }
      ]
    },
    {
      "cell_type": "markdown",
      "source": [
        "Write a lambda that returns max of two numbers (code = 3)"
      ],
      "metadata": {
        "id": "421_89XqMeyG"
      }
    },
    {
      "cell_type": "code",
      "source": [
        "code = 3\n",
        "q = lambda a, b: a if a > b else b"
      ],
      "metadata": {
        "id": "gFn7u-bMLOOi"
      },
      "execution_count": 20,
      "outputs": []
    },
    {
      "cell_type": "code",
      "source": [
        "print(\"Status : \", check_solution(q, code, tests))"
      ],
      "metadata": {
        "colab": {
          "base_uri": "https://localhost:8080/"
        },
        "id": "t60xiauqPzbq",
        "outputId": "387a005e-621e-4ef7-ebe8-58dd5a2cf0be"
      },
      "execution_count": 23,
      "outputs": [
        {
          "output_type": "stream",
          "name": "stdout",
          "text": [
            "Status :  True\n"
          ]
        }
      ]
    },
    {
      "cell_type": "markdown",
      "source": [
        "Lambda to reverse a string (code = 4)"
      ],
      "metadata": {
        "id": "TFAEYwOBMlbX"
      }
    },
    {
      "cell_type": "code",
      "source": [
        "code = 4\n",
        "q = lambda s: s[::-1]"
      ],
      "metadata": {
        "id": "Ayf2R8zKMGIh",
        "colab": {
          "base_uri": "https://localhost:8080/"
        },
        "outputId": "46f337a8-d704-4fd7-cbb2-d262d4558c8d"
      },
      "execution_count": 10,
      "outputs": [
        {
          "output_type": "stream",
          "name": "stdout",
          "text": [
            "Status :  True\n"
          ]
        }
      ]
    },
    {
      "cell_type": "code",
      "source": [
        "print(\"Status : \", check_solution(q, code, tests))"
      ],
      "metadata": {
        "colab": {
          "base_uri": "https://localhost:8080/"
        },
        "id": "oTP0AJD0QDAi",
        "outputId": "a11b1dc1-2814-4e76-9ff7-1f736adae8df"
      },
      "execution_count": 24,
      "outputs": [
        {
          "output_type": "stream",
          "name": "stdout",
          "text": [
            "Status :  True\n"
          ]
        }
      ]
    },
    {
      "cell_type": "markdown",
      "source": [
        "Lambda to return sum of digits of a number (code = 5)\n"
      ],
      "metadata": {
        "id": "RKO-yXCrMpMP"
      }
    },
    {
      "cell_type": "code",
      "source": [
        "code = 5\n",
        "q = lambda n: sum(int(d) for d in str(n))"
      ],
      "metadata": {
        "id": "K9WzccjaMJFm"
      },
      "execution_count": 25,
      "outputs": []
    },
    {
      "cell_type": "code",
      "source": [
        "print(\"Status : \", check_solution(q, code, tests))"
      ],
      "metadata": {
        "colab": {
          "base_uri": "https://localhost:8080/"
        },
        "id": "DD4cU1ajQK5v",
        "outputId": "244c7f85-1a17-44e0-a74c-9a1a08645aca"
      },
      "execution_count": 26,
      "outputs": [
        {
          "output_type": "stream",
          "name": "stdout",
          "text": [
            "Status :  True\n"
          ]
        }
      ]
    },
    {
      "cell_type": "markdown",
      "source": [
        "Lambda to return factorial (code = 6)\n"
      ],
      "metadata": {
        "id": "iC-MWgQEMs3I"
      }
    },
    {
      "cell_type": "code",
      "source": [
        "import functools\n",
        "code = 6\n",
        "q = lambda n: 1 if n==0 else n*functools.reduce(lambda a,b:a*b, range(1,n+1))"
      ],
      "metadata": {
        "id": "GjCfiTwMML-_"
      },
      "execution_count": null,
      "outputs": []
    },
    {
      "cell_type": "code",
      "source": [
        "print(\"Status : \", check_solution(q, code, tests))"
      ],
      "metadata": {
        "id": "AckLoeVpQRCw"
      },
      "execution_count": null,
      "outputs": []
    },
    {
      "cell_type": "markdown",
      "source": [
        "Lambda to check if string is palindrome (code = 7)\n"
      ],
      "metadata": {
        "id": "keRunGDlMwvU"
      }
    },
    {
      "cell_type": "code",
      "source": [
        "code = 7\n",
        "q = lambda s: s == s[::-1]"
      ],
      "metadata": {
        "id": "RliTiDXrMTJy"
      },
      "execution_count": null,
      "outputs": []
    },
    {
      "cell_type": "code",
      "source": [
        "print(\"Status : \", check_solution(q, code, tests))"
      ],
      "metadata": {
        "id": "DyU7hkeHQs8Z"
      },
      "execution_count": null,
      "outputs": []
    },
    {
      "cell_type": "markdown",
      "source": [
        "Lambda to return min of three numbers (code = 8)\n"
      ],
      "metadata": {
        "id": "xmWRrxDCM1SM"
      }
    },
    {
      "cell_type": "code",
      "source": [
        "code = 8\n",
        "q = lambda a,b,c: min(a,b,c)"
      ],
      "metadata": {
        "id": "5z4eD-SfMWrl"
      },
      "execution_count": 28,
      "outputs": []
    },
    {
      "cell_type": "code",
      "source": [
        "print(\"Status : \", check_solution(q, 8, tests))"
      ],
      "metadata": {
        "colab": {
          "base_uri": "https://localhost:8080/"
        },
        "id": "EsU8pu_2Q41E",
        "outputId": "b2851647-f5ac-47d7-b12c-5083e10f0dd2"
      },
      "execution_count": 29,
      "outputs": [
        {
          "output_type": "stream",
          "name": "stdout",
          "text": [
            "Status :  True\n"
          ]
        }
      ]
    },
    {
      "cell_type": "markdown",
      "source": [
        "Lambda to count vowels in a string"
      ],
      "metadata": {
        "id": "PTjkfUjjM41h"
      }
    },
    {
      "cell_type": "code",
      "source": [
        "q = lambda s: sum(1 for ch in s.lower() if ch in 'aeiou')\n",
        "print(\"Status : \", check_solution(q, 9, tests))"
      ],
      "metadata": {
        "id": "TfMoKckEMZFx",
        "colab": {
          "base_uri": "https://localhost:8080/"
        },
        "outputId": "ebdcbfdd-4720-42c4-fa68-2000de5ba514"
      },
      "execution_count": 12,
      "outputs": [
        {
          "output_type": "stream",
          "name": "stdout",
          "text": [
            "Status :  True\n"
          ]
        }
      ]
    },
    {
      "cell_type": "markdown",
      "source": [
        "Q : Lambda to sort a list of tuples by second element"
      ],
      "metadata": {
        "id": "UTaClGWiNA4H"
      }
    },
    {
      "cell_type": "code",
      "source": [
        "q = lambda lst: sorted(lst, key=lambda x: x[1])\n",
        "print(\"Status : \", check_solution(q, 10, tests))"
      ],
      "metadata": {
        "id": "A0Jc4j2IMbX4",
        "colab": {
          "base_uri": "https://localhost:8080/"
        },
        "outputId": "916f802e-1576-4dc1-da6b-e1725ba6208f"
      },
      "execution_count": 6,
      "outputs": [
        {
          "output_type": "stream",
          "name": "stdout",
          "text": [
            "Q10: True\n"
          ]
        }
      ]
    },
    {
      "cell_type": "markdown",
      "source": [
        "A store gives a flat 10% discount if the bill amount is more than ₹1000, otherwise no discount.\n",
        "Write a lambda that takes the bill amount and returns the final amount. (code = 1)"
      ],
      "metadata": {
        "id": "bjo6zeveNbKZ"
      }
    },
    {
      "cell_type": "markdown",
      "source": [
        "Given an age, write a lambda that returns True if the person is a teenager (13 - 19 inclusive), otherwise False. (code = 2)"
      ],
      "metadata": {
        "id": "jHHSPhmBR8BF"
      }
    },
    {
      "cell_type": "markdown",
      "source": [
        "A farmer has rectangular plots. Each plot is given as a tuple (length, width).\n",
        "Write a lambda to find the plot with the largest area from a list of plots. (code = 3)"
      ],
      "metadata": {
        "id": "AdGv9mipSjVf"
      }
    },
    {
      "cell_type": "markdown",
      "source": [
        "A student passes an exam if their score is >= 40, otherwise they fail.\n",
        "Write a lambda that returns \"Pass\" or \"Fail\" given a score. (code = 4)"
      ],
      "metadata": {
        "id": "ojL4XemESpHj"
      }
    },
    {
      "cell_type": "markdown",
      "source": [
        "Shipping cost is ₹50 if weight ≤ 5kg, otherwise ₹100.\n",
        "Write a lambda that takes weight and returns the shipping cost. (code = 5)"
      ],
      "metadata": {
        "id": "4mDRbG7dSsVB"
      }
    },
    {
      "cell_type": "markdown",
      "source": [
        "Given a temperature in Celsius, write a lambda to convert it to Fahrenheit.\n",
        "Formula: F = (C x 9/5) + 32. (code = 6)"
      ],
      "metadata": {
        "id": "yyUePZrvS2jr"
      }
    },
    {
      "cell_type": "markdown",
      "source": [
        "Write a lambda that returns a grade given a score: [90+ :  \"A\"; 75-89 : \"B\"; 50-74 : \"C\"; below 50 : \"F\"]\n",
        "\n",
        "(code = 7)"
      ],
      "metadata": {
        "id": "co5lMtRBTaft"
      }
    },
    {
      "cell_type": "markdown",
      "source": [
        "An office allows entry only between 9 AM and 6 PM (inclusive).\n",
        "Write a lambda that takes an integer hour (0-23) and returns True if allowed, else False. (code = 8)"
      ],
      "metadata": {
        "id": "5MlcHYMNT554"
      }
    },
    {
      "cell_type": "markdown",
      "source": [
        "Given a list of words, write a lambda with filter to return only those words which are palindromes. (code = 9)"
      ],
      "metadata": {
        "id": "6iOuMSfEUD1S"
      }
    },
    {
      "cell_type": "markdown",
      "source": [
        "Employees are represented as tuples (name, salary).\n",
        "Write a lambda to sort a list of employees by salary in descending order. (code = 10)"
      ],
      "metadata": {
        "id": "ZrvpBxHaUI11"
      }
    },
    {
      "cell_type": "code",
      "source": [],
      "metadata": {
        "id": "WI-OPENVNa83"
      },
      "execution_count": null,
      "outputs": []
    }
  ]
}
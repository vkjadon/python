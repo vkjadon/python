{
  "nbformat": 4,
  "nbformat_minor": 0,
  "metadata": {
    "colab": {
      "provenance": [],
      "authorship_tag": "ABX9TyNcOSxZSZ3Hh9DkqEvpiXJF",
      "include_colab_link": true
    },
    "kernelspec": {
      "name": "python3",
      "display_name": "Python 3"
    },
    "language_info": {
      "name": "python"
    }
  },
  "cells": [
    {
      "cell_type": "markdown",
      "metadata": {
        "id": "view-in-github",
        "colab_type": "text"
      },
      "source": [
        "<a href=\"https://colab.research.google.com/github/vkjadon/python/blob/main/at00LambdaFunction.ipynb\" target=\"_parent\"><img src=\"https://colab.research.google.com/assets/colab-badge.svg\" alt=\"Open In Colab\"/></a>"
      ]
    },
    {
      "cell_type": "markdown",
      "source": [
        "Execute the following two cells and do not make any changes."
      ],
      "metadata": {
        "id": "OvXCCOIc2YXy"
      }
    },
    {
      "cell_type": "code",
      "source": [
        "!git clone https://github.com/vkjadon/utils.git"
      ],
      "metadata": {
        "id": "MVxeSNBZJ5Ij",
        "colab": {
          "base_uri": "https://localhost:8080/"
        },
        "outputId": "13b46d39-199b-4470-e60a-98cd11429c43"
      },
      "execution_count": 2,
      "outputs": [
        {
          "output_type": "stream",
          "name": "stdout",
          "text": [
            "Cloning into 'utils'...\n",
            "remote: Enumerating objects: 36, done.\u001b[K\n",
            "remote: Counting objects: 100% (36/36), done.\u001b[K\n",
            "remote: Compressing objects: 100% (35/35), done.\u001b[K\n",
            "remote: Total 36 (delta 15), reused 0 (delta 0), pack-reused 0 (from 0)\u001b[K\n",
            "Receiving objects: 100% (36/36), 14.20 KiB | 3.55 MiB/s, done.\n",
            "Resolving deltas: 100% (15/15), done.\n"
          ]
        }
      ]
    },
    {
      "cell_type": "code",
      "source": [
        "from utils.test_runner import *\n",
        "tests = load_tests(\"utils/lambda_tests.py\")"
      ],
      "metadata": {
        "id": "DnwYNDSBKQkU"
      },
      "execution_count": 3,
      "outputs": []
    },
    {
      "cell_type": "markdown",
      "source": [
        "Write a lambda that returns square of a number (code = 1)"
      ],
      "metadata": {
        "id": "Ch9uqthrLoXB"
      }
    },
    {
      "cell_type": "code",
      "source": [
        "# Do not change the code value.\n",
        "# Write a lambda function with name `q`\n",
        "# Do not change the last line.\n",
        "# You can comment the last line for your own testing\n",
        "\n",
        "code = 1\n",
        "\n",
        "q = lambda x: x**2\n",
        "\n",
        "report_solution(check_solution(q, code, tests))"
      ],
      "metadata": {
        "id": "r5gsVty8J2QK",
        "colab": {
          "base_uri": "https://localhost:8080/"
        },
        "outputId": "f2113688-944f-4f9f-cc64-79e8c758cc95"
      },
      "execution_count": 4,
      "outputs": [
        {
          "output_type": "stream",
          "name": "stdout",
          "text": [
            "\u001b[92m: ✅ All Test Cases Passed\u001b[0m\n"
          ]
        }
      ]
    },
    {
      "cell_type": "markdown",
      "source": [
        "Write a lambda that checks if a number is even (code = 2)"
      ],
      "metadata": {
        "id": "W0VTpILQL3uG"
      }
    },
    {
      "cell_type": "code",
      "source": [
        "# Do not change the code value.\n",
        "# Write a lambda function with name `q`\n",
        "# Do not change the last line.\n",
        "# You can comment the last line for your own testing\n",
        "\n",
        "code = 2\n",
        "\n",
        "q = lambda x : x % 2 == 0\n",
        "\n",
        "report_solution(check_solution(q, code, tests))"
      ],
      "metadata": {
        "id": "hrYOneAsLlIv",
        "colab": {
          "base_uri": "https://localhost:8080/"
        },
        "outputId": "e2a3812d-2df1-4dfb-e63b-7dce9287d1d4"
      },
      "execution_count": 5,
      "outputs": [
        {
          "output_type": "stream",
          "name": "stdout",
          "text": [
            "\u001b[92m: ✅ All Test Cases Passed\u001b[0m\n"
          ]
        }
      ]
    },
    {
      "cell_type": "markdown",
      "source": [
        "Write a lambda that returns max of two numbers (code = 3)"
      ],
      "metadata": {
        "id": "421_89XqMeyG"
      }
    },
    {
      "cell_type": "code",
      "source": [
        "# Do not change the code value.\n",
        "# Write a lambda function with name `q`\n",
        "# Do not change the last line.\n",
        "# You can comment the last line for your own testing\n",
        "\n",
        "code = 3\n",
        "\n",
        "q = lambda x, y : x if x > y else y\n",
        "\n",
        "report_solution(check_solution(q, code, tests))"
      ],
      "metadata": {
        "id": "gFn7u-bMLOOi"
      },
      "execution_count": null,
      "outputs": []
    },
    {
      "cell_type": "markdown",
      "source": [
        "Lambda to reverse a string (code = 4)"
      ],
      "metadata": {
        "id": "TFAEYwOBMlbX"
      }
    },
    {
      "cell_type": "code",
      "source": [
        "# Do not change the code value.\n",
        "# Write a lambda function with name `q`\n",
        "# Do not change the last line.\n",
        "# You can comment the last line for your own testing\n",
        "\n",
        "code = 4\n",
        "\n",
        "q = lambda x : x[::-1]\n",
        "\n",
        "report_solution(check_solution(q, code, tests))"
      ],
      "metadata": {
        "id": "Ayf2R8zKMGIh",
        "colab": {
          "base_uri": "https://localhost:8080/"
        },
        "outputId": "948e8042-e847-46e8-c216-e41ac526c2fa"
      },
      "execution_count": 9,
      "outputs": [
        {
          "output_type": "stream",
          "name": "stdout",
          "text": [
            "\u001b[92m: ✅ All Test Cases Passed\u001b[0m\n"
          ]
        }
      ]
    },
    {
      "cell_type": "markdown",
      "source": [
        "Lambda to return sum of digits of a number (code = 5)\n"
      ],
      "metadata": {
        "id": "RKO-yXCrMpMP"
      }
    },
    {
      "cell_type": "code",
      "source": [
        "# Do not change the code value.\n",
        "# Write a lambda function with name `q`\n",
        "# Do not change the last line.\n",
        "# You can comment the last line for your own testing\n",
        "\n",
        "code = 5\n",
        "\n",
        "q = lambda x : sum([int(i) for i in str(x)])\n",
        "\n",
        "report_solution(check_solution(q, code, tests))"
      ],
      "metadata": {
        "id": "K9WzccjaMJFm",
        "colab": {
          "base_uri": "https://localhost:8080/"
        },
        "outputId": "634f7535-a901-423e-cbec-627efffd9582"
      },
      "execution_count": 10,
      "outputs": [
        {
          "output_type": "stream",
          "name": "stdout",
          "text": [
            "\u001b[92m: ✅ All Test Cases Passed\u001b[0m\n"
          ]
        }
      ]
    },
    {
      "cell_type": "markdown",
      "source": [
        "Lambda to return factorial (code = 6)\n"
      ],
      "metadata": {
        "id": "iC-MWgQEMs3I"
      }
    },
    {
      "cell_type": "code",
      "source": [
        "# Do not change the code value.\n",
        "# Write a lambda function with name `q`\n",
        "# Do not change the last line.\n",
        "# You can comment the last line for your own testing\n",
        "\n",
        "import functools\n",
        "code = 6\n",
        "\n",
        "q = lambda x : functools.reduce(lambda a, b : a * b, range(1, x + 1), 1)\n",
        "\n",
        "report_solution(check_solution(q, code, tests))"
      ],
      "metadata": {
        "id": "GjCfiTwMML-_",
        "colab": {
          "base_uri": "https://localhost:8080/"
        },
        "outputId": "e5e16722-8e33-43d3-eecf-e5e146ee37b7"
      },
      "execution_count": 38,
      "outputs": [
        {
          "output_type": "stream",
          "name": "stdout",
          "text": [
            "\u001b[92m: ✅ All Test Cases Passed\u001b[0m\n"
          ]
        }
      ]
    },
    {
      "cell_type": "markdown",
      "source": [
        "Lambda to check if string is palindrome (code = 7)\n"
      ],
      "metadata": {
        "id": "keRunGDlMwvU"
      }
    },
    {
      "cell_type": "code",
      "source": [
        "# Do not change the code value.\n",
        "# Write a lambda function with name `q`\n",
        "# Do not change the last line.\n",
        "# You can comment the last line for your own testing\n",
        "\n",
        "code = 7\n",
        "\n",
        "q =\n",
        "\n",
        "report_solution(check_solution(q, code, tests))"
      ],
      "metadata": {
        "id": "RliTiDXrMTJy"
      },
      "execution_count": null,
      "outputs": []
    },
    {
      "cell_type": "markdown",
      "source": [
        "Lambda to return min of three numbers (code = 8)\n"
      ],
      "metadata": {
        "id": "xmWRrxDCM1SM"
      }
    },
    {
      "cell_type": "code",
      "source": [
        "# Do not change the code value.\n",
        "# Write a lambda function with name `q`\n",
        "# Do not change the last line.\n",
        "# You can comment the last line for your own testing\n",
        "\n",
        "code = 8\n",
        "\n",
        "q =\n",
        "\n",
        "report_solution(check_solution(q, code, tests))"
      ],
      "metadata": {
        "id": "5z4eD-SfMWrl"
      },
      "execution_count": null,
      "outputs": []
    },
    {
      "cell_type": "markdown",
      "source": [
        "Lambda to count vowels in a string"
      ],
      "metadata": {
        "id": "PTjkfUjjM41h"
      }
    },
    {
      "cell_type": "code",
      "source": [
        "# Do not change the code value.\n",
        "# Write a lambda function with name `q`\n",
        "# Do not change the last line.\n",
        "# You can comment the last line for your own testing\n",
        "\n",
        "code = 9\n",
        "\n",
        "q =\n",
        "\n",
        "report_solution(check_solution(q, code, tests))"
      ],
      "metadata": {
        "id": "TfMoKckEMZFx"
      },
      "execution_count": null,
      "outputs": []
    },
    {
      "cell_type": "markdown",
      "source": [
        "Q : Lambda to sort a list of tuples by second element"
      ],
      "metadata": {
        "id": "UTaClGWiNA4H"
      }
    },
    {
      "cell_type": "code",
      "source": [
        "# Do not change the code value.\n",
        "# Write a lambda function with name `q`\n",
        "# Do not change the last line.\n",
        "# You can comment the last line for your own testing\n",
        "\n",
        "code = 10\n",
        "\n",
        "q =\n",
        "\n",
        "report_solution(check_solution(q, code, tests))"
      ],
      "metadata": {
        "id": "A0Jc4j2IMbX4"
      },
      "execution_count": null,
      "outputs": []
    },
    {
      "cell_type": "markdown",
      "source": [
        "A store gives a flat 10% discount if the bill amount is more than ₹1000, otherwise no discount.\n",
        "Write a lambda that takes the bill amount and returns the final amount. (code = 11)"
      ],
      "metadata": {
        "id": "bjo6zeveNbKZ"
      }
    },
    {
      "cell_type": "code",
      "source": [
        "# Do not change the code value.\n",
        "# Write a lambda function with name `q`\n",
        "# Do not change the last line.\n",
        "# You can comment the last line for your own testing\n",
        "\n",
        "code=11\n",
        "\n",
        "q =\n",
        "\n",
        "report_solution(check_solution(q, code, tests))"
      ],
      "metadata": {
        "id": "3sCcCgFSgXzn"
      },
      "execution_count": null,
      "outputs": []
    },
    {
      "cell_type": "markdown",
      "source": [
        "Given an age, write a lambda that returns True if the person is a teenager (13 - 19 inclusive), otherwise False. (code = 12)"
      ],
      "metadata": {
        "id": "jHHSPhmBR8BF"
      }
    },
    {
      "cell_type": "code",
      "source": [
        "# Do not change the code value.\n",
        "# Write a lambda function with name `q`\n",
        "# Do not change the last line.\n",
        "# You can comment the last line for your own testing\n",
        "\n",
        "code = 12\n",
        "\n",
        "q =\n",
        "\n",
        "report_solution(check_solution(q, code, tests))"
      ],
      "metadata": {
        "id": "WFtDpz2mkc2n"
      },
      "execution_count": null,
      "outputs": []
    },
    {
      "cell_type": "markdown",
      "source": [
        "A farmer has rectangular plots. Each plot is given as a tuple (length, width).\n",
        "Write a lambda to find the plot with the largest area from a list of plots. (code = 13)"
      ],
      "metadata": {
        "id": "AdGv9mipSjVf"
      }
    },
    {
      "cell_type": "code",
      "source": [
        "# Do not change the code value.\n",
        "# Write a lambda function with name `q`\n",
        "# Do not change the last line.\n",
        "# You can comment the last line for your own testing\n",
        "\n",
        "code=13\n",
        "\n",
        "q =\n",
        "\n",
        "report_solution(check_solution(q, code, tests))"
      ],
      "metadata": {
        "id": "_3678ZnOpw1j"
      },
      "execution_count": null,
      "outputs": []
    },
    {
      "cell_type": "markdown",
      "source": [
        "A student passes an exam if their score is >= 40, otherwise they fail.\n",
        "Write a lambda that returns \"Pass\" or \"Fail\" given a score. (code = 14)"
      ],
      "metadata": {
        "id": "ojL4XemESpHj"
      }
    },
    {
      "cell_type": "code",
      "source": [
        "# Do not change the code value.\n",
        "# Write a lambda function with name `q`\n",
        "# Do not change the last line.\n",
        "# You can comment the last line for your own testing\n",
        "\n",
        "code = 14\n",
        "\n",
        "q =\n",
        "\n",
        "report_solution(check_solution(q, code, tests))"
      ],
      "metadata": {
        "id": "ENyxicdUrZiZ"
      },
      "execution_count": null,
      "outputs": []
    },
    {
      "cell_type": "markdown",
      "source": [
        "Shipping cost is ₹50 if weight ≤ 5kg, otherwise ₹100.\n",
        "Write a lambda that takes weight and returns the shipping cost. (code = 15)"
      ],
      "metadata": {
        "id": "4mDRbG7dSsVB"
      }
    },
    {
      "cell_type": "code",
      "source": [
        "# Do not change the code value.\n",
        "# Write a lambda function with name `q`\n",
        "# Do not change the last line.\n",
        "# You can comment the last line for your own testing\n",
        "\n",
        "code = 15\n",
        "\n",
        "q =\n",
        "\n",
        "report_solution(check_solution(q, code, tests))"
      ],
      "metadata": {
        "id": "2eHanOOfrqBD"
      },
      "execution_count": null,
      "outputs": []
    },
    {
      "cell_type": "markdown",
      "source": [
        "Given a temperature in Celsius, write a lambda to convert it to Fahrenheit.\n",
        "Formula: F = (C x 9/5) + 32. (code = 16)"
      ],
      "metadata": {
        "id": "yyUePZrvS2jr"
      }
    },
    {
      "cell_type": "code",
      "source": [
        "# Do not change the code value.\n",
        "# Write a lambda function with name `q`\n",
        "# Do not change the last line.\n",
        "# You can comment the last line for your own testing\n",
        "\n",
        "code = 16\n",
        "\n",
        "q =\n",
        "\n",
        "report_solution(check_solution(q, code, tests))"
      ],
      "metadata": {
        "id": "tL2Ky6CfsSHx"
      },
      "execution_count": null,
      "outputs": []
    },
    {
      "cell_type": "markdown",
      "source": [
        "Write a lambda that returns a grade given a score: [90+ :  \"A\"; 75-89 : \"B\"; 50-74 : \"C\"; below 50 : \"F\"]\n",
        "\n",
        "(code = 17)"
      ],
      "metadata": {
        "id": "co5lMtRBTaft"
      }
    },
    {
      "cell_type": "code",
      "source": [
        "# Do not change the code value.\n",
        "# Write a lambda function with name `q`\n",
        "# Do not change the last line.\n",
        "# You can comment the last line for your own testing\n",
        "\n",
        "code = 17\n",
        "\n",
        "q =\n",
        "\n",
        "report_solution(check_solution(q, code, tests))"
      ],
      "metadata": {
        "id": "pBnEOIsDtkBJ"
      },
      "execution_count": null,
      "outputs": []
    },
    {
      "cell_type": "markdown",
      "source": [
        "An office allows entry only between 9 AM and 6 PM (inclusive).\n",
        "Write a lambda that takes an integer hour (0-23) and returns True if allowed, else False. (code = 18)"
      ],
      "metadata": {
        "id": "5MlcHYMNT554"
      }
    },
    {
      "cell_type": "code",
      "source": [
        "# Do not change the code value.\n",
        "# Write a lambda function with name `q`\n",
        "# Do not change the last line.\n",
        "# You can comment the last line for your own testing\n",
        "\n",
        "code = 18\n",
        "\n",
        "q =\n",
        "\n",
        "report_solution(check_solution(q, code, tests))"
      ],
      "metadata": {
        "id": "w_Ob-fiHvDU3"
      },
      "execution_count": null,
      "outputs": []
    },
    {
      "cell_type": "markdown",
      "source": [
        "Given a list of words, write a lambda with filter to return only those words which are palindromes. (code = 9)"
      ],
      "metadata": {
        "id": "6iOuMSfEUD1S"
      }
    },
    {
      "cell_type": "code",
      "source": [
        "# Do not change the code value.\n",
        "# Write a lambda function with name `q`\n",
        "# Do not change the last line.\n",
        "# You can comment the last line for your own testing\n",
        "\n",
        "code = 19\n",
        "\n",
        "q =\n",
        "\n",
        "report_solution(check_solution(q, code, tests))"
      ],
      "metadata": {
        "id": "_oStzauNvoO2"
      },
      "execution_count": null,
      "outputs": []
    },
    {
      "cell_type": "markdown",
      "source": [
        "Employees are represented as tuples (name, salary).\n",
        "Write a lambda to sort a list of employees by salary in descending order. (code = 10)"
      ],
      "metadata": {
        "id": "ZrvpBxHaUI11"
      }
    },
    {
      "cell_type": "code",
      "source": [
        "# Do not change the code value.\n",
        "# Write a lambda function with name `q`\n",
        "# Do not change the last line.\n",
        "# You can comment the last line for your own testing\n",
        "\n",
        "code = 20\n",
        "\n",
        "q =\n",
        "\n",
        "report_solution(check_solution(q, code, tests))"
      ],
      "metadata": {
        "id": "WI-OPENVNa83"
      },
      "execution_count": null,
      "outputs": []
    }
  ]
}
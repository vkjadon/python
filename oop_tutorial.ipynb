{
  "nbformat": 4,
  "nbformat_minor": 0,
  "metadata": {
    "colab": {
      "provenance": [],
      "authorship_tag": "ABX9TyMC+XnTcLi9Wljae/eJGZoN",
      "include_colab_link": true
    },
    "kernelspec": {
      "name": "python3",
      "display_name": "Python 3"
    },
    "language_info": {
      "name": "python"
    }
  },
  "cells": [
    {
      "cell_type": "markdown",
      "metadata": {
        "id": "view-in-github",
        "colab_type": "text"
      },
      "source": [
        "<a href=\"https://colab.research.google.com/github/vkjadon/python/blob/main/oop_tutorial.ipynb\" target=\"_parent\"><img src=\"https://colab.research.google.com/assets/colab-badge.svg\" alt=\"Open In Colab\"/></a>"
      ]
    },
    {
      "cell_type": "code",
      "source": [
        "class Robot:\n",
        "    pass"
      ],
      "metadata": {
        "id": "xyJFMqwazTPF"
      },
      "execution_count": 4,
      "outputs": []
    },
    {
      "cell_type": "code",
      "source": [
        "my_first_robot=Robot()\n",
        "my_second_robot=Robot()"
      ],
      "metadata": {
        "id": "jlBcATgwzjsu"
      },
      "execution_count": 3,
      "outputs": []
    },
    {
      "cell_type": "code",
      "source": [
        "print(my_first_robot)\n",
        "print(my_second_robot)"
      ],
      "metadata": {
        "colab": {
          "base_uri": "https://localhost:8080/"
        },
        "id": "-rjZ94r5zsAq",
        "outputId": "31eaad75-d949-467c-f274-f0ca38ae5e4a"
      },
      "execution_count": 5,
      "outputs": [
        {
          "output_type": "stream",
          "name": "stdout",
          "text": [
            "<__main__.Robot object at 0x7f318ebb9570>\n",
            "<__main__.Robot object at 0x7f318ebba950>\n"
          ]
        }
      ]
    },
    {
      "cell_type": "code",
      "execution_count": 1,
      "metadata": {
        "colab": {
          "base_uri": "https://localhost:8080/"
        },
        "id": "eCCfS4MBy6SQ",
        "outputId": "ef62b945-2968-4680-b4a4-96a108b9825d"
      },
      "outputs": [
        {
          "output_type": "stream",
          "name": "stdout",
          "text": [
            "<__main__.Robot object at 0x7f318ebb97b0>\n"
          ]
        }
      ],
      "source": [
        "class Robot:\n",
        "    name = None\n",
        "    model = None\n",
        "\n",
        "my_robot=Robot()\n",
        "print(my_robot)"
      ]
    },
    {
      "cell_type": "code",
      "source": [
        "my_robot.name=\"R2D2\"\n",
        "my_robot.model=\"Droid\""
      ],
      "metadata": {
        "id": "NAGh6tuTz48D"
      },
      "execution_count": 6,
      "outputs": []
    }
  ]
}
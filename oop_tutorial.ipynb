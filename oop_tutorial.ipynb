{
  "nbformat": 4,
  "nbformat_minor": 0,
  "metadata": {
    "colab": {
      "provenance": [],
      "toc_visible": true,
      "authorship_tag": "ABX9TyOILAlR9/KpledwJzgxcENA",
      "include_colab_link": true
    },
    "kernelspec": {
      "name": "python3",
      "display_name": "Python 3"
    },
    "language_info": {
      "name": "python"
    }
  },
  "cells": [
    {
      "cell_type": "markdown",
      "metadata": {
        "id": "view-in-github",
        "colab_type": "text"
      },
      "source": [
        "<a href=\"https://colab.research.google.com/github/vkjadon/python/blob/main/oop_tutorial.ipynb\" target=\"_parent\"><img src=\"https://colab.research.google.com/assets/colab-badge.svg\" alt=\"Open In Colab\"/></a>"
      ]
    },
    {
      "cell_type": "markdown",
      "source": [
        "# Introducing Class and Object"
      ],
      "metadata": {
        "id": "-TOFyWuxOCee"
      }
    },
    {
      "cell_type": "code",
      "source": [
        "class Robot:\n",
        "    pass"
      ],
      "metadata": {
        "id": "xyJFMqwazTPF"
      },
      "execution_count": null,
      "outputs": []
    },
    {
      "cell_type": "code",
      "source": [
        "my_first_robot=Robot()\n",
        "my_second_robot=Robot()"
      ],
      "metadata": {
        "id": "jlBcATgwzjsu"
      },
      "execution_count": null,
      "outputs": []
    },
    {
      "cell_type": "code",
      "source": [
        "print(my_first_robot)\n",
        "print(my_second_robot)"
      ],
      "metadata": {
        "colab": {
          "base_uri": "https://localhost:8080/"
        },
        "id": "-rjZ94r5zsAq",
        "outputId": "31eaad75-d949-467c-f274-f0ca38ae5e4a"
      },
      "execution_count": null,
      "outputs": [
        {
          "output_type": "stream",
          "name": "stdout",
          "text": [
            "<__main__.Robot object at 0x7f318ebb9570>\n",
            "<__main__.Robot object at 0x7f318ebba950>\n"
          ]
        }
      ]
    },
    {
      "cell_type": "markdown",
      "source": [
        "# Adding Attributes to a Class"
      ],
      "metadata": {
        "id": "YbbMkSUoOHa0"
      }
    },
    {
      "cell_type": "code",
      "execution_count": null,
      "metadata": {
        "colab": {
          "base_uri": "https://localhost:8080/"
        },
        "id": "eCCfS4MBy6SQ",
        "outputId": "ef62b945-2968-4680-b4a4-96a108b9825d"
      },
      "outputs": [
        {
          "output_type": "stream",
          "name": "stdout",
          "text": [
            "<__main__.Robot object at 0x7f318ebb97b0>\n"
          ]
        }
      ],
      "source": [
        "class Robot:\n",
        "    name = None\n",
        "    model = None\n",
        "\n",
        "my_robot=Robot()\n",
        "print(my_robot)"
      ]
    },
    {
      "cell_type": "code",
      "source": [
        "my_robot.name=\"R2D2\"\n",
        "my_robot.model=\"Droid\""
      ],
      "metadata": {
        "id": "NAGh6tuTz48D"
      },
      "execution_count": null,
      "outputs": []
    },
    {
      "cell_type": "code",
      "source": [
        "my_second_robot.name=\"C3PO\"\n",
        "my_second_robot.model=\"Droid\""
      ],
      "metadata": {
        "id": "FL0eEmYKNuNg"
      },
      "execution_count": null,
      "outputs": []
    },
    {
      "cell_type": "markdown",
      "source": [
        "# Add Parameters to Class Constructor"
      ],
      "metadata": {
        "id": "vmR7JOjwO6rP"
      }
    },
    {
      "cell_type": "code",
      "source": [
        "class Robot():\n",
        "  def __init__(self, name, model):\n",
        "    self.name = name\n",
        "    self.model = model\n",
        "\n",
        "my_robot=Robot(\"R2D2\", \"Droid\")\n",
        "my_second_robot=Robot(\"C3PO\", \"Droid\")\n",
        "\n",
        "print(my_robot.model)"
      ],
      "metadata": {
        "id": "45jR_TStO-7Z",
        "outputId": "da0a0d4e-327a-4965-d63b-78f29262b9f1",
        "colab": {
          "base_uri": "https://localhost:8080/"
        }
      },
      "execution_count": null,
      "outputs": [
        {
          "output_type": "stream",
          "name": "stdout",
          "text": [
            "Droid\n"
          ]
        }
      ]
    },
    {
      "cell_type": "markdown",
      "source": [
        "We can access the Robot Class attributes from the outside of the class."
      ],
      "metadata": {
        "id": "dEfZDfslRcDA"
      }
    },
    {
      "cell_type": "markdown",
      "source": [
        "# Add a method to the class"
      ],
      "metadata": {
        "id": "CKx-oLqmRAsO"
      }
    },
    {
      "cell_type": "code",
      "source": [
        "class Robot():\n",
        "  def __init__(self, name, model):\n",
        "    self.name = name\n",
        "    self.model = model\n",
        "\n",
        "  def robot_info(self):\n",
        "    print(self, \"Name : \", self.name, \"| Model : \", self.model)\n",
        "\n",
        "my_robot=Robot(\"R2D2\", \"Droid\")\n",
        "my_second_robot=Robot(\"C3PO\", \"Droid\")\n",
        "\n",
        "print(my_robot)\n",
        "my_robot.robot_info()\n",
        "\n",
        "print(my_second_robot)\n",
        "my_second_robot.robot_info()"
      ],
      "metadata": {
        "id": "qoGx_PFcP1dU",
        "outputId": "d7b3e16c-398b-4018-845c-4ffeda6c8a9d",
        "colab": {
          "base_uri": "https://localhost:8080/"
        }
      },
      "execution_count": null,
      "outputs": [
        {
          "output_type": "stream",
          "name": "stdout",
          "text": [
            "<__main__.Robot object at 0x7bf3280a3f70>\n",
            "<__main__.Robot object at 0x7bf3280a3f70> Name :  R2D2 | Model :  Droid\n",
            "<__main__.Robot object at 0x7bf3280a2680>\n",
            "<__main__.Robot object at 0x7bf3280a2680> Name :  C3PO | Model :  Droid\n"
          ]
        }
      ]
    },
    {
      "cell_type": "code",
      "source": [
        "print(my_robot.__dict__)"
      ],
      "metadata": {
        "id": "1nIGnvBSUn8o",
        "outputId": "4b7f28a8-41e7-45ef-b6dd-9b6573938dfb",
        "colab": {
          "base_uri": "https://localhost:8080/"
        }
      },
      "execution_count": null,
      "outputs": [
        {
          "output_type": "stream",
          "name": "stdout",
          "text": [
            "{'name': 'R2D2', 'model': 'Droid'}\n"
          ]
        }
      ]
    },
    {
      "cell_type": "markdown",
      "source": [
        "# A Robot Components"
      ],
      "metadata": {
        "id": "idqlJuleUUar"
      }
    },
    {
      "cell_type": "code",
      "source": [],
      "metadata": {
        "id": "YbKyC5XYUaVT"
      },
      "execution_count": null,
      "outputs": []
    }
  ]
}
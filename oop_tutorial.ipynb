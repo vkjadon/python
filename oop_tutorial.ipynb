{
  "nbformat": 4,
  "nbformat_minor": 0,
  "metadata": {
    "colab": {
      "provenance": [],
      "toc_visible": true,
      "authorship_tag": "ABX9TyO4DhrhzcfUjkdMO5bchSUp",
      "include_colab_link": true
    },
    "kernelspec": {
      "name": "python3",
      "display_name": "Python 3"
    },
    "language_info": {
      "name": "python"
    }
  },
  "cells": [
    {
      "cell_type": "markdown",
      "metadata": {
        "id": "view-in-github",
        "colab_type": "text"
      },
      "source": [
        "<a href=\"https://colab.research.google.com/github/vkjadon/python/blob/main/oop_tutorial.ipynb\" target=\"_parent\"><img src=\"https://colab.research.google.com/assets/colab-badge.svg\" alt=\"Open In Colab\"/></a>"
      ]
    },
    {
      "cell_type": "markdown",
      "source": [
        "# Introducing Class and Object"
      ],
      "metadata": {
        "id": "-TOFyWuxOCee"
      }
    },
    {
      "cell_type": "code",
      "source": [
        "class Robot:\n",
        "    pass"
      ],
      "metadata": {
        "id": "xyJFMqwazTPF"
      },
      "execution_count": null,
      "outputs": []
    },
    {
      "cell_type": "code",
      "source": [
        "my_first_robot=Robot()\n",
        "my_second_robot=Robot()"
      ],
      "metadata": {
        "id": "jlBcATgwzjsu"
      },
      "execution_count": null,
      "outputs": []
    },
    {
      "cell_type": "code",
      "source": [
        "print(my_first_robot)\n",
        "print(my_second_robot)"
      ],
      "metadata": {
        "colab": {
          "base_uri": "https://localhost:8080/"
        },
        "id": "-rjZ94r5zsAq",
        "outputId": "31eaad75-d949-467c-f274-f0ca38ae5e4a"
      },
      "execution_count": null,
      "outputs": [
        {
          "output_type": "stream",
          "name": "stdout",
          "text": [
            "<__main__.Robot object at 0x7f318ebb9570>\n",
            "<__main__.Robot object at 0x7f318ebba950>\n"
          ]
        }
      ]
    },
    {
      "cell_type": "markdown",
      "source": [
        "# Adding Attributes to a Class"
      ],
      "metadata": {
        "id": "YbbMkSUoOHa0"
      }
    },
    {
      "cell_type": "code",
      "execution_count": null,
      "metadata": {
        "colab": {
          "base_uri": "https://localhost:8080/"
        },
        "id": "eCCfS4MBy6SQ",
        "outputId": "ef62b945-2968-4680-b4a4-96a108b9825d"
      },
      "outputs": [
        {
          "output_type": "stream",
          "name": "stdout",
          "text": [
            "<__main__.Robot object at 0x7f318ebb97b0>\n"
          ]
        }
      ],
      "source": [
        "class Robot:\n",
        "    name = None\n",
        "    model = None\n",
        "\n",
        "my_robot=Robot()\n",
        "print(my_robot)"
      ]
    },
    {
      "cell_type": "code",
      "source": [
        "my_robot.name=\"R2D2\"\n",
        "my_robot.model=\"Droid\""
      ],
      "metadata": {
        "id": "NAGh6tuTz48D"
      },
      "execution_count": null,
      "outputs": []
    },
    {
      "cell_type": "code",
      "source": [
        "my_second_robot.name=\"C3PO\"\n",
        "my_second_robot.model=\"Droid\""
      ],
      "metadata": {
        "id": "FL0eEmYKNuNg"
      },
      "execution_count": null,
      "outputs": []
    },
    {
      "cell_type": "markdown",
      "source": [
        "# Add Parameters to Class Constructor"
      ],
      "metadata": {
        "id": "vmR7JOjwO6rP"
      }
    },
    {
      "cell_type": "code",
      "source": [
        "class Robot():\n",
        "  def __init__(self, name, model):\n",
        "    self.name = name\n",
        "    self.model = model\n",
        "\n",
        "my_robot=Robot(\"R2D2\", \"Droid\")\n",
        "my_second_robot=Robot(\"C3PO\", \"Droid\")\n",
        "\n",
        "print(my_robot.model)"
      ],
      "metadata": {
        "id": "45jR_TStO-7Z",
        "outputId": "da0a0d4e-327a-4965-d63b-78f29262b9f1",
        "colab": {
          "base_uri": "https://localhost:8080/"
        }
      },
      "execution_count": null,
      "outputs": [
        {
          "output_type": "stream",
          "name": "stdout",
          "text": [
            "Droid\n"
          ]
        }
      ]
    },
    {
      "cell_type": "markdown",
      "source": [
        "We can access the Robot Class attributes from the outside of the class."
      ],
      "metadata": {
        "id": "dEfZDfslRcDA"
      }
    },
    {
      "cell_type": "markdown",
      "source": [
        "# Add a method to the class"
      ],
      "metadata": {
        "id": "CKx-oLqmRAsO"
      }
    },
    {
      "cell_type": "code",
      "source": [
        "class Robot():\n",
        "  def __init__(self, name, model):\n",
        "    self.name = name\n",
        "    self.model = model\n",
        "\n",
        "  def robot_info(self):\n",
        "    print(self, \"Name : \", self.name, \"| Model : \", self.model)"
      ],
      "metadata": {
        "id": "qoGx_PFcP1dU"
      },
      "execution_count": 2,
      "outputs": []
    },
    {
      "cell_type": "code",
      "source": [
        "my_robot=Robot(\"R2D2\", \"Droid\")\n",
        "my_second_robot=Robot(\"C3PO\", \"Droid\")\n",
        "\n",
        "print(my_robot)\n",
        "my_robot.robot_info()\n",
        "\n",
        "print(my_second_robot)\n",
        "my_second_robot.robot_info()"
      ],
      "metadata": {
        "id": "AHpwABSg5Nm_",
        "outputId": "24cf5e3c-ee3c-4a53-8ad0-8237ad52290d",
        "colab": {
          "base_uri": "https://localhost:8080/"
        }
      },
      "execution_count": 3,
      "outputs": [
        {
          "output_type": "stream",
          "name": "stdout",
          "text": [
            "<__main__.Robot object at 0x7ef1fab14280>\n",
            "<__main__.Robot object at 0x7ef1fab14280> Name :  R2D2 | Model :  Droid\n",
            "<__main__.Robot object at 0x7ef1fab163e0>\n",
            "<__main__.Robot object at 0x7ef1fab163e0> Name :  C3PO | Model :  Droid\n"
          ]
        }
      ]
    },
    {
      "cell_type": "code",
      "source": [
        "print(my_robot.__dict__)"
      ],
      "metadata": {
        "id": "1nIGnvBSUn8o",
        "outputId": "4b7f28a8-41e7-45ef-b6dd-9b6573938dfb",
        "colab": {
          "base_uri": "https://localhost:8080/"
        }
      },
      "execution_count": null,
      "outputs": [
        {
          "output_type": "stream",
          "name": "stdout",
          "text": [
            "{'name': 'R2D2', 'model': 'Droid'}\n"
          ]
        }
      ]
    },
    {
      "cell_type": "markdown",
      "source": [
        "# Add Robot Components\n",
        "\n",
        "Let us add battery to begin with by creating a Battery Class and add one attribute 'capacity' to this class."
      ],
      "metadata": {
        "id": "idqlJuleUUar"
      }
    },
    {
      "cell_type": "code",
      "source": [
        "class Battery:\n",
        "    def __init__(self, capacity):\n",
        "        self.capacity = capacity"
      ],
      "metadata": {
        "id": "YbKyC5XYUaVT"
      },
      "execution_count": null,
      "outputs": []
    },
    {
      "cell_type": "code",
      "source": [
        "# Define the Battery class to demonstrate composition\n",
        "class Battery:\n",
        "    def __init__(self, capacity):\n",
        "        self.capacity = capacity\n",
        "\n",
        "    def get_capacity(self):\n",
        "        return self.capacity\n",
        "\n",
        "# Define the Motor class to demonstrate composition\n",
        "class Motor:\n",
        "    def __init__(self, power):\n",
        "        self.power = power\n",
        "\n",
        "    def get_power(self):\n",
        "        return self.power\n",
        "\n",
        "# Define the RangeFinder class\n",
        "class RangeFinder:\n",
        "    def __init__(self, max_range):\n",
        "        self.max_range = max_range\n",
        "\n",
        "    def get_distance(self):\n",
        "        return self.max_range / 2  # Example fixed value for demonstration\n",
        "\n",
        "# Define the IMU class\n",
        "class IMU:\n",
        "    def __init__(self, model):\n",
        "        self.model = model\n",
        "\n",
        "    def get_orientation(self):\n",
        "        return {\"roll\": 0.1, \"pitch\": 0.1, \"yaw\": 0.1}  # Example fixed values for demonstration\n",
        "\n",
        "# Define a configuration class to encapsulate all configurations\n",
        "class RobotConfig:\n",
        "    def __init__(self, name, model, battery, motor, sensors):\n",
        "        self.name = name\n",
        "        self.model = model\n",
        "        self.battery = battery\n",
        "        self.motor = motor\n",
        "        self.sensors = sensors\n",
        "\n",
        "# Define the base Robot class to demonstrate encapsulation and basic OOP concepts\n",
        "class Robot:\n",
        "    total_robots = 0  # Class variable to keep track of the number of Robot instances\n",
        "\n",
        "    def __init__(self, config):\n",
        "        self.__name = config.name  # private attribute\n",
        "        self.__model = config.model  # private attribute\n",
        "        self.battery = config.battery  # composition\n",
        "        self.motor = config.motor  # composition\n",
        "        self.sensors = config.sensors  # composition\n",
        "        Robot.total_robots += 1  # Increment the class variable\n",
        "\n",
        "    # Encapsulated methods to access private attributes\n",
        "    def get_name(self):\n",
        "        return self.__name\n",
        "\n",
        "    def set_name(self, name):\n",
        "        self.__name = name\n",
        "\n",
        "    def get_model(self):\n",
        "        return self.__model\n",
        "\n",
        "    def set_model(self, model):\n",
        "        self.__model = model\n",
        "\n",
        "    # Method to move the robot\n",
        "    def move(self, direction, distance):\n",
        "        print(f\"{self.__name} (model {self.__model}) with battery capacity {self.battery.get_capacity()}mAh \"\n",
        "              f\"and motor power {self.motor.get_power()}W is moving {direction} for {distance} meters\")\n",
        "\n",
        "    # Method to get range finder reading\n",
        "    def get_range(self):\n",
        "        return self.sensors['range_finder'].get_distance()\n",
        "\n",
        "    # Method to get IMU reading\n",
        "    def get_orientation(self):\n",
        "        return self.sensors['imu'].get_orientation()\n",
        "\n",
        "    # Class method to get the total number of robots\n",
        "    @classmethod\n",
        "    def get_total_robots(cls):\n",
        "        return cls.total_robots\n",
        "\n",
        "# Define a subclass of Robot to demonstrate inheritance and method overriding\n",
        "class FlyingRobot(Robot):\n",
        "    total_flying_robots = 0  # Class variable to keep track of the number of FlyingRobot instances\n",
        "\n",
        "    def __init__(self, config, altitude):\n",
        "        super().__init__(config)  # call the base class constructor\n",
        "        self.altitude = altitude\n",
        "        FlyingRobot.total_flying_robots += 1  # Increment the class variable\n",
        "\n",
        "    # Overriding the move method to include flying behavior\n",
        "    def move(self, direction, distance):\n",
        "        print(f\"{self.get_name()} (model {self.get_model()}) with battery capacity {self.battery.get_capacity()}mAh \"\n",
        "              f\"and motor power {self.motor.get_power()}W is flying {direction} for {distance} meters at altitude {self.altitude} meters\")\n",
        "\n",
        "    # Class method to get the total number of flying robots\n",
        "    @classmethod\n",
        "    def get_total_flying_robots(cls):\n",
        "        return cls.total_flying_robots\n",
        "\n",
        "# Define a function to demonstrate polymorphism\n",
        "def operate_robot(robot, direction, distance):\n",
        "    robot.move(direction, distance)\n",
        "\n",
        "# Main script\n",
        "if __name__ == \"__main__\":\n",
        "    # Create instances of Battery, Motor, RangeFinder, and IMU\n",
        "    battery1 = Battery(5000)\n",
        "    motor1 = Motor(200)\n",
        "    range_finder1 = RangeFinder(100)\n",
        "    imu1 = IMU(\"MPU6050\")\n",
        "\n",
        "    battery2 = Battery(8000)\n",
        "    motor2 = Motor(400)\n",
        "    range_finder2 = RangeFinder(150)\n",
        "    imu2 = IMU(\"MPU6050\")\n",
        "\n",
        "    # Create configuration objects\n",
        "    config1 = RobotConfig(\"Robo1\", \"RX-78\", battery1, motor1, {'range_finder': range_finder1, 'imu': imu1})\n",
        "    config2 = RobotConfig(\"FlyBot1\", \"FX-99\", battery2, motor2, {'range_finder': range_finder2, 'imu': imu2})\n",
        "\n",
        "    # Create instances of the Robot and FlyingRobot classes using the configuration objects\n",
        "    robot1 = Robot(config1)\n",
        "    print(robot1.get_name())\n",
        "    robot1.set_name(\"Robo2\")\n",
        "    print(robot1.get_name())\n",
        "    robot1.move(\"forward\", 10)\n",
        "    print(f\"Range: {robot1.get_range()} meters\")\n",
        "    print(f\"Orientation: {robot1.get_orientation()}\")\n",
        "\n",
        "    flying_robot = FlyingRobot(config2, 100)\n",
        "    flying_robot.move(\"upwards\", 20)\n",
        "    print(f\"Range: {flying_robot.get_range()} meters\")\n",
        "    print(f\"Orientation: {flying_robot.get_orientation()}\")\n",
        "\n",
        "    # Using polymorphism to operate different types of robots\n",
        "    operate_robot(robot1, \"left\", 5)\n",
        "    operate_robot(flying_robot, \"right\", 15)\n",
        "\n",
        "    # Display the total number of robots and flying robots\n",
        "    print(f\"Total robots: {Robot.get_total_robots()}\")\n",
        "    print(f\"Total flying robots: {FlyingRobot.get_total_flying_robots()}\")\n"
      ],
      "metadata": {
        "id": "YKqAwGAAoskA"
      },
      "execution_count": null,
      "outputs": []
    }
  ]
}
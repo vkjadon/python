{
  "cells": [
    {
      "cell_type": "code",
      "execution_count": 2,
      "metadata": {
        "id": "iiFcsFYFFnvc"
      },
      "outputs": [],
      "source": [
        "import random\n",
        "import numpy as np"
      ]
    },
    {
      "cell_type": "code",
      "source": [
        "for i in range(10):\n",
        "    X=random.random()\n",
        "    print(X)"
      ],
      "metadata": {
        "id": "FauGh-VZGjXA"
      },
      "execution_count": null,
      "outputs": []
    },
    {
      "cell_type": "code",
      "execution_count": null,
      "metadata": {
        "id": "XpEySsSJFnve"
      },
      "outputs": [],
      "source": [
        "for i in range(10):\n",
        "    X=random.randint(1,6)\n",
        "    print(X)"
      ]
    },
    {
      "cell_type": "code",
      "execution_count": null,
      "metadata": {
        "id": "mgFsZeeDFnvf"
      },
      "outputs": [],
      "source": [
        "outcomes=['Head','Tail']\n",
        "for i in range(10):\n",
        "    X=random.choice(outcomes)\n",
        "    print(X)"
      ]
    },
    {
      "cell_type": "markdown",
      "metadata": {
        "id": "IKKN0f-bFnvg"
      },
      "source": [
        "Generate a random number between 3 and 7 using random() function.\n",
        "The output of the random() function is the multiplied by range of the number i.e. 7-3=4.\n",
        "This will scale the numbers by 4. Add the first number to shift the numbers between 3 and 7."
      ]
    },
    {
      "cell_type": "code",
      "execution_count": null,
      "metadata": {
        "id": "7cHM6bfBFnvh"
      },
      "outputs": [],
      "source": [
        "# Generate random number between 3 and 7\n",
        "def randomGenerator():\n",
        "    return 4*random.random()+3\n",
        "for i in range(10):\n",
        "    X=randomGenerator()\n",
        "    print(X)"
      ]
    },
    {
      "cell_type": "markdown",
      "metadata": {
        "id": "O_V7TCLAFnvh"
      },
      "source": [
        "We can also use the uniform() function to generate uniform random numbers."
      ]
    },
    {
      "cell_type": "code",
      "execution_count": null,
      "metadata": {
        "id": "ftHawmXTFnvi"
      },
      "outputs": [],
      "source": [
        "for i in range(10):\n",
        "    X=random.uniform(3,7)\n",
        "    print(X)"
      ]
    },
    {
      "cell_type": "markdown",
      "metadata": {
        "id": "1bfM7aMBFnvi"
      },
      "source": [
        "Use Normal Distribution to generate the random numbers which satisfy the Gaussian distribution. Any Gaussian distribution is described by its mean and variance. "
      ]
    },
    {
      "cell_type": "code",
      "execution_count": null,
      "metadata": {
        "id": "4LzSC1ZWFnvi"
      },
      "outputs": [],
      "source": [
        "for i in range(10):\n",
        "    X=random.normalvariate(0, 0.2)\n",
        "    print(X)"
      ]
    },
    {
      "cell_type": "markdown",
      "source": [
        "Consider random arrays of shape a(4,3) and b(3,2). np.dot(a, b) has shape equal to number of rows of a, number of columns of b\n",
        "\n",
        "In numpy the * operator indicates element-wise multiplication and is different from np.dot.\n",
        "\n",
        "Dot Product is also known as inner product"
      ],
      "metadata": {
        "id": "vsoOBKbbGZQG"
      }
    },
    {
      "cell_type": "code",
      "execution_count": null,
      "metadata": {
        "id": "nQ0RgAPnFnvi"
      },
      "outputs": [],
      "source": []
    },
    {
      "cell_type": "code",
      "source": [
        "a=np.random.randn(4,3)\n",
        "#a=np.random.randn(3,2)\n",
        "b=np.random.randn(3,2)\n",
        "c=a*b\n",
        "print(c)"
      ],
      "metadata": {
        "colab": {
          "base_uri": "https://localhost:8080/",
          "height": 222
        },
        "id": "lm8OoujysISW",
        "outputId": "49520677-621f-4ac6-c72f-3101fd3ce5bb"
      },
      "execution_count": 3,
      "outputs": [
        {
          "output_type": "error",
          "ename": "ValueError",
          "evalue": "ignored",
          "traceback": [
            "\u001b[0;31m---------------------------------------------------------------------------\u001b[0m",
            "\u001b[0;31mValueError\u001b[0m                                Traceback (most recent call last)",
            "\u001b[0;32m<ipython-input-3-e11d0d42acd0>\u001b[0m in \u001b[0;36m<module>\u001b[0;34m\u001b[0m\n\u001b[1;32m      2\u001b[0m \u001b[0;31m#a=np.random.randn(3,2)\u001b[0m\u001b[0;34m\u001b[0m\u001b[0;34m\u001b[0m\u001b[0;34m\u001b[0m\u001b[0m\n\u001b[1;32m      3\u001b[0m \u001b[0mb\u001b[0m\u001b[0;34m=\u001b[0m\u001b[0mnp\u001b[0m\u001b[0;34m.\u001b[0m\u001b[0mrandom\u001b[0m\u001b[0;34m.\u001b[0m\u001b[0mrandn\u001b[0m\u001b[0;34m(\u001b[0m\u001b[0;36m3\u001b[0m\u001b[0;34m,\u001b[0m\u001b[0;36m2\u001b[0m\u001b[0;34m)\u001b[0m\u001b[0;34m\u001b[0m\u001b[0;34m\u001b[0m\u001b[0m\n\u001b[0;32m----> 4\u001b[0;31m \u001b[0mc\u001b[0m\u001b[0;34m=\u001b[0m\u001b[0ma\u001b[0m\u001b[0;34m*\u001b[0m\u001b[0mb\u001b[0m\u001b[0;34m\u001b[0m\u001b[0;34m\u001b[0m\u001b[0m\n\u001b[0m\u001b[1;32m      5\u001b[0m \u001b[0mprint\u001b[0m\u001b[0;34m(\u001b[0m\u001b[0mc\u001b[0m\u001b[0;34m)\u001b[0m\u001b[0;34m\u001b[0m\u001b[0;34m\u001b[0m\u001b[0m\n",
            "\u001b[0;31mValueError\u001b[0m: operands could not be broadcast together with shapes (4,3) (3,2) "
          ]
        }
      ]
    },
    {
      "cell_type": "code",
      "source": [
        "#Generate a random integer from 0 to 100:\n",
        "x = random.randint(100)\n",
        "print(x)"
      ],
      "metadata": {
        "id": "FWZ883utG-Z7",
        "outputId": "5c62b1eb-4f81-4cb9-e023-9de011efea4c",
        "colab": {
          "base_uri": "https://localhost:8080/"
        }
      },
      "execution_count": 7,
      "outputs": [
        {
          "output_type": "stream",
          "name": "stdout",
          "text": [
            "24\n"
          ]
        }
      ]
    },
    {
      "cell_type": "code",
      "source": [
        "from numpy import random"
      ],
      "metadata": {
        "id": "9rrv7VgnG4-V"
      },
      "execution_count": 5,
      "outputs": []
    },
    {
      "cell_type": "code",
      "source": [
        "#Generate a random integer from 0 to 100:\n",
        "x = random.randint(100)\n",
        "print(x)"
      ],
      "metadata": {
        "id": "ah5YFPfgGcxL",
        "outputId": "035b7a0f-2d58-4972-8754-06636f0c7f62",
        "colab": {
          "base_uri": "https://localhost:8080/"
        }
      },
      "execution_count": 6,
      "outputs": [
        {
          "output_type": "stream",
          "name": "stdout",
          "text": [
            "17\n"
          ]
        }
      ]
    },
    {
      "cell_type": "code",
      "source": [
        "#Generate a random float from 0 to 1:\n",
        "x = random.rand()\n",
        "print(x)"
      ],
      "metadata": {
        "id": "S-xBrxGjG0jb",
        "outputId": "80c15e32-90e3-4559-cee3-e717dac1ec7d",
        "colab": {
          "base_uri": "https://localhost:8080/"
        }
      },
      "execution_count": 8,
      "outputs": [
        {
          "output_type": "stream",
          "name": "stdout",
          "text": [
            "0.1208476857997548\n"
          ]
        }
      ]
    },
    {
      "cell_type": "code",
      "source": [
        "x=random.randint(10, size=(5,4))\n",
        "print(x)"
      ],
      "metadata": {
        "id": "FkjckLoQHDMr",
        "outputId": "e19b1ff4-9fdb-4211-d431-0ff6e18d325b",
        "colab": {
          "base_uri": "https://localhost:8080/"
        }
      },
      "execution_count": 9,
      "outputs": [
        {
          "output_type": "stream",
          "name": "stdout",
          "text": [
            "[[9 2 9 6]\n",
            " [3 1 5 7]\n",
            " [5 7 4 1]\n",
            " [7 4 1 4]\n",
            " [3 9 0 4]]\n"
          ]
        }
      ]
    },
    {
      "cell_type": "code",
      "source": [
        "x = random.rand(3, 5)\n",
        "print(x)"
      ],
      "metadata": {
        "id": "VV5tPw-zHGPV",
        "outputId": "a218c8e4-b7a4-4d0f-d482-ab242702ea42",
        "colab": {
          "base_uri": "https://localhost:8080/"
        }
      },
      "execution_count": 10,
      "outputs": [
        {
          "output_type": "stream",
          "name": "stdout",
          "text": [
            "[[0.63455285 0.9081533  0.28475911 0.04533699 0.21197313]\n",
            " [0.37059317 0.12302661 0.87349688 0.13667348 0.49504112]\n",
            " [0.82070994 0.7603275  0.03698971 0.62946996 0.51378793]]\n"
          ]
        }
      ]
    },
    {
      "cell_type": "code",
      "source": [
        "x = random.normal(size=(2, 3))\n",
        "\n",
        "print(x)"
      ],
      "metadata": {
        "id": "EoYn7YLcHJHM",
        "outputId": "d33ae030-32c2-4fb7-d561-f85929677c45",
        "colab": {
          "base_uri": "https://localhost:8080/"
        }
      },
      "execution_count": 11,
      "outputs": [
        {
          "output_type": "stream",
          "name": "stdout",
          "text": [
            "[[ 1.40019425  0.38697102  0.2216493 ]\n",
            " [-0.70056639  0.64911381  0.44488829]]\n"
          ]
        }
      ]
    },
    {
      "cell_type": "code",
      "source": [
        "x = random.normal(loc=1, scale=2, size=(2, 3))\n",
        "\n",
        "print(x)"
      ],
      "metadata": {
        "id": "aU0JFVrwHMyb",
        "outputId": "df37f037-79d9-463f-d8a7-75f064513c1f",
        "colab": {
          "base_uri": "https://localhost:8080/"
        }
      },
      "execution_count": 12,
      "outputs": [
        {
          "output_type": "stream",
          "name": "stdout",
          "text": [
            "[[-1.88445946  1.94885711  1.29725181]\n",
            " [ 3.9820745   2.55478237 -2.82819107]]\n"
          ]
        }
      ]
    },
    {
      "cell_type": "code",
      "source": [
        "import matplotlib.pyplot as plt\n",
        "import seaborn as sns\n",
        "\n",
        "sns.distplot(random.normal(size=1000), hist=False)\n",
        "\n",
        "plt.show()"
      ],
      "metadata": {
        "id": "_GaGOmBJHQoi",
        "outputId": "e4cf661d-ce1f-45ed-8939-10c767838095",
        "colab": {
          "base_uri": "https://localhost:8080/",
          "height": 321
        }
      },
      "execution_count": 13,
      "outputs": [
        {
          "output_type": "stream",
          "name": "stderr",
          "text": [
            "/usr/local/lib/python3.8/dist-packages/seaborn/distributions.py:2619: FutureWarning: `distplot` is a deprecated function and will be removed in a future version. Please adapt your code to use either `displot` (a figure-level function with similar flexibility) or `kdeplot` (an axes-level function for kernel density plots).\n",
            "  warnings.warn(msg, FutureWarning)\n"
          ]
        },
        {
          "output_type": "display_data",
          "data": {
            "text/plain": [
              "<Figure size 432x288 with 1 Axes>"
            ],
            "image/png": "[encoded data removed]"
          },
          "metadata": {
            "needs_background": "light"
          }
        }
      ]
    },
    {
      "cell_type": "code",
      "source": [
        "sns.distplot(random.normal(loc=50, scale=5, size=1000), hist=False, label='normal')\n",
        "sns.distplot(random.binomial(n=100, p=0.5, size=1000), hist=False, label='binomial')\n",
        "\n",
        "plt.show()"
      ],
      "metadata": {
        "id": "hPBR73zCHUNN",
        "outputId": "73525c34-6f4e-4245-bbc2-81f948c46a47",
        "colab": {
          "base_uri": "https://localhost:8080/",
          "height": 356
        }
      },
      "execution_count": 14,
      "outputs": [
        {
          "output_type": "stream",
          "name": "stderr",
          "text": [
            "/usr/local/lib/python3.8/dist-packages/seaborn/distributions.py:2619: FutureWarning: `distplot` is a deprecated function and will be removed in a future version. Please adapt your code to use either `displot` (a figure-level function with similar flexibility) or `kdeplot` (an axes-level function for kernel density plots).\n",
            "  warnings.warn(msg, FutureWarning)\n",
            "/usr/local/lib/python3.8/dist-packages/seaborn/distributions.py:2619: FutureWarning: `distplot` is a deprecated function and will be removed in a future version. Please adapt your code to use either `displot` (a figure-level function with similar flexibility) or `kdeplot` (an axes-level function for kernel density plots).\n",
            "  warnings.warn(msg, FutureWarning)\n"
          ]
        },
        {
          "output_type": "display_data",
          "data": {
            "text/plain": [
              "<Figure size 432x288 with 1 Axes>"
            ],
            "image/png": "[encoded data removed]"
          },
          "metadata": {
            "needs_background": "light"
          }
        }
      ]
    },
    {
      "cell_type": "code",
      "source": [],
      "metadata": {
        "id": "7hEUa5P-HXlZ"
      },
      "execution_count": null,
      "outputs": []
    }
  ],
  "metadata": {
    "kernelspec": {
      "display_name": "Python 3",
      "language": "python",
      "name": "python3"
    },
    "language_info": {
      "codemirror_mode": {
        "name": "ipython",
        "version": 3
      },
      "file_extension": ".py",
      "mimetype": "text/x-python",
      "name": "python",
      "nbconvert_exporter": "python",
      "pygments_lexer": "ipython3",
      "version": "3.7.9"
    },
    "colab": {
      "provenance": []
    }
  },
  "nbformat": 4,
  "nbformat_minor": 0
}
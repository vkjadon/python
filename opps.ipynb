{
  "nbformat": 4,
  "nbformat_minor": 0,
  "metadata": {
    "colab": {
      "provenance": [],
      "include_colab_link": true
    },
    "kernelspec": {
      "name": "python3",
      "display_name": "Python 3"
    },
    "language_info": {
      "name": "python"
    }
  },
  "cells": [
    {
      "cell_type": "markdown",
      "metadata": {
        "id": "view-in-github",
        "colab_type": "text"
      },
      "source": [
        "<a href=\"https://colab.research.google.com/github/vkjadon/python/blob/main/opps.ipynb\" target=\"_parent\"><img src=\"https://colab.research.google.com/assets/colab-badge.svg\" alt=\"Open In Colab\"/></a>"
      ]
    },
    {
      "cell_type": "markdown",
      "source": [
        "###Class \n",
        "\n",
        "A user-defined prototype for an object that defines a set of attributes that characterize any object of the class. The attributes are data members (class variables and instance variables) and methods, accessed via dot notation.\n",
        "\n",
        "###Creating and instantiating classes.\n",
        "Classes allow us to group our data and functions in a way that is easy to reuse and also easy to build upon when needed.\n",
        "The data and functions are called attributes and methods in the terminology of classes. When the name 'method' is used, it is basically a function associated with a class.\n",
        "\n",
        "Let us create a class 'Employee' for a company as each individual employee is going to have specific attributes and methods. "
      ],
      "metadata": {
        "id": "p8iMUxrlwwUY"
      }
    },
    {
      "cell_type": "code",
      "source": [
        "class Employee:\n",
        "  pass"
      ],
      "metadata": {
        "id": "Yzb8adkSB0U_"
      },
      "execution_count": null,
      "outputs": []
    },
    {
      "cell_type": "markdown",
      "source": [
        "A class is basically a blueprint for creating instances (objects). We can create emplyees using the class and these employees will be called as instance of that class. Let us create two objects 'emp_1' and 'emp_2' of the Employee class by instantiating the class as below."
      ],
      "metadata": {
        "id": "haH478h8y5FJ"
      }
    },
    {
      "cell_type": "code",
      "source": [
        "emp_1=Employee()\n",
        "emp_2=Employee()"
      ],
      "metadata": {
        "id": "r-lVl4I9CFoL"
      },
      "execution_count": null,
      "outputs": []
    },
    {
      "cell_type": "markdown",
      "source": [
        "The above are unique instances of the employee class."
      ],
      "metadata": {
        "id": "q4IftdUC0Czg"
      }
    },
    {
      "cell_type": "markdown",
      "source": [
        "###Object \n",
        "A unique instance of a data structure that's defined by its class. An object comprises both data members (class variables and instance variables) and methods."
      ],
      "metadata": {
        "id": "c8v-2rHYCp1f"
      }
    },
    {
      "cell_type": "code",
      "source": [
        "print(emp_1)\n",
        "print(emp_2)"
      ],
      "metadata": {
        "colab": {
          "base_uri": "https://localhost:8080/"
        },
        "id": "3mbui8tN0UCR",
        "outputId": "88acf74b-2d4a-47f9-97bc-edca80f6b19a"
      },
      "execution_count": null,
      "outputs": [
        {
          "output_type": "stream",
          "name": "stdout",
          "text": [
            "<__main__.Employee object at 0x7ff1d4e66310>\n",
            "<__main__.Employee object at 0x7ff1d4e663a0>\n"
          ]
        }
      ]
    },
    {
      "cell_type": "markdown",
      "source": [
        "Both of these are employee objects and both are unique as indicated by the unique memory locations. These instances ('emp_1' and 'emp_2') can have variables such as name, email and pay. These are called instance variables. Instance variables contain data that is unique to each instance.   \n",
        "Let us set instance variables('firstName', 'lastName', 'email', 'pay') for both instances."
      ],
      "metadata": {
        "id": "-Jj3i2LM0Ykr"
      }
    },
    {
      "cell_type": "code",
      "source": [
        "emp_1.firstName='FirstName_1'\n",
        "emp_1.lastName='LastName_1'\n",
        "emp_1.email='FirstName.LastName@email.com'\n",
        "emp_1.pay=50000"
      ],
      "metadata": {
        "id": "dZs9D0mL1oLX"
      },
      "execution_count": null,
      "outputs": []
    },
    {
      "cell_type": "code",
      "source": [
        "emp_2.firstName='FirstName_2'\n",
        "emp_2.lastName='LastName_2'\n",
        "emp_2.email='FirstName_2.LastName_2@email.com'\n",
        "emp_2.pay=40000"
      ],
      "metadata": {
        "id": "ihFb4Ddg2910"
      },
      "execution_count": null,
      "outputs": []
    },
    {
      "cell_type": "markdown",
      "source": [
        "It is not a good practice to set the instance variable as above. We want that these variables are created automatically when an instance is created of a class. For this we use __init__ method in the class which is executed automatically whenever a class is intiatated. It stands for initializing and takes first argument as the instance itself and by convention it is called 'self'. We can add other arguements after 'self'.   \n",
        "So, we can modify the class as below"
      ],
      "metadata": {
        "id": "gsG5cmft3i31"
      }
    },
    {
      "cell_type": "code",
      "source": [
        "class Employee:\n",
        "  def __init__(self, firstName, lastName, email, pay):\n",
        "    self.firstName=firstName\n",
        "    self.lastName=lastName\n",
        "    self.email=email\n",
        "    self.pay=pay"
      ],
      "metadata": {
        "id": "Iui3JULA5mED"
      },
      "execution_count": null,
      "outputs": []
    },
    {
      "cell_type": "code",
      "source": [
        "emp_1=Employee('FirstName_1', 'LastName_1','FirstName_1.LastName_1@email.com', 50000)\n",
        "emp_2=Employee('FirstName_2', 'LastName_2','FirstName_2.LastName_2@email.com', 50000)"
      ],
      "metadata": {
        "id": "xoqw8QAG6CF7"
      },
      "execution_count": null,
      "outputs": []
    },
    {
      "cell_type": "markdown",
      "source": [
        "###Constructors\n",
        "When we create these employees, the __init__() method runs automatically and 'self' take 'emp_1' and 'emp_2' when these are instantiated. The __init__() method is also called as constructors. Constructors are generally used for instantiating an object. The task of constructors is to initialize(assign values) to the data members when an object of class is created."
      ],
      "metadata": {
        "id": "ujzbOZiNEDw0"
      }
    },
    {
      "cell_type": "code",
      "source": [
        "print(emp_1.email)\n",
        "print(emp_2.email)"
      ],
      "metadata": {
        "colab": {
          "base_uri": "https://localhost:8080/"
        },
        "id": "ycWLK29i6goG",
        "outputId": "d00aa975-7463-4213-f26b-74da242d6ff7"
      },
      "execution_count": null,
      "outputs": [
        {
          "output_type": "stream",
          "name": "stdout",
          "text": [
            "FirstName_1.LastName_1@email.com\n",
            "FirstName_2.LastName_2@email.com\n"
          ]
        }
      ]
    },
    {
      "cell_type": "markdown",
      "source": [
        "\n",
        "\n",
        "###Class variable\n",
        "A variable that is shared by all instances of a class. Class variables are defined within a class but outside any of the class's methods. Class variables are not used as frequently as instance variables are."
      ],
      "metadata": {
        "id": "viHxjfDny0X_"
      }
    },
    {
      "cell_type": "code",
      "source": [
        "class Employee:\n",
        "  def __init__(self, fn, ln, sal):\n",
        "    self.fname=fn\n",
        "    self.lname=ln\n",
        "    self.salary=sal"
      ],
      "metadata": {
        "id": "U0Vj0QXwEI6r"
      },
      "execution_count": null,
      "outputs": []
    },
    {
      "cell_type": "code",
      "source": [
        "emp_1=Employee(\"First_name_1\", \"Last_name_1\", 20000)\n",
        "emp_2=Employee(\"First_name_2\", \"Last_name_2\", 50000)"
      ],
      "metadata": {
        "id": "9soYIC_nGIPy"
      },
      "execution_count": null,
      "outputs": []
    },
    {
      "cell_type": "code",
      "source": [
        "print(emp_1, emp_2)\n",
        "print(emp_1.fname, emp_2.fname)"
      ],
      "metadata": {
        "colab": {
          "base_uri": "https://localhost:8080/"
        },
        "id": "zJ0AziBxGNkK",
        "outputId": "bd3c64e4-c709-4998-fe75-2190e242ba62"
      },
      "execution_count": null,
      "outputs": [
        {
          "output_type": "stream",
          "name": "stdout",
          "text": [
            "<__main__.Employee object at 0x7f2dcaa9db80> <__main__.Employee object at 0x7f2dcaa9ddf0>\n",
            "First_name_1 First_name_2\n"
          ]
        }
      ]
    },
    {
      "cell_type": "markdown",
      "source": [
        "###Understanding Self"
      ],
      "metadata": {
        "id": "dHAYWNslU-yJ"
      }
    },
    {
      "cell_type": "code",
      "execution_count": null,
      "metadata": {
        "id": "5RwcL4Yfh5b_"
      },
      "outputs": [],
      "source": [
        "class Employee:\n",
        "  increment = 2\n",
        "  # this increment will act as a class variable  \n",
        "  def __init__(self, fn, ln, sal):\n",
        "      self.fname=fn\n",
        "      self.lname=ln\n",
        "      self.salary=sal\n",
        "\n",
        "  def increase(self):\n",
        "    self.salary = int(self.salary * self.increment)\n",
        "\n",
        "#self.increment will act as an instance variable "
      ]
    },
    {
      "cell_type": "code",
      "source": [
        "emp_1=Employee(\"First_name_1\", \"Last_name_1\", 20000)\n",
        "emp_2=Employee(\"First_name_2\", \"Last_name_2\", 50000)\n",
        "\n",
        "print(emp_1.salary)\n",
        "emp_1.increase()\n",
        "print(emp_1.salary)"
      ],
      "metadata": {
        "colab": {
          "base_uri": "https://localhost:8080/"
        },
        "id": "o9Y8_dx9QPRt",
        "outputId": "8a4551d8-a4e9-4c43-9344-ec6d7c48d3ac"
      },
      "execution_count": null,
      "outputs": [
        {
          "output_type": "stream",
          "name": "stdout",
          "text": [
            "20000\n",
            "40000\n"
          ]
        }
      ]
    },
    {
      "cell_type": "markdown",
      "source": [
        "**If shelf.argument is not given then it will look for class variable**"
      ],
      "metadata": {
        "id": "WTAIsqpgQuEl"
      }
    },
    {
      "cell_type": "code",
      "source": [
        "class Employee:\n",
        "  increment = 1.5\n",
        "  # this increment will act as a class variable  \n",
        "  def __init__(self, fn, ln, sal):\n",
        "      self.fname=fn\n",
        "      self.lname=ln\n",
        "      self.salary=sal\n",
        "\n",
        "  def increase(self):\n",
        "    self.salary = int(self.salary * Employee.increment)\n",
        "\n",
        "#Employee.increment will act as a class variable "
      ],
      "metadata": {
        "id": "H8WRckgXQF3W"
      },
      "execution_count": null,
      "outputs": []
    },
    {
      "cell_type": "code",
      "source": [
        "emp_1=Employee(\"First_name_1\", \"Last_name_1\", 20000)\n",
        "emp_2=Employee(\"First_name_2\", \"Last_name_2\", 50000)\n",
        "\n",
        "print(emp_1.salary)\n",
        "emp_1.increase()\n",
        "print(emp_1.salary)"
      ],
      "metadata": {
        "colab": {
          "base_uri": "https://localhost:8080/"
        },
        "id": "oMuQPDnfOvhd",
        "outputId": "92e77130-ddbd-4228-a5f3-560927fd469e"
      },
      "execution_count": null,
      "outputs": [
        {
          "output_type": "stream",
          "name": "stdout",
          "text": [
            "20000\n",
            "30000\n"
          ]
        }
      ]
    },
    {
      "cell_type": "markdown",
      "source": [
        "**Instance variable**"
      ],
      "metadata": {
        "id": "kgGBqJKrN2SX"
      }
    },
    {
      "cell_type": "code",
      "source": [
        "#to see the instance variables we use \"__dict__\" \n",
        "print(emp_1.__dict__)"
      ],
      "metadata": {
        "colab": {
          "base_uri": "https://localhost:8080/"
        },
        "id": "J-OxNi53RdDd",
        "outputId": "7a22006c-4169-4614-e489-5c0fd2ad5157"
      },
      "execution_count": null,
      "outputs": [
        {
          "output_type": "stream",
          "name": "stdout",
          "text": [
            "{'fname': 'First_name_1', 'lname': 'Last_name_1', 'salary': 30000}\n"
          ]
        }
      ]
    },
    {
      "cell_type": "code",
      "source": [
        "#to see the class variables we use \"__dict__\" \n",
        "print(Employee.__dict__)"
      ],
      "metadata": {
        "colab": {
          "base_uri": "https://localhost:8080/"
        },
        "id": "lEZYTsvNtwi0",
        "outputId": "75010874-44e4-4549-f8c5-40bd87459322"
      },
      "execution_count": null,
      "outputs": [
        {
          "output_type": "stream",
          "name": "stdout",
          "text": [
            "{'__module__': '__main__', 'increment': 1.5, '__init__': <function Employee.__init__ at 0x7fed89261ee0>, 'increase': <function Employee.increase at 0x7fed892719d0>, '__dict__': <attribute '__dict__' of 'Employee' objects>, '__weakref__': <attribute '__weakref__' of 'Employee' objects>, '__doc__': None}\n"
          ]
        }
      ]
    },
    {
      "cell_type": "markdown",
      "source": [
        "###Data member \n",
        "A class variable or instance variable that holds data associated with a class and its objects.\n",
        "\n",
        "###Method \n",
        "A special kind of function that is defined in a class definition.\n",
        "\n"
      ],
      "metadata": {
        "id": "HIgDBR29BwqV"
      }
    },
    {
      "cell_type": "markdown",
      "source": [
        "###Function overloading\n",
        "The assignment of more than one behavior to a particular function. The operation performed varies by the types of objects or arguments involved.\n",
        "\n",
        "###Instance variable\n",
        "A variable that is defined inside a method and belongs only to the current instance of a class.\n",
        "\n",
        "###Inheritance \n",
        "The transfer of the characteristics of a class to other classes that are derived from it.\n",
        "###Instance\n",
        "An individual object of a certain class. An object obj that belongs to a class Circle, for example, is an instance of the class Circle.\n",
        "###Instantiation \n",
        "The creation of an instance of a class.\n"
      ],
      "metadata": {
        "id": "TwztE4ZJzYEK"
      }
    },
    {
      "cell_type": "markdown",
      "source": [
        "###Operator overloading \n",
        "The assignment of more than one function to a particular operator."
      ],
      "metadata": {
        "id": "kbSvMejYzc_2"
      }
    },
    {
      "cell_type": "code",
      "source": [
        "class MyClass:\n",
        "    def method(self):\n",
        "      return 'instance method called', self\n",
        "\n",
        "    @classmethod\n",
        "    def classmethod(cls):\n",
        "        return 'class method called', cls\n",
        "\n",
        "    @staticmethod\n",
        "    def staticmethod():\n",
        "        return 'static method called'"
      ],
      "metadata": {
        "id": "DSklymcTN0Y6"
      },
      "execution_count": null,
      "outputs": []
    },
    {
      "cell_type": "markdown",
      "source": [
        "##Instance Methods\n",
        "The first method on MyClass, called method, is a regular instance method. That’s the basic, no-frills method type you’ll use most of the time. You can see the method takes one parameter, self, which points to an instance of MyClass when the method is called (but of course instance methods can accept more than just one parameter).\n",
        "\n",
        "Through the self parameter, instance methods can freely access attributes and other methods on the same object. This gives them a lot of power when it comes to modifying an object’s state.\n",
        "\n",
        "Not only can they modify object state, instance methods can also access the class itself through the self.__class__ attribute. This means instance methods can also modify class state."
      ],
      "metadata": {
        "id": "2pSR0y9YmF3A"
      }
    },
    {
      "cell_type": "markdown",
      "source": [
        "##Class Methods\n",
        "Let’s compare that to the second method, MyClass.classmethod. I marked this method with a @classmethod decorator to flag it as a class method.\n",
        "\n",
        "Instead of accepting a self parameter, class methods take a cls parameter that points to the class—and not the object instance—when the method is called.\n",
        "\n",
        "Because the class method only has access to this cls argument, it can’t modify object instance state. That would require access to self. However, class methods can still modify class state that applies across all instances of the class."
      ],
      "metadata": {
        "id": "ro4hChEVmMmj"
      }
    },
    {
      "cell_type": "markdown",
      "source": [
        "##Static Methods\n",
        "The third method, MyClass.staticmethod was marked with a @staticmethod decorator to flag it as a static method.\n",
        "\n",
        "This type of method takes neither a self nor a cls parameter (but of course it’s free to accept an arbitrary number of other parameters).\n",
        "\n",
        "Therefore a static method can neither modify object state nor class state. Static methods are restricted in what data they can access - and they’re primarily a way to namespace your methods."
      ],
      "metadata": {
        "id": "ObdeVl_omSlS"
      }
    },
    {
      "cell_type": "markdown",
      "source": [
        "We’ll start by creating an instance of the class and then calling the three different methods on it.\n",
        "\n",
        "MyClass was set up in such a way that each method’s implementation returns a tuple containing information for us to trace what’s going on — and which parts of the class or object the method can access.\n",
        "\n",
        "Here’s what happens when we call an instance method:"
      ],
      "metadata": {
        "id": "e0PAeHVimk9z"
      }
    },
    {
      "cell_type": "code",
      "source": [
        "obj = MyClass()\n",
        "obj.method()"
      ],
      "metadata": {
        "colab": {
          "base_uri": "https://localhost:8080/"
        },
        "id": "u5AgTzT-l49x",
        "outputId": "2aa55340-68f0-4248-8fcd-0ac6f99b94b0"
      },
      "execution_count": null,
      "outputs": [
        {
          "output_type": "execute_result",
          "data": {
            "text/plain": [
              "('instance method called', <__main__.MyClass at 0x7f84705be160>)"
            ]
          },
          "metadata": {},
          "execution_count": 2
        }
      ]
    },
    {
      "cell_type": "markdown",
      "source": [
        "This confirmed that method (the instance method) has access to the object instance (printed as <MyClass instance>) via the self argument."
      ],
      "metadata": {
        "id": "7LMsT0RCnAzQ"
      }
    },
    {
      "cell_type": "code",
      "source": [
        "obj.classmethod()"
      ],
      "metadata": {
        "colab": {
          "base_uri": "https://localhost:8080/"
        },
        "id": "QvZxF6Ukni_d",
        "outputId": "46860856-ddfd-4a40-f229-b1a54906ca50"
      },
      "execution_count": null,
      "outputs": [
        {
          "output_type": "execute_result",
          "data": {
            "text/plain": [
              "('class method called', __main__.MyClass)"
            ]
          },
          "metadata": {},
          "execution_count": 3
        }
      ]
    },
    {
      "cell_type": "code",
      "source": [
        "MyClass.classmethod()"
      ],
      "metadata": {
        "colab": {
          "base_uri": "https://localhost:8080/"
        },
        "id": "ah1HnTAZoso2",
        "outputId": "eb82883a-6ca0-43c8-adcc-ac9597967b1d"
      },
      "execution_count": null,
      "outputs": [
        {
          "output_type": "execute_result",
          "data": {
            "text/plain": [
              "('class method called', __main__.MyClass)"
            ]
          },
          "metadata": {},
          "execution_count": 4
        }
      ]
    },
    {
      "cell_type": "code",
      "source": [
        "MyClass.staticmethod()"
      ],
      "metadata": {
        "colab": {
          "base_uri": "https://localhost:8080/",
          "height": 35
        },
        "id": "cT0YBWXLonK2",
        "outputId": "34196411-1731-46f4-a05a-57d6cb6ca235"
      },
      "execution_count": null,
      "outputs": [
        {
          "output_type": "execute_result",
          "data": {
            "text/plain": [
              "'static method called'"
            ],
            "application/vnd.google.colaboratory.intrinsic+json": {
              "type": "string"
            }
          },
          "metadata": {},
          "execution_count": 5
        }
      ]
    },
    {
      "cell_type": "code",
      "source": [
        "MyClass.method()"
      ],
      "metadata": {
        "colab": {
          "base_uri": "https://localhost:8080/",
          "height": 165
        },
        "id": "47rsYcvhousc",
        "outputId": "09ba6557-e0ec-4297-a445-d77afb551385"
      },
      "execution_count": null,
      "outputs": [
        {
          "output_type": "error",
          "ename": "TypeError",
          "evalue": "ignored",
          "traceback": [
            "\u001b[0;31m---------------------------------------------------------------------------\u001b[0m",
            "\u001b[0;31mTypeError\u001b[0m                                 Traceback (most recent call last)",
            "\u001b[0;32m<ipython-input-15-88f17b4fa117>\u001b[0m in \u001b[0;36m<module>\u001b[0;34m\u001b[0m\n\u001b[0;32m----> 1\u001b[0;31m \u001b[0mMyClass\u001b[0m\u001b[0;34m.\u001b[0m\u001b[0mmethod\u001b[0m\u001b[0;34m(\u001b[0m\u001b[0;34m)\u001b[0m\u001b[0;34m\u001b[0m\u001b[0;34m\u001b[0m\u001b[0m\n\u001b[0m",
            "\u001b[0;31mTypeError\u001b[0m: method() missing 1 required positional argument: 'self'"
          ]
        }
      ]
    },
    {
      "cell_type": "markdown",
      "source": [
        "Will throw error as instance method need object to pass."
      ],
      "metadata": {
        "id": "hFrpaiE9o4nD"
      }
    },
    {
      "cell_type": "code",
      "source": [
        "MyClass.method(obj)"
      ],
      "metadata": {
        "colab": {
          "base_uri": "https://localhost:8080/"
        },
        "id": "iTV2LjKCmx5J",
        "outputId": "b0981235-13f5-441e-c6f8-cbd4147a09f8"
      },
      "execution_count": null,
      "outputs": [
        {
          "output_type": "execute_result",
          "data": {
            "text/plain": [
              "('instance method called', <__main__.MyClass at 0x7fed892ed070>)"
            ]
          },
          "metadata": {},
          "execution_count": 3
        }
      ]
    },
    {
      "cell_type": "markdown",
      "source": [
        "Class methods are declared by using @classmethod and it takes class as argument.A class method can access or modify the class state. "
      ],
      "metadata": {
        "id": "pLmlExVRA3am"
      }
    },
    {
      "cell_type": "code",
      "source": [
        "class Employee:\n",
        "  increment = 1.5\n",
        "  \n",
        "  def __init__(self, fn, ln, sal):\n",
        "      self.fname=fn\n",
        "      self.lname=ln\n",
        "      self.salary=sal\n",
        "\n",
        "  def increase(self):\n",
        "    self.salary = int(self.salary * self.increment)\n",
        "\n",
        "  @classmethod\n",
        "  def change_sal(cls, amount):\n",
        "    cls.increment = amount\n",
        "\n",
        "karan = Employee('karan', 'bhardwaj',50000)\n",
        "karan2 = Employee('karan', 'bhardwaj',80000)\n",
        "\n",
        "\n",
        "print(karan.salary)\n",
        "Employee.change_sal(2)\n",
        "karan.increase()\n",
        "print(karan.salary)"
      ],
      "metadata": {
        "id": "9Z-HX3vzo-9X",
        "colab": {
          "base_uri": "https://localhost:8080/"
        },
        "outputId": "e633e37d-7aba-4da9-ff8e-fe377acb9b1e"
      },
      "execution_count": null,
      "outputs": [
        {
          "output_type": "stream",
          "name": "stdout",
          "text": [
            "50000\n",
            "100000\n"
          ]
        }
      ]
    },
    {
      "cell_type": "markdown",
      "source": [
        "**Class methods as alternative constructor**"
      ],
      "metadata": {
        "id": "s_yC2_YAR7xk"
      }
    },
    {
      "cell_type": "code",
      "source": [
        "class Employee:\n",
        "  increment = 1.5\n",
        "  \n",
        "  def __init__(self, fn, ln, sal):\n",
        "      self.fname=fn\n",
        "      self.lname=ln\n",
        "      self.salary=sal\n",
        "\n",
        "  def increase(self):\n",
        "    self.salary = int(self.salary * self.increment)\n",
        "\n",
        "  @classmethod\n",
        "  def change_sal(cls, amount):\n",
        "    cls.increment = amount\n",
        "\n",
        "  @classmethod\n",
        "  def\n",
        "\n",
        "sachin = Employee('sachin','bharwal',80000)\n",
        "\n",
        "print(sachin.salary)\n",
        "Employee.change_sal(5)\n",
        "sachin.increase()\n",
        "print(sachin.salary)"
      ],
      "metadata": {
        "colab": {
          "base_uri": "https://localhost:8080/"
        },
        "id": "oLLdJ4EvR7dn",
        "outputId": "2bf64794-e942-499c-91ca-7b17c4389d0c"
      },
      "execution_count": null,
      "outputs": [
        {
          "output_type": "stream",
          "name": "stdout",
          "text": [
            "80000\n",
            "400000\n"
          ]
        }
      ]
    }
  ]
}
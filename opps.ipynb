{
  "nbformat": 4,
  "nbformat_minor": 0,
  "metadata": {
    "colab": {
      "provenance": [],
      "authorship_tag": "ABX9TyN0GCM7/ITamqNRxVnAgtfP",
      "include_colab_link": true
    },
    "kernelspec": {
      "name": "python3",
      "display_name": "Python 3"
    },
    "language_info": {
      "name": "python"
    }
  },
  "cells": [
    {
      "cell_type": "markdown",
      "metadata": {
        "id": "view-in-github",
        "colab_type": "text"
      },
      "source": [
        "<a href=\"https://colab.research.google.com/github/vkjadon/python/blob/main/opps.ipynb\" target=\"_parent\"><img src=\"https://colab.research.google.com/assets/colab-badge.svg\" alt=\"Open In Colab\"/></a>"
      ]
    },
    {
      "cell_type": "markdown",
      "source": [
        "###Class \n",
        "A user-defined prototype for an object that defines a set of attributes that characterize any object of the class. The attributes are data members (class variables and instance variables) and methods, accessed via dot notation.\n",
        "\n",
        "###Class variable\n",
        "A variable that is shared by all instances of a class. Class variables are defined within a class but outside any of the class's methods. Class variables are not used as frequently as instance variables are.\n",
        "\n",
        "###Data member \n",
        "A class variable or instance variable that holds data associated with a class and its objects.\n",
        "\n",
        "###Method \n",
        "A special kind of function that is defined in a class definition.\n",
        "\n",
        "###Object \n",
        "A unique instance of a data structure that's defined by its class. An object comprises both data members (class variables and instance variables) and methods.\n"
      ],
      "metadata": {
        "id": "y3ZGhj_cwfAj"
      }
    },
    {
      "cell_type": "markdown",
      "source": [
        "###Function overloading\n",
        "The assignment of more than one behavior to a particular function. The operation performed varies by the types of objects or arguments involved.\n",
        "\n",
        "###Instance variable\n",
        "A variable that is defined inside a method and belongs only to the current instance of a class.\n",
        "\n",
        "###Inheritance \n",
        "The transfer of the characteristics of a class to other classes that are derived from it.\n",
        "###Instance\n",
        "An individual object of a certain class. An object obj that belongs to a class Circle, for example, is an instance of the class Circle.\n",
        "###Instantiation \n",
        "The creation of an instance of a class.\n"
      ],
      "metadata": {
        "id": "TwztE4ZJzYEK"
      }
    },
    {
      "cell_type": "markdown",
      "source": [
        "###Operator overloading \n",
        "The assignment of more than one function to a particular operator."
      ],
      "metadata": {
        "id": "kbSvMejYzc_2"
      }
    },
    {
      "cell_type": "code",
      "execution_count": null,
      "metadata": {
        "id": "5RwcL4Yfh5b_"
      },
      "outputs": [],
      "source": []
    }
  ]
}
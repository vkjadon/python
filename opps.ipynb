{
  "nbformat": 4,
  "nbformat_minor": 0,
  "metadata": {
    "colab": {
      "provenance": [],
      "include_colab_link": true
    },
    "kernelspec": {
      "name": "python3",
      "display_name": "Python 3"
    },
    "language_info": {
      "name": "python"
    }
  },
  "cells": [
    {
      "cell_type": "markdown",
      "metadata": {
        "id": "view-in-github",
        "colab_type": "text"
      },
      "source": [
        "<a href=\"https://colab.research.google.com/github/vkjadon/python/blob/main/opps.ipynb\" target=\"_parent\"><img src=\"https://colab.research.google.com/assets/colab-badge.svg\" alt=\"Open In Colab\"/></a>"
      ]
    },
    {
      "cell_type": "markdown",
      "source": [
        "###Class\n",
        "\n",
        "A user-defined prototype for an object that defines a set of attributes that characterize any object is called the class. The attributes are data members (class variables and instance variables) and methods are functions to do a specific task and associated with a class.\n",
        "\n",
        "The attributes and methods for an object of the class are accessed via dot notation.\n",
        "\n",
        "Classes allow us to group our data called attributes and methods in a way that is easy to reuse and also easy to build upon when needed.\n",
        "\n",
        "Let us create a class 'Employee' for a company as each individual employee is going to have specific attributes and methods."
      ],
      "metadata": {
        "id": "p8iMUxrlwwUY"
      }
    },
    {
      "cell_type": "code",
      "source": [
        "class Employee:\n",
        "  pass"
      ],
      "metadata": {
        "id": "Yzb8adkSB0U_"
      },
      "execution_count": null,
      "outputs": []
    },
    {
      "cell_type": "markdown",
      "source": [
        "We can also understand a class as a blueprint for creating instances (objects). We can create employees using the class and these employees will be called as instance (object) of that class. Let us create two objects 'emp_1' and 'emp_2' of the Employee class by instantiating the class as below."
      ],
      "metadata": {
        "id": "haH478h8y5FJ"
      }
    },
    {
      "cell_type": "code",
      "source": [
        "emp_1=Employee()\n",
        "emp_2=Employee()"
      ],
      "metadata": {
        "id": "r-lVl4I9CFoL"
      },
      "execution_count": null,
      "outputs": []
    },
    {
      "cell_type": "markdown",
      "source": [
        "The above are unique instances of the employee class."
      ],
      "metadata": {
        "id": "q4IftdUC0Czg"
      }
    },
    {
      "cell_type": "markdown",
      "source": [
        "###Object\n",
        "A unique instance of a data structure that's defined by its class. An object comprises both data members (class variables and instance variables) and methods."
      ],
      "metadata": {
        "id": "c8v-2rHYCp1f"
      }
    },
    {
      "cell_type": "code",
      "source": [
        "print(emp_1)\n",
        "print(emp_2)"
      ],
      "metadata": {
        "colab": {
          "base_uri": "https://localhost:8080/"
        },
        "id": "3mbui8tN0UCR",
        "outputId": "71c850e5-5683-4328-d3a0-cac1bdcfabeb"
      },
      "execution_count": null,
      "outputs": [
        {
          "output_type": "stream",
          "name": "stdout",
          "text": [
            "<__main__.Employee object at 0x7fa2027a5e20>\n",
            "<__main__.Employee object at 0x7fa20607e760>\n"
          ]
        }
      ]
    },
    {
      "cell_type": "markdown",
      "source": [
        "###Instance Variable\n",
        "Both of these are employee objects and both are unique as indicated by the unique memory locations. These instances ('emp_1' and 'emp_2') can have variables such as name, email and pay. These are called **instance variables**. Instance variables contain data that is unique to each instance.   \n",
        "Let us set instance variables('firstName', 'lastName', 'email', 'pay') for both instances."
      ],
      "metadata": {
        "id": "-Jj3i2LM0Ykr"
      }
    },
    {
      "cell_type": "code",
      "source": [
        "emp_1.firstName='FirstName_1'\n",
        "emp_1.lastName='LastName_1'\n",
        "emp_1.email='FirstName.LastName@email.com'\n",
        "emp_1.pay=50000"
      ],
      "metadata": {
        "id": "dZs9D0mL1oLX"
      },
      "execution_count": null,
      "outputs": []
    },
    {
      "cell_type": "code",
      "source": [
        "emp_2.firstName='FirstName_2'\n",
        "emp_2.lastName='LastName_2'\n",
        "emp_2.email='FirstName_2.LastName_2@email.com'\n",
        "emp_2.pay=40000"
      ],
      "metadata": {
        "id": "ihFb4Ddg2910"
      },
      "execution_count": null,
      "outputs": []
    },
    {
      "cell_type": "code",
      "source": [
        "print(emp_1.email)\n",
        "print(emp_1)"
      ],
      "metadata": {
        "colab": {
          "base_uri": "https://localhost:8080/"
        },
        "id": "WL2A2wy4IK-P",
        "outputId": "54c71a3a-1f78-4c1c-df90-0e1a27160dd7"
      },
      "execution_count": null,
      "outputs": [
        {
          "output_type": "stream",
          "name": "stdout",
          "text": [
            "FirstName.LastName@email.com\n",
            "<__main__.Employee object at 0x7fa2027a5e20>\n"
          ]
        }
      ]
    },
    {
      "cell_type": "markdown",
      "source": [
        "###Constructors\n",
        "It is not a good practice to set the **instance variable** as above. We want that these variables are created automatically when an instance of a class is created. For this we use \"\\__init__\\()\" method in the class which is executed automatically whenever a **class is instantiated**. The \\__init__\\() method is also called as constructors. Constructors are generally used for **instantiating an object**. The task of constructors is to initialize(assign values) the instance of a class to the data members when an object of class is created. It stands for initializing and takes first argument as the instance itself and by convention it is called `self`. We can add other arguements after 'self'.    \n",
        "So, we can modify the class as below"
      ],
      "metadata": {
        "id": "gsG5cmft3i31"
      }
    },
    {
      "cell_type": "code",
      "source": [
        "class Employee:\n",
        "  def __init__(self, firstName, lastName, email, pay):\n",
        "    self.firstName=firstName\n",
        "    self.lastName=lastName\n",
        "    self.email=email\n",
        "    self.pay=pay"
      ],
      "metadata": {
        "id": "Iui3JULA5mED"
      },
      "execution_count": null,
      "outputs": []
    },
    {
      "cell_type": "code",
      "source": [
        "emp_1=Employee('FirstName_1', 'LastName_1','FirstName_1.LastName_1@email.com', 50000)\n",
        "emp_2=Employee('FirstName_2', 'LastName_2','FirstName_2.LastName_2@email.com', 50000)"
      ],
      "metadata": {
        "id": "xoqw8QAG6CF7"
      },
      "execution_count": null,
      "outputs": []
    },
    {
      "cell_type": "markdown",
      "source": [
        "When we create these employees, the \\__init__() method runs automatically and *self* take *emp_1* and *emp_2* when these are instantiated. The instance variables *firstName, lastName, email* and *pay* are the attribute of **Employee** class.\n",
        "\n",
        "When we pass values to a method, these are called *arguements*. For examples we are passing 'FirstName_1', 'FirstName_2' etc to call __init__ method. These are arguements.\n",
        "\n",
        "Parameters are the variables used for defining the methods. Here 'firstName', 'lastName' etc used to define __init__ method are the *Parameter*.\n",
        "\n",
        "When we assign the *parameteres* to the *object variable*, these are called attributes.\n"
      ],
      "metadata": {
        "id": "ujzbOZiNEDw0"
      }
    },
    {
      "cell_type": "code",
      "source": [
        "print(emp_1.email)\n",
        "print(emp_2.email)"
      ],
      "metadata": {
        "colab": {
          "base_uri": "https://localhost:8080/"
        },
        "id": "ycWLK29i6goG",
        "outputId": "65fe26cf-8e03-4435-b869-953c2e2161a5"
      },
      "execution_count": null,
      "outputs": [
        {
          "output_type": "stream",
          "name": "stdout",
          "text": [
            "FirstName_1.LastName_1@email.com\n",
            "FirstName_2.LastName_2@email.com\n"
          ]
        }
      ]
    },
    {
      "cell_type": "code",
      "source": [
        "print(Employee())"
      ],
      "metadata": {
        "colab": {
          "base_uri": "https://localhost:8080/"
        },
        "id": "oRA0Lx7dIc_V",
        "outputId": "d5186722-9267-437d-8f3e-96428f18833d"
      },
      "execution_count": null,
      "outputs": [
        {
          "output_type": "stream",
          "name": "stdout",
          "text": [
            "<__main__.Employee object at 0x7fa200ae04c0>\n"
          ]
        }
      ]
    },
    {
      "cell_type": "markdown",
      "source": [
        "Let us try to print the full name. This we can do outside the class as below"
      ],
      "metadata": {
        "id": "zj9JQNBPIxtU"
      }
    },
    {
      "cell_type": "code",
      "source": [
        "print(emp_1.firstName+' '+emp_1.lastName)"
      ],
      "metadata": {
        "colab": {
          "base_uri": "https://localhost:8080/"
        },
        "id": "Gunp_54kJAsH",
        "outputId": "cde30b87-9dd5-47c7-def6-183a8f71a49c"
      },
      "execution_count": null,
      "outputs": [
        {
          "output_type": "stream",
          "name": "stdout",
          "text": [
            "FirstName_1 LastName_1\n"
          ]
        }
      ]
    },
    {
      "cell_type": "markdown",
      "source": [
        "Let us add some ability to perform some task in the class, eg. to print full name of an employee object. We add a method in the class itself to return full name of an employee."
      ],
      "metadata": {
        "id": "mvtL4AwcJfMA"
      }
    },
    {
      "cell_type": "code",
      "source": [
        "class Employee:\n",
        "  def __init__(self, firstName, lastName, email, pay):\n",
        "    self.firstName=firstName\n",
        "    self.lastName=lastName\n",
        "    self.email=email\n",
        "    self.pay=pay\n",
        "\n",
        "  def fullname(self):\n",
        "    return emp_1.firstName+' '+ emp_1.lastName"
      ],
      "metadata": {
        "id": "7jqGDsYMJodU"
      },
      "execution_count": null,
      "outputs": []
    },
    {
      "cell_type": "code",
      "source": [
        "emp_1=Employee('FirstName_1', 'LastName_1','FirstName_1.LastName_1@email.com', 50000)\n",
        "print(emp_1.fullname())"
      ],
      "metadata": {
        "colab": {
          "base_uri": "https://localhost:8080/"
        },
        "id": "y4WjX6KtJ9cy",
        "outputId": "e0d1a9c2-f1ba-405f-ba85-bc886dc32a8d"
      },
      "execution_count": null,
      "outputs": [
        {
          "output_type": "stream",
          "name": "stdout",
          "text": [
            "FirstName_1 LastName_1\n"
          ]
        }
      ]
    },
    {
      "cell_type": "markdown",
      "source": [
        "When we call method `fullname()` on an instance, the `self` is automatically passed so, it is necessary to use `self` in the method declaration, else, it will throw the following error.\n",
        "\n",
        "`TypeError: Employee.fullname() takes 0 positional arguments but 1 was given`"
      ],
      "metadata": {
        "id": "Nbr1xfV5Nf4f"
      }
    },
    {
      "cell_type": "markdown",
      "source": [
        "We can also run these methods using the class name. When we use class to call a method, we have to pass an instance as an argument."
      ],
      "metadata": {
        "id": "Km2NEjjqKrl5"
      }
    },
    {
      "cell_type": "code",
      "source": [
        "Employee.fullname(emp_1)"
      ],
      "metadata": {
        "colab": {
          "base_uri": "https://localhost:8080/",
          "height": 35
        },
        "id": "Vzme-1R_Kxsj",
        "outputId": "a460d116-66ff-4219-f976-e796b3b3fac9"
      },
      "execution_count": null,
      "outputs": [
        {
          "output_type": "execute_result",
          "data": {
            "text/plain": [
              "'FirstName_1 LastName_1'"
            ],
            "application/vnd.google.colaboratory.intrinsic+json": {
              "type": "string"
            }
          },
          "metadata": {},
          "execution_count": 12
        }
      ]
    },
    {
      "cell_type": "markdown",
      "source": [
        "###Class Variables and Instance Variables\n",
        "A variable that is shared by all instances of a class is called **Class Variables**. The **class variables** are defined within a class but outside any of the methods. Class variables are not used as frequently as instance variables are. The class variable remain the same for all the instances. To undestand this, let us add another method to increase the salary of an employee by 4%."
      ],
      "metadata": {
        "id": "viHxjfDny0X_"
      }
    },
    {
      "cell_type": "code",
      "source": [
        "class Employee:\n",
        "  def __init__(self, firstName, lastName, email, pay):\n",
        "    self.firstName=firstName\n",
        "    self.lastName=lastName\n",
        "    self.email=email\n",
        "    self.pay=pay\n",
        "\n",
        "  def fullname(self):\n",
        "    return emp_1.firstName+' '+emp_1.lastName\n",
        "\n",
        "  def apply_inrement(self):\n",
        "    self.pay = int(self.pay * 1.04)"
      ],
      "metadata": {
        "id": "IsSadZIlMWxc"
      },
      "execution_count": null,
      "outputs": []
    },
    {
      "cell_type": "code",
      "source": [
        "emp_1=Employee('FirstName_1', 'LastName_1','FirstName_1.LastName_1@email.com', 50000)\n",
        "print(emp_1.pay)\n",
        "emp_1.apply_inrement()\n",
        "print(emp_1.pay)"
      ],
      "metadata": {
        "colab": {
          "base_uri": "https://localhost:8080/"
        },
        "id": "o9Y8_dx9QPRt",
        "outputId": "1c13487d-41c0-47db-98f5-874a087226bf"
      },
      "execution_count": null,
      "outputs": [
        {
          "output_type": "stream",
          "name": "stdout",
          "text": [
            "50000\n",
            "52000\n"
          ]
        }
      ]
    },
    {
      "cell_type": "markdown",
      "source": [
        "In this code, the increment is not accessed from the code outside the class and also the same of all the employee. So, this is a good candidate for the class valriable."
      ],
      "metadata": {
        "id": "NiOjqlG6OF7R"
      }
    },
    {
      "cell_type": "code",
      "source": [
        "class Employee:\n",
        "  annual_increment=1.1\n",
        "  def __init__(self, firstName, lastName, email, pay):\n",
        "    self.firstName=firstName\n",
        "    self.lastName=lastName\n",
        "    self.email=email\n",
        "    self.pay=pay\n",
        "\n",
        "  def fullname(self):\n",
        "    return emp_1.firstName+' '+ emp_1.lastName\n",
        "\n",
        "  def apply_inrement(self):\n",
        "    self.pay = int(self.pay * self.annual_increment)\n",
        "    # self.pay = int(self.pay * Employee.annual_increment)"
      ],
      "metadata": {
        "id": "ZJ7ojujYOv42"
      },
      "execution_count": null,
      "outputs": []
    },
    {
      "cell_type": "markdown",
      "source": [
        "We can access class variable using class itself or by instances. We can also check the attributes of the instances and the class using '__dict__()' method."
      ],
      "metadata": {
        "id": "s55IGBbBPwq8"
      }
    },
    {
      "cell_type": "code",
      "source": [
        "emp_1=Employee('FirstName_1', 'LastName_1','FirstName_1.LastName_1@email.com', 50000)\n",
        "emp_2=Employee('FirstName_2', 'LastName_2','FirstName_2.LastName_2@email.com', 50000)"
      ],
      "metadata": {
        "id": "8oHGfCMirtgj"
      },
      "execution_count": null,
      "outputs": []
    },
    {
      "cell_type": "code",
      "source": [
        "print(emp_1.pay)\n",
        "emp_1.apply_inrement()\n",
        "print(emp_1.pay)\n",
        "print(emp_1.__dict__)\n",
        "print(Employee.__dict__)"
      ],
      "metadata": {
        "id": "47D03bPqP50r"
      },
      "execution_count": null,
      "outputs": []
    },
    {
      "cell_type": "markdown",
      "source": [
        "We can see that *annual_increment* appears as the attribute of the class but does not appear in the class instances (*emp_1*). We can change the value of the *annual_inrement* using the class. This will affect the attributes of the instances as well."
      ],
      "metadata": {
        "id": "vTMLlXk0nEyU"
      }
    },
    {
      "cell_type": "code",
      "source": [
        "Employee.annual_increment=1.2\n",
        "print(Employee.annual_increment)\n",
        "print(emp_1.annual_increment)\n",
        "print(emp_2.annual_increment)"
      ],
      "metadata": {
        "id": "7NpLb-jjQ8hy"
      },
      "execution_count": null,
      "outputs": []
    },
    {
      "cell_type": "markdown",
      "source": [
        "If we wish to change the class variable *annual_inrement* for a particular instance of the class, we can do so by assigning the value of the class variable *annual_increment* on an instance."
      ],
      "metadata": {
        "id": "-ZGGvUJSnvyS"
      }
    },
    {
      "cell_type": "code",
      "source": [
        "emp_1.annual_increment=1.0\n",
        "print(Employee.annual_increment)\n",
        "emp_1.apply_inrement()\n",
        "print(emp_1.pay)\n",
        "emp_2.apply_inrement()\n",
        "print(emp_2.pay)"
      ],
      "metadata": {
        "colab": {
          "base_uri": "https://localhost:8080/"
        },
        "id": "VTQM2uRpRnOA",
        "outputId": "a28df8ce-e19e-4be2-f016-e1dd9a3e161f"
      },
      "execution_count": null,
      "outputs": [
        {
          "output_type": "stream",
          "name": "stdout",
          "text": [
            "1.1\n",
            "50000\n",
            "60500\n"
          ]
        }
      ]
    },
    {
      "cell_type": "markdown",
      "source": [
        "This shows that annual increment is updated for the class variable and the annual increment is set a different value only for 'emp_1' instance."
      ],
      "metadata": {
        "id": "hmxlUcOxR5zG"
      }
    },
    {
      "cell_type": "code",
      "source": [
        "print(emp_1.__dict__)\n",
        "print(emp_2.__dict__)"
      ],
      "metadata": {
        "colab": {
          "base_uri": "https://localhost:8080/"
        },
        "id": "4qsx5DIuSo7x",
        "outputId": "4baea3e4-c561-45ef-a1c7-2367280db7d5"
      },
      "execution_count": null,
      "outputs": [
        {
          "output_type": "stream",
          "name": "stdout",
          "text": [
            "{'firstName': 'FirstName_1', 'lastName': 'LastName_1', 'email': 'FirstName_1.LastName_1@email.com', 'pay': 55000, 'annual_increment': 1.05}\n",
            "{'firstName': 'FirstName_2', 'lastName': 'LastName_2', 'email': 'FirstName_2.LastName_2@email.com', 'pay': 60000}\n"
          ]
        }
      ]
    },
    {
      "cell_type": "markdown",
      "source": [
        "So, setting *emp_1.annual_increment=1.05* added the class variable as the instance variable for *emp_1* instance. This concept become helpful to update the class variable for an instance separately. This is only possible when we access the class variable in a method by 'self' not by class."
      ],
      "metadata": {
        "id": "RiggTiS0S5IY"
      }
    },
    {
      "cell_type": "code",
      "source": [
        "print(emp_1.pay)\n",
        "emp_1.apply_inrement()\n",
        "print(emp_1.pay)"
      ],
      "metadata": {
        "colab": {
          "base_uri": "https://localhost:8080/"
        },
        "id": "dVqAt1NzUJQD",
        "outputId": "b2dd8785-fcaf-4aec-a00d-d2ccc9e37cf9"
      },
      "execution_count": null,
      "outputs": [
        {
          "output_type": "stream",
          "name": "stdout",
          "text": [
            "57750\n",
            "60637\n"
          ]
        }
      ]
    },
    {
      "cell_type": "markdown",
      "source": [
        "Now, let us track the total number of employees, then, as it is the same for all the instance so is the good candidate for the class variable."
      ],
      "metadata": {
        "id": "fCl7Id_3U2gE"
      }
    },
    {
      "cell_type": "code",
      "source": [
        "class Employee:\n",
        "  annual_increment=1.1\n",
        "  numberEmployees=0\n",
        "  def __init__(self, firstName, lastName, email, pay):\n",
        "    self.firstName=firstName\n",
        "    self.lastName=lastName\n",
        "    self.email=email\n",
        "    self.pay=pay\n",
        "    Employee.numberEmployees += 1\n",
        "\n",
        "  def fullname(self):\n",
        "    return emp_1.firstName+' '+emp_1.lastName\n",
        "\n",
        "  def apply_inrement(self):\n",
        "    self.pay = int(self.pay * self.annual_increment)\n",
        "    #self.pay = int(self.pay * Employee.annual_increment)"
      ],
      "metadata": {
        "id": "Lgqvc6-lVZti"
      },
      "execution_count": null,
      "outputs": []
    },
    {
      "cell_type": "code",
      "source": [
        "emp_1=Employee('FirstName_1', 'LastName_1','FirstName_1.LastName_1@email.com', 50000)\n",
        "emp_2=Employee('FirstName_2', 'LastName_2','FirstName_2.LastName_2@email.com', 60000)\n"
      ],
      "metadata": {
        "id": "XwhH2b5oVrNC"
      },
      "execution_count": null,
      "outputs": []
    },
    {
      "cell_type": "code",
      "source": [
        "print(Employee.numberEmployees)"
      ],
      "metadata": {
        "id": "4V0MnWlSV8l6"
      },
      "execution_count": null,
      "outputs": []
    },
    {
      "cell_type": "markdown",
      "source": [
        "###Function overloading\n",
        "The assignment of more than one behavior to a particular function. The operation performed varies by the types of objects or arguments involved.\n",
        "\n",
        "\n",
        "###Inheritance\n",
        "The transfer of the characteristics of a class to other classes that are derived from it.\n"
      ],
      "metadata": {
        "id": "TwztE4ZJzYEK"
      }
    },
    {
      "cell_type": "markdown",
      "source": [
        "###Operator overloading\n",
        "The assignment of more than one function to a particular operator."
      ],
      "metadata": {
        "id": "kbSvMejYzc_2"
      }
    },
    {
      "cell_type": "code",
      "source": [
        "class MyClass:\n",
        "\n",
        "  # Regular method takes first arguement as instance itself\n",
        "  # By convention we use 'self'\n",
        "\n",
        "  def method(self):\n",
        "    return 'instance method called', self\n",
        "\n",
        "  @classmethod\n",
        "  def classmethod(cls):\n",
        "    return 'class method called', cls\n",
        "\n",
        "  @staticmethod\n",
        "  def staticmethod():\n",
        "    return 'static method called'"
      ],
      "metadata": {
        "id": "DSklymcTN0Y6"
      },
      "execution_count": null,
      "outputs": []
    },
    {
      "cell_type": "markdown",
      "source": [
        "##Instance Methods\n",
        "The first method on MyClass, called method, is a regular instance method. That’s the basic method we use most of the time. We can see the method takes one parameter, self, which points to an instance of MyClass when the method is called (but of course instance methods can accept more than just one parameter).\n",
        "\n",
        "Through the self parameter, instance methods can freely access attributes and other methods on the same object. This gives them a lot of power when it comes to modifying an object’s state.\n",
        "\n",
        "Not only can they modify object state, instance methods can also access the class itself through the self.__class__ attribute. This means instance methods can also modify class state."
      ],
      "metadata": {
        "id": "2pSR0y9YmF3A"
      }
    },
    {
      "cell_type": "markdown",
      "source": [
        "##Class Methods\n",
        "Let’s compare that to the second method, MyClass.classmethod. We mark this method with a @classmethod decorator to flag it as a class method. Instead of accepting a self parameter, class methods take a cls parameter that points to the class—and not the object instance—when the method is called.\n",
        "\n",
        "Because the class method only has access to this cls argument, it can’t modify object instance state. That would require access to self. However, class methods can still modify class state that applies across all instances of the class."
      ],
      "metadata": {
        "id": "ro4hChEVmMmj"
      }
    },
    {
      "cell_type": "markdown",
      "source": [
        "##Static Methods\n",
        "The third method, MyClass.staticmethod is marked with a @staticmethod decorator to flag it as a static method.\n",
        "\n",
        "This type of method takes neither a self nor a cls parameter (but of course it’s free to accept an arbitrary number of other parameters).\n",
        "\n",
        "Therefore a static method can neither modify object state nor class state. Static methods are restricted in what data they can access - and they’re primarily a way to namespace your methods."
      ],
      "metadata": {
        "id": "ObdeVl_omSlS"
      }
    },
    {
      "cell_type": "markdown",
      "source": [
        "We’ll start by creating an instance of the class and then calling the three different methods on it.\n",
        "\n",
        "MyClass was set up in such a way that each method’s implementation returns a tuple containing information for us to trace what’s going on — and which parts of the class or object the method can access.\n",
        "\n",
        "Here’s what happens when we call an instance method:"
      ],
      "metadata": {
        "id": "e0PAeHVimk9z"
      }
    },
    {
      "cell_type": "code",
      "source": [
        "obj = MyClass()\n",
        "obj.method()"
      ],
      "metadata": {
        "colab": {
          "base_uri": "https://localhost:8080/"
        },
        "id": "u5AgTzT-l49x",
        "outputId": "2aa55340-68f0-4248-8fcd-0ac6f99b94b0"
      },
      "execution_count": null,
      "outputs": [
        {
          "output_type": "execute_result",
          "data": {
            "text/plain": [
              "('instance method called', <__main__.MyClass at 0x7f84705be160>)"
            ]
          },
          "metadata": {},
          "execution_count": 2
        }
      ]
    },
    {
      "cell_type": "markdown",
      "source": [
        "This confirmed that method (the instance method) has access to the object instance (printed as <MyClass instance>) via the self argument."
      ],
      "metadata": {
        "id": "7LMsT0RCnAzQ"
      }
    },
    {
      "cell_type": "code",
      "source": [
        "obj.classmethod()"
      ],
      "metadata": {
        "colab": {
          "base_uri": "https://localhost:8080/"
        },
        "id": "QvZxF6Ukni_d",
        "outputId": "46860856-ddfd-4a40-f229-b1a54906ca50"
      },
      "execution_count": null,
      "outputs": [
        {
          "output_type": "execute_result",
          "data": {
            "text/plain": [
              "('class method called', __main__.MyClass)"
            ]
          },
          "metadata": {},
          "execution_count": 3
        }
      ]
    },
    {
      "cell_type": "code",
      "source": [
        "MyClass.classmethod()"
      ],
      "metadata": {
        "colab": {
          "base_uri": "https://localhost:8080/"
        },
        "id": "ah1HnTAZoso2",
        "outputId": "eb82883a-6ca0-43c8-adcc-ac9597967b1d"
      },
      "execution_count": null,
      "outputs": [
        {
          "output_type": "execute_result",
          "data": {
            "text/plain": [
              "('class method called', __main__.MyClass)"
            ]
          },
          "metadata": {},
          "execution_count": 4
        }
      ]
    },
    {
      "cell_type": "code",
      "source": [
        "MyClass.staticmethod()"
      ],
      "metadata": {
        "colab": {
          "base_uri": "https://localhost:8080/",
          "height": 35
        },
        "id": "cT0YBWXLonK2",
        "outputId": "34196411-1731-46f4-a05a-57d6cb6ca235"
      },
      "execution_count": null,
      "outputs": [
        {
          "output_type": "execute_result",
          "data": {
            "text/plain": [
              "'static method called'"
            ],
            "application/vnd.google.colaboratory.intrinsic+json": {
              "type": "string"
            }
          },
          "metadata": {},
          "execution_count": 5
        }
      ]
    },
    {
      "cell_type": "code",
      "source": [
        "MyClass.method()"
      ],
      "metadata": {
        "colab": {
          "base_uri": "https://localhost:8080/",
          "height": 165
        },
        "id": "47rsYcvhousc",
        "outputId": "09ba6557-e0ec-4297-a445-d77afb551385"
      },
      "execution_count": null,
      "outputs": [
        {
          "output_type": "error",
          "ename": "TypeError",
          "evalue": "ignored",
          "traceback": [
            "\u001b[0;31m---------------------------------------------------------------------------\u001b[0m",
            "\u001b[0;31mTypeError\u001b[0m                                 Traceback (most recent call last)",
            "\u001b[0;32m<ipython-input-15-88f17b4fa117>\u001b[0m in \u001b[0;36m<module>\u001b[0;34m\u001b[0m\n\u001b[0;32m----> 1\u001b[0;31m \u001b[0mMyClass\u001b[0m\u001b[0;34m.\u001b[0m\u001b[0mmethod\u001b[0m\u001b[0;34m(\u001b[0m\u001b[0;34m)\u001b[0m\u001b[0;34m\u001b[0m\u001b[0;34m\u001b[0m\u001b[0m\n\u001b[0m",
            "\u001b[0;31mTypeError\u001b[0m: method() missing 1 required positional argument: 'self'"
          ]
        }
      ]
    },
    {
      "cell_type": "markdown",
      "source": [
        "Will throw error as instance method need object to pass."
      ],
      "metadata": {
        "id": "hFrpaiE9o4nD"
      }
    },
    {
      "cell_type": "code",
      "source": [
        "MyClass.method(obj)"
      ],
      "metadata": {
        "colab": {
          "base_uri": "https://localhost:8080/"
        },
        "id": "iTV2LjKCmx5J",
        "outputId": "b0981235-13f5-441e-c6f8-cbd4147a09f8"
      },
      "execution_count": null,
      "outputs": [
        {
          "output_type": "execute_result",
          "data": {
            "text/plain": [
              "('instance method called', <__main__.MyClass at 0x7fed892ed070>)"
            ]
          },
          "metadata": {},
          "execution_count": 3
        }
      ]
    },
    {
      "cell_type": "markdown",
      "source": [
        "Class methods are declared by using @classmethod and it takes class as argument.A class method can access or modify the class state."
      ],
      "metadata": {
        "id": "pLmlExVRA3am"
      }
    },
    {
      "cell_type": "code",
      "source": [
        "class Employee:\n",
        "  increment = 1.5\n",
        "\n",
        "  def __init__(self, fn, ln, sal):\n",
        "      self.fname=fn\n",
        "      self.lname=ln\n",
        "      self.salary=sal\n",
        "\n",
        "  def increase(self):\n",
        "    self.salary = int(self.salary * self.increment)\n",
        "\n",
        "  @classmethod\n",
        "  def change_sal(cls, amount):\n",
        "    cls.increment = amount\n",
        "\n",
        "karan = Employee('karan', 'bhardwaj',50000)\n",
        "karan2 = Employee('karan', 'bhardwaj',80000)\n",
        "\n",
        "\n",
        "print(karan.salary)\n",
        "Employee.change_sal(2)\n",
        "karan.increase()\n",
        "print(karan.salary)"
      ],
      "metadata": {
        "id": "9Z-HX3vzo-9X",
        "colab": {
          "base_uri": "https://localhost:8080/"
        },
        "outputId": "e633e37d-7aba-4da9-ff8e-fe377acb9b1e"
      },
      "execution_count": null,
      "outputs": [
        {
          "output_type": "stream",
          "name": "stdout",
          "text": [
            "50000\n",
            "100000\n"
          ]
        }
      ]
    },
    {
      "cell_type": "markdown",
      "source": [
        "**Class methods as alternative constructor**"
      ],
      "metadata": {
        "id": "s_yC2_YAR7xk"
      }
    },
    {
      "cell_type": "code",
      "source": [
        "class Employee:\n",
        "  increment = 1.5\n",
        "\n",
        "  def __init__(self, fn, ln, sal):\n",
        "      self.fname=fn\n",
        "      self.lname=ln\n",
        "      self.salary=sal\n",
        "\n",
        "  def increase(self):\n",
        "    self.salary = int(self.salary * self.increment)\n",
        "\n",
        "  @classmethod\n",
        "  def change_sal(cls, amount):\n",
        "    cls.increment = amount\n",
        "\n",
        "  @classmethod\n",
        "  def\n",
        "\n",
        "sachin = Employee('sachin','bharwal',80000)\n",
        "\n",
        "print(sachin.salary)\n",
        "Employee.change_sal(5)\n",
        "sachin.increase()\n",
        "print(sachin.salary)"
      ],
      "metadata": {
        "colab": {
          "base_uri": "https://localhost:8080/"
        },
        "id": "oLLdJ4EvR7dn",
        "outputId": "2bf64794-e942-499c-91ca-7b17c4389d0c"
      },
      "execution_count": null,
      "outputs": [
        {
          "output_type": "stream",
          "name": "stdout",
          "text": [
            "80000\n",
            "400000\n"
          ]
        }
      ]
    }
  ]
}
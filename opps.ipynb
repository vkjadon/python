{
  "nbformat": 4,
  "nbformat_minor": 0,
  "metadata": {
    "colab": {
      "provenance": [],
      "include_colab_link": true
    },
    "kernelspec": {
      "name": "python3",
      "display_name": "Python 3"
    },
    "language_info": {
      "name": "python"
    }
  },
  "cells": [
    {
      "cell_type": "markdown",
      "metadata": {
        "id": "view-in-github",
        "colab_type": "text"
      },
      "source": [
        "<a href=\"https://colab.research.google.com/github/vkjadon/python/blob/main/opps.ipynb\" target=\"_parent\"><img src=\"https://colab.research.google.com/assets/colab-badge.svg\" alt=\"Open In Colab\"/></a>"
      ]
    },
    {
      "cell_type": "markdown",
      "source": [
        "###Class \n",
        "A user-defined prototype for an object that defines a set of attributes that characterize any object of the class. The attributes are data members (class variables and instance variables) and methods, accessed via dot notation.\n",
        "\n",
        "###Class variable\n",
        "A variable that is shared by all instances of a class. Class variables are defined within a class but outside any of the class's methods. Class variables are not used as frequently as instance variables are.\n"
      ],
      "metadata": {
        "id": "y3ZGhj_cwfAj"
      }
    },
    {
      "cell_type": "code",
      "source": [
        "class Employee:\n",
        "  pass"
      ],
      "metadata": {
        "id": "Yzb8adkSB0U_"
      },
      "execution_count": 6,
      "outputs": []
    },
    {
      "cell_type": "markdown",
      "source": [
        "###Object \n",
        "A unique instance of a data structure that's defined by its class. An object comprises both data members (class variables and instance variables) and methods.\n",
        "Creating an object of Employee class."
      ],
      "metadata": {
        "id": "c8v-2rHYCp1f"
      }
    },
    {
      "cell_type": "code",
      "source": [
        "emp_1=Employee()\n",
        "emp_2=Employee()"
      ],
      "metadata": {
        "id": "r-lVl4I9CFoL"
      },
      "execution_count": null,
      "outputs": []
    },
    {
      "cell_type": "markdown",
      "source": [
        "###Constructors\n",
        "Constructors are generally used for instantiating an object.The task of constructors is to initialize(assign values) to the data members of the class when an object of class is created.In Python the __init__() method is called the constructor and is always called when an object is created."
      ],
      "metadata": {
        "id": "ujzbOZiNEDw0"
      }
    },
    {
      "cell_type": "code",
      "source": [
        "class Employee:\n",
        "  def __init__(self, fn, ln, sal):\n",
        "    self.fname=fn\n",
        "    self.lname=ln\n",
        "    self.salary=sal"
      ],
      "metadata": {
        "id": "U0Vj0QXwEI6r"
      },
      "execution_count": 9,
      "outputs": []
    },
    {
      "cell_type": "code",
      "source": [
        "emp_1=Employee(\"First_name_1\", \"Last_name_1\", 20000)\n",
        "emp_2=Employee(\"First_name_2\", \"Last_name_2\", 50000)"
      ],
      "metadata": {
        "id": "9soYIC_nGIPy"
      },
      "execution_count": 10,
      "outputs": []
    },
    {
      "cell_type": "code",
      "source": [
        "print(emp_1, emp_2)\n",
        "print(emp_1.fname, emp_2.fname)"
      ],
      "metadata": {
        "colab": {
          "base_uri": "https://localhost:8080/"
        },
        "id": "zJ0AziBxGNkK",
        "outputId": "b10c40e0-c601-4d3f-b716-e8c7b9d08d0f"
      },
      "execution_count": 12,
      "outputs": [
        {
          "output_type": "stream",
          "name": "stdout",
          "text": [
            "<__main__.Employee object at 0x7f41ff1ca430> <__main__.Employee object at 0x7f41ff1ca3d0>\n",
            "First_name_1 First_name_2\n"
          ]
        }
      ]
    },
    {
      "cell_type": "markdown",
      "source": [
        "###Data member \n",
        "A class variable or instance variable that holds data associated with a class and its objects.\n",
        "\n",
        "###Method \n",
        "A special kind of function that is defined in a class definition.\n",
        "\n"
      ],
      "metadata": {
        "id": "HIgDBR29BwqV"
      }
    },
    {
      "cell_type": "markdown",
      "source": [
        "###Function overloading\n",
        "The assignment of more than one behavior to a particular function. The operation performed varies by the types of objects or arguments involved.\n",
        "\n",
        "###Instance variable\n",
        "A variable that is defined inside a method and belongs only to the current instance of a class.\n",
        "\n",
        "###Inheritance \n",
        "The transfer of the characteristics of a class to other classes that are derived from it.\n",
        "###Instance\n",
        "An individual object of a certain class. An object obj that belongs to a class Circle, for example, is an instance of the class Circle.\n",
        "###Instantiation \n",
        "The creation of an instance of a class.\n"
      ],
      "metadata": {
        "id": "TwztE4ZJzYEK"
      }
    },
    {
      "cell_type": "markdown",
      "source": [
        "**Working with Classes**"
      ],
      "metadata": {
        "id": "4z_kINgWDHHy"
      }
    },
    {
      "cell_type": "code",
      "source": [
        "class Employee:\n",
        "  pass"
      ],
      "metadata": {
        "id": "NkcclqyNDGqG"
      },
      "execution_count": null,
      "outputs": []
    },
    {
      "cell_type": "markdown",
      "source": [
        "###Operator overloading \n",
        "The assignment of more than one function to a particular operator."
      ],
      "metadata": {
        "id": "kbSvMejYzc_2"
      }
    },
    {
      "cell_type": "code",
      "execution_count": null,
      "metadata": {
        "id": "5RwcL4Yfh5b_"
      },
      "outputs": [],
      "source": []
    }
  ]
}
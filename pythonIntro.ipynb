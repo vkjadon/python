{
  "nbformat": 4,
  "nbformat_minor": 0,
  "metadata": {
    "colab": {
      "provenance": [],
      "authorship_tag": "ABX9TyNaojxzR9WA9o2VFCunL5nr",
      "include_colab_link": true
    },
    "kernelspec": {
      "name": "python3",
      "display_name": "Python 3"
    },
    "language_info": {
      "name": "python"
    }
  },
  "cells": [
    {
      "cell_type": "markdown",
      "metadata": {
        "id": "view-in-github",
        "colab_type": "text"
      },
      "source": [
        "<a href=\"https://colab.research.google.com/github/vkjadon/python/blob/main/pythonIntro.ipynb\" target=\"_parent\"><img src=\"https://colab.research.google.com/assets/colab-badge.svg\" alt=\"Open In Colab\"/></a>"
      ]
    },
    {
      "cell_type": "markdown",
      "source": [
        "# Mathematical Model"
      ],
      "metadata": {
        "id": "OQtFPz4ijAT4"
      }
    },
    {
      "cell_type": "markdown",
      "source": [
        "Consider a bar of 10m long having uniform cross-section. The temperature of one end of the bar is kept at 10 $^0$C and the other end is 50 $^0$C. Find the temperature of the bar at a distance of 3.75 m from the colder end.\n"
      ],
      "metadata": {
        "id": "xi5Rm5sWlLWR"
      }
    },
    {
      "cell_type": "code",
      "source": [
        "# Mathematical Model of the system is based on the straight line equation\n",
        "y=4x+10"
      ],
      "metadata": {
        "colab": {
          "base_uri": "https://localhost:8080/",
          "height": 108
        },
        "id": "uD2BHCAO3D6j",
        "outputId": "b434aeb2-3074-4836-b5dd-bd4a9b0327c2"
      },
      "execution_count": null,
      "outputs": [
        {
          "output_type": "error",
          "ename": "SyntaxError",
          "evalue": "invalid decimal literal (<ipython-input-1-0b0e5da1ccf8>, line 2)",
          "traceback": [
            "\u001b[0;36m  File \u001b[0;32m\"<ipython-input-1-0b0e5da1ccf8>\"\u001b[0;36m, line \u001b[0;32m2\u001b[0m\n\u001b[0;31m    y=4x+10\u001b[0m\n\u001b[0m      ^\u001b[0m\n\u001b[0;31mSyntaxError\u001b[0m\u001b[0;31m:\u001b[0m invalid decimal literal\n"
          ]
        }
      ]
    },
    {
      "cell_type": "markdown",
      "source": [
        "The execution throw some error related to 'decimal literal' as it does not understand that '4' and 'x' are to be multiplied. We have to use '*' to represent the multiplication of two quantities.\n",
        "Modify the code"
      ],
      "metadata": {
        "id": "a4BJ70VwLcMF"
      }
    },
    {
      "cell_type": "code",
      "source": [
        "y=4*x+10"
      ],
      "metadata": {
        "colab": {
          "base_uri": "https://localhost:8080/",
          "height": 144
        },
        "id": "Op8PlIDGMPgQ",
        "outputId": "15779a2a-d1a5-4f9e-d02a-000041177b1c"
      },
      "execution_count": null,
      "outputs": [
        {
          "output_type": "error",
          "ename": "NameError",
          "evalue": "name 'x' is not defined",
          "traceback": [
            "\u001b[0;31m---------------------------------------------------------------------------\u001b[0m",
            "\u001b[0;31mNameError\u001b[0m                                 Traceback (most recent call last)",
            "\u001b[0;32m<ipython-input-2-3a7a4bcd4387>\u001b[0m in \u001b[0;36m<cell line: 1>\u001b[0;34m()\u001b[0m\n\u001b[0;32m----> 1\u001b[0;31m \u001b[0my\u001b[0m\u001b[0;34m=\u001b[0m\u001b[0;36m4\u001b[0m\u001b[0;34m*\u001b[0m\u001b[0mx\u001b[0m\u001b[0;34m+\u001b[0m\u001b[0;36m10\u001b[0m\u001b[0;34m\u001b[0m\u001b[0;34m\u001b[0m\u001b[0m\n\u001b[0m",
            "\u001b[0;31mNameError\u001b[0m: name 'x' is not defined"
          ]
        }
      ]
    },
    {
      "cell_type": "markdown",
      "source": [
        "To solve this equation, we must know the value of 'x' before above this line. So, let us write x=3.75 which in programming language is called the assignment of a value to a variable."
      ],
      "metadata": {
        "id": "AZSSddr-MWE1"
      }
    },
    {
      "cell_type": "code",
      "source": [
        "x=3.75\n",
        "y=4*x+10"
      ],
      "metadata": {
        "id": "W9Nm7jpEMSdL"
      },
      "execution_count": 5,
      "outputs": []
    },
    {
      "cell_type": "markdown",
      "source": [
        "The code is executing but it is not producing and output. Its similar that I ask a question and you process the answer but you do not tell. In this case the answer is stored in variable 'y'. We have to tell computer to display the answer. This is achieved by 'print' command."
      ],
      "metadata": {
        "id": "wJAohvXuNVpN"
      }
    },
    {
      "cell_type": "code",
      "source": [
        "print(y)"
      ],
      "metadata": {
        "colab": {
          "base_uri": "https://localhost:8080/"
        },
        "id": "UoAiPZTqM4tp",
        "outputId": "01fc6273-20e3-4d9b-8b68-6df810b6fdb9"
      },
      "execution_count": null,
      "outputs": [
        {
          "output_type": "stream",
          "name": "stdout",
          "text": [
            "25.0\n"
          ]
        }
      ]
    },
    {
      "cell_type": "markdown",
      "source": [
        "This is the plain answer. We will discuss later how to make it more readable and formatted. No let us change the value of 'x' to 4 and check the answer."
      ],
      "metadata": {
        "id": "7zXd-NdTONbS"
      }
    },
    {
      "cell_type": "code",
      "source": [
        "x=4\n",
        "y=4*x+10\n",
        "print(y)"
      ],
      "metadata": {
        "colab": {
          "base_uri": "https://localhost:8080/"
        },
        "id": "0lxYV09lOHP4",
        "outputId": "455819b3-ea6a-4d7f-c260-1b9afabf50ea"
      },
      "execution_count": 2,
      "outputs": [
        {
          "output_type": "stream",
          "name": "stdout",
          "text": [
            "26\n"
          ]
        }
      ]
    },
    {
      "cell_type": "markdown",
      "source": [
        "See the difference between two, In first case its '25.0' a real number and in second case the answer is '26' and integer. The real numbers in coding languages are called 'float' number and integer as 'integer'. The are collectively called 'data-type'. So, in first case, the data-type of 'y' is 'float' in second case, the data-type is 'integer'. The python automatically assign the data-type to a variable according to its assigned value."
      ],
      "metadata": {
        "id": "ZOUxCUBEOukR"
      }
    },
    {
      "cell_type": "markdown",
      "source": [],
      "metadata": {
        "id": "rjzpjUoxUf4e"
      }
    },
    {
      "cell_type": "code",
      "source": [
        "print(type(y))"
      ],
      "metadata": {
        "id": "WoXQGAXZP9c_",
        "outputId": "7e6eb7a6-a8fc-4f4a-c885-05defb49dd1b",
        "colab": {
          "base_uri": "https://localhost:8080/"
        }
      },
      "execution_count": 6,
      "outputs": [
        {
          "output_type": "stream",
          "name": "stdout",
          "text": [
            "<class 'float'>\n"
          ]
        }
      ]
    },
    {
      "cell_type": "code",
      "source": [
        "!git clone https://github.com/vkjadon/ros2.git\n",
        "\n",
        "%cd ros2"
      ],
      "metadata": {
        "id": "notqMF5gX1oX",
        "outputId": "b73a7883-d34f-474d-b681-5c2b6e3b8ebd",
        "colab": {
          "base_uri": "https://localhost:8080/"
        }
      },
      "execution_count": 10,
      "outputs": [
        {
          "output_type": "stream",
          "name": "stdout",
          "text": [
            "Cloning into 'ros2'...\n",
            "remote: Enumerating objects: 192, done.\u001b[K\n",
            "remote: Counting objects:   1% (1/59)\u001b[K\rremote: Counting objects:   3% (2/59)\u001b[K\rremote: Counting objects:   5% (3/59)\u001b[K\rremote: Counting objects:   6% (4/59)\u001b[K\rremote: Counting objects:   8% (5/59)\u001b[K\rremote: Counting objects:  10% (6/59)\u001b[K\rremote: Counting objects:  11% (7/59)\u001b[K\rremote: Counting objects:  13% (8/59)\u001b[K\rremote: Counting objects:  15% (9/59)\u001b[K\rremote: Counting objects:  16% (10/59)\u001b[K\rremote: Counting objects:  18% (11/59)\u001b[K\rremote: Counting objects:  20% (12/59)\u001b[K\rremote: Counting objects:  22% (13/59)\u001b[K\rremote: Counting objects:  23% (14/59)\u001b[K\rremote: Counting objects:  25% (15/59)\u001b[K\rremote: Counting objects:  27% (16/59)\u001b[K\rremote: Counting objects:  28% (17/59)\u001b[K\rremote: Counting objects:  30% (18/59)\u001b[K\rremote: Counting objects:  32% (19/59)\u001b[K\rremote: Counting objects:  33% (20/59)\u001b[K\rremote: Counting objects:  35% (21/59)\u001b[K\rremote: Counting objects:  37% (22/59)\u001b[K\rremote: Counting objects:  38% (23/59)\u001b[K\rremote: Counting objects:  40% (24/59)\u001b[K\rremote: Counting objects:  42% (25/59)\u001b[K\rremote: Counting objects:  44% (26/59)\u001b[K\rremote: Counting objects:  45% (27/59)\u001b[K\rremote: Counting objects:  47% (28/59)\u001b[K\rremote: Counting objects:  49% (29/59)\u001b[K\rremote: Counting objects:  50% (30/59)\u001b[K\rremote: Counting objects:  52% (31/59)\u001b[K\rremote: Counting objects:  54% (32/59)\u001b[K\rremote: Counting objects:  55% (33/59)\u001b[K\rremote: Counting objects:  57% (34/59)\u001b[K\rremote: Counting objects:  59% (35/59)\u001b[K\rremote: Counting objects:  61% (36/59)\u001b[K\rremote: Counting objects:  62% (37/59)\u001b[K\rremote: Counting objects:  64% (38/59)\u001b[K\rremote: Counting objects:  66% (39/59)\u001b[K\rremote: Counting objects:  67% (40/59)\u001b[K\rremote: Counting objects:  69% (41/59)\u001b[K\rremote: Counting objects:  71% (42/59)\u001b[K\rremote: Counting objects:  72% (43/59)\u001b[K\rremote: Counting objects:  74% (44/59)\u001b[K\rremote: Counting objects:  76% (45/59)\u001b[K\rremote: Counting objects:  77% (46/59)\u001b[K\rremote: Counting objects:  79% (47/59)\u001b[K\rremote: Counting objects:  81% (48/59)\u001b[K\rremote: Counting objects:  83% (49/59)\u001b[K\rremote: Counting objects:  84% (50/59)\u001b[K\rremote: Counting objects:  86% (51/59)\u001b[K\rremote: Counting objects:  88% (52/59)\u001b[K\rremote: Counting objects:  89% (53/59)\u001b[K\rremote: Counting objects:  91% (54/59)\u001b[K\rremote: Counting objects:  93% (55/59)\u001b[K\rremote: Counting objects:  94% (56/59)\u001b[K\rremote: Counting objects:  96% (57/59)\u001b[K\rremote: Counting objects:  98% (58/59)\u001b[K\rremote: Counting objects: 100% (59/59)\u001b[K\rremote: Counting objects: 100% (59/59), done.\u001b[K\n",
            "remote: Compressing objects:   1% (1/59)\u001b[K\rremote: Compressing objects:   3% (2/59)\u001b[K\rremote: Compressing objects:   5% (3/59)\u001b[K\rremote: Compressing objects:   6% (4/59)\u001b[K\rremote: Compressing objects:   8% (5/59)\u001b[K\rremote: Compressing objects:  10% (6/59)\u001b[K\rremote: Compressing objects:  11% (7/59)\u001b[K\rremote: Compressing objects:  13% (8/59)\u001b[K\rremote: Compressing objects:  15% (9/59)\u001b[K\rremote: Compressing objects:  16% (10/59)\u001b[K\rremote: Compressing objects:  18% (11/59)\u001b[K\rremote: Compressing objects:  20% (12/59)\u001b[K\rremote: Compressing objects:  22% (13/59)\u001b[K\rremote: Compressing objects:  23% (14/59)\u001b[K\rremote: Compressing objects:  25% (15/59)\u001b[K\rremote: Compressing objects:  27% (16/59)\u001b[K\rremote: Compressing objects:  28% (17/59)\u001b[K\rremote: Compressing objects:  30% (18/59)\u001b[K\rremote: Compressing objects:  32% (19/59)\u001b[K\rremote: Compressing objects:  33% (20/59)\u001b[K\rremote: Compressing objects:  35% (21/59)\u001b[K\rremote: Compressing objects:  37% (22/59)\u001b[K\rremote: Compressing objects:  38% (23/59)\u001b[K\rremote: Compressing objects:  40% (24/59)\u001b[K\rremote: Compressing objects:  42% (25/59)\u001b[K\rremote: Compressing objects:  44% (26/59)\u001b[K\rremote: Compressing objects:  45% (27/59)\u001b[K\rremote: Compressing objects:  47% (28/59)\u001b[K\rremote: Compressing objects:  49% (29/59)\u001b[K\rremote: Compressing objects:  50% (30/59)\u001b[K\rremote: Compressing objects:  52% (31/59)\u001b[K\rremote: Compressing objects:  54% (32/59)\u001b[K\rremote: Compressing objects:  55% (33/59)\u001b[K\rremote: Compressing objects:  57% (34/59)\u001b[K\rremote: Compressing objects:  59% (35/59)\u001b[K\rremote: Compressing objects:  61% (36/59)\u001b[K\rremote: Compressing objects:  62% (37/59)\u001b[K\rremote: Compressing objects:  64% (38/59)\u001b[K\rremote: Compressing objects:  66% (39/59)\u001b[K\rremote: Compressing objects:  67% (40/59)\u001b[K\rremote: Compressing objects:  69% (41/59)\u001b[K\rremote: Compressing objects:  71% (42/59)\u001b[K\rremote: Compressing objects:  72% (43/59)\u001b[K\rremote: Compressing objects:  74% (44/59)\u001b[K\rremote: Compressing objects:  76% (45/59)\u001b[K\rremote: Compressing objects:  77% (46/59)\u001b[K\rremote: Compressing objects:  79% (47/59)\u001b[K\rremote: Compressing objects:  81% (48/59)\u001b[K\rremote: Compressing objects:  83% (49/59)\u001b[K\rremote: Compressing objects:  84% (50/59)\u001b[K\rremote: Compressing objects:  86% (51/59)\u001b[K\rremote: Compressing objects:  88% (52/59)\u001b[K\rremote: Compressing objects:  89% (53/59)\u001b[K\rremote: Compressing objects:  91% (54/59)\u001b[K\rremote: Compressing objects:  93% (55/59)\u001b[K\rremote: Compressing objects:  94% (56/59)\u001b[K\rremote: Compressing objects:  96% (57/59)\u001b[K\rremote: Compressing objects:  98% (58/59)\u001b[K\rremote: Compressing objects: 100% (59/59)\u001b[K\rremote: Compressing objects: 100% (59/59), done.\u001b[K\n",
            "Receiving objects:   0% (1/192)\rReceiving objects:   1% (2/192)\rReceiving objects:   2% (4/192)\rReceiving objects:   3% (6/192)\rReceiving objects:   4% (8/192)\rReceiving objects:   5% (10/192)\rReceiving objects:   6% (12/192)\rReceiving objects:   7% (14/192)\rReceiving objects:   8% (16/192)\rReceiving objects:   9% (18/192)\rReceiving objects:  10% (20/192)\rReceiving objects:  11% (22/192)\rReceiving objects:  12% (24/192)\rReceiving objects:  13% (25/192)\rReceiving objects:  14% (27/192)\rReceiving objects:  15% (29/192)\rReceiving objects:  16% (31/192)\rReceiving objects:  17% (33/192)\rReceiving objects:  18% (35/192)\rReceiving objects:  19% (37/192)\rReceiving objects:  20% (39/192)\rReceiving objects:  21% (41/192)\rReceiving objects:  22% (43/192)\rReceiving objects:  23% (45/192)\rReceiving objects:  24% (47/192)\rReceiving objects:  25% (48/192)\rReceiving objects:  26% (50/192)\rReceiving objects:  27% (52/192)\rReceiving objects:  28% (54/192)\rReceiving objects:  29% (56/192)\rReceiving objects:  30% (58/192)\rReceiving objects:  31% (60/192)\rReceiving objects:  32% (62/192)\rReceiving objects:  33% (64/192)\rReceiving objects:  34% (66/192)\rReceiving objects:  35% (68/192)\rReceiving objects:  36% (70/192)\rReceiving objects:  37% (72/192)\rReceiving objects:  38% (73/192)\rReceiving objects:  39% (75/192)\rReceiving objects:  40% (77/192)\rReceiving objects:  41% (79/192)\rReceiving objects:  42% (81/192)\rReceiving objects:  43% (83/192)\rReceiving objects:  44% (85/192)\rReceiving objects:  45% (87/192)\rReceiving objects:  46% (89/192)\rReceiving objects:  47% (91/192)\rReceiving objects:  48% (93/192)\rReceiving objects:  49% (95/192)\rReceiving objects:  50% (96/192)\rReceiving objects:  51% (98/192)\rReceiving objects:  52% (100/192)\rReceiving objects:  53% (102/192)\rReceiving objects:  54% (104/192)\rReceiving objects:  55% (106/192)\rReceiving objects:  56% (108/192)\rReceiving objects:  57% (110/192)\rReceiving objects:  58% (112/192)\rReceiving objects:  59% (114/192)\rReceiving objects:  60% (116/192)\rReceiving objects:  61% (118/192)\rReceiving objects:  62% (120/192)\rReceiving objects:  63% (121/192)\rReceiving objects:  64% (123/192)\rReceiving objects:  65% (125/192)\rReceiving objects:  66% (127/192)\rReceiving objects:  67% (129/192)\rReceiving objects:  68% (131/192)\rReceiving objects:  69% (133/192)\rReceiving objects:  70% (135/192)\rReceiving objects:  71% (137/192)\rReceiving objects:  72% (139/192)\rReceiving objects:  73% (141/192)\rReceiving objects:  74% (143/192)\rReceiving objects:  75% (144/192)\rReceiving objects:  76% (146/192)\rReceiving objects:  77% (148/192)\rReceiving objects:  78% (150/192)\rReceiving objects:  79% (152/192)\rReceiving objects:  80% (154/192)\rReceiving objects:  81% (156/192)\rReceiving objects:  82% (158/192)\rReceiving objects:  83% (160/192)\rReceiving objects:  84% (162/192)\rReceiving objects:  85% (164/192)\rReceiving objects:  86% (166/192)\rReceiving objects:  87% (168/192)\rReceiving objects:  88% (169/192)\rReceiving objects:  89% (171/192)\rReceiving objects:  90% (173/192)\rReceiving objects:  91% (175/192)\rReceiving objects:  92% (177/192)\rReceiving objects:  93% (179/192)\rReceiving objects:  94% (181/192)\rremote: Total 192 (delta 34), reused 0 (delta 0), pack-reused 133 (from 1)\u001b[K\n",
            "Receiving objects: 100% (192/192), 84.16 KiB | 10.52 MiB/s, done.\n",
            "Resolving deltas: 100% (111/111), done.\n",
            "/content/ros2\n"
          ]
        }
      ]
    },
    {
      "cell_type": "code",
      "source": [
        "%ls"
      ],
      "metadata": {
        "id": "pUjSHXcXZhBc",
        "outputId": "f4dde4a5-312c-4ad1-f07d-242f060a7f03",
        "colab": {
          "base_uri": "https://localhost:8080/"
        }
      },
      "execution_count": 11,
      "outputs": [
        {
          "output_type": "stream",
          "name": "stdout",
          "text": [
            " about_ros2.md    module_first.py    ros2script.sh        ultrasonic_publisher.ipynb\n",
            "'About ROS.md'    module_second.py   test_publisher.py\n",
            " callback.ipynb   oop_robot.ipynb    test_subscriber.py\n",
            " import.ipynb     os_glob.ipynb      try.ipynb\n"
          ]
        }
      ]
    },
    {
      "cell_type": "code",
      "source": [
        "# Step 3: Import the .py file\n",
        "from module_first import *"
      ],
      "metadata": {
        "id": "17M8NY3bZdRH",
        "outputId": "30428d9e-5435-4a7e-c45d-5edc456bcb01",
        "colab": {
          "base_uri": "https://localhost:8080/"
        }
      },
      "execution_count": 12,
      "outputs": [
        {
          "output_type": "stream",
          "name": "stdout",
          "text": [
            "This is outside the main() function of First Module\n"
          ]
        }
      ]
    }
  ]
}
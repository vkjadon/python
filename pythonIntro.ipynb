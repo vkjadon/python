{
  "nbformat": 4,
  "nbformat_minor": 0,
  "metadata": {
    "colab": {
      "provenance": [],
      "toc_visible": true,
      "authorship_tag": "ABX9TyNUu4g51NHFgJjmXDsvSMFD",
      "include_colab_link": true
    },
    "kernelspec": {
      "name": "python3",
      "display_name": "Python 3"
    },
    "language_info": {
      "name": "python"
    }
  },
  "cells": [
    {
      "cell_type": "markdown",
      "metadata": {
        "id": "view-in-github",
        "colab_type": "text"
      },
      "source": [
        "<a href=\"https://colab.research.google.com/github/vkjadon/python/blob/main/pythonIntro.ipynb\" target=\"_parent\"><img src=\"https://colab.research.google.com/assets/colab-badge.svg\" alt=\"Open In Colab\"/></a>"
      ]
    },
    {
      "cell_type": "markdown",
      "source": [
        "##Mathematical Model"
      ],
      "metadata": {
        "id": "OQtFPz4ijAT4"
      }
    },
    {
      "cell_type": "markdown",
      "source": [
        "Consider a bar of 10m long having uniform cross-section. The temperature of one end of the bar is kept at 10 $^0$C and is varying linearly to 50 $^0$C at other end. Find the temperature of the bar at a distance of 3.75 m from the colder end.\n",
        "\n",
        "Let x represnts the lenght of the bar and y the corresponding temperature.\n"
      ],
      "metadata": {
        "id": "xi5Rm5sWlLWR"
      }
    },
    {
      "cell_type": "code",
      "source": [
        "# Mathematical Model of the system is based on the straight line equation\n",
        "y=4x+10"
      ],
      "metadata": {
        "colab": {
          "base_uri": "https://localhost:8080/",
          "height": 108
        },
        "id": "uD2BHCAO3D6j",
        "outputId": "b434aeb2-3074-4836-b5dd-bd4a9b0327c2"
      },
      "execution_count": null,
      "outputs": [
        {
          "output_type": "error",
          "ename": "SyntaxError",
          "evalue": "invalid decimal literal (<ipython-input-1-0b0e5da1ccf8>, line 2)",
          "traceback": [
            "\u001b[0;36m  File \u001b[0;32m\"<ipython-input-1-0b0e5da1ccf8>\"\u001b[0;36m, line \u001b[0;32m2\u001b[0m\n\u001b[0;31m    y=4x+10\u001b[0m\n\u001b[0m      ^\u001b[0m\n\u001b[0;31mSyntaxError\u001b[0m\u001b[0;31m:\u001b[0m invalid decimal literal\n"
          ]
        }
      ]
    },
    {
      "cell_type": "markdown",
      "source": [
        "The execution throw some error related to 'decimal literal' as it does not understand that '4' and 'x' are to be multiplied. We have to use '*' to represent the multiplication of two quantities.\n",
        "Modify the code"
      ],
      "metadata": {
        "id": "a4BJ70VwLcMF"
      }
    },
    {
      "cell_type": "code",
      "source": [
        "y=4*x+10"
      ],
      "metadata": {
        "colab": {
          "base_uri": "https://localhost:8080/",
          "height": 144
        },
        "id": "Op8PlIDGMPgQ",
        "outputId": "15779a2a-d1a5-4f9e-d02a-000041177b1c"
      },
      "execution_count": null,
      "outputs": [
        {
          "output_type": "error",
          "ename": "NameError",
          "evalue": "name 'x' is not defined",
          "traceback": [
            "\u001b[0;31m---------------------------------------------------------------------------\u001b[0m",
            "\u001b[0;31mNameError\u001b[0m                                 Traceback (most recent call last)",
            "\u001b[0;32m<ipython-input-2-3a7a4bcd4387>\u001b[0m in \u001b[0;36m<cell line: 1>\u001b[0;34m()\u001b[0m\n\u001b[0;32m----> 1\u001b[0;31m \u001b[0my\u001b[0m\u001b[0;34m=\u001b[0m\u001b[0;36m4\u001b[0m\u001b[0;34m*\u001b[0m\u001b[0mx\u001b[0m\u001b[0;34m+\u001b[0m\u001b[0;36m10\u001b[0m\u001b[0;34m\u001b[0m\u001b[0;34m\u001b[0m\u001b[0m\n\u001b[0m",
            "\u001b[0;31mNameError\u001b[0m: name 'x' is not defined"
          ]
        }
      ]
    },
    {
      "cell_type": "markdown",
      "source": [
        "To solve this equation, we must know the value of 'x' before above this line. So, let us write x=3.75 which in programming language is called the assignment of a value to a variable."
      ],
      "metadata": {
        "id": "AZSSddr-MWE1"
      }
    },
    {
      "cell_type": "code",
      "source": [
        "x=3.75\n",
        "y=4*x+10"
      ],
      "metadata": {
        "id": "W9Nm7jpEMSdL"
      },
      "execution_count": null,
      "outputs": []
    },
    {
      "cell_type": "markdown",
      "source": [
        "The code is executing but it is not producing and output. Its similar that I ask a question and you process the answer but you do not tell. In this case the answer is stored in variable 'y'. We have to tell computer to display the answer. This is achieved by 'print' command."
      ],
      "metadata": {
        "id": "wJAohvXuNVpN"
      }
    },
    {
      "cell_type": "code",
      "source": [
        "print(y)"
      ],
      "metadata": {
        "colab": {
          "base_uri": "https://localhost:8080/"
        },
        "id": "UoAiPZTqM4tp",
        "outputId": "01fc6273-20e3-4d9b-8b68-6df810b6fdb9"
      },
      "execution_count": null,
      "outputs": [
        {
          "output_type": "stream",
          "name": "stdout",
          "text": [
            "25.0\n"
          ]
        }
      ]
    },
    {
      "cell_type": "markdown",
      "source": [
        "This is the plain answer. We will discuss later how to make it more readable and formatted. No let us change the value of 'x' to 4 and check the answer."
      ],
      "metadata": {
        "id": "7zXd-NdTONbS"
      }
    },
    {
      "cell_type": "code",
      "source": [
        "x=4\n",
        "y=4*x+10\n",
        "print(y)"
      ],
      "metadata": {
        "colab": {
          "base_uri": "https://localhost:8080/"
        },
        "id": "0lxYV09lOHP4",
        "outputId": "455819b3-ea6a-4d7f-c260-1b9afabf50ea"
      },
      "execution_count": null,
      "outputs": [
        {
          "output_type": "stream",
          "name": "stdout",
          "text": [
            "26\n"
          ]
        }
      ]
    },
    {
      "cell_type": "markdown",
      "source": [
        "See the difference between two, In first case its '25.0' a real number and in second case the answer is '26' and integer. The real numbers in coding languages are called 'float' number and integer as 'integer'. The are collectively called 'data-type'. So, in first case, the data-type of 'y' is 'float' in second case, the data-type is 'integer'. The python automatically assign the data-type to a variable according to its assigned value."
      ],
      "metadata": {
        "id": "ZOUxCUBEOukR"
      }
    },
    {
      "cell_type": "markdown",
      "source": [],
      "metadata": {
        "id": "rjzpjUoxUf4e"
      }
    },
    {
      "cell_type": "code",
      "source": [
        "print(type(y))"
      ],
      "metadata": {
        "id": "WoXQGAXZP9c_",
        "outputId": "7e6eb7a6-a8fc-4f4a-c885-05defb49dd1b",
        "colab": {
          "base_uri": "https://localhost:8080/"
        }
      },
      "execution_count": null,
      "outputs": [
        {
          "output_type": "stream",
          "name": "stdout",
          "text": [
            "<class 'float'>\n"
          ]
        }
      ]
    },
    {
      "cell_type": "markdown",
      "source": [
        "We can check the methods available in the 'float' class."
      ],
      "metadata": {
        "id": "SLnCodKH5s_q"
      }
    },
    {
      "cell_type": "code",
      "source": [
        "print(dir(float) )"
      ],
      "metadata": {
        "colab": {
          "base_uri": "https://localhost:8080/"
        },
        "id": "XsGpc1OH54Ch",
        "outputId": "85286a1d-6c6f-48df-dea1-931a074db9fa"
      },
      "execution_count": 4,
      "outputs": [
        {
          "output_type": "stream",
          "name": "stdout",
          "text": [
            "['__abs__', '__add__', '__bool__', '__ceil__', '__class__', '__delattr__', '__dir__', '__divmod__', '__doc__', '__eq__', '__float__', '__floor__', '__floordiv__', '__format__', '__ge__', '__getattribute__', '__getformat__', '__getnewargs__', '__gt__', '__hash__', '__init__', '__init_subclass__', '__int__', '__le__', '__lt__', '__mod__', '__mul__', '__ne__', '__neg__', '__new__', '__pos__', '__pow__', '__radd__', '__rdivmod__', '__reduce__', '__reduce_ex__', '__repr__', '__rfloordiv__', '__rmod__', '__rmul__', '__round__', '__rpow__', '__rsub__', '__rtruediv__', '__setattr__', '__setformat__', '__sizeof__', '__str__', '__sub__', '__subclasshook__', '__truediv__', '__trunc__', 'as_integer_ratio', 'conjugate', 'fromhex', 'hex', 'imag', 'is_integer', 'real']\n"
          ]
        }
      ]
    },
    {
      "cell_type": "markdown",
      "source": [
        "Most of these are special methods (starting with double underscore '__')."
      ],
      "metadata": {
        "id": "q2cdsK-J5_j2"
      }
    },
    {
      "cell_type": "markdown",
      "source": [
        "##Conditional Statements"
      ],
      "metadata": {
        "id": "V45EKgxDPq9j"
      }
    },
    {
      "cell_type": "markdown",
      "source": [
        "It is said that the rod is said to be cold if the temperature is less than 35 $^0$C and otherwise hot.\n",
        "Try to find the state of the rod at a distance of 6.5 m."
      ],
      "metadata": {
        "id": "1fVpvNIQQOqk"
      }
    },
    {
      "cell_type": "code",
      "source": [
        "x=6.5\n",
        "y=4*x+10\n",
        "if y<35:\n",
        "  print('Cold')\n",
        "else:\n",
        "  print('Hot')\n"
      ],
      "metadata": {
        "colab": {
          "base_uri": "https://localhost:8080/"
        },
        "id": "v1_ensX4QzRx",
        "outputId": "008c6e43-0415-4272-d6f4-8e4bf395bda3"
      },
      "execution_count": null,
      "outputs": [
        {
          "output_type": "stream",
          "name": "stdout",
          "text": [
            "Hot\n"
          ]
        }
      ]
    },
    {
      "cell_type": "markdown",
      "source": [
        "The general syntax for the conditional statement is:\n",
        "\n",
        "'''\n",
        "x=\n",
        "'''\n",
        "\n",
        "We can add another category of warm in case the temperature is between 30 $^0$C and 40 $^0$C."
      ],
      "metadata": {
        "id": "dJoD9OQcRUlG"
      }
    },
    {
      "cell_type": "code",
      "source": [
        "x=6.5\n",
        "y=4*x+10\n",
        "if y<35:\n",
        "  print('Cold')\n",
        "elif y<40:\n",
        "  print('Warm')\n",
        "else:\n",
        "  print('Hot')"
      ],
      "metadata": {
        "colab": {
          "base_uri": "https://localhost:8080/"
        },
        "id": "jRrrRW1ARQG2",
        "outputId": "8a684030-808d-444a-e6fd-9a6f9dba0d6c"
      },
      "execution_count": null,
      "outputs": [
        {
          "output_type": "stream",
          "name": "stdout",
          "text": [
            "Warm\n"
          ]
        }
      ]
    },
    {
      "cell_type": "markdown",
      "source": [
        "##Looping"
      ],
      "metadata": {
        "id": "twxsWrze2UqE"
      }
    },
    {
      "cell_type": "markdown",
      "source": [
        "Now, let us find the temperature distribution of the bar at an interval of 0.5 m. In this case we have to first populate the data points of the distance as:\n",
        "\n",
        "0, 0.5, 1.0, 1.5 ............ 9.0, 9.5, 10.0\n",
        "\n",
        "These need to be stored in a variable. Let us assume the variable name as lenght_coordinates. Pyhton has another data type of list which we can use to store all the coordinates in the valiable lenght_coordinates.\n",
        "\n",
        "This we will be doing in two steps. In first step, we shall learn how to generate these nubmers and then we shall store in the variable.\n",
        "\n",
        "We have a range function with minimum one arguement"
      ],
      "metadata": {
        "id": "KT9_QHMlSRwM"
      }
    },
    {
      "cell_type": "code",
      "source": [
        "x = range(11)\n",
        "for n in x:\n",
        "  print(n)"
      ],
      "metadata": {
        "id": "QBY2ME0fSNhv"
      },
      "execution_count": null,
      "outputs": []
    },
    {
      "cell_type": "markdown",
      "source": [
        "When two arguements are passed, the first is taken as start number and the second is taken as end number."
      ],
      "metadata": {
        "id": "Ni0kOk9dbkKJ"
      }
    },
    {
      "cell_type": "code",
      "source": [
        "x = range(11,1)\n",
        "for n in x:\n",
        "  print(n)"
      ],
      "metadata": {
        "id": "f3dIgasRbeza"
      },
      "execution_count": null,
      "outputs": []
    },
    {
      "cell_type": "code",
      "source": [
        "x = range(11,-1)\n",
        "for n in x:\n",
        "  print(n)"
      ],
      "metadata": {
        "id": "6911FxDMb0WA"
      },
      "execution_count": null,
      "outputs": []
    },
    {
      "cell_type": "code",
      "source": [
        "x = range(11,13)\n",
        "for n in x:\n",
        "  print(n)"
      ],
      "metadata": {
        "colab": {
          "base_uri": "https://localhost:8080/"
        },
        "id": "_xhj7XZMb4WC",
        "outputId": "cdcffcae-d738-4d83-a27a-0c19f73f7eac"
      },
      "execution_count": null,
      "outputs": [
        {
          "output_type": "stream",
          "name": "stdout",
          "text": [
            "11\n",
            "12\n"
          ]
        }
      ]
    },
    {
      "cell_type": "code",
      "source": [
        "x = range(0,21)\n",
        "for n in x:\n",
        "  print(n)"
      ],
      "metadata": {
        "id": "NSnZNqHHcCpM"
      },
      "execution_count": null,
      "outputs": []
    },
    {
      "cell_type": "code",
      "source": [
        "x = range(0,21)\n",
        "for n in x:\n",
        "  print(0.5*n)"
      ],
      "metadata": {
        "id": "o3-1XyNfcHD6"
      },
      "execution_count": null,
      "outputs": []
    },
    {
      "cell_type": "markdown",
      "source": [
        "This logic gives us the number on the screen but is not storing in the variable. For that"
      ],
      "metadata": {
        "id": "vp3kYtj6caSf"
      }
    },
    {
      "cell_type": "markdown",
      "source": [
        "##List"
      ],
      "metadata": {
        "id": "U8YfBXTS2f-o"
      }
    },
    {
      "cell_type": "markdown",
      "source": [
        "Lists are one of the most flexible and commonly used data structures in Python. Each item in a list can be of any data type (e.g., integers, strings, other lists), and lists can contain items of different data types within the same list. A list is an ordered, mutable (modifiable) collection of items."
      ],
      "metadata": {
        "id": "3kPaKJtP2-u6"
      }
    },
    {
      "cell_type": "code",
      "source": [
        "lenght_coordinates = [2, 4, 5.7, 'thermistor']\n",
        "print(type(lenght_coordinates))"
      ],
      "metadata": {
        "colab": {
          "base_uri": "https://localhost:8080/"
        },
        "id": "JKQsghkN41i-",
        "outputId": "ce6e733f-54d8-46e3-90fa-9f05b53ff73f"
      },
      "execution_count": 3,
      "outputs": [
        {
          "output_type": "stream",
          "name": "stdout",
          "text": [
            "<class 'list'>\n"
          ]
        }
      ]
    },
    {
      "cell_type": "markdown",
      "source": [
        "We can check the attributes and methods available in the 'list' class."
      ],
      "metadata": {
        "id": "TxUmtQ6S5UpA"
      }
    },
    {
      "cell_type": "code",
      "source": [
        "print(dir(lenght_coordinates))"
      ],
      "metadata": {
        "colab": {
          "base_uri": "https://localhost:8080/"
        },
        "id": "Pg9uByys5oBY",
        "outputId": "c22d8211-581f-4118-890f-cb2989f3cda4"
      },
      "execution_count": 5,
      "outputs": [
        {
          "output_type": "stream",
          "name": "stdout",
          "text": [
            "['__add__', '__class__', '__class_getitem__', '__contains__', '__delattr__', '__delitem__', '__dir__', '__doc__', '__eq__', '__format__', '__ge__', '__getattribute__', '__getitem__', '__gt__', '__hash__', '__iadd__', '__imul__', '__init__', '__init_subclass__', '__iter__', '__le__', '__len__', '__lt__', '__mul__', '__ne__', '__new__', '__reduce__', '__reduce_ex__', '__repr__', '__reversed__', '__rmul__', '__setattr__', '__setitem__', '__sizeof__', '__str__', '__subclasshook__', 'append', 'clear', 'copy', 'count', 'extend', 'index', 'insert', 'pop', 'remove', 'reverse', 'sort']\n"
          ]
        }
      ]
    },
    {
      "cell_type": "markdown",
      "source": [
        "We find that 'append', 'clear', 'copy', 'count', 'extend', 'index', 'insert', 'pop', 'remove', 'reverse', 'sort' are the various methods available for the 'lenght_coordinate' object of the 'list' class. You can use append method on the 'length_coordinates' to populate the desired coordinates."
      ],
      "metadata": {
        "id": "Qcvk7fbt65gM"
      }
    },
    {
      "cell_type": "code",
      "source": [
        "lenght_coordinates = []\n",
        "for i in range(21):\n",
        "    lenght_coordinates.append(i * 0.5)\n",
        "print(lenght_coordinates)"
      ],
      "metadata": {
        "colab": {
          "base_uri": "https://localhost:8080/"
        },
        "id": "zX38lcnAc4Mk",
        "outputId": "6851c84a-fa80-46c5-e678-779a9ba8521b"
      },
      "execution_count": 6,
      "outputs": [
        {
          "output_type": "stream",
          "name": "stdout",
          "text": [
            "[0.0, 0.5, 1.0, 1.5, 2.0, 2.5, 3.0, 3.5, 4.0, 4.5, 5.0, 5.5, 6.0, 6.5, 7.0, 7.5, 8.0, 8.5, 9.0, 9.5, 10.0]\n"
          ]
        }
      ]
    },
    {
      "cell_type": "markdown",
      "source": [
        "We can use list comprehension as below to get the desired result in one line"
      ],
      "metadata": {
        "id": "Zl3c9PIAcM1z"
      }
    },
    {
      "cell_type": "code",
      "source": [
        "lenght_coordinates = [x * 0.5 for x in range(21)]\n",
        "print(lenght_coordinates)"
      ],
      "metadata": {
        "colab": {
          "base_uri": "https://localhost:8080/"
        },
        "id": "1LxH1eJ3a9HG",
        "outputId": "138f0fb4-2136-4005-d34f-b8fd7d5c36d9"
      },
      "execution_count": null,
      "outputs": [
        {
          "output_type": "stream",
          "name": "stdout",
          "text": [
            "[0.0, 0.5, 1.0, 1.5, 2.0, 2.5, 3.0, 3.5, 4.0, 4.5, 5.0, 5.5, 6.0, 6.5, 7.0, 7.5, 8.0, 8.5, 9.0, 9.5, 10.0]\n"
          ]
        }
      ]
    },
    {
      "cell_type": "markdown",
      "source": [
        "##List Comprehension"
      ],
      "metadata": {
        "id": "qaHXc1dedVF_"
      }
    },
    {
      "cell_type": "markdown",
      "source": [
        "List comprehension is a concise way to create lists in Python. It allows you to generate a new list by applying an expression to each item in an existing sequence (like a range or another list), all within a single line of code.\n",
        "\n",
        "[expression for item in iterable if condition]\n"
      ],
      "metadata": {
        "id": "yOfl2Df2dYOG"
      }
    },
    {
      "cell_type": "code",
      "source": [
        "squares = [x * x for x in range(10)]\n",
        "print(squares)"
      ],
      "metadata": {
        "colab": {
          "base_uri": "https://localhost:8080/"
        },
        "id": "b7unbv2ZdXVg",
        "outputId": "ddd325a1-11b6-4b8e-a11d-62322c7a6f37"
      },
      "execution_count": null,
      "outputs": [
        {
          "output_type": "stream",
          "name": "stdout",
          "text": [
            "[0, 1, 4, 9, 16, 25, 36, 49, 64, 81]\n"
          ]
        }
      ]
    },
    {
      "cell_type": "code",
      "source": [
        "even_squares = [x * x for x in range(10) if x % 2 == 0]\n",
        "print(even_squares)"
      ],
      "metadata": {
        "colab": {
          "base_uri": "https://localhost:8080/"
        },
        "id": "AsiGrb-ldg4m",
        "outputId": "239d469d-9fcb-4deb-adf2-d857f85862e7"
      },
      "execution_count": null,
      "outputs": [
        {
          "output_type": "stream",
          "name": "stdout",
          "text": [
            "[0, 4, 16, 36, 64]\n"
          ]
        }
      ]
    },
    {
      "cell_type": "code",
      "source": [],
      "metadata": {
        "id": "bMRg6ApYdkp7"
      },
      "execution_count": null,
      "outputs": []
    }
  ]
}
{
  "nbformat": 4,
  "nbformat_minor": 0,
  "metadata": {
    "colab": {
      "provenance": [],
      "authorship_tag": "ABX9TyMpW6L/3HVRHlEWxAW66EpX",
      "include_colab_link": true
    },
    "kernelspec": {
      "name": "python3",
      "display_name": "Python 3"
    },
    "language_info": {
      "name": "python"
    }
  },
  "cells": [
    {
      "cell_type": "markdown",
      "metadata": {
        "id": "view-in-github",
        "colab_type": "text"
      },
      "source": [
        "<a href=\"https://colab.research.google.com/github/vkjadon/python/blob/main/pythonIntro.ipynb\" target=\"_parent\"><img src=\"https://colab.research.google.com/assets/colab-badge.svg\" alt=\"Open In Colab\"/></a>"
      ]
    },
    {
      "cell_type": "markdown",
      "source": [
        "# Mathematical Model"
      ],
      "metadata": {
        "id": "OQtFPz4ijAT4"
      }
    },
    {
      "cell_type": "markdown",
      "source": [
        "Consider a bar of 10m long having uniform cross-section. The temperature of one end of the bar is kept at 10 $^0$C and the other end is 50 $^0$C. Find the temperature of the bar at a distance of 3.75 m from the colder end.\n"
      ],
      "metadata": {
        "id": "xi5Rm5sWlLWR"
      }
    },
    {
      "cell_type": "code",
      "source": [],
      "metadata": {
        "id": "uD2BHCAO3D6j"
      },
      "execution_count": null,
      "outputs": []
    }
  ]
}
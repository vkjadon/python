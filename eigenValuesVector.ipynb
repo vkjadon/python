{
  "nbformat": 4,
  "nbformat_minor": 0,
  "metadata": {
    "colab": {
      "provenance": [],
      "authorship_tag": "ABX9TyNkVzLcBAkv2IrHYJnQiw/R",
      "include_colab_link": true
    },
    "kernelspec": {
      "name": "python3",
      "display_name": "Python 3"
    },
    "language_info": {
      "name": "python"
    }
  },
  "cells": [
    {
      "cell_type": "markdown",
      "metadata": {
        "id": "view-in-github",
        "colab_type": "text"
      },
      "source": [
        "<a href=\"https://colab.research.google.com/github/vkjadon/python/blob/main/eigenValuesVector.ipynb\" target=\"_parent\"><img src=\"https://colab.research.google.com/assets/colab-badge.svg\" alt=\"Open In Colab\"/></a>"
      ]
    },
    {
      "cell_type": "markdown",
      "source": [
        "#Eigen Values and Vectors"
      ],
      "metadata": {
        "id": "Z9Grr_WiBI8H"
      }
    },
    {
      "cell_type": "markdown",
      "source": [
        "Eigenvalues are like the \"natural\" settings of a system, telling you the frequencies, energies, or other quantities that are intrinsic to the system. Whereas, the eigenvectors are like the \"directions\" or \"shapes\" that correspond to these natural settings, showing how the system behaves or vibrates."
      ],
      "metadata": {
        "id": "jtzQD-3O8Mps"
      }
    },
    {
      "cell_type": "markdown",
      "source": [
        "A=[\n",
        "4\n",
        "1\n",
        "​\n",
        "  \n",
        "−2\n",
        "1\n",
        "​\n",
        " ]\n",
        " ### Calculate the Eigenvalues\n",
        " , the eigenvalues are:\n",
        "\n",
        "𝜆1=2, 𝜆2=3,\n",
        "\n",
        "Eigenvalue 𝜆1=2 corresponds to eigenvector [1 1]\n",
        "Eigenvalue 𝜆2=3 corresponds to eigenvector [2 1]\n",
        "\n"
      ],
      "metadata": {
        "id": "1RlCxcoVEvvh"
      }
    },
    {
      "cell_type": "markdown",
      "source": [
        "hysical Significance\n",
        "Eigenvalues:\n",
        "\n",
        "𝜆1 = 2 and 𝜆2 = 3 represent scaling factors along the directions defined by their respective eigenvectors.\n",
        "In a physical system, these could represent natural frequencies in a vibrational system or growth/decay rates in a dynamic system.\n",
        "If the eigenvalues increase: The system's response becomes faster or more intense. For example, in a mechanical system, higher eigenvalues could mean higher frequencies of vibration, leading to quicker oscillations.\n",
        "If the eigenvalues decrease: The system's response slows down. Lower eigenvalues could correspond to lower frequencies or slower dynamics.\n",
        "Eigenvectors:\n",
        "\n",
        "The eigenvectors [1 1] and describe the directions in which these effects occur.\n",
        "If the eigenvalues increase or decrease: The direction (eigenvector) itself doesn’t change, but the magnitude of the effect along that direction (as described by the eigenvalue) does."
      ],
      "metadata": {
        "id": "3Eoy3doRFstV"
      }
    },
    {
      "cell_type": "markdown",
      "source": [
        "Practical Example Interpretation:\n",
        "Imagine a simple mechanical system where\n",
        "𝐴\n",
        "A represents the transformation matrix of forces or displacements:\n",
        "\n",
        "Eigenvalue 2 with eigenvector\n",
        "[\n",
        "1\n",
        "1\n",
        "]\n",
        "[\n",
        "1\n",
        "1\n",
        "​\n",
        " ] could represent a mode where both components of the system move equally in the same direction but with a lower frequency (or slower response).\n",
        "Eigenvalue 3 with eigenvector\n",
        "[\n",
        "2\n",
        "1\n",
        "]\n",
        "[\n",
        "2\n",
        "1\n",
        "​\n",
        " ] could represent a mode where one component moves twice as much as the other but with a higher frequency (or faster response).\n",
        "Changes in these eigenvalues would directly affect the stability and dynamics of the system."
      ],
      "metadata": {
        "id": "m-e_433uGEk5"
      }
    },
    {
      "cell_type": "markdown",
      "source": [
        "##Vibrating String"
      ],
      "metadata": {
        "id": "nfHd4lbWBbX0"
      }
    },
    {
      "cell_type": "markdown",
      "source": [
        "Vibrating String (e.g., Guitar String)\n",
        "Physical Setup: Imagine a guitar string fixed at both ends. When you pluck the string, it vibrates.\n",
        "Eigenvalues: The eigenvalues correspond to the square of the natural frequencies of the string’s vibration. These frequencies are the specific pitches that the string produces.\n",
        "Eigenvectors: The eigenvectors represent the mode shapes or patterns of vibration. For a guitar string, the simplest mode shape is when the string moves up and down in a single arc (fundamental frequency). More complex shapes (higher modes) have the string forming more loops, but these shapes still correspond to specific pitches.\n",
        "\n",
        "Vibrating String: Eigenvalues are the natural frequencies; eigenvectors are the mode shapes of the string."
      ],
      "metadata": {
        "id": "5xOk2YXG8TU7"
      }
    },
    {
      "cell_type": "markdown",
      "source": [
        "Rotating Disc (Principal Axes)\n",
        "Physical Setup: Consider a flat, thin disc that you spin. If you spin it about its center, it rotates smoothly. But if you try to spin it about an axis that isn't aligned with one of the disc's principal axes, it wobbles.\n",
        "Eigenvalues: The eigenvalues are related to the moments of inertia about the principal axes of the disc. These describe how resistant the disc is to rotational motion about each axis.\n",
        "Eigenvectors: The eigenvectors are the directions of the principal axes. They tell you the directions in which the disc can spin without wobbling.\n",
        "\n",
        "Rotating Disc: Eigenvalues are the moments of inertia; eigenvectors are the principal axes of rotation."
      ],
      "metadata": {
        "id": "VfzkhL-H8VY-"
      }
    },
    {
      "cell_type": "markdown",
      "source": [
        "Spring-Mass System\n",
        "Physical Setup: Imagine a mass hanging from a spring. If you pull the mass down and let it go, it oscillates up and down.\n",
        "Eigenvalues: The eigenvalue in this case corresponds to the square of the natural frequency of the mass-spring system. This frequency is how fast the mass oscillates.\n",
        "Eigenvectors: For this simple system, the eigenvector is just the direction of motion—straight up and down. In more complex systems with multiple masses, the eigenvectors describe the relative motion of each mass.\n",
        "\n",
        "Spring-Mass System: Eigenvalues are the natural frequencies; eigenvectors describe the relative motion of masses."
      ],
      "metadata": {
        "id": "SLOr2Lz68c1u"
      }
    },
    {
      "cell_type": "code",
      "source": [
        "import numpy as np\n",
        "\n",
        "# Mass matrix M (assume unit masses)\n",
        "M = np.array([[2, 0],\n",
        "              [0, 1]])\n",
        "\n",
        "# Stiffness matrix K (spring constants)\n",
        "K = np.array([[5, -2],\n",
        "              [-2, 3]])\n",
        "\n",
        "# Solve the eigenvalue problem (K - ω^2*M) = 0\n",
        "eigvals, eigvecs = np.linalg.eig(np.linalg.inv(M).dot(K))\n",
        "\n",
        "# Natural frequencies (square roots of eigenvalues)\n",
        "frequencies = np.sqrt(eigvals)\n",
        "\n",
        "print(\"Natural Frequencies (rad/s):\", frequencies)\n",
        "print(\"Mode Shapes (Eigenvectors):\\n\", eigvecs)"
      ],
      "metadata": {
        "colab": {
          "base_uri": "https://localhost:8080/"
        },
        "id": "ZzjHi8yl-N49",
        "outputId": "402ee697-a08c-44de-c3f9-05a41380e5a8"
      },
      "execution_count": null,
      "outputs": [
        {
          "output_type": "stream",
          "name": "stdout",
          "text": [
            "Natural Frequencies (rad/s): [1.14623703 2.04600603]\n",
            "Mode Shapes (Eigenvectors):\n",
            " [[-0.64456735  0.51010647]\n",
            " [-0.76454754 -0.86011126]]\n"
          ]
        }
      ]
    },
    {
      "cell_type": "markdown",
      "source": [
        "Room Acoustics\n",
        "Physical Setup: Consider a room where sound is bouncing off the walls. Certain frequencies of sound will resonate in the room, creating standing waves.\n",
        "Eigenvalues: These are the resonant frequencies at which the room naturally amplifies sound. They correspond to the frequencies at which the standing waves form.\n",
        "Eigenvectors: The eigenvectors describe the shape of these standing waves—how the air molecules in the room move at each resonant frequency. For example, some parts of the room might have a lot of movement (antinodes), while others have none (nodes).\n",
        "\n",
        "\n",
        "Room Acoustics: Eigenvalues are the resonant frequencies; eigenvectors describe the standing wave patterns."
      ],
      "metadata": {
        "id": "3donbr7H8g8B"
      }
    },
    {
      "cell_type": "markdown",
      "source": [
        "Pendulum\n",
        "Physical Setup: Think of a simple pendulum—a weight on a string. If you pull it to the side and release it, it swings back and forth.\n",
        "Eigenvalues: The eigenvalue corresponds to the square of the natural frequency of the pendulum's oscillation, which depends on the length of the string and gravity.\n",
        "Eigenvectors: In this simple case, the eigenvector is just the direction of the pendulum's motion—back and forth along the arc.\n",
        "\n",
        "\n",
        "Pendulum: Eigenvalue is the natural frequency; eigenvector is the direction of oscillation."
      ],
      "metadata": {
        "id": "xFpd7JQw8lWi"
      }
    },
    {
      "cell_type": "markdown",
      "source": [
        "Power Systems Stability Analysis\n",
        "In electrical engineering, eigenvalues and eigenvectors are used to assess the stability of power systems. The eigenvalues of the system's Jacobian matrix indicate how the system responds to disturbances.\n",
        "\n",
        "Example:\n",
        "Consider a simple two-bus power system where the eigenvalues of the Jacobian matrix are analyzed to determine stability."
      ],
      "metadata": {
        "id": "BtRO8ZOm-Sqb"
      }
    },
    {
      "cell_type": "code",
      "source": [
        "import numpy as np\n",
        "\n",
        "# Jacobian matrix J for a power system\n",
        "J = np.array([[0.4, -0.2],\n",
        "              [-0.2, 0.3]])\n",
        "\n",
        "# Calculate eigenvalues and eigenvectors\n",
        "eigvals, eigvecs = np.linalg.eig(J)\n",
        "\n",
        "print(\"Eigenvalues (Stability Indicators):\", eigvals)\n",
        "print(\"Eigenvectors:\\n\", eigvecs)\n"
      ],
      "metadata": {
        "colab": {
          "base_uri": "https://localhost:8080/"
        },
        "id": "hrUnCE4A98sq",
        "outputId": "50b792d3-d449-4533-d351-30432d5e346e"
      },
      "execution_count": null,
      "outputs": [
        {
          "output_type": "stream",
          "name": "stdout",
          "text": [
            "Eigenvalues (Stability Indicators): [0.55615528 0.14384472]\n",
            "Eigenvectors:\n",
            " [[ 0.78820544  0.61541221]\n",
            " [-0.61541221  0.78820544]]\n"
          ]
        }
      ]
    },
    {
      "cell_type": "markdown",
      "source": [
        "Principal Component Analysis (PCA) in Data Compression\n",
        "In signal processing and data analysis, PCA is used to reduce the dimensionality of data. The eigenvectors of the covariance matrix represent the directions of maximum variance, and the eigenvalues indicate the amount of variance in each direction.\n",
        "\n",
        "Example:\n",
        "Consider a dataset where PCA is applied to find the principal components."
      ],
      "metadata": {
        "id": "ZvCASR7v-asH"
      }
    },
    {
      "cell_type": "code",
      "source": [
        "import numpy as np\n",
        "\n",
        "# Sample 2D dataset\n",
        "data = np.array([[2.5, 2.4],\n",
        "                 [0.5, 0.7],\n",
        "                 [2.2, 2.9],\n",
        "                 [1.9, 2.2],\n",
        "                 [3.1, 3.0],\n",
        "                 [2.3, 2.7],\n",
        "                 [2.0, 1.6],\n",
        "                 [1.0, 1.1],\n",
        "                 [1.5, 1.6],\n",
        "                 [1.1, 0.9]])\n",
        "\n",
        "# Subtract the mean\n",
        "mean = np.mean(data, axis=0)\n",
        "data_centered = data - mean\n",
        "\n",
        "# Calculate the covariance matrix\n",
        "cov_matrix = np.cov(data_centered, rowvar=False)\n",
        "\n",
        "# Find the eigenvalues and eigenvectors\n",
        "eigvals, eigvecs = np.linalg.eig(cov_matrix)\n",
        "\n",
        "# Principal components (eigenvectors)\n",
        "print(\"Principal Components:\\n\", eigvecs)\n",
        "\n",
        "# Variance explained (eigenvalues)\n",
        "print(\"Variance Explained (Eigenvalues):\", eigvals)\n"
      ],
      "metadata": {
        "id": "uLO2qh-c-Vbk"
      },
      "execution_count": null,
      "outputs": []
    },
    {
      "cell_type": "markdown",
      "source": [
        "Structural Engineering: Buckling Analysis\n",
        "In structural engineering, eigenvalue analysis is used to determine the buckling load of columns. The critical load at which a structure will buckle corresponds to the eigenvalue of the system.\n",
        "\n",
        "Example:\n",
        "Consider a column under compression. The eigenvalue problem helps determine the critical buckling load."
      ],
      "metadata": {
        "id": "9zih4O67-e3T"
      }
    },
    {
      "cell_type": "code",
      "source": [
        "import numpy as np\n",
        "\n",
        "# Assume a simplified column with stiffness matrix K and load P\n",
        "K = np.array([[12, -6],\n",
        "              [-6, 4]])\n",
        "\n",
        "# The buckling load factor P (scaling factor)\n",
        "P = np.array([[1, 0],\n",
        "              [0, 0.5]])\n",
        "\n",
        "# Solve the eigenvalue problem (K - P*λ) = 0\n",
        "eigvals, eigvecs = np.linalg.eig(np.linalg.inv(P).dot(K))\n",
        "\n",
        "# Critical buckling loads (eigenvalues)\n",
        "print(\"Critical Buckling Loads:\", eigvals)\n",
        "print(\"Buckling Mode Shapes (Eigenvectors):\\n\", eigvecs)\n"
      ],
      "metadata": {
        "colab": {
          "base_uri": "https://localhost:8080/"
        },
        "id": "ChI1milc-hYk",
        "outputId": "1e92111c-2a27-4827-b858-546fdeac9530"
      },
      "execution_count": null,
      "outputs": [
        {
          "output_type": "stream",
          "name": "stdout",
          "text": [
            "Critical Buckling Loads: [18.71779789  1.28220211]\n",
            "Buckling Mode Shapes (Eigenvectors):\n",
            " [[ 0.66613722  0.48848147]\n",
            " [-0.7458292   0.87257427]]\n"
          ]
        }
      ]
    },
    {
      "cell_type": "markdown",
      "source": [
        "Control Systems: Stability of Dynamic Systems\n",
        "In control engineering, eigenvalues of the system's state matrix determine the stability of dynamic systems. If all eigenvalues have negative real parts, the system is stable.\n",
        "\n",
        "Example:\n",
        "Consider a state-space representation of a control system where the state matrix is analyzed for stability."
      ],
      "metadata": {
        "id": "LPLKkvAW-n20"
      }
    },
    {
      "cell_type": "code",
      "source": [
        "import numpy as np\n",
        "\n",
        "# State matrix A for a control system\n",
        "A = np.array([[0, 1],\n",
        "              [-2, -3]])\n",
        "\n",
        "# Calculate eigenvalues and eigenvectors\n",
        "eigvals, eigvecs = np.linalg.eig(A)\n",
        "\n",
        "print(\"Eigenvalues (Stability Analysis):\", eigvals)\n",
        "print(\"Eigenvectors (Modes of System):\\n\", eigvecs)\n",
        "\n",
        "# Check if the system is stable\n",
        "is_stable = np.all(np.real(eigvals) < 0)\n",
        "print(\"Is the system stable?\", is_stable)\n"
      ],
      "metadata": {
        "colab": {
          "base_uri": "https://localhost:8080/"
        },
        "id": "t97x7ZpH-jfy",
        "outputId": "dc833f70-2df6-4340-b12a-21ebcc8d7c45"
      },
      "execution_count": null,
      "outputs": [
        {
          "output_type": "stream",
          "name": "stdout",
          "text": [
            "Eigenvalues (Stability Analysis): [-1. -2.]\n",
            "Eigenvectors (Modes of System):\n",
            " [[ 0.70710678 -0.4472136 ]\n",
            " [-0.70710678  0.89442719]]\n",
            "Is the system stable? True\n"
          ]
        }
      ]
    },
    {
      "cell_type": "markdown",
      "source": [
        "Modal Analysis in Aerospace Engineering\n",
        "In aerospace engineering, modal analysis uses eigenvalues and eigenvectors to study the dynamic behavior of aircraft structures under different loading conditions.\n",
        "\n",
        "Example:\n",
        "Consider an aircraft wing modeled as a beam. The natural frequencies (eigenvalues) and mode shapes (eigenvectors) can be analyzed."
      ],
      "metadata": {
        "id": "-2_inIre-teG"
      }
    },
    {
      "cell_type": "code",
      "source": [
        "import numpy as np\n",
        "\n",
        "# Simplified stiffness matrix for a wing model\n",
        "K = np.array([[3, -1, 0],\n",
        "              [-1, 4, -1],\n",
        "              [0, -1, 2]])\n",
        "\n",
        "# Mass matrix (assuming unit masses)\n",
        "M = np.identity(3)\n",
        "\n",
        "# Solve the eigenvalue problem for dynamic analysis\n",
        "eigvals, eigvecs = np.linalg.eig(np.linalg.inv(M).dot(K))\n",
        "\n",
        "# Natural frequencies (eigenvalues)\n",
        "frequencies = np.sqrt(eigvals)\n",
        "\n",
        "print(\"Natural Frequencies (Hz):\", frequencies)\n",
        "print(\"Mode Shapes (Eigenvectors):\\n\", eigvecs)\n"
      ],
      "metadata": {
        "colab": {
          "base_uri": "https://localhost:8080/"
        },
        "id": "ZpDA0j7m-qVa",
        "outputId": "3412b73c-10c3-45da-ae83-d52267dd4a61"
      },
      "execution_count": null,
      "outputs": [
        {
          "output_type": "stream",
          "name": "stdout",
          "text": [
            "Natural Frequencies (Hz): [2.20893306 1.62871227 1.21157382]\n",
            "Mode Shapes (Eigenvectors):\n",
            " [[-0.44909879 -0.84402963  0.29312841]\n",
            " [ 0.84402963 -0.29312841  0.44909879]\n",
            " [-0.29312841  0.44909879  0.84402963]]\n"
          ]
        }
      ]
    },
    {
      "cell_type": "code",
      "source": [],
      "metadata": {
        "id": "6y9Iloa5-wlP"
      },
      "execution_count": null,
      "outputs": []
    },
    {
      "cell_type": "markdown",
      "source": [
        "##Transformation"
      ],
      "metadata": {
        "id": "iBzTR6MyCvRc"
      }
    },
    {
      "cell_type": "markdown",
      "source": [
        "Rotate a point (x, y) around the origin by a given angle 𝜃."
      ],
      "metadata": {
        "id": "eM6TApy7C04U"
      }
    },
    {
      "cell_type": "code",
      "source": [
        "import numpy as np\n",
        "\n",
        "# Define the rotation matrix for a given angle theta\n",
        "theta = np.radians(45)  # converting degrees to radians\n",
        "rotation_matrix = np.array([\n",
        "    [np.cos(theta), -np.sin(theta)],\n",
        "    [np.sin(theta), np.cos(theta)]\n",
        "])\n",
        "\n",
        "# Define the point to be rotated\n",
        "point = np.array([1, 0])\n",
        "\n",
        "# Perform the rotation\n",
        "rotated_point = np.dot(rotation_matrix, point)\n",
        "\n",
        "print(\"Original point:\", point)\n",
        "print(\"Rotated point by 45 degrees:\", rotated_point)\n"
      ],
      "metadata": {
        "colab": {
          "base_uri": "https://localhost:8080/"
        },
        "id": "45eoku6nCxbR",
        "outputId": "60d5ecc4-bbbe-4584-92c5-ec33c259e126"
      },
      "execution_count": 1,
      "outputs": [
        {
          "output_type": "stream",
          "name": "stdout",
          "text": [
            "Original point: [1 0]\n",
            "Rotated point by 45 degrees: [0.70710678 0.70710678]\n"
          ]
        }
      ]
    },
    {
      "cell_type": "code",
      "source": [],
      "metadata": {
        "id": "mEDrLbf5C6fL"
      },
      "execution_count": null,
      "outputs": []
    }
  ]
}
{
  "cells": [
    {
      "cell_type": "markdown",
      "metadata": {
        "id": "view-in-github",
        "colab_type": "text"
      },
      "source": [
        "<a href=\"https://colab.research.google.com/github/vkjadon/python/blob/main/03NumPyForDeepLearning.ipynb\" target=\"_parent\"><img src=\"https://colab.research.google.com/assets/colab-badge.svg\" alt=\"Open In Colab\"/></a>"
      ]
    },
    {
      "cell_type": "markdown",
      "source": [
        "#NumPy for Deep Learning"
      ],
      "metadata": {
        "id": "YP3mN3XD7fRv"
      }
    },
    {
      "cell_type": "markdown",
      "source": [
        "Welcome to the session on \"Python for Deep Learning\". Deep Learning delas with huge data and NumPy is a very powerful and popular Python library. We will discuss various capabilities of NumPy in this session using the Google Colaboratory online resource for writting the Python Code.\n",
        "Lets get started!"
      ],
      "metadata": {
        "id": "kIslAF3U7lJ7"
      }
    },
    {
      "cell_type": "markdown",
      "source": [
        "# Matrix Fundamentals"
      ],
      "metadata": {
        "id": "8n2waimFN5EX"
      }
    },
    {
      "cell_type": "markdown",
      "source": [
        "**NumPy stands for “Numerical Python”.**\n",
        "\n",
        "This python library is suited for efficient array oriented computing.\n",
        "\n",
        "The “numpy array” uses less memory and execution time than python list.\n",
        "\n",
        "The internal type of numpy array is “ndarray”.\n",
        "\n",
        "Consider an array $A_{m,n}$\n",
        "\n",
        "$A_{m,n} =\\begin{pmatrix}\n",
        "  a_{1,1} & a_{1,2} & \\cdots & a_{1,n} \\\\\n",
        "  a_{2,1} & a_{2,2} & \\cdots & a_{2,n} \\\\\n",
        "  \\vdots  & \\vdots  & \\ddots & \\vdots  \\\\\n",
        "  a_{m,1} & a_{m,2} & \\cdots & a_{m,n}\n",
        " \\end{pmatrix}$\n",
        "\n",
        "- The shape of this matrix is $m \\times n$\n",
        "\n",
        "- If we use $i, j$ as the indices to indicate an array element; then, for coding purposes $i$ will take $0$ to $m-1$ and $j$ will take $0$ to $n-1$."
      ],
      "metadata": {
        "id": "95VlFCjYLb_C"
      }
    },
    {
      "cell_type": "markdown",
      "source": [
        "## Initiliazing an Array"
      ],
      "metadata": {
        "id": "uEj8B8cY_hci"
      }
    },
    {
      "cell_type": "markdown",
      "source": [
        "To initialize an array, we start by importing the NumPy library using `import numpy as np`"
      ],
      "metadata": {
        "id": "ZvEZxD4LYwEf"
      }
    },
    {
      "cell_type": "code",
      "execution_count": 1,
      "metadata": {
        "id": "BAnycimeqKwK"
      },
      "outputs": [],
      "source": [
        "# Import the NumPy library\n",
        "import numpy as np"
      ]
    },
    {
      "cell_type": "markdown",
      "source": [
        "An array can be multi dimensional. We will start with 1D array. `np.array()` function is used to declare a numpy array. We can pass *List* or *Tuple* as an arguement to the `np.array()` function."
      ],
      "metadata": {
        "id": "1SC34KAkNCxO"
      }
    },
    {
      "cell_type": "markdown",
      "source": [
        "We can use `ndim` and `shape` methods on an array object to find the dimension and the shape of the numpy array.`shape` returns a tuple representing the size or exact number of elements of the array along each dimension. `ndim` return an integer representing the number of dimensions (axes) of the numpy array object."
      ],
      "metadata": {
        "id": "WqCJ_0vxbZ11"
      }
    },
    {
      "cell_type": "markdown",
      "source": [
        "**1D Array**"
      ],
      "metadata": {
        "id": "L6f8fOL2e0ym"
      }
    },
    {
      "cell_type": "markdown",
      "source": [
        "We can use a tuple or list for creating a numpy array. Let us first pass a tuple of (1,2,3) and print the array, dimension and the shape"
      ],
      "metadata": {
        "id": "jRyop2GSbOMQ"
      }
    },
    {
      "cell_type": "code",
      "source": [
        "array = np.array((1,2,3))\n",
        "print(\"Array = \\n\", array, \"\\n Dimension = \", array.ndim, \"\\n Shape of the Array = \", array.shape)"
      ],
      "metadata": {
        "id": "PQBmYm-1ND_i",
        "colab": {
          "base_uri": "https://localhost:8080/"
        },
        "outputId": "1cc55932-454c-4b32-eb07-e73b00b19f65"
      },
      "execution_count": 2,
      "outputs": [
        {
          "output_type": "stream",
          "name": "stdout",
          "text": [
            "Array = \n",
            " [1 2 3] \n",
            " Dimension =  1 \n",
            " Shape of the Array =  (3,)\n"
          ]
        }
      ]
    },
    {
      "cell_type": "markdown",
      "source": [
        "Now, let us pass a list of [1,2,3] and print the array, dimension and the shape"
      ],
      "metadata": {
        "id": "XAVQP4H5bcaW"
      }
    },
    {
      "cell_type": "code",
      "source": [
        "array = np.array([1,2,3])\n",
        "print(\"Array = \\n\", array, \"\\n Dimension = \", array.ndim, \"\\n Shape of the Array = \", array.shape)"
      ],
      "metadata": {
        "colab": {
          "base_uri": "https://localhost:8080/"
        },
        "id": "amXBY-tObICK",
        "outputId": "bf5d61b4-19fe-461b-f69f-efd374bab69b"
      },
      "execution_count": 3,
      "outputs": [
        {
          "output_type": "stream",
          "name": "stdout",
          "text": [
            "Array = \n",
            " [1 2 3] \n",
            " Dimension =  1 \n",
            " Shape of the Array =  (3,)\n"
          ]
        }
      ]
    },
    {
      "cell_type": "markdown",
      "source": [
        "Both these methods create a 1-dimensional NumPy array with shape (3,), containing three elements [1, 2, 3]. We can also see some other attributes such as type, size and dtype."
      ],
      "metadata": {
        "id": "Z_MptuPgaBwT"
      }
    },
    {
      "cell_type": "code",
      "source": [
        "print(\"Type of 1D Array array \", type(array))\n",
        "print('Size of 1D Array array', array.size)\n",
        "print(\"Type of data of elements of 1D Array array \", array.dtype)"
      ],
      "metadata": {
        "id": "JG1UgLdkaUxI",
        "colab": {
          "base_uri": "https://localhost:8080/"
        },
        "outputId": "8c79b7b5-5e34-4914-8b36-65e5a6c38861"
      },
      "execution_count": null,
      "outputs": [
        {
          "output_type": "stream",
          "name": "stdout",
          "text": [
            "Type of 1D Array array  <class 'numpy.ndarray'>\n",
            "Size of 1D Array array 3\n",
            "Type of data of elements of 1D Array array  int64\n"
          ]
        }
      ]
    },
    {
      "cell_type": "markdown",
      "source": [
        "##List and Tuple"
      ],
      "metadata": {
        "id": "BZk0DhKDgVv2"
      }
    },
    {
      "cell_type": "markdown",
      "source": [
        "The common difference between Tuple and the List is that the tuple are immutable and the List is mutable.\n",
        "\n",
        "Common mutable types in Python include:\n",
        "> Lists  \n",
        "> Dictionaries  \n",
        "> Sets"
      ],
      "metadata": {
        "id": "NlfoBaacgcsc"
      }
    },
    {
      "cell_type": "code",
      "source": [
        "my_list = [1, 2, 3]\n",
        "another_list = my_list  # Both point to the same object\n",
        "another_list.append(4)\n",
        "\n",
        "my_list[1]=5\n",
        "another_list[3]=6\n",
        "print(f\"Original List {my_list} , New List {another_list}\")"
      ],
      "metadata": {
        "id": "EMq8xyUtgULe",
        "outputId": "75d8818e-91c8-4d47-aa9d-de4e8de8e7ef",
        "colab": {
          "base_uri": "https://localhost:8080/"
        }
      },
      "execution_count": 6,
      "outputs": [
        {
          "output_type": "stream",
          "name": "stdout",
          "text": [
            "Original List [1, 5, 3, 6] , New List [1, 5, 3, 6]\n"
          ]
        }
      ]
    },
    {
      "cell_type": "markdown",
      "source": [
        "Note that any change in any of the list affects both the lists. This is called the shallow copy where both lists refer to same object. These can also be created by using `copy` method or `list()` constructor. `list()` is a constructor function that creates and returns a new list object."
      ],
      "metadata": {
        "id": "z2frKYSGjhtx"
      }
    },
    {
      "cell_type": "code",
      "source": [
        "another_list=list(my_list)\n",
        "another_list.append(7)\n",
        "another_list[3]=20\n",
        "print(f\"Original List {my_list} , New List {another_list}\")"
      ],
      "metadata": {
        "id": "CnlvU8qkiiWZ",
        "outputId": "c33c8d6c-9b39-4351-9a7a-f4cf4bd3dabb",
        "colab": {
          "base_uri": "https://localhost:8080/"
        }
      },
      "execution_count": 8,
      "outputs": [
        {
          "output_type": "stream",
          "name": "stdout",
          "text": [
            "Original List [1, 5, 3, 6] , New List [1, 5, 3, 20, 7]\n"
          ]
        }
      ]
    },
    {
      "cell_type": "code",
      "source": [
        "original_list = [1, 2, 3, 4]\n",
        "copy_list = list(original_list)\n",
        "\n",
        "copy_list[0] = 99\n",
        "\n",
        "print(\"Original List:\", original_list)\n",
        "print(\"Copy List:\", copy_list)"
      ],
      "metadata": {
        "id": "z529KwSxoLx7",
        "outputId": "c663f7fe-ac5c-4ec7-f32f-7600e0af24ad",
        "colab": {
          "base_uri": "https://localhost:8080/"
        }
      },
      "execution_count": 11,
      "outputs": [
        {
          "output_type": "stream",
          "name": "stdout",
          "text": [
            "Original List: [1, 2, 3, 4]\n",
            "Copy List: [99, 2, 3, 4]\n"
          ]
        }
      ]
    },
    {
      "cell_type": "code",
      "source": [
        "original_list = [1, 2, [3, 4]]\n",
        "copy_list = list(original_list)\n",
        "\n",
        "copy_list[2][0] = 99\n",
        "copy_list[0] = 9\n",
        "\n",
        "print(\"Original List:\", original_list)\n",
        "print(\"Copy List:\", copy_list)"
      ],
      "metadata": {
        "id": "6GMGR1fboiF4",
        "outputId": "4f8b9b85-bb2d-4245-f486-73e0941289fd",
        "colab": {
          "base_uri": "https://localhost:8080/"
        }
      },
      "execution_count": 14,
      "outputs": [
        {
          "output_type": "stream",
          "name": "stdout",
          "text": [
            "Original List: [1, 2, [99, 4]]\n",
            "Copy List: [9, 2, [99, 4]]\n"
          ]
        }
      ]
    },
    {
      "cell_type": "markdown",
      "source": [
        "The list() constructor creates a shallow copy of the list in which main list is not affected but nested list is affected in both original list and the copy of the list.\n",
        "Alternatively, we can use `copy` module. `deepcopy` method of the copy module does the tric to make all the nested list a different object."
      ],
      "metadata": {
        "id": "8HcV0wYro8qI"
      }
    },
    {
      "cell_type": "code",
      "source": [
        "import copy\n",
        "original_list = [1, 2, [3, 4]]\n",
        "copy_list = copy.deepcopy(original_list)\n",
        "\n",
        "copy_list[2][0] = 99\n",
        "copy_list[0] = 9\n",
        "\n",
        "print(\"Original List:\", original_list)\n",
        "print(\"Copy List:\", copy_list)"
      ],
      "metadata": {
        "id": "fLzztLZnp1uq",
        "outputId": "3495ac72-0f69-43a6-9cb6-ff56a15f1fdb",
        "colab": {
          "base_uri": "https://localhost:8080/"
        }
      },
      "execution_count": 15,
      "outputs": [
        {
          "output_type": "stream",
          "name": "stdout",
          "text": [
            "Original List: [1, 2, [3, 4]]\n",
            "Copy List: [9, 2, [99, 4]]\n"
          ]
        }
      ]
    },
    {
      "cell_type": "markdown",
      "source": [
        "**2D Array**"
      ],
      "metadata": {
        "id": "RhbptQYsemYF"
      }
    },
    {
      "cell_type": "markdown",
      "source": [
        "Consider an array $a_{i,j}$ representing a 2D array. A 2D array has two axes. Axis zero is along $i$ and axis one is along $j$. The given matrix has two rows and three columns."
      ],
      "metadata": {
        "id": "Fb3U4IAFcQEY"
      }
    },
    {
      "cell_type": "markdown",
      "source": [
        "![image.png](data:image/png;base64,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)"
      ],
      "metadata": {
        "id": "Pl6M0QXqhwax"
      }
    },
    {
      "cell_type": "markdown",
      "source": [
        "We can create a 2D array with one row and three columns by passing one tuple in a single element list as an arguement of `np.array()` function."
      ],
      "metadata": {
        "id": "vtDlAL9NdKOt"
      }
    },
    {
      "cell_type": "code",
      "source": [
        "array = np.array([(1,2,3)])\n",
        "print(\"Array = \\n\", array, \"\\n Dimension = \", array.ndim, \"\\n Shape of the Array = \", array.shape)"
      ],
      "metadata": {
        "id": "ZzE9TNBRZbQw",
        "outputId": "2f8e9be7-d7c9-48e1-b32e-1c80170cffd5",
        "colab": {
          "base_uri": "https://localhost:8080/"
        }
      },
      "execution_count": null,
      "outputs": [
        {
          "output_type": "stream",
          "name": "stdout",
          "text": [
            "Array = \n",
            " [[1 2 3]] \n",
            " Dimension =  2 \n",
            " Shape of the Array =  (1, 3)\n"
          ]
        }
      ]
    },
    {
      "cell_type": "markdown",
      "source": [
        "**In this example first axis length is 1 and Second axis length is 3 (1L,3L)**"
      ],
      "metadata": {
        "id": "5fbCWX4jXJA4"
      }
    },
    {
      "cell_type": "markdown",
      "source": [
        "This method creates a 2D NumPy array with shape (1, 3), containing one row and three columns.\n"
      ],
      "metadata": {
        "id": "rlwpSab-ZYov"
      }
    },
    {
      "cell_type": "code",
      "source": [
        "print(\"Type of the Array : \", type(array))\n",
        "print('Size of the Array = ', array.size)\n",
        "print(\"Type of data of elements of the Array = \", array.dtype)"
      ],
      "metadata": {
        "id": "0pbdcaOgtegW"
      },
      "execution_count": null,
      "outputs": []
    },
    {
      "cell_type": "markdown",
      "source": [
        "Now, we create another 2D array with two rows. We use `np.array([(2,3,1),(4,8,5)])` to initialize the array."
      ],
      "metadata": {
        "id": "qIpTJ6_6Bbjm"
      }
    },
    {
      "cell_type": "code",
      "source": [
        "array = np.array([(2,3,1),(4,8,5)])\n",
        "print(\"Array = \\n\", array, \"\\n Dimension = \", array.ndim, \"\\n Shape of the Array = \", array.shape)"
      ],
      "metadata": {
        "id": "co6XLEnpepve",
        "colab": {
          "base_uri": "https://localhost:8080/"
        },
        "outputId": "60e087c8-ef57-4cd3-acef-2ed5fe4f007d"
      },
      "execution_count": null,
      "outputs": [
        {
          "output_type": "stream",
          "name": "stdout",
          "text": [
            "Array = \n",
            " [[2 3 1]\n",
            " [4 8 5]] \n",
            " Dimension =  2 \n",
            " Shape of the Array =  (2, 3)\n"
          ]
        }
      ]
    },
    {
      "cell_type": "markdown",
      "source": [
        "Two tuples in a list are passed as an arguement in the np.array() function. We can see there are two arrays of size 3 in the outer array."
      ],
      "metadata": {
        "id": "FSve_lACuhTq"
      }
    },
    {
      "cell_type": "markdown",
      "source": [
        "**First axis (i.e. Axis-0) has length of 2 and Second axis (i.e. Axis-1) has length of 3 (2L,3L)**"
      ],
      "metadata": {
        "id": "oMuFqGklXEl_"
      }
    },
    {
      "cell_type": "code",
      "source": [
        "print(\"Type of the Array : \", type(array))\n",
        "print('Size of the Array = ', array.size)\n",
        "print(\"Type of data of elements of the Array = \", array.dtype)"
      ],
      "metadata": {
        "id": "oZ045nEvuNwT"
      },
      "execution_count": null,
      "outputs": []
    },
    {
      "cell_type": "markdown",
      "source": [
        "**3D Array**"
      ],
      "metadata": {
        "id": "YbpDr12af0mu"
      }
    },
    {
      "cell_type": "markdown",
      "source": [
        "Consider an array $A$ representing a 3D array with its one element as $a_{i,j,k}$ . A 3D array has three axes. Axis zero is along $i$, axis one is along $j$ and axis 3 along $k$ axis. The given matrix has two arrays of shape $(3,4)$ so we can say that it has shape of $(2,3,4)$."
      ],
      "metadata": {
        "id": "9GG7-DOGepuX"
      }
    },
    {
      "cell_type": "markdown",
      "source": [
        "![image.png](data:image/png;base64,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)"
      ],
      "metadata": {
        "id": "3g3KCfatVfl7"
      }
    },
    {
      "cell_type": "markdown",
      "source": [
        "Let us now initialize this 3D array using `np.array()` function.\n",
        "- The dimension of the array is 3 and the shape is $(2,3,4)$"
      ],
      "metadata": {
        "id": "I9w9l8opZJz9"
      }
    },
    {
      "cell_type": "code",
      "source": [
        "array=np.array([\n",
        "            [(0, 1, 2, 3),\n",
        "              (4, 5,6,7),\n",
        "              (8,9,10,11)],\n",
        "            [(12,13,14,15),\n",
        "              (16,17,18, 19),\n",
        "              (20,21,22, 23)]\n",
        "            ])\n",
        "print(\"Array = \\n\", array, \"\\n Dimension = \", array.ndim, \"\\n Shape of the Array = \", array.shape)"
      ],
      "metadata": {
        "id": "efAFpCheWiw5",
        "colab": {
          "base_uri": "https://localhost:8080/"
        },
        "outputId": "feb99858-f4fe-4f40-b8f0-eb10be3672bd"
      },
      "execution_count": null,
      "outputs": [
        {
          "output_type": "stream",
          "name": "stdout",
          "text": [
            "Array = \n",
            " [[[ 0  1  2  3]\n",
            "  [ 4  5  6  7]\n",
            "  [ 8  9 10 11]]\n",
            "\n",
            " [[12 13 14 15]\n",
            "  [16 17 18 19]\n",
            "  [20 21 22 23]]] \n",
            " Dimension =  3 \n",
            " Shape of the Array =  (2, 3, 4)\n"
          ]
        }
      ]
    },
    {
      "cell_type": "markdown",
      "source": [
        "**Axis-0 has length of 2, Axis-1 has length of 3 and Axis-2 each has length of 4**"
      ],
      "metadata": {
        "id": "Sjv9ZtwaW-EP"
      }
    },
    {
      "cell_type": "code",
      "source": [
        "print(\"Type of the Array : \", type(array))\n",
        "print('Size of the Array = ', array.size)\n",
        "print(\"Type of data of elements of the Array = \", array.dtype)"
      ],
      "metadata": {
        "id": "mLKiz6leW2I1"
      },
      "execution_count": null,
      "outputs": []
    },
    {
      "cell_type": "markdown",
      "source": [
        "##Reshaping Matrices"
      ],
      "metadata": {
        "id": "RXYfdzyvpr3M"
      }
    },
    {
      "cell_type": "markdown",
      "source": [
        "We can reshape the array using the reshape() function in NumPy. Reshaping allows you to change the shape or dimensions of an array while maintaining the same number of elements. Otherwise, it will throw an error."
      ],
      "metadata": {
        "id": "J2fKUtb2QjvZ"
      }
    },
    {
      "cell_type": "code",
      "source": [
        "array=array.reshape(8,3)\n",
        "print(array)"
      ],
      "metadata": {
        "id": "mqDqHPOPPdqN",
        "outputId": "143549e9-2548-48b3-87cc-99c817adcfe0",
        "colab": {
          "base_uri": "https://localhost:8080/"
        }
      },
      "execution_count": null,
      "outputs": [
        {
          "output_type": "stream",
          "name": "stdout",
          "text": [
            "[[ 0  1  2]\n",
            " [ 3  4  5]\n",
            " [ 6  7  8]\n",
            " [ 9 10 11]\n",
            " [12 13 14]\n",
            " [15 16 17]\n",
            " [18 19 20]\n",
            " [21 22 23]]\n"
          ]
        }
      ]
    },
    {
      "cell_type": "markdown",
      "source": [
        "We can specify one dimension by '-1' for the unknown shape. The Numpy will compute that on its own if exists."
      ],
      "metadata": {
        "id": "wSzF0Scwd4uf"
      }
    },
    {
      "cell_type": "code",
      "source": [
        "array.reshape(6,-1)\n",
        "array.reshape(1,3,2,-1)"
      ],
      "metadata": {
        "id": "A89Yp4lad3fC",
        "colab": {
          "base_uri": "https://localhost:8080/"
        },
        "outputId": "95224dde-9da3-4071-8457-2ae6d7dc1305"
      },
      "execution_count": null,
      "outputs": [
        {
          "output_type": "execute_result",
          "data": {
            "text/plain": [
              "array([[[[ 0,  1,  2,  3],\n",
              "         [ 4,  5,  6,  7]],\n",
              "\n",
              "        [[ 8,  9, 10, 11],\n",
              "         [12, 13, 14, 15]],\n",
              "\n",
              "        [[16, 17, 18, 19],\n",
              "         [20, 21, 22, 23]]]])"
            ]
          },
          "metadata": {},
          "execution_count": 16
        }
      ]
    },
    {
      "cell_type": "markdown",
      "source": [
        "We can use `.T` to transpose the matrix."
      ],
      "metadata": {
        "id": "Kggc2eQ0eDIY"
      }
    },
    {
      "cell_type": "code",
      "source": [
        "array.T"
      ],
      "metadata": {
        "id": "PygKSERmd-6r"
      },
      "execution_count": null,
      "outputs": []
    },
    {
      "cell_type": "markdown",
      "source": [
        "##Indexing Array Elements"
      ],
      "metadata": {
        "id": "aDUiTwOCR_a7"
      }
    },
    {
      "cell_type": "markdown",
      "source": [
        "We can access arrays/elements of an array using indexing, just like in regular Python lists. For a 1D array first element is at index 0 and for 2D array first row at index `[0][]`, first column is at `[][0]` and first element is at index 0, 0 to specify row and column."
      ],
      "metadata": {
        "id": "DYygciIr_MuN"
      }
    },
    {
      "cell_type": "code",
      "source": [
        "array=np.arange(12).reshape(3,4)\n",
        "print(\"2D Array : \\n\", array)"
      ],
      "metadata": {
        "id": "3CqFrHkXazBK",
        "colab": {
          "base_uri": "https://localhost:8080/"
        },
        "outputId": "e08bb469-f8ff-4352-a5f2-8c25edb7f8b8"
      },
      "execution_count": null,
      "outputs": [
        {
          "output_type": "stream",
          "name": "stdout",
          "text": [
            "2D Array : \n",
            " [[ 0  1  2  3]\n",
            " [ 4  5  6  7]\n",
            " [ 8  9 10 11]]\n"
          ]
        }
      ]
    },
    {
      "cell_type": "code",
      "source": [
        "# Access elements of the array\n",
        "print(\"First element:\", array[0,0], \"\\nLast element:\", array[1,-1])"
      ],
      "metadata": {
        "id": "cl0EFX2hSS6v",
        "colab": {
          "base_uri": "https://localhost:8080/"
        },
        "outputId": "230d351d-1205-4a07-fe24-0e46c95c2aa1"
      },
      "execution_count": null,
      "outputs": [
        {
          "output_type": "stream",
          "name": "stdout",
          "text": [
            "First element: 0 \n",
            "Last element: 7\n"
          ]
        }
      ]
    },
    {
      "cell_type": "code",
      "source": [
        "# Access rows of the array\n",
        "print(\"First row at index 0] : \", array[0])\n",
        "print(\"Last row : \", array[-1])\n",
        "print(\"First column : \", array[:,:1])"
      ],
      "metadata": {
        "id": "0D86GGxGSAxh"
      },
      "execution_count": null,
      "outputs": []
    },
    {
      "cell_type": "code",
      "source": [
        "a=np.arange(18).reshape(3,2,3)"
      ],
      "metadata": {
        "id": "8MsWhgFsaI1z"
      },
      "execution_count": null,
      "outputs": []
    },
    {
      "cell_type": "code",
      "source": [
        "a"
      ],
      "metadata": {
        "id": "ox1PU6gQaYRa"
      },
      "execution_count": null,
      "outputs": []
    },
    {
      "cell_type": "code",
      "source": [
        "a[1][1][0]"
      ],
      "metadata": {
        "id": "5F54RVNoaSFh"
      },
      "execution_count": null,
      "outputs": []
    },
    {
      "cell_type": "code",
      "source": [
        "a=np.arange(36).reshape(2,3,2,3)"
      ],
      "metadata": {
        "id": "Ifg7eqCfP17h"
      },
      "execution_count": null,
      "outputs": []
    },
    {
      "cell_type": "code",
      "source": [
        "a"
      ],
      "metadata": {
        "id": "8uF1cx4GWvai"
      },
      "execution_count": null,
      "outputs": []
    },
    {
      "cell_type": "code",
      "source": [
        "a[1]"
      ],
      "metadata": {
        "id": "ujoVlinTYga0"
      },
      "execution_count": null,
      "outputs": []
    },
    {
      "cell_type": "markdown",
      "source": [
        "# Creating a NumPy array"
      ],
      "metadata": {
        "id": "RJ82SZPcTW0x"
      }
    },
    {
      "cell_type": "markdown",
      "source": [
        " ## arange() function"
      ],
      "metadata": {
        "id": "sNJ77qzZ_vGw"
      }
    },
    {
      "cell_type": "markdown",
      "source": [
        "`arange([start,] stop[, step], [, dtype=None])`\n",
        "\n",
        "**arange** returns evenly spaced values within a given interval starting from first optional parameter and within the `stop` value.\n",
        "If only one parameter is given, it is assumed as `stop` and the `start` is automatically set to 0.\n",
        "If the `step` is not given, it is set to `1` but if `step` is given, the `start` parameter cannot be optional, i.e. it has to be given as well.\n",
        "The `step` sets the spacing between two adjacent values of the output array."
      ],
      "metadata": {
        "id": "zQX3AiBnTy88"
      }
    },
    {
      "cell_type": "code",
      "source": [
        "dayTemperature=np.arange(6)\n",
        "#Gives 6 values starting from 0 and default interval of 1\n",
        "print(dayTemperature)"
      ],
      "metadata": {
        "id": "7b0CzpyIXuFt"
      },
      "execution_count": null,
      "outputs": []
    },
    {
      "cell_type": "code",
      "source": [
        "dayTemperature=np.arange(22,30,1)\n",
        "#First Value is 22 and it stops at 30, So 30 is not included\n",
        "print(dayTemperature)"
      ],
      "metadata": {
        "id": "E9wRQLfHXwSg"
      },
      "execution_count": null,
      "outputs": []
    },
    {
      "cell_type": "code",
      "source": [
        "dayTemperature=np.arange(25)\n",
        "#First Value is 0 and it gives 25 output with default interval of 1\n",
        "print(dayTemperature)"
      ],
      "metadata": {
        "id": "cdPunCeKX4Zr"
      },
      "execution_count": null,
      "outputs": []
    },
    {
      "cell_type": "code",
      "source": [
        "np.arange(12).reshape(4,3)"
      ],
      "metadata": {
        "id": "7Wb75j4RYFN4"
      },
      "execution_count": null,
      "outputs": []
    },
    {
      "cell_type": "markdown",
      "source": [
        "##linspace() Function\n"
      ],
      "metadata": {
        "id": "8GqaqQQOTgpC"
      }
    },
    {
      "cell_type": "markdown",
      "source": [
        "`linspace(start, stop, num=50, endpoint=True, retstep=False)`\n",
        "\n",
        "**Create NumPy array using linspacebar**\n",
        "\n",
        "Array of linearly spaced values defined by `num` including `start` and `stop`\n",
        "\n",
        "**default value of num is 50**"
      ],
      "metadata": {
        "id": "u2aDzpbRT420"
      }
    },
    {
      "cell_type": "code",
      "source": [
        "dayTemperature=np.linspace(20,30,11)\n",
        "print(dayTemperature)"
      ],
      "metadata": {
        "id": "i0t0-0kvX757",
        "colab": {
          "base_uri": "https://localhost:8080/"
        },
        "outputId": "31b7577d-341f-4c60-ff82-6ad7770fa5be"
      },
      "execution_count": null,
      "outputs": [
        {
          "output_type": "stream",
          "name": "stdout",
          "text": [
            "[20. 21. 22. 23. 24. 25. 26. 27. 28. 29. 30.]\n"
          ]
        }
      ]
    },
    {
      "cell_type": "code",
      "source": [
        "dayTemperature, spacing=np.linspace(20,30, 20, endpoint=True, retstep=True)\n",
        "print(dayTemperature, spacing)"
      ],
      "metadata": {
        "id": "EfOvvcc2X8zt"
      },
      "execution_count": null,
      "outputs": []
    },
    {
      "cell_type": "markdown",
      "source": [
        "##Random Functions"
      ],
      "metadata": {
        "id": "XqzZ5hJ4YNal"
      }
    },
    {
      "cell_type": "markdown",
      "source": [
        "Use `np.random.rand` to create an array of the given shape and populate it with random samples from a uniform distribution over [0, 1)."
      ],
      "metadata": {
        "id": "bX-Ox8pwYLhp"
      }
    },
    {
      "cell_type": "code",
      "source": [
        "np.random.rand(4,2)"
      ],
      "metadata": {
        "id": "ZIFiEXxyYaow"
      },
      "execution_count": null,
      "outputs": []
    },
    {
      "cell_type": "markdown",
      "source": [
        "We can multiply by a factor if we wand higher magnitude. For example, if we need random number up to 255, we can do so as below:"
      ],
      "metadata": {
        "id": "XeT370BuwqIe"
      }
    },
    {
      "cell_type": "code",
      "source": [
        "np.random.rand(4,2)*255"
      ],
      "metadata": {
        "id": "BsV01b5HxJ0S"
      },
      "execution_count": null,
      "outputs": []
    },
    {
      "cell_type": "markdown",
      "source": [
        "Use `np.random.randn` to generates an array of given shape, filled with random floats sampled from a univariate “normal” (Gaussian) distribution of mean 0 and variance 1."
      ],
      "metadata": {
        "id": "6pGUUxCEYe2b"
      }
    },
    {
      "cell_type": "code",
      "source": [
        "np.random.randn(3,4)"
      ],
      "metadata": {
        "id": "YVV3MNPWYjUD"
      },
      "execution_count": null,
      "outputs": []
    },
    {
      "cell_type": "code",
      "source": [
        "np.random.randint(3,6)"
      ],
      "metadata": {
        "id": "zvNk62swX4wI",
        "outputId": "8c20fd25-222d-4d5f-ec8b-bfa470dbf4a9",
        "colab": {
          "base_uri": "https://localhost:8080/"
        }
      },
      "execution_count": null,
      "outputs": [
        {
          "output_type": "execute_result",
          "data": {
            "text/plain": [
              "3"
            ]
          },
          "metadata": {},
          "execution_count": 153
        }
      ]
    },
    {
      "cell_type": "code",
      "source": [
        "np.random.randint(3,6, size=(2,4))"
      ],
      "metadata": {
        "id": "TQ8PUwugYFFG"
      },
      "execution_count": null,
      "outputs": []
    },
    {
      "cell_type": "markdown",
      "source": [
        "##Zeros, Ones and Full"
      ],
      "metadata": {
        "id": "wsxcp2JxlUtW"
      }
    },
    {
      "cell_type": "code",
      "source": [
        "np.zeros((3,3,2))"
      ],
      "metadata": {
        "id": "Br2fAWJAldFd"
      },
      "execution_count": null,
      "outputs": []
    },
    {
      "cell_type": "code",
      "source": [
        "np.ones((3,2,4))"
      ],
      "metadata": {
        "id": "y59Il03mmOAe"
      },
      "execution_count": null,
      "outputs": []
    },
    {
      "cell_type": "code",
      "source": [
        "np.full((2,3,4),4)"
      ],
      "metadata": {
        "id": "iBbICoU0mRG8"
      },
      "execution_count": null,
      "outputs": []
    },
    {
      "cell_type": "markdown",
      "source": [
        "#Matrix Operations"
      ],
      "metadata": {
        "id": "WVYSfZ-UcQw4"
      }
    },
    {
      "cell_type": "markdown",
      "source": [
        "##Element wise Operation"
      ],
      "metadata": {
        "id": "ZCAs9PofZvSm"
      }
    },
    {
      "cell_type": "markdown",
      "source": [
        "`multiply()`, `add()`, `subtract()` and `divide()`\n",
        "\n",
        "- To perform element-wise multiplication, the dimension of both the arrays must be the same.\n",
        "- The otherwise the broadcating can be used."
      ],
      "metadata": {
        "id": "j8bVik8ccly3"
      }
    },
    {
      "cell_type": "code",
      "source": [
        "#a=np.random.randn(4,3)\n",
        "a=np.random.randn(3,2)\n",
        "b=np.random.randn(3,2)\n",
        "mult=np.multiply(a,b)\n",
        "add=np.add(a,b)\n",
        "sub=np.subtract(a,b)\n",
        "div=np.divide(a,b)"
      ],
      "metadata": {
        "id": "SwolFUM0cvh3"
      },
      "execution_count": null,
      "outputs": []
    },
    {
      "cell_type": "code",
      "source": [],
      "metadata": {
        "id": "DDZh3D-YB_Um"
      },
      "execution_count": null,
      "outputs": []
    },
    {
      "cell_type": "markdown",
      "source": [
        "##Arithmatic Functions"
      ],
      "metadata": {
        "id": "4TmESG89F9IW"
      }
    },
    {
      "cell_type": "code",
      "source": [
        "np.sqrt(abs(np.exp(a)))"
      ],
      "metadata": {
        "id": "9eGs4tMeFOhe"
      },
      "execution_count": null,
      "outputs": []
    },
    {
      "cell_type": "code",
      "source": [
        "np.log(abs(np.power(a,3)))"
      ],
      "metadata": {
        "id": "COipTcIKHcIT"
      },
      "execution_count": null,
      "outputs": []
    },
    {
      "cell_type": "code",
      "source": [
        "np.min(a)"
      ],
      "metadata": {
        "id": "GyOOPjR5GUEK"
      },
      "execution_count": null,
      "outputs": []
    },
    {
      "cell_type": "code",
      "source": [
        "np.mean(a)"
      ],
      "metadata": {
        "id": "8HACj-jZb1RY"
      },
      "execution_count": null,
      "outputs": []
    },
    {
      "cell_type": "code",
      "source": [
        "np.max(a)"
      ],
      "metadata": {
        "id": "BdOj3-yCb31S"
      },
      "execution_count": null,
      "outputs": []
    },
    {
      "cell_type": "markdown",
      "source": [
        "##append() and insert()"
      ],
      "metadata": {
        "id": "BjmhqDITH-ga"
      }
    },
    {
      "cell_type": "code",
      "source": [
        "a = np.array([])\n",
        "\n",
        "print(\"Empty Array:\")\n",
        "print(a)\n",
        "print(\"Shape:\", a.shape)\n",
        "np.append(a,2)"
      ],
      "metadata": {
        "colab": {
          "base_uri": "https://localhost:8080/"
        },
        "id": "W8yIlmGeazUX",
        "outputId": "a6de517f-97a5-4416-9b01-5862f562f5ee"
      },
      "execution_count": null,
      "outputs": [
        {
          "output_type": "stream",
          "name": "stdout",
          "text": [
            "Empty Array:\n",
            "[]\n",
            "Shape: (0,)\n"
          ]
        },
        {
          "output_type": "execute_result",
          "data": {
            "text/plain": [
              "array([2.])"
            ]
          },
          "metadata": {},
          "execution_count": 12
        }
      ]
    },
    {
      "cell_type": "code",
      "source": [
        "a = np.array([])\n",
        "y=np.arange(10)\n",
        "for x in y:\n",
        "  a=np.append(a, x)\n",
        "print(a)"
      ],
      "metadata": {
        "colab": {
          "base_uri": "https://localhost:8080/"
        },
        "id": "VBKpaKYIdiJE",
        "outputId": "4a13a1a5-68f2-4657-d9af-aceb57b82f36"
      },
      "execution_count": null,
      "outputs": [
        {
          "output_type": "stream",
          "name": "stdout",
          "text": [
            "[0. 1. 2. 3. 4. 5. 6. 7. 8. 9.]\n"
          ]
        }
      ]
    },
    {
      "cell_type": "code",
      "source": [
        "ones=np.ones(5)\n",
        "zeros=np.zeros(5)"
      ],
      "metadata": {
        "id": "fAD4xZ6AIDEN"
      },
      "execution_count": null,
      "outputs": []
    },
    {
      "cell_type": "code",
      "source": [
        "np.append(ones,zeros)"
      ],
      "metadata": {
        "id": "NHmF2jgRncCV"
      },
      "execution_count": null,
      "outputs": []
    },
    {
      "cell_type": "code",
      "source": [
        "np.append(ones,[2,4])"
      ],
      "metadata": {
        "id": "ITf77KJxIeqB"
      },
      "execution_count": null,
      "outputs": []
    },
    {
      "cell_type": "code",
      "source": [
        "np.insert(ones, 3, [4,3]) #inserted at the index specified"
      ],
      "metadata": {
        "id": "jVSw59NhIoAg"
      },
      "execution_count": null,
      "outputs": []
    },
    {
      "cell_type": "markdown",
      "source": [
        "## Broadcasting"
      ],
      "metadata": {
        "id": "6vwyfts3umkX"
      }
    },
    {
      "cell_type": "code",
      "source": [
        "print(a)\n",
        "b=a+3\n",
        "print(b)\n",
        "b=b*7\n",
        "print(b)"
      ],
      "metadata": {
        "id": "RcbQItkPeBFk"
      },
      "execution_count": null,
      "outputs": []
    },
    {
      "cell_type": "code",
      "source": [
        "a=np.random.rand(3,4)\n",
        "b=np.random.rand(4,1)\n",
        "c=a+b.T\n",
        "print(\"Shape of a+b.T \",c.shape)\n",
        "c=a.T+b\n",
        "print(\"Shape of a.T+b \",c.shape)"
      ],
      "metadata": {
        "id": "rNGaWE2Mdq99"
      },
      "execution_count": null,
      "outputs": []
    },
    {
      "cell_type": "code",
      "execution_count": null,
      "metadata": {
        "id": "5K1pvF11qKwT"
      },
      "outputs": [],
      "source": [
        "percent=100*a/np.sum(a)\n",
        "print(percent)"
      ]
    },
    {
      "cell_type": "code",
      "execution_count": null,
      "metadata": {
        "id": "L6MYRxA6qKwU"
      },
      "outputs": [],
      "source": [
        "a = np.array([18, 2, 5, 3, 20]).reshape(5,1)\n",
        "b = np.array([9, 14, 15, 3, -200]).reshape(5,1)\n",
        "c=100*(abs(b-a))/a\n",
        "print(c)"
      ]
    },
    {
      "cell_type": "code",
      "source": [
        "a=np.arange(3).reshape(1,3)\n",
        "b=np.arange(3).reshape(3,1)"
      ],
      "metadata": {
        "id": "nETIhoy7712r"
      },
      "execution_count": null,
      "outputs": []
    },
    {
      "cell_type": "code",
      "source": [
        "dot=np.dot(a,b)\n",
        "add=np.add(a,b)"
      ],
      "metadata": {
        "id": "S9seFZWs8Mw3"
      },
      "execution_count": null,
      "outputs": []
    },
    {
      "cell_type": "code",
      "source": [
        "dot"
      ],
      "metadata": {
        "id": "PKRSbLXp8Tev"
      },
      "execution_count": null,
      "outputs": []
    },
    {
      "cell_type": "code",
      "source": [
        "x="
      ],
      "metadata": {
        "id": "k8meOpcu7tA7"
      },
      "execution_count": null,
      "outputs": []
    },
    {
      "cell_type": "code",
      "source": [
        "a.shape==(2,3)\n",
        "\n",
        "b.shape==(2,3)\n",
        "b.shape==(2,1)\n",
        "b.shape==(1,3)\n",
        "b.shape==(3,)\n",
        "\n",
        "b.shape==(3,2)\n",
        "b.shape==(2,)\n",
        "\n"
      ],
      "metadata": {
        "id": "TyV9fOZrsAe6"
      },
      "execution_count": null,
      "outputs": []
    },
    {
      "cell_type": "code",
      "source": [
        "a.shape==(1000,256,256,256)\n",
        "\n",
        "b.shape==(1000,256,256,256)\n",
        "b.shape==(1000,1,256,256)\n",
        "b.shape==(1000,1,1,256)\n",
        "b.shape==(1,256,256,256)\n",
        "b.shape==(1,256,256)\n",
        "b.shape==(256,1)\n",
        "\n",
        "b.shape==(1000,256,256)"
      ],
      "metadata": {
        "id": "yxdTiN66shnh"
      },
      "execution_count": null,
      "outputs": []
    },
    {
      "cell_type": "markdown",
      "source": [
        "##Dot Product"
      ],
      "metadata": {
        "id": "WxeoMg7eZ4hD"
      }
    },
    {
      "cell_type": "markdown",
      "source": [
        "- To perform `dot product` on two muti-dimension arrays, the last dimension of the first array should be equal to last but one dimension of second array. So check `a.shape[-1]==b.shape[-2]`"
      ],
      "metadata": {
        "id": "YAqYZGzBdZNK"
      }
    },
    {
      "cell_type": "code",
      "source": [
        "a=np.random.randint(1,10, size=(4,6))\n",
        "b=np.random.randint(1,10, size=(6,2))"
      ],
      "metadata": {
        "id": "_VleDq5QX1ZE"
      },
      "execution_count": null,
      "outputs": []
    },
    {
      "cell_type": "code",
      "source": [
        "print(a.shape[-1], b.shape[-2])\n",
        "a.shape[-1] == b.shape[-2]"
      ],
      "metadata": {
        "id": "1yhaqA8KdYy6"
      },
      "execution_count": null,
      "outputs": []
    },
    {
      "cell_type": "code",
      "source": [
        "if(a.shape[1] == b.shape[0]):\n",
        "  c=np.dot(a,b)\n",
        "  print(c, c.shape)\n",
        "else:\n",
        "  print(\"The columns and rows condition not satisfied\")"
      ],
      "metadata": {
        "id": "Wlvu9y5NdkWo"
      },
      "execution_count": null,
      "outputs": []
    },
    {
      "cell_type": "code",
      "source": [
        "a=np.arange(10)\n",
        "b=np.arange(10)\n",
        "cDot=np.dot(a,b)\n",
        "print(cDot)"
      ],
      "metadata": {
        "id": "TTe4kfZAD0nF"
      },
      "execution_count": null,
      "outputs": []
    },
    {
      "cell_type": "markdown",
      "source": [
        "##Slicing\n"
      ],
      "metadata": {
        "id": "7J28UgNqx68t"
      }
    },
    {
      "cell_type": "markdown",
      "source": [
        "**Colon Operator**.\n",
        "\n",
        "Slicing is used to take desired elements of an array starting from one given index to another given index.\n",
        "\n",
        "`[start : end: step]` for 1D array.\n",
        "\n",
        "- **`start`** is inclusive and **`end`** is exclusive\n",
        "\n",
        "- If we don't pass `start` its considered 0\n",
        "\n",
        "- If we don't pass end its considered length of array in that dimension\n",
        "\n",
        "- If we don't pass `step` its considered 1"
      ],
      "metadata": {
        "id": "jYU8ut2j_abf"
      }
    },
    {
      "cell_type": "code",
      "source": [
        "x = np.array([18, 2, 5, 3, 20, 4, 8, 18, 12])"
      ],
      "metadata": {
        "id": "AA6UU-uzycph"
      },
      "execution_count": null,
      "outputs": []
    },
    {
      "cell_type": "code",
      "source": [
        "x[:]"
      ],
      "metadata": {
        "id": "mLAolEb9epdK"
      },
      "execution_count": null,
      "outputs": []
    },
    {
      "cell_type": "code",
      "source": [
        "x[3:] #All after index 3 including index 3"
      ],
      "metadata": {
        "id": "IJnpdFQXQgsF"
      },
      "execution_count": null,
      "outputs": []
    },
    {
      "cell_type": "code",
      "source": [
        "x[:4] #All before index 4 excluding index 4."
      ],
      "metadata": {
        "id": "hYNSZU8KQp3y"
      },
      "execution_count": null,
      "outputs": []
    },
    {
      "cell_type": "code",
      "source": [
        "x[1:7]"
      ],
      "metadata": {
        "id": "OFWzq_EIRMlT"
      },
      "execution_count": null,
      "outputs": []
    },
    {
      "cell_type": "code",
      "source": [
        "x[1:7:2]"
      ],
      "metadata": {
        "id": "aUaCGEytexdQ"
      },
      "execution_count": null,
      "outputs": []
    },
    {
      "cell_type": "markdown",
      "source": [
        "We use [`start` : `end`: `step` , `start` : `end`: `step` ] for 2D array."
      ],
      "metadata": {
        "id": "LmCosBZzVsTb"
      }
    },
    {
      "cell_type": "code",
      "source": [
        "x=np.arange(20).reshape(4,5)\n",
        "x"
      ],
      "metadata": {
        "id": "LPm1KEz111kU"
      },
      "execution_count": null,
      "outputs": []
    },
    {
      "cell_type": "markdown",
      "source": [
        "If we want [[5,6],[10,11]].\n",
        "\n",
        "For this we will take\n",
        "- 1:3 for the row\n",
        "- 0:2 for the column"
      ],
      "metadata": {
        "id": "J_m7cFIfgrGy"
      }
    },
    {
      "cell_type": "code",
      "source": [
        "x[1:3,0:2]"
      ],
      "metadata": {
        "id": "AJYeo7ZCR2Q6"
      },
      "execution_count": null,
      "outputs": []
    },
    {
      "cell_type": "markdown",
      "source": [
        "If we want [[12,13,14],[17,18,19]].\n",
        "\n",
        "For this we will take\n",
        "- 2:4 or 2: for the row\n",
        "- 2:5 or 2: for the column"
      ],
      "metadata": {
        "id": "jOougra8hqRa"
      }
    },
    {
      "cell_type": "code",
      "source": [
        "x[2:4, 2:5]"
      ],
      "metadata": {
        "id": "lLrEkWBMid5T"
      },
      "execution_count": null,
      "outputs": []
    },
    {
      "cell_type": "code",
      "source": [
        "print(\"Slice of the array:\", x[0:2]) #check Shape\n",
        "print(\"Slice of the array:\", x[1, 1:3])\n",
        "print(\"Slice of the array:\", x[2, 1:-1])"
      ],
      "metadata": {
        "id": "sfgMe6GmU-Ap"
      },
      "execution_count": null,
      "outputs": []
    },
    {
      "cell_type": "markdown",
      "source": [
        "**3D array Slicing**"
      ],
      "metadata": {
        "id": "vmPkcVGQjaZH"
      }
    },
    {
      "cell_type": "code",
      "source": [
        "x=np.arange(24).reshape(2,3,4)\n",
        "x"
      ],
      "metadata": {
        "id": "16Gm4kMcjesM"
      },
      "execution_count": null,
      "outputs": []
    },
    {
      "cell_type": "markdown",
      "source": [
        "shape=2, 3, 4 means $i=2; j=3$ and $k=4$ where $i, j, k$ represent axis 0,1 and 2 respectively. There are two arrays of shape (3, 4) along axis 0."
      ],
      "metadata": {
        "id": "CePogUwXj4T-"
      }
    },
    {
      "cell_type": "markdown",
      "source": [
        "If we want [[13,14],[17,18]].\n",
        "\n",
        "For this we will take\n",
        "- 1: for axis 0 ($i$) as we are working on second array (channel). There are two channels along axis 0.\n",
        "- 0:2 for the row (axis 1 or $j$)\n",
        "- 1:3 for the column (axis 2 or $k$)"
      ],
      "metadata": {
        "id": "UlQmYsk7k9dq"
      }
    },
    {
      "cell_type": "code",
      "source": [
        "x[1:,0:2,1:3]"
      ],
      "metadata": {
        "id": "JHtnrsYPk9Hn"
      },
      "execution_count": null,
      "outputs": []
    },
    {
      "cell_type": "markdown",
      "source": [
        "##Boolian Indexing"
      ],
      "metadata": {
        "id": "1XWMMamsuWjM"
      }
    },
    {
      "cell_type": "code",
      "source": [
        "x>0.3"
      ],
      "metadata": {
        "id": "oqL_qE3haQKC"
      },
      "execution_count": null,
      "outputs": []
    },
    {
      "cell_type": "code",
      "source": [
        "x[x>0.3]"
      ],
      "metadata": {
        "id": "ADvhAUvLaBQZ"
      },
      "execution_count": null,
      "outputs": []
    },
    {
      "cell_type": "code",
      "source": [
        "np.where(x>0.3, x, 0)"
      ],
      "metadata": {
        "id": "HQ0dSgigaWxp"
      },
      "execution_count": null,
      "outputs": []
    },
    {
      "cell_type": "markdown",
      "source": [
        "## np.sum()"
      ],
      "metadata": {
        "id": "BJamm2tquf9H"
      }
    },
    {
      "cell_type": "code",
      "source": [
        "a=np.arange(24).reshape(2,3,4)"
      ],
      "metadata": {
        "id": "q313n7HWeTaq"
      },
      "execution_count": null,
      "outputs": []
    },
    {
      "cell_type": "code",
      "source": [
        "print(a)"
      ],
      "metadata": {
        "id": "noMMuINlgJPB",
        "colab": {
          "base_uri": "https://localhost:8080/"
        },
        "outputId": "0d96db94-e28e-4b1e-f00e-e61f78f710af"
      },
      "execution_count": null,
      "outputs": [
        {
          "output_type": "stream",
          "name": "stdout",
          "text": [
            "[[[ 0  1  2  3]\n",
            "  [ 4  5  6  7]\n",
            "  [ 8  9 10 11]]\n",
            "\n",
            " [[12 13 14 15]\n",
            "  [16 17 18 19]\n",
            "  [20 21 22 23]]]\n"
          ]
        }
      ]
    },
    {
      "cell_type": "code",
      "source": [
        "a.sum() #output the sum of all the elements"
      ],
      "metadata": {
        "id": "Jrk5MvO2V2MR"
      },
      "execution_count": null,
      "outputs": []
    },
    {
      "cell_type": "markdown",
      "source": [
        "- `sum(axis=0)` output a matrix of shape (3,4)\n",
        "- `sum(axis=1)` output a matrix of shape (2,4)\n",
        "- `sum(axis=2)` output a matrix of shape (2,3)\n"
      ],
      "metadata": {
        "id": "MpeR1NXrifwh"
      }
    },
    {
      "cell_type": "code",
      "execution_count": null,
      "metadata": {
        "id": "Zb3K0gTCqKwT"
      },
      "outputs": [],
      "source": [
        "a.sum(axis=0)"
      ]
    },
    {
      "cell_type": "code",
      "source": [
        "b=np.sum(a,axis=1, keepdims=True)"
      ],
      "metadata": {
        "id": "TYSq33q6Vrv-"
      },
      "execution_count": null,
      "outputs": []
    },
    {
      "cell_type": "code",
      "source": [
        "b.shape"
      ],
      "metadata": {
        "id": "T5k3hpwHehol",
        "outputId": "4242677b-8c63-45ea-eab8-d0d749e70139",
        "colab": {
          "base_uri": "https://localhost:8080/"
        }
      },
      "execution_count": null,
      "outputs": [
        {
          "output_type": "execute_result",
          "data": {
            "text/plain": [
              "(2, 1, 4)"
            ]
          },
          "metadata": {},
          "execution_count": 21
        }
      ]
    },
    {
      "cell_type": "code",
      "source": [
        "a.sum(axis=2) #output the column axis 1 [Sum of each row]"
      ],
      "metadata": {
        "id": "pHMdN1jEWi8b"
      },
      "execution_count": null,
      "outputs": []
    },
    {
      "cell_type": "markdown",
      "source": [
        "#Handling Image Data (3D Matrix)"
      ],
      "metadata": {
        "id": "_tHvWJTp5JAc"
      }
    },
    {
      "cell_type": "markdown",
      "source": [
        "##Create Image"
      ],
      "metadata": {
        "id": "fMxP2SERJsSa"
      }
    },
    {
      "cell_type": "markdown",
      "source": [
        "Color images are represented by 3D array corresponding to pixels in height, pixels in width for each of RGB channel. and reshape to a row or column matrix as below."
      ],
      "metadata": {
        "id": "FQRBRVdgeHJM"
      }
    },
    {
      "cell_type": "code",
      "source": [
        "randA=np.random.rand(64*64*3)*255"
      ],
      "metadata": {
        "id": "gfP3wB9N4wfg"
      },
      "execution_count": null,
      "outputs": []
    },
    {
      "cell_type": "code",
      "source": [
        "image=randA.reshape(64,64,3)\n",
        "image = image.astype('uint8')\n",
        "image"
      ],
      "metadata": {
        "id": "orCPufIfeK5x",
        "colab": {
          "base_uri": "https://localhost:8080/",
          "height": 104
        },
        "outputId": "8feb21cc-b8d0-4637-dbdd-c8cf79a6eb86"
      },
      "execution_count": null,
      "outputs": [
        {
          "output_type": "execute_result",
          "data": {
            "text/plain": [
              "array([[[184,   2, 150],\n",
              "        [204,  73, 162],\n",
              "        [156,  68, 161],\n",
              "        ...,\n",
              "        [241, 227, 215],\n",
              "        [216, 122, 170],\n",
              "        [151,  40, 199]],\n",
              "\n",
              "       [[ 58, 180, 172],\n",
              "        [ 31, 192, 253],\n",
              "        [167, 147, 121],\n",
              "        ...,\n",
              "        [108, 181, 103],\n",
              "        [ 95, 113, 230],\n",
              "        [136, 253,  91]],\n",
              "\n",
              "       [[191, 128, 240],\n",
              "        [ 82, 136, 152],\n",
              "        [165, 169,  62],\n",
              "        ...,\n",
              "        [227, 235,  12],\n",
              "        [211, 173, 134],\n",
              "        [230, 180,  30]],\n",
              "\n",
              "       ...,\n",
              "\n",
              "       [[ 10,  26, 143],\n",
              "        [ 95, 186, 156],\n",
              "        [ 48,  95, 173],\n",
              "        ...,\n",
              "        [ 26, 245,  75],\n",
              "        [  3, 173, 244],\n",
              "        [243, 109,  35]],\n",
              "\n",
              "       [[201,  94,  63],\n",
              "        [216, 120,  18],\n",
              "        [132, 138,  12],\n",
              "        ...,\n",
              "        [150,  26, 141],\n",
              "        [186,  77, 173],\n",
              "        [ 16, 172, 178]],\n",
              "\n",
              "       [[ 17,  56,  53],\n",
              "        [129,   1,  89],\n",
              "        [ 54, 136,  26],\n",
              "        ...,\n",
              "        [115,  50, 240],\n",
              "        [ 42, 156,  51],\n",
              "        [237,  39, 204]]], dtype=uint8)"
            ],
            "text/html": [
              "<style>\n",
              "      .ndarray_repr .ndarray_raw_data {\n",
              "        display: none;\n",
              "      }\n",
              "      .ndarray_repr.show_array .ndarray_raw_data {\n",
              "        display: block;\n",
              "      }\n",
              "      .ndarray_repr.show_array .ndarray_image_preview {\n",
              "        display: none;\n",
              "      }\n",
              "      </style>\n",
              "      <div id=\"id-be7cef4d-8225-41ad-bbf7-4ed2439ab875\" class=\"ndarray_repr\"><pre>ndarray (64, 64, 3) <button style=\"padding: 0 2px;\">show data</button></pre><img src=\"data:image/png;base64,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\" class=\"ndarray_image_preview\" /><pre class=\"ndarray_raw_data\">array([[[184,   2, 150],\n",
              "        [204,  73, 162],\n",
              "        [156,  68, 161],\n",
              "        ...,\n",
              "        [241, 227, 215],\n",
              "        [216, 122, 170],\n",
              "        [151,  40, 199]],\n",
              "\n",
              "       [[ 58, 180, 172],\n",
              "        [ 31, 192, 253],\n",
              "        [167, 147, 121],\n",
              "        ...,\n",
              "        [108, 181, 103],\n",
              "        [ 95, 113, 230],\n",
              "        [136, 253,  91]],\n",
              "\n",
              "       [[191, 128, 240],\n",
              "        [ 82, 136, 152],\n",
              "        [165, 169,  62],\n",
              "        ...,\n",
              "        [227, 235,  12],\n",
              "        [211, 173, 134],\n",
              "        [230, 180,  30]],\n",
              "\n",
              "       ...,\n",
              "\n",
              "       [[ 10,  26, 143],\n",
              "        [ 95, 186, 156],\n",
              "        [ 48,  95, 173],\n",
              "        ...,\n",
              "        [ 26, 245,  75],\n",
              "        [  3, 173, 244],\n",
              "        [243, 109,  35]],\n",
              "\n",
              "       [[201,  94,  63],\n",
              "        [216, 120,  18],\n",
              "        [132, 138,  12],\n",
              "        ...,\n",
              "        [150,  26, 141],\n",
              "        [186,  77, 173],\n",
              "        [ 16, 172, 178]],\n",
              "\n",
              "       [[ 17,  56,  53],\n",
              "        [129,   1,  89],\n",
              "        [ 54, 136,  26],\n",
              "        ...,\n",
              "        [115,  50, 240],\n",
              "        [ 42, 156,  51],\n",
              "        [237,  39, 204]]], dtype=uint8)</pre></div><script>\n",
              "      (() => {\n",
              "      const titles = ['show data', 'hide data'];\n",
              "      let index = 0\n",
              "      document.querySelector('#id-be7cef4d-8225-41ad-bbf7-4ed2439ab875 button').onclick = (e) => {\n",
              "        document.querySelector('#id-be7cef4d-8225-41ad-bbf7-4ed2439ab875').classList.toggle('show_array');\n",
              "        index = (++index) % 2;\n",
              "        document.querySelector('#id-be7cef4d-8225-41ad-bbf7-4ed2439ab875 button').textContent = titles[index];\n",
              "        e.preventDefault();\n",
              "        e.stopPropagation();\n",
              "      }\n",
              "      })();\n",
              "    </script>"
            ]
          },
          "metadata": {},
          "execution_count": 7
        }
      ]
    },
    {
      "cell_type": "markdown",
      "source": [
        "This represent an color image of $64 \\times 64$ and is stored in array of size (64, 64, 3). The last 3 represent the R, G and B channels. If you observe the `Image` matrix, you can see there are three elements in one/inner array. There are 64 such lines of arrays. These 64 lines of arrays of 3 elemets are further appearing 64 times to complete the `Image` matrix. In `Deep Learning` applications handling images, we call each pixel values as features and need to be converted to a column vector."
      ],
      "metadata": {
        "id": "C7Nug99YyFHZ"
      }
    },
    {
      "cell_type": "code",
      "source": [
        "image"
      ],
      "metadata": {
        "id": "oxuv4zAJxt_V",
        "colab": {
          "base_uri": "https://localhost:8080/",
          "height": 104
        },
        "outputId": "d70a1348-2f3e-43d9-e357-dbf98c408aeb"
      },
      "execution_count": null,
      "outputs": [
        {
          "output_type": "execute_result",
          "data": {
            "text/plain": [
              "array([[[184,   2, 150],\n",
              "        [204,  73, 162],\n",
              "        [156,  68, 161],\n",
              "        ...,\n",
              "        [241, 227, 215],\n",
              "        [216, 122, 170],\n",
              "        [151,  40, 199]],\n",
              "\n",
              "       [[ 58, 180, 172],\n",
              "        [ 31, 192, 253],\n",
              "        [167, 147, 121],\n",
              "        ...,\n",
              "        [108, 181, 103],\n",
              "        [ 95, 113, 230],\n",
              "        [136, 253,  91]],\n",
              "\n",
              "       [[191, 128, 240],\n",
              "        [ 82, 136, 152],\n",
              "        [165, 169,  62],\n",
              "        ...,\n",
              "        [227, 235,  12],\n",
              "        [211, 173, 134],\n",
              "        [230, 180,  30]],\n",
              "\n",
              "       ...,\n",
              "\n",
              "       [[ 10,  26, 143],\n",
              "        [ 95, 186, 156],\n",
              "        [ 48,  95, 173],\n",
              "        ...,\n",
              "        [ 26, 245,  75],\n",
              "        [  3, 173, 244],\n",
              "        [243, 109,  35]],\n",
              "\n",
              "       [[201,  94,  63],\n",
              "        [216, 120,  18],\n",
              "        [132, 138,  12],\n",
              "        ...,\n",
              "        [150,  26, 141],\n",
              "        [186,  77, 173],\n",
              "        [ 16, 172, 178]],\n",
              "\n",
              "       [[ 17,  56,  53],\n",
              "        [129,   1,  89],\n",
              "        [ 54, 136,  26],\n",
              "        ...,\n",
              "        [115,  50, 240],\n",
              "        [ 42, 156,  51],\n",
              "        [237,  39, 204]]], dtype=uint8)"
            ],
            "text/html": [
              "<style>\n",
              "      .ndarray_repr .ndarray_raw_data {\n",
              "        display: none;\n",
              "      }\n",
              "      .ndarray_repr.show_array .ndarray_raw_data {\n",
              "        display: block;\n",
              "      }\n",
              "      .ndarray_repr.show_array .ndarray_image_preview {\n",
              "        display: none;\n",
              "      }\n",
              "      </style>\n",
              "      <div id=\"id-5dc1940b-513f-4b3b-a61d-8482d9450fd9\" class=\"ndarray_repr\"><pre>ndarray (64, 64, 3) <button style=\"padding: 0 2px;\">show data</button></pre><img src=\"data:image/png;base64,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\" class=\"ndarray_image_preview\" /><pre class=\"ndarray_raw_data\">array([[[184,   2, 150],\n",
              "        [204,  73, 162],\n",
              "        [156,  68, 161],\n",
              "        ...,\n",
              "        [241, 227, 215],\n",
              "        [216, 122, 170],\n",
              "        [151,  40, 199]],\n",
              "\n",
              "       [[ 58, 180, 172],\n",
              "        [ 31, 192, 253],\n",
              "        [167, 147, 121],\n",
              "        ...,\n",
              "        [108, 181, 103],\n",
              "        [ 95, 113, 230],\n",
              "        [136, 253,  91]],\n",
              "\n",
              "       [[191, 128, 240],\n",
              "        [ 82, 136, 152],\n",
              "        [165, 169,  62],\n",
              "        ...,\n",
              "        [227, 235,  12],\n",
              "        [211, 173, 134],\n",
              "        [230, 180,  30]],\n",
              "\n",
              "       ...,\n",
              "\n",
              "       [[ 10,  26, 143],\n",
              "        [ 95, 186, 156],\n",
              "        [ 48,  95, 173],\n",
              "        ...,\n",
              "        [ 26, 245,  75],\n",
              "        [  3, 173, 244],\n",
              "        [243, 109,  35]],\n",
              "\n",
              "       [[201,  94,  63],\n",
              "        [216, 120,  18],\n",
              "        [132, 138,  12],\n",
              "        ...,\n",
              "        [150,  26, 141],\n",
              "        [186,  77, 173],\n",
              "        [ 16, 172, 178]],\n",
              "\n",
              "       [[ 17,  56,  53],\n",
              "        [129,   1,  89],\n",
              "        [ 54, 136,  26],\n",
              "        ...,\n",
              "        [115,  50, 240],\n",
              "        [ 42, 156,  51],\n",
              "        [237,  39, 204]]], dtype=uint8)</pre></div><script>\n",
              "      (() => {\n",
              "      const titles = ['show data', 'hide data'];\n",
              "      let index = 0\n",
              "      document.querySelector('#id-5dc1940b-513f-4b3b-a61d-8482d9450fd9 button').onclick = (e) => {\n",
              "        document.querySelector('#id-5dc1940b-513f-4b3b-a61d-8482d9450fd9').classList.toggle('show_array');\n",
              "        index = (++index) % 2;\n",
              "        document.querySelector('#id-5dc1940b-513f-4b3b-a61d-8482d9450fd9 button').textContent = titles[index];\n",
              "        e.preventDefault();\n",
              "        e.stopPropagation();\n",
              "      }\n",
              "      })();\n",
              "    </script>"
            ]
          },
          "metadata": {},
          "execution_count": 8
        }
      ]
    },
    {
      "cell_type": "code",
      "source": [
        "image[0][0].shape #Check shape"
      ],
      "metadata": {
        "id": "OhSZ01Ef07xA",
        "colab": {
          "base_uri": "https://localhost:8080/"
        },
        "outputId": "80b18735-eecd-42b9-cf9f-5f8d971311ab"
      },
      "execution_count": null,
      "outputs": [
        {
          "output_type": "execute_result",
          "data": {
            "text/plain": [
              "(3,)"
            ]
          },
          "metadata": {},
          "execution_count": 9
        }
      ]
    },
    {
      "cell_type": "code",
      "source": [
        "image[0][0] #Check shape"
      ],
      "metadata": {
        "id": "gB1whv1i0sVf",
        "colab": {
          "base_uri": "https://localhost:8080/"
        },
        "outputId": "1c5d5738-9774-49e2-ce7b-0d86fad67055"
      },
      "execution_count": null,
      "outputs": [
        {
          "output_type": "execute_result",
          "data": {
            "text/plain": [
              "array([184,   2, 150], dtype=uint8)"
            ]
          },
          "metadata": {},
          "execution_count": 10
        }
      ]
    },
    {
      "cell_type": "code",
      "source": [
        "image[0][0][0] #Check shape"
      ],
      "metadata": {
        "id": "TOcqaHYz00a4",
        "colab": {
          "base_uri": "https://localhost:8080/"
        },
        "outputId": "a4dc0861-e474-4e14-e4ae-e7e92185de40"
      },
      "execution_count": null,
      "outputs": [
        {
          "output_type": "execute_result",
          "data": {
            "text/plain": [
              "184"
            ]
          },
          "metadata": {},
          "execution_count": 11
        }
      ]
    },
    {
      "cell_type": "code",
      "source": [
        "image.reshape(-1,1)"
      ],
      "metadata": {
        "id": "hcM1Q515xra4",
        "colab": {
          "base_uri": "https://localhost:8080/"
        },
        "outputId": "90d8b496-02f6-40de-d588-f89728c02ae5"
      },
      "execution_count": null,
      "outputs": [
        {
          "output_type": "execute_result",
          "data": {
            "text/plain": [
              "array([[184],\n",
              "       [  2],\n",
              "       [150],\n",
              "       ...,\n",
              "       [237],\n",
              "       [ 39],\n",
              "       [204]], dtype=uint8)"
            ]
          },
          "metadata": {},
          "execution_count": 12
        }
      ]
    },
    {
      "cell_type": "code",
      "source": [
        "image.reshape(1,-1)"
      ],
      "metadata": {
        "id": "ogGvI1EIeNSn",
        "colab": {
          "base_uri": "https://localhost:8080/"
        },
        "outputId": "e17b9899-04e0-4289-e11e-0245a0ac054d"
      },
      "execution_count": null,
      "outputs": [
        {
          "output_type": "execute_result",
          "data": {
            "text/plain": [
              "array([[184,   2, 150, ..., 237,  39, 204]], dtype=uint8)"
            ]
          },
          "metadata": {},
          "execution_count": 13
        }
      ]
    },
    {
      "cell_type": "code",
      "source": [
        "image"
      ],
      "metadata": {
        "id": "CQRT4dBlxlrR",
        "colab": {
          "base_uri": "https://localhost:8080/",
          "height": 104
        },
        "outputId": "f87d61c1-36bb-4bd7-8fba-5f5b85bef8e1"
      },
      "execution_count": null,
      "outputs": [
        {
          "output_type": "execute_result",
          "data": {
            "text/plain": [
              "array([[[184,   2, 150],\n",
              "        [204,  73, 162],\n",
              "        [156,  68, 161],\n",
              "        ...,\n",
              "        [241, 227, 215],\n",
              "        [216, 122, 170],\n",
              "        [151,  40, 199]],\n",
              "\n",
              "       [[ 58, 180, 172],\n",
              "        [ 31, 192, 253],\n",
              "        [167, 147, 121],\n",
              "        ...,\n",
              "        [108, 181, 103],\n",
              "        [ 95, 113, 230],\n",
              "        [136, 253,  91]],\n",
              "\n",
              "       [[191, 128, 240],\n",
              "        [ 82, 136, 152],\n",
              "        [165, 169,  62],\n",
              "        ...,\n",
              "        [227, 235,  12],\n",
              "        [211, 173, 134],\n",
              "        [230, 180,  30]],\n",
              "\n",
              "       ...,\n",
              "\n",
              "       [[ 10,  26, 143],\n",
              "        [ 95, 186, 156],\n",
              "        [ 48,  95, 173],\n",
              "        ...,\n",
              "        [ 26, 245,  75],\n",
              "        [  3, 173, 244],\n",
              "        [243, 109,  35]],\n",
              "\n",
              "       [[201,  94,  63],\n",
              "        [216, 120,  18],\n",
              "        [132, 138,  12],\n",
              "        ...,\n",
              "        [150,  26, 141],\n",
              "        [186,  77, 173],\n",
              "        [ 16, 172, 178]],\n",
              "\n",
              "       [[ 17,  56,  53],\n",
              "        [129,   1,  89],\n",
              "        [ 54, 136,  26],\n",
              "        ...,\n",
              "        [115,  50, 240],\n",
              "        [ 42, 156,  51],\n",
              "        [237,  39, 204]]], dtype=uint8)"
            ],
            "text/html": [
              "<style>\n",
              "      .ndarray_repr .ndarray_raw_data {\n",
              "        display: none;\n",
              "      }\n",
              "      .ndarray_repr.show_array .ndarray_raw_data {\n",
              "        display: block;\n",
              "      }\n",
              "      .ndarray_repr.show_array .ndarray_image_preview {\n",
              "        display: none;\n",
              "      }\n",
              "      </style>\n",
              "      <div id=\"id-c4e0baff-a8d5-4cbe-9090-008fd2e84390\" class=\"ndarray_repr\"><pre>ndarray (64, 64, 3) <button style=\"padding: 0 2px;\">show data</button></pre><img src=\"data:image/png;base64,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\" class=\"ndarray_image_preview\" /><pre class=\"ndarray_raw_data\">array([[[184,   2, 150],\n",
              "        [204,  73, 162],\n",
              "        [156,  68, 161],\n",
              "        ...,\n",
              "        [241, 227, 215],\n",
              "        [216, 122, 170],\n",
              "        [151,  40, 199]],\n",
              "\n",
              "       [[ 58, 180, 172],\n",
              "        [ 31, 192, 253],\n",
              "        [167, 147, 121],\n",
              "        ...,\n",
              "        [108, 181, 103],\n",
              "        [ 95, 113, 230],\n",
              "        [136, 253,  91]],\n",
              "\n",
              "       [[191, 128, 240],\n",
              "        [ 82, 136, 152],\n",
              "        [165, 169,  62],\n",
              "        ...,\n",
              "        [227, 235,  12],\n",
              "        [211, 173, 134],\n",
              "        [230, 180,  30]],\n",
              "\n",
              "       ...,\n",
              "\n",
              "       [[ 10,  26, 143],\n",
              "        [ 95, 186, 156],\n",
              "        [ 48,  95, 173],\n",
              "        ...,\n",
              "        [ 26, 245,  75],\n",
              "        [  3, 173, 244],\n",
              "        [243, 109,  35]],\n",
              "\n",
              "       [[201,  94,  63],\n",
              "        [216, 120,  18],\n",
              "        [132, 138,  12],\n",
              "        ...,\n",
              "        [150,  26, 141],\n",
              "        [186,  77, 173],\n",
              "        [ 16, 172, 178]],\n",
              "\n",
              "       [[ 17,  56,  53],\n",
              "        [129,   1,  89],\n",
              "        [ 54, 136,  26],\n",
              "        ...,\n",
              "        [115,  50, 240],\n",
              "        [ 42, 156,  51],\n",
              "        [237,  39, 204]]], dtype=uint8)</pre></div><script>\n",
              "      (() => {\n",
              "      const titles = ['show data', 'hide data'];\n",
              "      let index = 0\n",
              "      document.querySelector('#id-c4e0baff-a8d5-4cbe-9090-008fd2e84390 button').onclick = (e) => {\n",
              "        document.querySelector('#id-c4e0baff-a8d5-4cbe-9090-008fd2e84390').classList.toggle('show_array');\n",
              "        index = (++index) % 2;\n",
              "        document.querySelector('#id-c4e0baff-a8d5-4cbe-9090-008fd2e84390 button').textContent = titles[index];\n",
              "        e.preventDefault();\n",
              "        e.stopPropagation();\n",
              "      }\n",
              "      })();\n",
              "    </script>"
            ]
          },
          "metadata": {},
          "execution_count": 14
        }
      ]
    },
    {
      "cell_type": "markdown",
      "source": [
        "##Plot NumPy Array Image using Matplotlib"
      ],
      "metadata": {
        "id": "vZta1wD8JvTE"
      }
    },
    {
      "cell_type": "code",
      "source": [
        "import matplotlib.pyplot as plt"
      ],
      "metadata": {
        "id": "Fk57AolxDdE1"
      },
      "execution_count": null,
      "outputs": []
    },
    {
      "cell_type": "code",
      "source": [
        "imgplot = plt.imshow(image)"
      ],
      "metadata": {
        "id": "yBnm0IL63Oxe",
        "colab": {
          "base_uri": "https://localhost:8080/",
          "height": 432
        },
        "outputId": "74b90847-66dd-40a0-c8d7-ed1269009b34"
      },
      "execution_count": null,
      "outputs": [
        {
          "output_type": "display_data",
          "data": {
            "text/plain": [
              "<Figure size 640x480 with 1 Axes>"
            ],
            "image/png": "[encoded data removed]"
          },
          "metadata": {}
        }
      ]
    },
    {
      "cell_type": "markdown",
      "source": [
        "In the above example, we created a dummy image but in deep learning we are given with the images and we may require to render these images. We can use PIL library to import the image. Let us first import an image into our session from button available at top left corner of the 'File/Folder' menu. This uploded image will be destroyed once we close the session."
      ],
      "metadata": {
        "id": "ELyoWpMfGOKK"
      }
    },
    {
      "cell_type": "markdown",
      "source": [
        "##Convert Image Format into Numpy Array"
      ],
      "metadata": {
        "id": "Yu18bv5PKGSZ"
      }
    },
    {
      "cell_type": "code",
      "source": [
        "from PIL import Image\n",
        "\n",
        "# Open the image using PIL\n",
        "image = Image.open('resize_test_1.png')\n",
        "\n",
        "# Convert the image to a NumPy array\n",
        "image_array = np.array(image)\n",
        "\n",
        "# Display the shape of the array\n",
        "print(\"Image array shape:\", image_array.shape)\n",
        "\n",
        "imgplot = plt.imshow(image_array)"
      ],
      "metadata": {
        "id": "xS3kYcQwD-_k",
        "colab": {
          "base_uri": "https://localhost:8080/",
          "height": 453
        },
        "outputId": "40c81fbc-c01b-45d7-b6e6-f829093e38f5"
      },
      "execution_count": null,
      "outputs": [
        {
          "output_type": "stream",
          "name": "stdout",
          "text": [
            "Image array shape: (475, 200, 4)\n"
          ]
        },
        {
          "output_type": "display_data",
          "data": {
            "text/plain": [
              "<Figure size 640x480 with 1 Axes>"
            ],
            "image/png": "[encoded data removed]"
          },
          "metadata": {}
        }
      ]
    },
    {
      "cell_type": "markdown",
      "source": [
        "We observe that the images have four channels instead of the expected three channels for RGB (Red, Green, Blue). The additional channel is typically an alpha channel, which represents transparency information.\n",
        "\n",
        "The presence of an alpha channel indicates that the image has an alpha transparency layer, commonly used in formats like PNG that support transparency. The alpha channel stores transparency information for each pixel, indicating how opaque or transparent the pixel should be when rendered.\n",
        "\n",
        "If we want to work with the RGB channels only, we can convert the image to RGB mode using the convert() function in PIL."
      ],
      "metadata": {
        "id": "bNFV1UupFTnp"
      }
    },
    {
      "cell_type": "code",
      "source": [
        "# Convert the image to RGB mode\n",
        "image_rgb = image.convert('RGB')\n",
        "\n",
        "# Convert the image to a NumPy array\n",
        "image_array = np.array(image_rgb)\n",
        "\n",
        "# Display the shape of the array\n",
        "print(\"Image array shape:\", image_array.shape)\n",
        "\n",
        "imgplot = plt.imshow(image_array)"
      ],
      "metadata": {
        "id": "BVT4-tvdFn0a",
        "colab": {
          "base_uri": "https://localhost:8080/",
          "height": 453
        },
        "outputId": "588ed6e6-23bc-47e6-c41e-e49336af396e"
      },
      "execution_count": null,
      "outputs": [
        {
          "output_type": "stream",
          "name": "stdout",
          "text": [
            "Image array shape: (475, 200, 3)\n"
          ]
        },
        {
          "output_type": "display_data",
          "data": {
            "text/plain": [
              "<Figure size 640x480 with 1 Axes>"
            ],
            "image/png": "[encoded data removed]"
          },
          "metadata": {}
        }
      ]
    },
    {
      "cell_type": "code",
      "source": [
        "import cv2 as cv"
      ],
      "metadata": {
        "id": "Y9c_zEvsjkT7"
      },
      "execution_count": null,
      "outputs": []
    },
    {
      "cell_type": "code",
      "source": [
        "#Input the Resolution\n",
        "rows=int(input('Enter the Height of the Viewer Window: '))\n",
        "cols=int(input('\\nEnter the Width of the Viewer Window: '))"
      ],
      "metadata": {
        "id": "MZbtuBjcjblp",
        "outputId": "3db6e0d5-cc19-4975-ace4-3859be25882c",
        "colab": {
          "base_uri": "https://localhost:8080/"
        }
      },
      "execution_count": null,
      "outputs": [
        {
          "name": "stdout",
          "output_type": "stream",
          "text": [
            "Enter the Height of the Viewer Window: 200\n",
            "\n",
            "Enter the Width of the Viewer Window: 100\n",
            "\n",
            "**Note: Please enter the brightness values between(0-255)**\n",
            "\n",
            "Enter the Brightness Value of RED Channel: 200\n",
            "\n",
            "Enter the Brightness Value of GREEN Channel: 20\n",
            "\n",
            "Enter the Brightness Value of BLUE Channel: 50\n"
          ]
        }
      ]
    },
    {
      "cell_type": "code",
      "source": [
        "#Input the R-G-B\n",
        "print('\\n**Note: Please enter the brightness values between(0-255)**')\n",
        "redBrightValue=int(input('\\nEnter the Brightness Value of RED Channel: '))\n",
        "greenBrightValue=int(input('\\nEnter the Brightness Value of GREEN Channel: '))\n",
        "blueBrightValue=int(input('\\nEnter the Brightness Value of BLUE Channel: '))"
      ],
      "metadata": {
        "id": "Zb3R1oAplVDB"
      },
      "execution_count": null,
      "outputs": []
    },
    {
      "cell_type": "code",
      "source": [
        "#Matrix Generation of R-G-B\n",
        "redChannel = np.uint8(np.ones([rows,cols])*redBrightValue)\n",
        "blueChannel = np.uint8(np.ones([rows,cols])*blueBrightValue)\n",
        "greenChannel = np.uint8(np.ones([rows,cols])*greenBrightValue)\n",
        "\n",
        "#Color Maker\n",
        "color = cv.merge([redChannel,greenChannel,blueChannel])\n",
        "plt.imshow(color)"
      ],
      "metadata": {
        "id": "OquQ-xZxj-Jx",
        "outputId": "35a5b5af-9ede-4495-bed5-0e867c78ad3c",
        "colab": {
          "base_uri": "https://localhost:8080/",
          "height": 452
        }
      },
      "execution_count": null,
      "outputs": [
        {
          "output_type": "execute_result",
          "data": {
            "text/plain": [
              "<matplotlib.image.AxesImage at 0x7edafdcf0880>"
            ]
          },
          "metadata": {},
          "execution_count": 20
        },
        {
          "output_type": "display_data",
          "data": {
            "text/plain": [
              "<Figure size 640x480 with 1 Axes>"
            ],
            "image/png": "[encoded data removed]"
          },
          "metadata": {}
        }
      ]
    },
    {
      "cell_type": "markdown",
      "source": [
        "#Mathematical Functions"
      ],
      "metadata": {
        "id": "IwCICjkV3UY8"
      }
    },
    {
      "cell_type": "markdown",
      "source": [
        "##Commonly Used Functions\n"
      ],
      "metadata": {
        "id": "BjpVoAl73hPG"
      }
    },
    {
      "cell_type": "markdown",
      "source": [
        "$$y=f(x)$$\n",
        "- Linear Function\n",
        "$$f(x) = wx+b$$\n",
        "$$f(x) = max(0,x)$$\n",
        "- Quadratic Function\n",
        "$$f(x) = 4ax^2+b$$\n",
        "- Exponential Function\n",
        "$$f(x) = \\frac{1}{1+e^{-x}}$$\n",
        "\n",
        "$$f(x_i) = \\frac {e^{x_i}}{\\sum_{j=1}^C{e^{x_j}}}$$\n",
        "\n",
        "- Trignometric Function\n",
        "$$f(x) = tan^{-1}(x)$$\n",
        "- Logrithmic Function\n",
        "$$f(x) = log(x)$$"
      ],
      "metadata": {
        "id": "4BXsbD4TBFXY"
      }
    },
    {
      "cell_type": "markdown",
      "metadata": {
        "id": "XuLV9P_XqKwI"
      },
      "source": [
        "## Sigmoid Function"
      ]
    },
    {
      "cell_type": "markdown",
      "source": [
        "Implement `np.exp()` and `math.exp()` for the sigmoid function and compare.\n",
        "\n",
        "$$sigmoid(z) = \\frac{1}{1+e^{-z}}$$\n",
        "\n",
        "- It takes an input value x and outputs a value between 0 and 1, which can be interpreted as a probability.\n",
        "- The function has an S-shaped curve, mapping the input values to a smooth, non-linear range.\n",
        "- The sigmoid function is commonly used in the last layer of a binary classification task, where the output represents the probability of belonging to a certain class."
      ],
      "metadata": {
        "id": "BBROrlLZUCWX"
      }
    },
    {
      "cell_type": "code",
      "source": [
        "import math"
      ],
      "metadata": {
        "id": "qwAGX22FWus6"
      },
      "execution_count": null,
      "outputs": []
    },
    {
      "cell_type": "code",
      "execution_count": null,
      "metadata": {
        "id": "lfihcHJDqKwL"
      },
      "outputs": [],
      "source": [
        "def sigmoid(z):\n",
        "  return 1/(1+math.exp(-z))\n",
        "sigmoid(1)"
      ]
    },
    {
      "cell_type": "markdown",
      "metadata": {
        "id": "qe4z1dCcqKwN"
      },
      "source": [
        "<span style=\"color:brown\"> **Cannot pass array as an arguement**</span>\n",
        "\n",
        "Give it a try to pass array to find sigmoid function of all the array elements."
      ]
    },
    {
      "cell_type": "code",
      "execution_count": null,
      "metadata": {
        "id": "N9_A3wu-qKwN"
      },
      "outputs": [],
      "source": [
        "#a=np.array([1,2,3])\n",
        "#sigmoid(a)"
      ]
    },
    {
      "cell_type": "code",
      "execution_count": null,
      "metadata": {
        "id": "G2s5uwxHqKwO"
      },
      "outputs": [],
      "source": [
        "def sigmoid(z):\n",
        "  return 1/(1+np.exp(-z))"
      ]
    },
    {
      "cell_type": "code",
      "execution_count": null,
      "metadata": {
        "id": "0-LU3tcrqKwO"
      },
      "outputs": [],
      "source": [
        "# Example\n",
        "x = np.array([-1, 0, 1])\n",
        "output = sigmoid(x)\n",
        "print(output)"
      ]
    },
    {
      "cell_type": "markdown",
      "source": [
        "##Ploting a Sigmoid Function"
      ],
      "metadata": {
        "id": "er1NjgHNVMQT"
      }
    },
    {
      "cell_type": "code",
      "source": [
        "import matplotlib.pyplot as plt"
      ],
      "metadata": {
        "id": "Kh2AC4i6VoXt"
      },
      "execution_count": null,
      "outputs": []
    },
    {
      "cell_type": "code",
      "source": [
        "# Generate z values\n",
        "z = np.linspace(-10, 10, 100)\n",
        "\n",
        "# Compute sigmoid function for each z value\n",
        "a = sigmoid(z)\n",
        "\n",
        "# Plot the sigmoid function\n",
        "plt.plot(z, a)\n",
        "plt.title('Sigmoid Function')\n",
        "plt.xlabel('z')\n",
        "plt.ylabel('sigmoid(z)')\n",
        "plt.grid(True)\n",
        "plt.show()"
      ],
      "metadata": {
        "id": "X_5r6hhXVLB0",
        "colab": {
          "base_uri": "https://localhost:8080/",
          "height": 472
        },
        "outputId": "3a5ace48-f5b4-43c6-d995-521de3e586d5"
      },
      "execution_count": null,
      "outputs": [
        {
          "output_type": "display_data",
          "data": {
            "text/plain": [
              "<Figure size 640x480 with 1 Axes>"
            ],
            "image/png": "[encoded data removed]"
          },
          "metadata": {}
        }
      ]
    },
    {
      "cell_type": "markdown",
      "source": [
        "In this code, we define the sigmoid function that calculates the sigmoid activation using the formula 1 / (1 + np.exp(-x)). The np.linspace() function generates 100 equally spaced values between -10 and 10 as the x values. We then compute the sigmoid function values for each x value using sigmoid(x).\n",
        "\n",
        "Finally, we use plt.plot() to plot the x values against the sigmoid function values (y). The remaining lines of code add a title to the plot, label the x and y axes, enable the grid, and display the plot using plt.show().\n"
      ],
      "metadata": {
        "id": "UC2c5pKL4pud"
      }
    },
    {
      "cell_type": "markdown",
      "source": [
        "- use `plt.plot()` to plot the z values against the sigmoid function values (y).\n",
        "- `plt.title()` adds a title to the plot\n",
        "- `plt.xlabel()` and `plt.ylabel()` label the x and y axes\n",
        "- `plt.grid(True)` enable the grid\n",
        "- Finally the plot is displayed `plt.show()`"
      ],
      "metadata": {
        "id": "b3p-WbsBWHcJ"
      }
    },
    {
      "cell_type": "markdown",
      "source": [
        "When you run this code, it will generate a plot showing the sigmoid function curve. The sigmoid function is an S-shaped curve that ranges between 0 and 1, and it is commonly used as an activation function in neural networks."
      ],
      "metadata": {
        "id": "VkIs1PRv5M-Y"
      }
    },
    {
      "cell_type": "code",
      "source": [
        "def plot(x,y):\n",
        "  plt.plot(x, y)\n",
        "  plt.title('Activation Function')\n",
        "  plt.xlabel('z')\n",
        "  plt.ylabel('a')\n",
        "  plt.grid(True)\n",
        "  plt.show()"
      ],
      "metadata": {
        "id": "5yRbN9GOqQ4g"
      },
      "execution_count": null,
      "outputs": []
    },
    {
      "cell_type": "code",
      "source": [
        "plot(z,a)"
      ],
      "metadata": {
        "colab": {
          "base_uri": "https://localhost:8080/",
          "height": 472
        },
        "id": "EFghVN80qZWZ",
        "outputId": "8516d44b-5c48-40e3-de67-586b32bbbcf5"
      },
      "execution_count": null,
      "outputs": [
        {
          "output_type": "display_data",
          "data": {
            "text/plain": [
              "<Figure size 640x480 with 1 Axes>"
            ],
            "image/png": "[encoded data removed]"
          },
          "metadata": {}
        }
      ]
    },
    {
      "cell_type": "markdown",
      "source": [
        "Implement the following equation\n",
        "\n",
        "$z = w^{T}x+b$\n",
        "\n",
        "Where,\n",
        "- $w$ is the weight array of shape (2, 1)\n",
        "- $x$ is the feature array of shape (2, 5)\n",
        "- $b$ is a scalar.\n",
        "\n",
        "$$sigmoid(z) = \\frac{1}{1+e^{-z}}$$"
      ],
      "metadata": {
        "id": "NPWHpHafoKya"
      }
    },
    {
      "cell_type": "code",
      "execution_count": null,
      "metadata": {
        "id": "2YNFIGmBqKwP"
      },
      "outputs": [],
      "source": [
        "X=np.arange(10).reshape(2,5)*100\n",
        "w=np.random.rand(2).reshape(2,1)\n",
        "b=np.random.randint(2,6)\n",
        "z=np.dot(w.T,X)+b\n",
        "print(z)\n",
        "a=sigmoid(z)"
      ]
    },
    {
      "cell_type": "markdown",
      "source": [
        "##ReLU (Rectified Linear Unit)"
      ],
      "metadata": {
        "id": "HexmVWYov9Lj"
      }
    },
    {
      "cell_type": "markdown",
      "source": [
        "- It takes an input value x and returns x if it is positive, and 0 otherwise.\n",
        "- The ReLU function introduces non-linearity to the network by mapping negative values to 0, while leaving positive values unchanged.\n",
        "- ReLU is a popular choice due to its simplicity and ability to mitigate the vanishing gradient problem."
      ],
      "metadata": {
        "id": "IqBimLOLxb43"
      }
    },
    {
      "cell_type": "code",
      "source": [
        "def relu(x):\n",
        "    return np.maximum(0, x)"
      ],
      "metadata": {
        "id": "-6gHoSFwwCt8"
      },
      "execution_count": null,
      "outputs": []
    },
    {
      "cell_type": "code",
      "source": [
        "# Let us consider the three observations\n",
        "x = np.array([-1, 0, 1])\n",
        "output = relu(x)\n",
        "print(output)"
      ],
      "metadata": {
        "id": "-7SllUxzwESN",
        "colab": {
          "base_uri": "https://localhost:8080/"
        },
        "outputId": "57cc2261-ac79-4c73-c663-dea214d1c96a"
      },
      "execution_count": null,
      "outputs": [
        {
          "output_type": "stream",
          "name": "stdout",
          "text": [
            "[0 0 1]\n"
          ]
        }
      ]
    },
    {
      "cell_type": "code",
      "source": [
        "# Generate z values\n",
        "z = np.linspace(-10, 10, 100)\n",
        "\n",
        "# Compute ReLU function for each z value\n",
        "a = relu(z)\n",
        "\n",
        "# Plot the ReLU function\n",
        "plot(z,a)"
      ],
      "metadata": {
        "id": "DnyEeMYKXFoy"
      },
      "execution_count": null,
      "outputs": []
    },
    {
      "cell_type": "markdown",
      "source": [
        "##Softmax"
      ],
      "metadata": {
        "id": "vH7NEXRaJyUt"
      }
    },
    {
      "cell_type": "markdown",
      "source": [
        "- The softmax function is commonly used in multi-class classification tasks.\n",
        "- Given an input vector x, the softmax function computes the probabilities for each class by exponentiating and normalizing the values.\n",
        "- The softmax function is defined as follows:\n",
        "\n",
        "$$P(C_i) = \\frac {e^{z_i}}{\\sum_{j=1}^C{e^{z_j}}}$$\n",
        "\n",
        "- The output of the softmax function is a probability distribution, ensuring that the sum of the probabilities across all classes is equal to 1."
      ],
      "metadata": {
        "id": "IKfbbC9lJ15k"
      }
    },
    {
      "cell_type": "code",
      "source": [
        "def softmax(x, dim):\n",
        "    x_exp=np.exp(x)\n",
        "    if(dim>1):\n",
        "      x_sum=np.sum(x_exp, axis=1).reshape(x.shape[0],1)\n",
        "    else:\n",
        "      x_sum=np.sum(x_exp)\n",
        "    #print(x_sum)\n",
        "    return x_exp/x_sum"
      ],
      "metadata": {
        "id": "TW7ePRcxPyzQ"
      },
      "execution_count": null,
      "outputs": []
    },
    {
      "cell_type": "code",
      "source": [
        "x = np.array([[9, 2, 5, 0, 0], [7, 5, 0, 0 ,0], [7, 5, 0, 0 ,0]]).T\n",
        "print(x.shape)\n",
        "print(x)\n",
        "s=softmax(x, 2)\n",
        "print(s)"
      ],
      "metadata": {
        "id": "CRDmW7uMP5NQ"
      },
      "execution_count": null,
      "outputs": []
    },
    {
      "cell_type": "code",
      "source": [
        "# Generate x values\n",
        "a = np.linspace(-10, 10, 100)\n",
        "\n",
        "# Compute Softmax function for each x value\n",
        "y = softmax(a,1)\n",
        "\n",
        "print(np.sum(y))\n",
        "print(y)\n",
        "\n",
        "# Plot the Softmax function\n",
        "plot(a,y)"
      ],
      "metadata": {
        "id": "3gw3xmIFYEJD"
      },
      "execution_count": null,
      "outputs": []
    },
    {
      "cell_type": "markdown",
      "source": [
        "##Mean Squared Error (MSE) Loss Function"
      ],
      "metadata": {
        "id": "dgRp_OM4wcsW"
      }
    },
    {
      "cell_type": "markdown",
      "source": [
        "Mean Squared Error (MSE) Loss Function:\n",
        "- The Mean Squared Error (MSE) loss function is widely used for regression problems.\n",
        "- It calculates the average squared difference between the predicted values and the true values.\n",
        "- For a set of m predictions $y_{pred}$ and corresponding true values $y_{true}$, the MSE loss is computed as:\n",
        "\n",
        "$$L_{mse}(\\hat{y},y) = \\frac{1}{2m}\\sum_{i=0}^m( \\hat{y}^{(i)}-y^{(i)})^2$$\n",
        "\n",
        "- The MSE loss penalizes larger errors more than smaller errors due to the squaring operation.\n",
        "- Minimizing the MSE loss encourages the model to produce predictions that are closer to the true values."
      ],
      "metadata": {
        "id": "ZYYxFj9dwyFN"
      }
    },
    {
      "cell_type": "code",
      "source": [
        "def mse_loss(y, yhat):\n",
        "  loss = np.dot(abs(y-yhat).T, abs(y-yhat))/y.shape[0]\n",
        "  #Note that dot product gives you onle scalar.\n",
        "  # We have used y.shape[0] to calculate mean\n",
        "  #loss=np.mean((y - yhat) ** 2)\n",
        "  return np.mean(loss)"
      ],
      "metadata": {
        "id": "rl3Elj-HwfnI"
      },
      "execution_count": null,
      "outputs": []
    },
    {
      "cell_type": "code",
      "source": [
        "# Consider an example for three predictions\n",
        "y_true = np.array([1, 2, 3, 4])\n",
        "y_pred = np.array([1.5, 2.3, 3.2, 3.9])\n",
        "#Try the below statement to show the broadcasting\n",
        "#y_pred = np.array([1.5])\n",
        "#Note that the program will throw an error if the shape of both\n",
        "#y is not same except when either y_pred or y_true is one to facilitate the broadcating\n",
        "loss = mse_loss(y_true, y_pred)\n",
        "print(loss)"
      ],
      "metadata": {
        "id": "A7Q4A0d3w4kr"
      },
      "execution_count": null,
      "outputs": []
    },
    {
      "cell_type": "code",
      "source": [
        "# Generate y_true values\n",
        "y_true = np.array([2,3,4,6])\n",
        "\n",
        "# Generate a range of y_pred values\n",
        "y_pred = np.linspace(-2, 6, 8)\n",
        "\n",
        "# Compute MSE loss for each y_pred value\n",
        "loss = [mse_loss(y_true, y) for y in y_pred]\n",
        "\n",
        "#Broadcast the y_pred in the mse_loss function to all the elements of y_true.\n",
        "#You can change the number of elements in the y_true from 1 to 10 (say)\n",
        "\n",
        "# Plot the MSE loss curve\n",
        "plt.plot(y_pred, loss)\n",
        "plt.title('Mean Squared Error (MSE) Loss')\n",
        "plt.xlabel('Predicted Values (y_pred)')\n",
        "plt.ylabel('Loss')\n",
        "plt.grid(True)\n",
        "plt.show()"
      ],
      "metadata": {
        "id": "qXWC71z6eQ5u",
        "outputId": "e6d6f25d-1697-469c-d7bb-dc7f766ba31e",
        "colab": {
          "base_uri": "https://localhost:8080/",
          "height": 472
        }
      },
      "execution_count": null,
      "outputs": [
        {
          "output_type": "display_data",
          "data": {
            "text/plain": [
              "<Figure size 640x480 with 1 Axes>"
            ],
            "image/png": "[encoded data removed]"
          },
          "metadata": {}
        }
      ]
    },
    {
      "cell_type": "markdown",
      "source": [
        "- [...]: This is a list comprehension, which is a concise way to create a new list by iterating over a sequence (in this case, the y_pred values) and performing a specific operation for each element.\n",
        "\n",
        "- The list comprehension loss = [mse_loss(y_true, y) for y in y_pred] iterates over each y value in y_pred, computes the Mean Square Error loss using mse_loss(y_true, y), and stores the results in the loss list."
      ],
      "metadata": {
        "id": "BYuwDOP0rq2H"
      }
    },
    {
      "cell_type": "markdown",
      "source": [
        "##Binary Cross-Entropy Loss Function"
      ],
      "metadata": {
        "id": "Qm2aiHpS075o"
      }
    },
    {
      "cell_type": "markdown",
      "source": [
        "- The Binary Cross-Entropy loss function is commonly used for binary classification problems.\n",
        "- It measures the dissimilarity between the predicted probabilities and the true binary labels.\n",
        "- For a set of m predictions y_pred and corresponding true labels y_true, the Binary Cross-Entropy loss is computed as:\n",
        "\n",
        "\n",
        "$$L_{BCE} = -\\frac{1}{m} \\sum_{i=0}^m(ylog(\\hat{y}) + (1 - y)log(1 - \\hat{y}))$$\n",
        "\n",
        "- The BCE loss penalizes models that have large differences between the predicted probabilities and the true labels.\n",
        "- Minimizing the BCE loss encourages the model to assign higher probabilities to the correct class."
      ],
      "metadata": {
        "id": "t81E3Hmv05Fd"
      }
    },
    {
      "cell_type": "code",
      "source": [
        "def binary_cross_entropy(y_true, y_pred):\n",
        "    return -np.mean(y_true * np.log(y_pred) + (1 - y_true) * np.log(1 - y_pred))\n"
      ],
      "metadata": {
        "id": "JHHWWj8tJA3m"
      },
      "execution_count": null,
      "outputs": []
    },
    {
      "cell_type": "code",
      "source": [
        "y_true = np.array([0, 1, 1])\n",
        "y_pred = np.array([0.3, 0.9, 0.7])\n",
        "loss = binary_cross_entropy(y_true, y_pred)\n",
        "print(loss)"
      ],
      "metadata": {
        "id": "IWIY3R62JSdA"
      },
      "execution_count": null,
      "outputs": []
    },
    {
      "cell_type": "code",
      "source": [
        "# Generate y_true and y_pred values\n",
        "y_true = np.array([1, 0, 1, 0, 1])\n",
        "y_pred = np.linspace(0.01, 0.99, 4)\n",
        "\n",
        "# Compute Cross-Entropy loss for each y_true and y_pred pair\n",
        "loss = [binary_cross_entropy(y_true, y) for y in y_pred]\n",
        "\n",
        "# Plot the Cross-Entropy loss\n",
        "plt.plot(y_pred, loss)\n",
        "plt.title('Cross-Entropy Loss')\n",
        "plt.xlabel('Predicted Probability (y_pred)')\n",
        "plt.ylabel('Loss')\n",
        "plt.grid(True)\n",
        "plt.show()"
      ],
      "metadata": {
        "id": "HNl0oSq0siJq"
      },
      "execution_count": null,
      "outputs": []
    },
    {
      "cell_type": "markdown",
      "source": [
        "##Categorical Cross-Entropy Loss Function"
      ],
      "metadata": {
        "id": "UPy9DUA33E0C"
      }
    },
    {
      "cell_type": "markdown",
      "source": [
        "- The Categorical Cross-Entropy loss function is commonly used for multi-class classification problems.\n",
        "- It measures the dissimilarity between the predicted class probabilities and the true class labels.\n",
        "- For a set of m predictions y_pred and corresponding true labels y_true, the Categorical Cross-Entropy loss is computed as:\n",
        "\n",
        "$$L_{CCE} = -\\frac{1}{m} \\sum (y) log(\\hat{y})$$\n",
        "\n",
        "- The CCE loss penalizes models that have low probabilities for the correct class.\n",
        "- Minimizing the CCE loss encourages the model to assign higher probabilities to the correct classes."
      ],
      "metadata": {
        "id": "IdwKYqBQ3CRU"
      }
    },
    {
      "cell_type": "markdown",
      "source": [
        "##MSE and BCE Loss Comparison"
      ],
      "metadata": {
        "id": "8CGnIap0F4gw"
      }
    },
    {
      "cell_type": "code",
      "source": [
        "yhat=np.linspace(0.01, 0.99, 100)\n",
        "#MSE Loss\n",
        "mse_y_0=np.square(yhat)\n",
        "mse_y_1=np.square(1-yhat)\n",
        "\n",
        "#BCE Loss\n",
        "bce_y_0=-np.log(1 - yhat)\n",
        "bce_y_1=-np.log(yhat)\n",
        "\n",
        "# Plot the loss\n",
        "plt.subplot(1, 1, 1)\n",
        "plt.plot(yhat, mse_y_0)\n",
        "plt.plot(yhat, mse_y_1)\n",
        "plt.title('Loss')\n",
        "plt.xlabel('Predicted Probability (y_pred)')\n",
        "plt.ylabel('Loss')\n",
        "\n",
        "\n",
        "#plt.subplot(1, 2, 2)\n",
        "plt.plot(yhat, bce_y_0)\n",
        "plt.plot(yhat, bce_y_1)\n",
        "\n",
        "plt.legend([\"MSE[y=0]\",\"MSE[y=1]\", \"BCE[y=0]\",\"BCE[y=1]\"])\n",
        "plt.grid(True)\n",
        "\n",
        "plt.show()"
      ],
      "metadata": {
        "id": "WOYXCoOHF_9d",
        "outputId": "394506bf-3902-4794-a7c1-ff2594b85c32",
        "colab": {
          "base_uri": "https://localhost:8080/",
          "height": 472
        }
      },
      "execution_count": null,
      "outputs": [
        {
          "output_type": "display_data",
          "data": {
            "text/plain": [
              "<Figure size 640x480 with 1 Axes>"
            ],
            "image/png": "[encoded data removed]"
          },
          "metadata": {}
        }
      ]
    },
    {
      "cell_type": "markdown",
      "source": [
        "#Linear Algebra Functions"
      ],
      "metadata": {
        "id": "Z0jv6UKmXSOg"
      }
    },
    {
      "cell_type": "markdown",
      "source": [
        "##Normalization"
      ],
      "metadata": {
        "id": "WKbuGqgJuMmE"
      }
    },
    {
      "cell_type": "markdown",
      "metadata": {
        "id": "Z2_PXHnNqKwQ"
      },
      "source": [
        "Row Normalization is done by dividing each element of row of a given vector x by its norm based on row.\n",
        "\n",
        "It is changing x to $ \\frac{x}{\\| x\\|} $.\n",
        "\n",
        "We get a column vector of norm if we take the square root of the sum of squares of each row elements. Then divide each row by its norm to normalize rows.\n",
        "\n",
        "\n",
        "$$\\| x\\| = \\text{np.linalg.norm(x, axis=1, keepdims=True)}$$\n",
        "\n",
        "With `keepdims=True` the result will broadcast correctly against the original x.\n",
        "\n",
        "`axis=1` means you are going to get the norm in a row-wise manner. If you need the norm in a column-wise way, you would need to set `axis=0`."
      ]
    },
    {
      "cell_type": "code",
      "execution_count": null,
      "metadata": {
        "id": "VOg8k8ApqKwQ"
      },
      "outputs": [],
      "source": [
        "x = np.array([[0, 3, 4],[1, 6, 4]])\n",
        "x_norm=np.linalg.norm(x, axis=1, keepdims=True)\n",
        "x=x/x_norm\n",
        "print(\"Norm \", x_norm, \"\\nnormalizeRows(x) = \", x)"
      ]
    },
    {
      "cell_type": "markdown",
      "source": [
        "##Determinant and Inverse"
      ],
      "metadata": {
        "id": "cyISPDyjcX3d"
      }
    },
    {
      "cell_type": "code",
      "source": [
        "x = np.array([[0, 3, 4],[1, 6, 4], [3,2,7]])"
      ],
      "metadata": {
        "id": "i1Ca_l_aZWD6"
      },
      "execution_count": null,
      "outputs": []
    },
    {
      "cell_type": "code",
      "source": [
        "np.linalg.det(x)"
      ],
      "metadata": {
        "id": "mNq-Kf_8ZEAG"
      },
      "execution_count": null,
      "outputs": []
    },
    {
      "cell_type": "code",
      "source": [
        "np.linalg.inv(x)"
      ],
      "metadata": {
        "id": "_-sBiMowZJsS"
      },
      "execution_count": null,
      "outputs": []
    }
  ],
  "metadata": {
    "interpreter": {
      "hash": "aee8b7b246df8f9039afb4144a1f6fd8d2ca17a180786b69acc140d282b71a49"
    },
    "kernelspec": {
      "display_name": "Python 3.7.9 64-bit",
      "language": "python",
      "name": "python3"
    },
    "language_info": {
      "codemirror_mode": {
        "name": "ipython",
        "version": 3
      },
      "file_extension": ".py",
      "mimetype": "text/x-python",
      "name": "python",
      "nbconvert_exporter": "python",
      "pygments_lexer": "ipython3",
      "version": "3.7.9"
    },
    "orig_nbformat": 4,
    "colab": {
      "name": "03numpyFunctions.ipynb",
      "provenance": [],
      "toc_visible": true,
      "include_colab_link": true
    }
  },
  "nbformat": 4,
  "nbformat_minor": 0
}